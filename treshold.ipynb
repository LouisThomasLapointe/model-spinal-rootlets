{
 "cells": [
  {
   "cell_type": "code",
   "execution_count": 2,
   "metadata": {
    "collapsed": true,
    "ExecuteTime": {
     "end_time": "2023-05-18T18:57:13.739839Z",
     "start_time": "2023-05-18T18:57:13.191414Z"
    }
   },
   "outputs": [],
   "source": [
    "import nibabel as nib\n",
    "import numpy as np\n",
    "import matplotlib.pyplot as plt"
   ]
  },
  {
   "cell_type": "code",
   "execution_count": 3,
   "outputs": [],
   "source": [
    "PATH_csf=\"/Users/theomathieu/Documents/Stage/Code/Tuto/modelcsf/pred_masks\"\n",
    "def get_mask_sub(sub, position):\n",
    "    return f\"{PATH_csf}/sub-{sub:03d}_ses-{position}_T2w_class-0_pred.nii.gz\"\n",
    "def get_image(sub,position):\n",
    "    return f\"/Users/theomathieu/Documents/Stage/Code/model-spinal-rootlets/ds004507/sub-{sub:03d}/ses-{position}/anat/sub-{sub:03d}_ses-{position}_T2w.nii.gz\"\n"
   ],
   "metadata": {
    "collapsed": false,
    "ExecuteTime": {
     "end_time": "2023-05-18T18:57:14.398306Z",
     "start_time": "2023-05-18T18:57:14.396650Z"
    }
   }
  },
  {
   "cell_type": "code",
   "execution_count": 65,
   "outputs": [],
   "source": [
    "csf = get_mask_sub(2,\"headNormal\")\n",
    "img = get_image(2,\"headNormal\")\n",
    "csf_nib = nib.load(csf)\n",
    "img_nib = nib.load(img)\n",
    "mask = csf_nib.get_fdata()\n",
    "csf_img = img_nib.get_fdata()\n",
    "ROI = mask*csf_img"
   ],
   "metadata": {
    "collapsed": false,
    "ExecuteTime": {
     "end_time": "2023-05-18T19:45:31.023308Z",
     "start_time": "2023-05-18T19:45:30.829301Z"
    }
   }
  },
  {
   "cell_type": "code",
   "execution_count": null,
   "outputs": [],
   "source": [],
   "metadata": {
    "collapsed": false
   }
  }
 ],
 "metadata": {
  "kernelspec": {
   "display_name": "Python 3",
   "language": "python",
   "name": "python3"
  },
  "language_info": {
   "codemirror_mode": {
    "name": "ipython",
    "version": 2
   },
   "file_extension": ".py",
   "mimetype": "text/x-python",
   "name": "python",
   "nbconvert_exporter": "python",
   "pygments_lexer": "ipython2",
   "version": "2.7.6"
  }
 },
 "nbformat": 4,
 "nbformat_minor": 0
}
