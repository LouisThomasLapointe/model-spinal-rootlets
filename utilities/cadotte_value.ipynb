{
 "cells": [
  {
   "cell_type": "code",
   "execution_count": 162,
   "outputs": [],
   "source": [
    "import pandas as pd\n",
    "import nibabel as nib\n",
    "import os\n",
    "import numpy as np\n",
    "import plotly.express as px\n",
    "import plotly.graph_objects as go"
   ],
   "metadata": {
    "collapsed": false,
    "ExecuteTime": {
     "end_time": "2023-08-14T23:18:05.605138Z",
     "start_time": "2023-08-14T23:18:05.601880Z"
    }
   }
  },
  {
   "cell_type": "code",
   "execution_count": 49,
   "outputs": [],
   "source": [
    "PATH_images = \"/Users/theomathieu/Documents/Stage/results_img/cadotte/new-version-LPI/LPI\"\n",
    "PATH_labels = \"/Users/theomathieu/Documents/Stage/results_img/cadotte/new-version-LPI/extracted_label\""
   ],
   "metadata": {
    "collapsed": false,
    "ExecuteTime": {
     "end_time": "2023-08-14T22:19:27.166307Z",
     "start_time": "2023-08-14T22:19:27.164216Z"
    }
   }
  },
  {
   "cell_type": "code",
   "execution_count": 233,
   "outputs": [],
   "source": [
    "subjects = []\n",
    "for file in os.listdir(PATH_images):\n",
    "    basename = \"_\".join(file.split(\"_\")[:2])\n",
    "    if basename not in subjects:\n",
    "        subjects.append(basename)\n",
    "\n",
    "\n",
    "def get_all_files(subject):\n",
    "    sub_name = subject.split(\"_\")[0]\n",
    "    sub_name = \"sub-\" + sub_name.split(\"-\")[-1]\n",
    "    centerline_path = os.path.join(PATH_images, subject + \"_0000_centerline.csv\")\n",
    "    sc_path = os.path.join(PATH_images, subject + \"_0000_seg.nii.gz\")\n",
    "    pmj_path = os.path.join(PATH_labels, sub_name + \"_T2w_label_pmj.nii.gz\")\n",
    "    path_rootlet = os.path.join(PATH_labels, sub_name + \"_T2w_label_rootlet-bin.nii.gz\")\n",
    "    path_vertebrae = os.path.join(PATH_labels, sub_name + \"_T2w_label_vertebrae.nii.gz\")\n",
    "    return [centerline_path, sc_path, pmj_path, path_rootlet, path_vertebrae]\n",
    "\n",
    "\n",
    "def group_consecutive_elements(input_list):\n",
    "    grouped_list = []\n",
    "    min_max_dir = {}\n",
    "    sublist = []\n",
    "\n",
    "    for i, num in enumerate(input_list):\n",
    "        if i == 0 or num - 1 == input_list[i - 1] or num - 2 == input_list[i - 1]:\n",
    "            sublist.append(num)\n",
    "        else:\n",
    "            grouped_list.append(sublist)\n",
    "            sublist = [num]\n",
    "\n",
    "    if sublist:\n",
    "        grouped_list.append(sublist)\n",
    "\n",
    "    for i, part in enumerate(grouped_list):\n",
    "        min_max_dir[len(grouped_list) - i] = [min(part), max(part), np.mean(part)]\n",
    "\n",
    "    return min_max_dir, grouped_list\n",
    "\n",
    "\n",
    "def get_distance_from_pmj(centerline_points, z_index, px, py, pz):\n",
    "    \"\"\"\n",
    "\n",
    "    \"\"\"\n",
    "    length = 0\n",
    "    arr_length = [0]\n",
    "    for i in range(z_index, 0, -1):\n",
    "        distance = np.sqrt(((centerline_points[i, 0] - centerline_points[i - 1, 0]) * px) ** 2 +\n",
    "                           ((centerline_points[i, 1] - centerline_points[i - 1, 1]) * py) ** 2 +\n",
    "                           ((centerline_points[i, 2] - centerline_points[i - 1, 2]) * pz) ** 2)\n",
    "        length += distance\n",
    "        arr_length.append(length)\n",
    "    arr_length = arr_length[::-1]\n",
    "    arr_length = np.stack((arr_length, centerline_points[:z_index + 1, 2]), axis=0)\n",
    "    return arr_length\n",
    "\n",
    "\n",
    "def get_zoom(path):\n",
    "    img = nib.load(path)\n",
    "    hdr = img.header\n",
    "    px = hdr.get_zooms()[0]\n",
    "    py = hdr.get_zooms()[1]\n",
    "    pz = hdr.get_zooms()[2]\n",
    "    return px, py, pz\n",
    "\n",
    "\n",
    "def get_slices(path):\n",
    "    img = nib.load(path)\n",
    "    all = img.get_fdata()\n",
    "    slices = np.unique(np.where(all > 0)[2])\n",
    "    return slices\n",
    "\n",
    "\n",
    "def get_pmj_position(path_pmj):\n",
    "    \"\"\"\n",
    "    Get the position of the pmj in the image in voxel\n",
    "    Args:\n",
    "        path_pmj (str): Path to the pmj segmentation\n",
    "    Returns:\n",
    "        pmj_position (int): Position of the pmj in the image in voxel\n",
    "    \"\"\"\n",
    "    pmj_img = nib.load(path_pmj).get_fdata()\n",
    "    pmj_position = np.where(pmj_img > 0)\n",
    "    return pmj_position\n"
   ],
   "metadata": {
    "collapsed": false,
    "ExecuteTime": {
     "end_time": "2023-08-15T00:14:06.716960Z",
     "start_time": "2023-08-15T00:14:06.707354Z"
    }
   }
  },
  {
   "cell_type": "code",
   "execution_count": 253,
   "outputs": [
    {
     "name": "stdout",
     "output_type": "stream",
     "text": [
      "['sub-5-13755_009', 'sub-11-14411_013', 'sub-8-14350_011', 'sub-7-14348_003', 'sub-4-13747_010', 'sub-3-13746_012', 'sub-13-14493_008', 'sub-6-13757_004', 'sub-12-14492_007', 'sub-9-14406_001', 'sub-10-14407_000', 'sub-14-14693_002', 'sub-1-13696_006', 'sub-2-13697_005']\n",
      "sub-5-13755_009\n",
      "467\n",
      "sub-11-14411_013\n",
      "474\n",
      "sub-8-14350_011\n",
      "489\n",
      "sub-7-14348_003\n",
      "475\n",
      "sub-4-13747_010\n",
      "476\n",
      "sub-3-13746_012\n",
      "472\n",
      "sub-13-14493_008\n",
      "484\n",
      "sub-6-13757_004\n",
      "469\n",
      "sub-12-14492_007\n",
      "483\n",
      "sub-9-14406_001\n",
      "498\n",
      "sub-10-14407_000\n",
      "495\n",
      "sub-14-14693_002\n",
      "506\n",
      "sub-1-13696_006\n",
      "487\n",
      "sub-2-13697_005\n",
      "452\n"
     ]
    }
   ],
   "source": [
    "print(subjects)\n",
    "df_root = {\"sub_name\": [], \"level\": [], \"PMJ_start\": [], \"PMJ_end\": [], \"slice_s\":[], \"slice_e\":[]}\n",
    "df_ver = {\"sub_name\": [], \"level\": [], \"PMJ_start\": [], \"PMJ_end\": [], \"slice_s\":[], \"slice_e\":[]}\n",
    "\n",
    "for subject in subjects:\n",
    "    print(subject)\n",
    "    centerline_path, sc_path, pmj_path, path_rootlet, path_vertebrae = get_all_files(subject)\n",
    "    px, py, pz = get_zoom(sc_path)\n",
    "    root_grouped, _ = group_consecutive_elements(get_slices(path_rootlet))\n",
    "    vert_grouped, _ = group_consecutive_elements(get_slices(path_vertebrae))\n",
    "    pmj = get_pmj_position(pmj_path)\n",
    "    z_index = min(pmj[2])\n",
    "    print(z_index)\n",
    "    centerline_points = np.genfromtxt(centerline_path,\n",
    "                                      delimiter=',')\n",
    "    arr_length = get_distance_from_pmj(centerline_points, z_index, px, py, pz)\n",
    "    for i, level in enumerate(root_grouped):\n",
    "        value = root_grouped[level]\n",
    "        df_root[\"sub_name\"].append(subject)\n",
    "        df_root[\"level\"].append(level + 2)\n",
    "        df_root[\"PMJ_start\"].append(-arr_length[0][value[1]])\n",
    "        df_root[\"PMJ_end\"].append(-arr_length[0][value[0]])\n",
    "        df_root[\"slice_s\"].append(value[1])\n",
    "        df_root[\"slice_e\"].append(value[0])\n",
    "\n",
    "    level_count = 1\n",
    "    for vertebrae in range(1, len(vert_grouped) // 2 + 1):\n",
    "        start = vertebrae * 2 - 1\n",
    "        end = vertebrae * 2\n",
    "        df_ver[\"sub_name\"].append(subject)\n",
    "        df_ver[\"level\"].append(level_count)\n",
    "        df_ver[\"slice_s\"].append(vert_grouped[start][1])\n",
    "        df_ver[\"slice_e\"].append(vert_grouped[end][0])\n",
    "        df_ver[\"PMJ_start\"].append(-arr_length[0][vert_grouped[start][1]])\n",
    "        df_ver[\"PMJ_end\"].append(-arr_length[0][vert_grouped[end][0]])\n",
    "        level_count += 1\n",
    "\n",
    "df_root_pd = pd.DataFrame(df_root)\n",
    "df_ver_pd = pd.DataFrame(df_ver)"
   ],
   "metadata": {
    "collapsed": false,
    "ExecuteTime": {
     "end_time": "2023-08-15T00:24:53.174211Z",
     "start_time": "2023-08-15T00:24:37.011353Z"
    }
   }
  },
  {
   "cell_type": "code",
   "execution_count": 256,
   "outputs": [],
   "source": [
    "df_root_pd.to_csv(\"/Users/theomathieu/Documents/Stage/Code/model-spinal-rootlets/dataset_creation/cadotte_rootlet_dist.csv\", index=False)\n",
    "df_ver_pd.to_csv(\"/Users/theomathieu/Documents/Stage/Code/model-spinal-rootlets/cadotte_vertebrae_dist.csv\", index= False)"
   ],
   "metadata": {
    "collapsed": false,
    "ExecuteTime": {
     "end_time": "2023-08-15T00:33:39.729821Z",
     "start_time": "2023-08-15T00:33:39.723705Z"
    }
   }
  },
  {
   "cell_type": "code",
   "execution_count": 238,
   "outputs": [
    {
     "name": "stdout",
     "output_type": "stream",
     "text": [
      "what\tLevel\tstart\tend\n",
      "sub-5-13755_009 5\n",
      "root\t9\t-136.92/-145.96\n",
      "root\t8\t-122.71/-132.22\n",
      "root\t7\t-111.82/-120.37\n",
      "root\t6\t-98.63/-106.83\n",
      "root\t5\t-83.46/-93.62\n",
      "root\t4\t-66.08/-75.57\n",
      "root\t3\t-51.12/-61.19\n",
      "vertebrae\t2\t-69.80/-85.81\n",
      "vertebrae\t3\t-96.90/-116.43\n",
      "vertebrae\t4\t-126.92/-132.22\n",
      "sub-11-14411_013 11\n",
      "root\t9\t-131.96/-141.96\n",
      "root\t8\t-120.10/-127.61\n",
      "root\t7\t-107.11/-115.48\n",
      "root\t6\t-92.74/-103.21\n",
      "root\t5\t-78.29/-88.06\n",
      "root\t4\t-61.29/-72.04\n",
      "root\t3\t-46.26/-55.72\n",
      "vertebrae\t2\t-58.17/-74.39\n",
      "vertebrae\t3\t-75.56/-93.92\n",
      "vertebrae\t4\t-105.55/-126.63\n",
      "sub-8-14350_011 8\n",
      "root\t9\t-146.62/-154.76\n",
      "root\t8\t-128.39/-136.59\n",
      "root\t7\t-111.37/-120.17\n",
      "root\t6\t-95.04/-102.27\n",
      "root\t5\t-78.39/-88.87\n",
      "root\t4\t-64.09/-71.34\n",
      "root\t3\t-46.82/-57.72\n",
      "vertebrae\t2\t-64.09/-79.77\n",
      "vertebrae\t3\t-83.39/-97.38\n",
      "vertebrae\t4\t-100.89/-116.06\n",
      "vertebrae\t5\t-119.68/-135.81\n",
      "vertebrae\t6\t-136.98/-153.97\n",
      "sub-7-14348_003 7\n",
      "root\t9\t-132.51/-143.91\n",
      "root\t8\t-122.12/-129.85\n",
      "root\t7\t-110.01/-118.21\n",
      "root\t6\t-95.63/-105.32\n",
      "root\t5\t-83.98/-90.93\n",
      "root\t4\t-66.40/-78.29\n",
      "root\t3\t-49.11/-61.58\n",
      "vertebrae\t2\t-58.93/-72.67\n",
      "vertebrae\t3\t-77.02/-90.54\n",
      "vertebrae\t4\t-93.58/-106.49\n",
      "vertebrae\t5\t-109.23/-121.34\n",
      "vertebrae\t6\t-124.07/-137.90\n",
      "sub-4-13747_010 4\n",
      "root\t9\t-151.81/-160.18\n",
      "root\t8\t-131.75/-144.20\n",
      "root\t7\t-116.07/-123.13\n",
      "root\t6\t-103.08/-111.77\n",
      "root\t5\t-87.36/-98.46\n",
      "root\t4\t-68.21/-80.35\n",
      "root\t3\t-50.82/-61.64\n",
      "vertebrae\t2\t-68.21/-86.86\n",
      "vertebrae\t3\t-89.63/-103.08\n",
      "vertebrae\t4\t-105.01/-121.79\n",
      "vertebrae\t5\t-123.52/-138.31\n",
      "vertebrae\t6\t-140.07/-157.72\n",
      "sub-3-13746_012 3\n",
      "root\t9\t-131.55/-143.50\n",
      "root\t8\t-118.03/-126.55\n",
      "root\t7\t-104.73/-112.64\n",
      "root\t6\t-88.60/-98.28\n",
      "root\t5\t-75.69/-84.59\n",
      "root\t4\t-59.73/-69.52\n",
      "root\t3\t-46.60/-55.91\n",
      "vertebrae\t2\t-61.49/-76.86\n",
      "vertebrae\t3\t-78.81/-96.22\n",
      "vertebrae\t4\t-107.17/-110.69\n",
      "vertebrae\t5\t-122.71/-126.94\n",
      "sub-13-14493_008 13\n",
      "root\t9\t-146.38/-155.11\n",
      "root\t8\t-132.08/-142.17\n",
      "root\t7\t-113.59/-125.90\n",
      "root\t6\t-98.44/-108.41\n",
      "root\t5\t-82.58/-94.43\n",
      "root\t4\t-67.58/-77.59\n",
      "root\t3\t-51.55/-62.68\n",
      "vertebrae\t2\t-84.24/-90.71\n",
      "vertebrae\t3\t-104.79/-110.07\n",
      "vertebrae\t4\t-122.18/-127.46\n",
      "vertebrae\t5\t-141.39/-163.65\n",
      "sub-6-13757_004 6\n",
      "root\t9\t-123.72/-128.90\n",
      "root\t8\t-112.19/-120.39\n",
      "root\t7\t-100.48/-107.50\n",
      "root\t6\t-87.36/-94.13\n",
      "root\t5\t-72.98/-81.98\n",
      "root\t4\t-58.51/-65.64\n",
      "root\t3\t-43.71/-53.50\n",
      "vertebrae\t2\t-58.51/-76.10\n",
      "vertebrae\t3\t-84.13/-88.92\n",
      "vertebrae\t4\t-97.75/-103.19\n",
      "vertebrae\t5\t-113.36/-127.34\n",
      "sub-12-14492_007 12\n",
      "root\t9\t-141.47/-151.53\n",
      "root\t8\t-126.39/-136.11\n",
      "root\t7\t-115.68/-123.27\n",
      "root\t6\t-100.36/-109.65\n",
      "root\t5\t-84.95/-94.79\n",
      "root\t4\t-68.14/-78.86\n",
      "root\t3\t-49.71/-63.23\n",
      "vertebrae\t2\t-83.58/-103.09\n",
      "vertebrae\t3\t-104.26/-122.10\n",
      "vertebrae\t4\t-132.74/-153.79\n",
      "sub-9-14406_001 9\n",
      "root\t9\t-142.28/-150.82\n",
      "root\t8\t-125.24/-135.96\n",
      "root\t7\t-112.76/-122.41\n",
      "root\t6\t-97.98/-107.68\n",
      "root\t5\t-83.68/-92.52\n",
      "root\t4\t-66.63/-76.04\n",
      "root\t3\t-47.88/-61.83\n",
      "vertebrae\t2\t-62.81/-84.08\n",
      "vertebrae\t3\t-97.59/-120.46\n",
      "vertebrae\t4\t-132.79/-139.00\n",
      "sub-10-14407_000 10\n",
      "root\t9\t-139.14/-147.75\n",
      "root\t8\t-125.07/-132.10\n",
      "root\t7\t-112.95/-121.46\n",
      "root\t6\t-96.86/-108.35\n",
      "root\t5\t-83.18/-92.07\n",
      "root\t4\t-68.34/-77.40\n",
      "root\t3\t-48.26/-63.94\n",
      "vertebrae\t2\t-63.55/-78.57\n",
      "vertebrae\t3\t-81.61/-94.81\n",
      "vertebrae\t4\t-98.63/-111.96\n",
      "vertebrae\t5\t-115.68/-128.59\n",
      "vertebrae\t6\t-131.71/-148.53\n",
      "sub-14-14693_002 14\n",
      "root\t9\t-136.95/-143.47\n",
      "root\t8\t-121.26/-129.78\n",
      "root\t7\t-106.90/-115.11\n",
      "root\t6\t-91.37/-101.44\n",
      "root\t5\t-75.50/-86.97\n",
      "root\t4\t-60.80/-70.32\n",
      "root\t3\t-43.15/-55.80\n",
      "vertebrae\t2\t-66.57/-73.94\n",
      "vertebrae\t3\t-85.10/-103.00\n",
      "vertebrae\t4\t-105.34/-119.30\n",
      "vertebrae\t5\t-120.86/-137.34\n",
      "sub-1-13696_006 1\n",
      "root\t9\t-148.49/-162.22\n",
      "root\t8\t-135.67/-143.50\n",
      "root\t7\t-118.96/-129.03\n",
      "root\t6\t-102.15/-112.32\n",
      "root\t5\t-87.00/-97.85\n",
      "root\t4\t-69.16/-78.10\n",
      "root\t3\t-50.69/-64.17\n",
      "vertebrae\t2\t-69.95/-87.39\n",
      "vertebrae\t3\t-88.56/-105.66\n",
      "vertebrae\t4\t-108.70/-124.04\n",
      "vertebrae\t5\t-125.21/-141.44\n",
      "vertebrae\t6\t-143.11/-162.22\n",
      "sub-2-13697_005 2\n",
      "root\t9\t-138.20/-146.35\n",
      "root\t8\t-124.67/-134.76\n",
      "root\t7\t-112.72/-123.19\n",
      "root\t6\t-101.39/-109.20\n",
      "root\t5\t-85.83/-93.66\n",
      "root\t4\t-67.66/-77.09\n",
      "root\t3\t-49.04/-60.29\n",
      "vertebrae\t2\t-62.16/-78.07\n",
      "vertebrae\t3\t-79.84/-97.48\n",
      "vertebrae\t4\t-100.61/-115.47\n",
      "vertebrae\t5\t-117.42/-131.28\n",
      "vertebrae\t6\t-134.76/-152.75\n"
     ]
    },
    {
     "data": {
      "application/vnd.plotly.v1+json": {
       "data": [],
       "layout": {
        "template": {
         "data": {
          "histogram2dcontour": [
           {
            "type": "histogram2dcontour",
            "colorbar": {
             "outlinewidth": 0,
             "ticks": ""
            },
            "colorscale": [
             [
              0.0,
              "#0d0887"
             ],
             [
              0.1111111111111111,
              "#46039f"
             ],
             [
              0.2222222222222222,
              "#7201a8"
             ],
             [
              0.3333333333333333,
              "#9c179e"
             ],
             [
              0.4444444444444444,
              "#bd3786"
             ],
             [
              0.5555555555555556,
              "#d8576b"
             ],
             [
              0.6666666666666666,
              "#ed7953"
             ],
             [
              0.7777777777777778,
              "#fb9f3a"
             ],
             [
              0.8888888888888888,
              "#fdca26"
             ],
             [
              1.0,
              "#f0f921"
             ]
            ]
           }
          ],
          "choropleth": [
           {
            "type": "choropleth",
            "colorbar": {
             "outlinewidth": 0,
             "ticks": ""
            }
           }
          ],
          "histogram2d": [
           {
            "type": "histogram2d",
            "colorbar": {
             "outlinewidth": 0,
             "ticks": ""
            },
            "colorscale": [
             [
              0.0,
              "#0d0887"
             ],
             [
              0.1111111111111111,
              "#46039f"
             ],
             [
              0.2222222222222222,
              "#7201a8"
             ],
             [
              0.3333333333333333,
              "#9c179e"
             ],
             [
              0.4444444444444444,
              "#bd3786"
             ],
             [
              0.5555555555555556,
              "#d8576b"
             ],
             [
              0.6666666666666666,
              "#ed7953"
             ],
             [
              0.7777777777777778,
              "#fb9f3a"
             ],
             [
              0.8888888888888888,
              "#fdca26"
             ],
             [
              1.0,
              "#f0f921"
             ]
            ]
           }
          ],
          "heatmap": [
           {
            "type": "heatmap",
            "colorbar": {
             "outlinewidth": 0,
             "ticks": ""
            },
            "colorscale": [
             [
              0.0,
              "#0d0887"
             ],
             [
              0.1111111111111111,
              "#46039f"
             ],
             [
              0.2222222222222222,
              "#7201a8"
             ],
             [
              0.3333333333333333,
              "#9c179e"
             ],
             [
              0.4444444444444444,
              "#bd3786"
             ],
             [
              0.5555555555555556,
              "#d8576b"
             ],
             [
              0.6666666666666666,
              "#ed7953"
             ],
             [
              0.7777777777777778,
              "#fb9f3a"
             ],
             [
              0.8888888888888888,
              "#fdca26"
             ],
             [
              1.0,
              "#f0f921"
             ]
            ]
           }
          ],
          "heatmapgl": [
           {
            "type": "heatmapgl",
            "colorbar": {
             "outlinewidth": 0,
             "ticks": ""
            },
            "colorscale": [
             [
              0.0,
              "#0d0887"
             ],
             [
              0.1111111111111111,
              "#46039f"
             ],
             [
              0.2222222222222222,
              "#7201a8"
             ],
             [
              0.3333333333333333,
              "#9c179e"
             ],
             [
              0.4444444444444444,
              "#bd3786"
             ],
             [
              0.5555555555555556,
              "#d8576b"
             ],
             [
              0.6666666666666666,
              "#ed7953"
             ],
             [
              0.7777777777777778,
              "#fb9f3a"
             ],
             [
              0.8888888888888888,
              "#fdca26"
             ],
             [
              1.0,
              "#f0f921"
             ]
            ]
           }
          ],
          "contourcarpet": [
           {
            "type": "contourcarpet",
            "colorbar": {
             "outlinewidth": 0,
             "ticks": ""
            }
           }
          ],
          "contour": [
           {
            "type": "contour",
            "colorbar": {
             "outlinewidth": 0,
             "ticks": ""
            },
            "colorscale": [
             [
              0.0,
              "#0d0887"
             ],
             [
              0.1111111111111111,
              "#46039f"
             ],
             [
              0.2222222222222222,
              "#7201a8"
             ],
             [
              0.3333333333333333,
              "#9c179e"
             ],
             [
              0.4444444444444444,
              "#bd3786"
             ],
             [
              0.5555555555555556,
              "#d8576b"
             ],
             [
              0.6666666666666666,
              "#ed7953"
             ],
             [
              0.7777777777777778,
              "#fb9f3a"
             ],
             [
              0.8888888888888888,
              "#fdca26"
             ],
             [
              1.0,
              "#f0f921"
             ]
            ]
           }
          ],
          "surface": [
           {
            "type": "surface",
            "colorbar": {
             "outlinewidth": 0,
             "ticks": ""
            },
            "colorscale": [
             [
              0.0,
              "#0d0887"
             ],
             [
              0.1111111111111111,
              "#46039f"
             ],
             [
              0.2222222222222222,
              "#7201a8"
             ],
             [
              0.3333333333333333,
              "#9c179e"
             ],
             [
              0.4444444444444444,
              "#bd3786"
             ],
             [
              0.5555555555555556,
              "#d8576b"
             ],
             [
              0.6666666666666666,
              "#ed7953"
             ],
             [
              0.7777777777777778,
              "#fb9f3a"
             ],
             [
              0.8888888888888888,
              "#fdca26"
             ],
             [
              1.0,
              "#f0f921"
             ]
            ]
           }
          ],
          "mesh3d": [
           {
            "type": "mesh3d",
            "colorbar": {
             "outlinewidth": 0,
             "ticks": ""
            }
           }
          ],
          "scatter": [
           {
            "fillpattern": {
             "fillmode": "overlay",
             "size": 10,
             "solidity": 0.2
            },
            "type": "scatter"
           }
          ],
          "parcoords": [
           {
            "type": "parcoords",
            "line": {
             "colorbar": {
              "outlinewidth": 0,
              "ticks": ""
             }
            }
           }
          ],
          "scatterpolargl": [
           {
            "type": "scatterpolargl",
            "marker": {
             "colorbar": {
              "outlinewidth": 0,
              "ticks": ""
             }
            }
           }
          ],
          "bar": [
           {
            "error_x": {
             "color": "#2a3f5f"
            },
            "error_y": {
             "color": "#2a3f5f"
            },
            "marker": {
             "line": {
              "color": "#E5ECF6",
              "width": 0.5
             },
             "pattern": {
              "fillmode": "overlay",
              "size": 10,
              "solidity": 0.2
             }
            },
            "type": "bar"
           }
          ],
          "scattergeo": [
           {
            "type": "scattergeo",
            "marker": {
             "colorbar": {
              "outlinewidth": 0,
              "ticks": ""
             }
            }
           }
          ],
          "scatterpolar": [
           {
            "type": "scatterpolar",
            "marker": {
             "colorbar": {
              "outlinewidth": 0,
              "ticks": ""
             }
            }
           }
          ],
          "histogram": [
           {
            "marker": {
             "pattern": {
              "fillmode": "overlay",
              "size": 10,
              "solidity": 0.2
             }
            },
            "type": "histogram"
           }
          ],
          "scattergl": [
           {
            "type": "scattergl",
            "marker": {
             "colorbar": {
              "outlinewidth": 0,
              "ticks": ""
             }
            }
           }
          ],
          "scatter3d": [
           {
            "type": "scatter3d",
            "line": {
             "colorbar": {
              "outlinewidth": 0,
              "ticks": ""
             }
            },
            "marker": {
             "colorbar": {
              "outlinewidth": 0,
              "ticks": ""
             }
            }
           }
          ],
          "scattermapbox": [
           {
            "type": "scattermapbox",
            "marker": {
             "colorbar": {
              "outlinewidth": 0,
              "ticks": ""
             }
            }
           }
          ],
          "scatterternary": [
           {
            "type": "scatterternary",
            "marker": {
             "colorbar": {
              "outlinewidth": 0,
              "ticks": ""
             }
            }
           }
          ],
          "scattercarpet": [
           {
            "type": "scattercarpet",
            "marker": {
             "colorbar": {
              "outlinewidth": 0,
              "ticks": ""
             }
            }
           }
          ],
          "carpet": [
           {
            "aaxis": {
             "endlinecolor": "#2a3f5f",
             "gridcolor": "white",
             "linecolor": "white",
             "minorgridcolor": "white",
             "startlinecolor": "#2a3f5f"
            },
            "baxis": {
             "endlinecolor": "#2a3f5f",
             "gridcolor": "white",
             "linecolor": "white",
             "minorgridcolor": "white",
             "startlinecolor": "#2a3f5f"
            },
            "type": "carpet"
           }
          ],
          "table": [
           {
            "cells": {
             "fill": {
              "color": "#EBF0F8"
             },
             "line": {
              "color": "white"
             }
            },
            "header": {
             "fill": {
              "color": "#C8D4E3"
             },
             "line": {
              "color": "white"
             }
            },
            "type": "table"
           }
          ],
          "barpolar": [
           {
            "marker": {
             "line": {
              "color": "#E5ECF6",
              "width": 0.5
             },
             "pattern": {
              "fillmode": "overlay",
              "size": 10,
              "solidity": 0.2
             }
            },
            "type": "barpolar"
           }
          ],
          "pie": [
           {
            "automargin": true,
            "type": "pie"
           }
          ]
         },
         "layout": {
          "autotypenumbers": "strict",
          "colorway": [
           "#636efa",
           "#EF553B",
           "#00cc96",
           "#ab63fa",
           "#FFA15A",
           "#19d3f3",
           "#FF6692",
           "#B6E880",
           "#FF97FF",
           "#FECB52"
          ],
          "font": {
           "color": "#2a3f5f"
          },
          "hovermode": "closest",
          "hoverlabel": {
           "align": "left"
          },
          "paper_bgcolor": "white",
          "plot_bgcolor": "#E5ECF6",
          "polar": {
           "bgcolor": "#E5ECF6",
           "angularaxis": {
            "gridcolor": "white",
            "linecolor": "white",
            "ticks": ""
           },
           "radialaxis": {
            "gridcolor": "white",
            "linecolor": "white",
            "ticks": ""
           }
          },
          "ternary": {
           "bgcolor": "#E5ECF6",
           "aaxis": {
            "gridcolor": "white",
            "linecolor": "white",
            "ticks": ""
           },
           "baxis": {
            "gridcolor": "white",
            "linecolor": "white",
            "ticks": ""
           },
           "caxis": {
            "gridcolor": "white",
            "linecolor": "white",
            "ticks": ""
           }
          },
          "coloraxis": {
           "colorbar": {
            "outlinewidth": 0,
            "ticks": ""
           }
          },
          "colorscale": {
           "sequential": [
            [
             0.0,
             "#0d0887"
            ],
            [
             0.1111111111111111,
             "#46039f"
            ],
            [
             0.2222222222222222,
             "#7201a8"
            ],
            [
             0.3333333333333333,
             "#9c179e"
            ],
            [
             0.4444444444444444,
             "#bd3786"
            ],
            [
             0.5555555555555556,
             "#d8576b"
            ],
            [
             0.6666666666666666,
             "#ed7953"
            ],
            [
             0.7777777777777778,
             "#fb9f3a"
            ],
            [
             0.8888888888888888,
             "#fdca26"
            ],
            [
             1.0,
             "#f0f921"
            ]
           ],
           "sequentialminus": [
            [
             0.0,
             "#0d0887"
            ],
            [
             0.1111111111111111,
             "#46039f"
            ],
            [
             0.2222222222222222,
             "#7201a8"
            ],
            [
             0.3333333333333333,
             "#9c179e"
            ],
            [
             0.4444444444444444,
             "#bd3786"
            ],
            [
             0.5555555555555556,
             "#d8576b"
            ],
            [
             0.6666666666666666,
             "#ed7953"
            ],
            [
             0.7777777777777778,
             "#fb9f3a"
            ],
            [
             0.8888888888888888,
             "#fdca26"
            ],
            [
             1.0,
             "#f0f921"
            ]
           ],
           "diverging": [
            [
             0,
             "#8e0152"
            ],
            [
             0.1,
             "#c51b7d"
            ],
            [
             0.2,
             "#de77ae"
            ],
            [
             0.3,
             "#f1b6da"
            ],
            [
             0.4,
             "#fde0ef"
            ],
            [
             0.5,
             "#f7f7f7"
            ],
            [
             0.6,
             "#e6f5d0"
            ],
            [
             0.7,
             "#b8e186"
            ],
            [
             0.8,
             "#7fbc41"
            ],
            [
             0.9,
             "#4d9221"
            ],
            [
             1,
             "#276419"
            ]
           ]
          },
          "xaxis": {
           "gridcolor": "white",
           "linecolor": "white",
           "ticks": "",
           "title": {
            "standoff": 15
           },
           "zerolinecolor": "white",
           "automargin": true,
           "zerolinewidth": 2
          },
          "yaxis": {
           "gridcolor": "white",
           "linecolor": "white",
           "ticks": "",
           "title": {
            "standoff": 15
           },
           "zerolinecolor": "white",
           "automargin": true,
           "zerolinewidth": 2
          },
          "scene": {
           "xaxis": {
            "backgroundcolor": "#E5ECF6",
            "gridcolor": "white",
            "linecolor": "white",
            "showbackground": true,
            "ticks": "",
            "zerolinecolor": "white",
            "gridwidth": 2
           },
           "yaxis": {
            "backgroundcolor": "#E5ECF6",
            "gridcolor": "white",
            "linecolor": "white",
            "showbackground": true,
            "ticks": "",
            "zerolinecolor": "white",
            "gridwidth": 2
           },
           "zaxis": {
            "backgroundcolor": "#E5ECF6",
            "gridcolor": "white",
            "linecolor": "white",
            "showbackground": true,
            "ticks": "",
            "zerolinecolor": "white",
            "gridwidth": 2
           }
          },
          "shapedefaults": {
           "line": {
            "color": "#2a3f5f"
           }
          },
          "annotationdefaults": {
           "arrowcolor": "#2a3f5f",
           "arrowhead": 0,
           "arrowwidth": 1
          },
          "geo": {
           "bgcolor": "white",
           "landcolor": "#E5ECF6",
           "subunitcolor": "white",
           "showland": true,
           "showlakes": true,
           "lakecolor": "white"
          },
          "title": {
           "x": 0.05
          },
          "mapbox": {
           "style": "light"
          }
         }
        },
        "shapes": [
         {
          "fillcolor": "#C16200",
          "line": {
           "color": "#C16200",
           "width": 2
          },
          "name": "Predicted 9",
          "type": "rect",
          "x0": 4.825,
          "x1": 4.575,
          "y0": -145.9590672204873,
          "y1": -136.92470256317378
         },
         {
          "fillcolor": "#738282",
          "line": {
           "color": "#738282",
           "width": 2
          },
          "name": "Predicted 8",
          "type": "rect",
          "x0": 4.825,
          "x1": 4.575,
          "y0": -132.22064769537937,
          "y1": -122.71067423143361
         },
         {
          "fillcolor": "#E1E074",
          "line": {
           "color": "#E1E074",
           "width": 2
          },
          "name": "Predicted 7",
          "type": "rect",
          "x0": 4.825,
          "x1": 4.575,
          "y0": -120.36707425632451,
          "y1": -111.8240357943773
         },
         {
          "fillcolor": "#D682C6",
          "line": {
           "color": "#D682C6",
           "width": 2
          },
          "name": "Predicted 6",
          "type": "rect",
          "x0": 4.825,
          "x1": 4.575,
          "y0": -106.8312446590883,
          "y1": -98.62864474620645
         },
         {
          "fillcolor": "#64DEDC",
          "line": {
           "color": "#64DEDC",
           "width": 2
          },
          "name": "Predicted 5",
          "type": "rect",
          "x0": 4.825,
          "x1": 4.575,
          "y0": -93.61786116449909,
          "y1": -83.46226127235965
         },
         {
          "fillcolor": "#FF707D",
          "line": {
           "color": "#FF707D",
           "width": 2
          },
          "name": "Predicted 4",
          "type": "rect",
          "x0": 4.825,
          "x1": 4.575,
          "y0": -75.57347835036546,
          "y1": -66.08035980399592
         },
         {
          "fillcolor": "#5CC878",
          "line": {
           "color": "#5CC878",
           "width": 2
          },
          "name": "Predicted 3",
          "type": "rect",
          "x0": 4.825,
          "x1": 4.575,
          "y0": -61.189432397063854,
          "y1": -51.11884131570512
         },
         {
          "fillcolor": "#F4F4CC",
          "line": {
           "color": "grey",
           "width": 1
          },
          "name": "Cadotte 2",
          "type": "rect",
          "x0": 5.125,
          "x1": 4.875,
          "y0": -69.79948722337343,
          "y1": -85.80586124746875
         },
         {
          "fillcolor": "#F4F4CC",
          "line": {
           "color": "grey",
           "width": 1
          },
          "name": "Cadotte 3",
          "type": "rect",
          "x0": 5.125,
          "x1": 4.875,
          "y0": -96.9044529470558,
          "y1": -116.42622693381477
         },
         {
          "fillcolor": "#F4F4CC",
          "line": {
           "color": "grey",
           "width": 1
          },
          "name": "Cadotte 4",
          "type": "rect",
          "x0": 5.125,
          "x1": 4.875,
          "y0": -126.92226537501958,
          "y1": -132.22064769537937
         },
         {
          "fillcolor": "#C16200",
          "line": {
           "color": "#C16200",
           "width": 2
          },
          "name": "Predicted 9",
          "type": "rect",
          "x0": 10.825,
          "x1": 10.575,
          "y0": -141.9628239151473,
          "y1": -131.95979178130133
         },
         {
          "fillcolor": "#738282",
          "line": {
           "color": "#738282",
           "width": 2
          },
          "name": "Predicted 8",
          "type": "rect",
          "x0": 10.825,
          "x1": 10.575,
          "y0": -127.61193782890349,
          "y1": -120.09648345699985
         },
         {
          "fillcolor": "#E1E074",
          "line": {
           "color": "#E1E074",
           "width": 2
          },
          "name": "Predicted 7",
          "type": "rect",
          "x0": 10.825,
          "x1": 10.575,
          "y0": -115.47630001292434,
          "y1": -107.11190881712407
         },
         {
          "fillcolor": "#D682C6",
          "line": {
           "color": "#D682C6",
           "width": 2
          },
          "name": "Predicted 6",
          "type": "rect",
          "x0": 10.825,
          "x1": 10.575,
          "y0": -103.20590915663213,
          "y1": -92.74454016493873
         },
         {
          "fillcolor": "#64DEDC",
          "line": {
           "color": "#64DEDC",
           "width": 2
          },
          "name": "Predicted 5",
          "type": "rect",
          "x0": 10.825,
          "x1": 10.575,
          "y0": -88.0573405723484,
          "y1": -78.29234142111854
         },
         {
          "fillcolor": "#FF707D",
          "line": {
           "color": "#FF707D",
           "width": 2
          },
          "name": "Predicted 4",
          "type": "rect",
          "x0": 10.825,
          "x1": 10.575,
          "y0": -72.04274196433143,
          "y1": -61.292696298060285
         },
         {
          "fillcolor": "#5CC878",
          "line": {
           "color": "#5CC878",
           "width": 2
          },
          "name": "Predicted 3",
          "type": "rect",
          "x0": 10.825,
          "x1": 10.575,
          "y0": -55.72237348190012,
          "y1": -46.26181282790614
         },
         {
          "fillcolor": "#F4F4CC",
          "line": {
           "color": "grey",
           "width": 1
          },
          "name": "Cadotte 2",
          "type": "rect",
          "x0": 11.125,
          "x1": 10.875,
          "y0": -58.16789656966673,
          "y1": -74.38634176062659
         },
         {
          "fillcolor": "#F4F4CC",
          "line": {
           "color": "grey",
           "width": 1
          },
          "name": "Cadotte 3",
          "type": "rect",
          "x0": 11.125,
          "x1": 10.875,
          "y0": -75.55814165877418,
          "y1": -93.91634006308631
         },
         {
          "fillcolor": "#F4F4CC",
          "line": {
           "color": "grey",
           "width": 1
          },
          "name": "Cadotte 4",
          "type": "rect",
          "x0": 11.125,
          "x1": 10.875,
          "y0": -105.5495089529273,
          "y1": -126.6268913138622
         },
         {
          "fillcolor": "#C16200",
          "line": {
           "color": "#C16200",
           "width": 2
          },
          "name": "Predicted 9",
          "type": "rect",
          "x0": 7.825,
          "x1": 7.575,
          "y0": -154.75549192536542,
          "y1": -146.61990544175583
         },
         {
          "fillcolor": "#738282",
          "line": {
           "color": "#738282",
           "width": 2
          },
          "name": "Predicted 8",
          "type": "rect",
          "x0": 7.825,
          "x1": 7.575,
          "y0": -136.59123847032382,
          "y1": -128.3886354281981
         },
         {
          "fillcolor": "#E1E074",
          "line": {
           "color": "#E1E074",
           "width": 2
          },
          "name": "Predicted 7",
          "type": "rect",
          "x0": 7.825,
          "x1": 7.575,
          "y0": -120.16914630421441,
          "y1": -111.37220000386502
         },
         {
          "fillcolor": "#D682C6",
          "line": {
           "color": "#D682C6",
           "width": 2
          },
          "name": "Predicted 6",
          "type": "rect",
          "x0": 7.825,
          "x1": 7.575,
          "y0": -102.26963903347479,
          "y1": -95.03509331257791
         },
         {
          "fillcolor": "#64DEDC",
          "line": {
           "color": "#64DEDC",
           "width": 2
          },
          "name": "Predicted 5",
          "type": "rect",
          "x0": 7.825,
          "x1": 7.575,
          "y0": -88.87047646959014,
          "y1": -78.39237195124997
         },
         {
          "fillcolor": "#FF707D",
          "line": {
           "color": "#FF707D",
           "width": 2
          },
          "name": "Predicted 4",
          "type": "rect",
          "x0": 7.825,
          "x1": 7.575,
          "y0": -71.34468326185566,
          "y1": -64.0932514591008
         },
         {
          "fillcolor": "#5CC878",
          "line": {
           "color": "#5CC878",
           "width": 2
          },
          "name": "Predicted 3",
          "type": "rect",
          "x0": 7.825,
          "x1": 7.575,
          "y0": -57.72489150275247,
          "y1": -46.82241467583319
         },
         {
          "fillcolor": "#F4F4CC",
          "line": {
           "color": "grey",
           "width": 1
          },
          "name": "Cadotte 2",
          "type": "rect",
          "x0": 8.125,
          "x1": 7.875,
          "y0": -64.0932514591008,
          "y1": -79.76791549919992
         },
         {
          "fillcolor": "#F4F4CC",
          "line": {
           "color": "grey",
           "width": 1
          },
          "name": "Cadotte 3",
          "type": "rect",
          "x0": 8.125,
          "x1": 7.875,
          "y0": -83.38518835964835,
          "y1": -97.37869418175669
         },
         {
          "fillcolor": "#F4F4CC",
          "line": {
           "color": "grey",
           "width": 1
          },
          "name": "Cadotte 4",
          "type": "rect",
          "x0": 8.125,
          "x1": 7.875,
          "y0": -100.89409548552484,
          "y1": -116.05940174222256
         },
         {
          "fillcolor": "#F4F4CC",
          "line": {
           "color": "grey",
           "width": 1
          },
          "name": "Cadotte 5",
          "type": "rect",
          "x0": 8.125,
          "x1": 7.875,
          "y0": -119.676674602671,
          "y1": -135.81003818059756
         },
         {
          "fillcolor": "#F4F4CC",
          "line": {
           "color": "grey",
           "width": 1
          },
          "name": "Cadotte 6",
          "type": "rect",
          "x0": 8.125,
          "x1": 7.875,
          "y0": -136.98183861518694,
          "y1": -153.97429163563916
         },
         {
          "fillcolor": "#C16200",
          "line": {
           "color": "#C16200",
           "width": 2
          },
          "name": "Predicted 9",
          "type": "rect",
          "x0": 6.825,
          "x1": 6.575,
          "y0": -143.90977935928592,
          "y1": -132.513150737898
         },
         {
          "fillcolor": "#738282",
          "line": {
           "color": "#738282",
           "width": 2
          },
          "name": "Predicted 8",
          "type": "rect",
          "x0": 6.825,
          "x1": 6.575,
          "y0": -129.84596810666784,
          "y1": -122.11875466558976
         },
         {
          "fillcolor": "#E1E074",
          "line": {
           "color": "#E1E074",
           "width": 2
          },
          "name": "Predicted 7",
          "type": "rect",
          "x0": 6.825,
          "x1": 6.575,
          "y0": -118.21275619719071,
          "y1": -110.01015941355271
         },
         {
          "fillcolor": "#D682C6",
          "line": {
           "color": "#D682C6",
           "width": 2
          },
          "name": "Predicted 6",
          "type": "rect",
          "x0": 6.825,
          "x1": 6.575,
          "y0": -105.32296125147386,
          "y1": -95.63275659347008
         },
         {
          "fillcolor": "#64DEDC",
          "line": {
           "color": "#64DEDC",
           "width": 2
          },
          "name": "Predicted 5",
          "type": "rect",
          "x0": 6.825,
          "x1": 6.575,
          "y0": -90.92840314340461,
          "y1": -83.98238939600634
         },
         {
          "fillcolor": "#FF707D",
          "line": {
           "color": "#FF707D",
           "width": 2
          },
          "name": "Predicted 4",
          "type": "rect",
          "x0": 6.825,
          "x1": 6.575,
          "y0": -78.2929586848478,
          "y1": -66.40457176229388
         },
         {
          "fillcolor": "#5CC878",
          "line": {
           "color": "#5CC878",
           "width": 2
          },
          "name": "Predicted 3",
          "type": "rect",
          "x0": 6.825,
          "x1": 6.575,
          "y0": -61.58051232945094,
          "y1": -49.11463486233428
         },
         {
          "fillcolor": "#F4F4CC",
          "line": {
           "color": "grey",
           "width": 1
          },
          "name": "Cadotte 2",
          "type": "rect",
          "x0": 7.125,
          "x1": 6.875,
          "y0": -58.931096897291646,
          "y1": -72.67132459971897
         },
         {
          "fillcolor": "#F4F4CC",
          "line": {
           "color": "grey",
           "width": 1
          },
          "name": "Cadotte 3",
          "type": "rect",
          "x0": 7.125,
          "x1": 6.875,
          "y0": -77.01922036062146,
          "y1": -90.5378032965647
         },
         {
          "fillcolor": "#F4F4CC",
          "line": {
           "color": "grey",
           "width": 1
          },
          "name": "Cadotte 4",
          "type": "rect",
          "x0": 7.125,
          "x1": 6.875,
          "y0": -93.57781857556392,
          "y1": -106.49476079199357
         },
         {
          "fillcolor": "#F4F4CC",
          "line": {
           "color": "grey",
           "width": 1
          },
          "name": "Cadotte 5",
          "type": "rect",
          "x0": 7.125,
          "x1": 6.875,
          "y0": -109.2289597198729,
          "y1": -121.33755497190995
         },
         {
          "fillcolor": "#F4F4CC",
          "line": {
           "color": "grey",
           "width": 1
          },
          "name": "Cadotte 6",
          "type": "rect",
          "x0": 7.125,
          "x1": 6.875,
          "y0": -124.07175389978929,
          "y1": -137.89676509793665
         },
         {
          "fillcolor": "#C16200",
          "line": {
           "color": "#C16200",
           "width": 2
          },
          "name": "Predicted 9",
          "type": "rect",
          "x0": 3.825,
          "x1": 3.575,
          "y0": -160.1796028981018,
          "y1": -151.80807428854723
         },
         {
          "fillcolor": "#738282",
          "line": {
           "color": "#738282",
           "width": 2
          },
          "name": "Predicted 8",
          "type": "rect",
          "x0": 3.825,
          "x1": 3.575,
          "y0": -144.20025846199007,
          "y1": -131.75236987521964
         },
         {
          "fillcolor": "#E1E074",
          "line": {
           "color": "#E1E074",
           "width": 2
          },
          "name": "Predicted 7",
          "type": "rect",
          "x0": 3.825,
          "x1": 3.575,
          "y0": -123.1256277651727,
          "y1": -116.06706951384379
         },
         {
          "fillcolor": "#D682C6",
          "line": {
           "color": "#D682C6",
           "width": 2
          },
          "name": "Predicted 6",
          "type": "rect",
          "x0": 3.825,
          "x1": 3.575,
          "y0": -111.7704702151282,
          "y1": -103.08377917394414
         },
         {
          "fillcolor": "#64DEDC",
          "line": {
           "color": "#64DEDC",
           "width": 2
          },
          "name": "Predicted 5",
          "type": "rect",
          "x0": 3.825,
          "x1": 3.575,
          "y0": -98.46359616667696,
          "y1": -87.35658482056668
         },
         {
          "fillcolor": "#FF707D",
          "line": {
           "color": "#FF707D",
           "width": 2
          },
          "name": "Predicted 4",
          "type": "rect",
          "x0": 3.825,
          "x1": 3.575,
          "y0": -80.3506899227311,
          "y1": -68.20833010537672
         },
         {
          "fillcolor": "#5CC878",
          "line": {
           "color": "#5CC878",
           "width": 2
          },
          "name": "Predicted 3",
          "type": "rect",
          "x0": 3.825,
          "x1": 3.575,
          "y0": -61.63643059970281,
          "y1": -50.81945944952833
         },
         {
          "fillcolor": "#F4F4CC",
          "line": {
           "color": "grey",
           "width": 1
          },
          "name": "Cadotte 2",
          "type": "rect",
          "x0": 4.125,
          "x1": 3.875,
          "y0": -68.20833010537672,
          "y1": -86.86414196118112
         },
         {
          "fillcolor": "#F4F4CC",
          "line": {
           "color": "grey",
           "width": 1
          },
          "name": "Cadotte 3",
          "type": "rect",
          "x0": 4.125,
          "x1": 3.875,
          "y0": -89.63316821035262,
          "y1": -103.08377917394414
         },
         {
          "fillcolor": "#F4F4CC",
          "line": {
           "color": "grey",
           "width": 1
          },
          "name": "Cadotte 4",
          "type": "rect",
          "x0": 4.125,
          "x1": 3.875,
          "y0": -105.0116566194848,
          "y1": -121.79203610215629
         },
         {
          "fillcolor": "#F4F4CC",
          "line": {
           "color": "grey",
           "width": 1
          },
          "name": "Cadotte 5",
          "type": "rect",
          "x0": 4.125,
          "x1": 3.875,
          "y0": -123.51622770141957,
          "y1": -138.30771590567122
         },
         {
          "fillcolor": "#F4F4CC",
          "line": {
           "color": "grey",
           "width": 1
          },
          "name": "Cadotte 6",
          "type": "rect",
          "x0": 4.125,
          "x1": 3.875,
          "y0": -140.07380149693608,
          "y1": -157.71738860117398
         },
         {
          "fillcolor": "#C16200",
          "line": {
           "color": "#C16200",
           "width": 2
          },
          "name": "Predicted 9",
          "type": "rect",
          "x0": 2.825,
          "x1": 2.575,
          "y0": -143.50078158723773,
          "y1": -131.54515115489863
         },
         {
          "fillcolor": "#738282",
          "line": {
           "color": "#738282",
           "width": 2
          },
          "name": "Predicted 8",
          "type": "rect",
          "x0": 2.825,
          "x1": 2.575,
          "y0": -126.55230171826638,
          "y1": -118.02611664375031
         },
         {
          "fillcolor": "#E1E074",
          "line": {
           "color": "#E1E074",
           "width": 2
          },
          "name": "Predicted 7",
          "type": "rect",
          "x0": 2.825,
          "x1": 2.575,
          "y0": -112.64266712185956,
          "y1": -104.72878261217973
         },
         {
          "fillcolor": "#D682C6",
          "line": {
           "color": "#D682C6",
           "width": 2
          },
          "name": "Predicted 6",
          "type": "rect",
          "x0": 2.825,
          "x1": 2.575,
          "y0": -98.27541563902368,
          "y1": -88.5953651792896
         },
         {
          "fillcolor": "#64DEDC",
          "line": {
           "color": "#64DEDC",
           "width": 2
          },
          "name": "Predicted 5",
          "type": "rect",
          "x0": 2.825,
          "x1": 2.575,
          "y0": -84.58748152219461,
          "y1": -75.6886312329775
         },
         {
          "fillcolor": "#FF707D",
          "line": {
           "color": "#FF707D",
           "width": 2
          },
          "name": "Predicted 4",
          "type": "rect",
          "x0": 2.825,
          "x1": 2.575,
          "y0": -69.52398154056978,
          "y1": -59.72511714354344
         },
         {
          "fillcolor": "#5CC878",
          "line": {
           "color": "#5CC878",
           "width": 2
          },
          "name": "Predicted 3",
          "type": "rect",
          "x0": 2.825,
          "x1": 2.575,
          "y0": -55.91117592632342,
          "y1": -46.60479441906575
         },
         {
          "fillcolor": "#F4F4CC",
          "line": {
           "color": "grey",
           "width": 1
          },
          "name": "Cadotte 2",
          "type": "rect",
          "x0": 3.125,
          "x1": 2.875,
          "y0": -61.49128309359767,
          "y1": -76.86043148875295
         },
         {
          "fillcolor": "#F4F4CC",
          "line": {
           "color": "grey",
           "width": 1
          },
          "name": "Cadotte 3",
          "type": "rect",
          "x0": 3.125,
          "x1": 2.875,
          "y0": -78.81343191504537,
          "y1": -96.2205324082211
         },
         {
          "fillcolor": "#F4F4CC",
          "line": {
           "color": "grey",
           "width": 1
          },
          "name": "Cadotte 4",
          "type": "rect",
          "x0": 3.125,
          "x1": 2.875,
          "y0": -107.17426592824079,
          "y1": -110.68966669556714
         },
         {
          "fillcolor": "#F4F4CC",
          "line": {
           "color": "grey",
           "width": 1
          },
          "name": "Cadotte 5",
          "type": "rect",
          "x0": 3.125,
          "x1": 2.875,
          "y0": -122.71331766685212,
          "y1": -126.94290180352486
         },
         {
          "fillcolor": "#C16200",
          "line": {
           "color": "#C16200",
           "width": 2
          },
          "name": "Predicted 9",
          "type": "rect",
          "x0": 12.825,
          "x1": 12.575,
          "y0": -155.1127346729961,
          "y1": -146.38391719636945
         },
         {
          "fillcolor": "#738282",
          "line": {
           "color": "#738282",
           "width": 2
          },
          "name": "Predicted 8",
          "type": "rect",
          "x0": 12.825,
          "x1": 12.575,
          "y0": -142.17231158333766,
          "y1": -132.0848318620989
         },
         {
          "fillcolor": "#E1E074",
          "line": {
           "color": "#E1E074",
           "width": 2
          },
          "name": "Predicted 7",
          "type": "rect",
          "x0": 12.825,
          "x1": 12.575,
          "y0": -125.90224927843163,
          "y1": -113.58991375440321
         },
         {
          "fillcolor": "#D682C6",
          "line": {
           "color": "#D682C6",
           "width": 2
          },
          "name": "Predicted 6",
          "type": "rect",
          "x0": 12.825,
          "x1": 12.575,
          "y0": -108.41024583300619,
          "y1": -98.441509926459
         },
         {
          "fillcolor": "#64DEDC",
          "line": {
           "color": "#64DEDC",
           "width": 2
          },
          "name": "Predicted 5",
          "type": "rect",
          "x0": 12.825,
          "x1": 12.575,
          "y0": -94.4336418138026,
          "y1": -82.58002484720096
         },
         {
          "fillcolor": "#FF707D",
          "line": {
           "color": "#FF707D",
           "width": 2
          },
          "name": "Predicted 4",
          "type": "rect",
          "x0": 12.825,
          "x1": 12.575,
          "y0": -77.58721936167542,
          "y1": -67.58473332612046
         },
         {
          "fillcolor": "#5CC878",
          "line": {
           "color": "#5CC878",
           "width": 2
          },
          "name": "Predicted 3",
          "type": "rect",
          "x0": 12.825,
          "x1": 12.575,
          "y0": -62.676921526278726,
          "y1": -51.55277701376193
         },
         {
          "fillcolor": "#F4F4CC",
          "line": {
           "color": "grey",
           "width": 1
          },
          "name": "Cadotte 2",
          "type": "rect",
          "x0": 13.125,
          "x1": 12.875,
          "y0": -84.24429334237614,
          "y1": -90.71450488720536
         },
         {
          "fillcolor": "#F4F4CC",
          "line": {
           "color": "grey",
           "width": 1
          },
          "name": "Cadotte 3",
          "type": "rect",
          "x0": 13.125,
          "x1": 12.875,
          "y0": -104.79297765659665,
          "y1": -110.07451432818137
         },
         {
          "fillcolor": "#F4F4CC",
          "line": {
           "color": "grey",
           "width": 1
          },
          "name": "Cadotte 4",
          "type": "rect",
          "x0": 13.125,
          "x1": 12.875,
          "y0": -122.1831123518344,
          "y1": -127.46464902341911
         },
         {
          "fillcolor": "#F4F4CC",
          "line": {
           "color": "grey",
           "width": 1
          },
          "name": "Cadotte 5",
          "type": "rect",
          "x0": 13.125,
          "x1": 12.875,
          "y0": -141.39111171084392,
          "y1": -163.65468971375128
         },
         {
          "fillcolor": "#C16200",
          "line": {
           "color": "#C16200",
           "width": 2
          },
          "name": "Predicted 9",
          "type": "rect",
          "x0": 5.825,
          "x1": 5.575,
          "y0": -128.90231674347382,
          "y1": -123.7225965982174
         },
         {
          "fillcolor": "#738282",
          "line": {
           "color": "#738282",
           "width": 2
          },
          "name": "Predicted 8",
          "type": "rect",
          "x0": 5.825,
          "x1": 5.575,
          "y0": -120.39395676947362,
          "y1": -112.191356230743
         },
         {
          "fillcolor": "#E1E074",
          "line": {
           "color": "#E1E074",
           "width": 2
          },
          "name": "Predicted 7",
          "type": "rect",
          "x0": 5.825,
          "x1": 5.575,
          "y0": -107.50415592289693,
          "y1": -100.48124485595406
         },
         {
          "fillcolor": "#D682C6",
          "line": {
           "color": "#D682C6",
           "width": 2
          },
          "name": "Predicted 6",
          "type": "rect",
          "x0": 5.825,
          "x1": 5.575,
          "y0": -94.1297246337361,
          "y1": -87.36132852714003
         },
         {
          "fillcolor": "#64DEDC",
          "line": {
           "color": "#64DEDC",
           "width": 2
          },
          "name": "Predicted 5",
          "type": "rect",
          "x0": 5.825,
          "x1": 5.575,
          "y0": -81.97776875837053,
          "y1": -72.97688894695995
         },
         {
          "fillcolor": "#FF707D",
          "line": {
           "color": "#FF707D",
           "width": 2
          },
          "name": "Predicted 4",
          "type": "rect",
          "x0": 5.825,
          "x1": 5.575,
          "y0": -65.64032904992125,
          "y1": -58.50760877639561
         },
         {
          "fillcolor": "#5CC878",
          "line": {
           "color": "#5CC878",
           "width": 2
          },
          "name": "Predicted 3",
          "type": "rect",
          "x0": 5.825,
          "x1": 5.575,
          "y0": -53.49682489666504,
          "y1": -43.71474503394675
         },
         {
          "fillcolor": "#F4F4CC",
          "line": {
           "color": "grey",
           "width": 1
          },
          "name": "Cadotte 2",
          "type": "rect",
          "x0": 6.125,
          "x1": 5.875,
          "y0": -58.50760877639561,
          "y1": -76.10168915219066
         },
         {
          "fillcolor": "#F4F4CC",
          "line": {
           "color": "grey",
           "width": 1
          },
          "name": "Cadotte 3",
          "type": "rect",
          "x0": 6.125,
          "x1": 5.875,
          "y0": -84.13460851015279,
          "y1": -88.92372862975539
         },
         {
          "fillcolor": "#F4F4CC",
          "line": {
           "color": "grey",
           "width": 1
          },
          "name": "Cadotte 4",
          "type": "rect",
          "x0": 6.125,
          "x1": 5.875,
          "y0": -97.74704467637719,
          "y1": -103.19047641933241
         },
         {
          "fillcolor": "#F4F4CC",
          "line": {
           "color": "grey",
           "width": 1
          },
          "name": "Cadotte 5",
          "type": "rect",
          "x0": 6.125,
          "x1": 5.875,
          "y0": -113.36315630770451,
          "y1": -127.33991664085848
         },
         {
          "fillcolor": "#C16200",
          "line": {
           "color": "#C16200",
           "width": 2
          },
          "name": "Predicted 9",
          "type": "rect",
          "x0": 11.825,
          "x1": 11.575,
          "y0": -151.52903051078619,
          "y1": -141.47477349894103
         },
         {
          "fillcolor": "#738282",
          "line": {
           "color": "#738282",
           "width": 2
          },
          "name": "Predicted 8",
          "type": "rect",
          "x0": 11.825,
          "x1": 11.575,
          "y0": -136.10771939591905,
          "y1": -126.39264990935459
         },
         {
          "fillcolor": "#E1E074",
          "line": {
           "color": "#E1E074",
           "width": 2
          },
          "name": "Predicted 7",
          "type": "rect",
          "x0": 11.825,
          "x1": 11.575,
          "y0": -123.26784875044956,
          "y1": -115.6846543102437
         },
         {
          "fillcolor": "#D682C6",
          "line": {
           "color": "#D682C6",
           "width": 2
          },
          "name": "Predicted 6",
          "type": "rect",
          "x0": 11.825,
          "x1": 11.575,
          "y0": -109.64677781525387,
          "y1": -100.3572123990772
         },
         {
          "fillcolor": "#64DEDC",
          "line": {
           "color": "#64DEDC",
           "width": 2
          },
          "name": "Predicted 5",
          "type": "rect",
          "x0": 11.825,
          "x1": 11.575,
          "y0": -94.7868896762185,
          "y1": -84.95355668815981
         },
         {
          "fillcolor": "#FF707D",
          "line": {
           "color": "#FF707D",
           "width": 2
          },
          "name": "Predicted 4",
          "type": "rect",
          "x0": 11.825,
          "x1": 11.575,
          "y0": -78.85580920013847,
          "y1": -68.13861540006151
         },
         {
          "fillcolor": "#5CC878",
          "line": {
           "color": "#5CC878",
           "width": 2
          },
          "name": "Predicted 3",
          "type": "rect",
          "x0": 11.825,
          "x1": 11.575,
          "y0": -63.23048963791767,
          "y1": -49.710765457318224
         },
         {
          "fillcolor": "#F4F4CC",
          "line": {
           "color": "grey",
           "width": 1
          },
          "name": "Cadotte 2",
          "type": "rect",
          "x0": 12.125,
          "x1": 11.875,
          "y0": -83.57791486402061,
          "y1": -103.0914134131191
         },
         {
          "fillcolor": "#F4F4CC",
          "line": {
           "color": "grey",
           "width": 1
          },
          "name": "Cadotte 3",
          "type": "rect",
          "x0": 12.125,
          "x1": 11.875,
          "y0": -104.26321384770849,
          "y1": -122.09604831586017
         },
         {
          "fillcolor": "#F4F4CC",
          "line": {
           "color": "grey",
           "width": 1
          },
          "name": "Cadotte 4",
          "type": "rect",
          "x0": 12.125,
          "x1": 11.875,
          "y0": -132.74417292193957,
          "y1": -153.78779331942658
         },
         {
          "fillcolor": "#C16200",
          "line": {
           "color": "#C16200",
           "width": 2
          },
          "name": "Predicted 9",
          "type": "rect",
          "x0": 8.825,
          "x1": 8.575,
          "y0": -150.823097419206,
          "y1": -142.27988873539775
         },
         {
          "fillcolor": "#738282",
          "line": {
           "color": "#738282",
           "width": 2
          },
          "name": "Predicted 8",
          "type": "rect",
          "x0": 8.825,
          "x1": 8.575,
          "y0": -135.96191281152895,
          "y1": -125.24480461266543
         },
         {
          "fillcolor": "#E1E074",
          "line": {
           "color": "#E1E074",
           "width": 2
          },
          "name": "Predicted 7",
          "type": "rect",
          "x0": 8.825,
          "x1": 8.575,
          "y0": -122.40867773660227,
          "y1": -112.76075185852092
         },
         {
          "fillcolor": "#D682C6",
          "line": {
           "color": "#D682C6",
           "width": 2
          },
          "name": "Predicted 6",
          "type": "rect",
          "x0": 8.825,
          "x1": 8.575,
          "y0": -107.68295346217197,
          "y1": -97.98497255285075
         },
         {
          "fillcolor": "#64DEDC",
          "line": {
           "color": "#64DEDC",
           "width": 2
          },
          "name": "Predicted 5",
          "type": "rect",
          "x0": 8.825,
          "x1": 8.575,
          "y0": -92.51657427985957,
          "y1": -83.68460978176232
         },
         {
          "fillcolor": "#FF707D",
          "line": {
           "color": "#FF707D",
           "width": 2
          },
          "name": "Predicted 4",
          "type": "rect",
          "x0": 8.825,
          "x1": 8.575,
          "y0": -76.0422455647968,
          "y1": -66.63362636212723
         },
         {
          "fillcolor": "#5CC878",
          "line": {
           "color": "#5CC878",
           "width": 2
          },
          "name": "Predicted 3",
          "type": "rect",
          "x0": 8.825,
          "x1": 8.575,
          "y0": -61.827389021224874,
          "y1": -47.884093533099545
         },
         {
          "fillcolor": "#F4F4CC",
          "line": {
           "color": "grey",
           "width": 1
          },
          "name": "Cadotte 2",
          "type": "rect",
          "x0": 9.125,
          "x1": 8.875,
          "y0": -62.81244425364447,
          "y1": -84.07520965840455
         },
         {
          "fillcolor": "#F4F4CC",
          "line": {
           "color": "grey",
           "width": 1
          },
          "name": "Cadotte 3",
          "type": "rect",
          "x0": 9.125,
          "x1": 8.875,
          "y0": -97.59437267620852,
          "y1": -120.45567835339114
         },
         {
          "fillcolor": "#F4F4CC",
          "line": {
           "color": "grey",
           "width": 1
          },
          "name": "Cadotte 4",
          "type": "rect",
          "x0": 9.125,
          "x1": 8.875,
          "y0": -132.78584698242602,
          "y1": -139.00189516672725
         },
         {
          "fillcolor": "#C16200",
          "line": {
           "color": "#C16200",
           "width": 2
          },
          "name": "Predicted 9",
          "type": "rect",
          "x0": 9.825,
          "x1": 9.575,
          "y0": -147.74535501296089,
          "y1": -139.13502785278763
         },
         {
          "fillcolor": "#738282",
          "line": {
           "color": "#738282",
           "width": 2
          },
          "name": "Predicted 8",
          "type": "rect",
          "x0": 9.825,
          "x1": 9.575,
          "y0": -132.1042247088095,
          "y1": -125.07342156483138
         },
         {
          "fillcolor": "#E1E074",
          "line": {
           "color": "#E1E074",
           "width": 2
          },
          "name": "Predicted 7",
          "type": "rect",
          "x0": 9.825,
          "x1": 9.575,
          "y0": -121.45608911979262,
          "y1": -112.94769283266906
         },
         {
          "fillcolor": "#D682C6",
          "line": {
           "color": "#D682C6",
           "width": 2
          },
          "name": "Predicted 6",
          "type": "rect",
          "x0": 9.825,
          "x1": 9.575,
          "y0": -108.34529829220001,
          "y1": -96.8639248533391
         },
         {
          "fillcolor": "#64DEDC",
          "line": {
           "color": "#64DEDC",
           "width": 2
          },
          "name": "Predicted 5",
          "type": "rect",
          "x0": 9.825,
          "x1": 9.575,
          "y0": -92.07479188430399,
          "y1": -83.17579542251498
         },
         {
          "fillcolor": "#FF707D",
          "line": {
           "color": "#FF707D",
           "width": 2
          },
          "name": "Predicted 4",
          "type": "rect",
          "x0": 9.825,
          "x1": 9.575,
          "y0": -77.40160035804958,
          "y1": -68.34081215396279
         },
         {
          "fillcolor": "#5CC878",
          "line": {
           "color": "#5CC878",
           "width": 2
          },
          "name": "Predicted 3",
          "type": "rect",
          "x0": 9.825,
          "x1": 9.575,
          "y0": -63.94227935959312,
          "y1": -48.25769734123759
         },
         {
          "fillcolor": "#F4F4CC",
          "line": {
           "color": "grey",
           "width": 1
          },
          "name": "Cadotte 2",
          "type": "rect",
          "x0": 10.125,
          "x1": 9.875,
          "y0": -63.55167918492767,
          "y1": -78.57340088204593
         },
         {
          "fillcolor": "#F4F4CC",
          "line": {
           "color": "grey",
           "width": 1
          },
          "name": "Cadotte 3",
          "type": "rect",
          "x0": 10.125,
          "x1": 9.875,
          "y0": -81.61339472385318,
          "y1": -94.80899310696215
         },
         {
          "fillcolor": "#F4F4CC",
          "line": {
           "color": "grey",
           "width": 1
          },
          "name": "Cadotte 4",
          "type": "rect",
          "x0": 10.125,
          "x1": 9.875,
          "y0": -98.6301872981003,
          "y1": -111.96263073723877
         },
         {
          "fillcolor": "#F4F4CC",
          "line": {
           "color": "grey",
           "width": 1
          },
          "name": "Cadotte 5",
          "type": "rect",
          "x0": 10.125,
          "x1": 9.875,
          "y0": -115.68189405532722,
          "y1": -128.58882313682045
         },
         {
          "fillcolor": "#F4F4CC",
          "line": {
           "color": "grey",
           "width": 1
          },
          "name": "Cadotte 6",
          "type": "rect",
          "x0": 10.125,
          "x1": 9.875,
          "y0": -131.71362453414406,
          "y1": -148.5265553622918
         },
         {
          "fillcolor": "#C16200",
          "line": {
           "color": "#C16200",
           "width": 2
          },
          "name": "Predicted 9",
          "type": "rect",
          "x0": 13.825,
          "x1": 13.575,
          "y0": -143.46787182337275,
          "y1": -136.94661340563093
         },
         {
          "fillcolor": "#738282",
          "line": {
           "color": "#738282",
           "width": 2
          },
          "name": "Predicted 8",
          "type": "rect",
          "x0": 13.825,
          "x1": 13.575,
          "y0": -129.78025225362825,
          "y1": -121.25521448237609
         },
         {
          "fillcolor": "#E1E074",
          "line": {
           "color": "#E1E074",
           "width": 2
          },
          "name": "Predicted 7",
          "type": "rect",
          "x0": 13.825,
          "x1": 13.575,
          "y0": -115.10716864809504,
          "y1": -106.90456498012057
         },
         {
          "fillcolor": "#D682C6",
          "line": {
           "color": "#D682C6",
           "width": 2
          },
          "name": "Predicted 6",
          "type": "rect",
          "x0": 13.825,
          "x1": 13.575,
          "y0": -101.43616253480425,
          "y1": -91.36557204904949
         },
         {
          "fillcolor": "#64DEDC",
          "line": {
           "color": "#64DEDC",
           "width": 2
          },
          "name": "Predicted 5",
          "type": "rect",
          "x0": 13.825,
          "x1": 13.575,
          "y0": -86.96710808802337,
          "y1": -75.50414501470073
         },
         {
          "fillcolor": "#FF707D",
          "line": {
           "color": "#FF707D",
           "width": 2
          },
          "name": "Predicted 4",
          "type": "rect",
          "x0": 13.825,
          "x1": 13.575,
          "y0": -70.3244807043437,
          "y1": -60.7965209702839
         },
         {
          "fillcolor": "#5CC878",
          "line": {
           "color": "#5CC878",
           "width": 2
          },
          "name": "Predicted 3",
          "type": "rect",
          "x0": 13.825,
          "x1": 13.575,
          "y0": -55.80373275518,
          "y1": -43.15212117370181
         },
         {
          "fillcolor": "#F4F4CC",
          "line": {
           "color": "grey",
           "width": 1
          },
          "name": "Cadotte 2",
          "type": "rect",
          "x0": 14.125,
          "x1": 13.875,
          "y0": -66.5705095347187,
          "y1": -73.94174431603892
         },
         {
          "fillcolor": "#F4F4CC",
          "line": {
           "color": "grey",
           "width": 1
          },
          "name": "Cadotte 3",
          "type": "rect",
          "x0": 14.125,
          "x1": 13.875,
          "y0": -85.09912127024307,
          "y1": -102.99856323346606
         },
         {
          "fillcolor": "#F4F4CC",
          "line": {
           "color": "grey",
           "width": 1
          },
          "name": "Cadotte 4",
          "type": "rect",
          "x0": 14.125,
          "x1": 13.875,
          "y0": -105.34216428145876,
          "y1": -119.30221360904883
         },
         {
          "fillcolor": "#F4F4CC",
          "line": {
           "color": "grey",
           "width": 1
          },
          "name": "Cadotte 5",
          "type": "rect",
          "x0": 14.125,
          "x1": 13.875,
          "y0": -120.86461430771064,
          "y1": -137.33721358029638
         },
         {
          "fillcolor": "#C16200",
          "line": {
           "color": "#C16200",
           "width": 2
          },
          "name": "Predicted 9",
          "type": "rect",
          "x0": 0.825,
          "x1": 0.575,
          "y0": -162.22321281935518,
          "y1": -148.4916253167509
         },
         {
          "fillcolor": "#738282",
          "line": {
           "color": "#738282",
           "width": 2
          },
          "name": "Predicted 8",
          "type": "rect",
          "x0": 0.825,
          "x1": 0.575,
          "y0": -143.4986302646685,
          "y1": -135.66950371981798
         },
         {
          "fillcolor": "#E1E074",
          "line": {
           "color": "#E1E074",
           "width": 2
          },
          "name": "Predicted 7",
          "type": "rect",
          "x0": 0.825,
          "x1": 0.575,
          "y0": -129.02930480362116,
          "y1": -118.95851058032942
         },
         {
          "fillcolor": "#D682C6",
          "line": {
           "color": "#D682C6",
           "width": 2
          },
          "name": "Predicted 6",
          "type": "rect",
          "x0": 0.825,
          "x1": 0.575,
          "y0": -112.3183116641326,
          "y1": -102.14558550180091
         },
         {
          "fillcolor": "#64DEDC",
          "line": {
           "color": "#64DEDC",
           "width": 2
          },
          "name": "Predicted 5",
          "type": "rect",
          "x0": 0.825,
          "x1": 0.575,
          "y0": -97.84898620308532,
          "y1": -86.99699210729986
         },
         {
          "fillcolor": "#FF707D",
          "line": {
           "color": "#FF707D",
           "width": 2
          },
          "name": "Predicted 4",
          "type": "rect",
          "x0": 0.825,
          "x1": 0.575,
          "y0": -78.09799769274876,
          "y1": -69.16408765114669
         },
         {
          "fillcolor": "#5CC878",
          "line": {
           "color": "#5CC878",
           "width": 2
          },
          "name": "Predicted 3",
          "type": "rect",
          "x0": 0.825,
          "x1": 0.575,
          "y0": -64.17109259906431,
          "y1": -50.69402257340456
         },
         {
          "fillcolor": "#F4F4CC",
          "line": {
           "color": "grey",
           "width": 1
          },
          "name": "Cadotte 2",
          "type": "rect",
          "x0": 1.125,
          "x1": 0.875,
          "y0": -69.94528752364043,
          "y1": -87.38759204354673
         },
         {
          "fillcolor": "#F4F4CC",
          "line": {
           "color": "grey",
           "width": 1
          },
          "name": "Cadotte 3",
          "type": "rect",
          "x0": 1.125,
          "x1": 0.875,
          "y0": -88.55939185228735,
          "y1": -105.66098492802276
         },
         {
          "fillcolor": "#F4F4CC",
          "line": {
           "color": "grey",
           "width": 1
          },
          "name": "Cadotte 4",
          "type": "rect",
          "x0": 1.125,
          "x1": 0.875,
          "y0": -108.70098029887077,
          "y1": -124.03630975153875
         },
         {
          "fillcolor": "#F4F4CC",
          "line": {
           "color": "grey",
           "width": 1
          },
          "name": "Cadotte 5",
          "type": "rect",
          "x0": 1.125,
          "x1": 0.875,
          "y0": -125.20810956027937,
          "y1": -141.44369864439415
         },
         {
          "fillcolor": "#F4F4CC",
          "line": {
           "color": "grey",
           "width": 1
          },
          "name": "Cadotte 6",
          "type": "rect",
          "x0": 1.125,
          "x1": 0.875,
          "y0": -143.10803032842162,
          "y1": -162.22321281935518
         },
         {
          "fillcolor": "#C16200",
          "line": {
           "color": "#C16200",
           "width": 2
          },
          "name": "Predicted 9",
          "type": "rect",
          "x0": 1.825,
          "x1": 1.575,
          "y0": -146.3507442571628,
          "y1": -138.19921398044758
         },
         {
          "fillcolor": "#738282",
          "line": {
           "color": "#738282",
           "width": 2
          },
          "name": "Predicted 8",
          "type": "rect",
          "x0": 1.825,
          "x1": 1.575,
          "y0": -134.75959097665117,
          "y1": -124.67093025666209
         },
         {
          "fillcolor": "#E1E074",
          "line": {
           "color": "#E1E074",
           "width": 2
          },
          "name": "Predicted 7",
          "type": "rect",
          "x0": 1.825,
          "x1": 1.575,
          "y0": -123.19347648001553,
          "y1": -112.7152849456214
         },
         {
          "fillcolor": "#D682C6",
          "line": {
           "color": "#D682C6",
           "width": 2
          },
          "name": "Predicted 6",
          "type": "rect",
          "x0": 1.825,
          "x1": 1.575,
          "y0": -109.19988525117866,
          "y1": -101.38788593019477
         },
         {
          "fillcolor": "#64DEDC",
          "line": {
           "color": "#64DEDC",
           "width": 2
          },
          "name": "Predicted 5",
          "type": "rect",
          "x0": 1.825,
          "x1": 1.575,
          "y0": -93.6608326967611,
          "y1": -85.83189483716112
         },
         {
          "fillcolor": "#FF707D",
          "line": {
           "color": "#FF707D",
           "width": 2
          },
          "name": "Predicted 4",
          "type": "rect",
          "x0": 1.825,
          "x1": 1.575,
          "y0": -77.08599534206421,
          "y1": -67.66078054103524
         },
         {
          "fillcolor": "#5CC878",
          "line": {
           "color": "#5CC878",
           "width": 2
          },
          "name": "Predicted 3",
          "type": "rect",
          "x0": 1.825,
          "x1": 1.575,
          "y0": -60.29045019641852,
          "y1": -49.03875016256029
         },
         {
          "fillcolor": "#F4F4CC",
          "line": {
           "color": "grey",
           "width": 1
          },
          "name": "Cadotte 2",
          "type": "rect",
          "x0": 2.125,
          "x1": 1.875,
          "y0": -62.15850393911429,
          "y1": -78.07096452649525
         },
         {
          "fillcolor": "#F4F4CC",
          "line": {
           "color": "grey",
           "width": 1
          },
          "name": "Cadotte 3",
          "type": "rect",
          "x0": 2.125,
          "x1": 1.875,
          "y0": -79.83713364302467,
          "y1": -97.48188626970283
         },
         {
          "fillcolor": "#F4F4CC",
          "line": {
           "color": "grey",
           "width": 1
          },
          "name": "Cadotte 4",
          "type": "rect",
          "x0": 2.125,
          "x1": 1.875,
          "y0": -100.60668599809638,
          "y1": -115.46642324658187
         },
         {
          "fillcolor": "#F4F4CC",
          "line": {
           "color": "grey",
           "width": 1
          },
          "name": "Cadotte 5",
          "type": "rect",
          "x0": 2.125,
          "x1": 1.875,
          "y0": -117.41942307682784,
          "y1": -131.27799065036268
         },
         {
          "fillcolor": "#F4F4CC",
          "line": {
           "color": "grey",
           "width": 1
          },
          "name": "Cadotte 6",
          "type": "rect",
          "x0": 2.125,
          "x1": 1.875,
          "y0": -134.75959097665117,
          "y1": -152.75304395596473
         }
        ],
        "xaxis": {
         "title": {
          "text": "Subject"
         },
         "range": [
          0,
          15
         ],
         "ticktext": [
          "1",
          "2",
          "3",
          "4",
          "5",
          "6",
          "7",
          "8",
          "9",
          "10",
          "11",
          "12",
          "13",
          "14"
         ],
         "tickvals": [
          1,
          2,
          3,
          4,
          5,
          6,
          7,
          8,
          9,
          10,
          11,
          12,
          13,
          14
         ]
        },
        "yaxis": {
         "title": {
          "text": "PMJ distance (PMJ = 0 mm)"
         },
         "range": [
          -167.22321281935518,
          -38.15212117370181
         ],
         "autorange": "reversed",
         "dtick": 10
        },
        "title": {
         "text": "Nerve rootlet layout"
        },
        "showlegend": true
       },
       "config": {
        "plotlyServerURL": "https://plot.ly"
       }
      },
      "text/html": "<div>                            <div id=\"fffd1383-3192-4ee3-93e3-e3b76c868ae9\" class=\"plotly-graph-div\" style=\"height:525px; width:100%;\"></div>            <script type=\"text/javascript\">                require([\"plotly\"], function(Plotly) {                    window.PLOTLYENV=window.PLOTLYENV || {};                                    if (document.getElementById(\"fffd1383-3192-4ee3-93e3-e3b76c868ae9\")) {                    Plotly.newPlot(                        \"fffd1383-3192-4ee3-93e3-e3b76c868ae9\",                        [],                        {\"template\":{\"data\":{\"histogram2dcontour\":[{\"type\":\"histogram2dcontour\",\"colorbar\":{\"outlinewidth\":0,\"ticks\":\"\"},\"colorscale\":[[0.0,\"#0d0887\"],[0.1111111111111111,\"#46039f\"],[0.2222222222222222,\"#7201a8\"],[0.3333333333333333,\"#9c179e\"],[0.4444444444444444,\"#bd3786\"],[0.5555555555555556,\"#d8576b\"],[0.6666666666666666,\"#ed7953\"],[0.7777777777777778,\"#fb9f3a\"],[0.8888888888888888,\"#fdca26\"],[1.0,\"#f0f921\"]]}],\"choropleth\":[{\"type\":\"choropleth\",\"colorbar\":{\"outlinewidth\":0,\"ticks\":\"\"}}],\"histogram2d\":[{\"type\":\"histogram2d\",\"colorbar\":{\"outlinewidth\":0,\"ticks\":\"\"},\"colorscale\":[[0.0,\"#0d0887\"],[0.1111111111111111,\"#46039f\"],[0.2222222222222222,\"#7201a8\"],[0.3333333333333333,\"#9c179e\"],[0.4444444444444444,\"#bd3786\"],[0.5555555555555556,\"#d8576b\"],[0.6666666666666666,\"#ed7953\"],[0.7777777777777778,\"#fb9f3a\"],[0.8888888888888888,\"#fdca26\"],[1.0,\"#f0f921\"]]}],\"heatmap\":[{\"type\":\"heatmap\",\"colorbar\":{\"outlinewidth\":0,\"ticks\":\"\"},\"colorscale\":[[0.0,\"#0d0887\"],[0.1111111111111111,\"#46039f\"],[0.2222222222222222,\"#7201a8\"],[0.3333333333333333,\"#9c179e\"],[0.4444444444444444,\"#bd3786\"],[0.5555555555555556,\"#d8576b\"],[0.6666666666666666,\"#ed7953\"],[0.7777777777777778,\"#fb9f3a\"],[0.8888888888888888,\"#fdca26\"],[1.0,\"#f0f921\"]]}],\"heatmapgl\":[{\"type\":\"heatmapgl\",\"colorbar\":{\"outlinewidth\":0,\"ticks\":\"\"},\"colorscale\":[[0.0,\"#0d0887\"],[0.1111111111111111,\"#46039f\"],[0.2222222222222222,\"#7201a8\"],[0.3333333333333333,\"#9c179e\"],[0.4444444444444444,\"#bd3786\"],[0.5555555555555556,\"#d8576b\"],[0.6666666666666666,\"#ed7953\"],[0.7777777777777778,\"#fb9f3a\"],[0.8888888888888888,\"#fdca26\"],[1.0,\"#f0f921\"]]}],\"contourcarpet\":[{\"type\":\"contourcarpet\",\"colorbar\":{\"outlinewidth\":0,\"ticks\":\"\"}}],\"contour\":[{\"type\":\"contour\",\"colorbar\":{\"outlinewidth\":0,\"ticks\":\"\"},\"colorscale\":[[0.0,\"#0d0887\"],[0.1111111111111111,\"#46039f\"],[0.2222222222222222,\"#7201a8\"],[0.3333333333333333,\"#9c179e\"],[0.4444444444444444,\"#bd3786\"],[0.5555555555555556,\"#d8576b\"],[0.6666666666666666,\"#ed7953\"],[0.7777777777777778,\"#fb9f3a\"],[0.8888888888888888,\"#fdca26\"],[1.0,\"#f0f921\"]]}],\"surface\":[{\"type\":\"surface\",\"colorbar\":{\"outlinewidth\":0,\"ticks\":\"\"},\"colorscale\":[[0.0,\"#0d0887\"],[0.1111111111111111,\"#46039f\"],[0.2222222222222222,\"#7201a8\"],[0.3333333333333333,\"#9c179e\"],[0.4444444444444444,\"#bd3786\"],[0.5555555555555556,\"#d8576b\"],[0.6666666666666666,\"#ed7953\"],[0.7777777777777778,\"#fb9f3a\"],[0.8888888888888888,\"#fdca26\"],[1.0,\"#f0f921\"]]}],\"mesh3d\":[{\"type\":\"mesh3d\",\"colorbar\":{\"outlinewidth\":0,\"ticks\":\"\"}}],\"scatter\":[{\"fillpattern\":{\"fillmode\":\"overlay\",\"size\":10,\"solidity\":0.2},\"type\":\"scatter\"}],\"parcoords\":[{\"type\":\"parcoords\",\"line\":{\"colorbar\":{\"outlinewidth\":0,\"ticks\":\"\"}}}],\"scatterpolargl\":[{\"type\":\"scatterpolargl\",\"marker\":{\"colorbar\":{\"outlinewidth\":0,\"ticks\":\"\"}}}],\"bar\":[{\"error_x\":{\"color\":\"#2a3f5f\"},\"error_y\":{\"color\":\"#2a3f5f\"},\"marker\":{\"line\":{\"color\":\"#E5ECF6\",\"width\":0.5},\"pattern\":{\"fillmode\":\"overlay\",\"size\":10,\"solidity\":0.2}},\"type\":\"bar\"}],\"scattergeo\":[{\"type\":\"scattergeo\",\"marker\":{\"colorbar\":{\"outlinewidth\":0,\"ticks\":\"\"}}}],\"scatterpolar\":[{\"type\":\"scatterpolar\",\"marker\":{\"colorbar\":{\"outlinewidth\":0,\"ticks\":\"\"}}}],\"histogram\":[{\"marker\":{\"pattern\":{\"fillmode\":\"overlay\",\"size\":10,\"solidity\":0.2}},\"type\":\"histogram\"}],\"scattergl\":[{\"type\":\"scattergl\",\"marker\":{\"colorbar\":{\"outlinewidth\":0,\"ticks\":\"\"}}}],\"scatter3d\":[{\"type\":\"scatter3d\",\"line\":{\"colorbar\":{\"outlinewidth\":0,\"ticks\":\"\"}},\"marker\":{\"colorbar\":{\"outlinewidth\":0,\"ticks\":\"\"}}}],\"scattermapbox\":[{\"type\":\"scattermapbox\",\"marker\":{\"colorbar\":{\"outlinewidth\":0,\"ticks\":\"\"}}}],\"scatterternary\":[{\"type\":\"scatterternary\",\"marker\":{\"colorbar\":{\"outlinewidth\":0,\"ticks\":\"\"}}}],\"scattercarpet\":[{\"type\":\"scattercarpet\",\"marker\":{\"colorbar\":{\"outlinewidth\":0,\"ticks\":\"\"}}}],\"carpet\":[{\"aaxis\":{\"endlinecolor\":\"#2a3f5f\",\"gridcolor\":\"white\",\"linecolor\":\"white\",\"minorgridcolor\":\"white\",\"startlinecolor\":\"#2a3f5f\"},\"baxis\":{\"endlinecolor\":\"#2a3f5f\",\"gridcolor\":\"white\",\"linecolor\":\"white\",\"minorgridcolor\":\"white\",\"startlinecolor\":\"#2a3f5f\"},\"type\":\"carpet\"}],\"table\":[{\"cells\":{\"fill\":{\"color\":\"#EBF0F8\"},\"line\":{\"color\":\"white\"}},\"header\":{\"fill\":{\"color\":\"#C8D4E3\"},\"line\":{\"color\":\"white\"}},\"type\":\"table\"}],\"barpolar\":[{\"marker\":{\"line\":{\"color\":\"#E5ECF6\",\"width\":0.5},\"pattern\":{\"fillmode\":\"overlay\",\"size\":10,\"solidity\":0.2}},\"type\":\"barpolar\"}],\"pie\":[{\"automargin\":true,\"type\":\"pie\"}]},\"layout\":{\"autotypenumbers\":\"strict\",\"colorway\":[\"#636efa\",\"#EF553B\",\"#00cc96\",\"#ab63fa\",\"#FFA15A\",\"#19d3f3\",\"#FF6692\",\"#B6E880\",\"#FF97FF\",\"#FECB52\"],\"font\":{\"color\":\"#2a3f5f\"},\"hovermode\":\"closest\",\"hoverlabel\":{\"align\":\"left\"},\"paper_bgcolor\":\"white\",\"plot_bgcolor\":\"#E5ECF6\",\"polar\":{\"bgcolor\":\"#E5ECF6\",\"angularaxis\":{\"gridcolor\":\"white\",\"linecolor\":\"white\",\"ticks\":\"\"},\"radialaxis\":{\"gridcolor\":\"white\",\"linecolor\":\"white\",\"ticks\":\"\"}},\"ternary\":{\"bgcolor\":\"#E5ECF6\",\"aaxis\":{\"gridcolor\":\"white\",\"linecolor\":\"white\",\"ticks\":\"\"},\"baxis\":{\"gridcolor\":\"white\",\"linecolor\":\"white\",\"ticks\":\"\"},\"caxis\":{\"gridcolor\":\"white\",\"linecolor\":\"white\",\"ticks\":\"\"}},\"coloraxis\":{\"colorbar\":{\"outlinewidth\":0,\"ticks\":\"\"}},\"colorscale\":{\"sequential\":[[0.0,\"#0d0887\"],[0.1111111111111111,\"#46039f\"],[0.2222222222222222,\"#7201a8\"],[0.3333333333333333,\"#9c179e\"],[0.4444444444444444,\"#bd3786\"],[0.5555555555555556,\"#d8576b\"],[0.6666666666666666,\"#ed7953\"],[0.7777777777777778,\"#fb9f3a\"],[0.8888888888888888,\"#fdca26\"],[1.0,\"#f0f921\"]],\"sequentialminus\":[[0.0,\"#0d0887\"],[0.1111111111111111,\"#46039f\"],[0.2222222222222222,\"#7201a8\"],[0.3333333333333333,\"#9c179e\"],[0.4444444444444444,\"#bd3786\"],[0.5555555555555556,\"#d8576b\"],[0.6666666666666666,\"#ed7953\"],[0.7777777777777778,\"#fb9f3a\"],[0.8888888888888888,\"#fdca26\"],[1.0,\"#f0f921\"]],\"diverging\":[[0,\"#8e0152\"],[0.1,\"#c51b7d\"],[0.2,\"#de77ae\"],[0.3,\"#f1b6da\"],[0.4,\"#fde0ef\"],[0.5,\"#f7f7f7\"],[0.6,\"#e6f5d0\"],[0.7,\"#b8e186\"],[0.8,\"#7fbc41\"],[0.9,\"#4d9221\"],[1,\"#276419\"]]},\"xaxis\":{\"gridcolor\":\"white\",\"linecolor\":\"white\",\"ticks\":\"\",\"title\":{\"standoff\":15},\"zerolinecolor\":\"white\",\"automargin\":true,\"zerolinewidth\":2},\"yaxis\":{\"gridcolor\":\"white\",\"linecolor\":\"white\",\"ticks\":\"\",\"title\":{\"standoff\":15},\"zerolinecolor\":\"white\",\"automargin\":true,\"zerolinewidth\":2},\"scene\":{\"xaxis\":{\"backgroundcolor\":\"#E5ECF6\",\"gridcolor\":\"white\",\"linecolor\":\"white\",\"showbackground\":true,\"ticks\":\"\",\"zerolinecolor\":\"white\",\"gridwidth\":2},\"yaxis\":{\"backgroundcolor\":\"#E5ECF6\",\"gridcolor\":\"white\",\"linecolor\":\"white\",\"showbackground\":true,\"ticks\":\"\",\"zerolinecolor\":\"white\",\"gridwidth\":2},\"zaxis\":{\"backgroundcolor\":\"#E5ECF6\",\"gridcolor\":\"white\",\"linecolor\":\"white\",\"showbackground\":true,\"ticks\":\"\",\"zerolinecolor\":\"white\",\"gridwidth\":2}},\"shapedefaults\":{\"line\":{\"color\":\"#2a3f5f\"}},\"annotationdefaults\":{\"arrowcolor\":\"#2a3f5f\",\"arrowhead\":0,\"arrowwidth\":1},\"geo\":{\"bgcolor\":\"white\",\"landcolor\":\"#E5ECF6\",\"subunitcolor\":\"white\",\"showland\":true,\"showlakes\":true,\"lakecolor\":\"white\"},\"title\":{\"x\":0.05},\"mapbox\":{\"style\":\"light\"}}},\"shapes\":[{\"fillcolor\":\"#C16200\",\"line\":{\"color\":\"#C16200\",\"width\":2},\"name\":\"Predicted 9\",\"type\":\"rect\",\"x0\":4.825,\"x1\":4.575,\"y0\":-145.9590672204873,\"y1\":-136.92470256317378},{\"fillcolor\":\"#738282\",\"line\":{\"color\":\"#738282\",\"width\":2},\"name\":\"Predicted 8\",\"type\":\"rect\",\"x0\":4.825,\"x1\":4.575,\"y0\":-132.22064769537937,\"y1\":-122.71067423143361},{\"fillcolor\":\"#E1E074\",\"line\":{\"color\":\"#E1E074\",\"width\":2},\"name\":\"Predicted 7\",\"type\":\"rect\",\"x0\":4.825,\"x1\":4.575,\"y0\":-120.36707425632451,\"y1\":-111.8240357943773},{\"fillcolor\":\"#D682C6\",\"line\":{\"color\":\"#D682C6\",\"width\":2},\"name\":\"Predicted 6\",\"type\":\"rect\",\"x0\":4.825,\"x1\":4.575,\"y0\":-106.8312446590883,\"y1\":-98.62864474620645},{\"fillcolor\":\"#64DEDC\",\"line\":{\"color\":\"#64DEDC\",\"width\":2},\"name\":\"Predicted 5\",\"type\":\"rect\",\"x0\":4.825,\"x1\":4.575,\"y0\":-93.61786116449909,\"y1\":-83.46226127235965},{\"fillcolor\":\"#FF707D\",\"line\":{\"color\":\"#FF707D\",\"width\":2},\"name\":\"Predicted 4\",\"type\":\"rect\",\"x0\":4.825,\"x1\":4.575,\"y0\":-75.57347835036546,\"y1\":-66.08035980399592},{\"fillcolor\":\"#5CC878\",\"line\":{\"color\":\"#5CC878\",\"width\":2},\"name\":\"Predicted 3\",\"type\":\"rect\",\"x0\":4.825,\"x1\":4.575,\"y0\":-61.189432397063854,\"y1\":-51.11884131570512},{\"fillcolor\":\"#F4F4CC\",\"line\":{\"color\":\"grey\",\"width\":1},\"name\":\"Cadotte 2\",\"type\":\"rect\",\"x0\":5.125,\"x1\":4.875,\"y0\":-69.79948722337343,\"y1\":-85.80586124746875},{\"fillcolor\":\"#F4F4CC\",\"line\":{\"color\":\"grey\",\"width\":1},\"name\":\"Cadotte 3\",\"type\":\"rect\",\"x0\":5.125,\"x1\":4.875,\"y0\":-96.9044529470558,\"y1\":-116.42622693381477},{\"fillcolor\":\"#F4F4CC\",\"line\":{\"color\":\"grey\",\"width\":1},\"name\":\"Cadotte 4\",\"type\":\"rect\",\"x0\":5.125,\"x1\":4.875,\"y0\":-126.92226537501958,\"y1\":-132.22064769537937},{\"fillcolor\":\"#C16200\",\"line\":{\"color\":\"#C16200\",\"width\":2},\"name\":\"Predicted 9\",\"type\":\"rect\",\"x0\":10.825,\"x1\":10.575,\"y0\":-141.9628239151473,\"y1\":-131.95979178130133},{\"fillcolor\":\"#738282\",\"line\":{\"color\":\"#738282\",\"width\":2},\"name\":\"Predicted 8\",\"type\":\"rect\",\"x0\":10.825,\"x1\":10.575,\"y0\":-127.61193782890349,\"y1\":-120.09648345699985},{\"fillcolor\":\"#E1E074\",\"line\":{\"color\":\"#E1E074\",\"width\":2},\"name\":\"Predicted 7\",\"type\":\"rect\",\"x0\":10.825,\"x1\":10.575,\"y0\":-115.47630001292434,\"y1\":-107.11190881712407},{\"fillcolor\":\"#D682C6\",\"line\":{\"color\":\"#D682C6\",\"width\":2},\"name\":\"Predicted 6\",\"type\":\"rect\",\"x0\":10.825,\"x1\":10.575,\"y0\":-103.20590915663213,\"y1\":-92.74454016493873},{\"fillcolor\":\"#64DEDC\",\"line\":{\"color\":\"#64DEDC\",\"width\":2},\"name\":\"Predicted 5\",\"type\":\"rect\",\"x0\":10.825,\"x1\":10.575,\"y0\":-88.0573405723484,\"y1\":-78.29234142111854},{\"fillcolor\":\"#FF707D\",\"line\":{\"color\":\"#FF707D\",\"width\":2},\"name\":\"Predicted 4\",\"type\":\"rect\",\"x0\":10.825,\"x1\":10.575,\"y0\":-72.04274196433143,\"y1\":-61.292696298060285},{\"fillcolor\":\"#5CC878\",\"line\":{\"color\":\"#5CC878\",\"width\":2},\"name\":\"Predicted 3\",\"type\":\"rect\",\"x0\":10.825,\"x1\":10.575,\"y0\":-55.72237348190012,\"y1\":-46.26181282790614},{\"fillcolor\":\"#F4F4CC\",\"line\":{\"color\":\"grey\",\"width\":1},\"name\":\"Cadotte 2\",\"type\":\"rect\",\"x0\":11.125,\"x1\":10.875,\"y0\":-58.16789656966673,\"y1\":-74.38634176062659},{\"fillcolor\":\"#F4F4CC\",\"line\":{\"color\":\"grey\",\"width\":1},\"name\":\"Cadotte 3\",\"type\":\"rect\",\"x0\":11.125,\"x1\":10.875,\"y0\":-75.55814165877418,\"y1\":-93.91634006308631},{\"fillcolor\":\"#F4F4CC\",\"line\":{\"color\":\"grey\",\"width\":1},\"name\":\"Cadotte 4\",\"type\":\"rect\",\"x0\":11.125,\"x1\":10.875,\"y0\":-105.5495089529273,\"y1\":-126.6268913138622},{\"fillcolor\":\"#C16200\",\"line\":{\"color\":\"#C16200\",\"width\":2},\"name\":\"Predicted 9\",\"type\":\"rect\",\"x0\":7.825,\"x1\":7.575,\"y0\":-154.75549192536542,\"y1\":-146.61990544175583},{\"fillcolor\":\"#738282\",\"line\":{\"color\":\"#738282\",\"width\":2},\"name\":\"Predicted 8\",\"type\":\"rect\",\"x0\":7.825,\"x1\":7.575,\"y0\":-136.59123847032382,\"y1\":-128.3886354281981},{\"fillcolor\":\"#E1E074\",\"line\":{\"color\":\"#E1E074\",\"width\":2},\"name\":\"Predicted 7\",\"type\":\"rect\",\"x0\":7.825,\"x1\":7.575,\"y0\":-120.16914630421441,\"y1\":-111.37220000386502},{\"fillcolor\":\"#D682C6\",\"line\":{\"color\":\"#D682C6\",\"width\":2},\"name\":\"Predicted 6\",\"type\":\"rect\",\"x0\":7.825,\"x1\":7.575,\"y0\":-102.26963903347479,\"y1\":-95.03509331257791},{\"fillcolor\":\"#64DEDC\",\"line\":{\"color\":\"#64DEDC\",\"width\":2},\"name\":\"Predicted 5\",\"type\":\"rect\",\"x0\":7.825,\"x1\":7.575,\"y0\":-88.87047646959014,\"y1\":-78.39237195124997},{\"fillcolor\":\"#FF707D\",\"line\":{\"color\":\"#FF707D\",\"width\":2},\"name\":\"Predicted 4\",\"type\":\"rect\",\"x0\":7.825,\"x1\":7.575,\"y0\":-71.34468326185566,\"y1\":-64.0932514591008},{\"fillcolor\":\"#5CC878\",\"line\":{\"color\":\"#5CC878\",\"width\":2},\"name\":\"Predicted 3\",\"type\":\"rect\",\"x0\":7.825,\"x1\":7.575,\"y0\":-57.72489150275247,\"y1\":-46.82241467583319},{\"fillcolor\":\"#F4F4CC\",\"line\":{\"color\":\"grey\",\"width\":1},\"name\":\"Cadotte 2\",\"type\":\"rect\",\"x0\":8.125,\"x1\":7.875,\"y0\":-64.0932514591008,\"y1\":-79.76791549919992},{\"fillcolor\":\"#F4F4CC\",\"line\":{\"color\":\"grey\",\"width\":1},\"name\":\"Cadotte 3\",\"type\":\"rect\",\"x0\":8.125,\"x1\":7.875,\"y0\":-83.38518835964835,\"y1\":-97.37869418175669},{\"fillcolor\":\"#F4F4CC\",\"line\":{\"color\":\"grey\",\"width\":1},\"name\":\"Cadotte 4\",\"type\":\"rect\",\"x0\":8.125,\"x1\":7.875,\"y0\":-100.89409548552484,\"y1\":-116.05940174222256},{\"fillcolor\":\"#F4F4CC\",\"line\":{\"color\":\"grey\",\"width\":1},\"name\":\"Cadotte 5\",\"type\":\"rect\",\"x0\":8.125,\"x1\":7.875,\"y0\":-119.676674602671,\"y1\":-135.81003818059756},{\"fillcolor\":\"#F4F4CC\",\"line\":{\"color\":\"grey\",\"width\":1},\"name\":\"Cadotte 6\",\"type\":\"rect\",\"x0\":8.125,\"x1\":7.875,\"y0\":-136.98183861518694,\"y1\":-153.97429163563916},{\"fillcolor\":\"#C16200\",\"line\":{\"color\":\"#C16200\",\"width\":2},\"name\":\"Predicted 9\",\"type\":\"rect\",\"x0\":6.825,\"x1\":6.575,\"y0\":-143.90977935928592,\"y1\":-132.513150737898},{\"fillcolor\":\"#738282\",\"line\":{\"color\":\"#738282\",\"width\":2},\"name\":\"Predicted 8\",\"type\":\"rect\",\"x0\":6.825,\"x1\":6.575,\"y0\":-129.84596810666784,\"y1\":-122.11875466558976},{\"fillcolor\":\"#E1E074\",\"line\":{\"color\":\"#E1E074\",\"width\":2},\"name\":\"Predicted 7\",\"type\":\"rect\",\"x0\":6.825,\"x1\":6.575,\"y0\":-118.21275619719071,\"y1\":-110.01015941355271},{\"fillcolor\":\"#D682C6\",\"line\":{\"color\":\"#D682C6\",\"width\":2},\"name\":\"Predicted 6\",\"type\":\"rect\",\"x0\":6.825,\"x1\":6.575,\"y0\":-105.32296125147386,\"y1\":-95.63275659347008},{\"fillcolor\":\"#64DEDC\",\"line\":{\"color\":\"#64DEDC\",\"width\":2},\"name\":\"Predicted 5\",\"type\":\"rect\",\"x0\":6.825,\"x1\":6.575,\"y0\":-90.92840314340461,\"y1\":-83.98238939600634},{\"fillcolor\":\"#FF707D\",\"line\":{\"color\":\"#FF707D\",\"width\":2},\"name\":\"Predicted 4\",\"type\":\"rect\",\"x0\":6.825,\"x1\":6.575,\"y0\":-78.2929586848478,\"y1\":-66.40457176229388},{\"fillcolor\":\"#5CC878\",\"line\":{\"color\":\"#5CC878\",\"width\":2},\"name\":\"Predicted 3\",\"type\":\"rect\",\"x0\":6.825,\"x1\":6.575,\"y0\":-61.58051232945094,\"y1\":-49.11463486233428},{\"fillcolor\":\"#F4F4CC\",\"line\":{\"color\":\"grey\",\"width\":1},\"name\":\"Cadotte 2\",\"type\":\"rect\",\"x0\":7.125,\"x1\":6.875,\"y0\":-58.931096897291646,\"y1\":-72.67132459971897},{\"fillcolor\":\"#F4F4CC\",\"line\":{\"color\":\"grey\",\"width\":1},\"name\":\"Cadotte 3\",\"type\":\"rect\",\"x0\":7.125,\"x1\":6.875,\"y0\":-77.01922036062146,\"y1\":-90.5378032965647},{\"fillcolor\":\"#F4F4CC\",\"line\":{\"color\":\"grey\",\"width\":1},\"name\":\"Cadotte 4\",\"type\":\"rect\",\"x0\":7.125,\"x1\":6.875,\"y0\":-93.57781857556392,\"y1\":-106.49476079199357},{\"fillcolor\":\"#F4F4CC\",\"line\":{\"color\":\"grey\",\"width\":1},\"name\":\"Cadotte 5\",\"type\":\"rect\",\"x0\":7.125,\"x1\":6.875,\"y0\":-109.2289597198729,\"y1\":-121.33755497190995},{\"fillcolor\":\"#F4F4CC\",\"line\":{\"color\":\"grey\",\"width\":1},\"name\":\"Cadotte 6\",\"type\":\"rect\",\"x0\":7.125,\"x1\":6.875,\"y0\":-124.07175389978929,\"y1\":-137.89676509793665},{\"fillcolor\":\"#C16200\",\"line\":{\"color\":\"#C16200\",\"width\":2},\"name\":\"Predicted 9\",\"type\":\"rect\",\"x0\":3.825,\"x1\":3.575,\"y0\":-160.1796028981018,\"y1\":-151.80807428854723},{\"fillcolor\":\"#738282\",\"line\":{\"color\":\"#738282\",\"width\":2},\"name\":\"Predicted 8\",\"type\":\"rect\",\"x0\":3.825,\"x1\":3.575,\"y0\":-144.20025846199007,\"y1\":-131.75236987521964},{\"fillcolor\":\"#E1E074\",\"line\":{\"color\":\"#E1E074\",\"width\":2},\"name\":\"Predicted 7\",\"type\":\"rect\",\"x0\":3.825,\"x1\":3.575,\"y0\":-123.1256277651727,\"y1\":-116.06706951384379},{\"fillcolor\":\"#D682C6\",\"line\":{\"color\":\"#D682C6\",\"width\":2},\"name\":\"Predicted 6\",\"type\":\"rect\",\"x0\":3.825,\"x1\":3.575,\"y0\":-111.7704702151282,\"y1\":-103.08377917394414},{\"fillcolor\":\"#64DEDC\",\"line\":{\"color\":\"#64DEDC\",\"width\":2},\"name\":\"Predicted 5\",\"type\":\"rect\",\"x0\":3.825,\"x1\":3.575,\"y0\":-98.46359616667696,\"y1\":-87.35658482056668},{\"fillcolor\":\"#FF707D\",\"line\":{\"color\":\"#FF707D\",\"width\":2},\"name\":\"Predicted 4\",\"type\":\"rect\",\"x0\":3.825,\"x1\":3.575,\"y0\":-80.3506899227311,\"y1\":-68.20833010537672},{\"fillcolor\":\"#5CC878\",\"line\":{\"color\":\"#5CC878\",\"width\":2},\"name\":\"Predicted 3\",\"type\":\"rect\",\"x0\":3.825,\"x1\":3.575,\"y0\":-61.63643059970281,\"y1\":-50.81945944952833},{\"fillcolor\":\"#F4F4CC\",\"line\":{\"color\":\"grey\",\"width\":1},\"name\":\"Cadotte 2\",\"type\":\"rect\",\"x0\":4.125,\"x1\":3.875,\"y0\":-68.20833010537672,\"y1\":-86.86414196118112},{\"fillcolor\":\"#F4F4CC\",\"line\":{\"color\":\"grey\",\"width\":1},\"name\":\"Cadotte 3\",\"type\":\"rect\",\"x0\":4.125,\"x1\":3.875,\"y0\":-89.63316821035262,\"y1\":-103.08377917394414},{\"fillcolor\":\"#F4F4CC\",\"line\":{\"color\":\"grey\",\"width\":1},\"name\":\"Cadotte 4\",\"type\":\"rect\",\"x0\":4.125,\"x1\":3.875,\"y0\":-105.0116566194848,\"y1\":-121.79203610215629},{\"fillcolor\":\"#F4F4CC\",\"line\":{\"color\":\"grey\",\"width\":1},\"name\":\"Cadotte 5\",\"type\":\"rect\",\"x0\":4.125,\"x1\":3.875,\"y0\":-123.51622770141957,\"y1\":-138.30771590567122},{\"fillcolor\":\"#F4F4CC\",\"line\":{\"color\":\"grey\",\"width\":1},\"name\":\"Cadotte 6\",\"type\":\"rect\",\"x0\":4.125,\"x1\":3.875,\"y0\":-140.07380149693608,\"y1\":-157.71738860117398},{\"fillcolor\":\"#C16200\",\"line\":{\"color\":\"#C16200\",\"width\":2},\"name\":\"Predicted 9\",\"type\":\"rect\",\"x0\":2.825,\"x1\":2.575,\"y0\":-143.50078158723773,\"y1\":-131.54515115489863},{\"fillcolor\":\"#738282\",\"line\":{\"color\":\"#738282\",\"width\":2},\"name\":\"Predicted 8\",\"type\":\"rect\",\"x0\":2.825,\"x1\":2.575,\"y0\":-126.55230171826638,\"y1\":-118.02611664375031},{\"fillcolor\":\"#E1E074\",\"line\":{\"color\":\"#E1E074\",\"width\":2},\"name\":\"Predicted 7\",\"type\":\"rect\",\"x0\":2.825,\"x1\":2.575,\"y0\":-112.64266712185956,\"y1\":-104.72878261217973},{\"fillcolor\":\"#D682C6\",\"line\":{\"color\":\"#D682C6\",\"width\":2},\"name\":\"Predicted 6\",\"type\":\"rect\",\"x0\":2.825,\"x1\":2.575,\"y0\":-98.27541563902368,\"y1\":-88.5953651792896},{\"fillcolor\":\"#64DEDC\",\"line\":{\"color\":\"#64DEDC\",\"width\":2},\"name\":\"Predicted 5\",\"type\":\"rect\",\"x0\":2.825,\"x1\":2.575,\"y0\":-84.58748152219461,\"y1\":-75.6886312329775},{\"fillcolor\":\"#FF707D\",\"line\":{\"color\":\"#FF707D\",\"width\":2},\"name\":\"Predicted 4\",\"type\":\"rect\",\"x0\":2.825,\"x1\":2.575,\"y0\":-69.52398154056978,\"y1\":-59.72511714354344},{\"fillcolor\":\"#5CC878\",\"line\":{\"color\":\"#5CC878\",\"width\":2},\"name\":\"Predicted 3\",\"type\":\"rect\",\"x0\":2.825,\"x1\":2.575,\"y0\":-55.91117592632342,\"y1\":-46.60479441906575},{\"fillcolor\":\"#F4F4CC\",\"line\":{\"color\":\"grey\",\"width\":1},\"name\":\"Cadotte 2\",\"type\":\"rect\",\"x0\":3.125,\"x1\":2.875,\"y0\":-61.49128309359767,\"y1\":-76.86043148875295},{\"fillcolor\":\"#F4F4CC\",\"line\":{\"color\":\"grey\",\"width\":1},\"name\":\"Cadotte 3\",\"type\":\"rect\",\"x0\":3.125,\"x1\":2.875,\"y0\":-78.81343191504537,\"y1\":-96.2205324082211},{\"fillcolor\":\"#F4F4CC\",\"line\":{\"color\":\"grey\",\"width\":1},\"name\":\"Cadotte 4\",\"type\":\"rect\",\"x0\":3.125,\"x1\":2.875,\"y0\":-107.17426592824079,\"y1\":-110.68966669556714},{\"fillcolor\":\"#F4F4CC\",\"line\":{\"color\":\"grey\",\"width\":1},\"name\":\"Cadotte 5\",\"type\":\"rect\",\"x0\":3.125,\"x1\":2.875,\"y0\":-122.71331766685212,\"y1\":-126.94290180352486},{\"fillcolor\":\"#C16200\",\"line\":{\"color\":\"#C16200\",\"width\":2},\"name\":\"Predicted 9\",\"type\":\"rect\",\"x0\":12.825,\"x1\":12.575,\"y0\":-155.1127346729961,\"y1\":-146.38391719636945},{\"fillcolor\":\"#738282\",\"line\":{\"color\":\"#738282\",\"width\":2},\"name\":\"Predicted 8\",\"type\":\"rect\",\"x0\":12.825,\"x1\":12.575,\"y0\":-142.17231158333766,\"y1\":-132.0848318620989},{\"fillcolor\":\"#E1E074\",\"line\":{\"color\":\"#E1E074\",\"width\":2},\"name\":\"Predicted 7\",\"type\":\"rect\",\"x0\":12.825,\"x1\":12.575,\"y0\":-125.90224927843163,\"y1\":-113.58991375440321},{\"fillcolor\":\"#D682C6\",\"line\":{\"color\":\"#D682C6\",\"width\":2},\"name\":\"Predicted 6\",\"type\":\"rect\",\"x0\":12.825,\"x1\":12.575,\"y0\":-108.41024583300619,\"y1\":-98.441509926459},{\"fillcolor\":\"#64DEDC\",\"line\":{\"color\":\"#64DEDC\",\"width\":2},\"name\":\"Predicted 5\",\"type\":\"rect\",\"x0\":12.825,\"x1\":12.575,\"y0\":-94.4336418138026,\"y1\":-82.58002484720096},{\"fillcolor\":\"#FF707D\",\"line\":{\"color\":\"#FF707D\",\"width\":2},\"name\":\"Predicted 4\",\"type\":\"rect\",\"x0\":12.825,\"x1\":12.575,\"y0\":-77.58721936167542,\"y1\":-67.58473332612046},{\"fillcolor\":\"#5CC878\",\"line\":{\"color\":\"#5CC878\",\"width\":2},\"name\":\"Predicted 3\",\"type\":\"rect\",\"x0\":12.825,\"x1\":12.575,\"y0\":-62.676921526278726,\"y1\":-51.55277701376193},{\"fillcolor\":\"#F4F4CC\",\"line\":{\"color\":\"grey\",\"width\":1},\"name\":\"Cadotte 2\",\"type\":\"rect\",\"x0\":13.125,\"x1\":12.875,\"y0\":-84.24429334237614,\"y1\":-90.71450488720536},{\"fillcolor\":\"#F4F4CC\",\"line\":{\"color\":\"grey\",\"width\":1},\"name\":\"Cadotte 3\",\"type\":\"rect\",\"x0\":13.125,\"x1\":12.875,\"y0\":-104.79297765659665,\"y1\":-110.07451432818137},{\"fillcolor\":\"#F4F4CC\",\"line\":{\"color\":\"grey\",\"width\":1},\"name\":\"Cadotte 4\",\"type\":\"rect\",\"x0\":13.125,\"x1\":12.875,\"y0\":-122.1831123518344,\"y1\":-127.46464902341911},{\"fillcolor\":\"#F4F4CC\",\"line\":{\"color\":\"grey\",\"width\":1},\"name\":\"Cadotte 5\",\"type\":\"rect\",\"x0\":13.125,\"x1\":12.875,\"y0\":-141.39111171084392,\"y1\":-163.65468971375128},{\"fillcolor\":\"#C16200\",\"line\":{\"color\":\"#C16200\",\"width\":2},\"name\":\"Predicted 9\",\"type\":\"rect\",\"x0\":5.825,\"x1\":5.575,\"y0\":-128.90231674347382,\"y1\":-123.7225965982174},{\"fillcolor\":\"#738282\",\"line\":{\"color\":\"#738282\",\"width\":2},\"name\":\"Predicted 8\",\"type\":\"rect\",\"x0\":5.825,\"x1\":5.575,\"y0\":-120.39395676947362,\"y1\":-112.191356230743},{\"fillcolor\":\"#E1E074\",\"line\":{\"color\":\"#E1E074\",\"width\":2},\"name\":\"Predicted 7\",\"type\":\"rect\",\"x0\":5.825,\"x1\":5.575,\"y0\":-107.50415592289693,\"y1\":-100.48124485595406},{\"fillcolor\":\"#D682C6\",\"line\":{\"color\":\"#D682C6\",\"width\":2},\"name\":\"Predicted 6\",\"type\":\"rect\",\"x0\":5.825,\"x1\":5.575,\"y0\":-94.1297246337361,\"y1\":-87.36132852714003},{\"fillcolor\":\"#64DEDC\",\"line\":{\"color\":\"#64DEDC\",\"width\":2},\"name\":\"Predicted 5\",\"type\":\"rect\",\"x0\":5.825,\"x1\":5.575,\"y0\":-81.97776875837053,\"y1\":-72.97688894695995},{\"fillcolor\":\"#FF707D\",\"line\":{\"color\":\"#FF707D\",\"width\":2},\"name\":\"Predicted 4\",\"type\":\"rect\",\"x0\":5.825,\"x1\":5.575,\"y0\":-65.64032904992125,\"y1\":-58.50760877639561},{\"fillcolor\":\"#5CC878\",\"line\":{\"color\":\"#5CC878\",\"width\":2},\"name\":\"Predicted 3\",\"type\":\"rect\",\"x0\":5.825,\"x1\":5.575,\"y0\":-53.49682489666504,\"y1\":-43.71474503394675},{\"fillcolor\":\"#F4F4CC\",\"line\":{\"color\":\"grey\",\"width\":1},\"name\":\"Cadotte 2\",\"type\":\"rect\",\"x0\":6.125,\"x1\":5.875,\"y0\":-58.50760877639561,\"y1\":-76.10168915219066},{\"fillcolor\":\"#F4F4CC\",\"line\":{\"color\":\"grey\",\"width\":1},\"name\":\"Cadotte 3\",\"type\":\"rect\",\"x0\":6.125,\"x1\":5.875,\"y0\":-84.13460851015279,\"y1\":-88.92372862975539},{\"fillcolor\":\"#F4F4CC\",\"line\":{\"color\":\"grey\",\"width\":1},\"name\":\"Cadotte 4\",\"type\":\"rect\",\"x0\":6.125,\"x1\":5.875,\"y0\":-97.74704467637719,\"y1\":-103.19047641933241},{\"fillcolor\":\"#F4F4CC\",\"line\":{\"color\":\"grey\",\"width\":1},\"name\":\"Cadotte 5\",\"type\":\"rect\",\"x0\":6.125,\"x1\":5.875,\"y0\":-113.36315630770451,\"y1\":-127.33991664085848},{\"fillcolor\":\"#C16200\",\"line\":{\"color\":\"#C16200\",\"width\":2},\"name\":\"Predicted 9\",\"type\":\"rect\",\"x0\":11.825,\"x1\":11.575,\"y0\":-151.52903051078619,\"y1\":-141.47477349894103},{\"fillcolor\":\"#738282\",\"line\":{\"color\":\"#738282\",\"width\":2},\"name\":\"Predicted 8\",\"type\":\"rect\",\"x0\":11.825,\"x1\":11.575,\"y0\":-136.10771939591905,\"y1\":-126.39264990935459},{\"fillcolor\":\"#E1E074\",\"line\":{\"color\":\"#E1E074\",\"width\":2},\"name\":\"Predicted 7\",\"type\":\"rect\",\"x0\":11.825,\"x1\":11.575,\"y0\":-123.26784875044956,\"y1\":-115.6846543102437},{\"fillcolor\":\"#D682C6\",\"line\":{\"color\":\"#D682C6\",\"width\":2},\"name\":\"Predicted 6\",\"type\":\"rect\",\"x0\":11.825,\"x1\":11.575,\"y0\":-109.64677781525387,\"y1\":-100.3572123990772},{\"fillcolor\":\"#64DEDC\",\"line\":{\"color\":\"#64DEDC\",\"width\":2},\"name\":\"Predicted 5\",\"type\":\"rect\",\"x0\":11.825,\"x1\":11.575,\"y0\":-94.7868896762185,\"y1\":-84.95355668815981},{\"fillcolor\":\"#FF707D\",\"line\":{\"color\":\"#FF707D\",\"width\":2},\"name\":\"Predicted 4\",\"type\":\"rect\",\"x0\":11.825,\"x1\":11.575,\"y0\":-78.85580920013847,\"y1\":-68.13861540006151},{\"fillcolor\":\"#5CC878\",\"line\":{\"color\":\"#5CC878\",\"width\":2},\"name\":\"Predicted 3\",\"type\":\"rect\",\"x0\":11.825,\"x1\":11.575,\"y0\":-63.23048963791767,\"y1\":-49.710765457318224},{\"fillcolor\":\"#F4F4CC\",\"line\":{\"color\":\"grey\",\"width\":1},\"name\":\"Cadotte 2\",\"type\":\"rect\",\"x0\":12.125,\"x1\":11.875,\"y0\":-83.57791486402061,\"y1\":-103.0914134131191},{\"fillcolor\":\"#F4F4CC\",\"line\":{\"color\":\"grey\",\"width\":1},\"name\":\"Cadotte 3\",\"type\":\"rect\",\"x0\":12.125,\"x1\":11.875,\"y0\":-104.26321384770849,\"y1\":-122.09604831586017},{\"fillcolor\":\"#F4F4CC\",\"line\":{\"color\":\"grey\",\"width\":1},\"name\":\"Cadotte 4\",\"type\":\"rect\",\"x0\":12.125,\"x1\":11.875,\"y0\":-132.74417292193957,\"y1\":-153.78779331942658},{\"fillcolor\":\"#C16200\",\"line\":{\"color\":\"#C16200\",\"width\":2},\"name\":\"Predicted 9\",\"type\":\"rect\",\"x0\":8.825,\"x1\":8.575,\"y0\":-150.823097419206,\"y1\":-142.27988873539775},{\"fillcolor\":\"#738282\",\"line\":{\"color\":\"#738282\",\"width\":2},\"name\":\"Predicted 8\",\"type\":\"rect\",\"x0\":8.825,\"x1\":8.575,\"y0\":-135.96191281152895,\"y1\":-125.24480461266543},{\"fillcolor\":\"#E1E074\",\"line\":{\"color\":\"#E1E074\",\"width\":2},\"name\":\"Predicted 7\",\"type\":\"rect\",\"x0\":8.825,\"x1\":8.575,\"y0\":-122.40867773660227,\"y1\":-112.76075185852092},{\"fillcolor\":\"#D682C6\",\"line\":{\"color\":\"#D682C6\",\"width\":2},\"name\":\"Predicted 6\",\"type\":\"rect\",\"x0\":8.825,\"x1\":8.575,\"y0\":-107.68295346217197,\"y1\":-97.98497255285075},{\"fillcolor\":\"#64DEDC\",\"line\":{\"color\":\"#64DEDC\",\"width\":2},\"name\":\"Predicted 5\",\"type\":\"rect\",\"x0\":8.825,\"x1\":8.575,\"y0\":-92.51657427985957,\"y1\":-83.68460978176232},{\"fillcolor\":\"#FF707D\",\"line\":{\"color\":\"#FF707D\",\"width\":2},\"name\":\"Predicted 4\",\"type\":\"rect\",\"x0\":8.825,\"x1\":8.575,\"y0\":-76.0422455647968,\"y1\":-66.63362636212723},{\"fillcolor\":\"#5CC878\",\"line\":{\"color\":\"#5CC878\",\"width\":2},\"name\":\"Predicted 3\",\"type\":\"rect\",\"x0\":8.825,\"x1\":8.575,\"y0\":-61.827389021224874,\"y1\":-47.884093533099545},{\"fillcolor\":\"#F4F4CC\",\"line\":{\"color\":\"grey\",\"width\":1},\"name\":\"Cadotte 2\",\"type\":\"rect\",\"x0\":9.125,\"x1\":8.875,\"y0\":-62.81244425364447,\"y1\":-84.07520965840455},{\"fillcolor\":\"#F4F4CC\",\"line\":{\"color\":\"grey\",\"width\":1},\"name\":\"Cadotte 3\",\"type\":\"rect\",\"x0\":9.125,\"x1\":8.875,\"y0\":-97.59437267620852,\"y1\":-120.45567835339114},{\"fillcolor\":\"#F4F4CC\",\"line\":{\"color\":\"grey\",\"width\":1},\"name\":\"Cadotte 4\",\"type\":\"rect\",\"x0\":9.125,\"x1\":8.875,\"y0\":-132.78584698242602,\"y1\":-139.00189516672725},{\"fillcolor\":\"#C16200\",\"line\":{\"color\":\"#C16200\",\"width\":2},\"name\":\"Predicted 9\",\"type\":\"rect\",\"x0\":9.825,\"x1\":9.575,\"y0\":-147.74535501296089,\"y1\":-139.13502785278763},{\"fillcolor\":\"#738282\",\"line\":{\"color\":\"#738282\",\"width\":2},\"name\":\"Predicted 8\",\"type\":\"rect\",\"x0\":9.825,\"x1\":9.575,\"y0\":-132.1042247088095,\"y1\":-125.07342156483138},{\"fillcolor\":\"#E1E074\",\"line\":{\"color\":\"#E1E074\",\"width\":2},\"name\":\"Predicted 7\",\"type\":\"rect\",\"x0\":9.825,\"x1\":9.575,\"y0\":-121.45608911979262,\"y1\":-112.94769283266906},{\"fillcolor\":\"#D682C6\",\"line\":{\"color\":\"#D682C6\",\"width\":2},\"name\":\"Predicted 6\",\"type\":\"rect\",\"x0\":9.825,\"x1\":9.575,\"y0\":-108.34529829220001,\"y1\":-96.8639248533391},{\"fillcolor\":\"#64DEDC\",\"line\":{\"color\":\"#64DEDC\",\"width\":2},\"name\":\"Predicted 5\",\"type\":\"rect\",\"x0\":9.825,\"x1\":9.575,\"y0\":-92.07479188430399,\"y1\":-83.17579542251498},{\"fillcolor\":\"#FF707D\",\"line\":{\"color\":\"#FF707D\",\"width\":2},\"name\":\"Predicted 4\",\"type\":\"rect\",\"x0\":9.825,\"x1\":9.575,\"y0\":-77.40160035804958,\"y1\":-68.34081215396279},{\"fillcolor\":\"#5CC878\",\"line\":{\"color\":\"#5CC878\",\"width\":2},\"name\":\"Predicted 3\",\"type\":\"rect\",\"x0\":9.825,\"x1\":9.575,\"y0\":-63.94227935959312,\"y1\":-48.25769734123759},{\"fillcolor\":\"#F4F4CC\",\"line\":{\"color\":\"grey\",\"width\":1},\"name\":\"Cadotte 2\",\"type\":\"rect\",\"x0\":10.125,\"x1\":9.875,\"y0\":-63.55167918492767,\"y1\":-78.57340088204593},{\"fillcolor\":\"#F4F4CC\",\"line\":{\"color\":\"grey\",\"width\":1},\"name\":\"Cadotte 3\",\"type\":\"rect\",\"x0\":10.125,\"x1\":9.875,\"y0\":-81.61339472385318,\"y1\":-94.80899310696215},{\"fillcolor\":\"#F4F4CC\",\"line\":{\"color\":\"grey\",\"width\":1},\"name\":\"Cadotte 4\",\"type\":\"rect\",\"x0\":10.125,\"x1\":9.875,\"y0\":-98.6301872981003,\"y1\":-111.96263073723877},{\"fillcolor\":\"#F4F4CC\",\"line\":{\"color\":\"grey\",\"width\":1},\"name\":\"Cadotte 5\",\"type\":\"rect\",\"x0\":10.125,\"x1\":9.875,\"y0\":-115.68189405532722,\"y1\":-128.58882313682045},{\"fillcolor\":\"#F4F4CC\",\"line\":{\"color\":\"grey\",\"width\":1},\"name\":\"Cadotte 6\",\"type\":\"rect\",\"x0\":10.125,\"x1\":9.875,\"y0\":-131.71362453414406,\"y1\":-148.5265553622918},{\"fillcolor\":\"#C16200\",\"line\":{\"color\":\"#C16200\",\"width\":2},\"name\":\"Predicted 9\",\"type\":\"rect\",\"x0\":13.825,\"x1\":13.575,\"y0\":-143.46787182337275,\"y1\":-136.94661340563093},{\"fillcolor\":\"#738282\",\"line\":{\"color\":\"#738282\",\"width\":2},\"name\":\"Predicted 8\",\"type\":\"rect\",\"x0\":13.825,\"x1\":13.575,\"y0\":-129.78025225362825,\"y1\":-121.25521448237609},{\"fillcolor\":\"#E1E074\",\"line\":{\"color\":\"#E1E074\",\"width\":2},\"name\":\"Predicted 7\",\"type\":\"rect\",\"x0\":13.825,\"x1\":13.575,\"y0\":-115.10716864809504,\"y1\":-106.90456498012057},{\"fillcolor\":\"#D682C6\",\"line\":{\"color\":\"#D682C6\",\"width\":2},\"name\":\"Predicted 6\",\"type\":\"rect\",\"x0\":13.825,\"x1\":13.575,\"y0\":-101.43616253480425,\"y1\":-91.36557204904949},{\"fillcolor\":\"#64DEDC\",\"line\":{\"color\":\"#64DEDC\",\"width\":2},\"name\":\"Predicted 5\",\"type\":\"rect\",\"x0\":13.825,\"x1\":13.575,\"y0\":-86.96710808802337,\"y1\":-75.50414501470073},{\"fillcolor\":\"#FF707D\",\"line\":{\"color\":\"#FF707D\",\"width\":2},\"name\":\"Predicted 4\",\"type\":\"rect\",\"x0\":13.825,\"x1\":13.575,\"y0\":-70.3244807043437,\"y1\":-60.7965209702839},{\"fillcolor\":\"#5CC878\",\"line\":{\"color\":\"#5CC878\",\"width\":2},\"name\":\"Predicted 3\",\"type\":\"rect\",\"x0\":13.825,\"x1\":13.575,\"y0\":-55.80373275518,\"y1\":-43.15212117370181},{\"fillcolor\":\"#F4F4CC\",\"line\":{\"color\":\"grey\",\"width\":1},\"name\":\"Cadotte 2\",\"type\":\"rect\",\"x0\":14.125,\"x1\":13.875,\"y0\":-66.5705095347187,\"y1\":-73.94174431603892},{\"fillcolor\":\"#F4F4CC\",\"line\":{\"color\":\"grey\",\"width\":1},\"name\":\"Cadotte 3\",\"type\":\"rect\",\"x0\":14.125,\"x1\":13.875,\"y0\":-85.09912127024307,\"y1\":-102.99856323346606},{\"fillcolor\":\"#F4F4CC\",\"line\":{\"color\":\"grey\",\"width\":1},\"name\":\"Cadotte 4\",\"type\":\"rect\",\"x0\":14.125,\"x1\":13.875,\"y0\":-105.34216428145876,\"y1\":-119.30221360904883},{\"fillcolor\":\"#F4F4CC\",\"line\":{\"color\":\"grey\",\"width\":1},\"name\":\"Cadotte 5\",\"type\":\"rect\",\"x0\":14.125,\"x1\":13.875,\"y0\":-120.86461430771064,\"y1\":-137.33721358029638},{\"fillcolor\":\"#C16200\",\"line\":{\"color\":\"#C16200\",\"width\":2},\"name\":\"Predicted 9\",\"type\":\"rect\",\"x0\":0.825,\"x1\":0.575,\"y0\":-162.22321281935518,\"y1\":-148.4916253167509},{\"fillcolor\":\"#738282\",\"line\":{\"color\":\"#738282\",\"width\":2},\"name\":\"Predicted 8\",\"type\":\"rect\",\"x0\":0.825,\"x1\":0.575,\"y0\":-143.4986302646685,\"y1\":-135.66950371981798},{\"fillcolor\":\"#E1E074\",\"line\":{\"color\":\"#E1E074\",\"width\":2},\"name\":\"Predicted 7\",\"type\":\"rect\",\"x0\":0.825,\"x1\":0.575,\"y0\":-129.02930480362116,\"y1\":-118.95851058032942},{\"fillcolor\":\"#D682C6\",\"line\":{\"color\":\"#D682C6\",\"width\":2},\"name\":\"Predicted 6\",\"type\":\"rect\",\"x0\":0.825,\"x1\":0.575,\"y0\":-112.3183116641326,\"y1\":-102.14558550180091},{\"fillcolor\":\"#64DEDC\",\"line\":{\"color\":\"#64DEDC\",\"width\":2},\"name\":\"Predicted 5\",\"type\":\"rect\",\"x0\":0.825,\"x1\":0.575,\"y0\":-97.84898620308532,\"y1\":-86.99699210729986},{\"fillcolor\":\"#FF707D\",\"line\":{\"color\":\"#FF707D\",\"width\":2},\"name\":\"Predicted 4\",\"type\":\"rect\",\"x0\":0.825,\"x1\":0.575,\"y0\":-78.09799769274876,\"y1\":-69.16408765114669},{\"fillcolor\":\"#5CC878\",\"line\":{\"color\":\"#5CC878\",\"width\":2},\"name\":\"Predicted 3\",\"type\":\"rect\",\"x0\":0.825,\"x1\":0.575,\"y0\":-64.17109259906431,\"y1\":-50.69402257340456},{\"fillcolor\":\"#F4F4CC\",\"line\":{\"color\":\"grey\",\"width\":1},\"name\":\"Cadotte 2\",\"type\":\"rect\",\"x0\":1.125,\"x1\":0.875,\"y0\":-69.94528752364043,\"y1\":-87.38759204354673},{\"fillcolor\":\"#F4F4CC\",\"line\":{\"color\":\"grey\",\"width\":1},\"name\":\"Cadotte 3\",\"type\":\"rect\",\"x0\":1.125,\"x1\":0.875,\"y0\":-88.55939185228735,\"y1\":-105.66098492802276},{\"fillcolor\":\"#F4F4CC\",\"line\":{\"color\":\"grey\",\"width\":1},\"name\":\"Cadotte 4\",\"type\":\"rect\",\"x0\":1.125,\"x1\":0.875,\"y0\":-108.70098029887077,\"y1\":-124.03630975153875},{\"fillcolor\":\"#F4F4CC\",\"line\":{\"color\":\"grey\",\"width\":1},\"name\":\"Cadotte 5\",\"type\":\"rect\",\"x0\":1.125,\"x1\":0.875,\"y0\":-125.20810956027937,\"y1\":-141.44369864439415},{\"fillcolor\":\"#F4F4CC\",\"line\":{\"color\":\"grey\",\"width\":1},\"name\":\"Cadotte 6\",\"type\":\"rect\",\"x0\":1.125,\"x1\":0.875,\"y0\":-143.10803032842162,\"y1\":-162.22321281935518},{\"fillcolor\":\"#C16200\",\"line\":{\"color\":\"#C16200\",\"width\":2},\"name\":\"Predicted 9\",\"type\":\"rect\",\"x0\":1.825,\"x1\":1.575,\"y0\":-146.3507442571628,\"y1\":-138.19921398044758},{\"fillcolor\":\"#738282\",\"line\":{\"color\":\"#738282\",\"width\":2},\"name\":\"Predicted 8\",\"type\":\"rect\",\"x0\":1.825,\"x1\":1.575,\"y0\":-134.75959097665117,\"y1\":-124.67093025666209},{\"fillcolor\":\"#E1E074\",\"line\":{\"color\":\"#E1E074\",\"width\":2},\"name\":\"Predicted 7\",\"type\":\"rect\",\"x0\":1.825,\"x1\":1.575,\"y0\":-123.19347648001553,\"y1\":-112.7152849456214},{\"fillcolor\":\"#D682C6\",\"line\":{\"color\":\"#D682C6\",\"width\":2},\"name\":\"Predicted 6\",\"type\":\"rect\",\"x0\":1.825,\"x1\":1.575,\"y0\":-109.19988525117866,\"y1\":-101.38788593019477},{\"fillcolor\":\"#64DEDC\",\"line\":{\"color\":\"#64DEDC\",\"width\":2},\"name\":\"Predicted 5\",\"type\":\"rect\",\"x0\":1.825,\"x1\":1.575,\"y0\":-93.6608326967611,\"y1\":-85.83189483716112},{\"fillcolor\":\"#FF707D\",\"line\":{\"color\":\"#FF707D\",\"width\":2},\"name\":\"Predicted 4\",\"type\":\"rect\",\"x0\":1.825,\"x1\":1.575,\"y0\":-77.08599534206421,\"y1\":-67.66078054103524},{\"fillcolor\":\"#5CC878\",\"line\":{\"color\":\"#5CC878\",\"width\":2},\"name\":\"Predicted 3\",\"type\":\"rect\",\"x0\":1.825,\"x1\":1.575,\"y0\":-60.29045019641852,\"y1\":-49.03875016256029},{\"fillcolor\":\"#F4F4CC\",\"line\":{\"color\":\"grey\",\"width\":1},\"name\":\"Cadotte 2\",\"type\":\"rect\",\"x0\":2.125,\"x1\":1.875,\"y0\":-62.15850393911429,\"y1\":-78.07096452649525},{\"fillcolor\":\"#F4F4CC\",\"line\":{\"color\":\"grey\",\"width\":1},\"name\":\"Cadotte 3\",\"type\":\"rect\",\"x0\":2.125,\"x1\":1.875,\"y0\":-79.83713364302467,\"y1\":-97.48188626970283},{\"fillcolor\":\"#F4F4CC\",\"line\":{\"color\":\"grey\",\"width\":1},\"name\":\"Cadotte 4\",\"type\":\"rect\",\"x0\":2.125,\"x1\":1.875,\"y0\":-100.60668599809638,\"y1\":-115.46642324658187},{\"fillcolor\":\"#F4F4CC\",\"line\":{\"color\":\"grey\",\"width\":1},\"name\":\"Cadotte 5\",\"type\":\"rect\",\"x0\":2.125,\"x1\":1.875,\"y0\":-117.41942307682784,\"y1\":-131.27799065036268},{\"fillcolor\":\"#F4F4CC\",\"line\":{\"color\":\"grey\",\"width\":1},\"name\":\"Cadotte 6\",\"type\":\"rect\",\"x0\":2.125,\"x1\":1.875,\"y0\":-134.75959097665117,\"y1\":-152.75304395596473}],\"xaxis\":{\"title\":{\"text\":\"Subject\"},\"range\":[0,15],\"ticktext\":[\"1\",\"2\",\"3\",\"4\",\"5\",\"6\",\"7\",\"8\",\"9\",\"10\",\"11\",\"12\",\"13\",\"14\"],\"tickvals\":[1,2,3,4,5,6,7,8,9,10,11,12,13,14]},\"yaxis\":{\"title\":{\"text\":\"PMJ distance (PMJ = 0 mm)\"},\"range\":[-167.22321281935518,-38.15212117370181],\"autorange\":\"reversed\",\"dtick\":10},\"title\":{\"text\":\"Nerve rootlet layout\"},\"showlegend\":true},                        {\"responsive\": true}                    ).then(function(){\n                            \nvar gd = document.getElementById('fffd1383-3192-4ee3-93e3-e3b76c868ae9');\nvar x = new MutationObserver(function (mutations, observer) {{\n        var display = window.getComputedStyle(gd).display;\n        if (!display || display === 'none') {{\n            console.log([gd, 'removed!']);\n            Plotly.purge(gd);\n            observer.disconnect();\n        }}\n}});\n\n// Listen for the removal of the full notebook cells\nvar notebookContainer = gd.closest('#notebook-container');\nif (notebookContainer) {{\n    x.observe(notebookContainer, {childList: true});\n}}\n\n// Listen for the clearing of the current output cell\nvar outputEl = gd.closest('.output');\nif (outputEl) {{\n    x.observe(outputEl, {childList: true});\n}}\n\n                        })                };                });            </script>        </div>"
     },
     "metadata": {},
     "output_type": "display_data"
    }
   ],
   "source": [
    "subject = 1\n",
    "#colors = ['#5CC878', '#FF707D', '#64DEDC', '#D682C6', '#E1E074', '#738282', '#C16200', '#197278', '#EF9CDA']\n",
    "colors = {2: '#5B6C5D', 3: '#5CC878', 4: '#FF707D', 5: '#64DEDC', 6: '#D682C6', 7: '#E1E074', 8: '#738282', 9: '#C16200', 10: '#197278', 11: '#EF9CDA'}\n",
    "\n",
    "fig = go.Figure()\n",
    "print(f\"what\\tLevel\\tstart\\tend\")\n",
    "for i, subject in enumerate(df_root_pd[\"sub_name\"].unique()):\n",
    "    df_root_sub = df_root_pd[df_root_pd[\"sub_name\"] == subject]\n",
    "    df_ver_sub = df_ver_pd[df_ver_pd[\"sub_name\"] == subject]\n",
    "    id = int(subject.split(\"-\")[1])\n",
    "    print(subject, id)\n",
    "    for idx, level in enumerate(df_root_sub[\"level\"].unique()):\n",
    "        df_level_pmj = df_root_sub[df_root_sub[\"level\"] == level]\n",
    "        if not np.isnan(df_level_pmj[\"PMJ_start\"].values[0]):\n",
    "            root_s = df_level_pmj[\"PMJ_start\"].values[0]\n",
    "            root_e = df_level_pmj[\"PMJ_end\"].values[0]\n",
    "            fig.add_shape(\n",
    "                type=\"rect\",\n",
    "                x0=id - 0.175, y0=root_e, x1=id - 0.425, y1=root_s,\n",
    "                line=dict(color=colors[level], width=2),\n",
    "                fillcolor=colors[level],\n",
    "                name=f\"Predicted {level}\",\n",
    "            )\n",
    "        else:\n",
    "            root_s = np.nan\n",
    "            root_e = np.nan\n",
    "        print(f\"root\\t{level}\\t{root_s:.2f}/{root_e:.2f}\")\n",
    "\n",
    "    for idx, level in enumerate(df_ver_sub[\"level\"].unique()[1:]):\n",
    "        df_level_cad = df_ver_sub[df_ver_sub[\"level\"] == level]\n",
    "        if not np.isnan(df_level_cad[\"PMJ_start\"].values[0]):\n",
    "            ver_s = df_level_cad[\"PMJ_start\"].values[0]\n",
    "            ver_e = df_level_cad[\"PMJ_end\"].values[0]\n",
    "            fig.add_shape(\n",
    "                type=\"rect\",\n",
    "                x0=id + 0.125, y0=ver_s, x1=id - 0.125, y1=ver_e,\n",
    "                line=dict(color=\"grey\", width=1),\n",
    "                fillcolor=\"#F4F4CC\",\n",
    "                name=f\"Cadotte {level}\"\n",
    "            )\n",
    "        else:\n",
    "            ver_s = np.nan\n",
    "            ver_e = np.nan\n",
    "        print(f\"vertebrae\\t{level}\\t{ver_s:.2f}/{ver_e:.2f}\")\n",
    "\n",
    "fig.update_layout(\n",
    "    title=\"Nerve rootlet layout\",\n",
    "    xaxis_title=\"Subject\",\n",
    "    yaxis_title=\"PMJ distance (PMJ = 0 mm)\",\n",
    "    xaxis_range=[0, 15],  # Adjust the x-axis range as needed\n",
    "    yaxis_range=[min(df_root_pd[\"PMJ_end\"]) - 5, max(df_root_pd[\"PMJ_start\"])+5],  # Adjust the y-axis range as needed\n",
    "    yaxis_autorange='reversed',\n",
    "    showlegend=True,\n",
    "    xaxis=dict(ticktext=[str(x) for x in range(1, 15)], tickvals=[*range(1, 15)]),\n",
    "    yaxis=dict(dtick=10)\n",
    ")\n",
    "fig.show()"
   ],
   "metadata": {
    "collapsed": false,
    "ExecuteTime": {
     "end_time": "2023-08-15T00:14:47.167579Z",
     "start_time": "2023-08-15T00:14:45.490622Z"
    }
   }
  },
  {
   "cell_type": "code",
   "execution_count": 232,
   "outputs": [
    {
     "data": {
      "text/plain": "            sub_name  level   PMJ_start     PMJ_end  slice_s  slice_e\n0    sub-5-13755_009      9 -136.924703 -145.959067      134      114\n1    sub-5-13755_009      8 -122.710674 -132.220648      167      145\n2    sub-5-13755_009      7 -111.824036 -120.367074      193      173\n3    sub-5-13755_009      6  -98.628645 -106.831245      226      205\n4    sub-5-13755_009      5  -83.462261  -93.617861      264      238\n..               ...    ...         ...         ...      ...      ...\n96   sub-2-13697_005      7 -112.715285 -113.598370      191      189\n97   sub-2-13697_005      6 -101.387886 -109.199885      220      200\n98   sub-2-13697_005      5  -85.831895  -93.660833      258      239\n99   sub-2-13697_005      4  -67.660781  -77.085995      298      277\n100  sub-2-13697_005      3  -49.038750  -60.290450      337      314\n\n[101 rows x 6 columns]",
      "text/html": "<div>\n<style scoped>\n    .dataframe tbody tr th:only-of-type {\n        vertical-align: middle;\n    }\n\n    .dataframe tbody tr th {\n        vertical-align: top;\n    }\n\n    .dataframe thead th {\n        text-align: right;\n    }\n</style>\n<table border=\"1\" class=\"dataframe\">\n  <thead>\n    <tr style=\"text-align: right;\">\n      <th></th>\n      <th>sub_name</th>\n      <th>level</th>\n      <th>PMJ_start</th>\n      <th>PMJ_end</th>\n      <th>slice_s</th>\n      <th>slice_e</th>\n    </tr>\n  </thead>\n  <tbody>\n    <tr>\n      <th>0</th>\n      <td>sub-5-13755_009</td>\n      <td>9</td>\n      <td>-136.924703</td>\n      <td>-145.959067</td>\n      <td>134</td>\n      <td>114</td>\n    </tr>\n    <tr>\n      <th>1</th>\n      <td>sub-5-13755_009</td>\n      <td>8</td>\n      <td>-122.710674</td>\n      <td>-132.220648</td>\n      <td>167</td>\n      <td>145</td>\n    </tr>\n    <tr>\n      <th>2</th>\n      <td>sub-5-13755_009</td>\n      <td>7</td>\n      <td>-111.824036</td>\n      <td>-120.367074</td>\n      <td>193</td>\n      <td>173</td>\n    </tr>\n    <tr>\n      <th>3</th>\n      <td>sub-5-13755_009</td>\n      <td>6</td>\n      <td>-98.628645</td>\n      <td>-106.831245</td>\n      <td>226</td>\n      <td>205</td>\n    </tr>\n    <tr>\n      <th>4</th>\n      <td>sub-5-13755_009</td>\n      <td>5</td>\n      <td>-83.462261</td>\n      <td>-93.617861</td>\n      <td>264</td>\n      <td>238</td>\n    </tr>\n    <tr>\n      <th>...</th>\n      <td>...</td>\n      <td>...</td>\n      <td>...</td>\n      <td>...</td>\n      <td>...</td>\n      <td>...</td>\n    </tr>\n    <tr>\n      <th>96</th>\n      <td>sub-2-13697_005</td>\n      <td>7</td>\n      <td>-112.715285</td>\n      <td>-113.598370</td>\n      <td>191</td>\n      <td>189</td>\n    </tr>\n    <tr>\n      <th>97</th>\n      <td>sub-2-13697_005</td>\n      <td>6</td>\n      <td>-101.387886</td>\n      <td>-109.199885</td>\n      <td>220</td>\n      <td>200</td>\n    </tr>\n    <tr>\n      <th>98</th>\n      <td>sub-2-13697_005</td>\n      <td>5</td>\n      <td>-85.831895</td>\n      <td>-93.660833</td>\n      <td>258</td>\n      <td>239</td>\n    </tr>\n    <tr>\n      <th>99</th>\n      <td>sub-2-13697_005</td>\n      <td>4</td>\n      <td>-67.660781</td>\n      <td>-77.085995</td>\n      <td>298</td>\n      <td>277</td>\n    </tr>\n    <tr>\n      <th>100</th>\n      <td>sub-2-13697_005</td>\n      <td>3</td>\n      <td>-49.038750</td>\n      <td>-60.290450</td>\n      <td>337</td>\n      <td>314</td>\n    </tr>\n  </tbody>\n</table>\n<p>101 rows × 6 columns</p>\n</div>"
     },
     "execution_count": 232,
     "metadata": {},
     "output_type": "execute_result"
    }
   ],
   "source": [
    "df_root_pd"
   ],
   "metadata": {
    "collapsed": false,
    "ExecuteTime": {
     "end_time": "2023-08-15T00:13:19.585292Z",
     "start_time": "2023-08-15T00:13:19.583222Z"
    }
   }
  },
  {
   "cell_type": "code",
   "execution_count": 213,
   "outputs": [
    {
     "data": {
      "text/plain": "           sub_name  level   PMJ_start     PMJ_end  slice_s  slice_e\n0   sub-5-13755_009      1   -5.485255  -67.354024      454      303\n1   sub-5-13755_009      2  -69.799487  -83.462261      297      264\n2   sub-5-13755_009      3  -84.243461  -98.628645      262      226\n3   sub-5-13755_009      4  -99.409845 -113.386436      224      189\n4   sub-5-13755_009      5 -114.167636 -128.484665      187      153\n..              ...    ...         ...         ...      ...      ...\n72  sub-2-13697_005      2  -62.158504  -78.070965      310      275\n73  sub-2-13697_005      3  -79.837134  -97.481886      271      230\n74  sub-2-13697_005      4 -100.606686 -115.466423      222      185\n75  sub-2-13697_005      5 -117.419423 -131.277991      180      149\n76  sub-2-13697_005      6 -134.759591 -152.753044      142      104\n\n[77 rows x 6 columns]",
      "text/html": "<div>\n<style scoped>\n    .dataframe tbody tr th:only-of-type {\n        vertical-align: middle;\n    }\n\n    .dataframe tbody tr th {\n        vertical-align: top;\n    }\n\n    .dataframe thead th {\n        text-align: right;\n    }\n</style>\n<table border=\"1\" class=\"dataframe\">\n  <thead>\n    <tr style=\"text-align: right;\">\n      <th></th>\n      <th>sub_name</th>\n      <th>level</th>\n      <th>PMJ_start</th>\n      <th>PMJ_end</th>\n      <th>slice_s</th>\n      <th>slice_e</th>\n    </tr>\n  </thead>\n  <tbody>\n    <tr>\n      <th>0</th>\n      <td>sub-5-13755_009</td>\n      <td>1</td>\n      <td>-5.485255</td>\n      <td>-67.354024</td>\n      <td>454</td>\n      <td>303</td>\n    </tr>\n    <tr>\n      <th>1</th>\n      <td>sub-5-13755_009</td>\n      <td>2</td>\n      <td>-69.799487</td>\n      <td>-83.462261</td>\n      <td>297</td>\n      <td>264</td>\n    </tr>\n    <tr>\n      <th>2</th>\n      <td>sub-5-13755_009</td>\n      <td>3</td>\n      <td>-84.243461</td>\n      <td>-98.628645</td>\n      <td>262</td>\n      <td>226</td>\n    </tr>\n    <tr>\n      <th>3</th>\n      <td>sub-5-13755_009</td>\n      <td>4</td>\n      <td>-99.409845</td>\n      <td>-113.386436</td>\n      <td>224</td>\n      <td>189</td>\n    </tr>\n    <tr>\n      <th>4</th>\n      <td>sub-5-13755_009</td>\n      <td>5</td>\n      <td>-114.167636</td>\n      <td>-128.484665</td>\n      <td>187</td>\n      <td>153</td>\n    </tr>\n    <tr>\n      <th>...</th>\n      <td>...</td>\n      <td>...</td>\n      <td>...</td>\n      <td>...</td>\n      <td>...</td>\n      <td>...</td>\n    </tr>\n    <tr>\n      <th>72</th>\n      <td>sub-2-13697_005</td>\n      <td>2</td>\n      <td>-62.158504</td>\n      <td>-78.070965</td>\n      <td>310</td>\n      <td>275</td>\n    </tr>\n    <tr>\n      <th>73</th>\n      <td>sub-2-13697_005</td>\n      <td>3</td>\n      <td>-79.837134</td>\n      <td>-97.481886</td>\n      <td>271</td>\n      <td>230</td>\n    </tr>\n    <tr>\n      <th>74</th>\n      <td>sub-2-13697_005</td>\n      <td>4</td>\n      <td>-100.606686</td>\n      <td>-115.466423</td>\n      <td>222</td>\n      <td>185</td>\n    </tr>\n    <tr>\n      <th>75</th>\n      <td>sub-2-13697_005</td>\n      <td>5</td>\n      <td>-117.419423</td>\n      <td>-131.277991</td>\n      <td>180</td>\n      <td>149</td>\n    </tr>\n    <tr>\n      <th>76</th>\n      <td>sub-2-13697_005</td>\n      <td>6</td>\n      <td>-134.759591</td>\n      <td>-152.753044</td>\n      <td>142</td>\n      <td>104</td>\n    </tr>\n  </tbody>\n</table>\n<p>77 rows × 6 columns</p>\n</div>"
     },
     "execution_count": 213,
     "metadata": {},
     "output_type": "execute_result"
    }
   ],
   "source": [
    "df_ver_pd"
   ],
   "metadata": {
    "collapsed": false,
    "ExecuteTime": {
     "end_time": "2023-08-14T23:51:17.871953Z",
     "start_time": "2023-08-14T23:51:17.850532Z"
    }
   }
  },
  {
   "cell_type": "code",
   "execution_count": null,
   "outputs": [],
   "source": [],
   "metadata": {
    "collapsed": false
   }
  }
 ],
 "metadata": {
  "kernelspec": {
   "display_name": "Python 3",
   "language": "python",
   "name": "python3"
  },
  "language_info": {
   "codemirror_mode": {
    "name": "ipython",
    "version": 2
   },
   "file_extension": ".py",
   "mimetype": "text/x-python",
   "name": "python",
   "nbconvert_exporter": "python",
   "pygments_lexer": "ipython2",
   "version": "2.7.6"
  }
 },
 "nbformat": 4,
 "nbformat_minor": 0
}
