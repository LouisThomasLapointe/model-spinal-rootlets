{
 "cells": [
  {
   "cell_type": "markdown",
   "metadata": {},
   "source": [
    "# Notebook to plot the distribution of the caudal-rostral length of the spinal levels"
   ]
  },
  {
   "cell_type": "code",
   "execution_count": 1,
   "metadata": {
    "ExecuteTime": {
     "end_time": "2023-08-08T17:26:32.128352Z",
     "start_time": "2023-08-08T17:26:31.581421Z"
    }
   },
   "outputs": [],
   "source": [
    "import pandas as pd\n",
    "import plotly.express as px\n",
    "import plotly.graph_objects as go\n",
    "import numpy as np"
   ]
  },
  {
   "cell_type": "code",
   "execution_count": 2,
   "metadata": {
    "ExecuteTime": {
     "end_time": "2023-08-08T17:26:32.134498Z",
     "start_time": "2023-08-08T17:26:32.128677Z"
    }
   },
   "outputs": [],
   "source": [
    "# Path to csv files with information about the spinal levels\n",
    "PATH_pred = \"/Users/theomathieu/Downloads/fullD3_pred/res/dist_pred.csv\""
   ]
  },
  {
   "cell_type": "code",
   "execution_count": 3,
   "metadata": {
    "ExecuteTime": {
     "end_time": "2023-08-08T17:26:32.151340Z",
     "start_time": "2023-08-08T17:26:32.134228Z"
    }
   },
   "outputs": [
    {
     "data": {
      "text/plain": "   level                   sub_name  spinal_start  spinal_end  height  \\\n0      2  sub-mountSinai02_103_0000         208.0       219.0     8.8   \n1      3  sub-mountSinai02_103_0000         184.0       203.0    15.2   \n2      4  sub-mountSinai02_103_0000         166.0       179.0    10.4   \n3      5  sub-mountSinai02_103_0000         144.0       155.0     8.8   \n4      6  sub-mountSinai02_103_0000         123.0       136.0    10.4   \n\n   vertebrae_start  vertebrae_end  \n0                0              1  \n1                0              1  \n2                0              1  \n3                0              1  \n4                0              1  ",
      "text/html": "<div>\n<style scoped>\n    .dataframe tbody tr th:only-of-type {\n        vertical-align: middle;\n    }\n\n    .dataframe tbody tr th {\n        vertical-align: top;\n    }\n\n    .dataframe thead th {\n        text-align: right;\n    }\n</style>\n<table border=\"1\" class=\"dataframe\">\n  <thead>\n    <tr style=\"text-align: right;\">\n      <th></th>\n      <th>level</th>\n      <th>sub_name</th>\n      <th>spinal_start</th>\n      <th>spinal_end</th>\n      <th>height</th>\n      <th>vertebrae_start</th>\n      <th>vertebrae_end</th>\n    </tr>\n  </thead>\n  <tbody>\n    <tr>\n      <th>0</th>\n      <td>2</td>\n      <td>sub-mountSinai02_103_0000</td>\n      <td>208.0</td>\n      <td>219.0</td>\n      <td>8.8</td>\n      <td>0</td>\n      <td>1</td>\n    </tr>\n    <tr>\n      <th>1</th>\n      <td>3</td>\n      <td>sub-mountSinai02_103_0000</td>\n      <td>184.0</td>\n      <td>203.0</td>\n      <td>15.2</td>\n      <td>0</td>\n      <td>1</td>\n    </tr>\n    <tr>\n      <th>2</th>\n      <td>4</td>\n      <td>sub-mountSinai02_103_0000</td>\n      <td>166.0</td>\n      <td>179.0</td>\n      <td>10.4</td>\n      <td>0</td>\n      <td>1</td>\n    </tr>\n    <tr>\n      <th>3</th>\n      <td>5</td>\n      <td>sub-mountSinai02_103_0000</td>\n      <td>144.0</td>\n      <td>155.0</td>\n      <td>8.8</td>\n      <td>0</td>\n      <td>1</td>\n    </tr>\n    <tr>\n      <th>4</th>\n      <td>6</td>\n      <td>sub-mountSinai02_103_0000</td>\n      <td>123.0</td>\n      <td>136.0</td>\n      <td>10.4</td>\n      <td>0</td>\n      <td>1</td>\n    </tr>\n  </tbody>\n</table>\n</div>"
     },
     "metadata": {},
     "output_type": "display_data"
    }
   ],
   "source": [
    "df_pred = pd.read_csv(PATH_pred)\n",
    "display(df_pred.head())"
   ]
  },
  {
   "cell_type": "code",
   "execution_count": 4,
   "metadata": {
    "ExecuteTime": {
     "end_time": "2023-08-08T17:26:32.156277Z",
     "start_time": "2023-08-08T17:26:32.150656Z"
    }
   },
   "outputs": [],
   "source": [
    "# Add z-score to find outliers\n",
    "z_scores = (df_pred['height'] - df_pred['height'].mean()) / df_pred['height'].std()\n",
    "df_pred[\"z_scores\"] = z_scores"
   ]
  },
  {
   "cell_type": "markdown",
   "source": [
    "### Dataframe creation"
   ],
   "metadata": {
    "collapsed": false
   }
  },
  {
   "cell_type": "code",
   "execution_count": 5,
   "outputs": [
    {
     "data": {
      "text/plain": "   value  level  mesure        from\n0    8.8      2  length  pred_value\n1   15.2      3  length  pred_value\n2   10.4      4  length  pred_value\n3    8.8      5  length  pred_value\n4   10.4      6  length  pred_value",
      "text/html": "<div>\n<style scoped>\n    .dataframe tbody tr th:only-of-type {\n        vertical-align: middle;\n    }\n\n    .dataframe tbody tr th {\n        vertical-align: top;\n    }\n\n    .dataframe thead th {\n        text-align: right;\n    }\n</style>\n<table border=\"1\" class=\"dataframe\">\n  <thead>\n    <tr style=\"text-align: right;\">\n      <th></th>\n      <th>value</th>\n      <th>level</th>\n      <th>mesure</th>\n      <th>from</th>\n    </tr>\n  </thead>\n  <tbody>\n    <tr>\n      <th>0</th>\n      <td>8.8</td>\n      <td>2</td>\n      <td>length</td>\n      <td>pred_value</td>\n    </tr>\n    <tr>\n      <th>1</th>\n      <td>15.2</td>\n      <td>3</td>\n      <td>length</td>\n      <td>pred_value</td>\n    </tr>\n    <tr>\n      <th>2</th>\n      <td>10.4</td>\n      <td>4</td>\n      <td>length</td>\n      <td>pred_value</td>\n    </tr>\n    <tr>\n      <th>3</th>\n      <td>8.8</td>\n      <td>5</td>\n      <td>length</td>\n      <td>pred_value</td>\n    </tr>\n    <tr>\n      <th>4</th>\n      <td>10.4</td>\n      <td>6</td>\n      <td>length</td>\n      <td>pred_value</td>\n    </tr>\n  </tbody>\n</table>\n</div>"
     },
     "metadata": {},
     "output_type": "display_data"
    }
   ],
   "source": [
    "df_height = df_pred[[\"height\", \"level\"]].copy()\n",
    "df_height[\"mesure\"] = \"length\"\n",
    "df_height[\"from\"] = \"pred_value\"\n",
    "df_height.rename(columns={\"height\": \"value\"}, inplace=True)\n",
    "display(df_height.head())"
   ],
   "metadata": {
    "collapsed": false,
    "ExecuteTime": {
     "end_time": "2023-08-08T17:26:32.181455Z",
     "start_time": "2023-08-08T17:26:32.159812Z"
    }
   }
  },
  {
   "cell_type": "code",
   "execution_count": 6,
   "outputs": [
    {
     "data": {
      "text/plain": "   value  level  mesure        from\n0    8.8      2  length  pred_value\n1   15.2      3  length  pred_value\n2   10.4      4  length  pred_value\n3    8.8      5  length  pred_value\n4   10.4      6  length  pred_value",
      "text/html": "<div>\n<style scoped>\n    .dataframe tbody tr th:only-of-type {\n        vertical-align: middle;\n    }\n\n    .dataframe tbody tr th {\n        vertical-align: top;\n    }\n\n    .dataframe thead th {\n        text-align: right;\n    }\n</style>\n<table border=\"1\" class=\"dataframe\">\n  <thead>\n    <tr style=\"text-align: right;\">\n      <th></th>\n      <th>value</th>\n      <th>level</th>\n      <th>mesure</th>\n      <th>from</th>\n    </tr>\n  </thead>\n  <tbody>\n    <tr>\n      <th>0</th>\n      <td>8.8</td>\n      <td>2</td>\n      <td>length</td>\n      <td>pred_value</td>\n    </tr>\n    <tr>\n      <th>1</th>\n      <td>15.2</td>\n      <td>3</td>\n      <td>length</td>\n      <td>pred_value</td>\n    </tr>\n    <tr>\n      <th>2</th>\n      <td>10.4</td>\n      <td>4</td>\n      <td>length</td>\n      <td>pred_value</td>\n    </tr>\n    <tr>\n      <th>3</th>\n      <td>8.8</td>\n      <td>5</td>\n      <td>length</td>\n      <td>pred_value</td>\n    </tr>\n    <tr>\n      <th>4</th>\n      <td>10.4</td>\n      <td>6</td>\n      <td>length</td>\n      <td>pred_value</td>\n    </tr>\n  </tbody>\n</table>\n</div>"
     },
     "metadata": {},
     "output_type": "display_data"
    }
   ],
   "source": [
    "for level in df_height[\"level\"].unique():\n",
    "    new_line_mean = pd.DataFrame({\"value\": [df_height.loc[df_height[\"level\"] == level, \"value\"].mean()],\n",
    "                                  \"level\": [level.astype(int)],\n",
    "                                  \"mesure\": [\"mean\"],\n",
    "                                  \"from\": [\"pred\"]})\n",
    "    df_height = pd.concat([df_height, new_line_mean], ignore_index=True)\n",
    "    new_line_std = pd.DataFrame({\"value\": [df_height.loc[df_height[\"level\"] == level, \"value\"].std()],\n",
    "                                 \"level\": [level.astype(int)],\n",
    "                                 \"mesure\": [\"std\"],\n",
    "                                 \"from\": [\"pred\"]})\n",
    "    df_height = pd.concat([df_height, new_line_std], ignore_index=True)\n",
    "display(df_height.head())"
   ],
   "metadata": {
    "collapsed": false,
    "ExecuteTime": {
     "end_time": "2023-08-08T17:26:32.206996Z",
     "start_time": "2023-08-08T17:26:32.178890Z"
    }
   }
  },
  {
   "cell_type": "code",
   "execution_count": 7,
   "outputs": [
    {
     "data": {
      "text/plain": "   value  level     from mesure\n0   10.5      3  cadotte   mean\n1    9.9      4  cadotte   mean\n2   10.5      5  cadotte   mean\n3    9.7      6  cadotte   mean\n4    9.4      7  cadotte   mean",
      "text/html": "<div>\n<style scoped>\n    .dataframe tbody tr th:only-of-type {\n        vertical-align: middle;\n    }\n\n    .dataframe tbody tr th {\n        vertical-align: top;\n    }\n\n    .dataframe thead th {\n        text-align: right;\n    }\n</style>\n<table border=\"1\" class=\"dataframe\">\n  <thead>\n    <tr style=\"text-align: right;\">\n      <th></th>\n      <th>value</th>\n      <th>level</th>\n      <th>from</th>\n      <th>mesure</th>\n    </tr>\n  </thead>\n  <tbody>\n    <tr>\n      <th>0</th>\n      <td>10.5</td>\n      <td>3</td>\n      <td>cadotte</td>\n      <td>mean</td>\n    </tr>\n    <tr>\n      <th>1</th>\n      <td>9.9</td>\n      <td>4</td>\n      <td>cadotte</td>\n      <td>mean</td>\n    </tr>\n    <tr>\n      <th>2</th>\n      <td>10.5</td>\n      <td>5</td>\n      <td>cadotte</td>\n      <td>mean</td>\n    </tr>\n    <tr>\n      <th>3</th>\n      <td>9.7</td>\n      <td>6</td>\n      <td>cadotte</td>\n      <td>mean</td>\n    </tr>\n    <tr>\n      <th>4</th>\n      <td>9.4</td>\n      <td>7</td>\n      <td>cadotte</td>\n      <td>mean</td>\n    </tr>\n  </tbody>\n</table>\n</div>"
     },
     "metadata": {},
     "output_type": "display_data"
    },
    {
     "data": {
      "text/plain": "   value  level  mesure        from\n0    8.8      2  length  pred_value\n1   15.2      3  length  pred_value\n2   10.4      4  length  pred_value\n3    8.8      5  length  pred_value\n4   10.4      6  length  pred_value",
      "text/html": "<div>\n<style scoped>\n    .dataframe tbody tr th:only-of-type {\n        vertical-align: middle;\n    }\n\n    .dataframe tbody tr th {\n        vertical-align: top;\n    }\n\n    .dataframe thead th {\n        text-align: right;\n    }\n</style>\n<table border=\"1\" class=\"dataframe\">\n  <thead>\n    <tr style=\"text-align: right;\">\n      <th></th>\n      <th>value</th>\n      <th>level</th>\n      <th>mesure</th>\n      <th>from</th>\n    </tr>\n  </thead>\n  <tbody>\n    <tr>\n      <th>0</th>\n      <td>8.8</td>\n      <td>2</td>\n      <td>length</td>\n      <td>pred_value</td>\n    </tr>\n    <tr>\n      <th>1</th>\n      <td>15.2</td>\n      <td>3</td>\n      <td>length</td>\n      <td>pred_value</td>\n    </tr>\n    <tr>\n      <th>2</th>\n      <td>10.4</td>\n      <td>4</td>\n      <td>length</td>\n      <td>pred_value</td>\n    </tr>\n    <tr>\n      <th>3</th>\n      <td>8.8</td>\n      <td>5</td>\n      <td>length</td>\n      <td>pred_value</td>\n    </tr>\n    <tr>\n      <th>4</th>\n      <td>10.4</td>\n      <td>6</td>\n      <td>length</td>\n      <td>pred_value</td>\n    </tr>\n  </tbody>\n</table>\n</div>"
     },
     "metadata": {},
     "output_type": "display_data"
    },
    {
     "data": {
      "text/plain": "mesure  level     from       mean       std  level_offset\n0           2     pred   5.430159  2.128017           1.9\n1           3  cadotte  10.500000  2.200000           3.1\n2           3     pred  10.422222  2.242638           2.9\n3           4  cadotte   9.900000  1.300000           4.1\n4           4     pred   6.953448  2.296077           3.9",
      "text/html": "<div>\n<style scoped>\n    .dataframe tbody tr th:only-of-type {\n        vertical-align: middle;\n    }\n\n    .dataframe tbody tr th {\n        vertical-align: top;\n    }\n\n    .dataframe thead th {\n        text-align: right;\n    }\n</style>\n<table border=\"1\" class=\"dataframe\">\n  <thead>\n    <tr style=\"text-align: right;\">\n      <th>mesure</th>\n      <th>level</th>\n      <th>from</th>\n      <th>mean</th>\n      <th>std</th>\n      <th>level_offset</th>\n    </tr>\n  </thead>\n  <tbody>\n    <tr>\n      <th>0</th>\n      <td>2</td>\n      <td>pred</td>\n      <td>5.430159</td>\n      <td>2.128017</td>\n      <td>1.9</td>\n    </tr>\n    <tr>\n      <th>1</th>\n      <td>3</td>\n      <td>cadotte</td>\n      <td>10.500000</td>\n      <td>2.200000</td>\n      <td>3.1</td>\n    </tr>\n    <tr>\n      <th>2</th>\n      <td>3</td>\n      <td>pred</td>\n      <td>10.422222</td>\n      <td>2.242638</td>\n      <td>2.9</td>\n    </tr>\n    <tr>\n      <th>3</th>\n      <td>4</td>\n      <td>cadotte</td>\n      <td>9.900000</td>\n      <td>1.300000</td>\n      <td>4.1</td>\n    </tr>\n    <tr>\n      <th>4</th>\n      <td>4</td>\n      <td>pred</td>\n      <td>6.953448</td>\n      <td>2.296077</td>\n      <td>3.9</td>\n    </tr>\n  </tbody>\n</table>\n</div>"
     },
     "metadata": {},
     "output_type": "display_data"
    }
   ],
   "source": [
    "cadotte = {\n",
    "    '3': {'mean': 10.5, 'std': 2.2},\n",
    "    '4': {'mean': 9.9, 'std': 1.3},\n",
    "    '5': {'mean': 10.5, 'std': 1.5},\n",
    "    '6': {'mean': 9.7, 'std': 1.6},\n",
    "    '7': {'mean': 9.4, 'std': 1.4},\n",
    "    '8': {'mean': 9.6, 'std': 1.4},\n",
    "}\n",
    "df_cadotte_mean = pd.DataFrame(cadotte).T[['mean']]\n",
    "df_cadotte_mean[\"level\"] = df_cadotte_mean.index.astype(int)\n",
    "df_cadotte_mean[\"from\"] = \"cadotte\"\n",
    "df_cadotte_mean[\"mesure\"] = \"mean\"\n",
    "df_cadotte_mean.rename(columns={\"mean\": \"value\"}, inplace=True)\n",
    "df_cadotte_std = pd.DataFrame(cadotte).T[['std']]\n",
    "df_cadotte_std[\"level\"] = df_cadotte_mean.index.astype(int)\n",
    "df_cadotte_std[\"from\"] = \"cadotte\"\n",
    "df_cadotte_std[\"mesure\"] = \"std\"\n",
    "df_cadotte_std.rename(columns={\"std\": \"value\"}, inplace=True)\n",
    "df_cadotte = pd.concat([df_cadotte_mean, df_cadotte_std], ignore_index=True)\n",
    "display(df_cadotte.head())\n",
    "df = pd.concat([df_height, df_cadotte], ignore_index=True)\n",
    "display(df.head())\n",
    "df_mean_std = df[df[\"mesure\"] != \"length\"]\n",
    "pivot_df = df_mean_std.pivot_table(index=['level', 'from'], columns='mesure', values='value', aggfunc='first')\n",
    "\n",
    "# Reset the index\n",
    "pivot_df = pivot_df.reset_index()\n",
    "pivot_df['level_offset'] = pivot_df.apply(lambda row: row['level'] - 0.1 if row['from'] == 'pred' else row['level'] + 0.1, axis=1)\n",
    "display(pivot_df.head())"
   ],
   "metadata": {
    "collapsed": false,
    "ExecuteTime": {
     "end_time": "2023-08-08T17:26:32.255754Z",
     "start_time": "2023-08-08T17:26:32.195987Z"
    }
   }
  },
  {
   "cell_type": "code",
   "execution_count": null,
   "outputs": [],
   "source": [
    "fig = px.scatter(pivot_df, x=\"level_offset\", y=\"mean\", color=\"from\", error_y=\"std\")\n",
    "fig.show()"
   ],
   "metadata": {
    "collapsed": false,
    "is_executing": true,
    "ExecuteTime": {
     "start_time": "2023-08-08T17:26:32.217474Z"
    }
   }
  },
  {
   "cell_type": "code",
   "execution_count": null,
   "outputs": [],
   "source": [
    "fig = px.scatter(df[df[\"from\"] == \"pred_value\"], x=\"level\", y=\"value\", color=\"from\")\n",
    "for level in df[\"level\"].unique():\n",
    "    df_level = df[df[\"level\"] == level]\n",
    "    mean = df_level.loc[df_level[\"mesure\"] == \"mean\"]\n",
    "    std = df_level.loc[df_level[\"mesure\"] == \"std\"]\n",
    "    #TODO handle nan values\n",
    "    if not np.isnan(mean.loc[mean[\"from\"] == \"pred\", \"value\"].values[0]):\n",
    "        fig.add_shape(type=\"line\",\n",
    "                      x0=level + 0.2, y0=mean.loc[mean[\"from\"] == \"pred\", \"value\"].values[0] -\n",
    "                                         std.loc[std[\"from\"] == \"pred\", \"value\"].values[0],\n",
    "                      x1=level + 0.2, y1=mean.loc[mean[\"from\"] == \"pred\", \"value\"].values[0] +\n",
    "                                         std.loc[std[\"from\"] == \"pred\", \"value\"].values[0],\n",
    "                      line=dict(width=1, color=\"red\") )\n",
    "        fig.add_trace(go.Scatter(\n",
    "            x=[level + 0.2],  # x-coordinate of the point\n",
    "            y=[mean.loc[mean[\"from\"] == \"pred\", \"value\"].values[0]],  # y-coordinate of the point\n",
    "            mode='markers',\n",
    "            marker=dict(color='red', size=5, symbol='circle'), showlegend=False\n",
    "        ))\n",
    "    try :\n",
    "        fig.add_shape(type=\"line\",\n",
    "                      x0=level - 0.2, y0=mean.loc[mean[\"from\"] == \"cadotte\", \"value\"].values[0] -\n",
    "                                         std.loc[std[\"from\"] == \"cadotte\", \"value\"].values[0],\n",
    "                      x1=level - 0.2, y1=mean.loc[mean[\"from\"] == \"cadotte\", \"value\"].values[0] +\n",
    "                                         std.loc[std[\"from\"] == \"cadotte\", \"value\"].values[0],\n",
    "                      line=dict(width=1, color=\"green\") )\n",
    "        fig.add_trace(go.Scatter(\n",
    "            x=[level - 0.2],  # x-coordinate of the point\n",
    "            y=[mean.loc[mean[\"from\"] == \"cadotte\", \"value\"].values[0]],  # y-coordinate of the point\n",
    "            mode='markers',\n",
    "            marker=dict(color='green', size=5, symbol='circle'), showlegend=False\n",
    "        ))\n",
    "    except:\n",
    "        pass\n",
    "fig.show()"
   ],
   "metadata": {
    "collapsed": false,
    "is_executing": true
   }
  }
 ],
 "metadata": {
  "kernelspec": {
   "display_name": "Python 3 (ipykernel)",
   "language": "python",
   "name": "python3"
  },
  "language_info": {
   "codemirror_mode": {
    "name": "ipython",
    "version": 3
   },
   "file_extension": ".py",
   "mimetype": "text/x-python",
   "name": "python",
   "nbconvert_exporter": "python",
   "pygments_lexer": "ipython3",
   "version": "3.9.16"
  }
 },
 "nbformat": 4,
 "nbformat_minor": 1
}
