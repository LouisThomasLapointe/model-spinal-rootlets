{
 "cells": [
  {
   "cell_type": "markdown",
   "metadata": {},
   "source": [
    "# Notebook to plot the distribution of the caudal-rostral length of the spinal levels"
   ]
  },
  {
   "cell_type": "code",
   "execution_count": 1,
   "metadata": {
    "ExecuteTime": {
     "end_time": "2023-08-08T17:32:51.348149Z",
     "start_time": "2023-08-08T17:32:50.613791Z"
    }
   },
   "outputs": [],
   "source": [
    "import pandas as pd\n",
    "import plotly.express as px\n",
    "import plotly.graph_objects as go\n",
    "import numpy as np"
   ]
  },
  {
   "cell_type": "code",
   "execution_count": 2,
   "metadata": {
    "ExecuteTime": {
     "end_time": "2023-08-08T17:32:51.354416Z",
     "start_time": "2023-08-08T17:32:51.351490Z"
    }
   },
   "outputs": [],
   "source": [
    "# Path to csv files with information about the spinal levels\n",
    "PATH_pred = \"/Users/theomathieu/Downloads/fullD3_pred/res/dist_pred.csv\""
   ]
  },
  {
   "cell_type": "code",
   "execution_count": 3,
   "metadata": {
    "ExecuteTime": {
     "end_time": "2023-08-08T17:32:52.010290Z",
     "start_time": "2023-08-08T17:32:51.978972Z"
    }
   },
   "outputs": [
    {
     "data": {
      "text/plain": "   level                   sub_name  spinal_start  spinal_end  height  \\\n0      2  sub-mountSinai02_103_0000         208.0       219.0     8.8   \n1      3  sub-mountSinai02_103_0000         184.0       203.0    15.2   \n2      4  sub-mountSinai02_103_0000         166.0       179.0    10.4   \n3      5  sub-mountSinai02_103_0000         144.0       155.0     8.8   \n4      6  sub-mountSinai02_103_0000         123.0       136.0    10.4   \n\n   vertebrae_start  vertebrae_end  \n0                0              1  \n1                0              1  \n2                0              1  \n3                0              1  \n4                0              1  ",
      "text/html": "<div>\n<style scoped>\n    .dataframe tbody tr th:only-of-type {\n        vertical-align: middle;\n    }\n\n    .dataframe tbody tr th {\n        vertical-align: top;\n    }\n\n    .dataframe thead th {\n        text-align: right;\n    }\n</style>\n<table border=\"1\" class=\"dataframe\">\n  <thead>\n    <tr style=\"text-align: right;\">\n      <th></th>\n      <th>level</th>\n      <th>sub_name</th>\n      <th>spinal_start</th>\n      <th>spinal_end</th>\n      <th>height</th>\n      <th>vertebrae_start</th>\n      <th>vertebrae_end</th>\n    </tr>\n  </thead>\n  <tbody>\n    <tr>\n      <th>0</th>\n      <td>2</td>\n      <td>sub-mountSinai02_103_0000</td>\n      <td>208.0</td>\n      <td>219.0</td>\n      <td>8.8</td>\n      <td>0</td>\n      <td>1</td>\n    </tr>\n    <tr>\n      <th>1</th>\n      <td>3</td>\n      <td>sub-mountSinai02_103_0000</td>\n      <td>184.0</td>\n      <td>203.0</td>\n      <td>15.2</td>\n      <td>0</td>\n      <td>1</td>\n    </tr>\n    <tr>\n      <th>2</th>\n      <td>4</td>\n      <td>sub-mountSinai02_103_0000</td>\n      <td>166.0</td>\n      <td>179.0</td>\n      <td>10.4</td>\n      <td>0</td>\n      <td>1</td>\n    </tr>\n    <tr>\n      <th>3</th>\n      <td>5</td>\n      <td>sub-mountSinai02_103_0000</td>\n      <td>144.0</td>\n      <td>155.0</td>\n      <td>8.8</td>\n      <td>0</td>\n      <td>1</td>\n    </tr>\n    <tr>\n      <th>4</th>\n      <td>6</td>\n      <td>sub-mountSinai02_103_0000</td>\n      <td>123.0</td>\n      <td>136.0</td>\n      <td>10.4</td>\n      <td>0</td>\n      <td>1</td>\n    </tr>\n  </tbody>\n</table>\n</div>"
     },
     "metadata": {},
     "output_type": "display_data"
    }
   ],
   "source": [
    "df_pred = pd.read_csv(PATH_pred)\n",
    "display(df_pred.head())"
   ]
  },
  {
   "cell_type": "code",
   "execution_count": 4,
   "metadata": {
    "ExecuteTime": {
     "end_time": "2023-08-08T17:32:52.669240Z",
     "start_time": "2023-08-08T17:32:52.663288Z"
    }
   },
   "outputs": [],
   "source": [
    "# Add z-score to find outliers\n",
    "z_scores = (df_pred['height'] - df_pred['height'].mean()) / df_pred['height'].std()\n",
    "df_pred[\"z_scores\"] = z_scores"
   ]
  },
  {
   "cell_type": "markdown",
   "source": [
    "### Dataframe creation"
   ],
   "metadata": {
    "collapsed": false
   }
  },
  {
   "cell_type": "code",
   "execution_count": 5,
   "outputs": [
    {
     "data": {
      "text/plain": "   value  level  mesure        from\n0    8.8      2  length  pred_value\n1   15.2      3  length  pred_value\n2   10.4      4  length  pred_value\n3    8.8      5  length  pred_value\n4   10.4      6  length  pred_value",
      "text/html": "<div>\n<style scoped>\n    .dataframe tbody tr th:only-of-type {\n        vertical-align: middle;\n    }\n\n    .dataframe tbody tr th {\n        vertical-align: top;\n    }\n\n    .dataframe thead th {\n        text-align: right;\n    }\n</style>\n<table border=\"1\" class=\"dataframe\">\n  <thead>\n    <tr style=\"text-align: right;\">\n      <th></th>\n      <th>value</th>\n      <th>level</th>\n      <th>mesure</th>\n      <th>from</th>\n    </tr>\n  </thead>\n  <tbody>\n    <tr>\n      <th>0</th>\n      <td>8.8</td>\n      <td>2</td>\n      <td>length</td>\n      <td>pred_value</td>\n    </tr>\n    <tr>\n      <th>1</th>\n      <td>15.2</td>\n      <td>3</td>\n      <td>length</td>\n      <td>pred_value</td>\n    </tr>\n    <tr>\n      <th>2</th>\n      <td>10.4</td>\n      <td>4</td>\n      <td>length</td>\n      <td>pred_value</td>\n    </tr>\n    <tr>\n      <th>3</th>\n      <td>8.8</td>\n      <td>5</td>\n      <td>length</td>\n      <td>pred_value</td>\n    </tr>\n    <tr>\n      <th>4</th>\n      <td>10.4</td>\n      <td>6</td>\n      <td>length</td>\n      <td>pred_value</td>\n    </tr>\n  </tbody>\n</table>\n</div>"
     },
     "metadata": {},
     "output_type": "display_data"
    }
   ],
   "source": [
    "df_height = df_pred[[\"height\", \"level\"]].copy()\n",
    "df_height[\"mesure\"] = \"length\"\n",
    "df_height[\"from\"] = \"pred_value\"\n",
    "df_height.rename(columns={\"height\": \"value\"}, inplace=True)\n",
    "display(df_height.head())"
   ],
   "metadata": {
    "collapsed": false,
    "ExecuteTime": {
     "end_time": "2023-08-08T17:32:54.416669Z",
     "start_time": "2023-08-08T17:32:54.409088Z"
    }
   }
  },
  {
   "cell_type": "code",
   "execution_count": 6,
   "outputs": [
    {
     "data": {
      "text/plain": "   value  level  mesure        from\n0    8.8      2  length  pred_value\n1   15.2      3  length  pred_value\n2   10.4      4  length  pred_value\n3    8.8      5  length  pred_value\n4   10.4      6  length  pred_value",
      "text/html": "<div>\n<style scoped>\n    .dataframe tbody tr th:only-of-type {\n        vertical-align: middle;\n    }\n\n    .dataframe tbody tr th {\n        vertical-align: top;\n    }\n\n    .dataframe thead th {\n        text-align: right;\n    }\n</style>\n<table border=\"1\" class=\"dataframe\">\n  <thead>\n    <tr style=\"text-align: right;\">\n      <th></th>\n      <th>value</th>\n      <th>level</th>\n      <th>mesure</th>\n      <th>from</th>\n    </tr>\n  </thead>\n  <tbody>\n    <tr>\n      <th>0</th>\n      <td>8.8</td>\n      <td>2</td>\n      <td>length</td>\n      <td>pred_value</td>\n    </tr>\n    <tr>\n      <th>1</th>\n      <td>15.2</td>\n      <td>3</td>\n      <td>length</td>\n      <td>pred_value</td>\n    </tr>\n    <tr>\n      <th>2</th>\n      <td>10.4</td>\n      <td>4</td>\n      <td>length</td>\n      <td>pred_value</td>\n    </tr>\n    <tr>\n      <th>3</th>\n      <td>8.8</td>\n      <td>5</td>\n      <td>length</td>\n      <td>pred_value</td>\n    </tr>\n    <tr>\n      <th>4</th>\n      <td>10.4</td>\n      <td>6</td>\n      <td>length</td>\n      <td>pred_value</td>\n    </tr>\n  </tbody>\n</table>\n</div>"
     },
     "metadata": {},
     "output_type": "display_data"
    }
   ],
   "source": [
    "for level in df_height[\"level\"].unique():\n",
    "    new_line_mean = pd.DataFrame({\"value\": [df_height.loc[df_height[\"level\"] == level, \"value\"].mean()],\n",
    "                                  \"level\": [level.astype(int)],\n",
    "                                  \"mesure\": [\"mean\"],\n",
    "                                  \"from\": [\"pred\"]})\n",
    "    df_height = pd.concat([df_height, new_line_mean], ignore_index=True)\n",
    "    new_line_std = pd.DataFrame({\"value\": [df_height.loc[df_height[\"level\"] == level, \"value\"].std()],\n",
    "                                 \"level\": [level.astype(int)],\n",
    "                                 \"mesure\": [\"std\"],\n",
    "                                 \"from\": [\"pred\"]})\n",
    "    df_height = pd.concat([df_height, new_line_std], ignore_index=True)\n",
    "display(df_height.head())"
   ],
   "metadata": {
    "collapsed": false,
    "ExecuteTime": {
     "end_time": "2023-08-08T17:32:55.011642Z",
     "start_time": "2023-08-08T17:32:54.991805Z"
    }
   }
  },
  {
   "cell_type": "code",
   "execution_count": 7,
   "outputs": [
    {
     "data": {
      "text/plain": "   value  level     from mesure\n0   10.5      3  cadotte   mean\n1    9.9      4  cadotte   mean\n2   10.5      5  cadotte   mean\n3    9.7      6  cadotte   mean\n4    9.4      7  cadotte   mean",
      "text/html": "<div>\n<style scoped>\n    .dataframe tbody tr th:only-of-type {\n        vertical-align: middle;\n    }\n\n    .dataframe tbody tr th {\n        vertical-align: top;\n    }\n\n    .dataframe thead th {\n        text-align: right;\n    }\n</style>\n<table border=\"1\" class=\"dataframe\">\n  <thead>\n    <tr style=\"text-align: right;\">\n      <th></th>\n      <th>value</th>\n      <th>level</th>\n      <th>from</th>\n      <th>mesure</th>\n    </tr>\n  </thead>\n  <tbody>\n    <tr>\n      <th>0</th>\n      <td>10.5</td>\n      <td>3</td>\n      <td>cadotte</td>\n      <td>mean</td>\n    </tr>\n    <tr>\n      <th>1</th>\n      <td>9.9</td>\n      <td>4</td>\n      <td>cadotte</td>\n      <td>mean</td>\n    </tr>\n    <tr>\n      <th>2</th>\n      <td>10.5</td>\n      <td>5</td>\n      <td>cadotte</td>\n      <td>mean</td>\n    </tr>\n    <tr>\n      <th>3</th>\n      <td>9.7</td>\n      <td>6</td>\n      <td>cadotte</td>\n      <td>mean</td>\n    </tr>\n    <tr>\n      <th>4</th>\n      <td>9.4</td>\n      <td>7</td>\n      <td>cadotte</td>\n      <td>mean</td>\n    </tr>\n  </tbody>\n</table>\n</div>"
     },
     "metadata": {},
     "output_type": "display_data"
    },
    {
     "data": {
      "text/plain": "   value  level  mesure        from\n0    8.8      2  length  pred_value\n1   15.2      3  length  pred_value\n2   10.4      4  length  pred_value\n3    8.8      5  length  pred_value\n4   10.4      6  length  pred_value",
      "text/html": "<div>\n<style scoped>\n    .dataframe tbody tr th:only-of-type {\n        vertical-align: middle;\n    }\n\n    .dataframe tbody tr th {\n        vertical-align: top;\n    }\n\n    .dataframe thead th {\n        text-align: right;\n    }\n</style>\n<table border=\"1\" class=\"dataframe\">\n  <thead>\n    <tr style=\"text-align: right;\">\n      <th></th>\n      <th>value</th>\n      <th>level</th>\n      <th>mesure</th>\n      <th>from</th>\n    </tr>\n  </thead>\n  <tbody>\n    <tr>\n      <th>0</th>\n      <td>8.8</td>\n      <td>2</td>\n      <td>length</td>\n      <td>pred_value</td>\n    </tr>\n    <tr>\n      <th>1</th>\n      <td>15.2</td>\n      <td>3</td>\n      <td>length</td>\n      <td>pred_value</td>\n    </tr>\n    <tr>\n      <th>2</th>\n      <td>10.4</td>\n      <td>4</td>\n      <td>length</td>\n      <td>pred_value</td>\n    </tr>\n    <tr>\n      <th>3</th>\n      <td>8.8</td>\n      <td>5</td>\n      <td>length</td>\n      <td>pred_value</td>\n    </tr>\n    <tr>\n      <th>4</th>\n      <td>10.4</td>\n      <td>6</td>\n      <td>length</td>\n      <td>pred_value</td>\n    </tr>\n  </tbody>\n</table>\n</div>"
     },
     "metadata": {},
     "output_type": "display_data"
    },
    {
     "data": {
      "text/plain": "mesure  level     from       mean       std  level_offset\n0           2     pred   5.430159  2.128017           1.9\n1           3  cadotte  10.500000  2.200000           3.1\n2           3     pred  10.422222  2.242638           2.9\n3           4  cadotte   9.900000  1.300000           4.1\n4           4     pred   6.953448  2.296077           3.9",
      "text/html": "<div>\n<style scoped>\n    .dataframe tbody tr th:only-of-type {\n        vertical-align: middle;\n    }\n\n    .dataframe tbody tr th {\n        vertical-align: top;\n    }\n\n    .dataframe thead th {\n        text-align: right;\n    }\n</style>\n<table border=\"1\" class=\"dataframe\">\n  <thead>\n    <tr style=\"text-align: right;\">\n      <th>mesure</th>\n      <th>level</th>\n      <th>from</th>\n      <th>mean</th>\n      <th>std</th>\n      <th>level_offset</th>\n    </tr>\n  </thead>\n  <tbody>\n    <tr>\n      <th>0</th>\n      <td>2</td>\n      <td>pred</td>\n      <td>5.430159</td>\n      <td>2.128017</td>\n      <td>1.9</td>\n    </tr>\n    <tr>\n      <th>1</th>\n      <td>3</td>\n      <td>cadotte</td>\n      <td>10.500000</td>\n      <td>2.200000</td>\n      <td>3.1</td>\n    </tr>\n    <tr>\n      <th>2</th>\n      <td>3</td>\n      <td>pred</td>\n      <td>10.422222</td>\n      <td>2.242638</td>\n      <td>2.9</td>\n    </tr>\n    <tr>\n      <th>3</th>\n      <td>4</td>\n      <td>cadotte</td>\n      <td>9.900000</td>\n      <td>1.300000</td>\n      <td>4.1</td>\n    </tr>\n    <tr>\n      <th>4</th>\n      <td>4</td>\n      <td>pred</td>\n      <td>6.953448</td>\n      <td>2.296077</td>\n      <td>3.9</td>\n    </tr>\n  </tbody>\n</table>\n</div>"
     },
     "metadata": {},
     "output_type": "display_data"
    }
   ],
   "source": [
    "cadotte = {\n",
    "    '3': {'mean': 10.5, 'std': 2.2},\n",
    "    '4': {'mean': 9.9, 'std': 1.3},\n",
    "    '5': {'mean': 10.5, 'std': 1.5},\n",
    "    '6': {'mean': 9.7, 'std': 1.6},\n",
    "    '7': {'mean': 9.4, 'std': 1.4},\n",
    "    '8': {'mean': 9.6, 'std': 1.4},\n",
    "}\n",
    "df_cadotte_mean = pd.DataFrame(cadotte).T[['mean']]\n",
    "df_cadotte_mean[\"level\"] = df_cadotte_mean.index.astype(int)\n",
    "df_cadotte_mean[\"from\"] = \"cadotte\"\n",
    "df_cadotte_mean[\"mesure\"] = \"mean\"\n",
    "df_cadotte_mean.rename(columns={\"mean\": \"value\"}, inplace=True)\n",
    "df_cadotte_std = pd.DataFrame(cadotte).T[['std']]\n",
    "df_cadotte_std[\"level\"] = df_cadotte_mean.index.astype(int)\n",
    "df_cadotte_std[\"from\"] = \"cadotte\"\n",
    "df_cadotte_std[\"mesure\"] = \"std\"\n",
    "df_cadotte_std.rename(columns={\"std\": \"value\"}, inplace=True)\n",
    "df_cadotte = pd.concat([df_cadotte_mean, df_cadotte_std], ignore_index=True)\n",
    "display(df_cadotte.head())\n",
    "df = pd.concat([df_height, df_cadotte], ignore_index=True)\n",
    "display(df.head())\n",
    "df_mean_std = df[df[\"mesure\"] != \"length\"]\n",
    "pivot_df = df_mean_std.pivot_table(index=['level', 'from'], columns='mesure', values='value', aggfunc='first')\n",
    "\n",
    "# Reset the index\n",
    "pivot_df = pivot_df.reset_index()\n",
    "pivot_df['level_offset'] = pivot_df.apply(\n",
    "    lambda row: row['level'] - 0.1 if row['from'] == 'pred' else row['level'] + 0.1, axis=1)\n",
    "display(pivot_df.head())"
   ],
   "metadata": {
    "collapsed": false,
    "ExecuteTime": {
     "end_time": "2023-08-08T17:32:55.654906Z",
     "start_time": "2023-08-08T17:32:55.620872Z"
    }
   }
  },
  {
   "cell_type": "code",
   "execution_count": 30,
   "outputs": [
    {
     "data": {
      "application/vnd.plotly.v1+json": {
       "data": [
        {
         "error_y": {
          "array": [
           2.1280168380319537,
           2.2426383908144945,
           2.2960773095123144,
           2.3138004502062812,
           2.955178306671152,
           2.9949821264442433,
           3.0043528667080195,
           4.7249356487110346
          ]
         },
         "hovertemplate": "from=pred<br>level_offset=%{x}<br>mean=%{y}<extra></extra>",
         "legendgroup": "pred",
         "marker": {
          "color": "#636efa",
          "symbol": "circle"
         },
         "mode": "markers",
         "name": "pred",
         "orientation": "v",
         "showlegend": true,
         "x": [
          1.9,
          2.9,
          3.9,
          4.9,
          5.9,
          6.9,
          7.9,
          8.9
         ],
         "xaxis": "x",
         "y": [
          5.430158807644768,
          10.422222370193118,
          6.953448373952816,
          5.999557607205568,
          7.139743691835648,
          8.242918573479797,
          8.837837965638787,
          10.809691786766052
         ],
         "yaxis": "y",
         "type": "scatter"
        },
        {
         "error_y": {
          "array": [
           2.2,
           1.3,
           1.5,
           1.6,
           1.4,
           1.4
          ]
         },
         "hovertemplate": "from=cadotte<br>level_offset=%{x}<br>mean=%{y}<extra></extra>",
         "legendgroup": "cadotte",
         "marker": {
          "color": "#EF553B",
          "symbol": "circle"
         },
         "mode": "markers",
         "name": "cadotte",
         "orientation": "v",
         "showlegend": true,
         "x": [
          3.1,
          4.1,
          5.1,
          6.1,
          7.1,
          8.1
         ],
         "xaxis": "x",
         "y": [
          10.5,
          9.9,
          10.5,
          9.7,
          9.4,
          9.6
         ],
         "yaxis": "y",
         "type": "scatter"
        }
       ],
       "layout": {
        "template": {
         "data": {
          "histogram2dcontour": [
           {
            "type": "histogram2dcontour",
            "colorbar": {
             "outlinewidth": 0,
             "ticks": ""
            },
            "colorscale": [
             [
              0.0,
              "#0d0887"
             ],
             [
              0.1111111111111111,
              "#46039f"
             ],
             [
              0.2222222222222222,
              "#7201a8"
             ],
             [
              0.3333333333333333,
              "#9c179e"
             ],
             [
              0.4444444444444444,
              "#bd3786"
             ],
             [
              0.5555555555555556,
              "#d8576b"
             ],
             [
              0.6666666666666666,
              "#ed7953"
             ],
             [
              0.7777777777777778,
              "#fb9f3a"
             ],
             [
              0.8888888888888888,
              "#fdca26"
             ],
             [
              1.0,
              "#f0f921"
             ]
            ]
           }
          ],
          "choropleth": [
           {
            "type": "choropleth",
            "colorbar": {
             "outlinewidth": 0,
             "ticks": ""
            }
           }
          ],
          "histogram2d": [
           {
            "type": "histogram2d",
            "colorbar": {
             "outlinewidth": 0,
             "ticks": ""
            },
            "colorscale": [
             [
              0.0,
              "#0d0887"
             ],
             [
              0.1111111111111111,
              "#46039f"
             ],
             [
              0.2222222222222222,
              "#7201a8"
             ],
             [
              0.3333333333333333,
              "#9c179e"
             ],
             [
              0.4444444444444444,
              "#bd3786"
             ],
             [
              0.5555555555555556,
              "#d8576b"
             ],
             [
              0.6666666666666666,
              "#ed7953"
             ],
             [
              0.7777777777777778,
              "#fb9f3a"
             ],
             [
              0.8888888888888888,
              "#fdca26"
             ],
             [
              1.0,
              "#f0f921"
             ]
            ]
           }
          ],
          "heatmap": [
           {
            "type": "heatmap",
            "colorbar": {
             "outlinewidth": 0,
             "ticks": ""
            },
            "colorscale": [
             [
              0.0,
              "#0d0887"
             ],
             [
              0.1111111111111111,
              "#46039f"
             ],
             [
              0.2222222222222222,
              "#7201a8"
             ],
             [
              0.3333333333333333,
              "#9c179e"
             ],
             [
              0.4444444444444444,
              "#bd3786"
             ],
             [
              0.5555555555555556,
              "#d8576b"
             ],
             [
              0.6666666666666666,
              "#ed7953"
             ],
             [
              0.7777777777777778,
              "#fb9f3a"
             ],
             [
              0.8888888888888888,
              "#fdca26"
             ],
             [
              1.0,
              "#f0f921"
             ]
            ]
           }
          ],
          "heatmapgl": [
           {
            "type": "heatmapgl",
            "colorbar": {
             "outlinewidth": 0,
             "ticks": ""
            },
            "colorscale": [
             [
              0.0,
              "#0d0887"
             ],
             [
              0.1111111111111111,
              "#46039f"
             ],
             [
              0.2222222222222222,
              "#7201a8"
             ],
             [
              0.3333333333333333,
              "#9c179e"
             ],
             [
              0.4444444444444444,
              "#bd3786"
             ],
             [
              0.5555555555555556,
              "#d8576b"
             ],
             [
              0.6666666666666666,
              "#ed7953"
             ],
             [
              0.7777777777777778,
              "#fb9f3a"
             ],
             [
              0.8888888888888888,
              "#fdca26"
             ],
             [
              1.0,
              "#f0f921"
             ]
            ]
           }
          ],
          "contourcarpet": [
           {
            "type": "contourcarpet",
            "colorbar": {
             "outlinewidth": 0,
             "ticks": ""
            }
           }
          ],
          "contour": [
           {
            "type": "contour",
            "colorbar": {
             "outlinewidth": 0,
             "ticks": ""
            },
            "colorscale": [
             [
              0.0,
              "#0d0887"
             ],
             [
              0.1111111111111111,
              "#46039f"
             ],
             [
              0.2222222222222222,
              "#7201a8"
             ],
             [
              0.3333333333333333,
              "#9c179e"
             ],
             [
              0.4444444444444444,
              "#bd3786"
             ],
             [
              0.5555555555555556,
              "#d8576b"
             ],
             [
              0.6666666666666666,
              "#ed7953"
             ],
             [
              0.7777777777777778,
              "#fb9f3a"
             ],
             [
              0.8888888888888888,
              "#fdca26"
             ],
             [
              1.0,
              "#f0f921"
             ]
            ]
           }
          ],
          "surface": [
           {
            "type": "surface",
            "colorbar": {
             "outlinewidth": 0,
             "ticks": ""
            },
            "colorscale": [
             [
              0.0,
              "#0d0887"
             ],
             [
              0.1111111111111111,
              "#46039f"
             ],
             [
              0.2222222222222222,
              "#7201a8"
             ],
             [
              0.3333333333333333,
              "#9c179e"
             ],
             [
              0.4444444444444444,
              "#bd3786"
             ],
             [
              0.5555555555555556,
              "#d8576b"
             ],
             [
              0.6666666666666666,
              "#ed7953"
             ],
             [
              0.7777777777777778,
              "#fb9f3a"
             ],
             [
              0.8888888888888888,
              "#fdca26"
             ],
             [
              1.0,
              "#f0f921"
             ]
            ]
           }
          ],
          "mesh3d": [
           {
            "type": "mesh3d",
            "colorbar": {
             "outlinewidth": 0,
             "ticks": ""
            }
           }
          ],
          "scatter": [
           {
            "marker": {
             "line": {
              "color": "#283442"
             }
            },
            "type": "scatter"
           }
          ],
          "parcoords": [
           {
            "type": "parcoords",
            "line": {
             "colorbar": {
              "outlinewidth": 0,
              "ticks": ""
             }
            }
           }
          ],
          "scatterpolargl": [
           {
            "type": "scatterpolargl",
            "marker": {
             "colorbar": {
              "outlinewidth": 0,
              "ticks": ""
             }
            }
           }
          ],
          "bar": [
           {
            "error_x": {
             "color": "#f2f5fa"
            },
            "error_y": {
             "color": "#f2f5fa"
            },
            "marker": {
             "line": {
              "color": "rgb(17,17,17)",
              "width": 0.5
             },
             "pattern": {
              "fillmode": "overlay",
              "size": 10,
              "solidity": 0.2
             }
            },
            "type": "bar"
           }
          ],
          "scattergeo": [
           {
            "type": "scattergeo",
            "marker": {
             "colorbar": {
              "outlinewidth": 0,
              "ticks": ""
             }
            }
           }
          ],
          "scatterpolar": [
           {
            "type": "scatterpolar",
            "marker": {
             "colorbar": {
              "outlinewidth": 0,
              "ticks": ""
             }
            }
           }
          ],
          "histogram": [
           {
            "marker": {
             "pattern": {
              "fillmode": "overlay",
              "size": 10,
              "solidity": 0.2
             }
            },
            "type": "histogram"
           }
          ],
          "scattergl": [
           {
            "marker": {
             "line": {
              "color": "#283442"
             }
            },
            "type": "scattergl"
           }
          ],
          "scatter3d": [
           {
            "type": "scatter3d",
            "line": {
             "colorbar": {
              "outlinewidth": 0,
              "ticks": ""
             }
            },
            "marker": {
             "colorbar": {
              "outlinewidth": 0,
              "ticks": ""
             }
            }
           }
          ],
          "scattermapbox": [
           {
            "type": "scattermapbox",
            "marker": {
             "colorbar": {
              "outlinewidth": 0,
              "ticks": ""
             }
            }
           }
          ],
          "scatterternary": [
           {
            "type": "scatterternary",
            "marker": {
             "colorbar": {
              "outlinewidth": 0,
              "ticks": ""
             }
            }
           }
          ],
          "scattercarpet": [
           {
            "type": "scattercarpet",
            "marker": {
             "colorbar": {
              "outlinewidth": 0,
              "ticks": ""
             }
            }
           }
          ],
          "carpet": [
           {
            "aaxis": {
             "endlinecolor": "#A2B1C6",
             "gridcolor": "#506784",
             "linecolor": "#506784",
             "minorgridcolor": "#506784",
             "startlinecolor": "#A2B1C6"
            },
            "baxis": {
             "endlinecolor": "#A2B1C6",
             "gridcolor": "#506784",
             "linecolor": "#506784",
             "minorgridcolor": "#506784",
             "startlinecolor": "#A2B1C6"
            },
            "type": "carpet"
           }
          ],
          "table": [
           {
            "cells": {
             "fill": {
              "color": "#506784"
             },
             "line": {
              "color": "rgb(17,17,17)"
             }
            },
            "header": {
             "fill": {
              "color": "#2a3f5f"
             },
             "line": {
              "color": "rgb(17,17,17)"
             }
            },
            "type": "table"
           }
          ],
          "barpolar": [
           {
            "marker": {
             "line": {
              "color": "rgb(17,17,17)",
              "width": 0.5
             },
             "pattern": {
              "fillmode": "overlay",
              "size": 10,
              "solidity": 0.2
             }
            },
            "type": "barpolar"
           }
          ],
          "pie": [
           {
            "automargin": true,
            "type": "pie"
           }
          ]
         },
         "layout": {
          "autotypenumbers": "strict",
          "colorway": [
           "#636efa",
           "#EF553B",
           "#00cc96",
           "#ab63fa",
           "#FFA15A",
           "#19d3f3",
           "#FF6692",
           "#B6E880",
           "#FF97FF",
           "#FECB52"
          ],
          "font": {
           "color": "#f2f5fa"
          },
          "hovermode": "closest",
          "hoverlabel": {
           "align": "left"
          },
          "paper_bgcolor": "rgb(17,17,17)",
          "plot_bgcolor": "rgb(17,17,17)",
          "polar": {
           "bgcolor": "rgb(17,17,17)",
           "angularaxis": {
            "gridcolor": "#506784",
            "linecolor": "#506784",
            "ticks": ""
           },
           "radialaxis": {
            "gridcolor": "#506784",
            "linecolor": "#506784",
            "ticks": ""
           }
          },
          "ternary": {
           "bgcolor": "rgb(17,17,17)",
           "aaxis": {
            "gridcolor": "#506784",
            "linecolor": "#506784",
            "ticks": ""
           },
           "baxis": {
            "gridcolor": "#506784",
            "linecolor": "#506784",
            "ticks": ""
           },
           "caxis": {
            "gridcolor": "#506784",
            "linecolor": "#506784",
            "ticks": ""
           }
          },
          "coloraxis": {
           "colorbar": {
            "outlinewidth": 0,
            "ticks": ""
           }
          },
          "colorscale": {
           "sequential": [
            [
             0.0,
             "#0d0887"
            ],
            [
             0.1111111111111111,
             "#46039f"
            ],
            [
             0.2222222222222222,
             "#7201a8"
            ],
            [
             0.3333333333333333,
             "#9c179e"
            ],
            [
             0.4444444444444444,
             "#bd3786"
            ],
            [
             0.5555555555555556,
             "#d8576b"
            ],
            [
             0.6666666666666666,
             "#ed7953"
            ],
            [
             0.7777777777777778,
             "#fb9f3a"
            ],
            [
             0.8888888888888888,
             "#fdca26"
            ],
            [
             1.0,
             "#f0f921"
            ]
           ],
           "sequentialminus": [
            [
             0.0,
             "#0d0887"
            ],
            [
             0.1111111111111111,
             "#46039f"
            ],
            [
             0.2222222222222222,
             "#7201a8"
            ],
            [
             0.3333333333333333,
             "#9c179e"
            ],
            [
             0.4444444444444444,
             "#bd3786"
            ],
            [
             0.5555555555555556,
             "#d8576b"
            ],
            [
             0.6666666666666666,
             "#ed7953"
            ],
            [
             0.7777777777777778,
             "#fb9f3a"
            ],
            [
             0.8888888888888888,
             "#fdca26"
            ],
            [
             1.0,
             "#f0f921"
            ]
           ],
           "diverging": [
            [
             0,
             "#8e0152"
            ],
            [
             0.1,
             "#c51b7d"
            ],
            [
             0.2,
             "#de77ae"
            ],
            [
             0.3,
             "#f1b6da"
            ],
            [
             0.4,
             "#fde0ef"
            ],
            [
             0.5,
             "#f7f7f7"
            ],
            [
             0.6,
             "#e6f5d0"
            ],
            [
             0.7,
             "#b8e186"
            ],
            [
             0.8,
             "#7fbc41"
            ],
            [
             0.9,
             "#4d9221"
            ],
            [
             1,
             "#276419"
            ]
           ]
          },
          "xaxis": {
           "gridcolor": "#283442",
           "linecolor": "#506784",
           "ticks": "",
           "title": {
            "standoff": 15
           },
           "zerolinecolor": "#283442",
           "automargin": true,
           "zerolinewidth": 2
          },
          "yaxis": {
           "gridcolor": "#283442",
           "linecolor": "#506784",
           "ticks": "",
           "title": {
            "standoff": 15
           },
           "zerolinecolor": "#283442",
           "automargin": true,
           "zerolinewidth": 2
          },
          "scene": {
           "xaxis": {
            "backgroundcolor": "rgb(17,17,17)",
            "gridcolor": "#506784",
            "linecolor": "#506784",
            "showbackground": true,
            "ticks": "",
            "zerolinecolor": "#C8D4E3",
            "gridwidth": 2
           },
           "yaxis": {
            "backgroundcolor": "rgb(17,17,17)",
            "gridcolor": "#506784",
            "linecolor": "#506784",
            "showbackground": true,
            "ticks": "",
            "zerolinecolor": "#C8D4E3",
            "gridwidth": 2
           },
           "zaxis": {
            "backgroundcolor": "rgb(17,17,17)",
            "gridcolor": "#506784",
            "linecolor": "#506784",
            "showbackground": true,
            "ticks": "",
            "zerolinecolor": "#C8D4E3",
            "gridwidth": 2
           }
          },
          "shapedefaults": {
           "line": {
            "color": "#f2f5fa"
           }
          },
          "annotationdefaults": {
           "arrowcolor": "#f2f5fa",
           "arrowhead": 0,
           "arrowwidth": 1
          },
          "geo": {
           "bgcolor": "rgb(17,17,17)",
           "landcolor": "rgb(17,17,17)",
           "subunitcolor": "#506784",
           "showland": true,
           "showlakes": true,
           "lakecolor": "rgb(17,17,17)"
          },
          "title": {
           "x": 0.05
          },
          "updatemenudefaults": {
           "bgcolor": "#506784",
           "borderwidth": 0
          },
          "sliderdefaults": {
           "bgcolor": "#C8D4E3",
           "borderwidth": 1,
           "bordercolor": "rgb(17,17,17)",
           "tickwidth": 0
          },
          "mapbox": {
           "style": "dark"
          }
         }
        },
        "xaxis": {
         "anchor": "y",
         "domain": [
          0.0,
          1.0
         ],
         "title": {
          "text": "Spinal level"
         },
         "ticktext": [
          "C2",
          "C3",
          "C4",
          "C5",
          "C6",
          "C7",
          "C8",
          "C9",
          "C10",
          "C11"
         ],
         "tickvals": [
          2,
          3,
          4,
          5,
          6,
          7,
          8,
          9,
          10,
          11
         ]
        },
        "yaxis": {
         "anchor": "x",
         "domain": [
          0.0,
          1.0
         ],
         "title": {
          "text": "Caudal-rostral length (mm)"
         }
        },
        "legend": {
         "title": {
          "text": "from"
         },
         "tracegroupgap": 0
        },
        "margin": {
         "t": 60
        },
        "title": {
         "text": "Caudal-rostral length of the spinal levels"
        }
       },
       "config": {
        "plotlyServerURL": "https://plot.ly"
       }
      },
      "text/html": "<div>                            <div id=\"7f92cccf-de09-488a-89d9-ca04f52deafd\" class=\"plotly-graph-div\" style=\"height:525px; width:100%;\"></div>            <script type=\"text/javascript\">                require([\"plotly\"], function(Plotly) {                    window.PLOTLYENV=window.PLOTLYENV || {};                                    if (document.getElementById(\"7f92cccf-de09-488a-89d9-ca04f52deafd\")) {                    Plotly.newPlot(                        \"7f92cccf-de09-488a-89d9-ca04f52deafd\",                        [{\"error_y\":{\"array\":[2.1280168380319537,2.2426383908144945,2.2960773095123144,2.3138004502062812,2.955178306671152,2.9949821264442433,3.0043528667080195,4.7249356487110346]},\"hovertemplate\":\"from=pred\\u003cbr\\u003elevel_offset=%{x}\\u003cbr\\u003emean=%{y}\\u003cextra\\u003e\\u003c\\u002fextra\\u003e\",\"legendgroup\":\"pred\",\"marker\":{\"color\":\"#636efa\",\"symbol\":\"circle\"},\"mode\":\"markers\",\"name\":\"pred\",\"orientation\":\"v\",\"showlegend\":true,\"x\":[1.9,2.9,3.9,4.9,5.9,6.9,7.9,8.9],\"xaxis\":\"x\",\"y\":[5.430158807644768,10.422222370193118,6.953448373952816,5.999557607205568,7.139743691835648,8.242918573479797,8.837837965638787,10.809691786766052],\"yaxis\":\"y\",\"type\":\"scatter\"},{\"error_y\":{\"array\":[2.2,1.3,1.5,1.6,1.4,1.4]},\"hovertemplate\":\"from=cadotte\\u003cbr\\u003elevel_offset=%{x}\\u003cbr\\u003emean=%{y}\\u003cextra\\u003e\\u003c\\u002fextra\\u003e\",\"legendgroup\":\"cadotte\",\"marker\":{\"color\":\"#EF553B\",\"symbol\":\"circle\"},\"mode\":\"markers\",\"name\":\"cadotte\",\"orientation\":\"v\",\"showlegend\":true,\"x\":[3.1,4.1,5.1,6.1,7.1,8.1],\"xaxis\":\"x\",\"y\":[10.5,9.9,10.5,9.7,9.4,9.6],\"yaxis\":\"y\",\"type\":\"scatter\"}],                        {\"template\":{\"data\":{\"histogram2dcontour\":[{\"type\":\"histogram2dcontour\",\"colorbar\":{\"outlinewidth\":0,\"ticks\":\"\"},\"colorscale\":[[0.0,\"#0d0887\"],[0.1111111111111111,\"#46039f\"],[0.2222222222222222,\"#7201a8\"],[0.3333333333333333,\"#9c179e\"],[0.4444444444444444,\"#bd3786\"],[0.5555555555555556,\"#d8576b\"],[0.6666666666666666,\"#ed7953\"],[0.7777777777777778,\"#fb9f3a\"],[0.8888888888888888,\"#fdca26\"],[1.0,\"#f0f921\"]]}],\"choropleth\":[{\"type\":\"choropleth\",\"colorbar\":{\"outlinewidth\":0,\"ticks\":\"\"}}],\"histogram2d\":[{\"type\":\"histogram2d\",\"colorbar\":{\"outlinewidth\":0,\"ticks\":\"\"},\"colorscale\":[[0.0,\"#0d0887\"],[0.1111111111111111,\"#46039f\"],[0.2222222222222222,\"#7201a8\"],[0.3333333333333333,\"#9c179e\"],[0.4444444444444444,\"#bd3786\"],[0.5555555555555556,\"#d8576b\"],[0.6666666666666666,\"#ed7953\"],[0.7777777777777778,\"#fb9f3a\"],[0.8888888888888888,\"#fdca26\"],[1.0,\"#f0f921\"]]}],\"heatmap\":[{\"type\":\"heatmap\",\"colorbar\":{\"outlinewidth\":0,\"ticks\":\"\"},\"colorscale\":[[0.0,\"#0d0887\"],[0.1111111111111111,\"#46039f\"],[0.2222222222222222,\"#7201a8\"],[0.3333333333333333,\"#9c179e\"],[0.4444444444444444,\"#bd3786\"],[0.5555555555555556,\"#d8576b\"],[0.6666666666666666,\"#ed7953\"],[0.7777777777777778,\"#fb9f3a\"],[0.8888888888888888,\"#fdca26\"],[1.0,\"#f0f921\"]]}],\"heatmapgl\":[{\"type\":\"heatmapgl\",\"colorbar\":{\"outlinewidth\":0,\"ticks\":\"\"},\"colorscale\":[[0.0,\"#0d0887\"],[0.1111111111111111,\"#46039f\"],[0.2222222222222222,\"#7201a8\"],[0.3333333333333333,\"#9c179e\"],[0.4444444444444444,\"#bd3786\"],[0.5555555555555556,\"#d8576b\"],[0.6666666666666666,\"#ed7953\"],[0.7777777777777778,\"#fb9f3a\"],[0.8888888888888888,\"#fdca26\"],[1.0,\"#f0f921\"]]}],\"contourcarpet\":[{\"type\":\"contourcarpet\",\"colorbar\":{\"outlinewidth\":0,\"ticks\":\"\"}}],\"contour\":[{\"type\":\"contour\",\"colorbar\":{\"outlinewidth\":0,\"ticks\":\"\"},\"colorscale\":[[0.0,\"#0d0887\"],[0.1111111111111111,\"#46039f\"],[0.2222222222222222,\"#7201a8\"],[0.3333333333333333,\"#9c179e\"],[0.4444444444444444,\"#bd3786\"],[0.5555555555555556,\"#d8576b\"],[0.6666666666666666,\"#ed7953\"],[0.7777777777777778,\"#fb9f3a\"],[0.8888888888888888,\"#fdca26\"],[1.0,\"#f0f921\"]]}],\"surface\":[{\"type\":\"surface\",\"colorbar\":{\"outlinewidth\":0,\"ticks\":\"\"},\"colorscale\":[[0.0,\"#0d0887\"],[0.1111111111111111,\"#46039f\"],[0.2222222222222222,\"#7201a8\"],[0.3333333333333333,\"#9c179e\"],[0.4444444444444444,\"#bd3786\"],[0.5555555555555556,\"#d8576b\"],[0.6666666666666666,\"#ed7953\"],[0.7777777777777778,\"#fb9f3a\"],[0.8888888888888888,\"#fdca26\"],[1.0,\"#f0f921\"]]}],\"mesh3d\":[{\"type\":\"mesh3d\",\"colorbar\":{\"outlinewidth\":0,\"ticks\":\"\"}}],\"scatter\":[{\"marker\":{\"line\":{\"color\":\"#283442\"}},\"type\":\"scatter\"}],\"parcoords\":[{\"type\":\"parcoords\",\"line\":{\"colorbar\":{\"outlinewidth\":0,\"ticks\":\"\"}}}],\"scatterpolargl\":[{\"type\":\"scatterpolargl\",\"marker\":{\"colorbar\":{\"outlinewidth\":0,\"ticks\":\"\"}}}],\"bar\":[{\"error_x\":{\"color\":\"#f2f5fa\"},\"error_y\":{\"color\":\"#f2f5fa\"},\"marker\":{\"line\":{\"color\":\"rgb(17,17,17)\",\"width\":0.5},\"pattern\":{\"fillmode\":\"overlay\",\"size\":10,\"solidity\":0.2}},\"type\":\"bar\"}],\"scattergeo\":[{\"type\":\"scattergeo\",\"marker\":{\"colorbar\":{\"outlinewidth\":0,\"ticks\":\"\"}}}],\"scatterpolar\":[{\"type\":\"scatterpolar\",\"marker\":{\"colorbar\":{\"outlinewidth\":0,\"ticks\":\"\"}}}],\"histogram\":[{\"marker\":{\"pattern\":{\"fillmode\":\"overlay\",\"size\":10,\"solidity\":0.2}},\"type\":\"histogram\"}],\"scattergl\":[{\"marker\":{\"line\":{\"color\":\"#283442\"}},\"type\":\"scattergl\"}],\"scatter3d\":[{\"type\":\"scatter3d\",\"line\":{\"colorbar\":{\"outlinewidth\":0,\"ticks\":\"\"}},\"marker\":{\"colorbar\":{\"outlinewidth\":0,\"ticks\":\"\"}}}],\"scattermapbox\":[{\"type\":\"scattermapbox\",\"marker\":{\"colorbar\":{\"outlinewidth\":0,\"ticks\":\"\"}}}],\"scatterternary\":[{\"type\":\"scatterternary\",\"marker\":{\"colorbar\":{\"outlinewidth\":0,\"ticks\":\"\"}}}],\"scattercarpet\":[{\"type\":\"scattercarpet\",\"marker\":{\"colorbar\":{\"outlinewidth\":0,\"ticks\":\"\"}}}],\"carpet\":[{\"aaxis\":{\"endlinecolor\":\"#A2B1C6\",\"gridcolor\":\"#506784\",\"linecolor\":\"#506784\",\"minorgridcolor\":\"#506784\",\"startlinecolor\":\"#A2B1C6\"},\"baxis\":{\"endlinecolor\":\"#A2B1C6\",\"gridcolor\":\"#506784\",\"linecolor\":\"#506784\",\"minorgridcolor\":\"#506784\",\"startlinecolor\":\"#A2B1C6\"},\"type\":\"carpet\"}],\"table\":[{\"cells\":{\"fill\":{\"color\":\"#506784\"},\"line\":{\"color\":\"rgb(17,17,17)\"}},\"header\":{\"fill\":{\"color\":\"#2a3f5f\"},\"line\":{\"color\":\"rgb(17,17,17)\"}},\"type\":\"table\"}],\"barpolar\":[{\"marker\":{\"line\":{\"color\":\"rgb(17,17,17)\",\"width\":0.5},\"pattern\":{\"fillmode\":\"overlay\",\"size\":10,\"solidity\":0.2}},\"type\":\"barpolar\"}],\"pie\":[{\"automargin\":true,\"type\":\"pie\"}]},\"layout\":{\"autotypenumbers\":\"strict\",\"colorway\":[\"#636efa\",\"#EF553B\",\"#00cc96\",\"#ab63fa\",\"#FFA15A\",\"#19d3f3\",\"#FF6692\",\"#B6E880\",\"#FF97FF\",\"#FECB52\"],\"font\":{\"color\":\"#f2f5fa\"},\"hovermode\":\"closest\",\"hoverlabel\":{\"align\":\"left\"},\"paper_bgcolor\":\"rgb(17,17,17)\",\"plot_bgcolor\":\"rgb(17,17,17)\",\"polar\":{\"bgcolor\":\"rgb(17,17,17)\",\"angularaxis\":{\"gridcolor\":\"#506784\",\"linecolor\":\"#506784\",\"ticks\":\"\"},\"radialaxis\":{\"gridcolor\":\"#506784\",\"linecolor\":\"#506784\",\"ticks\":\"\"}},\"ternary\":{\"bgcolor\":\"rgb(17,17,17)\",\"aaxis\":{\"gridcolor\":\"#506784\",\"linecolor\":\"#506784\",\"ticks\":\"\"},\"baxis\":{\"gridcolor\":\"#506784\",\"linecolor\":\"#506784\",\"ticks\":\"\"},\"caxis\":{\"gridcolor\":\"#506784\",\"linecolor\":\"#506784\",\"ticks\":\"\"}},\"coloraxis\":{\"colorbar\":{\"outlinewidth\":0,\"ticks\":\"\"}},\"colorscale\":{\"sequential\":[[0.0,\"#0d0887\"],[0.1111111111111111,\"#46039f\"],[0.2222222222222222,\"#7201a8\"],[0.3333333333333333,\"#9c179e\"],[0.4444444444444444,\"#bd3786\"],[0.5555555555555556,\"#d8576b\"],[0.6666666666666666,\"#ed7953\"],[0.7777777777777778,\"#fb9f3a\"],[0.8888888888888888,\"#fdca26\"],[1.0,\"#f0f921\"]],\"sequentialminus\":[[0.0,\"#0d0887\"],[0.1111111111111111,\"#46039f\"],[0.2222222222222222,\"#7201a8\"],[0.3333333333333333,\"#9c179e\"],[0.4444444444444444,\"#bd3786\"],[0.5555555555555556,\"#d8576b\"],[0.6666666666666666,\"#ed7953\"],[0.7777777777777778,\"#fb9f3a\"],[0.8888888888888888,\"#fdca26\"],[1.0,\"#f0f921\"]],\"diverging\":[[0,\"#8e0152\"],[0.1,\"#c51b7d\"],[0.2,\"#de77ae\"],[0.3,\"#f1b6da\"],[0.4,\"#fde0ef\"],[0.5,\"#f7f7f7\"],[0.6,\"#e6f5d0\"],[0.7,\"#b8e186\"],[0.8,\"#7fbc41\"],[0.9,\"#4d9221\"],[1,\"#276419\"]]},\"xaxis\":{\"gridcolor\":\"#283442\",\"linecolor\":\"#506784\",\"ticks\":\"\",\"title\":{\"standoff\":15},\"zerolinecolor\":\"#283442\",\"automargin\":true,\"zerolinewidth\":2},\"yaxis\":{\"gridcolor\":\"#283442\",\"linecolor\":\"#506784\",\"ticks\":\"\",\"title\":{\"standoff\":15},\"zerolinecolor\":\"#283442\",\"automargin\":true,\"zerolinewidth\":2},\"scene\":{\"xaxis\":{\"backgroundcolor\":\"rgb(17,17,17)\",\"gridcolor\":\"#506784\",\"linecolor\":\"#506784\",\"showbackground\":true,\"ticks\":\"\",\"zerolinecolor\":\"#C8D4E3\",\"gridwidth\":2},\"yaxis\":{\"backgroundcolor\":\"rgb(17,17,17)\",\"gridcolor\":\"#506784\",\"linecolor\":\"#506784\",\"showbackground\":true,\"ticks\":\"\",\"zerolinecolor\":\"#C8D4E3\",\"gridwidth\":2},\"zaxis\":{\"backgroundcolor\":\"rgb(17,17,17)\",\"gridcolor\":\"#506784\",\"linecolor\":\"#506784\",\"showbackground\":true,\"ticks\":\"\",\"zerolinecolor\":\"#C8D4E3\",\"gridwidth\":2}},\"shapedefaults\":{\"line\":{\"color\":\"#f2f5fa\"}},\"annotationdefaults\":{\"arrowcolor\":\"#f2f5fa\",\"arrowhead\":0,\"arrowwidth\":1},\"geo\":{\"bgcolor\":\"rgb(17,17,17)\",\"landcolor\":\"rgb(17,17,17)\",\"subunitcolor\":\"#506784\",\"showland\":true,\"showlakes\":true,\"lakecolor\":\"rgb(17,17,17)\"},\"title\":{\"x\":0.05},\"updatemenudefaults\":{\"bgcolor\":\"#506784\",\"borderwidth\":0},\"sliderdefaults\":{\"bgcolor\":\"#C8D4E3\",\"borderwidth\":1,\"bordercolor\":\"rgb(17,17,17)\",\"tickwidth\":0},\"mapbox\":{\"style\":\"dark\"}}},\"xaxis\":{\"anchor\":\"y\",\"domain\":[0.0,1.0],\"title\":{\"text\":\"Spinal level\"},\"ticktext\":[\"C2\",\"C3\",\"C4\",\"C5\",\"C6\",\"C7\",\"C8\",\"C9\",\"C10\",\"C11\"],\"tickvals\":[2,3,4,5,6,7,8,9,10,11]},\"yaxis\":{\"anchor\":\"x\",\"domain\":[0.0,1.0],\"title\":{\"text\":\"Caudal-rostral length (mm)\"}},\"legend\":{\"title\":{\"text\":\"from\"},\"tracegroupgap\":0},\"margin\":{\"t\":60},\"title\":{\"text\":\"Caudal-rostral length of the spinal levels\"}},                        {\"responsive\": true}                    ).then(function(){\n                            \nvar gd = document.getElementById('7f92cccf-de09-488a-89d9-ca04f52deafd');\nvar x = new MutationObserver(function (mutations, observer) {{\n        var display = window.getComputedStyle(gd).display;\n        if (!display || display === 'none') {{\n            console.log([gd, 'removed!']);\n            Plotly.purge(gd);\n            observer.disconnect();\n        }}\n}});\n\n// Listen for the removal of the full notebook cells\nvar notebookContainer = gd.closest('#notebook-container');\nif (notebookContainer) {{\n    x.observe(notebookContainer, {childList: true});\n}}\n\n// Listen for the clearing of the current output cell\nvar outputEl = gd.closest('.output');\nif (outputEl) {{\n    x.observe(outputEl, {childList: true});\n}}\n\n                        })                };                });            </script>        </div>"
     },
     "metadata": {},
     "output_type": "display_data"
    }
   ],
   "source": [
    "fig = px.scatter(pivot_df, x=\"level_offset\", y=\"mean\", color=\"from\", error_y=\"std\")\n",
    "fig.update_layout(\n",
    "    title=\"Caudal-rostral length of the spinal levels\",\n",
    "    xaxis_title=\"Spinal level\",\n",
    "    yaxis_title=\"Caudal-rostral length (mm)\",\n",
    "    xaxis=dict(ticktext=[\"C\" + x.astype(str) for x in df[\"level\"].unique()], tickvals=df[\"level\"].unique())\n",
    ")\n",
    "fig.show()"
   ],
   "metadata": {
    "collapsed": false,
    "ExecuteTime": {
     "end_time": "2023-08-08T17:44:53.672598Z",
     "start_time": "2023-08-08T17:44:53.661225Z"
    }
   }
  },
  {
   "cell_type": "code",
   "execution_count": 23,
   "outputs": [
    {
     "data": {
      "application/vnd.plotly.v1+json": {
       "data": [
        {
         "error_y": {
          "array": [
           2.1280168380319537,
           2.2426383908144945,
           2.2960773095123144,
           2.3138004502062812,
           2.955178306671152,
           2.9949821264442433,
           3.0043528667080195,
           4.7249356487110346
          ]
         },
         "hovertemplate": "from=pred<br>level_offset=%{x}<br>mean=%{y}<extra></extra>",
         "legendgroup": "pred",
         "marker": {
          "color": "#636efa",
          "symbol": "circle"
         },
         "mode": "markers",
         "name": "pred",
         "orientation": "v",
         "showlegend": true,
         "x": [
          1.9,
          2.9,
          3.9,
          4.9,
          5.9,
          6.9,
          7.9,
          8.9
         ],
         "xaxis": "x",
         "y": [
          5.430158807644768,
          10.422222370193118,
          6.953448373952816,
          5.999557607205568,
          7.139743691835648,
          8.242918573479797,
          8.837837965638787,
          10.809691786766052
         ],
         "yaxis": "y",
         "type": "scatter"
        },
        {
         "error_y": {
          "array": [
           2.2,
           1.3,
           1.5,
           1.6,
           1.4,
           1.4
          ]
         },
         "hovertemplate": "from=cadotte<br>level_offset=%{x}<br>mean=%{y}<extra></extra>",
         "legendgroup": "cadotte",
         "marker": {
          "color": "#EF553B",
          "symbol": "circle"
         },
         "mode": "markers",
         "name": "cadotte",
         "orientation": "v",
         "showlegend": true,
         "x": [
          3.1,
          4.1,
          5.1,
          6.1,
          7.1,
          8.1
         ],
         "xaxis": "x",
         "y": [
          10.5,
          9.9,
          10.5,
          9.7,
          9.4,
          9.6
         ],
         "yaxis": "y",
         "type": "scatter"
        },
        {
         "hovertemplate": "level=%{x}<br>value=%{y}<extra></extra>",
         "legendgroup": "",
         "marker": {
          "color": "#636efa",
          "symbol": "circle"
         },
         "mode": "markers",
         "name": "",
         "orientation": "v",
         "showlegend": false,
         "x": [
          2,
          2,
          2,
          2,
          2,
          2,
          2,
          2,
          2,
          2,
          2,
          2,
          2,
          2,
          2,
          2,
          2,
          2,
          2,
          2,
          2,
          2,
          2,
          2,
          2,
          2,
          2,
          2,
          2,
          2,
          2,
          2,
          2,
          2,
          2,
          2,
          2,
          2,
          2,
          2,
          2,
          2,
          2,
          2,
          2,
          2,
          2,
          2,
          2,
          2,
          2,
          2,
          2,
          2,
          2,
          2,
          2,
          2,
          2,
          2,
          2,
          2,
          2,
          2,
          2,
          2,
          2,
          2,
          2,
          2,
          2,
          2,
          2,
          2,
          2,
          2,
          2,
          2,
          2,
          2,
          2,
          2,
          2,
          2,
          2,
          2,
          2,
          2,
          2,
          2,
          2,
          2,
          2,
          2,
          2,
          2,
          2,
          2,
          2,
          2,
          2,
          2,
          2,
          2,
          2,
          2,
          2,
          2,
          2,
          2,
          2,
          2,
          2,
          2,
          2,
          2,
          2,
          2,
          2,
          2,
          2,
          2,
          2,
          2,
          2,
          2,
          2,
          2,
          2,
          2,
          2,
          2,
          2,
          2,
          2,
          2,
          2,
          2,
          2,
          2,
          2,
          2,
          2,
          2,
          2,
          2,
          2,
          2,
          2,
          2,
          2,
          2,
          2,
          2,
          2,
          2,
          2,
          2,
          2,
          2,
          2,
          2,
          2,
          2,
          2,
          2,
          2,
          2,
          2,
          2,
          2,
          2,
          2,
          2,
          2,
          2,
          2,
          2,
          2,
          2,
          2,
          2,
          2,
          2,
          2,
          2,
          2,
          2,
          2,
          2,
          2,
          2,
          2,
          2,
          2,
          2,
          2,
          2,
          2,
          2,
          2,
          2,
          2,
          2,
          2,
          2,
          2,
          2,
          2,
          2,
          2,
          2,
          2,
          2,
          2,
          2,
          2,
          2,
          2,
          2,
          2,
          2,
          2,
          2,
          2,
          2,
          2,
          2,
          2,
          2,
          2,
          2,
          2,
          2,
          2,
          2,
          2,
          2,
          2,
          2,
          2,
          2,
          2,
          2,
          2,
          2,
          2,
          2,
          2,
          2,
          2,
          2,
          2,
          2,
          2,
          2,
          2,
          2,
          2,
          2,
          2,
          2,
          2,
          2,
          2,
          2,
          2,
          2,
          2
         ],
         "xaxis": "x",
         "y": [
          8.800000131130219,
          4.000000059604645,
          5.5,
          8.800000131130219,
          2.400000035762787,
          8.00000011920929,
          6.400000095367432,
          8.800000131130219,
          6.400000095367432,
          8.800000131130219,
          4.800000071525574,
          null,
          7.200000107288361,
          4.000000059604645,
          6.400000095367432,
          2.0,
          4.800000071525574,
          0.800000011920929,
          8.800000131130219,
          3.200000047683716,
          4.800000071525574,
          9.600000143051147,
          6.400000095367432,
          3.200000047683716,
          7.200000107288361,
          4.800000071525574,
          7.200000107288361,
          4.000000059604645,
          3.200000047683716,
          null,
          4.000000059604645,
          6.400000095367432,
          7.200000107288361,
          null,
          2.400000035762787,
          6.400000095367432,
          6.5,
          null,
          4.000000059604645,
          4.000000059604645,
          7.200000107288361,
          6.400000095367432,
          8.00000011920929,
          6.400000095367432,
          3.200000047683716,
          1.600000023841858,
          5.600000083446503,
          6.0,
          5.600000083446503,
          6.400000095367432,
          3.200000047683716,
          3.200000047683716,
          4.800000071525574,
          4.000000059604645,
          4.800000071525574,
          3.0,
          4.800000071525574,
          5.600000083446503,
          6.400000095367432,
          5.600000083446503,
          4.000000059604645,
          3.200000047683716,
          7.200000107288361,
          7.200000107288361,
          4.800000071525574,
          2.400000035762787,
          null,
          7.200000107288361,
          3.200000047683716,
          6.400000095367432,
          6.5,
          null,
          0.800000011920929,
          4.800000071525574,
          2.400000035762787,
          5.600000083446503,
          8.00000011920929,
          null,
          8.800000131130219,
          3.200000047683716,
          4.800000071525574,
          null,
          4.000000059604645,
          3.200000047683716,
          4.800000071525574,
          7.200000107288361,
          8.00000011920929,
          4.800000071525574,
          4.000000059604645,
          8.00000011920929,
          3.200000047683716,
          7.200000107288361,
          1.600000023841858,
          6.400000095367432,
          6.400000095367432,
          4.800000071525574,
          3.200000047683716,
          9.600000143051147,
          8.00000011920929,
          3.200000047683716,
          4.000000059604645,
          4.000000059604645,
          4.800000071525574,
          9.600000143051147,
          4.800000071525574,
          3.200000047683716,
          null,
          7.200000107288361,
          7.0,
          8.00000011920929,
          6.400000095367432,
          8.00000011920929,
          null,
          7.200000107288361,
          6.400000095367432,
          4.000000059604645,
          6.400000095367432,
          3.200000047683716,
          3.5,
          2.400000035762787,
          5.600000083446503,
          null,
          9.600000143051147,
          null,
          8.00000011920929,
          6.400000095367432,
          4.000000059604645,
          6.400000095367432,
          6.400000095367432,
          4.000000059604645,
          4.000000059604645,
          6.400000095367432,
          2.400000035762787,
          8.0,
          4.000000059604645,
          8.800000131130219,
          7.200000107288361,
          7.200000107288361,
          3.200000047683716,
          7.200000107288361,
          6.0,
          8.00000011920929,
          2.400000035762787,
          4.800000071525574,
          6.400000095367432,
          6.400000095367432,
          4.800000071525574,
          4.800000071525574,
          8.00000011920929,
          3.200000047683716,
          4.000000059604645,
          0.800000011920929,
          null,
          0.800000011920929,
          1.600000023841858,
          2.400000035762787,
          6.400000095367432,
          3.200000047683716,
          8.00000011920929,
          7.200000107288361,
          5.600000083446503,
          8.00000011920929,
          4.000000059604645,
          8.00000011920929,
          4.800000071525574,
          3.200000047683716,
          8.800000131130219,
          2.400000035762787,
          5.600000083446503,
          7.200000107288361,
          8.800000131130219,
          4.000000059604645,
          7.200000107288361,
          5.600000083446503,
          8.800000131130219,
          4.800000071525574,
          5.600000083446503,
          8.00000011920929,
          6.400000095367432,
          8.00000011920929,
          0.800000011920929,
          5.600000083446503,
          7.200000107288361,
          6.400000095367432,
          6.400000095367432,
          4.800000071525574,
          8.00000011920929,
          8.00000011920929,
          7.200000107288361,
          4.000000059604645,
          2.400000035762787,
          null,
          8.00000011920929,
          4.800000071525574,
          7.200000107288361,
          3.200000047683716,
          4.000000059604645,
          4.000000059604645,
          4.000000059604645,
          6.400000095367432,
          4.800000071525574,
          4.800000071525574,
          2.400000035762787,
          5.600000083446503,
          2.400000035762787,
          4.800000071525574,
          6.400000095367432,
          6.400000095367432,
          6.400000095367432,
          0.800000011920929,
          8.00000011920929,
          5.600000083446503,
          8.00000011920929,
          1.600000023841858,
          3.0,
          0.800000011920929,
          4.000000059604645,
          4.000000059604645,
          5.600000083446503,
          6.400000095367432,
          5.600000083446503,
          4.000000059604645,
          5.600000083446503,
          4.800000071525574,
          4.800000071525574,
          4.000000059604645,
          6.400000095367432,
          2.400000035762787,
          10.400000154972076,
          5.600000083446503,
          4.000000059604645,
          9.600000143051147,
          8.00000011920929,
          4.000000059604645,
          6.400000095367432,
          4.800000071525574,
          7.200000107288361,
          4.800000071525574,
          4.800000071525574,
          4.000000059604645,
          3.200000047683716,
          8.00000011920929,
          1.0,
          4.000000059604645,
          8.800000131130219,
          3.200000047683716,
          6.400000095367432,
          8.00000011920929,
          6.400000095367432,
          4.000000059604645,
          8.800000131130219,
          5.600000083446503,
          7.200000107288361,
          5.600000083446503,
          6.400000095367432,
          null,
          3.200000047683716,
          3.200000047683716,
          8.00000011920929,
          7.200000107288361,
          7.200000107288361,
          4.000000059604645,
          8.00000011920929,
          2.400000035762787,
          4.800000071525574,
          5.600000083446503,
          8.800000131130219,
          5.430158807644768,
          2.1280168380319537
         ],
         "yaxis": "y",
         "type": "scatter"
        },
        {
         "hovertemplate": "level=%{x}<br>value=%{y}<extra></extra>",
         "legendgroup": "",
         "marker": {
          "color": "#636efa",
          "symbol": "circle"
         },
         "mode": "markers",
         "name": "",
         "orientation": "v",
         "showlegend": false,
         "x": [
          3,
          3,
          3,
          3,
          3,
          3,
          3,
          3,
          3,
          3,
          3,
          3,
          3,
          3,
          3,
          3,
          3,
          3,
          3,
          3,
          3,
          3,
          3,
          3,
          3,
          3,
          3,
          3,
          3,
          3,
          3,
          3,
          3,
          3,
          3,
          3,
          3,
          3,
          3,
          3,
          3,
          3,
          3,
          3,
          3,
          3,
          3,
          3,
          3,
          3,
          3,
          3,
          3,
          3,
          3,
          3,
          3,
          3,
          3,
          3,
          3,
          3,
          3,
          3,
          3,
          3,
          3,
          3,
          3,
          3,
          3,
          3,
          3,
          3,
          3,
          3,
          3,
          3,
          3,
          3,
          3,
          3,
          3,
          3,
          3,
          3,
          3,
          3,
          3,
          3,
          3,
          3,
          3,
          3,
          3,
          3,
          3,
          3,
          3,
          3,
          3,
          3,
          3,
          3,
          3,
          3,
          3,
          3,
          3,
          3,
          3,
          3,
          3,
          3,
          3,
          3,
          3,
          3,
          3,
          3,
          3,
          3,
          3,
          3,
          3,
          3,
          3,
          3,
          3,
          3,
          3,
          3,
          3,
          3,
          3,
          3,
          3,
          3,
          3,
          3,
          3,
          3,
          3,
          3,
          3,
          3,
          3,
          3,
          3,
          3,
          3,
          3,
          3,
          3,
          3,
          3,
          3,
          3,
          3,
          3,
          3,
          3,
          3,
          3,
          3,
          3,
          3,
          3,
          3,
          3,
          3,
          3,
          3,
          3,
          3,
          3,
          3,
          3,
          3,
          3,
          3,
          3,
          3,
          3,
          3,
          3,
          3,
          3,
          3,
          3,
          3,
          3,
          3,
          3,
          3,
          3,
          3,
          3,
          3,
          3,
          3,
          3,
          3,
          3,
          3,
          3,
          3,
          3,
          3,
          3,
          3,
          3,
          3,
          3,
          3,
          3,
          3,
          3,
          3,
          3,
          3,
          3,
          3,
          3,
          3,
          3,
          3,
          3,
          3,
          3,
          3,
          3,
          3,
          3,
          3,
          3,
          3,
          3,
          3,
          3,
          3,
          3,
          3,
          3,
          3,
          3,
          3,
          3,
          3,
          3,
          3,
          3,
          3,
          3,
          3,
          3,
          3,
          3,
          3,
          3,
          3,
          3,
          3,
          3,
          3,
          3,
          3,
          3,
          3,
          3,
          3
         ],
         "xaxis": "x",
         "y": [
          15.20000022649765,
          16.800000250339508,
          11.0,
          9.600000143051147,
          6.400000095367432,
          12.000000178813934,
          12.000000178813934,
          11.200000166893004,
          12.000000178813934,
          12.000000178813934,
          10.400000154972076,
          null,
          12.000000178813934,
          8.800000131130219,
          9.600000143051147,
          6.0,
          10.400000154972076,
          12.000000178813934,
          12.800000190734863,
          9.600000143051147,
          10.400000154972076,
          8.800000131130219,
          14.40000021457672,
          5.600000083446503,
          11.200000166893004,
          12.000000178813934,
          12.800000190734863,
          8.800000131130219,
          12.000000178813934,
          null,
          9.600000143051147,
          11.200000166893004,
          13.600000202655792,
          null,
          10.400000154972076,
          10.400000154972076,
          11.5,
          null,
          12.000000178813934,
          8.00000011920929,
          11.200000166893004,
          11.200000166893004,
          8.00000011920929,
          10.400000154972076,
          9.600000143051147,
          3.200000047683716,
          8.800000131130219,
          11.5,
          8.00000011920929,
          7.200000107288361,
          9.600000143051147,
          8.800000131130219,
          18.40000027418137,
          8.800000131130219,
          12.000000178813934,
          8.0,
          11.200000166893004,
          10.400000154972076,
          14.40000021457672,
          11.200000166893004,
          8.800000131130219,
          9.600000143051147,
          9.600000143051147,
          11.200000166893004,
          10.400000154972076,
          10.400000154972076,
          null,
          11.200000166893004,
          8.800000131130219,
          11.200000166893004,
          13.0,
          null,
          10.400000154972076,
          11.200000166893004,
          12.800000190734863,
          12.000000178813934,
          12.800000190734863,
          null,
          6.400000095367432,
          8.00000011920929,
          8.800000131130219,
          null,
          11.200000166893004,
          8.00000011920929,
          10.400000154972076,
          11.200000166893004,
          14.40000021457672,
          12.000000178813934,
          8.800000131130219,
          10.400000154972076,
          9.600000143051147,
          9.600000143051147,
          5.600000083446503,
          12.000000178813934,
          12.000000178813934,
          11.200000166893004,
          11.200000166893004,
          11.200000166893004,
          9.600000143051147,
          8.00000011920929,
          13.600000202655792,
          8.00000011920929,
          9.600000143051147,
          13.600000202655792,
          9.600000143051147,
          4.000000059604645,
          null,
          12.000000178813934,
          12.5,
          12.000000178813934,
          8.800000131130219,
          8.800000131130219,
          null,
          13.600000202655792,
          10.400000154972076,
          9.600000143051147,
          11.200000166893004,
          11.200000166893004,
          8.5,
          11.200000166893004,
          9.600000143051147,
          null,
          13.600000202655792,
          null,
          12.800000190734863,
          12.000000178813934,
          11.200000166893004,
          9.600000143051147,
          8.800000131130219,
          10.400000154972076,
          9.600000143051147,
          12.800000190734863,
          8.00000011920929,
          9.5,
          10.400000154972076,
          10.400000154972076,
          8.800000131130219,
          9.600000143051147,
          8.00000011920929,
          9.600000143051147,
          9.5,
          14.40000021457672,
          7.200000107288361,
          8.800000131130219,
          10.400000154972076,
          10.400000154972076,
          6.400000095367432,
          7.200000107288361,
          8.800000131130219,
          9.600000143051147,
          14.40000021457672,
          12.000000178813934,
          null,
          8.00000011920929,
          4.800000071525574,
          8.00000011920929,
          11.200000166893004,
          10.400000154972076,
          10.400000154972076,
          10.400000154972076,
          8.800000131130219,
          13.600000202655792,
          5.600000083446503,
          13.600000202655792,
          11.200000166893004,
          9.600000143051147,
          11.200000166893004,
          11.200000166893004,
          12.800000190734863,
          8.800000131130219,
          11.200000166893004,
          12.000000178813934,
          13.600000202655792,
          9.600000143051147,
          12.000000178813934,
          12.800000190734863,
          14.40000021457672,
          10.400000154972076,
          10.400000154972076,
          11.200000166893004,
          7.200000107288361,
          9.600000143051147,
          11.200000166893004,
          8.800000131130219,
          9.600000143051147,
          8.800000131130219,
          8.00000011920929,
          12.000000178813934,
          9.600000143051147,
          11.200000166893004,
          9.600000143051147,
          null,
          13.600000202655792,
          9.600000143051147,
          12.000000178813934,
          8.800000131130219,
          7.200000107288361,
          8.00000011920929,
          8.800000131130219,
          8.800000131130219,
          11.200000166893004,
          12.000000178813934,
          4.800000071525574,
          12.000000178813934,
          11.200000166893004,
          8.00000011920929,
          9.600000143051147,
          13.600000202655792,
          10.400000154972076,
          null,
          12.000000178813934,
          11.200000166893004,
          12.000000178813934,
          8.800000131130219,
          9.0,
          10.400000154972076,
          9.600000143051147,
          12.000000178813934,
          9.600000143051147,
          10.400000154972076,
          8.00000011920929,
          10.400000154972076,
          9.600000143051147,
          6.400000095367432,
          12.000000178813934,
          12.000000178813934,
          10.400000154972076,
          12.800000190734863,
          12.000000178813934,
          12.800000190734863,
          12.800000190734863,
          11.200000166893004,
          11.200000166893004,
          10.400000154972076,
          11.200000166893004,
          10.400000154972076,
          10.400000154972076,
          8.800000131130219,
          12.000000178813934,
          8.00000011920929,
          10.400000154972076,
          13.600000202655792,
          14.0,
          7.200000107288361,
          12.800000190734863,
          8.800000131130219,
          9.600000143051147,
          13.600000202655792,
          12.000000178813934,
          10.400000154972076,
          11.200000166893004,
          12.800000190734863,
          10.400000154972076,
          12.800000190734863,
          8.00000011920929,
          0.0,
          8.800000131130219,
          9.600000143051147,
          11.200000166893004,
          8.800000131130219,
          14.40000021457672,
          12.000000178813934,
          12.000000178813934,
          8.800000131130219,
          11.200000166893004,
          10.400000154972076,
          12.000000178813934,
          10.422222370193118,
          2.2426383908144945,
          10.5,
          2.2
         ],
         "yaxis": "y",
         "type": "scatter"
        },
        {
         "hovertemplate": "level=%{x}<br>value=%{y}<extra></extra>",
         "legendgroup": "",
         "marker": {
          "color": "#636efa",
          "symbol": "circle"
         },
         "mode": "markers",
         "name": "",
         "orientation": "v",
         "showlegend": false,
         "x": [
          4,
          4,
          4,
          4,
          4,
          4,
          4,
          4,
          4,
          4,
          4,
          4,
          4,
          4,
          4,
          4,
          4,
          4,
          4,
          4,
          4,
          4,
          4,
          4,
          4,
          4,
          4,
          4,
          4,
          4,
          4,
          4,
          4,
          4,
          4,
          4,
          4,
          4,
          4,
          4,
          4,
          4,
          4,
          4,
          4,
          4,
          4,
          4,
          4,
          4,
          4,
          4,
          4,
          4,
          4,
          4,
          4,
          4,
          4,
          4,
          4,
          4,
          4,
          4,
          4,
          4,
          4,
          4,
          4,
          4,
          4,
          4,
          4,
          4,
          4,
          4,
          4,
          4,
          4,
          4,
          4,
          4,
          4,
          4,
          4,
          4,
          4,
          4,
          4,
          4,
          4,
          4,
          4,
          4,
          4,
          4,
          4,
          4,
          4,
          4,
          4,
          4,
          4,
          4,
          4,
          4,
          4,
          4,
          4,
          4,
          4,
          4,
          4,
          4,
          4,
          4,
          4,
          4,
          4,
          4,
          4,
          4,
          4,
          4,
          4,
          4,
          4,
          4,
          4,
          4,
          4,
          4,
          4,
          4,
          4,
          4,
          4,
          4,
          4,
          4,
          4,
          4,
          4,
          4,
          4,
          4,
          4,
          4,
          4,
          4,
          4,
          4,
          4,
          4,
          4,
          4,
          4,
          4,
          4,
          4,
          4,
          4,
          4,
          4,
          4,
          4,
          4,
          4,
          4,
          4,
          4,
          4,
          4,
          4,
          4,
          4,
          4,
          4,
          4,
          4,
          4,
          4,
          4,
          4,
          4,
          4,
          4,
          4,
          4,
          4,
          4,
          4,
          4,
          4,
          4,
          4,
          4,
          4,
          4,
          4,
          4,
          4,
          4,
          4,
          4,
          4,
          4,
          4,
          4,
          4,
          4,
          4,
          4,
          4,
          4,
          4,
          4,
          4,
          4,
          4,
          4,
          4,
          4,
          4,
          4,
          4,
          4,
          4,
          4,
          4,
          4,
          4,
          4,
          4,
          4,
          4,
          4,
          4,
          4,
          4,
          4,
          4,
          4,
          4,
          4,
          4,
          4,
          4,
          4,
          4,
          4,
          4,
          4,
          4,
          4,
          4,
          4,
          4,
          4,
          4,
          4,
          4,
          4,
          4,
          4,
          4,
          4,
          4,
          4,
          4,
          4
         ],
         "xaxis": "x",
         "y": [
          10.400000154972076,
          8.800000131130219,
          9.5,
          5.600000083446503,
          7.200000107288361,
          8.00000011920929,
          8.00000011920929,
          7.200000107288361,
          8.800000131130219,
          6.400000095367432,
          6.400000095367432,
          null,
          4.000000059604645,
          null,
          7.200000107288361,
          1.0,
          5.600000083446503,
          4.000000059604645,
          7.200000107288361,
          4.800000071525574,
          8.00000011920929,
          8.00000011920929,
          10.400000154972076,
          null,
          8.800000131130219,
          9.600000143051147,
          8.800000131130219,
          6.400000095367432,
          7.200000107288361,
          null,
          8.800000131130219,
          12.000000178813934,
          8.800000131130219,
          null,
          8.800000131130219,
          6.400000095367432,
          10.0,
          null,
          0.800000011920929,
          4.000000059604645,
          8.800000131130219,
          2.400000035762787,
          1.600000023841858,
          6.400000095367432,
          6.400000095367432,
          null,
          4.800000071525574,
          9.5,
          7.200000107288361,
          4.000000059604645,
          4.800000071525574,
          8.00000011920929,
          8.00000011920929,
          10.400000154972076,
          9.600000143051147,
          4.0,
          8.800000131130219,
          6.400000095367432,
          9.600000143051147,
          8.800000131130219,
          8.800000131130219,
          1.600000023841858,
          4.800000071525574,
          8.800000131130219,
          6.400000095367432,
          4.800000071525574,
          null,
          8.800000131130219,
          8.00000011920929,
          8.800000131130219,
          8.5,
          null,
          2.400000035762787,
          9.600000143051147,
          8.00000011920929,
          8.800000131130219,
          6.400000095367432,
          null,
          4.000000059604645,
          6.400000095367432,
          6.400000095367432,
          null,
          8.00000011920929,
          8.00000011920929,
          8.00000011920929,
          8.800000131130219,
          null,
          0.0,
          5.600000083446503,
          null,
          8.00000011920929,
          8.00000011920929,
          null,
          7.200000107288361,
          6.400000095367432,
          11.200000166893004,
          8.00000011920929,
          8.800000131130219,
          7.200000107288361,
          2.400000035762787,
          8.800000131130219,
          6.400000095367432,
          8.800000131130219,
          8.800000131130219,
          7.200000107288361,
          null,
          null,
          10.400000154972076,
          10.0,
          7.200000107288361,
          0.0,
          4.800000071525574,
          null,
          8.800000131130219,
          0.0,
          3.200000047683716,
          6.400000095367432,
          7.200000107288361,
          4.0,
          7.200000107288361,
          4.000000059604645,
          null,
          10.400000154972076,
          null,
          9.600000143051147,
          6.400000095367432,
          6.400000095367432,
          4.800000071525574,
          5.600000083446503,
          6.400000095367432,
          4.800000071525574,
          8.800000131130219,
          null,
          8.0,
          6.400000095367432,
          9.600000143051147,
          7.200000107288361,
          null,
          4.800000071525574,
          9.600000143051147,
          7.5,
          10.400000154972076,
          6.400000095367432,
          5.600000083446503,
          4.800000071525574,
          8.800000131130219,
          null,
          3.200000047683716,
          null,
          5.600000083446503,
          7.200000107288361,
          4.000000059604645,
          null,
          null,
          null,
          null,
          7.200000107288361,
          8.00000011920929,
          null,
          6.400000095367432,
          5.600000083446503,
          6.400000095367432,
          null,
          8.00000011920929,
          6.400000095367432,
          8.800000131130219,
          8.00000011920929,
          9.600000143051147,
          7.200000107288361,
          10.400000154972076,
          7.200000107288361,
          6.400000095367432,
          10.400000154972076,
          6.400000095367432,
          8.800000131130219,
          7.200000107288361,
          9.600000143051147,
          8.00000011920929,
          4.800000071525574,
          4.000000059604645,
          null,
          5.600000083446503,
          8.00000011920929,
          6.400000095367432,
          8.00000011920929,
          6.400000095367432,
          9.600000143051147,
          9.600000143051147,
          6.400000095367432,
          8.800000131130219,
          null,
          null,
          8.800000131130219,
          null,
          4.800000071525574,
          6.400000095367432,
          1.600000023841858,
          4.000000059604645,
          8.800000131130219,
          8.00000011920929,
          7.200000107288361,
          8.800000131130219,
          7.200000107288361,
          5.600000083446503,
          7.200000107288361,
          9.600000143051147,
          9.600000143051147,
          10.400000154972076,
          5.600000083446503,
          null,
          7.200000107288361,
          9.600000143051147,
          6.400000095367432,
          3.200000047683716,
          8.0,
          8.00000011920929,
          7.200000107288361,
          7.200000107288361,
          7.200000107288361,
          5.600000083446503,
          2.400000035762787,
          8.800000131130219,
          4.000000059604645,
          5.600000083446503,
          10.400000154972076,
          9.600000143051147,
          8.00000011920929,
          8.800000131130219,
          7.200000107288361,
          8.800000131130219,
          6.400000095367432,
          8.800000131130219,
          4.800000071525574,
          7.200000107288361,
          7.200000107288361,
          8.00000011920929,
          6.400000095367432,
          3.200000047683716,
          6.400000095367432,
          7.200000107288361,
          5.600000083446503,
          9.600000143051147,
          6.0,
          1.600000023841858,
          8.00000011920929,
          6.400000095367432,
          7.200000107288361,
          6.400000095367432,
          8.800000131130219,
          0.800000011920929,
          8.00000011920929,
          3.200000047683716,
          5.600000083446503,
          6.400000095367432,
          8.800000131130219,
          null,
          6.400000095367432,
          5.600000083446503,
          5.600000083446503,
          3.200000047683716,
          8.00000011920929,
          6.400000095367432,
          7.200000107288361,
          8.800000131130219,
          8.00000011920929,
          10.400000154972076,
          6.400000095367432,
          6.953448373952816,
          2.2960773095123144,
          9.9,
          1.3
         ],
         "yaxis": "y",
         "type": "scatter"
        },
        {
         "hovertemplate": "level=%{x}<br>value=%{y}<extra></extra>",
         "legendgroup": "",
         "marker": {
          "color": "#636efa",
          "symbol": "circle"
         },
         "mode": "markers",
         "name": "",
         "orientation": "v",
         "showlegend": false,
         "x": [
          5,
          5,
          5,
          5,
          5,
          5,
          5,
          5,
          5,
          5,
          5,
          5,
          5,
          5,
          5,
          5,
          5,
          5,
          5,
          5,
          5,
          5,
          5,
          5,
          5,
          5,
          5,
          5,
          5,
          5,
          5,
          5,
          5,
          5,
          5,
          5,
          5,
          5,
          5,
          5,
          5,
          5,
          5,
          5,
          5,
          5,
          5,
          5,
          5,
          5,
          5,
          5,
          5,
          5,
          5,
          5,
          5,
          5,
          5,
          5,
          5,
          5,
          5,
          5,
          5,
          5,
          5,
          5,
          5,
          5,
          5,
          5,
          5,
          5,
          5,
          5,
          5,
          5,
          5,
          5,
          5,
          5,
          5,
          5,
          5,
          5,
          5,
          5,
          5,
          5,
          5,
          5,
          5,
          5,
          5,
          5,
          5,
          5,
          5,
          5,
          5,
          5,
          5,
          5,
          5,
          5,
          5,
          5,
          5,
          5,
          5,
          5,
          5,
          5,
          5,
          5,
          5,
          5,
          5,
          5,
          5,
          5,
          5,
          5,
          5,
          5,
          5,
          5,
          5,
          5,
          5,
          5,
          5,
          5,
          5,
          5,
          5,
          5,
          5,
          5,
          5,
          5,
          5,
          5,
          5,
          5,
          5,
          5,
          5,
          5,
          5,
          5,
          5,
          5,
          5,
          5,
          5,
          5,
          5,
          5,
          5,
          5,
          5,
          5,
          5,
          5,
          5,
          5,
          5,
          5,
          5,
          5,
          5,
          5,
          5,
          5,
          5,
          5,
          5,
          5,
          5,
          5,
          5,
          5,
          5,
          5,
          5,
          5,
          5,
          5,
          5,
          5,
          5,
          5,
          5,
          5,
          5,
          5,
          5,
          5,
          5,
          5,
          5,
          5,
          5,
          5,
          5,
          5,
          5,
          5,
          5,
          5,
          5,
          5,
          5,
          5,
          5,
          5,
          5,
          5,
          5,
          5,
          5,
          5,
          5,
          5,
          5,
          5,
          5,
          5,
          5,
          5,
          5,
          5,
          5,
          5,
          5,
          5,
          5,
          5,
          5,
          5,
          5,
          5,
          5,
          5,
          5,
          5,
          5,
          5,
          5,
          5,
          5,
          5,
          5,
          5,
          5,
          5,
          5,
          5,
          5,
          5,
          5,
          5,
          5,
          5,
          5,
          5,
          5,
          5,
          5
         ],
         "xaxis": "x",
         "y": [
          8.800000131130219,
          8.00000011920929,
          7.0,
          4.800000071525574,
          5.600000083446503,
          4.800000071525574,
          8.00000011920929,
          5.600000083446503,
          7.200000107288361,
          5.600000083446503,
          6.400000095367432,
          null,
          5.600000083446503,
          3.200000047683716,
          5.600000083446503,
          0.0,
          null,
          3.200000047683716,
          2.400000035762787,
          4.000000059604645,
          8.00000011920929,
          6.400000095367432,
          6.400000095367432,
          3.200000047683716,
          7.200000107288361,
          7.200000107288361,
          8.00000011920929,
          2.400000035762787,
          null,
          null,
          6.400000095367432,
          6.400000095367432,
          8.800000131130219,
          null,
          7.200000107288361,
          6.400000095367432,
          8.5,
          null,
          null,
          5.600000083446503,
          8.00000011920929,
          3.200000047683716,
          4.800000071525574,
          5.600000083446503,
          8.800000131130219,
          null,
          6.400000095367432,
          6.0,
          4.800000071525574,
          null,
          4.000000059604645,
          7.200000107288361,
          8.00000011920929,
          7.200000107288361,
          7.200000107288361,
          5.0,
          11.200000166893004,
          5.600000083446503,
          7.200000107288361,
          7.200000107288361,
          7.200000107288361,
          null,
          4.000000059604645,
          5.600000083446503,
          6.400000095367432,
          5.600000083446503,
          null,
          7.200000107288361,
          8.00000011920929,
          7.200000107288361,
          7.0,
          null,
          null,
          6.400000095367432,
          7.200000107288361,
          7.200000107288361,
          null,
          null,
          6.400000095367432,
          5.600000083446503,
          7.200000107288361,
          null,
          5.600000083446503,
          4.000000059604645,
          8.00000011920929,
          6.400000095367432,
          0.800000011920929,
          16.00000023841858,
          2.400000035762787,
          null,
          6.400000095367432,
          4.000000059604645,
          2.400000035762787,
          8.800000131130219,
          4.800000071525574,
          10.400000154972076,
          7.200000107288361,
          0.800000011920929,
          7.200000107288361,
          null,
          7.200000107288361,
          5.600000083446503,
          8.00000011920929,
          8.00000011920929,
          8.00000011920929,
          0.0,
          null,
          8.00000011920929,
          8.5,
          4.000000059604645,
          null,
          3.200000047683716,
          null,
          6.400000095367432,
          4.800000071525574,
          7.200000107288361,
          null,
          4.000000059604645,
          4.5,
          null,
          0.800000011920929,
          null,
          8.800000131130219,
          null,
          7.200000107288361,
          0.0,
          8.00000011920929,
          6.400000095367432,
          4.000000059604645,
          4.800000071525574,
          4.800000071525574,
          6.400000095367432,
          null,
          6.5,
          6.400000095367432,
          5.600000083446503,
          8.800000131130219,
          3.200000047683716,
          5.600000083446503,
          6.400000095367432,
          6.5,
          8.800000131130219,
          7.200000107288361,
          6.400000095367432,
          3.200000047683716,
          5.600000083446503,
          null,
          null,
          null,
          4.800000071525574,
          8.00000011920929,
          2.400000035762787,
          null,
          null,
          null,
          null,
          6.400000095367432,
          8.00000011920929,
          null,
          5.600000083446503,
          6.400000095367432,
          7.200000107288361,
          null,
          7.200000107288361,
          4.800000071525574,
          8.00000011920929,
          5.600000083446503,
          7.200000107288361,
          6.400000095367432,
          8.800000131130219,
          7.200000107288361,
          4.000000059604645,
          6.400000095367432,
          8.800000131130219,
          8.800000131130219,
          6.400000095367432,
          8.00000011920929,
          1.600000023841858,
          5.600000083446503,
          5.600000083446503,
          null,
          0.0,
          4.000000059604645,
          6.400000095367432,
          6.400000095367432,
          8.00000011920929,
          4.000000059604645,
          8.800000131130219,
          8.00000011920929,
          4.800000071525574,
          0.0,
          null,
          8.00000011920929,
          0.800000011920929,
          2.400000035762787,
          7.200000107288361,
          null,
          1.600000023841858,
          4.800000071525574,
          4.800000071525574,
          7.200000107288361,
          8.00000011920929,
          8.800000131130219,
          4.000000059604645,
          6.400000095367432,
          7.200000107288361,
          6.400000095367432,
          7.200000107288361,
          3.200000047683716,
          null,
          7.200000107288361,
          7.200000107288361,
          10.400000154972076,
          5.600000083446503,
          6.0,
          7.200000107288361,
          8.00000011920929,
          7.200000107288361,
          5.600000083446503,
          7.200000107288361,
          3.200000047683716,
          8.800000131130219,
          2.400000035762787,
          5.600000083446503,
          8.800000131130219,
          4.800000071525574,
          8.00000011920929,
          5.600000083446503,
          2.400000035762787,
          7.200000107288361,
          4.800000071525574,
          9.600000143051147,
          6.400000095367432,
          5.600000083446503,
          7.200000107288361,
          4.800000071525574,
          4.800000071525574,
          null,
          8.00000011920929,
          5.600000083446503,
          6.400000095367432,
          9.600000143051147,
          0.0,
          3.200000047683716,
          8.00000011920929,
          4.800000071525574,
          5.600000083446503,
          4.000000059604645,
          8.800000131130219,
          0.800000011920929,
          4.000000059604645,
          6.400000095367432,
          8.00000011920929,
          0.0,
          8.00000011920929,
          null,
          6.400000095367432,
          4.800000071525574,
          6.400000095367432,
          7.200000107288361,
          8.00000011920929,
          6.400000095367432,
          8.00000011920929,
          7.200000107288361,
          7.200000107288361,
          7.200000107288361,
          3.200000047683716,
          5.999557607205568,
          2.3138004502062812,
          10.5,
          1.5
         ],
         "yaxis": "y",
         "type": "scatter"
        },
        {
         "hovertemplate": "level=%{x}<br>value=%{y}<extra></extra>",
         "legendgroup": "",
         "marker": {
          "color": "#636efa",
          "symbol": "circle"
         },
         "mode": "markers",
         "name": "",
         "orientation": "v",
         "showlegend": false,
         "x": [
          6,
          6,
          6,
          6,
          6,
          6,
          6,
          6,
          6,
          6,
          6,
          6,
          6,
          6,
          6,
          6,
          6,
          6,
          6,
          6,
          6,
          6,
          6,
          6,
          6,
          6,
          6,
          6,
          6,
          6,
          6,
          6,
          6,
          6,
          6,
          6,
          6,
          6,
          6,
          6,
          6,
          6,
          6,
          6,
          6,
          6,
          6,
          6,
          6,
          6,
          6,
          6,
          6,
          6,
          6,
          6,
          6,
          6,
          6,
          6,
          6,
          6,
          6,
          6,
          6,
          6,
          6,
          6,
          6,
          6,
          6,
          6,
          6,
          6,
          6,
          6,
          6,
          6,
          6,
          6,
          6,
          6,
          6,
          6,
          6,
          6,
          6,
          6,
          6,
          6,
          6,
          6,
          6,
          6,
          6,
          6,
          6,
          6,
          6,
          6,
          6,
          6,
          6,
          6,
          6,
          6,
          6,
          6,
          6,
          6,
          6,
          6,
          6,
          6,
          6,
          6,
          6,
          6,
          6,
          6,
          6,
          6,
          6,
          6,
          6,
          6,
          6,
          6,
          6,
          6,
          6,
          6,
          6,
          6,
          6,
          6,
          6,
          6,
          6,
          6,
          6,
          6,
          6,
          6,
          6,
          6,
          6,
          6,
          6,
          6,
          6,
          6,
          6,
          6,
          6,
          6,
          6,
          6,
          6,
          6,
          6,
          6,
          6,
          6,
          6,
          6,
          6,
          6,
          6,
          6,
          6,
          6,
          6,
          6,
          6,
          6,
          6,
          6,
          6,
          6,
          6,
          6,
          6,
          6,
          6,
          6,
          6,
          6,
          6,
          6,
          6,
          6,
          6,
          6,
          6,
          6,
          6,
          6,
          6,
          6,
          6,
          6,
          6,
          6,
          6,
          6,
          6,
          6,
          6,
          6,
          6,
          6,
          6,
          6,
          6,
          6,
          6,
          6,
          6,
          6,
          6,
          6,
          6,
          6,
          6,
          6,
          6,
          6,
          6,
          6,
          6,
          6,
          6,
          6,
          6,
          6,
          6,
          6,
          6,
          6,
          6,
          6,
          6,
          6,
          6,
          6,
          6,
          6,
          6,
          6,
          6,
          6,
          6,
          6,
          6,
          6,
          6,
          6,
          6,
          6,
          6,
          6,
          6,
          6,
          6,
          6,
          6,
          6,
          6,
          6,
          6
         ],
         "xaxis": "x",
         "y": [
          10.400000154972076,
          8.800000131130219,
          9.0,
          4.000000059604645,
          6.400000095367432,
          8.00000011920929,
          6.400000095367432,
          4.800000071525574,
          8.00000011920929,
          6.400000095367432,
          8.00000011920929,
          null,
          6.400000095367432,
          5.600000083446503,
          9.600000143051147,
          0.0,
          0.0,
          1.600000023841858,
          4.000000059604645,
          9.600000143051147,
          9.600000143051147,
          8.00000011920929,
          7.200000107288361,
          null,
          8.00000011920929,
          10.400000154972076,
          8.00000011920929,
          6.400000095367432,
          12.000000178813934,
          null,
          4.800000071525574,
          4.000000059604645,
          8.800000131130219,
          null,
          7.200000107288361,
          4.800000071525574,
          7.0,
          null,
          null,
          11.200000166893004,
          6.400000095367432,
          4.800000071525574,
          7.200000107288361,
          5.600000083446503,
          8.800000131130219,
          null,
          7.200000107288361,
          7.0,
          5.600000083446503,
          13.600000202655792,
          6.400000095367432,
          6.400000095367432,
          8.00000011920929,
          8.00000011920929,
          7.200000107288361,
          8.0,
          11.200000166893004,
          5.600000083446503,
          8.800000131130219,
          8.00000011920929,
          8.800000131130219,
          5.600000083446503,
          6.400000095367432,
          8.00000011920929,
          8.00000011920929,
          6.400000095367432,
          null,
          8.00000011920929,
          7.200000107288361,
          24.00000035762787,
          9.5,
          null,
          null,
          6.400000095367432,
          7.200000107288361,
          7.200000107288361,
          4.800000071525574,
          null,
          6.400000095367432,
          7.200000107288361,
          7.200000107288361,
          null,
          7.200000107288361,
          8.00000011920929,
          8.800000131130219,
          8.00000011920929,
          1.600000023841858,
          22.40000033378601,
          8.00000011920929,
          1.600000023841858,
          8.800000131130219,
          4.800000071525574,
          null,
          9.600000143051147,
          6.400000095367432,
          8.800000131130219,
          8.00000011920929,
          null,
          7.200000107288361,
          null,
          4.800000071525574,
          5.600000083446503,
          7.200000107288361,
          8.00000011920929,
          8.00000011920929,
          null,
          null,
          7.200000107288361,
          5.5,
          4.000000059604645,
          null,
          5.600000083446503,
          null,
          8.800000131130219,
          0.800000011920929,
          4.800000071525574,
          0.800000011920929,
          8.800000131130219,
          7.5,
          null,
          4.800000071525574,
          null,
          8.00000011920929,
          null,
          8.00000011920929,
          3.200000047683716,
          8.800000131130219,
          9.600000143051147,
          7.200000107288361,
          11.200000166893004,
          6.400000095367432,
          8.00000011920929,
          null,
          8.0,
          8.800000131130219,
          7.200000107288361,
          8.00000011920929,
          0.800000011920929,
          6.400000095367432,
          8.800000131130219,
          2.0,
          8.00000011920929,
          7.200000107288361,
          8.800000131130219,
          1.600000023841858,
          8.00000011920929,
          null,
          0.800000011920929,
          null,
          7.200000107288361,
          7.200000107288361,
          2.400000035762787,
          null,
          2.400000035762787,
          null,
          null,
          8.00000011920929,
          8.00000011920929,
          null,
          8.00000011920929,
          7.200000107288361,
          10.400000154972076,
          null,
          8.800000131130219,
          5.600000083446503,
          7.200000107288361,
          2.400000035762787,
          7.200000107288361,
          6.400000095367432,
          7.200000107288361,
          8.00000011920929,
          7.200000107288361,
          20.800000309944153,
          9.600000143051147,
          8.800000131130219,
          8.00000011920929,
          10.400000154972076,
          4.800000071525574,
          4.800000071525574,
          6.400000095367432,
          3.200000047683716,
          4.800000071525574,
          7.200000107288361,
          7.200000107288361,
          8.00000011920929,
          9.600000143051147,
          5.600000083446503,
          9.600000143051147,
          7.200000107288361,
          8.800000131130219,
          2.400000035762787,
          null,
          8.00000011920929,
          2.400000035762787,
          3.200000047683716,
          8.800000131130219,
          4.800000071525574,
          0.800000011920929,
          8.800000131130219,
          7.200000107288361,
          8.00000011920929,
          7.200000107288361,
          8.00000011920929,
          5.600000083446503,
          8.00000011920929,
          8.00000011920929,
          8.00000011920929,
          9.600000143051147,
          4.000000059604645,
          null,
          7.200000107288361,
          8.800000131130219,
          8.800000131130219,
          4.800000071525574,
          4.0,
          4.800000071525574,
          4.800000071525574,
          8.00000011920929,
          6.400000095367432,
          9.600000143051147,
          4.800000071525574,
          8.800000131130219,
          5.600000083446503,
          4.800000071525574,
          10.400000154972076,
          8.800000131130219,
          11.200000166893004,
          8.00000011920929,
          11.200000166893004,
          7.200000107288361,
          10.400000154972076,
          6.400000095367432,
          7.200000107288361,
          7.200000107288361,
          6.400000095367432,
          5.600000083446503,
          6.400000095367432,
          1.600000023841858,
          8.00000011920929,
          6.400000095367432,
          6.400000095367432,
          8.00000011920929,
          null,
          8.800000131130219,
          8.800000131130219,
          5.600000083446503,
          6.400000095367432,
          3.200000047683716,
          8.800000131130219,
          8.800000131130219,
          6.400000095367432,
          6.400000095367432,
          9.600000143051147,
          12.800000190734863,
          8.00000011920929,
          1.600000023841858,
          7.200000107288361,
          7.200000107288361,
          8.00000011920929,
          8.00000011920929,
          8.00000011920929,
          8.00000011920929,
          10.400000154972076,
          6.400000095367432,
          9.600000143051147,
          7.200000107288361,
          6.400000095367432,
          7.139743691835648,
          2.955178306671152,
          9.7,
          1.6
         ],
         "yaxis": "y",
         "type": "scatter"
        },
        {
         "hovertemplate": "level=%{x}<br>value=%{y}<extra></extra>",
         "legendgroup": "",
         "marker": {
          "color": "#636efa",
          "symbol": "circle"
         },
         "mode": "markers",
         "name": "",
         "orientation": "v",
         "showlegend": false,
         "x": [
          7,
          7,
          7,
          7,
          7,
          7,
          7,
          7,
          7,
          7,
          7,
          7,
          7,
          7,
          7,
          7,
          7,
          7,
          7,
          7,
          7,
          7,
          7,
          7,
          7,
          7,
          7,
          7,
          7,
          7,
          7,
          7,
          7,
          7,
          7,
          7,
          7,
          7,
          7,
          7,
          7,
          7,
          7,
          7,
          7,
          7,
          7,
          7,
          7,
          7,
          7,
          7,
          7,
          7,
          7,
          7,
          7,
          7,
          7,
          7,
          7,
          7,
          7,
          7,
          7,
          7,
          7,
          7,
          7,
          7,
          7,
          7,
          7,
          7,
          7,
          7,
          7,
          7,
          7,
          7,
          7,
          7,
          7,
          7,
          7,
          7,
          7,
          7,
          7,
          7,
          7,
          7,
          7,
          7,
          7,
          7,
          7,
          7,
          7,
          7,
          7,
          7,
          7,
          7,
          7,
          7,
          7,
          7,
          7,
          7,
          7,
          7,
          7,
          7,
          7,
          7,
          7,
          7,
          7,
          7,
          7,
          7,
          7,
          7,
          7,
          7,
          7,
          7,
          7,
          7,
          7,
          7,
          7,
          7,
          7,
          7,
          7,
          7,
          7,
          7,
          7,
          7,
          7,
          7,
          7,
          7,
          7,
          7,
          7,
          7,
          7,
          7,
          7,
          7,
          7,
          7,
          7,
          7,
          7,
          7,
          7,
          7,
          7,
          7,
          7,
          7,
          7,
          7,
          7,
          7,
          7,
          7,
          7,
          7,
          7,
          7,
          7,
          7,
          7,
          7,
          7,
          7,
          7,
          7,
          7,
          7,
          7,
          7,
          7,
          7,
          7,
          7,
          7,
          7,
          7,
          7,
          7,
          7,
          7,
          7,
          7,
          7,
          7,
          7,
          7,
          7,
          7,
          7,
          7,
          7,
          7,
          7,
          7,
          7,
          7,
          7,
          7,
          7,
          7,
          7,
          7,
          7,
          7,
          7,
          7,
          7,
          7,
          7,
          7,
          7,
          7,
          7,
          7,
          7,
          7,
          7,
          7,
          7,
          7,
          7,
          7,
          7,
          7,
          7,
          7,
          7,
          7,
          7,
          7,
          7,
          7,
          7,
          7,
          7,
          7,
          7,
          7,
          7,
          7,
          7,
          7,
          7,
          7,
          7,
          7,
          7,
          7,
          7,
          7,
          7,
          7
         ],
         "xaxis": "x",
         "y": [
          11.200000166893004,
          9.600000143051147,
          8.0,
          8.00000011920929,
          7.200000107288361,
          11.200000166893004,
          7.200000107288361,
          8.00000011920929,
          8.800000131130219,
          6.400000095367432,
          10.400000154972076,
          null,
          7.200000107288361,
          6.400000095367432,
          9.600000143051147,
          5.0,
          6.400000095367432,
          0.800000011920929,
          null,
          2.400000035762787,
          9.600000143051147,
          9.600000143051147,
          10.400000154972076,
          0.0,
          null,
          8.00000011920929,
          10.400000154972076,
          7.200000107288361,
          8.00000011920929,
          null,
          8.800000131130219,
          6.400000095367432,
          9.600000143051147,
          null,
          9.600000143051147,
          0.0,
          8.5,
          null,
          null,
          null,
          9.600000143051147,
          2.400000035762787,
          8.800000131130219,
          7.200000107288361,
          8.800000131130219,
          null,
          9.600000143051147,
          6.5,
          7.200000107288361,
          8.00000011920929,
          null,
          8.00000011920929,
          8.800000131130219,
          8.00000011920929,
          8.800000131130219,
          5.0,
          12.000000178813934,
          4.000000059604645,
          11.200000166893004,
          9.600000143051147,
          8.00000011920929,
          5.600000083446503,
          8.800000131130219,
          9.600000143051147,
          10.400000154972076,
          8.800000131130219,
          null,
          8.800000131130219,
          8.800000131130219,
          8.00000011920929,
          10.0,
          null,
          0.800000011920929,
          6.400000095367432,
          7.200000107288361,
          8.800000131130219,
          6.400000095367432,
          null,
          7.200000107288361,
          20.800000309944153,
          9.600000143051147,
          null,
          5.600000083446503,
          8.800000131130219,
          8.800000131130219,
          10.400000154972076,
          4.800000071525574,
          2.400000035762787,
          8.00000011920929,
          9.600000143051147,
          10.400000154972076,
          8.00000011920929,
          1.600000023841858,
          10.400000154972076,
          8.800000131130219,
          9.600000143051147,
          9.600000143051147,
          null,
          10.400000154972076,
          null,
          8.00000011920929,
          8.800000131130219,
          8.00000011920929,
          10.400000154972076,
          5.600000083446503,
          4.000000059604645,
          null,
          8.800000131130219,
          2.5,
          8.800000131130219,
          null,
          12.000000178813934,
          null,
          11.200000166893004,
          5.600000083446503,
          6.400000095367432,
          0.0,
          8.800000131130219,
          8.5,
          null,
          8.00000011920929,
          null,
          11.200000166893004,
          null,
          19.200000286102295,
          7.200000107288361,
          8.00000011920929,
          8.00000011920929,
          10.400000154972076,
          8.00000011920929,
          9.600000143051147,
          8.800000131130219,
          1.600000023841858,
          7.5,
          7.200000107288361,
          9.600000143051147,
          9.600000143051147,
          0.0,
          6.400000095367432,
          10.400000154972076,
          5.5,
          20.000000298023224,
          8.800000131130219,
          11.200000166893004,
          8.800000131130219,
          8.800000131130219,
          null,
          6.400000095367432,
          null,
          8.00000011920929,
          4.000000059604645,
          0.800000011920929,
          null,
          8.00000011920929,
          3.200000047683716,
          3.200000047683716,
          10.400000154972076,
          9.600000143051147,
          null,
          12.800000190734863,
          8.00000011920929,
          10.400000154972076,
          0.800000011920929,
          8.800000131130219,
          4.800000071525574,
          8.800000131130219,
          9.600000143051147,
          null,
          10.400000154972076,
          10.400000154972076,
          9.600000143051147,
          8.800000131130219,
          6.400000095367432,
          null,
          8.800000131130219,
          10.400000154972076,
          10.400000154972076,
          11.200000166893004,
          8.00000011920929,
          8.800000131130219,
          4.000000059604645,
          5.600000083446503,
          8.800000131130219,
          8.800000131130219,
          10.400000154972076,
          10.400000154972076,
          6.400000095367432,
          9.600000143051147,
          8.00000011920929,
          8.800000131130219,
          null,
          null,
          11.200000166893004,
          4.800000071525574,
          8.00000011920929,
          12.800000190734863,
          8.800000131130219,
          4.800000071525574,
          8.800000131130219,
          8.00000011920929,
          10.400000154972076,
          8.00000011920929,
          8.800000131130219,
          7.200000107288361,
          7.200000107288361,
          9.600000143051147,
          9.600000143051147,
          12.000000178813934,
          8.800000131130219,
          null,
          8.800000131130219,
          10.400000154972076,
          8.00000011920929,
          8.800000131130219,
          null,
          11.200000166893004,
          null,
          9.600000143051147,
          7.200000107288361,
          10.400000154972076,
          8.800000131130219,
          10.400000154972076,
          6.400000095367432,
          8.00000011920929,
          11.200000166893004,
          7.200000107288361,
          11.200000166893004,
          5.600000083446503,
          5.600000083446503,
          10.400000154972076,
          14.40000021457672,
          13.600000202655792,
          0.800000011920929,
          10.400000154972076,
          7.200000107288361,
          8.800000131130219,
          8.00000011920929,
          10.400000154972076,
          11.200000166893004,
          9.600000143051147,
          4.800000071525574,
          8.800000131130219,
          null,
          7.200000107288361,
          9.600000143051147,
          8.00000011920929,
          8.800000131130219,
          4.000000059604645,
          12.000000178813934,
          8.00000011920929,
          7.200000107288361,
          12.800000190734863,
          9.600000143051147,
          10.400000154972076,
          7.200000107288361,
          3.200000047683716,
          7.200000107288361,
          8.800000131130219,
          8.00000011920929,
          12.000000178813934,
          13.600000202655792,
          9.600000143051147,
          8.800000131130219,
          6.400000095367432,
          7.200000107288361,
          8.800000131130219,
          8.800000131130219,
          8.242918573479797,
          2.9949821264442433,
          9.4,
          1.4
         ],
         "yaxis": "y",
         "type": "scatter"
        },
        {
         "hovertemplate": "level=%{x}<br>value=%{y}<extra></extra>",
         "legendgroup": "",
         "marker": {
          "color": "#636efa",
          "symbol": "circle"
         },
         "mode": "markers",
         "name": "",
         "orientation": "v",
         "showlegend": false,
         "x": [
          8,
          8,
          8,
          8,
          8,
          8,
          8,
          8,
          8,
          8,
          8,
          8,
          8,
          8,
          8,
          8,
          8,
          8,
          8,
          8,
          8,
          8,
          8,
          8,
          8,
          8,
          8,
          8,
          8,
          8,
          8,
          8,
          8,
          8,
          8,
          8,
          8,
          8,
          8,
          8,
          8,
          8,
          8,
          8,
          8,
          8,
          8,
          8,
          8,
          8,
          8,
          8,
          8,
          8,
          8,
          8,
          8,
          8,
          8,
          8,
          8,
          8,
          8,
          8,
          8,
          8,
          8,
          8,
          8,
          8,
          8,
          8,
          8,
          8,
          8,
          8,
          8,
          8,
          8,
          8,
          8,
          8,
          8,
          8,
          8,
          8,
          8,
          8,
          8,
          8,
          8,
          8,
          8,
          8,
          8,
          8,
          8,
          8,
          8,
          8,
          8,
          8,
          8,
          8,
          8,
          8,
          8,
          8,
          8,
          8,
          8,
          8,
          8,
          8,
          8,
          8,
          8,
          8,
          8,
          8,
          8,
          8,
          8,
          8,
          8,
          8,
          8,
          8,
          8,
          8,
          8,
          8,
          8,
          8,
          8,
          8,
          8,
          8,
          8,
          8,
          8,
          8,
          8,
          8,
          8,
          8,
          8,
          8,
          8,
          8,
          8,
          8,
          8,
          8,
          8,
          8,
          8,
          8,
          8,
          8,
          8,
          8,
          8,
          8,
          8,
          8,
          8,
          8,
          8,
          8,
          8,
          8,
          8,
          8,
          8,
          8,
          8,
          8,
          8,
          8,
          8,
          8,
          8,
          8,
          8,
          8,
          8,
          8,
          8,
          8,
          8,
          8,
          8,
          8,
          8,
          8,
          8,
          8,
          8,
          8,
          8,
          8,
          8,
          8,
          8,
          8,
          8,
          8,
          8,
          8,
          8,
          8,
          8,
          8,
          8,
          8,
          8,
          8,
          8,
          8,
          8,
          8,
          8,
          8,
          8,
          8,
          8,
          8,
          8,
          8,
          8,
          8,
          8,
          8,
          8,
          8,
          8,
          8,
          8,
          8,
          8,
          8,
          8,
          8,
          8,
          8,
          8,
          8,
          8,
          8,
          8,
          8,
          8,
          8,
          8,
          8,
          8,
          8,
          8,
          8,
          8,
          8,
          8,
          8,
          8,
          8,
          8,
          8,
          8,
          8,
          8
         ],
         "xaxis": "x",
         "y": [
          13.600000202655792,
          11.200000166893004,
          6.0,
          9.600000143051147,
          4.800000071525574,
          14.40000021457672,
          8.800000131130219,
          9.600000143051147,
          8.800000131130219,
          8.00000011920929,
          12.800000190734863,
          null,
          8.800000131130219,
          7.200000107288361,
          13.600000202655792,
          5.0,
          9.600000143051147,
          0.0,
          null,
          4.000000059604645,
          12.000000178813934,
          11.200000166893004,
          12.000000178813934,
          1.600000023841858,
          5.600000083446503,
          8.00000011920929,
          12.000000178813934,
          8.00000011920929,
          null,
          null,
          7.200000107288361,
          12.000000178813934,
          9.600000143051147,
          null,
          8.800000131130219,
          null,
          7.5,
          null,
          null,
          null,
          11.200000166893004,
          null,
          10.400000154972076,
          8.00000011920929,
          11.200000166893004,
          null,
          6.400000095367432,
          6.0,
          9.600000143051147,
          10.400000154972076,
          10.400000154972076,
          7.200000107288361,
          11.200000166893004,
          7.200000107288361,
          10.400000154972076,
          10.0,
          12.800000190734863,
          null,
          9.600000143051147,
          null,
          11.200000166893004,
          null,
          8.00000011920929,
          12.800000190734863,
          10.400000154972076,
          7.200000107288361,
          null,
          12.000000178813934,
          9.600000143051147,
          2.400000035762787,
          9.0,
          null,
          null,
          8.00000011920929,
          9.600000143051147,
          9.600000143051147,
          9.600000143051147,
          null,
          8.800000131130219,
          19.200000286102295,
          8.00000011920929,
          null,
          null,
          10.400000154972076,
          9.600000143051147,
          12.000000178813934,
          8.00000011920929,
          null,
          6.400000095367432,
          4.800000071525574,
          9.600000143051147,
          8.800000131130219,
          3.200000047683716,
          12.800000190734863,
          10.400000154972076,
          11.200000166893004,
          11.200000166893004,
          null,
          11.200000166893004,
          null,
          10.400000154972076,
          11.200000166893004,
          9.600000143051147,
          13.600000202655792,
          6.400000095367432,
          6.400000095367432,
          null,
          11.200000166893004,
          0.5,
          12.000000178813934,
          null,
          11.200000166893004,
          null,
          12.800000190734863,
          9.600000143051147,
          6.400000095367432,
          null,
          5.600000083446503,
          2.0,
          2.400000035762787,
          9.600000143051147,
          null,
          10.400000154972076,
          null,
          17.600000262260437,
          11.200000166893004,
          5.600000083446503,
          10.400000154972076,
          6.400000095367432,
          8.00000011920929,
          8.00000011920929,
          10.400000154972076,
          null,
          7.5,
          8.00000011920929,
          5.600000083446503,
          8.00000011920929,
          5.600000083446503,
          6.400000095367432,
          9.600000143051147,
          4.5,
          12.000000178813934,
          8.800000131130219,
          10.400000154972076,
          10.400000154972076,
          10.400000154972076,
          0.800000011920929,
          6.400000095367432,
          null,
          8.800000131130219,
          null,
          8.00000011920929,
          null,
          8.00000011920929,
          5.600000083446503,
          5.600000083446503,
          9.600000143051147,
          9.600000143051147,
          null,
          9.600000143051147,
          7.200000107288361,
          7.200000107288361,
          2.400000035762787,
          12.800000190734863,
          8.00000011920929,
          8.800000131130219,
          11.200000166893004,
          7.200000107288361,
          12.800000190734863,
          10.400000154972076,
          9.600000143051147,
          13.600000202655792,
          18.40000027418137,
          3.200000047683716,
          8.800000131130219,
          5.600000083446503,
          11.200000166893004,
          11.200000166893004,
          10.400000154972076,
          10.400000154972076,
          4.800000071525574,
          8.800000131130219,
          12.000000178813934,
          10.400000154972076,
          10.400000154972076,
          null,
          10.400000154972076,
          8.00000011920929,
          9.600000143051147,
          8.00000011920929,
          null,
          null,
          12.800000190734863,
          null,
          8.800000131130219,
          10.400000154972076,
          8.800000131130219,
          4.000000059604645,
          6.400000095367432,
          7.200000107288361,
          8.00000011920929,
          4.800000071525574,
          9.600000143051147,
          8.00000011920929,
          8.800000131130219,
          8.00000011920929,
          8.800000131130219,
          13.600000202655792,
          7.200000107288361,
          null,
          10.400000154972076,
          10.400000154972076,
          8.00000011920929,
          8.00000011920929,
          null,
          9.600000143051147,
          null,
          7.200000107288361,
          4.800000071525574,
          9.600000143051147,
          7.200000107288361,
          10.400000154972076,
          8.00000011920929,
          5.600000083446503,
          12.000000178813934,
          6.400000095367432,
          10.400000154972076,
          null,
          6.400000095367432,
          9.600000143051147,
          13.600000202655792,
          4.800000071525574,
          null,
          8.00000011920929,
          10.400000154972076,
          9.600000143051147,
          9.600000143051147,
          8.800000131130219,
          8.800000131130219,
          10.400000154972076,
          10.400000154972076,
          8.800000131130219,
          null,
          10.400000154972076,
          8.800000131130219,
          7.200000107288361,
          12.000000178813934,
          0.0,
          6.400000095367432,
          11.200000166893004,
          9.600000143051147,
          12.800000190734863,
          null,
          6.400000095367432,
          8.800000131130219,
          2.400000035762787,
          8.00000011920929,
          1.600000023841858,
          12.800000190734863,
          9.600000143051147,
          8.800000131130219,
          10.400000154972076,
          11.200000166893004,
          6.400000095367432,
          7.200000107288361,
          9.600000143051147,
          8.800000131130219,
          8.837837965638787,
          3.0043528667080195,
          9.6,
          1.4
         ],
         "yaxis": "y",
         "type": "scatter"
        },
        {
         "hovertemplate": "level=%{x}<br>value=%{y}<extra></extra>",
         "legendgroup": "",
         "marker": {
          "color": "#636efa",
          "symbol": "circle"
         },
         "mode": "markers",
         "name": "",
         "orientation": "v",
         "showlegend": false,
         "x": [
          9,
          9,
          9,
          9,
          9,
          9,
          9,
          9,
          9,
          9,
          9,
          9,
          9,
          9,
          9,
          9,
          9,
          9,
          9,
          9,
          9,
          9,
          9,
          9,
          9,
          9,
          9,
          9,
          9,
          9,
          9,
          9,
          9,
          9,
          9,
          9,
          9,
          9,
          9,
          9,
          9,
          9,
          9,
          9,
          9,
          9,
          9,
          9,
          9,
          9,
          9,
          9,
          9,
          9,
          9,
          9,
          9,
          9,
          9,
          9,
          9,
          9,
          9,
          9,
          9,
          9,
          9,
          9,
          9,
          9,
          9,
          9,
          9,
          9,
          9,
          9,
          9,
          9,
          9,
          9,
          9,
          9,
          9,
          9,
          9,
          9,
          9,
          9,
          9,
          9,
          9,
          9,
          9,
          9,
          9,
          9,
          9,
          9,
          9,
          9,
          9,
          9,
          9,
          9,
          9,
          9,
          9,
          9,
          9,
          9,
          9,
          9,
          9,
          9,
          9,
          9,
          9,
          9,
          9,
          9,
          9,
          9,
          9,
          9,
          9,
          9,
          9,
          9,
          9,
          9,
          9,
          9,
          9,
          9,
          9,
          9,
          9,
          9,
          9,
          9,
          9,
          9,
          9,
          9,
          9,
          9,
          9,
          9,
          9,
          9,
          9,
          9,
          9,
          9,
          9,
          9,
          9,
          9,
          9,
          9,
          9,
          9,
          9,
          9,
          9,
          9,
          9,
          9,
          9,
          9,
          9,
          9,
          9,
          9,
          9,
          9,
          9,
          9,
          9,
          9,
          9,
          9,
          9,
          9,
          9,
          9,
          9,
          9,
          9,
          9,
          9,
          9,
          9,
          9,
          9,
          9,
          9,
          9,
          9,
          9,
          9,
          9,
          9,
          9,
          9,
          9,
          9,
          9,
          9,
          9,
          9,
          9,
          9,
          9,
          9,
          9,
          9,
          9,
          9,
          9,
          9,
          9,
          9,
          9,
          9,
          9,
          9,
          9,
          9,
          9,
          9,
          9,
          9,
          9,
          9,
          9,
          9,
          9,
          9,
          9,
          9,
          9,
          9,
          9,
          9,
          9,
          9,
          9,
          9,
          9,
          9,
          9,
          9,
          9,
          9,
          9,
          9,
          9,
          9,
          9,
          9,
          9,
          9,
          9,
          9,
          9,
          9,
          9,
          9
         ],
         "xaxis": "x",
         "y": [
          14.40000021457672,
          8.800000131130219,
          10.0,
          11.200000166893004,
          10.400000154972076,
          14.40000021457672,
          13.600000202655792,
          12.800000190734863,
          14.40000021457672,
          2.400000035762787,
          14.40000021457672,
          null,
          8.800000131130219,
          7.200000107288361,
          15.20000022649765,
          12.0,
          10.400000154972076,
          null,
          9.600000143051147,
          4.000000059604645,
          29.60000044107437,
          13.600000202655792,
          12.000000178813934,
          1.600000023841858,
          8.800000131130219,
          10.400000154972076,
          13.600000202655792,
          11.200000166893004,
          3.200000047683716,
          null,
          1.600000023841858,
          14.40000021457672,
          12.000000178813934,
          null,
          12.800000190734863,
          8.00000011920929,
          5.5,
          null,
          null,
          4.800000071525574,
          12.000000178813934,
          8.00000011920929,
          21.60000032186508,
          11.200000166893004,
          6.400000095367432,
          8.00000011920929,
          9.600000143051147,
          null,
          12.000000178813934,
          12.800000190734863,
          22.40000033378601,
          8.00000011920929,
          10.400000154972076,
          10.400000154972076,
          13.600000202655792,
          5.0,
          12.000000178813934,
          null,
          16.00000023841858,
          7.200000107288361,
          7.200000107288361,
          null,
          12.800000190734863,
          17.600000262260437,
          13.600000202655792,
          8.00000011920929,
          null,
          14.40000021457672,
          6.400000095367432,
          6.400000095367432,
          13.0,
          null,
          1.600000023841858,
          8.800000131130219,
          10.400000154972076,
          23.20000034570694,
          5.600000083446503,
          null,
          null,
          null,
          9.600000143051147,
          null,
          null,
          12.800000190734863,
          4.800000071525574,
          14.40000021457672,
          14.40000021457672,
          null,
          15.20000022649765,
          0.800000011920929,
          12.800000190734863,
          21.60000032186508,
          null,
          15.20000022649765,
          12.000000178813934,
          12.000000178813934,
          13.600000202655792,
          4.000000059604645,
          12.800000190734863,
          null,
          14.40000021457672,
          12.800000190734863,
          9.600000143051147,
          14.40000021457672,
          4.800000071525574,
          11.200000166893004,
          null,
          9.600000143051147,
          null,
          8.800000131130219,
          null,
          12.800000190734863,
          null,
          8.800000131130219,
          4.000000059604645,
          12.800000190734863,
          null,
          12.000000178813934,
          7.5,
          null,
          13.600000202655792,
          null,
          14.40000021457672,
          null,
          6.400000095367432,
          16.00000023841858,
          11.200000166893004,
          8.00000011920929,
          3.200000047683716,
          6.400000095367432,
          21.60000032186508,
          10.400000154972076,
          12.800000190734863,
          2.5,
          9.600000143051147,
          1.600000023841858,
          10.400000154972076,
          16.00000023841858,
          8.800000131130219,
          12.000000178813934,
          7.5,
          16.00000023841858,
          16.00000023841858,
          12.800000190734863,
          10.400000154972076,
          11.200000166893004,
          4.800000071525574,
          8.00000011920929,
          4.000000059604645,
          6.400000095367432,
          null,
          2.400000035762787,
          null,
          6.400000095367432,
          null,
          27.200000405311584,
          15.20000022649765,
          12.800000190734863,
          null,
          7.200000107288361,
          12.000000178813934,
          8.800000131130219,
          11.200000166893004,
          11.200000166893004,
          8.800000131130219,
          9.600000143051147,
          11.200000166893004,
          9.600000143051147,
          0.800000011920929,
          9.600000143051147,
          15.20000022649765,
          11.200000166893004,
          16.800000250339508,
          3.200000047683716,
          10.400000154972076,
          12.800000190734863,
          12.000000178813934,
          11.200000166893004,
          11.200000166893004,
          12.000000178813934,
          4.800000071525574,
          10.400000154972076,
          12.800000190734863,
          13.600000202655792,
          16.800000250339508,
          null,
          0.800000011920929,
          11.200000166893004,
          12.000000178813934,
          11.200000166893004,
          2.400000035762787,
          null,
          13.600000202655792,
          1.600000023841858,
          18.40000027418137,
          17.600000262260437,
          9.600000143051147,
          8.00000011920929,
          4.800000071525574,
          16.800000250339508,
          12.000000178813934,
          4.000000059604645,
          10.400000154972076,
          8.800000131130219,
          10.400000154972076,
          12.800000190734863,
          11.200000166893004,
          16.00000023841858,
          9.600000143051147,
          null,
          8.800000131130219,
          12.000000178813934,
          8.800000131130219,
          12.800000190734863,
          2.0,
          11.200000166893004,
          4.800000071525574,
          13.600000202655792,
          0.0,
          14.40000021457672,
          12.800000190734863,
          13.600000202655792,
          9.600000143051147,
          10.400000154972076,
          12.000000178813934,
          null,
          14.40000021457672,
          null,
          24.00000035762787,
          13.600000202655792,
          12.000000178813934,
          8.800000131130219,
          null,
          6.400000095367432,
          null,
          11.200000166893004,
          8.800000131130219,
          12.800000190734863,
          14.40000021457672,
          16.00000023841858,
          12.800000190734863,
          14.40000021457672,
          null,
          7.200000107288361,
          16.00000023841858,
          12.000000178813934,
          12.800000190734863,
          null,
          10.400000154972076,
          15.20000022649765,
          12.800000190734863,
          15.20000022649765,
          8.00000011920929,
          12.000000178813934,
          8.00000011920929,
          3.200000047683716,
          10.400000154972076,
          24.00000035762787,
          9.600000143051147,
          12.000000178813934,
          14.40000021457672,
          9.600000143051147,
          6.400000095367432,
          10.400000154972076,
          9.600000143051147,
          11.200000166893004,
          11.200000166893004,
          10.809691786766052,
          4.7249356487110346
         ],
         "yaxis": "y",
         "type": "scatter"
        },
        {
         "hovertemplate": "level=%{x}<br>value=%{y}<extra></extra>",
         "legendgroup": "",
         "marker": {
          "color": "#636efa",
          "symbol": "circle"
         },
         "mode": "markers",
         "name": "",
         "orientation": "v",
         "showlegend": false,
         "x": [
          10,
          10,
          10,
          10,
          10,
          10,
          10,
          10,
          10,
          10,
          10,
          10,
          10,
          10,
          10,
          10,
          10,
          10,
          10,
          10,
          10,
          10,
          10,
          10,
          10,
          10,
          10,
          10,
          10,
          10,
          10,
          10,
          10,
          10,
          10,
          10,
          10,
          10,
          10,
          10,
          10,
          10,
          10,
          10,
          10,
          10,
          10,
          10,
          10,
          10,
          10,
          10,
          10,
          10,
          10,
          10,
          10,
          10,
          10,
          10,
          10,
          10,
          10,
          10,
          10,
          10,
          10,
          10,
          10,
          10,
          10,
          10,
          10,
          10,
          10,
          10,
          10,
          10,
          10,
          10,
          10,
          10,
          10,
          10,
          10,
          10,
          10,
          10,
          10,
          10,
          10,
          10,
          10,
          10,
          10,
          10,
          10,
          10,
          10,
          10,
          10,
          10,
          10,
          10,
          10,
          10,
          10,
          10,
          10,
          10,
          10,
          10,
          10,
          10,
          10,
          10,
          10,
          10,
          10,
          10,
          10,
          10,
          10,
          10,
          10,
          10,
          10,
          10,
          10,
          10,
          10,
          10,
          10,
          10,
          10,
          10,
          10,
          10,
          10,
          10,
          10,
          10,
          10,
          10,
          10,
          10,
          10,
          10,
          10,
          10,
          10,
          10,
          10,
          10,
          10,
          10,
          10,
          10,
          10,
          10,
          10,
          10,
          10,
          10,
          10,
          10,
          10,
          10,
          10,
          10,
          10,
          10,
          10,
          10,
          10,
          10,
          10,
          10,
          10,
          10,
          10,
          10,
          10,
          10,
          10,
          10,
          10,
          10,
          10,
          10,
          10,
          10,
          10,
          10,
          10,
          10,
          10,
          10,
          10,
          10,
          10,
          10,
          10,
          10,
          10,
          10,
          10,
          10,
          10,
          10,
          10,
          10,
          10,
          10,
          10,
          10,
          10,
          10,
          10,
          10,
          10,
          10,
          10,
          10,
          10,
          10,
          10,
          10,
          10,
          10,
          10,
          10,
          10,
          10,
          10,
          10,
          10,
          10,
          10,
          10,
          10,
          10,
          10,
          10,
          10,
          10,
          10,
          10,
          10,
          10,
          10,
          10,
          10,
          10,
          10,
          10,
          10,
          10,
          10,
          10,
          10,
          10,
          10,
          10,
          10,
          10,
          10,
          10,
          10
         ],
         "xaxis": "x",
         "y": [
          null,
          null,
          null,
          null,
          null,
          null,
          null,
          null,
          null,
          null,
          null,
          null,
          null,
          null,
          null,
          null,
          null,
          null,
          null,
          null,
          null,
          null,
          null,
          null,
          null,
          null,
          null,
          null,
          null,
          null,
          null,
          null,
          null,
          null,
          null,
          null,
          null,
          null,
          null,
          null,
          null,
          null,
          null,
          null,
          null,
          null,
          null,
          null,
          null,
          null,
          null,
          null,
          null,
          null,
          null,
          null,
          null,
          null,
          null,
          null,
          null,
          null,
          null,
          null,
          null,
          null,
          null,
          null,
          null,
          null,
          null,
          null,
          null,
          null,
          null,
          null,
          null,
          null,
          null,
          null,
          null,
          null,
          null,
          null,
          null,
          null,
          null,
          null,
          null,
          null,
          null,
          null,
          null,
          null,
          null,
          null,
          null,
          null,
          null,
          null,
          null,
          null,
          null,
          null,
          null,
          null,
          null,
          null,
          null,
          null,
          null,
          null,
          null,
          null,
          null,
          null,
          null,
          null,
          null,
          null,
          null,
          null,
          null,
          null,
          null,
          null,
          null,
          null,
          null,
          null,
          null,
          null,
          null,
          null,
          null,
          null,
          null,
          null,
          null,
          null,
          null,
          null,
          null,
          null,
          null,
          null,
          null,
          null,
          null,
          null,
          null,
          null,
          null,
          null,
          null,
          null,
          null,
          null,
          null,
          null,
          null,
          null,
          null,
          null,
          null,
          null,
          null,
          null,
          null,
          null,
          null,
          null,
          null,
          null,
          null,
          null,
          null,
          null,
          null,
          null,
          null,
          null,
          null,
          null,
          null,
          null,
          null,
          null,
          null,
          null,
          null,
          null,
          null,
          null,
          null,
          null,
          null,
          null,
          null,
          null,
          null,
          null,
          null,
          null,
          null,
          null,
          null,
          null,
          null,
          null,
          null,
          null,
          null,
          null,
          null,
          null,
          null,
          null,
          null,
          null,
          null,
          null,
          null,
          null,
          null,
          null,
          null,
          null,
          null,
          null,
          null,
          null,
          null,
          null,
          null,
          null,
          null,
          null,
          null,
          null,
          null,
          null,
          null,
          null,
          null,
          null,
          null,
          null,
          null,
          null,
          null,
          null,
          null,
          null,
          null,
          null,
          null,
          null,
          null,
          null,
          null,
          null,
          null,
          null,
          null,
          null,
          null,
          null,
          null
         ],
         "yaxis": "y",
         "type": "scatter"
        },
        {
         "hovertemplate": "level=%{x}<br>value=%{y}<extra></extra>",
         "legendgroup": "",
         "marker": {
          "color": "#636efa",
          "symbol": "circle"
         },
         "mode": "markers",
         "name": "",
         "orientation": "v",
         "showlegend": false,
         "x": [
          11,
          11,
          11,
          11,
          11,
          11,
          11,
          11,
          11,
          11,
          11,
          11,
          11,
          11,
          11,
          11,
          11,
          11,
          11,
          11,
          11,
          11,
          11,
          11,
          11,
          11,
          11,
          11,
          11,
          11,
          11,
          11,
          11,
          11,
          11,
          11,
          11,
          11,
          11,
          11,
          11,
          11,
          11,
          11,
          11,
          11,
          11,
          11,
          11,
          11,
          11,
          11,
          11,
          11,
          11,
          11,
          11,
          11,
          11,
          11,
          11,
          11,
          11,
          11,
          11,
          11,
          11,
          11,
          11,
          11,
          11,
          11,
          11,
          11,
          11,
          11,
          11,
          11,
          11,
          11,
          11,
          11,
          11,
          11,
          11,
          11,
          11,
          11,
          11,
          11,
          11,
          11,
          11,
          11,
          11,
          11,
          11,
          11,
          11,
          11,
          11,
          11,
          11,
          11,
          11,
          11,
          11,
          11,
          11,
          11,
          11,
          11,
          11,
          11,
          11,
          11,
          11,
          11,
          11,
          11,
          11,
          11,
          11,
          11,
          11,
          11,
          11,
          11,
          11,
          11,
          11,
          11,
          11,
          11,
          11,
          11,
          11,
          11,
          11,
          11,
          11,
          11,
          11,
          11,
          11,
          11,
          11,
          11,
          11,
          11,
          11,
          11,
          11,
          11,
          11,
          11,
          11,
          11,
          11,
          11,
          11,
          11,
          11,
          11,
          11,
          11,
          11,
          11,
          11,
          11,
          11,
          11,
          11,
          11,
          11,
          11,
          11,
          11,
          11,
          11,
          11,
          11,
          11,
          11,
          11,
          11,
          11,
          11,
          11,
          11,
          11,
          11,
          11,
          11,
          11,
          11,
          11,
          11,
          11,
          11,
          11,
          11,
          11,
          11,
          11,
          11,
          11,
          11,
          11,
          11,
          11,
          11,
          11,
          11,
          11,
          11,
          11,
          11,
          11,
          11,
          11,
          11,
          11,
          11,
          11,
          11,
          11,
          11,
          11,
          11,
          11,
          11,
          11,
          11,
          11,
          11,
          11,
          11,
          11,
          11,
          11,
          11,
          11,
          11,
          11,
          11,
          11,
          11,
          11,
          11,
          11,
          11,
          11,
          11,
          11,
          11,
          11,
          11,
          11,
          11,
          11,
          11,
          11,
          11,
          11,
          11,
          11,
          11,
          11
         ],
         "xaxis": "x",
         "y": [
          null,
          null,
          null,
          null,
          null,
          null,
          null,
          null,
          null,
          null,
          null,
          null,
          null,
          null,
          null,
          null,
          null,
          null,
          null,
          null,
          null,
          null,
          null,
          null,
          null,
          null,
          null,
          null,
          null,
          null,
          null,
          null,
          null,
          null,
          null,
          null,
          null,
          null,
          null,
          null,
          null,
          null,
          null,
          null,
          null,
          null,
          null,
          null,
          null,
          null,
          null,
          null,
          null,
          null,
          null,
          null,
          null,
          null,
          null,
          null,
          null,
          null,
          null,
          null,
          null,
          null,
          null,
          null,
          null,
          null,
          null,
          null,
          null,
          null,
          null,
          null,
          null,
          null,
          null,
          null,
          null,
          null,
          null,
          null,
          null,
          null,
          null,
          null,
          null,
          null,
          null,
          null,
          null,
          null,
          null,
          null,
          null,
          null,
          null,
          null,
          null,
          null,
          null,
          null,
          null,
          null,
          null,
          null,
          null,
          null,
          null,
          null,
          null,
          null,
          null,
          null,
          null,
          null,
          null,
          null,
          null,
          null,
          null,
          null,
          null,
          null,
          null,
          null,
          null,
          null,
          null,
          null,
          null,
          null,
          null,
          null,
          null,
          null,
          null,
          null,
          null,
          null,
          null,
          null,
          null,
          null,
          null,
          null,
          null,
          null,
          null,
          null,
          null,
          null,
          null,
          null,
          null,
          null,
          null,
          null,
          null,
          null,
          null,
          null,
          null,
          null,
          null,
          null,
          null,
          null,
          null,
          null,
          null,
          null,
          null,
          null,
          null,
          null,
          null,
          null,
          null,
          null,
          null,
          null,
          null,
          null,
          null,
          null,
          null,
          null,
          null,
          null,
          null,
          null,
          null,
          null,
          null,
          null,
          null,
          null,
          null,
          null,
          null,
          null,
          null,
          null,
          null,
          null,
          null,
          null,
          null,
          null,
          null,
          null,
          null,
          null,
          null,
          null,
          null,
          null,
          null,
          null,
          null,
          null,
          null,
          null,
          null,
          null,
          null,
          null,
          null,
          null,
          null,
          null,
          null,
          null,
          null,
          null,
          null,
          null,
          null,
          null,
          null,
          null,
          null,
          null,
          null,
          null,
          null,
          null,
          null,
          null,
          null,
          null,
          null,
          null,
          null,
          null,
          null,
          null,
          null,
          null,
          null,
          null,
          null,
          null,
          null,
          null,
          null
         ],
         "yaxis": "y",
         "type": "scatter"
        }
       ],
       "layout": {
        "template": {
         "data": {
          "histogram2dcontour": [
           {
            "type": "histogram2dcontour",
            "colorbar": {
             "outlinewidth": 0,
             "ticks": ""
            },
            "colorscale": [
             [
              0.0,
              "#0d0887"
             ],
             [
              0.1111111111111111,
              "#46039f"
             ],
             [
              0.2222222222222222,
              "#7201a8"
             ],
             [
              0.3333333333333333,
              "#9c179e"
             ],
             [
              0.4444444444444444,
              "#bd3786"
             ],
             [
              0.5555555555555556,
              "#d8576b"
             ],
             [
              0.6666666666666666,
              "#ed7953"
             ],
             [
              0.7777777777777778,
              "#fb9f3a"
             ],
             [
              0.8888888888888888,
              "#fdca26"
             ],
             [
              1.0,
              "#f0f921"
             ]
            ]
           }
          ],
          "choropleth": [
           {
            "type": "choropleth",
            "colorbar": {
             "outlinewidth": 0,
             "ticks": ""
            }
           }
          ],
          "histogram2d": [
           {
            "type": "histogram2d",
            "colorbar": {
             "outlinewidth": 0,
             "ticks": ""
            },
            "colorscale": [
             [
              0.0,
              "#0d0887"
             ],
             [
              0.1111111111111111,
              "#46039f"
             ],
             [
              0.2222222222222222,
              "#7201a8"
             ],
             [
              0.3333333333333333,
              "#9c179e"
             ],
             [
              0.4444444444444444,
              "#bd3786"
             ],
             [
              0.5555555555555556,
              "#d8576b"
             ],
             [
              0.6666666666666666,
              "#ed7953"
             ],
             [
              0.7777777777777778,
              "#fb9f3a"
             ],
             [
              0.8888888888888888,
              "#fdca26"
             ],
             [
              1.0,
              "#f0f921"
             ]
            ]
           }
          ],
          "heatmap": [
           {
            "type": "heatmap",
            "colorbar": {
             "outlinewidth": 0,
             "ticks": ""
            },
            "colorscale": [
             [
              0.0,
              "#0d0887"
             ],
             [
              0.1111111111111111,
              "#46039f"
             ],
             [
              0.2222222222222222,
              "#7201a8"
             ],
             [
              0.3333333333333333,
              "#9c179e"
             ],
             [
              0.4444444444444444,
              "#bd3786"
             ],
             [
              0.5555555555555556,
              "#d8576b"
             ],
             [
              0.6666666666666666,
              "#ed7953"
             ],
             [
              0.7777777777777778,
              "#fb9f3a"
             ],
             [
              0.8888888888888888,
              "#fdca26"
             ],
             [
              1.0,
              "#f0f921"
             ]
            ]
           }
          ],
          "heatmapgl": [
           {
            "type": "heatmapgl",
            "colorbar": {
             "outlinewidth": 0,
             "ticks": ""
            },
            "colorscale": [
             [
              0.0,
              "#0d0887"
             ],
             [
              0.1111111111111111,
              "#46039f"
             ],
             [
              0.2222222222222222,
              "#7201a8"
             ],
             [
              0.3333333333333333,
              "#9c179e"
             ],
             [
              0.4444444444444444,
              "#bd3786"
             ],
             [
              0.5555555555555556,
              "#d8576b"
             ],
             [
              0.6666666666666666,
              "#ed7953"
             ],
             [
              0.7777777777777778,
              "#fb9f3a"
             ],
             [
              0.8888888888888888,
              "#fdca26"
             ],
             [
              1.0,
              "#f0f921"
             ]
            ]
           }
          ],
          "contourcarpet": [
           {
            "type": "contourcarpet",
            "colorbar": {
             "outlinewidth": 0,
             "ticks": ""
            }
           }
          ],
          "contour": [
           {
            "type": "contour",
            "colorbar": {
             "outlinewidth": 0,
             "ticks": ""
            },
            "colorscale": [
             [
              0.0,
              "#0d0887"
             ],
             [
              0.1111111111111111,
              "#46039f"
             ],
             [
              0.2222222222222222,
              "#7201a8"
             ],
             [
              0.3333333333333333,
              "#9c179e"
             ],
             [
              0.4444444444444444,
              "#bd3786"
             ],
             [
              0.5555555555555556,
              "#d8576b"
             ],
             [
              0.6666666666666666,
              "#ed7953"
             ],
             [
              0.7777777777777778,
              "#fb9f3a"
             ],
             [
              0.8888888888888888,
              "#fdca26"
             ],
             [
              1.0,
              "#f0f921"
             ]
            ]
           }
          ],
          "surface": [
           {
            "type": "surface",
            "colorbar": {
             "outlinewidth": 0,
             "ticks": ""
            },
            "colorscale": [
             [
              0.0,
              "#0d0887"
             ],
             [
              0.1111111111111111,
              "#46039f"
             ],
             [
              0.2222222222222222,
              "#7201a8"
             ],
             [
              0.3333333333333333,
              "#9c179e"
             ],
             [
              0.4444444444444444,
              "#bd3786"
             ],
             [
              0.5555555555555556,
              "#d8576b"
             ],
             [
              0.6666666666666666,
              "#ed7953"
             ],
             [
              0.7777777777777778,
              "#fb9f3a"
             ],
             [
              0.8888888888888888,
              "#fdca26"
             ],
             [
              1.0,
              "#f0f921"
             ]
            ]
           }
          ],
          "mesh3d": [
           {
            "type": "mesh3d",
            "colorbar": {
             "outlinewidth": 0,
             "ticks": ""
            }
           }
          ],
          "scatter": [
           {
            "marker": {
             "line": {
              "color": "#283442"
             }
            },
            "type": "scatter"
           }
          ],
          "parcoords": [
           {
            "type": "parcoords",
            "line": {
             "colorbar": {
              "outlinewidth": 0,
              "ticks": ""
             }
            }
           }
          ],
          "scatterpolargl": [
           {
            "type": "scatterpolargl",
            "marker": {
             "colorbar": {
              "outlinewidth": 0,
              "ticks": ""
             }
            }
           }
          ],
          "bar": [
           {
            "error_x": {
             "color": "#f2f5fa"
            },
            "error_y": {
             "color": "#f2f5fa"
            },
            "marker": {
             "line": {
              "color": "rgb(17,17,17)",
              "width": 0.5
             },
             "pattern": {
              "fillmode": "overlay",
              "size": 10,
              "solidity": 0.2
             }
            },
            "type": "bar"
           }
          ],
          "scattergeo": [
           {
            "type": "scattergeo",
            "marker": {
             "colorbar": {
              "outlinewidth": 0,
              "ticks": ""
             }
            }
           }
          ],
          "scatterpolar": [
           {
            "type": "scatterpolar",
            "marker": {
             "colorbar": {
              "outlinewidth": 0,
              "ticks": ""
             }
            }
           }
          ],
          "histogram": [
           {
            "marker": {
             "pattern": {
              "fillmode": "overlay",
              "size": 10,
              "solidity": 0.2
             }
            },
            "type": "histogram"
           }
          ],
          "scattergl": [
           {
            "marker": {
             "line": {
              "color": "#283442"
             }
            },
            "type": "scattergl"
           }
          ],
          "scatter3d": [
           {
            "type": "scatter3d",
            "line": {
             "colorbar": {
              "outlinewidth": 0,
              "ticks": ""
             }
            },
            "marker": {
             "colorbar": {
              "outlinewidth": 0,
              "ticks": ""
             }
            }
           }
          ],
          "scattermapbox": [
           {
            "type": "scattermapbox",
            "marker": {
             "colorbar": {
              "outlinewidth": 0,
              "ticks": ""
             }
            }
           }
          ],
          "scatterternary": [
           {
            "type": "scatterternary",
            "marker": {
             "colorbar": {
              "outlinewidth": 0,
              "ticks": ""
             }
            }
           }
          ],
          "scattercarpet": [
           {
            "type": "scattercarpet",
            "marker": {
             "colorbar": {
              "outlinewidth": 0,
              "ticks": ""
             }
            }
           }
          ],
          "carpet": [
           {
            "aaxis": {
             "endlinecolor": "#A2B1C6",
             "gridcolor": "#506784",
             "linecolor": "#506784",
             "minorgridcolor": "#506784",
             "startlinecolor": "#A2B1C6"
            },
            "baxis": {
             "endlinecolor": "#A2B1C6",
             "gridcolor": "#506784",
             "linecolor": "#506784",
             "minorgridcolor": "#506784",
             "startlinecolor": "#A2B1C6"
            },
            "type": "carpet"
           }
          ],
          "table": [
           {
            "cells": {
             "fill": {
              "color": "#506784"
             },
             "line": {
              "color": "rgb(17,17,17)"
             }
            },
            "header": {
             "fill": {
              "color": "#2a3f5f"
             },
             "line": {
              "color": "rgb(17,17,17)"
             }
            },
            "type": "table"
           }
          ],
          "barpolar": [
           {
            "marker": {
             "line": {
              "color": "rgb(17,17,17)",
              "width": 0.5
             },
             "pattern": {
              "fillmode": "overlay",
              "size": 10,
              "solidity": 0.2
             }
            },
            "type": "barpolar"
           }
          ],
          "pie": [
           {
            "automargin": true,
            "type": "pie"
           }
          ]
         },
         "layout": {
          "autotypenumbers": "strict",
          "colorway": [
           "#636efa",
           "#EF553B",
           "#00cc96",
           "#ab63fa",
           "#FFA15A",
           "#19d3f3",
           "#FF6692",
           "#B6E880",
           "#FF97FF",
           "#FECB52"
          ],
          "font": {
           "color": "#f2f5fa"
          },
          "hovermode": "closest",
          "hoverlabel": {
           "align": "left"
          },
          "paper_bgcolor": "rgb(17,17,17)",
          "plot_bgcolor": "rgb(17,17,17)",
          "polar": {
           "bgcolor": "rgb(17,17,17)",
           "angularaxis": {
            "gridcolor": "#506784",
            "linecolor": "#506784",
            "ticks": ""
           },
           "radialaxis": {
            "gridcolor": "#506784",
            "linecolor": "#506784",
            "ticks": ""
           }
          },
          "ternary": {
           "bgcolor": "rgb(17,17,17)",
           "aaxis": {
            "gridcolor": "#506784",
            "linecolor": "#506784",
            "ticks": ""
           },
           "baxis": {
            "gridcolor": "#506784",
            "linecolor": "#506784",
            "ticks": ""
           },
           "caxis": {
            "gridcolor": "#506784",
            "linecolor": "#506784",
            "ticks": ""
           }
          },
          "coloraxis": {
           "colorbar": {
            "outlinewidth": 0,
            "ticks": ""
           }
          },
          "colorscale": {
           "sequential": [
            [
             0.0,
             "#0d0887"
            ],
            [
             0.1111111111111111,
             "#46039f"
            ],
            [
             0.2222222222222222,
             "#7201a8"
            ],
            [
             0.3333333333333333,
             "#9c179e"
            ],
            [
             0.4444444444444444,
             "#bd3786"
            ],
            [
             0.5555555555555556,
             "#d8576b"
            ],
            [
             0.6666666666666666,
             "#ed7953"
            ],
            [
             0.7777777777777778,
             "#fb9f3a"
            ],
            [
             0.8888888888888888,
             "#fdca26"
            ],
            [
             1.0,
             "#f0f921"
            ]
           ],
           "sequentialminus": [
            [
             0.0,
             "#0d0887"
            ],
            [
             0.1111111111111111,
             "#46039f"
            ],
            [
             0.2222222222222222,
             "#7201a8"
            ],
            [
             0.3333333333333333,
             "#9c179e"
            ],
            [
             0.4444444444444444,
             "#bd3786"
            ],
            [
             0.5555555555555556,
             "#d8576b"
            ],
            [
             0.6666666666666666,
             "#ed7953"
            ],
            [
             0.7777777777777778,
             "#fb9f3a"
            ],
            [
             0.8888888888888888,
             "#fdca26"
            ],
            [
             1.0,
             "#f0f921"
            ]
           ],
           "diverging": [
            [
             0,
             "#8e0152"
            ],
            [
             0.1,
             "#c51b7d"
            ],
            [
             0.2,
             "#de77ae"
            ],
            [
             0.3,
             "#f1b6da"
            ],
            [
             0.4,
             "#fde0ef"
            ],
            [
             0.5,
             "#f7f7f7"
            ],
            [
             0.6,
             "#e6f5d0"
            ],
            [
             0.7,
             "#b8e186"
            ],
            [
             0.8,
             "#7fbc41"
            ],
            [
             0.9,
             "#4d9221"
            ],
            [
             1,
             "#276419"
            ]
           ]
          },
          "xaxis": {
           "gridcolor": "#283442",
           "linecolor": "#506784",
           "ticks": "",
           "title": {
            "standoff": 15
           },
           "zerolinecolor": "#283442",
           "automargin": true,
           "zerolinewidth": 2
          },
          "yaxis": {
           "gridcolor": "#283442",
           "linecolor": "#506784",
           "ticks": "",
           "title": {
            "standoff": 15
           },
           "zerolinecolor": "#283442",
           "automargin": true,
           "zerolinewidth": 2
          },
          "scene": {
           "xaxis": {
            "backgroundcolor": "rgb(17,17,17)",
            "gridcolor": "#506784",
            "linecolor": "#506784",
            "showbackground": true,
            "ticks": "",
            "zerolinecolor": "#C8D4E3",
            "gridwidth": 2
           },
           "yaxis": {
            "backgroundcolor": "rgb(17,17,17)",
            "gridcolor": "#506784",
            "linecolor": "#506784",
            "showbackground": true,
            "ticks": "",
            "zerolinecolor": "#C8D4E3",
            "gridwidth": 2
           },
           "zaxis": {
            "backgroundcolor": "rgb(17,17,17)",
            "gridcolor": "#506784",
            "linecolor": "#506784",
            "showbackground": true,
            "ticks": "",
            "zerolinecolor": "#C8D4E3",
            "gridwidth": 2
           }
          },
          "shapedefaults": {
           "line": {
            "color": "#f2f5fa"
           }
          },
          "annotationdefaults": {
           "arrowcolor": "#f2f5fa",
           "arrowhead": 0,
           "arrowwidth": 1
          },
          "geo": {
           "bgcolor": "rgb(17,17,17)",
           "landcolor": "rgb(17,17,17)",
           "subunitcolor": "#506784",
           "showland": true,
           "showlakes": true,
           "lakecolor": "rgb(17,17,17)"
          },
          "title": {
           "x": 0.05
          },
          "updatemenudefaults": {
           "bgcolor": "#506784",
           "borderwidth": 0
          },
          "sliderdefaults": {
           "bgcolor": "#C8D4E3",
           "borderwidth": 1,
           "bordercolor": "rgb(17,17,17)",
           "tickwidth": 0
          },
          "mapbox": {
           "style": "dark"
          }
         }
        },
        "xaxis": {
         "anchor": "y",
         "domain": [
          0.0,
          1.0
         ],
         "title": {
          "text": "level_offset"
         }
        },
        "yaxis": {
         "anchor": "x",
         "domain": [
          0.0,
          1.0
         ],
         "title": {
          "text": "mean"
         }
        },
        "legend": {
         "title": {
          "text": "from"
         },
         "tracegroupgap": 0
        },
        "margin": {
         "t": 60
        }
       },
       "config": {
        "plotlyServerURL": "https://plot.ly"
       }
      },
      "text/html": "<div>                            <div id=\"f7a48039-e97c-4e19-ac29-7e81864d7534\" class=\"plotly-graph-div\" style=\"height:525px; width:100%;\"></div>            <script type=\"text/javascript\">                require([\"plotly\"], function(Plotly) {                    window.PLOTLYENV=window.PLOTLYENV || {};                                    if (document.getElementById(\"f7a48039-e97c-4e19-ac29-7e81864d7534\")) {                    Plotly.newPlot(                        \"f7a48039-e97c-4e19-ac29-7e81864d7534\",                        [{\"error_y\":{\"array\":[2.1280168380319537,2.2426383908144945,2.2960773095123144,2.3138004502062812,2.955178306671152,2.9949821264442433,3.0043528667080195,4.7249356487110346]},\"hovertemplate\":\"from=pred\\u003cbr\\u003elevel_offset=%{x}\\u003cbr\\u003emean=%{y}\\u003cextra\\u003e\\u003c\\u002fextra\\u003e\",\"legendgroup\":\"pred\",\"marker\":{\"color\":\"#636efa\",\"symbol\":\"circle\"},\"mode\":\"markers\",\"name\":\"pred\",\"orientation\":\"v\",\"showlegend\":true,\"x\":[1.9,2.9,3.9,4.9,5.9,6.9,7.9,8.9],\"xaxis\":\"x\",\"y\":[5.430158807644768,10.422222370193118,6.953448373952816,5.999557607205568,7.139743691835648,8.242918573479797,8.837837965638787,10.809691786766052],\"yaxis\":\"y\",\"type\":\"scatter\"},{\"error_y\":{\"array\":[2.2,1.3,1.5,1.6,1.4,1.4]},\"hovertemplate\":\"from=cadotte\\u003cbr\\u003elevel_offset=%{x}\\u003cbr\\u003emean=%{y}\\u003cextra\\u003e\\u003c\\u002fextra\\u003e\",\"legendgroup\":\"cadotte\",\"marker\":{\"color\":\"#EF553B\",\"symbol\":\"circle\"},\"mode\":\"markers\",\"name\":\"cadotte\",\"orientation\":\"v\",\"showlegend\":true,\"x\":[3.1,4.1,5.1,6.1,7.1,8.1],\"xaxis\":\"x\",\"y\":[10.5,9.9,10.5,9.7,9.4,9.6],\"yaxis\":\"y\",\"type\":\"scatter\"},{\"hovertemplate\":\"level=%{x}\\u003cbr\\u003evalue=%{y}\\u003cextra\\u003e\\u003c\\u002fextra\\u003e\",\"legendgroup\":\"\",\"marker\":{\"color\":\"#636efa\",\"symbol\":\"circle\"},\"mode\":\"markers\",\"name\":\"\",\"orientation\":\"v\",\"showlegend\":false,\"x\":[2,2,2,2,2,2,2,2,2,2,2,2,2,2,2,2,2,2,2,2,2,2,2,2,2,2,2,2,2,2,2,2,2,2,2,2,2,2,2,2,2,2,2,2,2,2,2,2,2,2,2,2,2,2,2,2,2,2,2,2,2,2,2,2,2,2,2,2,2,2,2,2,2,2,2,2,2,2,2,2,2,2,2,2,2,2,2,2,2,2,2,2,2,2,2,2,2,2,2,2,2,2,2,2,2,2,2,2,2,2,2,2,2,2,2,2,2,2,2,2,2,2,2,2,2,2,2,2,2,2,2,2,2,2,2,2,2,2,2,2,2,2,2,2,2,2,2,2,2,2,2,2,2,2,2,2,2,2,2,2,2,2,2,2,2,2,2,2,2,2,2,2,2,2,2,2,2,2,2,2,2,2,2,2,2,2,2,2,2,2,2,2,2,2,2,2,2,2,2,2,2,2,2,2,2,2,2,2,2,2,2,2,2,2,2,2,2,2,2,2,2,2,2,2,2,2,2,2,2,2,2,2,2,2,2,2,2,2,2,2,2,2,2,2,2,2,2,2,2,2,2,2,2,2,2,2,2,2,2,2,2,2,2,2,2,2,2,2,2],\"xaxis\":\"x\",\"y\":[8.800000131130219,4.000000059604645,5.5,8.800000131130219,2.400000035762787,8.00000011920929,6.400000095367432,8.800000131130219,6.400000095367432,8.800000131130219,4.800000071525574,null,7.200000107288361,4.000000059604645,6.400000095367432,2.0,4.800000071525574,0.800000011920929,8.800000131130219,3.200000047683716,4.800000071525574,9.600000143051147,6.400000095367432,3.200000047683716,7.200000107288361,4.800000071525574,7.200000107288361,4.000000059604645,3.200000047683716,null,4.000000059604645,6.400000095367432,7.200000107288361,null,2.400000035762787,6.400000095367432,6.5,null,4.000000059604645,4.000000059604645,7.200000107288361,6.400000095367432,8.00000011920929,6.400000095367432,3.200000047683716,1.600000023841858,5.600000083446503,6.0,5.600000083446503,6.400000095367432,3.200000047683716,3.200000047683716,4.800000071525574,4.000000059604645,4.800000071525574,3.0,4.800000071525574,5.600000083446503,6.400000095367432,5.600000083446503,4.000000059604645,3.200000047683716,7.200000107288361,7.200000107288361,4.800000071525574,2.400000035762787,null,7.200000107288361,3.200000047683716,6.400000095367432,6.5,null,0.800000011920929,4.800000071525574,2.400000035762787,5.600000083446503,8.00000011920929,null,8.800000131130219,3.200000047683716,4.800000071525574,null,4.000000059604645,3.200000047683716,4.800000071525574,7.200000107288361,8.00000011920929,4.800000071525574,4.000000059604645,8.00000011920929,3.200000047683716,7.200000107288361,1.600000023841858,6.400000095367432,6.400000095367432,4.800000071525574,3.200000047683716,9.600000143051147,8.00000011920929,3.200000047683716,4.000000059604645,4.000000059604645,4.800000071525574,9.600000143051147,4.800000071525574,3.200000047683716,null,7.200000107288361,7.0,8.00000011920929,6.400000095367432,8.00000011920929,null,7.200000107288361,6.400000095367432,4.000000059604645,6.400000095367432,3.200000047683716,3.5,2.400000035762787,5.600000083446503,null,9.600000143051147,null,8.00000011920929,6.400000095367432,4.000000059604645,6.400000095367432,6.400000095367432,4.000000059604645,4.000000059604645,6.400000095367432,2.400000035762787,8.0,4.000000059604645,8.800000131130219,7.200000107288361,7.200000107288361,3.200000047683716,7.200000107288361,6.0,8.00000011920929,2.400000035762787,4.800000071525574,6.400000095367432,6.400000095367432,4.800000071525574,4.800000071525574,8.00000011920929,3.200000047683716,4.000000059604645,0.800000011920929,null,0.800000011920929,1.600000023841858,2.400000035762787,6.400000095367432,3.200000047683716,8.00000011920929,7.200000107288361,5.600000083446503,8.00000011920929,4.000000059604645,8.00000011920929,4.800000071525574,3.200000047683716,8.800000131130219,2.400000035762787,5.600000083446503,7.200000107288361,8.800000131130219,4.000000059604645,7.200000107288361,5.600000083446503,8.800000131130219,4.800000071525574,5.600000083446503,8.00000011920929,6.400000095367432,8.00000011920929,0.800000011920929,5.600000083446503,7.200000107288361,6.400000095367432,6.400000095367432,4.800000071525574,8.00000011920929,8.00000011920929,7.200000107288361,4.000000059604645,2.400000035762787,null,8.00000011920929,4.800000071525574,7.200000107288361,3.200000047683716,4.000000059604645,4.000000059604645,4.000000059604645,6.400000095367432,4.800000071525574,4.800000071525574,2.400000035762787,5.600000083446503,2.400000035762787,4.800000071525574,6.400000095367432,6.400000095367432,6.400000095367432,0.800000011920929,8.00000011920929,5.600000083446503,8.00000011920929,1.600000023841858,3.0,0.800000011920929,4.000000059604645,4.000000059604645,5.600000083446503,6.400000095367432,5.600000083446503,4.000000059604645,5.600000083446503,4.800000071525574,4.800000071525574,4.000000059604645,6.400000095367432,2.400000035762787,10.400000154972076,5.600000083446503,4.000000059604645,9.600000143051147,8.00000011920929,4.000000059604645,6.400000095367432,4.800000071525574,7.200000107288361,4.800000071525574,4.800000071525574,4.000000059604645,3.200000047683716,8.00000011920929,1.0,4.000000059604645,8.800000131130219,3.200000047683716,6.400000095367432,8.00000011920929,6.400000095367432,4.000000059604645,8.800000131130219,5.600000083446503,7.200000107288361,5.600000083446503,6.400000095367432,null,3.200000047683716,3.200000047683716,8.00000011920929,7.200000107288361,7.200000107288361,4.000000059604645,8.00000011920929,2.400000035762787,4.800000071525574,5.600000083446503,8.800000131130219,5.430158807644768,2.1280168380319537],\"yaxis\":\"y\",\"type\":\"scatter\"},{\"hovertemplate\":\"level=%{x}\\u003cbr\\u003evalue=%{y}\\u003cextra\\u003e\\u003c\\u002fextra\\u003e\",\"legendgroup\":\"\",\"marker\":{\"color\":\"#636efa\",\"symbol\":\"circle\"},\"mode\":\"markers\",\"name\":\"\",\"orientation\":\"v\",\"showlegend\":false,\"x\":[3,3,3,3,3,3,3,3,3,3,3,3,3,3,3,3,3,3,3,3,3,3,3,3,3,3,3,3,3,3,3,3,3,3,3,3,3,3,3,3,3,3,3,3,3,3,3,3,3,3,3,3,3,3,3,3,3,3,3,3,3,3,3,3,3,3,3,3,3,3,3,3,3,3,3,3,3,3,3,3,3,3,3,3,3,3,3,3,3,3,3,3,3,3,3,3,3,3,3,3,3,3,3,3,3,3,3,3,3,3,3,3,3,3,3,3,3,3,3,3,3,3,3,3,3,3,3,3,3,3,3,3,3,3,3,3,3,3,3,3,3,3,3,3,3,3,3,3,3,3,3,3,3,3,3,3,3,3,3,3,3,3,3,3,3,3,3,3,3,3,3,3,3,3,3,3,3,3,3,3,3,3,3,3,3,3,3,3,3,3,3,3,3,3,3,3,3,3,3,3,3,3,3,3,3,3,3,3,3,3,3,3,3,3,3,3,3,3,3,3,3,3,3,3,3,3,3,3,3,3,3,3,3,3,3,3,3,3,3,3,3,3,3,3,3,3,3,3,3,3,3,3,3,3,3,3,3,3,3,3,3,3,3,3,3,3,3,3,3,3,3],\"xaxis\":\"x\",\"y\":[15.20000022649765,16.800000250339508,11.0,9.600000143051147,6.400000095367432,12.000000178813934,12.000000178813934,11.200000166893004,12.000000178813934,12.000000178813934,10.400000154972076,null,12.000000178813934,8.800000131130219,9.600000143051147,6.0,10.400000154972076,12.000000178813934,12.800000190734863,9.600000143051147,10.400000154972076,8.800000131130219,14.40000021457672,5.600000083446503,11.200000166893004,12.000000178813934,12.800000190734863,8.800000131130219,12.000000178813934,null,9.600000143051147,11.200000166893004,13.600000202655792,null,10.400000154972076,10.400000154972076,11.5,null,12.000000178813934,8.00000011920929,11.200000166893004,11.200000166893004,8.00000011920929,10.400000154972076,9.600000143051147,3.200000047683716,8.800000131130219,11.5,8.00000011920929,7.200000107288361,9.600000143051147,8.800000131130219,18.40000027418137,8.800000131130219,12.000000178813934,8.0,11.200000166893004,10.400000154972076,14.40000021457672,11.200000166893004,8.800000131130219,9.600000143051147,9.600000143051147,11.200000166893004,10.400000154972076,10.400000154972076,null,11.200000166893004,8.800000131130219,11.200000166893004,13.0,null,10.400000154972076,11.200000166893004,12.800000190734863,12.000000178813934,12.800000190734863,null,6.400000095367432,8.00000011920929,8.800000131130219,null,11.200000166893004,8.00000011920929,10.400000154972076,11.200000166893004,14.40000021457672,12.000000178813934,8.800000131130219,10.400000154972076,9.600000143051147,9.600000143051147,5.600000083446503,12.000000178813934,12.000000178813934,11.200000166893004,11.200000166893004,11.200000166893004,9.600000143051147,8.00000011920929,13.600000202655792,8.00000011920929,9.600000143051147,13.600000202655792,9.600000143051147,4.000000059604645,null,12.000000178813934,12.5,12.000000178813934,8.800000131130219,8.800000131130219,null,13.600000202655792,10.400000154972076,9.600000143051147,11.200000166893004,11.200000166893004,8.5,11.200000166893004,9.600000143051147,null,13.600000202655792,null,12.800000190734863,12.000000178813934,11.200000166893004,9.600000143051147,8.800000131130219,10.400000154972076,9.600000143051147,12.800000190734863,8.00000011920929,9.5,10.400000154972076,10.400000154972076,8.800000131130219,9.600000143051147,8.00000011920929,9.600000143051147,9.5,14.40000021457672,7.200000107288361,8.800000131130219,10.400000154972076,10.400000154972076,6.400000095367432,7.200000107288361,8.800000131130219,9.600000143051147,14.40000021457672,12.000000178813934,null,8.00000011920929,4.800000071525574,8.00000011920929,11.200000166893004,10.400000154972076,10.400000154972076,10.400000154972076,8.800000131130219,13.600000202655792,5.600000083446503,13.600000202655792,11.200000166893004,9.600000143051147,11.200000166893004,11.200000166893004,12.800000190734863,8.800000131130219,11.200000166893004,12.000000178813934,13.600000202655792,9.600000143051147,12.000000178813934,12.800000190734863,14.40000021457672,10.400000154972076,10.400000154972076,11.200000166893004,7.200000107288361,9.600000143051147,11.200000166893004,8.800000131130219,9.600000143051147,8.800000131130219,8.00000011920929,12.000000178813934,9.600000143051147,11.200000166893004,9.600000143051147,null,13.600000202655792,9.600000143051147,12.000000178813934,8.800000131130219,7.200000107288361,8.00000011920929,8.800000131130219,8.800000131130219,11.200000166893004,12.000000178813934,4.800000071525574,12.000000178813934,11.200000166893004,8.00000011920929,9.600000143051147,13.600000202655792,10.400000154972076,null,12.000000178813934,11.200000166893004,12.000000178813934,8.800000131130219,9.0,10.400000154972076,9.600000143051147,12.000000178813934,9.600000143051147,10.400000154972076,8.00000011920929,10.400000154972076,9.600000143051147,6.400000095367432,12.000000178813934,12.000000178813934,10.400000154972076,12.800000190734863,12.000000178813934,12.800000190734863,12.800000190734863,11.200000166893004,11.200000166893004,10.400000154972076,11.200000166893004,10.400000154972076,10.400000154972076,8.800000131130219,12.000000178813934,8.00000011920929,10.400000154972076,13.600000202655792,14.0,7.200000107288361,12.800000190734863,8.800000131130219,9.600000143051147,13.600000202655792,12.000000178813934,10.400000154972076,11.200000166893004,12.800000190734863,10.400000154972076,12.800000190734863,8.00000011920929,0.0,8.800000131130219,9.600000143051147,11.200000166893004,8.800000131130219,14.40000021457672,12.000000178813934,12.000000178813934,8.800000131130219,11.200000166893004,10.400000154972076,12.000000178813934,10.422222370193118,2.2426383908144945,10.5,2.2],\"yaxis\":\"y\",\"type\":\"scatter\"},{\"hovertemplate\":\"level=%{x}\\u003cbr\\u003evalue=%{y}\\u003cextra\\u003e\\u003c\\u002fextra\\u003e\",\"legendgroup\":\"\",\"marker\":{\"color\":\"#636efa\",\"symbol\":\"circle\"},\"mode\":\"markers\",\"name\":\"\",\"orientation\":\"v\",\"showlegend\":false,\"x\":[4,4,4,4,4,4,4,4,4,4,4,4,4,4,4,4,4,4,4,4,4,4,4,4,4,4,4,4,4,4,4,4,4,4,4,4,4,4,4,4,4,4,4,4,4,4,4,4,4,4,4,4,4,4,4,4,4,4,4,4,4,4,4,4,4,4,4,4,4,4,4,4,4,4,4,4,4,4,4,4,4,4,4,4,4,4,4,4,4,4,4,4,4,4,4,4,4,4,4,4,4,4,4,4,4,4,4,4,4,4,4,4,4,4,4,4,4,4,4,4,4,4,4,4,4,4,4,4,4,4,4,4,4,4,4,4,4,4,4,4,4,4,4,4,4,4,4,4,4,4,4,4,4,4,4,4,4,4,4,4,4,4,4,4,4,4,4,4,4,4,4,4,4,4,4,4,4,4,4,4,4,4,4,4,4,4,4,4,4,4,4,4,4,4,4,4,4,4,4,4,4,4,4,4,4,4,4,4,4,4,4,4,4,4,4,4,4,4,4,4,4,4,4,4,4,4,4,4,4,4,4,4,4,4,4,4,4,4,4,4,4,4,4,4,4,4,4,4,4,4,4,4,4,4,4,4,4,4,4,4,4,4,4,4,4,4,4,4,4,4,4],\"xaxis\":\"x\",\"y\":[10.400000154972076,8.800000131130219,9.5,5.600000083446503,7.200000107288361,8.00000011920929,8.00000011920929,7.200000107288361,8.800000131130219,6.400000095367432,6.400000095367432,null,4.000000059604645,null,7.200000107288361,1.0,5.600000083446503,4.000000059604645,7.200000107288361,4.800000071525574,8.00000011920929,8.00000011920929,10.400000154972076,null,8.800000131130219,9.600000143051147,8.800000131130219,6.400000095367432,7.200000107288361,null,8.800000131130219,12.000000178813934,8.800000131130219,null,8.800000131130219,6.400000095367432,10.0,null,0.800000011920929,4.000000059604645,8.800000131130219,2.400000035762787,1.600000023841858,6.400000095367432,6.400000095367432,null,4.800000071525574,9.5,7.200000107288361,4.000000059604645,4.800000071525574,8.00000011920929,8.00000011920929,10.400000154972076,9.600000143051147,4.0,8.800000131130219,6.400000095367432,9.600000143051147,8.800000131130219,8.800000131130219,1.600000023841858,4.800000071525574,8.800000131130219,6.400000095367432,4.800000071525574,null,8.800000131130219,8.00000011920929,8.800000131130219,8.5,null,2.400000035762787,9.600000143051147,8.00000011920929,8.800000131130219,6.400000095367432,null,4.000000059604645,6.400000095367432,6.400000095367432,null,8.00000011920929,8.00000011920929,8.00000011920929,8.800000131130219,null,0.0,5.600000083446503,null,8.00000011920929,8.00000011920929,null,7.200000107288361,6.400000095367432,11.200000166893004,8.00000011920929,8.800000131130219,7.200000107288361,2.400000035762787,8.800000131130219,6.400000095367432,8.800000131130219,8.800000131130219,7.200000107288361,null,null,10.400000154972076,10.0,7.200000107288361,0.0,4.800000071525574,null,8.800000131130219,0.0,3.200000047683716,6.400000095367432,7.200000107288361,4.0,7.200000107288361,4.000000059604645,null,10.400000154972076,null,9.600000143051147,6.400000095367432,6.400000095367432,4.800000071525574,5.600000083446503,6.400000095367432,4.800000071525574,8.800000131130219,null,8.0,6.400000095367432,9.600000143051147,7.200000107288361,null,4.800000071525574,9.600000143051147,7.5,10.400000154972076,6.400000095367432,5.600000083446503,4.800000071525574,8.800000131130219,null,3.200000047683716,null,5.600000083446503,7.200000107288361,4.000000059604645,null,null,null,null,7.200000107288361,8.00000011920929,null,6.400000095367432,5.600000083446503,6.400000095367432,null,8.00000011920929,6.400000095367432,8.800000131130219,8.00000011920929,9.600000143051147,7.200000107288361,10.400000154972076,7.200000107288361,6.400000095367432,10.400000154972076,6.400000095367432,8.800000131130219,7.200000107288361,9.600000143051147,8.00000011920929,4.800000071525574,4.000000059604645,null,5.600000083446503,8.00000011920929,6.400000095367432,8.00000011920929,6.400000095367432,9.600000143051147,9.600000143051147,6.400000095367432,8.800000131130219,null,null,8.800000131130219,null,4.800000071525574,6.400000095367432,1.600000023841858,4.000000059604645,8.800000131130219,8.00000011920929,7.200000107288361,8.800000131130219,7.200000107288361,5.600000083446503,7.200000107288361,9.600000143051147,9.600000143051147,10.400000154972076,5.600000083446503,null,7.200000107288361,9.600000143051147,6.400000095367432,3.200000047683716,8.0,8.00000011920929,7.200000107288361,7.200000107288361,7.200000107288361,5.600000083446503,2.400000035762787,8.800000131130219,4.000000059604645,5.600000083446503,10.400000154972076,9.600000143051147,8.00000011920929,8.800000131130219,7.200000107288361,8.800000131130219,6.400000095367432,8.800000131130219,4.800000071525574,7.200000107288361,7.200000107288361,8.00000011920929,6.400000095367432,3.200000047683716,6.400000095367432,7.200000107288361,5.600000083446503,9.600000143051147,6.0,1.600000023841858,8.00000011920929,6.400000095367432,7.200000107288361,6.400000095367432,8.800000131130219,0.800000011920929,8.00000011920929,3.200000047683716,5.600000083446503,6.400000095367432,8.800000131130219,null,6.400000095367432,5.600000083446503,5.600000083446503,3.200000047683716,8.00000011920929,6.400000095367432,7.200000107288361,8.800000131130219,8.00000011920929,10.400000154972076,6.400000095367432,6.953448373952816,2.2960773095123144,9.9,1.3],\"yaxis\":\"y\",\"type\":\"scatter\"},{\"hovertemplate\":\"level=%{x}\\u003cbr\\u003evalue=%{y}\\u003cextra\\u003e\\u003c\\u002fextra\\u003e\",\"legendgroup\":\"\",\"marker\":{\"color\":\"#636efa\",\"symbol\":\"circle\"},\"mode\":\"markers\",\"name\":\"\",\"orientation\":\"v\",\"showlegend\":false,\"x\":[5,5,5,5,5,5,5,5,5,5,5,5,5,5,5,5,5,5,5,5,5,5,5,5,5,5,5,5,5,5,5,5,5,5,5,5,5,5,5,5,5,5,5,5,5,5,5,5,5,5,5,5,5,5,5,5,5,5,5,5,5,5,5,5,5,5,5,5,5,5,5,5,5,5,5,5,5,5,5,5,5,5,5,5,5,5,5,5,5,5,5,5,5,5,5,5,5,5,5,5,5,5,5,5,5,5,5,5,5,5,5,5,5,5,5,5,5,5,5,5,5,5,5,5,5,5,5,5,5,5,5,5,5,5,5,5,5,5,5,5,5,5,5,5,5,5,5,5,5,5,5,5,5,5,5,5,5,5,5,5,5,5,5,5,5,5,5,5,5,5,5,5,5,5,5,5,5,5,5,5,5,5,5,5,5,5,5,5,5,5,5,5,5,5,5,5,5,5,5,5,5,5,5,5,5,5,5,5,5,5,5,5,5,5,5,5,5,5,5,5,5,5,5,5,5,5,5,5,5,5,5,5,5,5,5,5,5,5,5,5,5,5,5,5,5,5,5,5,5,5,5,5,5,5,5,5,5,5,5,5,5,5,5,5,5,5,5,5,5,5,5],\"xaxis\":\"x\",\"y\":[8.800000131130219,8.00000011920929,7.0,4.800000071525574,5.600000083446503,4.800000071525574,8.00000011920929,5.600000083446503,7.200000107288361,5.600000083446503,6.400000095367432,null,5.600000083446503,3.200000047683716,5.600000083446503,0.0,null,3.200000047683716,2.400000035762787,4.000000059604645,8.00000011920929,6.400000095367432,6.400000095367432,3.200000047683716,7.200000107288361,7.200000107288361,8.00000011920929,2.400000035762787,null,null,6.400000095367432,6.400000095367432,8.800000131130219,null,7.200000107288361,6.400000095367432,8.5,null,null,5.600000083446503,8.00000011920929,3.200000047683716,4.800000071525574,5.600000083446503,8.800000131130219,null,6.400000095367432,6.0,4.800000071525574,null,4.000000059604645,7.200000107288361,8.00000011920929,7.200000107288361,7.200000107288361,5.0,11.200000166893004,5.600000083446503,7.200000107288361,7.200000107288361,7.200000107288361,null,4.000000059604645,5.600000083446503,6.400000095367432,5.600000083446503,null,7.200000107288361,8.00000011920929,7.200000107288361,7.0,null,null,6.400000095367432,7.200000107288361,7.200000107288361,null,null,6.400000095367432,5.600000083446503,7.200000107288361,null,5.600000083446503,4.000000059604645,8.00000011920929,6.400000095367432,0.800000011920929,16.00000023841858,2.400000035762787,null,6.400000095367432,4.000000059604645,2.400000035762787,8.800000131130219,4.800000071525574,10.400000154972076,7.200000107288361,0.800000011920929,7.200000107288361,null,7.200000107288361,5.600000083446503,8.00000011920929,8.00000011920929,8.00000011920929,0.0,null,8.00000011920929,8.5,4.000000059604645,null,3.200000047683716,null,6.400000095367432,4.800000071525574,7.200000107288361,null,4.000000059604645,4.5,null,0.800000011920929,null,8.800000131130219,null,7.200000107288361,0.0,8.00000011920929,6.400000095367432,4.000000059604645,4.800000071525574,4.800000071525574,6.400000095367432,null,6.5,6.400000095367432,5.600000083446503,8.800000131130219,3.200000047683716,5.600000083446503,6.400000095367432,6.5,8.800000131130219,7.200000107288361,6.400000095367432,3.200000047683716,5.600000083446503,null,null,null,4.800000071525574,8.00000011920929,2.400000035762787,null,null,null,null,6.400000095367432,8.00000011920929,null,5.600000083446503,6.400000095367432,7.200000107288361,null,7.200000107288361,4.800000071525574,8.00000011920929,5.600000083446503,7.200000107288361,6.400000095367432,8.800000131130219,7.200000107288361,4.000000059604645,6.400000095367432,8.800000131130219,8.800000131130219,6.400000095367432,8.00000011920929,1.600000023841858,5.600000083446503,5.600000083446503,null,0.0,4.000000059604645,6.400000095367432,6.400000095367432,8.00000011920929,4.000000059604645,8.800000131130219,8.00000011920929,4.800000071525574,0.0,null,8.00000011920929,0.800000011920929,2.400000035762787,7.200000107288361,null,1.600000023841858,4.800000071525574,4.800000071525574,7.200000107288361,8.00000011920929,8.800000131130219,4.000000059604645,6.400000095367432,7.200000107288361,6.400000095367432,7.200000107288361,3.200000047683716,null,7.200000107288361,7.200000107288361,10.400000154972076,5.600000083446503,6.0,7.200000107288361,8.00000011920929,7.200000107288361,5.600000083446503,7.200000107288361,3.200000047683716,8.800000131130219,2.400000035762787,5.600000083446503,8.800000131130219,4.800000071525574,8.00000011920929,5.600000083446503,2.400000035762787,7.200000107288361,4.800000071525574,9.600000143051147,6.400000095367432,5.600000083446503,7.200000107288361,4.800000071525574,4.800000071525574,null,8.00000011920929,5.600000083446503,6.400000095367432,9.600000143051147,0.0,3.200000047683716,8.00000011920929,4.800000071525574,5.600000083446503,4.000000059604645,8.800000131130219,0.800000011920929,4.000000059604645,6.400000095367432,8.00000011920929,0.0,8.00000011920929,null,6.400000095367432,4.800000071525574,6.400000095367432,7.200000107288361,8.00000011920929,6.400000095367432,8.00000011920929,7.200000107288361,7.200000107288361,7.200000107288361,3.200000047683716,5.999557607205568,2.3138004502062812,10.5,1.5],\"yaxis\":\"y\",\"type\":\"scatter\"},{\"hovertemplate\":\"level=%{x}\\u003cbr\\u003evalue=%{y}\\u003cextra\\u003e\\u003c\\u002fextra\\u003e\",\"legendgroup\":\"\",\"marker\":{\"color\":\"#636efa\",\"symbol\":\"circle\"},\"mode\":\"markers\",\"name\":\"\",\"orientation\":\"v\",\"showlegend\":false,\"x\":[6,6,6,6,6,6,6,6,6,6,6,6,6,6,6,6,6,6,6,6,6,6,6,6,6,6,6,6,6,6,6,6,6,6,6,6,6,6,6,6,6,6,6,6,6,6,6,6,6,6,6,6,6,6,6,6,6,6,6,6,6,6,6,6,6,6,6,6,6,6,6,6,6,6,6,6,6,6,6,6,6,6,6,6,6,6,6,6,6,6,6,6,6,6,6,6,6,6,6,6,6,6,6,6,6,6,6,6,6,6,6,6,6,6,6,6,6,6,6,6,6,6,6,6,6,6,6,6,6,6,6,6,6,6,6,6,6,6,6,6,6,6,6,6,6,6,6,6,6,6,6,6,6,6,6,6,6,6,6,6,6,6,6,6,6,6,6,6,6,6,6,6,6,6,6,6,6,6,6,6,6,6,6,6,6,6,6,6,6,6,6,6,6,6,6,6,6,6,6,6,6,6,6,6,6,6,6,6,6,6,6,6,6,6,6,6,6,6,6,6,6,6,6,6,6,6,6,6,6,6,6,6,6,6,6,6,6,6,6,6,6,6,6,6,6,6,6,6,6,6,6,6,6,6,6,6,6,6,6,6,6,6,6,6,6,6,6,6,6,6,6],\"xaxis\":\"x\",\"y\":[10.400000154972076,8.800000131130219,9.0,4.000000059604645,6.400000095367432,8.00000011920929,6.400000095367432,4.800000071525574,8.00000011920929,6.400000095367432,8.00000011920929,null,6.400000095367432,5.600000083446503,9.600000143051147,0.0,0.0,1.600000023841858,4.000000059604645,9.600000143051147,9.600000143051147,8.00000011920929,7.200000107288361,null,8.00000011920929,10.400000154972076,8.00000011920929,6.400000095367432,12.000000178813934,null,4.800000071525574,4.000000059604645,8.800000131130219,null,7.200000107288361,4.800000071525574,7.0,null,null,11.200000166893004,6.400000095367432,4.800000071525574,7.200000107288361,5.600000083446503,8.800000131130219,null,7.200000107288361,7.0,5.600000083446503,13.600000202655792,6.400000095367432,6.400000095367432,8.00000011920929,8.00000011920929,7.200000107288361,8.0,11.200000166893004,5.600000083446503,8.800000131130219,8.00000011920929,8.800000131130219,5.600000083446503,6.400000095367432,8.00000011920929,8.00000011920929,6.400000095367432,null,8.00000011920929,7.200000107288361,24.00000035762787,9.5,null,null,6.400000095367432,7.200000107288361,7.200000107288361,4.800000071525574,null,6.400000095367432,7.200000107288361,7.200000107288361,null,7.200000107288361,8.00000011920929,8.800000131130219,8.00000011920929,1.600000023841858,22.40000033378601,8.00000011920929,1.600000023841858,8.800000131130219,4.800000071525574,null,9.600000143051147,6.400000095367432,8.800000131130219,8.00000011920929,null,7.200000107288361,null,4.800000071525574,5.600000083446503,7.200000107288361,8.00000011920929,8.00000011920929,null,null,7.200000107288361,5.5,4.000000059604645,null,5.600000083446503,null,8.800000131130219,0.800000011920929,4.800000071525574,0.800000011920929,8.800000131130219,7.5,null,4.800000071525574,null,8.00000011920929,null,8.00000011920929,3.200000047683716,8.800000131130219,9.600000143051147,7.200000107288361,11.200000166893004,6.400000095367432,8.00000011920929,null,8.0,8.800000131130219,7.200000107288361,8.00000011920929,0.800000011920929,6.400000095367432,8.800000131130219,2.0,8.00000011920929,7.200000107288361,8.800000131130219,1.600000023841858,8.00000011920929,null,0.800000011920929,null,7.200000107288361,7.200000107288361,2.400000035762787,null,2.400000035762787,null,null,8.00000011920929,8.00000011920929,null,8.00000011920929,7.200000107288361,10.400000154972076,null,8.800000131130219,5.600000083446503,7.200000107288361,2.400000035762787,7.200000107288361,6.400000095367432,7.200000107288361,8.00000011920929,7.200000107288361,20.800000309944153,9.600000143051147,8.800000131130219,8.00000011920929,10.400000154972076,4.800000071525574,4.800000071525574,6.400000095367432,3.200000047683716,4.800000071525574,7.200000107288361,7.200000107288361,8.00000011920929,9.600000143051147,5.600000083446503,9.600000143051147,7.200000107288361,8.800000131130219,2.400000035762787,null,8.00000011920929,2.400000035762787,3.200000047683716,8.800000131130219,4.800000071525574,0.800000011920929,8.800000131130219,7.200000107288361,8.00000011920929,7.200000107288361,8.00000011920929,5.600000083446503,8.00000011920929,8.00000011920929,8.00000011920929,9.600000143051147,4.000000059604645,null,7.200000107288361,8.800000131130219,8.800000131130219,4.800000071525574,4.0,4.800000071525574,4.800000071525574,8.00000011920929,6.400000095367432,9.600000143051147,4.800000071525574,8.800000131130219,5.600000083446503,4.800000071525574,10.400000154972076,8.800000131130219,11.200000166893004,8.00000011920929,11.200000166893004,7.200000107288361,10.400000154972076,6.400000095367432,7.200000107288361,7.200000107288361,6.400000095367432,5.600000083446503,6.400000095367432,1.600000023841858,8.00000011920929,6.400000095367432,6.400000095367432,8.00000011920929,null,8.800000131130219,8.800000131130219,5.600000083446503,6.400000095367432,3.200000047683716,8.800000131130219,8.800000131130219,6.400000095367432,6.400000095367432,9.600000143051147,12.800000190734863,8.00000011920929,1.600000023841858,7.200000107288361,7.200000107288361,8.00000011920929,8.00000011920929,8.00000011920929,8.00000011920929,10.400000154972076,6.400000095367432,9.600000143051147,7.200000107288361,6.400000095367432,7.139743691835648,2.955178306671152,9.7,1.6],\"yaxis\":\"y\",\"type\":\"scatter\"},{\"hovertemplate\":\"level=%{x}\\u003cbr\\u003evalue=%{y}\\u003cextra\\u003e\\u003c\\u002fextra\\u003e\",\"legendgroup\":\"\",\"marker\":{\"color\":\"#636efa\",\"symbol\":\"circle\"},\"mode\":\"markers\",\"name\":\"\",\"orientation\":\"v\",\"showlegend\":false,\"x\":[7,7,7,7,7,7,7,7,7,7,7,7,7,7,7,7,7,7,7,7,7,7,7,7,7,7,7,7,7,7,7,7,7,7,7,7,7,7,7,7,7,7,7,7,7,7,7,7,7,7,7,7,7,7,7,7,7,7,7,7,7,7,7,7,7,7,7,7,7,7,7,7,7,7,7,7,7,7,7,7,7,7,7,7,7,7,7,7,7,7,7,7,7,7,7,7,7,7,7,7,7,7,7,7,7,7,7,7,7,7,7,7,7,7,7,7,7,7,7,7,7,7,7,7,7,7,7,7,7,7,7,7,7,7,7,7,7,7,7,7,7,7,7,7,7,7,7,7,7,7,7,7,7,7,7,7,7,7,7,7,7,7,7,7,7,7,7,7,7,7,7,7,7,7,7,7,7,7,7,7,7,7,7,7,7,7,7,7,7,7,7,7,7,7,7,7,7,7,7,7,7,7,7,7,7,7,7,7,7,7,7,7,7,7,7,7,7,7,7,7,7,7,7,7,7,7,7,7,7,7,7,7,7,7,7,7,7,7,7,7,7,7,7,7,7,7,7,7,7,7,7,7,7,7,7,7,7,7,7,7,7,7,7,7,7,7,7,7,7,7,7],\"xaxis\":\"x\",\"y\":[11.200000166893004,9.600000143051147,8.0,8.00000011920929,7.200000107288361,11.200000166893004,7.200000107288361,8.00000011920929,8.800000131130219,6.400000095367432,10.400000154972076,null,7.200000107288361,6.400000095367432,9.600000143051147,5.0,6.400000095367432,0.800000011920929,null,2.400000035762787,9.600000143051147,9.600000143051147,10.400000154972076,0.0,null,8.00000011920929,10.400000154972076,7.200000107288361,8.00000011920929,null,8.800000131130219,6.400000095367432,9.600000143051147,null,9.600000143051147,0.0,8.5,null,null,null,9.600000143051147,2.400000035762787,8.800000131130219,7.200000107288361,8.800000131130219,null,9.600000143051147,6.5,7.200000107288361,8.00000011920929,null,8.00000011920929,8.800000131130219,8.00000011920929,8.800000131130219,5.0,12.000000178813934,4.000000059604645,11.200000166893004,9.600000143051147,8.00000011920929,5.600000083446503,8.800000131130219,9.600000143051147,10.400000154972076,8.800000131130219,null,8.800000131130219,8.800000131130219,8.00000011920929,10.0,null,0.800000011920929,6.400000095367432,7.200000107288361,8.800000131130219,6.400000095367432,null,7.200000107288361,20.800000309944153,9.600000143051147,null,5.600000083446503,8.800000131130219,8.800000131130219,10.400000154972076,4.800000071525574,2.400000035762787,8.00000011920929,9.600000143051147,10.400000154972076,8.00000011920929,1.600000023841858,10.400000154972076,8.800000131130219,9.600000143051147,9.600000143051147,null,10.400000154972076,null,8.00000011920929,8.800000131130219,8.00000011920929,10.400000154972076,5.600000083446503,4.000000059604645,null,8.800000131130219,2.5,8.800000131130219,null,12.000000178813934,null,11.200000166893004,5.600000083446503,6.400000095367432,0.0,8.800000131130219,8.5,null,8.00000011920929,null,11.200000166893004,null,19.200000286102295,7.200000107288361,8.00000011920929,8.00000011920929,10.400000154972076,8.00000011920929,9.600000143051147,8.800000131130219,1.600000023841858,7.5,7.200000107288361,9.600000143051147,9.600000143051147,0.0,6.400000095367432,10.400000154972076,5.5,20.000000298023224,8.800000131130219,11.200000166893004,8.800000131130219,8.800000131130219,null,6.400000095367432,null,8.00000011920929,4.000000059604645,0.800000011920929,null,8.00000011920929,3.200000047683716,3.200000047683716,10.400000154972076,9.600000143051147,null,12.800000190734863,8.00000011920929,10.400000154972076,0.800000011920929,8.800000131130219,4.800000071525574,8.800000131130219,9.600000143051147,null,10.400000154972076,10.400000154972076,9.600000143051147,8.800000131130219,6.400000095367432,null,8.800000131130219,10.400000154972076,10.400000154972076,11.200000166893004,8.00000011920929,8.800000131130219,4.000000059604645,5.600000083446503,8.800000131130219,8.800000131130219,10.400000154972076,10.400000154972076,6.400000095367432,9.600000143051147,8.00000011920929,8.800000131130219,null,null,11.200000166893004,4.800000071525574,8.00000011920929,12.800000190734863,8.800000131130219,4.800000071525574,8.800000131130219,8.00000011920929,10.400000154972076,8.00000011920929,8.800000131130219,7.200000107288361,7.200000107288361,9.600000143051147,9.600000143051147,12.000000178813934,8.800000131130219,null,8.800000131130219,10.400000154972076,8.00000011920929,8.800000131130219,null,11.200000166893004,null,9.600000143051147,7.200000107288361,10.400000154972076,8.800000131130219,10.400000154972076,6.400000095367432,8.00000011920929,11.200000166893004,7.200000107288361,11.200000166893004,5.600000083446503,5.600000083446503,10.400000154972076,14.40000021457672,13.600000202655792,0.800000011920929,10.400000154972076,7.200000107288361,8.800000131130219,8.00000011920929,10.400000154972076,11.200000166893004,9.600000143051147,4.800000071525574,8.800000131130219,null,7.200000107288361,9.600000143051147,8.00000011920929,8.800000131130219,4.000000059604645,12.000000178813934,8.00000011920929,7.200000107288361,12.800000190734863,9.600000143051147,10.400000154972076,7.200000107288361,3.200000047683716,7.200000107288361,8.800000131130219,8.00000011920929,12.000000178813934,13.600000202655792,9.600000143051147,8.800000131130219,6.400000095367432,7.200000107288361,8.800000131130219,8.800000131130219,8.242918573479797,2.9949821264442433,9.4,1.4],\"yaxis\":\"y\",\"type\":\"scatter\"},{\"hovertemplate\":\"level=%{x}\\u003cbr\\u003evalue=%{y}\\u003cextra\\u003e\\u003c\\u002fextra\\u003e\",\"legendgroup\":\"\",\"marker\":{\"color\":\"#636efa\",\"symbol\":\"circle\"},\"mode\":\"markers\",\"name\":\"\",\"orientation\":\"v\",\"showlegend\":false,\"x\":[8,8,8,8,8,8,8,8,8,8,8,8,8,8,8,8,8,8,8,8,8,8,8,8,8,8,8,8,8,8,8,8,8,8,8,8,8,8,8,8,8,8,8,8,8,8,8,8,8,8,8,8,8,8,8,8,8,8,8,8,8,8,8,8,8,8,8,8,8,8,8,8,8,8,8,8,8,8,8,8,8,8,8,8,8,8,8,8,8,8,8,8,8,8,8,8,8,8,8,8,8,8,8,8,8,8,8,8,8,8,8,8,8,8,8,8,8,8,8,8,8,8,8,8,8,8,8,8,8,8,8,8,8,8,8,8,8,8,8,8,8,8,8,8,8,8,8,8,8,8,8,8,8,8,8,8,8,8,8,8,8,8,8,8,8,8,8,8,8,8,8,8,8,8,8,8,8,8,8,8,8,8,8,8,8,8,8,8,8,8,8,8,8,8,8,8,8,8,8,8,8,8,8,8,8,8,8,8,8,8,8,8,8,8,8,8,8,8,8,8,8,8,8,8,8,8,8,8,8,8,8,8,8,8,8,8,8,8,8,8,8,8,8,8,8,8,8,8,8,8,8,8,8,8,8,8,8,8,8,8,8,8,8,8,8,8,8,8,8,8,8],\"xaxis\":\"x\",\"y\":[13.600000202655792,11.200000166893004,6.0,9.600000143051147,4.800000071525574,14.40000021457672,8.800000131130219,9.600000143051147,8.800000131130219,8.00000011920929,12.800000190734863,null,8.800000131130219,7.200000107288361,13.600000202655792,5.0,9.600000143051147,0.0,null,4.000000059604645,12.000000178813934,11.200000166893004,12.000000178813934,1.600000023841858,5.600000083446503,8.00000011920929,12.000000178813934,8.00000011920929,null,null,7.200000107288361,12.000000178813934,9.600000143051147,null,8.800000131130219,null,7.5,null,null,null,11.200000166893004,null,10.400000154972076,8.00000011920929,11.200000166893004,null,6.400000095367432,6.0,9.600000143051147,10.400000154972076,10.400000154972076,7.200000107288361,11.200000166893004,7.200000107288361,10.400000154972076,10.0,12.800000190734863,null,9.600000143051147,null,11.200000166893004,null,8.00000011920929,12.800000190734863,10.400000154972076,7.200000107288361,null,12.000000178813934,9.600000143051147,2.400000035762787,9.0,null,null,8.00000011920929,9.600000143051147,9.600000143051147,9.600000143051147,null,8.800000131130219,19.200000286102295,8.00000011920929,null,null,10.400000154972076,9.600000143051147,12.000000178813934,8.00000011920929,null,6.400000095367432,4.800000071525574,9.600000143051147,8.800000131130219,3.200000047683716,12.800000190734863,10.400000154972076,11.200000166893004,11.200000166893004,null,11.200000166893004,null,10.400000154972076,11.200000166893004,9.600000143051147,13.600000202655792,6.400000095367432,6.400000095367432,null,11.200000166893004,0.5,12.000000178813934,null,11.200000166893004,null,12.800000190734863,9.600000143051147,6.400000095367432,null,5.600000083446503,2.0,2.400000035762787,9.600000143051147,null,10.400000154972076,null,17.600000262260437,11.200000166893004,5.600000083446503,10.400000154972076,6.400000095367432,8.00000011920929,8.00000011920929,10.400000154972076,null,7.5,8.00000011920929,5.600000083446503,8.00000011920929,5.600000083446503,6.400000095367432,9.600000143051147,4.5,12.000000178813934,8.800000131130219,10.400000154972076,10.400000154972076,10.400000154972076,0.800000011920929,6.400000095367432,null,8.800000131130219,null,8.00000011920929,null,8.00000011920929,5.600000083446503,5.600000083446503,9.600000143051147,9.600000143051147,null,9.600000143051147,7.200000107288361,7.200000107288361,2.400000035762787,12.800000190734863,8.00000011920929,8.800000131130219,11.200000166893004,7.200000107288361,12.800000190734863,10.400000154972076,9.600000143051147,13.600000202655792,18.40000027418137,3.200000047683716,8.800000131130219,5.600000083446503,11.200000166893004,11.200000166893004,10.400000154972076,10.400000154972076,4.800000071525574,8.800000131130219,12.000000178813934,10.400000154972076,10.400000154972076,null,10.400000154972076,8.00000011920929,9.600000143051147,8.00000011920929,null,null,12.800000190734863,null,8.800000131130219,10.400000154972076,8.800000131130219,4.000000059604645,6.400000095367432,7.200000107288361,8.00000011920929,4.800000071525574,9.600000143051147,8.00000011920929,8.800000131130219,8.00000011920929,8.800000131130219,13.600000202655792,7.200000107288361,null,10.400000154972076,10.400000154972076,8.00000011920929,8.00000011920929,null,9.600000143051147,null,7.200000107288361,4.800000071525574,9.600000143051147,7.200000107288361,10.400000154972076,8.00000011920929,5.600000083446503,12.000000178813934,6.400000095367432,10.400000154972076,null,6.400000095367432,9.600000143051147,13.600000202655792,4.800000071525574,null,8.00000011920929,10.400000154972076,9.600000143051147,9.600000143051147,8.800000131130219,8.800000131130219,10.400000154972076,10.400000154972076,8.800000131130219,null,10.400000154972076,8.800000131130219,7.200000107288361,12.000000178813934,0.0,6.400000095367432,11.200000166893004,9.600000143051147,12.800000190734863,null,6.400000095367432,8.800000131130219,2.400000035762787,8.00000011920929,1.600000023841858,12.800000190734863,9.600000143051147,8.800000131130219,10.400000154972076,11.200000166893004,6.400000095367432,7.200000107288361,9.600000143051147,8.800000131130219,8.837837965638787,3.0043528667080195,9.6,1.4],\"yaxis\":\"y\",\"type\":\"scatter\"},{\"hovertemplate\":\"level=%{x}\\u003cbr\\u003evalue=%{y}\\u003cextra\\u003e\\u003c\\u002fextra\\u003e\",\"legendgroup\":\"\",\"marker\":{\"color\":\"#636efa\",\"symbol\":\"circle\"},\"mode\":\"markers\",\"name\":\"\",\"orientation\":\"v\",\"showlegend\":false,\"x\":[9,9,9,9,9,9,9,9,9,9,9,9,9,9,9,9,9,9,9,9,9,9,9,9,9,9,9,9,9,9,9,9,9,9,9,9,9,9,9,9,9,9,9,9,9,9,9,9,9,9,9,9,9,9,9,9,9,9,9,9,9,9,9,9,9,9,9,9,9,9,9,9,9,9,9,9,9,9,9,9,9,9,9,9,9,9,9,9,9,9,9,9,9,9,9,9,9,9,9,9,9,9,9,9,9,9,9,9,9,9,9,9,9,9,9,9,9,9,9,9,9,9,9,9,9,9,9,9,9,9,9,9,9,9,9,9,9,9,9,9,9,9,9,9,9,9,9,9,9,9,9,9,9,9,9,9,9,9,9,9,9,9,9,9,9,9,9,9,9,9,9,9,9,9,9,9,9,9,9,9,9,9,9,9,9,9,9,9,9,9,9,9,9,9,9,9,9,9,9,9,9,9,9,9,9,9,9,9,9,9,9,9,9,9,9,9,9,9,9,9,9,9,9,9,9,9,9,9,9,9,9,9,9,9,9,9,9,9,9,9,9,9,9,9,9,9,9,9,9,9,9,9,9,9,9,9,9,9,9,9,9,9,9,9,9,9,9,9,9],\"xaxis\":\"x\",\"y\":[14.40000021457672,8.800000131130219,10.0,11.200000166893004,10.400000154972076,14.40000021457672,13.600000202655792,12.800000190734863,14.40000021457672,2.400000035762787,14.40000021457672,null,8.800000131130219,7.200000107288361,15.20000022649765,12.0,10.400000154972076,null,9.600000143051147,4.000000059604645,29.60000044107437,13.600000202655792,12.000000178813934,1.600000023841858,8.800000131130219,10.400000154972076,13.600000202655792,11.200000166893004,3.200000047683716,null,1.600000023841858,14.40000021457672,12.000000178813934,null,12.800000190734863,8.00000011920929,5.5,null,null,4.800000071525574,12.000000178813934,8.00000011920929,21.60000032186508,11.200000166893004,6.400000095367432,8.00000011920929,9.600000143051147,null,12.000000178813934,12.800000190734863,22.40000033378601,8.00000011920929,10.400000154972076,10.400000154972076,13.600000202655792,5.0,12.000000178813934,null,16.00000023841858,7.200000107288361,7.200000107288361,null,12.800000190734863,17.600000262260437,13.600000202655792,8.00000011920929,null,14.40000021457672,6.400000095367432,6.400000095367432,13.0,null,1.600000023841858,8.800000131130219,10.400000154972076,23.20000034570694,5.600000083446503,null,null,null,9.600000143051147,null,null,12.800000190734863,4.800000071525574,14.40000021457672,14.40000021457672,null,15.20000022649765,0.800000011920929,12.800000190734863,21.60000032186508,null,15.20000022649765,12.000000178813934,12.000000178813934,13.600000202655792,4.000000059604645,12.800000190734863,null,14.40000021457672,12.800000190734863,9.600000143051147,14.40000021457672,4.800000071525574,11.200000166893004,null,9.600000143051147,null,8.800000131130219,null,12.800000190734863,null,8.800000131130219,4.000000059604645,12.800000190734863,null,12.000000178813934,7.5,null,13.600000202655792,null,14.40000021457672,null,6.400000095367432,16.00000023841858,11.200000166893004,8.00000011920929,3.200000047683716,6.400000095367432,21.60000032186508,10.400000154972076,12.800000190734863,2.5,9.600000143051147,1.600000023841858,10.400000154972076,16.00000023841858,8.800000131130219,12.000000178813934,7.5,16.00000023841858,16.00000023841858,12.800000190734863,10.400000154972076,11.200000166893004,4.800000071525574,8.00000011920929,4.000000059604645,6.400000095367432,null,2.400000035762787,null,6.400000095367432,null,27.200000405311584,15.20000022649765,12.800000190734863,null,7.200000107288361,12.000000178813934,8.800000131130219,11.200000166893004,11.200000166893004,8.800000131130219,9.600000143051147,11.200000166893004,9.600000143051147,0.800000011920929,9.600000143051147,15.20000022649765,11.200000166893004,16.800000250339508,3.200000047683716,10.400000154972076,12.800000190734863,12.000000178813934,11.200000166893004,11.200000166893004,12.000000178813934,4.800000071525574,10.400000154972076,12.800000190734863,13.600000202655792,16.800000250339508,null,0.800000011920929,11.200000166893004,12.000000178813934,11.200000166893004,2.400000035762787,null,13.600000202655792,1.600000023841858,18.40000027418137,17.600000262260437,9.600000143051147,8.00000011920929,4.800000071525574,16.800000250339508,12.000000178813934,4.000000059604645,10.400000154972076,8.800000131130219,10.400000154972076,12.800000190734863,11.200000166893004,16.00000023841858,9.600000143051147,null,8.800000131130219,12.000000178813934,8.800000131130219,12.800000190734863,2.0,11.200000166893004,4.800000071525574,13.600000202655792,0.0,14.40000021457672,12.800000190734863,13.600000202655792,9.600000143051147,10.400000154972076,12.000000178813934,null,14.40000021457672,null,24.00000035762787,13.600000202655792,12.000000178813934,8.800000131130219,null,6.400000095367432,null,11.200000166893004,8.800000131130219,12.800000190734863,14.40000021457672,16.00000023841858,12.800000190734863,14.40000021457672,null,7.200000107288361,16.00000023841858,12.000000178813934,12.800000190734863,null,10.400000154972076,15.20000022649765,12.800000190734863,15.20000022649765,8.00000011920929,12.000000178813934,8.00000011920929,3.200000047683716,10.400000154972076,24.00000035762787,9.600000143051147,12.000000178813934,14.40000021457672,9.600000143051147,6.400000095367432,10.400000154972076,9.600000143051147,11.200000166893004,11.200000166893004,10.809691786766052,4.7249356487110346],\"yaxis\":\"y\",\"type\":\"scatter\"},{\"hovertemplate\":\"level=%{x}\\u003cbr\\u003evalue=%{y}\\u003cextra\\u003e\\u003c\\u002fextra\\u003e\",\"legendgroup\":\"\",\"marker\":{\"color\":\"#636efa\",\"symbol\":\"circle\"},\"mode\":\"markers\",\"name\":\"\",\"orientation\":\"v\",\"showlegend\":false,\"x\":[10,10,10,10,10,10,10,10,10,10,10,10,10,10,10,10,10,10,10,10,10,10,10,10,10,10,10,10,10,10,10,10,10,10,10,10,10,10,10,10,10,10,10,10,10,10,10,10,10,10,10,10,10,10,10,10,10,10,10,10,10,10,10,10,10,10,10,10,10,10,10,10,10,10,10,10,10,10,10,10,10,10,10,10,10,10,10,10,10,10,10,10,10,10,10,10,10,10,10,10,10,10,10,10,10,10,10,10,10,10,10,10,10,10,10,10,10,10,10,10,10,10,10,10,10,10,10,10,10,10,10,10,10,10,10,10,10,10,10,10,10,10,10,10,10,10,10,10,10,10,10,10,10,10,10,10,10,10,10,10,10,10,10,10,10,10,10,10,10,10,10,10,10,10,10,10,10,10,10,10,10,10,10,10,10,10,10,10,10,10,10,10,10,10,10,10,10,10,10,10,10,10,10,10,10,10,10,10,10,10,10,10,10,10,10,10,10,10,10,10,10,10,10,10,10,10,10,10,10,10,10,10,10,10,10,10,10,10,10,10,10,10,10,10,10,10,10,10,10,10,10,10,10,10,10,10,10,10,10,10,10,10,10,10,10,10,10,10,10],\"xaxis\":\"x\",\"y\":[null,null,null,null,null,null,null,null,null,null,null,null,null,null,null,null,null,null,null,null,null,null,null,null,null,null,null,null,null,null,null,null,null,null,null,null,null,null,null,null,null,null,null,null,null,null,null,null,null,null,null,null,null,null,null,null,null,null,null,null,null,null,null,null,null,null,null,null,null,null,null,null,null,null,null,null,null,null,null,null,null,null,null,null,null,null,null,null,null,null,null,null,null,null,null,null,null,null,null,null,null,null,null,null,null,null,null,null,null,null,null,null,null,null,null,null,null,null,null,null,null,null,null,null,null,null,null,null,null,null,null,null,null,null,null,null,null,null,null,null,null,null,null,null,null,null,null,null,null,null,null,null,null,null,null,null,null,null,null,null,null,null,null,null,null,null,null,null,null,null,null,null,null,null,null,null,null,null,null,null,null,null,null,null,null,null,null,null,null,null,null,null,null,null,null,null,null,null,null,null,null,null,null,null,null,null,null,null,null,null,null,null,null,null,null,null,null,null,null,null,null,null,null,null,null,null,null,null,null,null,null,null,null,null,null,null,null,null,null,null,null,null,null,null,null,null,null,null,null,null,null,null,null,null,null,null,null,null,null,null,null,null,null,null,null,null,null,null,null],\"yaxis\":\"y\",\"type\":\"scatter\"},{\"hovertemplate\":\"level=%{x}\\u003cbr\\u003evalue=%{y}\\u003cextra\\u003e\\u003c\\u002fextra\\u003e\",\"legendgroup\":\"\",\"marker\":{\"color\":\"#636efa\",\"symbol\":\"circle\"},\"mode\":\"markers\",\"name\":\"\",\"orientation\":\"v\",\"showlegend\":false,\"x\":[11,11,11,11,11,11,11,11,11,11,11,11,11,11,11,11,11,11,11,11,11,11,11,11,11,11,11,11,11,11,11,11,11,11,11,11,11,11,11,11,11,11,11,11,11,11,11,11,11,11,11,11,11,11,11,11,11,11,11,11,11,11,11,11,11,11,11,11,11,11,11,11,11,11,11,11,11,11,11,11,11,11,11,11,11,11,11,11,11,11,11,11,11,11,11,11,11,11,11,11,11,11,11,11,11,11,11,11,11,11,11,11,11,11,11,11,11,11,11,11,11,11,11,11,11,11,11,11,11,11,11,11,11,11,11,11,11,11,11,11,11,11,11,11,11,11,11,11,11,11,11,11,11,11,11,11,11,11,11,11,11,11,11,11,11,11,11,11,11,11,11,11,11,11,11,11,11,11,11,11,11,11,11,11,11,11,11,11,11,11,11,11,11,11,11,11,11,11,11,11,11,11,11,11,11,11,11,11,11,11,11,11,11,11,11,11,11,11,11,11,11,11,11,11,11,11,11,11,11,11,11,11,11,11,11,11,11,11,11,11,11,11,11,11,11,11,11,11,11,11,11,11,11,11,11,11,11,11,11,11,11,11,11,11,11,11,11,11,11],\"xaxis\":\"x\",\"y\":[null,null,null,null,null,null,null,null,null,null,null,null,null,null,null,null,null,null,null,null,null,null,null,null,null,null,null,null,null,null,null,null,null,null,null,null,null,null,null,null,null,null,null,null,null,null,null,null,null,null,null,null,null,null,null,null,null,null,null,null,null,null,null,null,null,null,null,null,null,null,null,null,null,null,null,null,null,null,null,null,null,null,null,null,null,null,null,null,null,null,null,null,null,null,null,null,null,null,null,null,null,null,null,null,null,null,null,null,null,null,null,null,null,null,null,null,null,null,null,null,null,null,null,null,null,null,null,null,null,null,null,null,null,null,null,null,null,null,null,null,null,null,null,null,null,null,null,null,null,null,null,null,null,null,null,null,null,null,null,null,null,null,null,null,null,null,null,null,null,null,null,null,null,null,null,null,null,null,null,null,null,null,null,null,null,null,null,null,null,null,null,null,null,null,null,null,null,null,null,null,null,null,null,null,null,null,null,null,null,null,null,null,null,null,null,null,null,null,null,null,null,null,null,null,null,null,null,null,null,null,null,null,null,null,null,null,null,null,null,null,null,null,null,null,null,null,null,null,null,null,null,null,null,null,null,null,null,null,null,null,null,null,null,null,null,null,null,null,null],\"yaxis\":\"y\",\"type\":\"scatter\"}],                        {\"template\":{\"data\":{\"histogram2dcontour\":[{\"type\":\"histogram2dcontour\",\"colorbar\":{\"outlinewidth\":0,\"ticks\":\"\"},\"colorscale\":[[0.0,\"#0d0887\"],[0.1111111111111111,\"#46039f\"],[0.2222222222222222,\"#7201a8\"],[0.3333333333333333,\"#9c179e\"],[0.4444444444444444,\"#bd3786\"],[0.5555555555555556,\"#d8576b\"],[0.6666666666666666,\"#ed7953\"],[0.7777777777777778,\"#fb9f3a\"],[0.8888888888888888,\"#fdca26\"],[1.0,\"#f0f921\"]]}],\"choropleth\":[{\"type\":\"choropleth\",\"colorbar\":{\"outlinewidth\":0,\"ticks\":\"\"}}],\"histogram2d\":[{\"type\":\"histogram2d\",\"colorbar\":{\"outlinewidth\":0,\"ticks\":\"\"},\"colorscale\":[[0.0,\"#0d0887\"],[0.1111111111111111,\"#46039f\"],[0.2222222222222222,\"#7201a8\"],[0.3333333333333333,\"#9c179e\"],[0.4444444444444444,\"#bd3786\"],[0.5555555555555556,\"#d8576b\"],[0.6666666666666666,\"#ed7953\"],[0.7777777777777778,\"#fb9f3a\"],[0.8888888888888888,\"#fdca26\"],[1.0,\"#f0f921\"]]}],\"heatmap\":[{\"type\":\"heatmap\",\"colorbar\":{\"outlinewidth\":0,\"ticks\":\"\"},\"colorscale\":[[0.0,\"#0d0887\"],[0.1111111111111111,\"#46039f\"],[0.2222222222222222,\"#7201a8\"],[0.3333333333333333,\"#9c179e\"],[0.4444444444444444,\"#bd3786\"],[0.5555555555555556,\"#d8576b\"],[0.6666666666666666,\"#ed7953\"],[0.7777777777777778,\"#fb9f3a\"],[0.8888888888888888,\"#fdca26\"],[1.0,\"#f0f921\"]]}],\"heatmapgl\":[{\"type\":\"heatmapgl\",\"colorbar\":{\"outlinewidth\":0,\"ticks\":\"\"},\"colorscale\":[[0.0,\"#0d0887\"],[0.1111111111111111,\"#46039f\"],[0.2222222222222222,\"#7201a8\"],[0.3333333333333333,\"#9c179e\"],[0.4444444444444444,\"#bd3786\"],[0.5555555555555556,\"#d8576b\"],[0.6666666666666666,\"#ed7953\"],[0.7777777777777778,\"#fb9f3a\"],[0.8888888888888888,\"#fdca26\"],[1.0,\"#f0f921\"]]}],\"contourcarpet\":[{\"type\":\"contourcarpet\",\"colorbar\":{\"outlinewidth\":0,\"ticks\":\"\"}}],\"contour\":[{\"type\":\"contour\",\"colorbar\":{\"outlinewidth\":0,\"ticks\":\"\"},\"colorscale\":[[0.0,\"#0d0887\"],[0.1111111111111111,\"#46039f\"],[0.2222222222222222,\"#7201a8\"],[0.3333333333333333,\"#9c179e\"],[0.4444444444444444,\"#bd3786\"],[0.5555555555555556,\"#d8576b\"],[0.6666666666666666,\"#ed7953\"],[0.7777777777777778,\"#fb9f3a\"],[0.8888888888888888,\"#fdca26\"],[1.0,\"#f0f921\"]]}],\"surface\":[{\"type\":\"surface\",\"colorbar\":{\"outlinewidth\":0,\"ticks\":\"\"},\"colorscale\":[[0.0,\"#0d0887\"],[0.1111111111111111,\"#46039f\"],[0.2222222222222222,\"#7201a8\"],[0.3333333333333333,\"#9c179e\"],[0.4444444444444444,\"#bd3786\"],[0.5555555555555556,\"#d8576b\"],[0.6666666666666666,\"#ed7953\"],[0.7777777777777778,\"#fb9f3a\"],[0.8888888888888888,\"#fdca26\"],[1.0,\"#f0f921\"]]}],\"mesh3d\":[{\"type\":\"mesh3d\",\"colorbar\":{\"outlinewidth\":0,\"ticks\":\"\"}}],\"scatter\":[{\"marker\":{\"line\":{\"color\":\"#283442\"}},\"type\":\"scatter\"}],\"parcoords\":[{\"type\":\"parcoords\",\"line\":{\"colorbar\":{\"outlinewidth\":0,\"ticks\":\"\"}}}],\"scatterpolargl\":[{\"type\":\"scatterpolargl\",\"marker\":{\"colorbar\":{\"outlinewidth\":0,\"ticks\":\"\"}}}],\"bar\":[{\"error_x\":{\"color\":\"#f2f5fa\"},\"error_y\":{\"color\":\"#f2f5fa\"},\"marker\":{\"line\":{\"color\":\"rgb(17,17,17)\",\"width\":0.5},\"pattern\":{\"fillmode\":\"overlay\",\"size\":10,\"solidity\":0.2}},\"type\":\"bar\"}],\"scattergeo\":[{\"type\":\"scattergeo\",\"marker\":{\"colorbar\":{\"outlinewidth\":0,\"ticks\":\"\"}}}],\"scatterpolar\":[{\"type\":\"scatterpolar\",\"marker\":{\"colorbar\":{\"outlinewidth\":0,\"ticks\":\"\"}}}],\"histogram\":[{\"marker\":{\"pattern\":{\"fillmode\":\"overlay\",\"size\":10,\"solidity\":0.2}},\"type\":\"histogram\"}],\"scattergl\":[{\"marker\":{\"line\":{\"color\":\"#283442\"}},\"type\":\"scattergl\"}],\"scatter3d\":[{\"type\":\"scatter3d\",\"line\":{\"colorbar\":{\"outlinewidth\":0,\"ticks\":\"\"}},\"marker\":{\"colorbar\":{\"outlinewidth\":0,\"ticks\":\"\"}}}],\"scattermapbox\":[{\"type\":\"scattermapbox\",\"marker\":{\"colorbar\":{\"outlinewidth\":0,\"ticks\":\"\"}}}],\"scatterternary\":[{\"type\":\"scatterternary\",\"marker\":{\"colorbar\":{\"outlinewidth\":0,\"ticks\":\"\"}}}],\"scattercarpet\":[{\"type\":\"scattercarpet\",\"marker\":{\"colorbar\":{\"outlinewidth\":0,\"ticks\":\"\"}}}],\"carpet\":[{\"aaxis\":{\"endlinecolor\":\"#A2B1C6\",\"gridcolor\":\"#506784\",\"linecolor\":\"#506784\",\"minorgridcolor\":\"#506784\",\"startlinecolor\":\"#A2B1C6\"},\"baxis\":{\"endlinecolor\":\"#A2B1C6\",\"gridcolor\":\"#506784\",\"linecolor\":\"#506784\",\"minorgridcolor\":\"#506784\",\"startlinecolor\":\"#A2B1C6\"},\"type\":\"carpet\"}],\"table\":[{\"cells\":{\"fill\":{\"color\":\"#506784\"},\"line\":{\"color\":\"rgb(17,17,17)\"}},\"header\":{\"fill\":{\"color\":\"#2a3f5f\"},\"line\":{\"color\":\"rgb(17,17,17)\"}},\"type\":\"table\"}],\"barpolar\":[{\"marker\":{\"line\":{\"color\":\"rgb(17,17,17)\",\"width\":0.5},\"pattern\":{\"fillmode\":\"overlay\",\"size\":10,\"solidity\":0.2}},\"type\":\"barpolar\"}],\"pie\":[{\"automargin\":true,\"type\":\"pie\"}]},\"layout\":{\"autotypenumbers\":\"strict\",\"colorway\":[\"#636efa\",\"#EF553B\",\"#00cc96\",\"#ab63fa\",\"#FFA15A\",\"#19d3f3\",\"#FF6692\",\"#B6E880\",\"#FF97FF\",\"#FECB52\"],\"font\":{\"color\":\"#f2f5fa\"},\"hovermode\":\"closest\",\"hoverlabel\":{\"align\":\"left\"},\"paper_bgcolor\":\"rgb(17,17,17)\",\"plot_bgcolor\":\"rgb(17,17,17)\",\"polar\":{\"bgcolor\":\"rgb(17,17,17)\",\"angularaxis\":{\"gridcolor\":\"#506784\",\"linecolor\":\"#506784\",\"ticks\":\"\"},\"radialaxis\":{\"gridcolor\":\"#506784\",\"linecolor\":\"#506784\",\"ticks\":\"\"}},\"ternary\":{\"bgcolor\":\"rgb(17,17,17)\",\"aaxis\":{\"gridcolor\":\"#506784\",\"linecolor\":\"#506784\",\"ticks\":\"\"},\"baxis\":{\"gridcolor\":\"#506784\",\"linecolor\":\"#506784\",\"ticks\":\"\"},\"caxis\":{\"gridcolor\":\"#506784\",\"linecolor\":\"#506784\",\"ticks\":\"\"}},\"coloraxis\":{\"colorbar\":{\"outlinewidth\":0,\"ticks\":\"\"}},\"colorscale\":{\"sequential\":[[0.0,\"#0d0887\"],[0.1111111111111111,\"#46039f\"],[0.2222222222222222,\"#7201a8\"],[0.3333333333333333,\"#9c179e\"],[0.4444444444444444,\"#bd3786\"],[0.5555555555555556,\"#d8576b\"],[0.6666666666666666,\"#ed7953\"],[0.7777777777777778,\"#fb9f3a\"],[0.8888888888888888,\"#fdca26\"],[1.0,\"#f0f921\"]],\"sequentialminus\":[[0.0,\"#0d0887\"],[0.1111111111111111,\"#46039f\"],[0.2222222222222222,\"#7201a8\"],[0.3333333333333333,\"#9c179e\"],[0.4444444444444444,\"#bd3786\"],[0.5555555555555556,\"#d8576b\"],[0.6666666666666666,\"#ed7953\"],[0.7777777777777778,\"#fb9f3a\"],[0.8888888888888888,\"#fdca26\"],[1.0,\"#f0f921\"]],\"diverging\":[[0,\"#8e0152\"],[0.1,\"#c51b7d\"],[0.2,\"#de77ae\"],[0.3,\"#f1b6da\"],[0.4,\"#fde0ef\"],[0.5,\"#f7f7f7\"],[0.6,\"#e6f5d0\"],[0.7,\"#b8e186\"],[0.8,\"#7fbc41\"],[0.9,\"#4d9221\"],[1,\"#276419\"]]},\"xaxis\":{\"gridcolor\":\"#283442\",\"linecolor\":\"#506784\",\"ticks\":\"\",\"title\":{\"standoff\":15},\"zerolinecolor\":\"#283442\",\"automargin\":true,\"zerolinewidth\":2},\"yaxis\":{\"gridcolor\":\"#283442\",\"linecolor\":\"#506784\",\"ticks\":\"\",\"title\":{\"standoff\":15},\"zerolinecolor\":\"#283442\",\"automargin\":true,\"zerolinewidth\":2},\"scene\":{\"xaxis\":{\"backgroundcolor\":\"rgb(17,17,17)\",\"gridcolor\":\"#506784\",\"linecolor\":\"#506784\",\"showbackground\":true,\"ticks\":\"\",\"zerolinecolor\":\"#C8D4E3\",\"gridwidth\":2},\"yaxis\":{\"backgroundcolor\":\"rgb(17,17,17)\",\"gridcolor\":\"#506784\",\"linecolor\":\"#506784\",\"showbackground\":true,\"ticks\":\"\",\"zerolinecolor\":\"#C8D4E3\",\"gridwidth\":2},\"zaxis\":{\"backgroundcolor\":\"rgb(17,17,17)\",\"gridcolor\":\"#506784\",\"linecolor\":\"#506784\",\"showbackground\":true,\"ticks\":\"\",\"zerolinecolor\":\"#C8D4E3\",\"gridwidth\":2}},\"shapedefaults\":{\"line\":{\"color\":\"#f2f5fa\"}},\"annotationdefaults\":{\"arrowcolor\":\"#f2f5fa\",\"arrowhead\":0,\"arrowwidth\":1},\"geo\":{\"bgcolor\":\"rgb(17,17,17)\",\"landcolor\":\"rgb(17,17,17)\",\"subunitcolor\":\"#506784\",\"showland\":true,\"showlakes\":true,\"lakecolor\":\"rgb(17,17,17)\"},\"title\":{\"x\":0.05},\"updatemenudefaults\":{\"bgcolor\":\"#506784\",\"borderwidth\":0},\"sliderdefaults\":{\"bgcolor\":\"#C8D4E3\",\"borderwidth\":1,\"bordercolor\":\"rgb(17,17,17)\",\"tickwidth\":0},\"mapbox\":{\"style\":\"dark\"}}},\"xaxis\":{\"anchor\":\"y\",\"domain\":[0.0,1.0],\"title\":{\"text\":\"level_offset\"}},\"yaxis\":{\"anchor\":\"x\",\"domain\":[0.0,1.0],\"title\":{\"text\":\"mean\"}},\"legend\":{\"title\":{\"text\":\"from\"},\"tracegroupgap\":0},\"margin\":{\"t\":60}},                        {\"responsive\": true}                    ).then(function(){\n                            \nvar gd = document.getElementById('f7a48039-e97c-4e19-ac29-7e81864d7534');\nvar x = new MutationObserver(function (mutations, observer) {{\n        var display = window.getComputedStyle(gd).display;\n        if (!display || display === 'none') {{\n            console.log([gd, 'removed!']);\n            Plotly.purge(gd);\n            observer.disconnect();\n        }}\n}});\n\n// Listen for the removal of the full notebook cells\nvar notebookContainer = gd.closest('#notebook-container');\nif (notebookContainer) {{\n    x.observe(notebookContainer, {childList: true});\n}}\n\n// Listen for the clearing of the current output cell\nvar outputEl = gd.closest('.output');\nif (outputEl) {{\n    x.observe(outputEl, {childList: true});\n}}\n\n                        })                };                });            </script>        </div>"
     },
     "metadata": {},
     "output_type": "display_data"
    }
   ],
   "source": [
    "fig = px.scatter(pivot_df, x=\"level_offset\", y=\"mean\", color=\"from\", error_y=\"std\")\n",
    "for level in df[\"level\"].unique():\n",
    "    df_level = df[df[\"level\"] == level]\n",
    "    mean = df_level.loc[df_level[\"mesure\"] == \"mean\"]\n",
    "    std = df_level.loc[df_level[\"mesure\"] == \"std\"]\n",
    "    #TODO handle nan values\n",
    "    scatter = px.scatter(df_level, x=\"level\", y=\"value\").data[0]\n",
    "    fig.add_trace(scatter)\n",
    "\n",
    "fig.show()"
   ],
   "metadata": {
    "collapsed": false,
    "ExecuteTime": {
     "end_time": "2023-08-08T17:40:54.720499Z",
     "start_time": "2023-08-08T17:40:54.300820Z"
    }
   }
  },
  {
   "cell_type": "markdown",
   "source": [
    "## PMJ DISTANCE"
   ],
   "metadata": {
    "collapsed": false
   }
  },
  {
   "cell_type": "code",
   "execution_count": 63,
   "outputs": [
    {
     "data": {
      "text/plain": "   level                   sub_name  spinal_start  spinal_end  height  \\\n0      2  sub-mountSinai02_103_0000         208.0       219.0     8.8   \n1      3  sub-mountSinai02_103_0000         184.0       203.0    15.2   \n2      4  sub-mountSinai02_103_0000         166.0       179.0    10.4   \n3      5  sub-mountSinai02_103_0000         144.0       155.0     8.8   \n4      6  sub-mountSinai02_103_0000         123.0       136.0    10.4   \n\n   PMJ_start  PMJ_end  \n0        -40      -58  \n1        -65      -75  \n2        -81      -94  \n3        -96     -105  \n4       -110     -118  ",
      "text/html": "<div>\n<style scoped>\n    .dataframe tbody tr th:only-of-type {\n        vertical-align: middle;\n    }\n\n    .dataframe tbody tr th {\n        vertical-align: top;\n    }\n\n    .dataframe thead th {\n        text-align: right;\n    }\n</style>\n<table border=\"1\" class=\"dataframe\">\n  <thead>\n    <tr style=\"text-align: right;\">\n      <th></th>\n      <th>level</th>\n      <th>sub_name</th>\n      <th>spinal_start</th>\n      <th>spinal_end</th>\n      <th>height</th>\n      <th>PMJ_start</th>\n      <th>PMJ_end</th>\n    </tr>\n  </thead>\n  <tbody>\n    <tr>\n      <th>0</th>\n      <td>2</td>\n      <td>sub-mountSinai02_103_0000</td>\n      <td>208.0</td>\n      <td>219.0</td>\n      <td>8.8</td>\n      <td>-40</td>\n      <td>-58</td>\n    </tr>\n    <tr>\n      <th>1</th>\n      <td>3</td>\n      <td>sub-mountSinai02_103_0000</td>\n      <td>184.0</td>\n      <td>203.0</td>\n      <td>15.2</td>\n      <td>-65</td>\n      <td>-75</td>\n    </tr>\n    <tr>\n      <th>2</th>\n      <td>4</td>\n      <td>sub-mountSinai02_103_0000</td>\n      <td>166.0</td>\n      <td>179.0</td>\n      <td>10.4</td>\n      <td>-81</td>\n      <td>-94</td>\n    </tr>\n    <tr>\n      <th>3</th>\n      <td>5</td>\n      <td>sub-mountSinai02_103_0000</td>\n      <td>144.0</td>\n      <td>155.0</td>\n      <td>8.8</td>\n      <td>-96</td>\n      <td>-105</td>\n    </tr>\n    <tr>\n      <th>4</th>\n      <td>6</td>\n      <td>sub-mountSinai02_103_0000</td>\n      <td>123.0</td>\n      <td>136.0</td>\n      <td>10.4</td>\n      <td>-110</td>\n      <td>-118</td>\n    </tr>\n  </tbody>\n</table>\n</div>"
     },
     "metadata": {},
     "output_type": "display_data"
    },
    {
     "data": {
      "text/plain": "   level                   sub_name  spinal_start  spinal_end  height  \\\n0      2  sub-mountSinai02_103_0000         208.0       219.0     8.8   \n1      3  sub-mountSinai02_103_0000         184.0       203.0    15.2   \n2      4  sub-mountSinai02_103_0000         166.0       179.0    10.4   \n3      5  sub-mountSinai02_103_0000         144.0       155.0     8.8   \n4      6  sub-mountSinai02_103_0000         123.0       136.0    10.4   \n\n   PMJ_start  PMJ_end  \n0        NaN      NaN  \n1      -65.0    -75.0  \n2      -81.0    -94.0  \n3      -96.0   -105.0  \n4     -110.0   -118.0  ",
      "text/html": "<div>\n<style scoped>\n    .dataframe tbody tr th:only-of-type {\n        vertical-align: middle;\n    }\n\n    .dataframe tbody tr th {\n        vertical-align: top;\n    }\n\n    .dataframe thead th {\n        text-align: right;\n    }\n</style>\n<table border=\"1\" class=\"dataframe\">\n  <thead>\n    <tr style=\"text-align: right;\">\n      <th></th>\n      <th>level</th>\n      <th>sub_name</th>\n      <th>spinal_start</th>\n      <th>spinal_end</th>\n      <th>height</th>\n      <th>PMJ_start</th>\n      <th>PMJ_end</th>\n    </tr>\n  </thead>\n  <tbody>\n    <tr>\n      <th>0</th>\n      <td>2</td>\n      <td>sub-mountSinai02_103_0000</td>\n      <td>208.0</td>\n      <td>219.0</td>\n      <td>8.8</td>\n      <td>NaN</td>\n      <td>NaN</td>\n    </tr>\n    <tr>\n      <th>1</th>\n      <td>3</td>\n      <td>sub-mountSinai02_103_0000</td>\n      <td>184.0</td>\n      <td>203.0</td>\n      <td>15.2</td>\n      <td>-65.0</td>\n      <td>-75.0</td>\n    </tr>\n    <tr>\n      <th>2</th>\n      <td>4</td>\n      <td>sub-mountSinai02_103_0000</td>\n      <td>166.0</td>\n      <td>179.0</td>\n      <td>10.4</td>\n      <td>-81.0</td>\n      <td>-94.0</td>\n    </tr>\n    <tr>\n      <th>3</th>\n      <td>5</td>\n      <td>sub-mountSinai02_103_0000</td>\n      <td>144.0</td>\n      <td>155.0</td>\n      <td>8.8</td>\n      <td>-96.0</td>\n      <td>-105.0</td>\n    </tr>\n    <tr>\n      <th>4</th>\n      <td>6</td>\n      <td>sub-mountSinai02_103_0000</td>\n      <td>123.0</td>\n      <td>136.0</td>\n      <td>10.4</td>\n      <td>-110.0</td>\n      <td>-118.0</td>\n    </tr>\n  </tbody>\n</table>\n</div>"
     },
     "metadata": {},
     "output_type": "display_data"
    }
   ],
   "source": [
    "PATH_pmj = \"/Users/theomathieu/Downloads/indiv.csv\"\n",
    "df_pmj = pd.read_csv(PATH_pmj)\n",
    "display(df_pmj.head())\n",
    "PATH_cad = \"/Users/theomathieu/Downloads/cadot.csv\"\n",
    "df_cad = pd.read_csv(PATH_cad)\n",
    "display(df_cad.head())"
   ],
   "metadata": {
    "collapsed": false,
    "ExecuteTime": {
     "end_time": "2023-08-09T15:11:01.513731Z",
     "start_time": "2023-08-09T15:11:01.479919Z"
    }
   }
  },
  {
   "cell_type": "code",
   "execution_count": 74,
   "outputs": [
    {
     "data": {
      "application/vnd.plotly.v1+json": {
       "data": [],
       "layout": {
        "template": {
         "data": {
          "histogram2dcontour": [
           {
            "type": "histogram2dcontour",
            "colorbar": {
             "outlinewidth": 0,
             "ticks": ""
            },
            "colorscale": [
             [
              0.0,
              "#0d0887"
             ],
             [
              0.1111111111111111,
              "#46039f"
             ],
             [
              0.2222222222222222,
              "#7201a8"
             ],
             [
              0.3333333333333333,
              "#9c179e"
             ],
             [
              0.4444444444444444,
              "#bd3786"
             ],
             [
              0.5555555555555556,
              "#d8576b"
             ],
             [
              0.6666666666666666,
              "#ed7953"
             ],
             [
              0.7777777777777778,
              "#fb9f3a"
             ],
             [
              0.8888888888888888,
              "#fdca26"
             ],
             [
              1.0,
              "#f0f921"
             ]
            ]
           }
          ],
          "choropleth": [
           {
            "type": "choropleth",
            "colorbar": {
             "outlinewidth": 0,
             "ticks": ""
            }
           }
          ],
          "histogram2d": [
           {
            "type": "histogram2d",
            "colorbar": {
             "outlinewidth": 0,
             "ticks": ""
            },
            "colorscale": [
             [
              0.0,
              "#0d0887"
             ],
             [
              0.1111111111111111,
              "#46039f"
             ],
             [
              0.2222222222222222,
              "#7201a8"
             ],
             [
              0.3333333333333333,
              "#9c179e"
             ],
             [
              0.4444444444444444,
              "#bd3786"
             ],
             [
              0.5555555555555556,
              "#d8576b"
             ],
             [
              0.6666666666666666,
              "#ed7953"
             ],
             [
              0.7777777777777778,
              "#fb9f3a"
             ],
             [
              0.8888888888888888,
              "#fdca26"
             ],
             [
              1.0,
              "#f0f921"
             ]
            ]
           }
          ],
          "heatmap": [
           {
            "type": "heatmap",
            "colorbar": {
             "outlinewidth": 0,
             "ticks": ""
            },
            "colorscale": [
             [
              0.0,
              "#0d0887"
             ],
             [
              0.1111111111111111,
              "#46039f"
             ],
             [
              0.2222222222222222,
              "#7201a8"
             ],
             [
              0.3333333333333333,
              "#9c179e"
             ],
             [
              0.4444444444444444,
              "#bd3786"
             ],
             [
              0.5555555555555556,
              "#d8576b"
             ],
             [
              0.6666666666666666,
              "#ed7953"
             ],
             [
              0.7777777777777778,
              "#fb9f3a"
             ],
             [
              0.8888888888888888,
              "#fdca26"
             ],
             [
              1.0,
              "#f0f921"
             ]
            ]
           }
          ],
          "heatmapgl": [
           {
            "type": "heatmapgl",
            "colorbar": {
             "outlinewidth": 0,
             "ticks": ""
            },
            "colorscale": [
             [
              0.0,
              "#0d0887"
             ],
             [
              0.1111111111111111,
              "#46039f"
             ],
             [
              0.2222222222222222,
              "#7201a8"
             ],
             [
              0.3333333333333333,
              "#9c179e"
             ],
             [
              0.4444444444444444,
              "#bd3786"
             ],
             [
              0.5555555555555556,
              "#d8576b"
             ],
             [
              0.6666666666666666,
              "#ed7953"
             ],
             [
              0.7777777777777778,
              "#fb9f3a"
             ],
             [
              0.8888888888888888,
              "#fdca26"
             ],
             [
              1.0,
              "#f0f921"
             ]
            ]
           }
          ],
          "contourcarpet": [
           {
            "type": "contourcarpet",
            "colorbar": {
             "outlinewidth": 0,
             "ticks": ""
            }
           }
          ],
          "contour": [
           {
            "type": "contour",
            "colorbar": {
             "outlinewidth": 0,
             "ticks": ""
            },
            "colorscale": [
             [
              0.0,
              "#0d0887"
             ],
             [
              0.1111111111111111,
              "#46039f"
             ],
             [
              0.2222222222222222,
              "#7201a8"
             ],
             [
              0.3333333333333333,
              "#9c179e"
             ],
             [
              0.4444444444444444,
              "#bd3786"
             ],
             [
              0.5555555555555556,
              "#d8576b"
             ],
             [
              0.6666666666666666,
              "#ed7953"
             ],
             [
              0.7777777777777778,
              "#fb9f3a"
             ],
             [
              0.8888888888888888,
              "#fdca26"
             ],
             [
              1.0,
              "#f0f921"
             ]
            ]
           }
          ],
          "surface": [
           {
            "type": "surface",
            "colorbar": {
             "outlinewidth": 0,
             "ticks": ""
            },
            "colorscale": [
             [
              0.0,
              "#0d0887"
             ],
             [
              0.1111111111111111,
              "#46039f"
             ],
             [
              0.2222222222222222,
              "#7201a8"
             ],
             [
              0.3333333333333333,
              "#9c179e"
             ],
             [
              0.4444444444444444,
              "#bd3786"
             ],
             [
              0.5555555555555556,
              "#d8576b"
             ],
             [
              0.6666666666666666,
              "#ed7953"
             ],
             [
              0.7777777777777778,
              "#fb9f3a"
             ],
             [
              0.8888888888888888,
              "#fdca26"
             ],
             [
              1.0,
              "#f0f921"
             ]
            ]
           }
          ],
          "mesh3d": [
           {
            "type": "mesh3d",
            "colorbar": {
             "outlinewidth": 0,
             "ticks": ""
            }
           }
          ],
          "scatter": [
           {
            "marker": {
             "line": {
              "color": "#283442"
             }
            },
            "type": "scatter"
           }
          ],
          "parcoords": [
           {
            "type": "parcoords",
            "line": {
             "colorbar": {
              "outlinewidth": 0,
              "ticks": ""
             }
            }
           }
          ],
          "scatterpolargl": [
           {
            "type": "scatterpolargl",
            "marker": {
             "colorbar": {
              "outlinewidth": 0,
              "ticks": ""
             }
            }
           }
          ],
          "bar": [
           {
            "error_x": {
             "color": "#f2f5fa"
            },
            "error_y": {
             "color": "#f2f5fa"
            },
            "marker": {
             "line": {
              "color": "rgb(17,17,17)",
              "width": 0.5
             },
             "pattern": {
              "fillmode": "overlay",
              "size": 10,
              "solidity": 0.2
             }
            },
            "type": "bar"
           }
          ],
          "scattergeo": [
           {
            "type": "scattergeo",
            "marker": {
             "colorbar": {
              "outlinewidth": 0,
              "ticks": ""
             }
            }
           }
          ],
          "scatterpolar": [
           {
            "type": "scatterpolar",
            "marker": {
             "colorbar": {
              "outlinewidth": 0,
              "ticks": ""
             }
            }
           }
          ],
          "histogram": [
           {
            "marker": {
             "pattern": {
              "fillmode": "overlay",
              "size": 10,
              "solidity": 0.2
             }
            },
            "type": "histogram"
           }
          ],
          "scattergl": [
           {
            "marker": {
             "line": {
              "color": "#283442"
             }
            },
            "type": "scattergl"
           }
          ],
          "scatter3d": [
           {
            "type": "scatter3d",
            "line": {
             "colorbar": {
              "outlinewidth": 0,
              "ticks": ""
             }
            },
            "marker": {
             "colorbar": {
              "outlinewidth": 0,
              "ticks": ""
             }
            }
           }
          ],
          "scattermapbox": [
           {
            "type": "scattermapbox",
            "marker": {
             "colorbar": {
              "outlinewidth": 0,
              "ticks": ""
             }
            }
           }
          ],
          "scatterternary": [
           {
            "type": "scatterternary",
            "marker": {
             "colorbar": {
              "outlinewidth": 0,
              "ticks": ""
             }
            }
           }
          ],
          "scattercarpet": [
           {
            "type": "scattercarpet",
            "marker": {
             "colorbar": {
              "outlinewidth": 0,
              "ticks": ""
             }
            }
           }
          ],
          "carpet": [
           {
            "aaxis": {
             "endlinecolor": "#A2B1C6",
             "gridcolor": "#506784",
             "linecolor": "#506784",
             "minorgridcolor": "#506784",
             "startlinecolor": "#A2B1C6"
            },
            "baxis": {
             "endlinecolor": "#A2B1C6",
             "gridcolor": "#506784",
             "linecolor": "#506784",
             "minorgridcolor": "#506784",
             "startlinecolor": "#A2B1C6"
            },
            "type": "carpet"
           }
          ],
          "table": [
           {
            "cells": {
             "fill": {
              "color": "#506784"
             },
             "line": {
              "color": "rgb(17,17,17)"
             }
            },
            "header": {
             "fill": {
              "color": "#2a3f5f"
             },
             "line": {
              "color": "rgb(17,17,17)"
             }
            },
            "type": "table"
           }
          ],
          "barpolar": [
           {
            "marker": {
             "line": {
              "color": "rgb(17,17,17)",
              "width": 0.5
             },
             "pattern": {
              "fillmode": "overlay",
              "size": 10,
              "solidity": 0.2
             }
            },
            "type": "barpolar"
           }
          ],
          "pie": [
           {
            "automargin": true,
            "type": "pie"
           }
          ]
         },
         "layout": {
          "autotypenumbers": "strict",
          "colorway": [
           "#636efa",
           "#EF553B",
           "#00cc96",
           "#ab63fa",
           "#FFA15A",
           "#19d3f3",
           "#FF6692",
           "#B6E880",
           "#FF97FF",
           "#FECB52"
          ],
          "font": {
           "color": "#f2f5fa"
          },
          "hovermode": "closest",
          "hoverlabel": {
           "align": "left"
          },
          "paper_bgcolor": "rgb(17,17,17)",
          "plot_bgcolor": "rgb(17,17,17)",
          "polar": {
           "bgcolor": "rgb(17,17,17)",
           "angularaxis": {
            "gridcolor": "#506784",
            "linecolor": "#506784",
            "ticks": ""
           },
           "radialaxis": {
            "gridcolor": "#506784",
            "linecolor": "#506784",
            "ticks": ""
           }
          },
          "ternary": {
           "bgcolor": "rgb(17,17,17)",
           "aaxis": {
            "gridcolor": "#506784",
            "linecolor": "#506784",
            "ticks": ""
           },
           "baxis": {
            "gridcolor": "#506784",
            "linecolor": "#506784",
            "ticks": ""
           },
           "caxis": {
            "gridcolor": "#506784",
            "linecolor": "#506784",
            "ticks": ""
           }
          },
          "coloraxis": {
           "colorbar": {
            "outlinewidth": 0,
            "ticks": ""
           }
          },
          "colorscale": {
           "sequential": [
            [
             0.0,
             "#0d0887"
            ],
            [
             0.1111111111111111,
             "#46039f"
            ],
            [
             0.2222222222222222,
             "#7201a8"
            ],
            [
             0.3333333333333333,
             "#9c179e"
            ],
            [
             0.4444444444444444,
             "#bd3786"
            ],
            [
             0.5555555555555556,
             "#d8576b"
            ],
            [
             0.6666666666666666,
             "#ed7953"
            ],
            [
             0.7777777777777778,
             "#fb9f3a"
            ],
            [
             0.8888888888888888,
             "#fdca26"
            ],
            [
             1.0,
             "#f0f921"
            ]
           ],
           "sequentialminus": [
            [
             0.0,
             "#0d0887"
            ],
            [
             0.1111111111111111,
             "#46039f"
            ],
            [
             0.2222222222222222,
             "#7201a8"
            ],
            [
             0.3333333333333333,
             "#9c179e"
            ],
            [
             0.4444444444444444,
             "#bd3786"
            ],
            [
             0.5555555555555556,
             "#d8576b"
            ],
            [
             0.6666666666666666,
             "#ed7953"
            ],
            [
             0.7777777777777778,
             "#fb9f3a"
            ],
            [
             0.8888888888888888,
             "#fdca26"
            ],
            [
             1.0,
             "#f0f921"
            ]
           ],
           "diverging": [
            [
             0,
             "#8e0152"
            ],
            [
             0.1,
             "#c51b7d"
            ],
            [
             0.2,
             "#de77ae"
            ],
            [
             0.3,
             "#f1b6da"
            ],
            [
             0.4,
             "#fde0ef"
            ],
            [
             0.5,
             "#f7f7f7"
            ],
            [
             0.6,
             "#e6f5d0"
            ],
            [
             0.7,
             "#b8e186"
            ],
            [
             0.8,
             "#7fbc41"
            ],
            [
             0.9,
             "#4d9221"
            ],
            [
             1,
             "#276419"
            ]
           ]
          },
          "xaxis": {
           "gridcolor": "#283442",
           "linecolor": "#506784",
           "ticks": "",
           "title": {
            "standoff": 15
           },
           "zerolinecolor": "#283442",
           "automargin": true,
           "zerolinewidth": 2
          },
          "yaxis": {
           "gridcolor": "#283442",
           "linecolor": "#506784",
           "ticks": "",
           "title": {
            "standoff": 15
           },
           "zerolinecolor": "#283442",
           "automargin": true,
           "zerolinewidth": 2
          },
          "scene": {
           "xaxis": {
            "backgroundcolor": "rgb(17,17,17)",
            "gridcolor": "#506784",
            "linecolor": "#506784",
            "showbackground": true,
            "ticks": "",
            "zerolinecolor": "#C8D4E3",
            "gridwidth": 2
           },
           "yaxis": {
            "backgroundcolor": "rgb(17,17,17)",
            "gridcolor": "#506784",
            "linecolor": "#506784",
            "showbackground": true,
            "ticks": "",
            "zerolinecolor": "#C8D4E3",
            "gridwidth": 2
           },
           "zaxis": {
            "backgroundcolor": "rgb(17,17,17)",
            "gridcolor": "#506784",
            "linecolor": "#506784",
            "showbackground": true,
            "ticks": "",
            "zerolinecolor": "#C8D4E3",
            "gridwidth": 2
           }
          },
          "shapedefaults": {
           "line": {
            "color": "#f2f5fa"
           }
          },
          "annotationdefaults": {
           "arrowcolor": "#f2f5fa",
           "arrowhead": 0,
           "arrowwidth": 1
          },
          "geo": {
           "bgcolor": "rgb(17,17,17)",
           "landcolor": "rgb(17,17,17)",
           "subunitcolor": "#506784",
           "showland": true,
           "showlakes": true,
           "lakecolor": "rgb(17,17,17)"
          },
          "title": {
           "x": 0.05
          },
          "updatemenudefaults": {
           "bgcolor": "#506784",
           "borderwidth": 0
          },
          "sliderdefaults": {
           "bgcolor": "#C8D4E3",
           "borderwidth": 1,
           "bordercolor": "rgb(17,17,17)",
           "tickwidth": 0
          },
          "mapbox": {
           "style": "dark"
          }
         }
        },
        "shapes": [
         {
          "fillcolor": "#5B6C5D",
          "line": {
           "color": "#5B6C5D",
           "width": 2
          },
          "name": "Predicted 2",
          "type": "rect",
          "x0": 0.7,
          "x1": 0.95,
          "y0": -40,
          "y1": -58
         },
         {
          "fillcolor": "#5CC878",
          "line": {
           "color": "#5CC878",
           "width": 2
          },
          "name": "Predicted 3",
          "type": "rect",
          "x0": 0.7,
          "x1": 0.95,
          "y0": -65,
          "y1": -75
         },
         {
          "line": {
           "color": "#5CC878",
           "width": 3
          },
          "name": "Cadotte 3",
          "type": "rect",
          "x0": 1.05,
          "x1": 1.3,
          "y0": -65.0,
          "y1": -75.0
         },
         {
          "fillcolor": "#FF707D",
          "line": {
           "color": "#FF707D",
           "width": 2
          },
          "name": "Predicted 4",
          "type": "rect",
          "x0": 0.7,
          "x1": 0.95,
          "y0": -81,
          "y1": -94
         },
         {
          "line": {
           "color": "#FF707D",
           "width": 3
          },
          "name": "Cadotte 4",
          "type": "rect",
          "x0": 1.05,
          "x1": 1.3,
          "y0": -81.0,
          "y1": -94.0
         },
         {
          "fillcolor": "#64DEDC",
          "line": {
           "color": "#64DEDC",
           "width": 2
          },
          "name": "Predicted 5",
          "type": "rect",
          "x0": 0.7,
          "x1": 0.95,
          "y0": -96,
          "y1": -105
         },
         {
          "line": {
           "color": "#64DEDC",
           "width": 3
          },
          "name": "Cadotte 5",
          "type": "rect",
          "x0": 1.05,
          "x1": 1.3,
          "y0": -96.0,
          "y1": -105.0
         },
         {
          "fillcolor": "#D682C6",
          "line": {
           "color": "#D682C6",
           "width": 2
          },
          "name": "Predicted 6",
          "type": "rect",
          "x0": 0.7,
          "x1": 0.95,
          "y0": -110,
          "y1": -118
         },
         {
          "line": {
           "color": "#D682C6",
           "width": 3
          },
          "name": "Cadotte 6",
          "type": "rect",
          "x0": 1.05,
          "x1": 1.3,
          "y0": -110.0,
          "y1": -118.0
         },
         {
          "fillcolor": "#E1E074",
          "line": {
           "color": "#E1E074",
           "width": 2
          },
          "name": "Predicted 7",
          "type": "rect",
          "x0": 0.7,
          "x1": 0.95,
          "y0": -125,
          "y1": -138
         },
         {
          "line": {
           "color": "#E1E074",
           "width": 3
          },
          "name": "Cadotte 7",
          "type": "rect",
          "x0": 1.05,
          "x1": 1.3,
          "y0": -125.0,
          "y1": -138.0
         },
         {
          "fillcolor": "#738282",
          "line": {
           "color": "#738282",
           "width": 2
          },
          "name": "Predicted 8",
          "type": "rect",
          "x0": 0.7,
          "x1": 0.95,
          "y0": -150,
          "y1": -165
         },
         {
          "line": {
           "color": "#738282",
           "width": 3
          },
          "name": "Cadotte 8",
          "type": "rect",
          "x0": 1.05,
          "x1": 1.3,
          "y0": -150.0,
          "y1": -165.0
         },
         {
          "fillcolor": "#C16200",
          "line": {
           "color": "#C16200",
           "width": 2
          },
          "name": "Predicted 9",
          "type": "rect",
          "x0": 0.7,
          "x1": 0.95,
          "y0": -170,
          "y1": -185
         },
         {
          "line": {
           "color": "#C16200",
           "width": 3
          },
          "name": "Cadotte 9",
          "type": "rect",
          "x0": 1.05,
          "x1": 1.3,
          "y0": -170.0,
          "y1": -185.0
         },
         {
          "fillcolor": "#197278",
          "line": {
           "color": "#197278",
           "width": 2
          },
          "name": "Predicted 10",
          "type": "rect",
          "x0": 0.7,
          "x1": 0.95,
          "y0": -190,
          "y1": -200
         },
         {
          "fillcolor": "#EF9CDA",
          "line": {
           "color": "#EF9CDA",
           "width": 2
          },
          "name": "Predicted 11",
          "type": "rect",
          "x0": 0.7,
          "x1": 0.95,
          "y0": -210,
          "y1": -230
         }
        ],
        "xaxis": {
         "title": {
          "text": "Subject"
         },
         "range": [
          0,
          10
         ],
         "ticktext": [
          "1",
          "2",
          "3",
          "4",
          "5",
          "6",
          "7",
          "8",
          "9"
         ],
         "tickvals": [
          1,
          2,
          3,
          4,
          5,
          6,
          7,
          8,
          9
         ]
        },
        "yaxis": {
         "title": {
          "text": "PMJ distance (PMJ = 0 mm)"
         },
         "range": [
          -255,
          2
         ],
         "autorange": "reversed"
        },
        "title": {
         "text": "Nerve rootlet layout"
        },
        "showlegend": true
       },
       "config": {
        "plotlyServerURL": "https://plot.ly"
       }
      },
      "text/html": "<div>                            <div id=\"83a3d0be-4af8-4f04-b9cd-17e2d115bc5e\" class=\"plotly-graph-div\" style=\"height:525px; width:100%;\"></div>            <script type=\"text/javascript\">                require([\"plotly\"], function(Plotly) {                    window.PLOTLYENV=window.PLOTLYENV || {};                                    if (document.getElementById(\"83a3d0be-4af8-4f04-b9cd-17e2d115bc5e\")) {                    Plotly.newPlot(                        \"83a3d0be-4af8-4f04-b9cd-17e2d115bc5e\",                        [],                        {\"template\":{\"data\":{\"histogram2dcontour\":[{\"type\":\"histogram2dcontour\",\"colorbar\":{\"outlinewidth\":0,\"ticks\":\"\"},\"colorscale\":[[0.0,\"#0d0887\"],[0.1111111111111111,\"#46039f\"],[0.2222222222222222,\"#7201a8\"],[0.3333333333333333,\"#9c179e\"],[0.4444444444444444,\"#bd3786\"],[0.5555555555555556,\"#d8576b\"],[0.6666666666666666,\"#ed7953\"],[0.7777777777777778,\"#fb9f3a\"],[0.8888888888888888,\"#fdca26\"],[1.0,\"#f0f921\"]]}],\"choropleth\":[{\"type\":\"choropleth\",\"colorbar\":{\"outlinewidth\":0,\"ticks\":\"\"}}],\"histogram2d\":[{\"type\":\"histogram2d\",\"colorbar\":{\"outlinewidth\":0,\"ticks\":\"\"},\"colorscale\":[[0.0,\"#0d0887\"],[0.1111111111111111,\"#46039f\"],[0.2222222222222222,\"#7201a8\"],[0.3333333333333333,\"#9c179e\"],[0.4444444444444444,\"#bd3786\"],[0.5555555555555556,\"#d8576b\"],[0.6666666666666666,\"#ed7953\"],[0.7777777777777778,\"#fb9f3a\"],[0.8888888888888888,\"#fdca26\"],[1.0,\"#f0f921\"]]}],\"heatmap\":[{\"type\":\"heatmap\",\"colorbar\":{\"outlinewidth\":0,\"ticks\":\"\"},\"colorscale\":[[0.0,\"#0d0887\"],[0.1111111111111111,\"#46039f\"],[0.2222222222222222,\"#7201a8\"],[0.3333333333333333,\"#9c179e\"],[0.4444444444444444,\"#bd3786\"],[0.5555555555555556,\"#d8576b\"],[0.6666666666666666,\"#ed7953\"],[0.7777777777777778,\"#fb9f3a\"],[0.8888888888888888,\"#fdca26\"],[1.0,\"#f0f921\"]]}],\"heatmapgl\":[{\"type\":\"heatmapgl\",\"colorbar\":{\"outlinewidth\":0,\"ticks\":\"\"},\"colorscale\":[[0.0,\"#0d0887\"],[0.1111111111111111,\"#46039f\"],[0.2222222222222222,\"#7201a8\"],[0.3333333333333333,\"#9c179e\"],[0.4444444444444444,\"#bd3786\"],[0.5555555555555556,\"#d8576b\"],[0.6666666666666666,\"#ed7953\"],[0.7777777777777778,\"#fb9f3a\"],[0.8888888888888888,\"#fdca26\"],[1.0,\"#f0f921\"]]}],\"contourcarpet\":[{\"type\":\"contourcarpet\",\"colorbar\":{\"outlinewidth\":0,\"ticks\":\"\"}}],\"contour\":[{\"type\":\"contour\",\"colorbar\":{\"outlinewidth\":0,\"ticks\":\"\"},\"colorscale\":[[0.0,\"#0d0887\"],[0.1111111111111111,\"#46039f\"],[0.2222222222222222,\"#7201a8\"],[0.3333333333333333,\"#9c179e\"],[0.4444444444444444,\"#bd3786\"],[0.5555555555555556,\"#d8576b\"],[0.6666666666666666,\"#ed7953\"],[0.7777777777777778,\"#fb9f3a\"],[0.8888888888888888,\"#fdca26\"],[1.0,\"#f0f921\"]]}],\"surface\":[{\"type\":\"surface\",\"colorbar\":{\"outlinewidth\":0,\"ticks\":\"\"},\"colorscale\":[[0.0,\"#0d0887\"],[0.1111111111111111,\"#46039f\"],[0.2222222222222222,\"#7201a8\"],[0.3333333333333333,\"#9c179e\"],[0.4444444444444444,\"#bd3786\"],[0.5555555555555556,\"#d8576b\"],[0.6666666666666666,\"#ed7953\"],[0.7777777777777778,\"#fb9f3a\"],[0.8888888888888888,\"#fdca26\"],[1.0,\"#f0f921\"]]}],\"mesh3d\":[{\"type\":\"mesh3d\",\"colorbar\":{\"outlinewidth\":0,\"ticks\":\"\"}}],\"scatter\":[{\"marker\":{\"line\":{\"color\":\"#283442\"}},\"type\":\"scatter\"}],\"parcoords\":[{\"type\":\"parcoords\",\"line\":{\"colorbar\":{\"outlinewidth\":0,\"ticks\":\"\"}}}],\"scatterpolargl\":[{\"type\":\"scatterpolargl\",\"marker\":{\"colorbar\":{\"outlinewidth\":0,\"ticks\":\"\"}}}],\"bar\":[{\"error_x\":{\"color\":\"#f2f5fa\"},\"error_y\":{\"color\":\"#f2f5fa\"},\"marker\":{\"line\":{\"color\":\"rgb(17,17,17)\",\"width\":0.5},\"pattern\":{\"fillmode\":\"overlay\",\"size\":10,\"solidity\":0.2}},\"type\":\"bar\"}],\"scattergeo\":[{\"type\":\"scattergeo\",\"marker\":{\"colorbar\":{\"outlinewidth\":0,\"ticks\":\"\"}}}],\"scatterpolar\":[{\"type\":\"scatterpolar\",\"marker\":{\"colorbar\":{\"outlinewidth\":0,\"ticks\":\"\"}}}],\"histogram\":[{\"marker\":{\"pattern\":{\"fillmode\":\"overlay\",\"size\":10,\"solidity\":0.2}},\"type\":\"histogram\"}],\"scattergl\":[{\"marker\":{\"line\":{\"color\":\"#283442\"}},\"type\":\"scattergl\"}],\"scatter3d\":[{\"type\":\"scatter3d\",\"line\":{\"colorbar\":{\"outlinewidth\":0,\"ticks\":\"\"}},\"marker\":{\"colorbar\":{\"outlinewidth\":0,\"ticks\":\"\"}}}],\"scattermapbox\":[{\"type\":\"scattermapbox\",\"marker\":{\"colorbar\":{\"outlinewidth\":0,\"ticks\":\"\"}}}],\"scatterternary\":[{\"type\":\"scatterternary\",\"marker\":{\"colorbar\":{\"outlinewidth\":0,\"ticks\":\"\"}}}],\"scattercarpet\":[{\"type\":\"scattercarpet\",\"marker\":{\"colorbar\":{\"outlinewidth\":0,\"ticks\":\"\"}}}],\"carpet\":[{\"aaxis\":{\"endlinecolor\":\"#A2B1C6\",\"gridcolor\":\"#506784\",\"linecolor\":\"#506784\",\"minorgridcolor\":\"#506784\",\"startlinecolor\":\"#A2B1C6\"},\"baxis\":{\"endlinecolor\":\"#A2B1C6\",\"gridcolor\":\"#506784\",\"linecolor\":\"#506784\",\"minorgridcolor\":\"#506784\",\"startlinecolor\":\"#A2B1C6\"},\"type\":\"carpet\"}],\"table\":[{\"cells\":{\"fill\":{\"color\":\"#506784\"},\"line\":{\"color\":\"rgb(17,17,17)\"}},\"header\":{\"fill\":{\"color\":\"#2a3f5f\"},\"line\":{\"color\":\"rgb(17,17,17)\"}},\"type\":\"table\"}],\"barpolar\":[{\"marker\":{\"line\":{\"color\":\"rgb(17,17,17)\",\"width\":0.5},\"pattern\":{\"fillmode\":\"overlay\",\"size\":10,\"solidity\":0.2}},\"type\":\"barpolar\"}],\"pie\":[{\"automargin\":true,\"type\":\"pie\"}]},\"layout\":{\"autotypenumbers\":\"strict\",\"colorway\":[\"#636efa\",\"#EF553B\",\"#00cc96\",\"#ab63fa\",\"#FFA15A\",\"#19d3f3\",\"#FF6692\",\"#B6E880\",\"#FF97FF\",\"#FECB52\"],\"font\":{\"color\":\"#f2f5fa\"},\"hovermode\":\"closest\",\"hoverlabel\":{\"align\":\"left\"},\"paper_bgcolor\":\"rgb(17,17,17)\",\"plot_bgcolor\":\"rgb(17,17,17)\",\"polar\":{\"bgcolor\":\"rgb(17,17,17)\",\"angularaxis\":{\"gridcolor\":\"#506784\",\"linecolor\":\"#506784\",\"ticks\":\"\"},\"radialaxis\":{\"gridcolor\":\"#506784\",\"linecolor\":\"#506784\",\"ticks\":\"\"}},\"ternary\":{\"bgcolor\":\"rgb(17,17,17)\",\"aaxis\":{\"gridcolor\":\"#506784\",\"linecolor\":\"#506784\",\"ticks\":\"\"},\"baxis\":{\"gridcolor\":\"#506784\",\"linecolor\":\"#506784\",\"ticks\":\"\"},\"caxis\":{\"gridcolor\":\"#506784\",\"linecolor\":\"#506784\",\"ticks\":\"\"}},\"coloraxis\":{\"colorbar\":{\"outlinewidth\":0,\"ticks\":\"\"}},\"colorscale\":{\"sequential\":[[0.0,\"#0d0887\"],[0.1111111111111111,\"#46039f\"],[0.2222222222222222,\"#7201a8\"],[0.3333333333333333,\"#9c179e\"],[0.4444444444444444,\"#bd3786\"],[0.5555555555555556,\"#d8576b\"],[0.6666666666666666,\"#ed7953\"],[0.7777777777777778,\"#fb9f3a\"],[0.8888888888888888,\"#fdca26\"],[1.0,\"#f0f921\"]],\"sequentialminus\":[[0.0,\"#0d0887\"],[0.1111111111111111,\"#46039f\"],[0.2222222222222222,\"#7201a8\"],[0.3333333333333333,\"#9c179e\"],[0.4444444444444444,\"#bd3786\"],[0.5555555555555556,\"#d8576b\"],[0.6666666666666666,\"#ed7953\"],[0.7777777777777778,\"#fb9f3a\"],[0.8888888888888888,\"#fdca26\"],[1.0,\"#f0f921\"]],\"diverging\":[[0,\"#8e0152\"],[0.1,\"#c51b7d\"],[0.2,\"#de77ae\"],[0.3,\"#f1b6da\"],[0.4,\"#fde0ef\"],[0.5,\"#f7f7f7\"],[0.6,\"#e6f5d0\"],[0.7,\"#b8e186\"],[0.8,\"#7fbc41\"],[0.9,\"#4d9221\"],[1,\"#276419\"]]},\"xaxis\":{\"gridcolor\":\"#283442\",\"linecolor\":\"#506784\",\"ticks\":\"\",\"title\":{\"standoff\":15},\"zerolinecolor\":\"#283442\",\"automargin\":true,\"zerolinewidth\":2},\"yaxis\":{\"gridcolor\":\"#283442\",\"linecolor\":\"#506784\",\"ticks\":\"\",\"title\":{\"standoff\":15},\"zerolinecolor\":\"#283442\",\"automargin\":true,\"zerolinewidth\":2},\"scene\":{\"xaxis\":{\"backgroundcolor\":\"rgb(17,17,17)\",\"gridcolor\":\"#506784\",\"linecolor\":\"#506784\",\"showbackground\":true,\"ticks\":\"\",\"zerolinecolor\":\"#C8D4E3\",\"gridwidth\":2},\"yaxis\":{\"backgroundcolor\":\"rgb(17,17,17)\",\"gridcolor\":\"#506784\",\"linecolor\":\"#506784\",\"showbackground\":true,\"ticks\":\"\",\"zerolinecolor\":\"#C8D4E3\",\"gridwidth\":2},\"zaxis\":{\"backgroundcolor\":\"rgb(17,17,17)\",\"gridcolor\":\"#506784\",\"linecolor\":\"#506784\",\"showbackground\":true,\"ticks\":\"\",\"zerolinecolor\":\"#C8D4E3\",\"gridwidth\":2}},\"shapedefaults\":{\"line\":{\"color\":\"#f2f5fa\"}},\"annotationdefaults\":{\"arrowcolor\":\"#f2f5fa\",\"arrowhead\":0,\"arrowwidth\":1},\"geo\":{\"bgcolor\":\"rgb(17,17,17)\",\"landcolor\":\"rgb(17,17,17)\",\"subunitcolor\":\"#506784\",\"showland\":true,\"showlakes\":true,\"lakecolor\":\"rgb(17,17,17)\"},\"title\":{\"x\":0.05},\"updatemenudefaults\":{\"bgcolor\":\"#506784\",\"borderwidth\":0},\"sliderdefaults\":{\"bgcolor\":\"#C8D4E3\",\"borderwidth\":1,\"bordercolor\":\"rgb(17,17,17)\",\"tickwidth\":0},\"mapbox\":{\"style\":\"dark\"}}},\"shapes\":[{\"fillcolor\":\"#5B6C5D\",\"line\":{\"color\":\"#5B6C5D\",\"width\":2},\"name\":\"Predicted 2\",\"type\":\"rect\",\"x0\":0.7,\"x1\":0.95,\"y0\":-40,\"y1\":-58},{\"fillcolor\":\"#5CC878\",\"line\":{\"color\":\"#5CC878\",\"width\":2},\"name\":\"Predicted 3\",\"type\":\"rect\",\"x0\":0.7,\"x1\":0.95,\"y0\":-65,\"y1\":-75},{\"line\":{\"color\":\"#5CC878\",\"width\":3},\"name\":\"Cadotte 3\",\"type\":\"rect\",\"x0\":1.05,\"x1\":1.3,\"y0\":-65.0,\"y1\":-75.0},{\"fillcolor\":\"#FF707D\",\"line\":{\"color\":\"#FF707D\",\"width\":2},\"name\":\"Predicted 4\",\"type\":\"rect\",\"x0\":0.7,\"x1\":0.95,\"y0\":-81,\"y1\":-94},{\"line\":{\"color\":\"#FF707D\",\"width\":3},\"name\":\"Cadotte 4\",\"type\":\"rect\",\"x0\":1.05,\"x1\":1.3,\"y0\":-81.0,\"y1\":-94.0},{\"fillcolor\":\"#64DEDC\",\"line\":{\"color\":\"#64DEDC\",\"width\":2},\"name\":\"Predicted 5\",\"type\":\"rect\",\"x0\":0.7,\"x1\":0.95,\"y0\":-96,\"y1\":-105},{\"line\":{\"color\":\"#64DEDC\",\"width\":3},\"name\":\"Cadotte 5\",\"type\":\"rect\",\"x0\":1.05,\"x1\":1.3,\"y0\":-96.0,\"y1\":-105.0},{\"fillcolor\":\"#D682C6\",\"line\":{\"color\":\"#D682C6\",\"width\":2},\"name\":\"Predicted 6\",\"type\":\"rect\",\"x0\":0.7,\"x1\":0.95,\"y0\":-110,\"y1\":-118},{\"line\":{\"color\":\"#D682C6\",\"width\":3},\"name\":\"Cadotte 6\",\"type\":\"rect\",\"x0\":1.05,\"x1\":1.3,\"y0\":-110.0,\"y1\":-118.0},{\"fillcolor\":\"#E1E074\",\"line\":{\"color\":\"#E1E074\",\"width\":2},\"name\":\"Predicted 7\",\"type\":\"rect\",\"x0\":0.7,\"x1\":0.95,\"y0\":-125,\"y1\":-138},{\"line\":{\"color\":\"#E1E074\",\"width\":3},\"name\":\"Cadotte 7\",\"type\":\"rect\",\"x0\":1.05,\"x1\":1.3,\"y0\":-125.0,\"y1\":-138.0},{\"fillcolor\":\"#738282\",\"line\":{\"color\":\"#738282\",\"width\":2},\"name\":\"Predicted 8\",\"type\":\"rect\",\"x0\":0.7,\"x1\":0.95,\"y0\":-150,\"y1\":-165},{\"line\":{\"color\":\"#738282\",\"width\":3},\"name\":\"Cadotte 8\",\"type\":\"rect\",\"x0\":1.05,\"x1\":1.3,\"y0\":-150.0,\"y1\":-165.0},{\"fillcolor\":\"#C16200\",\"line\":{\"color\":\"#C16200\",\"width\":2},\"name\":\"Predicted 9\",\"type\":\"rect\",\"x0\":0.7,\"x1\":0.95,\"y0\":-170,\"y1\":-185},{\"line\":{\"color\":\"#C16200\",\"width\":3},\"name\":\"Cadotte 9\",\"type\":\"rect\",\"x0\":1.05,\"x1\":1.3,\"y0\":-170.0,\"y1\":-185.0},{\"fillcolor\":\"#197278\",\"line\":{\"color\":\"#197278\",\"width\":2},\"name\":\"Predicted 10\",\"type\":\"rect\",\"x0\":0.7,\"x1\":0.95,\"y0\":-190,\"y1\":-200},{\"fillcolor\":\"#EF9CDA\",\"line\":{\"color\":\"#EF9CDA\",\"width\":2},\"name\":\"Predicted 11\",\"type\":\"rect\",\"x0\":0.7,\"x1\":0.95,\"y0\":-210,\"y1\":-230}],\"xaxis\":{\"title\":{\"text\":\"Subject\"},\"range\":[0,10],\"ticktext\":[\"1\",\"2\",\"3\",\"4\",\"5\",\"6\",\"7\",\"8\",\"9\"],\"tickvals\":[1,2,3,4,5,6,7,8,9]},\"yaxis\":{\"title\":{\"text\":\"PMJ distance (PMJ = 0 mm)\"},\"range\":[-255,2],\"autorange\":\"reversed\"},\"title\":{\"text\":\"Nerve rootlet layout\"},\"showlegend\":true},                        {\"responsive\": true}                    ).then(function(){\n                            \nvar gd = document.getElementById('83a3d0be-4af8-4f04-b9cd-17e2d115bc5e');\nvar x = new MutationObserver(function (mutations, observer) {{\n        var display = window.getComputedStyle(gd).display;\n        if (!display || display === 'none') {{\n            console.log([gd, 'removed!']);\n            Plotly.purge(gd);\n            observer.disconnect();\n        }}\n}});\n\n// Listen for the removal of the full notebook cells\nvar notebookContainer = gd.closest('#notebook-container');\nif (notebookContainer) {{\n    x.observe(notebookContainer, {childList: true});\n}}\n\n// Listen for the clearing of the current output cell\nvar outputEl = gd.closest('.output');\nif (outputEl) {{\n    x.observe(outputEl, {childList: true});\n}}\n\n                        })                };                });            </script>        </div>"
     },
     "metadata": {},
     "output_type": "display_data"
    }
   ],
   "source": [
    "subject = 1\n",
    "colors = ['#5B6C5D', '#5CC878', '#FF707D', '#64DEDC', '#D682C6', '#E1E074','#738282', '#C16200', '#197278', '#EF9CDA']\n",
    "fig = go.Figure()\n",
    "for idx, level in enumerate(df_pmj[\"level\"].unique()):\n",
    "    df_level_pmj = df_pmj[df_pmj[\"level\"] == level]\n",
    "    df_level_cad = df_cad[df_cad[\"level\"] == level]\n",
    "    if not np.isnan(df_level_pmj[\"PMJ_start\"].values[0]):\n",
    "        fig.add_shape(\n",
    "            type=\"rect\",\n",
    "            x0=subject-0.3, y0=df_level_pmj[\"PMJ_start\"].values[0], x1=subject-0.05, y1=df_level_pmj[\"PMJ_end\"].values[0],\n",
    "            line=dict(color=colors[idx], width=2),\n",
    "            fillcolor=colors[idx],\n",
    "            name=f\"Predicted {level}\"\n",
    "        )\n",
    "    if not np.isnan(df_level_cad[\"PMJ_start\"].values[0]):\n",
    "        fig.add_shape(\n",
    "            type=\"rect\",\n",
    "            x0=subject+0.05, y0=df_level_cad[\"PMJ_start\"].values[0], x1=subject+0.3, y1=df_level_cad[\"PMJ_end\"].values[0],\n",
    "            line=dict(color=colors[idx], width=3),\n",
    "            name=f\"Cadotte {level}\"\n",
    "        )\n",
    "fig.update_layout(\n",
    "    title=\"Nerve rootlet layout\",\n",
    "    xaxis_title=\"Subject\",\n",
    "    yaxis_title=\"PMJ distance (PMJ = 0 mm)\",\n",
    "    xaxis_range=[0, 10],  # Adjust the x-axis range as needed\n",
    "    yaxis_range=[min(df_pmj[\"PMJ_end\"])-25, 2],  # Adjust the y-axis range as needed\n",
    "    yaxis_autorange='reversed',\n",
    "    showlegend=True,\n",
    "    xaxis=dict(ticktext=[str(x) for x in range(1,10)], tickvals=[*range(1,10)])\n",
    ")\n",
    "fig.show()"
   ],
   "metadata": {
    "collapsed": false,
    "ExecuteTime": {
     "end_time": "2023-08-09T15:19:14.340564Z",
     "start_time": "2023-08-09T15:19:14.276887Z"
    }
   }
  },
  {
   "cell_type": "code",
   "execution_count": null,
   "outputs": [],
   "source": [],
   "metadata": {
    "collapsed": false
   }
  }
 ],
 "metadata": {
  "kernelspec": {
   "display_name": "Python 3 (ipykernel)",
   "language": "python",
   "name": "python3"
  },
  "language_info": {
   "codemirror_mode": {
    "name": "ipython",
    "version": 3
   },
   "file_extension": ".py",
   "mimetype": "text/x-python",
   "name": "python",
   "nbconvert_exporter": "python",
   "pygments_lexer": "ipython3",
   "version": "3.9.16"
  }
 },
 "nbformat": 4,
 "nbformat_minor": 1
}
