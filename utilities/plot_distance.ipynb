{
 "cells": [
  {
   "cell_type": "markdown",
   "metadata": {},
   "source": [
    "# Notebook to plot the distribution of the caudal-rostral length of the spinal levels"
   ]
  },
  {
   "cell_type": "code",
   "execution_count": 19,
   "metadata": {
    "ExecuteTime": {
     "end_time": "2023-08-15T17:19:35.303702Z",
     "start_time": "2023-08-15T17:19:35.252907Z"
    }
   },
   "outputs": [],
   "source": [
    "import pandas as pd\n",
    "import plotly.express as px\n",
    "import plotly.graph_objects as go\n",
    "import numpy as np\n",
    "import os"
   ]
  },
  {
   "cell_type": "code",
   "execution_count": 20,
   "metadata": {
    "ExecuteTime": {
     "end_time": "2023-08-15T17:19:37.883669Z",
     "start_time": "2023-08-15T17:19:37.768484Z"
    }
   },
   "outputs": [],
   "source": [
    "# Path to csv files with information about the spinal levels\n",
    "PATH_pred = \"/Users/theomathieu/Documents/Stage/results_img/spine-generic/dist_pred.csv\""
   ]
  },
  {
   "cell_type": "code",
   "execution_count": 21,
   "metadata": {
    "ExecuteTime": {
     "end_time": "2023-08-15T17:19:38.575624Z",
     "start_time": "2023-08-15T17:19:38.524867Z"
    }
   },
   "outputs": [
    {
     "data": {
      "text/plain": "   level                   sub_name  spinal_start  spinal_end  height  \\\n0      2  sub-mountSinai02_103_0000         208.0       219.0     8.8   \n1      3  sub-mountSinai02_103_0000         184.0       203.0    15.2   \n2      4  sub-mountSinai02_103_0000         166.0       179.0    10.4   \n3      5  sub-mountSinai02_103_0000         144.0       155.0     8.8   \n4      6  sub-mountSinai02_103_0000         123.0       136.0    10.4   \n\n   vertebrae_start  vertebrae_end  \n0                0              1  \n1                0              1  \n2                0              1  \n3                0              1  \n4                0              1  ",
      "text/html": "<div>\n<style scoped>\n    .dataframe tbody tr th:only-of-type {\n        vertical-align: middle;\n    }\n\n    .dataframe tbody tr th {\n        vertical-align: top;\n    }\n\n    .dataframe thead th {\n        text-align: right;\n    }\n</style>\n<table border=\"1\" class=\"dataframe\">\n  <thead>\n    <tr style=\"text-align: right;\">\n      <th></th>\n      <th>level</th>\n      <th>sub_name</th>\n      <th>spinal_start</th>\n      <th>spinal_end</th>\n      <th>height</th>\n      <th>vertebrae_start</th>\n      <th>vertebrae_end</th>\n    </tr>\n  </thead>\n  <tbody>\n    <tr>\n      <th>0</th>\n      <td>2</td>\n      <td>sub-mountSinai02_103_0000</td>\n      <td>208.0</td>\n      <td>219.0</td>\n      <td>8.8</td>\n      <td>0</td>\n      <td>1</td>\n    </tr>\n    <tr>\n      <th>1</th>\n      <td>3</td>\n      <td>sub-mountSinai02_103_0000</td>\n      <td>184.0</td>\n      <td>203.0</td>\n      <td>15.2</td>\n      <td>0</td>\n      <td>1</td>\n    </tr>\n    <tr>\n      <th>2</th>\n      <td>4</td>\n      <td>sub-mountSinai02_103_0000</td>\n      <td>166.0</td>\n      <td>179.0</td>\n      <td>10.4</td>\n      <td>0</td>\n      <td>1</td>\n    </tr>\n    <tr>\n      <th>3</th>\n      <td>5</td>\n      <td>sub-mountSinai02_103_0000</td>\n      <td>144.0</td>\n      <td>155.0</td>\n      <td>8.8</td>\n      <td>0</td>\n      <td>1</td>\n    </tr>\n    <tr>\n      <th>4</th>\n      <td>6</td>\n      <td>sub-mountSinai02_103_0000</td>\n      <td>123.0</td>\n      <td>136.0</td>\n      <td>10.4</td>\n      <td>0</td>\n      <td>1</td>\n    </tr>\n  </tbody>\n</table>\n</div>"
     },
     "metadata": {},
     "output_type": "display_data"
    }
   ],
   "source": [
    "df_pred = pd.read_csv(PATH_pred)\n",
    "display(df_pred.head())"
   ]
  },
  {
   "cell_type": "code",
   "execution_count": 22,
   "metadata": {
    "ExecuteTime": {
     "end_time": "2023-08-15T17:19:39.621863Z",
     "start_time": "2023-08-15T17:19:39.570102Z"
    }
   },
   "outputs": [],
   "source": [
    "# Add z-score to find outliers\n",
    "z_scores = (df_pred['height'] - df_pred['height'].mean()) / df_pred['height'].std()\n",
    "df_pred[\"z_scores\"] = z_scores"
   ]
  },
  {
   "cell_type": "markdown",
   "metadata": {
    "collapsed": false,
    "jupyter": {
     "outputs_hidden": false
    }
   },
   "source": [
    "### Dataframe creation"
   ]
  },
  {
   "cell_type": "code",
   "execution_count": 23,
   "metadata": {
    "collapsed": false,
    "jupyter": {
     "outputs_hidden": false
    },
    "ExecuteTime": {
     "end_time": "2023-08-15T17:19:40.835157Z",
     "start_time": "2023-08-15T17:19:40.831349Z"
    }
   },
   "outputs": [
    {
     "data": {
      "text/plain": "   value  level  mesure        from\n0    8.8      2  length  pred_value\n1   15.2      3  length  pred_value\n2   10.4      4  length  pred_value\n3    8.8      5  length  pred_value\n4   10.4      6  length  pred_value",
      "text/html": "<div>\n<style scoped>\n    .dataframe tbody tr th:only-of-type {\n        vertical-align: middle;\n    }\n\n    .dataframe tbody tr th {\n        vertical-align: top;\n    }\n\n    .dataframe thead th {\n        text-align: right;\n    }\n</style>\n<table border=\"1\" class=\"dataframe\">\n  <thead>\n    <tr style=\"text-align: right;\">\n      <th></th>\n      <th>value</th>\n      <th>level</th>\n      <th>mesure</th>\n      <th>from</th>\n    </tr>\n  </thead>\n  <tbody>\n    <tr>\n      <th>0</th>\n      <td>8.8</td>\n      <td>2</td>\n      <td>length</td>\n      <td>pred_value</td>\n    </tr>\n    <tr>\n      <th>1</th>\n      <td>15.2</td>\n      <td>3</td>\n      <td>length</td>\n      <td>pred_value</td>\n    </tr>\n    <tr>\n      <th>2</th>\n      <td>10.4</td>\n      <td>4</td>\n      <td>length</td>\n      <td>pred_value</td>\n    </tr>\n    <tr>\n      <th>3</th>\n      <td>8.8</td>\n      <td>5</td>\n      <td>length</td>\n      <td>pred_value</td>\n    </tr>\n    <tr>\n      <th>4</th>\n      <td>10.4</td>\n      <td>6</td>\n      <td>length</td>\n      <td>pred_value</td>\n    </tr>\n  </tbody>\n</table>\n</div>"
     },
     "metadata": {},
     "output_type": "display_data"
    }
   ],
   "source": [
    "df_height = df_pred[[\"height\", \"level\"]].copy()\n",
    "df_height[\"mesure\"] = \"length\"\n",
    "df_height[\"from\"] = \"pred_value\"\n",
    "df_height.rename(columns={\"height\": \"value\"}, inplace=True)\n",
    "display(df_height.head())"
   ]
  },
  {
   "cell_type": "code",
   "execution_count": 24,
   "metadata": {
    "collapsed": false,
    "jupyter": {
     "outputs_hidden": false
    },
    "ExecuteTime": {
     "end_time": "2023-08-15T17:19:41.965731Z",
     "start_time": "2023-08-15T17:19:41.913993Z"
    }
   },
   "outputs": [
    {
     "data": {
      "text/plain": "   value  level  mesure        from\n0    8.8      2  length  pred_value\n1   15.2      3  length  pred_value\n2   10.4      4  length  pred_value\n3    8.8      5  length  pred_value\n4   10.4      6  length  pred_value",
      "text/html": "<div>\n<style scoped>\n    .dataframe tbody tr th:only-of-type {\n        vertical-align: middle;\n    }\n\n    .dataframe tbody tr th {\n        vertical-align: top;\n    }\n\n    .dataframe thead th {\n        text-align: right;\n    }\n</style>\n<table border=\"1\" class=\"dataframe\">\n  <thead>\n    <tr style=\"text-align: right;\">\n      <th></th>\n      <th>value</th>\n      <th>level</th>\n      <th>mesure</th>\n      <th>from</th>\n    </tr>\n  </thead>\n  <tbody>\n    <tr>\n      <th>0</th>\n      <td>8.8</td>\n      <td>2</td>\n      <td>length</td>\n      <td>pred_value</td>\n    </tr>\n    <tr>\n      <th>1</th>\n      <td>15.2</td>\n      <td>3</td>\n      <td>length</td>\n      <td>pred_value</td>\n    </tr>\n    <tr>\n      <th>2</th>\n      <td>10.4</td>\n      <td>4</td>\n      <td>length</td>\n      <td>pred_value</td>\n    </tr>\n    <tr>\n      <th>3</th>\n      <td>8.8</td>\n      <td>5</td>\n      <td>length</td>\n      <td>pred_value</td>\n    </tr>\n    <tr>\n      <th>4</th>\n      <td>10.4</td>\n      <td>6</td>\n      <td>length</td>\n      <td>pred_value</td>\n    </tr>\n  </tbody>\n</table>\n</div>"
     },
     "metadata": {},
     "output_type": "display_data"
    }
   ],
   "source": [
    "for level in df_height[\"level\"].unique():\n",
    "    new_line_mean = pd.DataFrame({\"value\": [df_height.loc[df_height[\"level\"] == level, \"value\"].mean()],\n",
    "                                  \"level\": [level.astype(int)],\n",
    "                                  \"mesure\": [\"mean\"],\n",
    "                                  \"from\": [\"pred\"]})\n",
    "    df_height = pd.concat([df_height, new_line_mean], ignore_index=True)\n",
    "    new_line_std = pd.DataFrame({\"value\": [df_height.loc[df_height[\"level\"] == level, \"value\"].std()],\n",
    "                                 \"level\": [level.astype(int)],\n",
    "                                 \"mesure\": [\"std\"],\n",
    "                                 \"from\": [\"pred\"]})\n",
    "    df_height = pd.concat([df_height, new_line_std], ignore_index=True)\n",
    "display(df_height.head())"
   ]
  },
  {
   "cell_type": "code",
   "execution_count": 25,
   "metadata": {
    "collapsed": false,
    "jupyter": {
     "outputs_hidden": false
    },
    "ExecuteTime": {
     "end_time": "2023-08-15T17:19:42.838981Z",
     "start_time": "2023-08-15T17:19:42.815795Z"
    }
   },
   "outputs": [
    {
     "data": {
      "text/plain": "   value  level     from mesure\n0   10.5      3  cadotte   mean\n1    9.9      4  cadotte   mean\n2   10.5      5  cadotte   mean\n3    9.7      6  cadotte   mean\n4    9.4      7  cadotte   mean",
      "text/html": "<div>\n<style scoped>\n    .dataframe tbody tr th:only-of-type {\n        vertical-align: middle;\n    }\n\n    .dataframe tbody tr th {\n        vertical-align: top;\n    }\n\n    .dataframe thead th {\n        text-align: right;\n    }\n</style>\n<table border=\"1\" class=\"dataframe\">\n  <thead>\n    <tr style=\"text-align: right;\">\n      <th></th>\n      <th>value</th>\n      <th>level</th>\n      <th>from</th>\n      <th>mesure</th>\n    </tr>\n  </thead>\n  <tbody>\n    <tr>\n      <th>0</th>\n      <td>10.5</td>\n      <td>3</td>\n      <td>cadotte</td>\n      <td>mean</td>\n    </tr>\n    <tr>\n      <th>1</th>\n      <td>9.9</td>\n      <td>4</td>\n      <td>cadotte</td>\n      <td>mean</td>\n    </tr>\n    <tr>\n      <th>2</th>\n      <td>10.5</td>\n      <td>5</td>\n      <td>cadotte</td>\n      <td>mean</td>\n    </tr>\n    <tr>\n      <th>3</th>\n      <td>9.7</td>\n      <td>6</td>\n      <td>cadotte</td>\n      <td>mean</td>\n    </tr>\n    <tr>\n      <th>4</th>\n      <td>9.4</td>\n      <td>7</td>\n      <td>cadotte</td>\n      <td>mean</td>\n    </tr>\n  </tbody>\n</table>\n</div>"
     },
     "metadata": {},
     "output_type": "display_data"
    },
    {
     "data": {
      "text/plain": "   value  level  mesure        from\n0    8.8      2  length  pred_value\n1   15.2      3  length  pred_value\n2   10.4      4  length  pred_value\n3    8.8      5  length  pred_value\n4   10.4      6  length  pred_value",
      "text/html": "<div>\n<style scoped>\n    .dataframe tbody tr th:only-of-type {\n        vertical-align: middle;\n    }\n\n    .dataframe tbody tr th {\n        vertical-align: top;\n    }\n\n    .dataframe thead th {\n        text-align: right;\n    }\n</style>\n<table border=\"1\" class=\"dataframe\">\n  <thead>\n    <tr style=\"text-align: right;\">\n      <th></th>\n      <th>value</th>\n      <th>level</th>\n      <th>mesure</th>\n      <th>from</th>\n    </tr>\n  </thead>\n  <tbody>\n    <tr>\n      <th>0</th>\n      <td>8.8</td>\n      <td>2</td>\n      <td>length</td>\n      <td>pred_value</td>\n    </tr>\n    <tr>\n      <th>1</th>\n      <td>15.2</td>\n      <td>3</td>\n      <td>length</td>\n      <td>pred_value</td>\n    </tr>\n    <tr>\n      <th>2</th>\n      <td>10.4</td>\n      <td>4</td>\n      <td>length</td>\n      <td>pred_value</td>\n    </tr>\n    <tr>\n      <th>3</th>\n      <td>8.8</td>\n      <td>5</td>\n      <td>length</td>\n      <td>pred_value</td>\n    </tr>\n    <tr>\n      <th>4</th>\n      <td>10.4</td>\n      <td>6</td>\n      <td>length</td>\n      <td>pred_value</td>\n    </tr>\n  </tbody>\n</table>\n</div>"
     },
     "metadata": {},
     "output_type": "display_data"
    },
    {
     "data": {
      "text/plain": "mesure  level     from       mean       std  level_offset\n0           2     pred   5.430159  2.128017           1.9\n1           3  cadotte  10.500000  2.200000           3.1\n2           3     pred  10.422222  2.242638           2.9\n3           4  cadotte   9.900000  1.300000           4.1\n4           4     pred   6.953448  2.296077           3.9",
      "text/html": "<div>\n<style scoped>\n    .dataframe tbody tr th:only-of-type {\n        vertical-align: middle;\n    }\n\n    .dataframe tbody tr th {\n        vertical-align: top;\n    }\n\n    .dataframe thead th {\n        text-align: right;\n    }\n</style>\n<table border=\"1\" class=\"dataframe\">\n  <thead>\n    <tr style=\"text-align: right;\">\n      <th>mesure</th>\n      <th>level</th>\n      <th>from</th>\n      <th>mean</th>\n      <th>std</th>\n      <th>level_offset</th>\n    </tr>\n  </thead>\n  <tbody>\n    <tr>\n      <th>0</th>\n      <td>2</td>\n      <td>pred</td>\n      <td>5.430159</td>\n      <td>2.128017</td>\n      <td>1.9</td>\n    </tr>\n    <tr>\n      <th>1</th>\n      <td>3</td>\n      <td>cadotte</td>\n      <td>10.500000</td>\n      <td>2.200000</td>\n      <td>3.1</td>\n    </tr>\n    <tr>\n      <th>2</th>\n      <td>3</td>\n      <td>pred</td>\n      <td>10.422222</td>\n      <td>2.242638</td>\n      <td>2.9</td>\n    </tr>\n    <tr>\n      <th>3</th>\n      <td>4</td>\n      <td>cadotte</td>\n      <td>9.900000</td>\n      <td>1.300000</td>\n      <td>4.1</td>\n    </tr>\n    <tr>\n      <th>4</th>\n      <td>4</td>\n      <td>pred</td>\n      <td>6.953448</td>\n      <td>2.296077</td>\n      <td>3.9</td>\n    </tr>\n  </tbody>\n</table>\n</div>"
     },
     "metadata": {},
     "output_type": "display_data"
    }
   ],
   "source": [
    "cadotte = {\n",
    "    '3': {'mean': 10.5, 'std': 2.2},\n",
    "    '4': {'mean': 9.9, 'std': 1.3},\n",
    "    '5': {'mean': 10.5, 'std': 1.5},\n",
    "    '6': {'mean': 9.7, 'std': 1.6},\n",
    "    '7': {'mean': 9.4, 'std': 1.4},\n",
    "    '8': {'mean': 9.6, 'std': 1.4},\n",
    "}\n",
    "df_cadotte_mean = pd.DataFrame(cadotte).T[['mean']]\n",
    "df_cadotte_mean[\"level\"] = df_cadotte_mean.index.astype(int)\n",
    "df_cadotte_mean[\"from\"] = \"cadotte\"\n",
    "df_cadotte_mean[\"mesure\"] = \"mean\"\n",
    "df_cadotte_mean.rename(columns={\"mean\": \"value\"}, inplace=True)\n",
    "df_cadotte_std = pd.DataFrame(cadotte).T[['std']]\n",
    "df_cadotte_std[\"level\"] = df_cadotte_mean.index.astype(int)\n",
    "df_cadotte_std[\"from\"] = \"cadotte\"\n",
    "df_cadotte_std[\"mesure\"] = \"std\"\n",
    "df_cadotte_std.rename(columns={\"std\": \"value\"}, inplace=True)\n",
    "df_cadotte = pd.concat([df_cadotte_mean, df_cadotte_std], ignore_index=True)\n",
    "display(df_cadotte.head())\n",
    "df = pd.concat([df_height, df_cadotte], ignore_index=True)\n",
    "display(df.head())\n",
    "df_mean_std = df[df[\"mesure\"] != \"length\"]\n",
    "pivot_df = df_mean_std.pivot_table(index=['level', 'from'], columns='mesure', values='value', aggfunc='first')\n",
    "\n",
    "# Reset the index\n",
    "pivot_df = pivot_df.reset_index()\n",
    "pivot_df['level_offset'] = pivot_df.apply(\n",
    "    lambda row: row['level'] - 0.1 if row['from'] == 'pred' else row['level'] + 0.1, axis=1)\n",
    "display(pivot_df.head())"
   ]
  },
  {
   "cell_type": "code",
   "execution_count": 26,
   "metadata": {
    "collapsed": false,
    "jupyter": {
     "outputs_hidden": false
    },
    "ExecuteTime": {
     "end_time": "2023-08-15T17:19:43.531613Z",
     "start_time": "2023-08-15T17:19:43.422867Z"
    }
   },
   "outputs": [
    {
     "data": {
      "application/vnd.plotly.v1+json": {
       "data": [
        {
         "error_y": {
          "array": [
           2.1280168380319537,
           2.2426383908144945,
           2.2960773095123144,
           2.3138004502062812,
           2.955178306671152,
           2.9949821264442433,
           3.0043528667080195,
           4.7249356487110346
          ]
         },
         "hovertemplate": "from=pred<br>level_offset=%{x}<br>mean=%{y}<extra></extra>",
         "legendgroup": "pred",
         "marker": {
          "color": "#636efa",
          "symbol": "circle"
         },
         "mode": "markers",
         "name": "pred",
         "orientation": "v",
         "showlegend": true,
         "x": [
          1.9,
          2.9,
          3.9,
          4.9,
          5.9,
          6.9,
          7.9,
          8.9
         ],
         "xaxis": "x",
         "y": [
          5.430158807644768,
          10.422222370193118,
          6.953448373952816,
          5.999557607205568,
          7.139743691835648,
          8.242918573479797,
          8.837837965638787,
          10.809691786766052
         ],
         "yaxis": "y",
         "type": "scatter"
        },
        {
         "error_y": {
          "array": [
           2.2,
           1.3,
           1.5,
           1.6,
           1.4,
           1.4
          ]
         },
         "hovertemplate": "from=cadotte<br>level_offset=%{x}<br>mean=%{y}<extra></extra>",
         "legendgroup": "cadotte",
         "marker": {
          "color": "#EF553B",
          "symbol": "circle"
         },
         "mode": "markers",
         "name": "cadotte",
         "orientation": "v",
         "showlegend": true,
         "x": [
          3.1,
          4.1,
          5.1,
          6.1,
          7.1,
          8.1
         ],
         "xaxis": "x",
         "y": [
          10.5,
          9.9,
          10.5,
          9.7,
          9.4,
          9.6
         ],
         "yaxis": "y",
         "type": "scatter"
        }
       ],
       "layout": {
        "template": {
         "data": {
          "histogram2dcontour": [
           {
            "type": "histogram2dcontour",
            "colorbar": {
             "outlinewidth": 0,
             "ticks": ""
            },
            "colorscale": [
             [
              0.0,
              "#0d0887"
             ],
             [
              0.1111111111111111,
              "#46039f"
             ],
             [
              0.2222222222222222,
              "#7201a8"
             ],
             [
              0.3333333333333333,
              "#9c179e"
             ],
             [
              0.4444444444444444,
              "#bd3786"
             ],
             [
              0.5555555555555556,
              "#d8576b"
             ],
             [
              0.6666666666666666,
              "#ed7953"
             ],
             [
              0.7777777777777778,
              "#fb9f3a"
             ],
             [
              0.8888888888888888,
              "#fdca26"
             ],
             [
              1.0,
              "#f0f921"
             ]
            ]
           }
          ],
          "choropleth": [
           {
            "type": "choropleth",
            "colorbar": {
             "outlinewidth": 0,
             "ticks": ""
            }
           }
          ],
          "histogram2d": [
           {
            "type": "histogram2d",
            "colorbar": {
             "outlinewidth": 0,
             "ticks": ""
            },
            "colorscale": [
             [
              0.0,
              "#0d0887"
             ],
             [
              0.1111111111111111,
              "#46039f"
             ],
             [
              0.2222222222222222,
              "#7201a8"
             ],
             [
              0.3333333333333333,
              "#9c179e"
             ],
             [
              0.4444444444444444,
              "#bd3786"
             ],
             [
              0.5555555555555556,
              "#d8576b"
             ],
             [
              0.6666666666666666,
              "#ed7953"
             ],
             [
              0.7777777777777778,
              "#fb9f3a"
             ],
             [
              0.8888888888888888,
              "#fdca26"
             ],
             [
              1.0,
              "#f0f921"
             ]
            ]
           }
          ],
          "heatmap": [
           {
            "type": "heatmap",
            "colorbar": {
             "outlinewidth": 0,
             "ticks": ""
            },
            "colorscale": [
             [
              0.0,
              "#0d0887"
             ],
             [
              0.1111111111111111,
              "#46039f"
             ],
             [
              0.2222222222222222,
              "#7201a8"
             ],
             [
              0.3333333333333333,
              "#9c179e"
             ],
             [
              0.4444444444444444,
              "#bd3786"
             ],
             [
              0.5555555555555556,
              "#d8576b"
             ],
             [
              0.6666666666666666,
              "#ed7953"
             ],
             [
              0.7777777777777778,
              "#fb9f3a"
             ],
             [
              0.8888888888888888,
              "#fdca26"
             ],
             [
              1.0,
              "#f0f921"
             ]
            ]
           }
          ],
          "heatmapgl": [
           {
            "type": "heatmapgl",
            "colorbar": {
             "outlinewidth": 0,
             "ticks": ""
            },
            "colorscale": [
             [
              0.0,
              "#0d0887"
             ],
             [
              0.1111111111111111,
              "#46039f"
             ],
             [
              0.2222222222222222,
              "#7201a8"
             ],
             [
              0.3333333333333333,
              "#9c179e"
             ],
             [
              0.4444444444444444,
              "#bd3786"
             ],
             [
              0.5555555555555556,
              "#d8576b"
             ],
             [
              0.6666666666666666,
              "#ed7953"
             ],
             [
              0.7777777777777778,
              "#fb9f3a"
             ],
             [
              0.8888888888888888,
              "#fdca26"
             ],
             [
              1.0,
              "#f0f921"
             ]
            ]
           }
          ],
          "contourcarpet": [
           {
            "type": "contourcarpet",
            "colorbar": {
             "outlinewidth": 0,
             "ticks": ""
            }
           }
          ],
          "contour": [
           {
            "type": "contour",
            "colorbar": {
             "outlinewidth": 0,
             "ticks": ""
            },
            "colorscale": [
             [
              0.0,
              "#0d0887"
             ],
             [
              0.1111111111111111,
              "#46039f"
             ],
             [
              0.2222222222222222,
              "#7201a8"
             ],
             [
              0.3333333333333333,
              "#9c179e"
             ],
             [
              0.4444444444444444,
              "#bd3786"
             ],
             [
              0.5555555555555556,
              "#d8576b"
             ],
             [
              0.6666666666666666,
              "#ed7953"
             ],
             [
              0.7777777777777778,
              "#fb9f3a"
             ],
             [
              0.8888888888888888,
              "#fdca26"
             ],
             [
              1.0,
              "#f0f921"
             ]
            ]
           }
          ],
          "surface": [
           {
            "type": "surface",
            "colorbar": {
             "outlinewidth": 0,
             "ticks": ""
            },
            "colorscale": [
             [
              0.0,
              "#0d0887"
             ],
             [
              0.1111111111111111,
              "#46039f"
             ],
             [
              0.2222222222222222,
              "#7201a8"
             ],
             [
              0.3333333333333333,
              "#9c179e"
             ],
             [
              0.4444444444444444,
              "#bd3786"
             ],
             [
              0.5555555555555556,
              "#d8576b"
             ],
             [
              0.6666666666666666,
              "#ed7953"
             ],
             [
              0.7777777777777778,
              "#fb9f3a"
             ],
             [
              0.8888888888888888,
              "#fdca26"
             ],
             [
              1.0,
              "#f0f921"
             ]
            ]
           }
          ],
          "mesh3d": [
           {
            "type": "mesh3d",
            "colorbar": {
             "outlinewidth": 0,
             "ticks": ""
            }
           }
          ],
          "scatter": [
           {
            "marker": {
             "line": {
              "color": "#283442"
             }
            },
            "type": "scatter"
           }
          ],
          "parcoords": [
           {
            "type": "parcoords",
            "line": {
             "colorbar": {
              "outlinewidth": 0,
              "ticks": ""
             }
            }
           }
          ],
          "scatterpolargl": [
           {
            "type": "scatterpolargl",
            "marker": {
             "colorbar": {
              "outlinewidth": 0,
              "ticks": ""
             }
            }
           }
          ],
          "bar": [
           {
            "error_x": {
             "color": "#f2f5fa"
            },
            "error_y": {
             "color": "#f2f5fa"
            },
            "marker": {
             "line": {
              "color": "rgb(17,17,17)",
              "width": 0.5
             },
             "pattern": {
              "fillmode": "overlay",
              "size": 10,
              "solidity": 0.2
             }
            },
            "type": "bar"
           }
          ],
          "scattergeo": [
           {
            "type": "scattergeo",
            "marker": {
             "colorbar": {
              "outlinewidth": 0,
              "ticks": ""
             }
            }
           }
          ],
          "scatterpolar": [
           {
            "type": "scatterpolar",
            "marker": {
             "colorbar": {
              "outlinewidth": 0,
              "ticks": ""
             }
            }
           }
          ],
          "histogram": [
           {
            "marker": {
             "pattern": {
              "fillmode": "overlay",
              "size": 10,
              "solidity": 0.2
             }
            },
            "type": "histogram"
           }
          ],
          "scattergl": [
           {
            "marker": {
             "line": {
              "color": "#283442"
             }
            },
            "type": "scattergl"
           }
          ],
          "scatter3d": [
           {
            "type": "scatter3d",
            "line": {
             "colorbar": {
              "outlinewidth": 0,
              "ticks": ""
             }
            },
            "marker": {
             "colorbar": {
              "outlinewidth": 0,
              "ticks": ""
             }
            }
           }
          ],
          "scattermapbox": [
           {
            "type": "scattermapbox",
            "marker": {
             "colorbar": {
              "outlinewidth": 0,
              "ticks": ""
             }
            }
           }
          ],
          "scatterternary": [
           {
            "type": "scatterternary",
            "marker": {
             "colorbar": {
              "outlinewidth": 0,
              "ticks": ""
             }
            }
           }
          ],
          "scattercarpet": [
           {
            "type": "scattercarpet",
            "marker": {
             "colorbar": {
              "outlinewidth": 0,
              "ticks": ""
             }
            }
           }
          ],
          "carpet": [
           {
            "aaxis": {
             "endlinecolor": "#A2B1C6",
             "gridcolor": "#506784",
             "linecolor": "#506784",
             "minorgridcolor": "#506784",
             "startlinecolor": "#A2B1C6"
            },
            "baxis": {
             "endlinecolor": "#A2B1C6",
             "gridcolor": "#506784",
             "linecolor": "#506784",
             "minorgridcolor": "#506784",
             "startlinecolor": "#A2B1C6"
            },
            "type": "carpet"
           }
          ],
          "table": [
           {
            "cells": {
             "fill": {
              "color": "#506784"
             },
             "line": {
              "color": "rgb(17,17,17)"
             }
            },
            "header": {
             "fill": {
              "color": "#2a3f5f"
             },
             "line": {
              "color": "rgb(17,17,17)"
             }
            },
            "type": "table"
           }
          ],
          "barpolar": [
           {
            "marker": {
             "line": {
              "color": "rgb(17,17,17)",
              "width": 0.5
             },
             "pattern": {
              "fillmode": "overlay",
              "size": 10,
              "solidity": 0.2
             }
            },
            "type": "barpolar"
           }
          ],
          "pie": [
           {
            "automargin": true,
            "type": "pie"
           }
          ]
         },
         "layout": {
          "autotypenumbers": "strict",
          "colorway": [
           "#636efa",
           "#EF553B",
           "#00cc96",
           "#ab63fa",
           "#FFA15A",
           "#19d3f3",
           "#FF6692",
           "#B6E880",
           "#FF97FF",
           "#FECB52"
          ],
          "font": {
           "color": "#f2f5fa"
          },
          "hovermode": "closest",
          "hoverlabel": {
           "align": "left"
          },
          "paper_bgcolor": "rgb(17,17,17)",
          "plot_bgcolor": "rgb(17,17,17)",
          "polar": {
           "bgcolor": "rgb(17,17,17)",
           "angularaxis": {
            "gridcolor": "#506784",
            "linecolor": "#506784",
            "ticks": ""
           },
           "radialaxis": {
            "gridcolor": "#506784",
            "linecolor": "#506784",
            "ticks": ""
           }
          },
          "ternary": {
           "bgcolor": "rgb(17,17,17)",
           "aaxis": {
            "gridcolor": "#506784",
            "linecolor": "#506784",
            "ticks": ""
           },
           "baxis": {
            "gridcolor": "#506784",
            "linecolor": "#506784",
            "ticks": ""
           },
           "caxis": {
            "gridcolor": "#506784",
            "linecolor": "#506784",
            "ticks": ""
           }
          },
          "coloraxis": {
           "colorbar": {
            "outlinewidth": 0,
            "ticks": ""
           }
          },
          "colorscale": {
           "sequential": [
            [
             0.0,
             "#0d0887"
            ],
            [
             0.1111111111111111,
             "#46039f"
            ],
            [
             0.2222222222222222,
             "#7201a8"
            ],
            [
             0.3333333333333333,
             "#9c179e"
            ],
            [
             0.4444444444444444,
             "#bd3786"
            ],
            [
             0.5555555555555556,
             "#d8576b"
            ],
            [
             0.6666666666666666,
             "#ed7953"
            ],
            [
             0.7777777777777778,
             "#fb9f3a"
            ],
            [
             0.8888888888888888,
             "#fdca26"
            ],
            [
             1.0,
             "#f0f921"
            ]
           ],
           "sequentialminus": [
            [
             0.0,
             "#0d0887"
            ],
            [
             0.1111111111111111,
             "#46039f"
            ],
            [
             0.2222222222222222,
             "#7201a8"
            ],
            [
             0.3333333333333333,
             "#9c179e"
            ],
            [
             0.4444444444444444,
             "#bd3786"
            ],
            [
             0.5555555555555556,
             "#d8576b"
            ],
            [
             0.6666666666666666,
             "#ed7953"
            ],
            [
             0.7777777777777778,
             "#fb9f3a"
            ],
            [
             0.8888888888888888,
             "#fdca26"
            ],
            [
             1.0,
             "#f0f921"
            ]
           ],
           "diverging": [
            [
             0,
             "#8e0152"
            ],
            [
             0.1,
             "#c51b7d"
            ],
            [
             0.2,
             "#de77ae"
            ],
            [
             0.3,
             "#f1b6da"
            ],
            [
             0.4,
             "#fde0ef"
            ],
            [
             0.5,
             "#f7f7f7"
            ],
            [
             0.6,
             "#e6f5d0"
            ],
            [
             0.7,
             "#b8e186"
            ],
            [
             0.8,
             "#7fbc41"
            ],
            [
             0.9,
             "#4d9221"
            ],
            [
             1,
             "#276419"
            ]
           ]
          },
          "xaxis": {
           "gridcolor": "#283442",
           "linecolor": "#506784",
           "ticks": "",
           "title": {
            "standoff": 15
           },
           "zerolinecolor": "#283442",
           "automargin": true,
           "zerolinewidth": 2
          },
          "yaxis": {
           "gridcolor": "#283442",
           "linecolor": "#506784",
           "ticks": "",
           "title": {
            "standoff": 15
           },
           "zerolinecolor": "#283442",
           "automargin": true,
           "zerolinewidth": 2
          },
          "scene": {
           "xaxis": {
            "backgroundcolor": "rgb(17,17,17)",
            "gridcolor": "#506784",
            "linecolor": "#506784",
            "showbackground": true,
            "ticks": "",
            "zerolinecolor": "#C8D4E3",
            "gridwidth": 2
           },
           "yaxis": {
            "backgroundcolor": "rgb(17,17,17)",
            "gridcolor": "#506784",
            "linecolor": "#506784",
            "showbackground": true,
            "ticks": "",
            "zerolinecolor": "#C8D4E3",
            "gridwidth": 2
           },
           "zaxis": {
            "backgroundcolor": "rgb(17,17,17)",
            "gridcolor": "#506784",
            "linecolor": "#506784",
            "showbackground": true,
            "ticks": "",
            "zerolinecolor": "#C8D4E3",
            "gridwidth": 2
           }
          },
          "shapedefaults": {
           "line": {
            "color": "#f2f5fa"
           }
          },
          "annotationdefaults": {
           "arrowcolor": "#f2f5fa",
           "arrowhead": 0,
           "arrowwidth": 1
          },
          "geo": {
           "bgcolor": "rgb(17,17,17)",
           "landcolor": "rgb(17,17,17)",
           "subunitcolor": "#506784",
           "showland": true,
           "showlakes": true,
           "lakecolor": "rgb(17,17,17)"
          },
          "title": {
           "x": 0.05
          },
          "updatemenudefaults": {
           "bgcolor": "#506784",
           "borderwidth": 0
          },
          "sliderdefaults": {
           "bgcolor": "#C8D4E3",
           "borderwidth": 1,
           "bordercolor": "rgb(17,17,17)",
           "tickwidth": 0
          },
          "mapbox": {
           "style": "dark"
          }
         }
        },
        "xaxis": {
         "anchor": "y",
         "domain": [
          0.0,
          1.0
         ],
         "title": {
          "text": "Spinal level"
         },
         "ticktext": [
          "C2",
          "C3",
          "C4",
          "C5",
          "C6",
          "C7",
          "C8",
          "C9",
          "C10",
          "C11"
         ],
         "tickvals": [
          2,
          3,
          4,
          5,
          6,
          7,
          8,
          9,
          10,
          11
         ]
        },
        "yaxis": {
         "anchor": "x",
         "domain": [
          0.0,
          1.0
         ],
         "title": {
          "text": "Caudal-rostral length (mm)"
         }
        },
        "legend": {
         "title": {
          "text": "from"
         },
         "tracegroupgap": 0
        },
        "margin": {
         "t": 60
        },
        "title": {
         "text": "Caudal-rostral length of the spinal levels"
        }
       },
       "config": {
        "plotlyServerURL": "https://plot.ly"
       }
      },
      "text/html": "<div>                            <div id=\"7a24370c-80b4-4b22-bebc-31246f5f047a\" class=\"plotly-graph-div\" style=\"height:525px; width:100%;\"></div>            <script type=\"text/javascript\">                require([\"plotly\"], function(Plotly) {                    window.PLOTLYENV=window.PLOTLYENV || {};                                    if (document.getElementById(\"7a24370c-80b4-4b22-bebc-31246f5f047a\")) {                    Plotly.newPlot(                        \"7a24370c-80b4-4b22-bebc-31246f5f047a\",                        [{\"error_y\":{\"array\":[2.1280168380319537,2.2426383908144945,2.2960773095123144,2.3138004502062812,2.955178306671152,2.9949821264442433,3.0043528667080195,4.7249356487110346]},\"hovertemplate\":\"from=pred\\u003cbr\\u003elevel_offset=%{x}\\u003cbr\\u003emean=%{y}\\u003cextra\\u003e\\u003c\\u002fextra\\u003e\",\"legendgroup\":\"pred\",\"marker\":{\"color\":\"#636efa\",\"symbol\":\"circle\"},\"mode\":\"markers\",\"name\":\"pred\",\"orientation\":\"v\",\"showlegend\":true,\"x\":[1.9,2.9,3.9,4.9,5.9,6.9,7.9,8.9],\"xaxis\":\"x\",\"y\":[5.430158807644768,10.422222370193118,6.953448373952816,5.999557607205568,7.139743691835648,8.242918573479797,8.837837965638787,10.809691786766052],\"yaxis\":\"y\",\"type\":\"scatter\"},{\"error_y\":{\"array\":[2.2,1.3,1.5,1.6,1.4,1.4]},\"hovertemplate\":\"from=cadotte\\u003cbr\\u003elevel_offset=%{x}\\u003cbr\\u003emean=%{y}\\u003cextra\\u003e\\u003c\\u002fextra\\u003e\",\"legendgroup\":\"cadotte\",\"marker\":{\"color\":\"#EF553B\",\"symbol\":\"circle\"},\"mode\":\"markers\",\"name\":\"cadotte\",\"orientation\":\"v\",\"showlegend\":true,\"x\":[3.1,4.1,5.1,6.1,7.1,8.1],\"xaxis\":\"x\",\"y\":[10.5,9.9,10.5,9.7,9.4,9.6],\"yaxis\":\"y\",\"type\":\"scatter\"}],                        {\"template\":{\"data\":{\"histogram2dcontour\":[{\"type\":\"histogram2dcontour\",\"colorbar\":{\"outlinewidth\":0,\"ticks\":\"\"},\"colorscale\":[[0.0,\"#0d0887\"],[0.1111111111111111,\"#46039f\"],[0.2222222222222222,\"#7201a8\"],[0.3333333333333333,\"#9c179e\"],[0.4444444444444444,\"#bd3786\"],[0.5555555555555556,\"#d8576b\"],[0.6666666666666666,\"#ed7953\"],[0.7777777777777778,\"#fb9f3a\"],[0.8888888888888888,\"#fdca26\"],[1.0,\"#f0f921\"]]}],\"choropleth\":[{\"type\":\"choropleth\",\"colorbar\":{\"outlinewidth\":0,\"ticks\":\"\"}}],\"histogram2d\":[{\"type\":\"histogram2d\",\"colorbar\":{\"outlinewidth\":0,\"ticks\":\"\"},\"colorscale\":[[0.0,\"#0d0887\"],[0.1111111111111111,\"#46039f\"],[0.2222222222222222,\"#7201a8\"],[0.3333333333333333,\"#9c179e\"],[0.4444444444444444,\"#bd3786\"],[0.5555555555555556,\"#d8576b\"],[0.6666666666666666,\"#ed7953\"],[0.7777777777777778,\"#fb9f3a\"],[0.8888888888888888,\"#fdca26\"],[1.0,\"#f0f921\"]]}],\"heatmap\":[{\"type\":\"heatmap\",\"colorbar\":{\"outlinewidth\":0,\"ticks\":\"\"},\"colorscale\":[[0.0,\"#0d0887\"],[0.1111111111111111,\"#46039f\"],[0.2222222222222222,\"#7201a8\"],[0.3333333333333333,\"#9c179e\"],[0.4444444444444444,\"#bd3786\"],[0.5555555555555556,\"#d8576b\"],[0.6666666666666666,\"#ed7953\"],[0.7777777777777778,\"#fb9f3a\"],[0.8888888888888888,\"#fdca26\"],[1.0,\"#f0f921\"]]}],\"heatmapgl\":[{\"type\":\"heatmapgl\",\"colorbar\":{\"outlinewidth\":0,\"ticks\":\"\"},\"colorscale\":[[0.0,\"#0d0887\"],[0.1111111111111111,\"#46039f\"],[0.2222222222222222,\"#7201a8\"],[0.3333333333333333,\"#9c179e\"],[0.4444444444444444,\"#bd3786\"],[0.5555555555555556,\"#d8576b\"],[0.6666666666666666,\"#ed7953\"],[0.7777777777777778,\"#fb9f3a\"],[0.8888888888888888,\"#fdca26\"],[1.0,\"#f0f921\"]]}],\"contourcarpet\":[{\"type\":\"contourcarpet\",\"colorbar\":{\"outlinewidth\":0,\"ticks\":\"\"}}],\"contour\":[{\"type\":\"contour\",\"colorbar\":{\"outlinewidth\":0,\"ticks\":\"\"},\"colorscale\":[[0.0,\"#0d0887\"],[0.1111111111111111,\"#46039f\"],[0.2222222222222222,\"#7201a8\"],[0.3333333333333333,\"#9c179e\"],[0.4444444444444444,\"#bd3786\"],[0.5555555555555556,\"#d8576b\"],[0.6666666666666666,\"#ed7953\"],[0.7777777777777778,\"#fb9f3a\"],[0.8888888888888888,\"#fdca26\"],[1.0,\"#f0f921\"]]}],\"surface\":[{\"type\":\"surface\",\"colorbar\":{\"outlinewidth\":0,\"ticks\":\"\"},\"colorscale\":[[0.0,\"#0d0887\"],[0.1111111111111111,\"#46039f\"],[0.2222222222222222,\"#7201a8\"],[0.3333333333333333,\"#9c179e\"],[0.4444444444444444,\"#bd3786\"],[0.5555555555555556,\"#d8576b\"],[0.6666666666666666,\"#ed7953\"],[0.7777777777777778,\"#fb9f3a\"],[0.8888888888888888,\"#fdca26\"],[1.0,\"#f0f921\"]]}],\"mesh3d\":[{\"type\":\"mesh3d\",\"colorbar\":{\"outlinewidth\":0,\"ticks\":\"\"}}],\"scatter\":[{\"marker\":{\"line\":{\"color\":\"#283442\"}},\"type\":\"scatter\"}],\"parcoords\":[{\"type\":\"parcoords\",\"line\":{\"colorbar\":{\"outlinewidth\":0,\"ticks\":\"\"}}}],\"scatterpolargl\":[{\"type\":\"scatterpolargl\",\"marker\":{\"colorbar\":{\"outlinewidth\":0,\"ticks\":\"\"}}}],\"bar\":[{\"error_x\":{\"color\":\"#f2f5fa\"},\"error_y\":{\"color\":\"#f2f5fa\"},\"marker\":{\"line\":{\"color\":\"rgb(17,17,17)\",\"width\":0.5},\"pattern\":{\"fillmode\":\"overlay\",\"size\":10,\"solidity\":0.2}},\"type\":\"bar\"}],\"scattergeo\":[{\"type\":\"scattergeo\",\"marker\":{\"colorbar\":{\"outlinewidth\":0,\"ticks\":\"\"}}}],\"scatterpolar\":[{\"type\":\"scatterpolar\",\"marker\":{\"colorbar\":{\"outlinewidth\":0,\"ticks\":\"\"}}}],\"histogram\":[{\"marker\":{\"pattern\":{\"fillmode\":\"overlay\",\"size\":10,\"solidity\":0.2}},\"type\":\"histogram\"}],\"scattergl\":[{\"marker\":{\"line\":{\"color\":\"#283442\"}},\"type\":\"scattergl\"}],\"scatter3d\":[{\"type\":\"scatter3d\",\"line\":{\"colorbar\":{\"outlinewidth\":0,\"ticks\":\"\"}},\"marker\":{\"colorbar\":{\"outlinewidth\":0,\"ticks\":\"\"}}}],\"scattermapbox\":[{\"type\":\"scattermapbox\",\"marker\":{\"colorbar\":{\"outlinewidth\":0,\"ticks\":\"\"}}}],\"scatterternary\":[{\"type\":\"scatterternary\",\"marker\":{\"colorbar\":{\"outlinewidth\":0,\"ticks\":\"\"}}}],\"scattercarpet\":[{\"type\":\"scattercarpet\",\"marker\":{\"colorbar\":{\"outlinewidth\":0,\"ticks\":\"\"}}}],\"carpet\":[{\"aaxis\":{\"endlinecolor\":\"#A2B1C6\",\"gridcolor\":\"#506784\",\"linecolor\":\"#506784\",\"minorgridcolor\":\"#506784\",\"startlinecolor\":\"#A2B1C6\"},\"baxis\":{\"endlinecolor\":\"#A2B1C6\",\"gridcolor\":\"#506784\",\"linecolor\":\"#506784\",\"minorgridcolor\":\"#506784\",\"startlinecolor\":\"#A2B1C6\"},\"type\":\"carpet\"}],\"table\":[{\"cells\":{\"fill\":{\"color\":\"#506784\"},\"line\":{\"color\":\"rgb(17,17,17)\"}},\"header\":{\"fill\":{\"color\":\"#2a3f5f\"},\"line\":{\"color\":\"rgb(17,17,17)\"}},\"type\":\"table\"}],\"barpolar\":[{\"marker\":{\"line\":{\"color\":\"rgb(17,17,17)\",\"width\":0.5},\"pattern\":{\"fillmode\":\"overlay\",\"size\":10,\"solidity\":0.2}},\"type\":\"barpolar\"}],\"pie\":[{\"automargin\":true,\"type\":\"pie\"}]},\"layout\":{\"autotypenumbers\":\"strict\",\"colorway\":[\"#636efa\",\"#EF553B\",\"#00cc96\",\"#ab63fa\",\"#FFA15A\",\"#19d3f3\",\"#FF6692\",\"#B6E880\",\"#FF97FF\",\"#FECB52\"],\"font\":{\"color\":\"#f2f5fa\"},\"hovermode\":\"closest\",\"hoverlabel\":{\"align\":\"left\"},\"paper_bgcolor\":\"rgb(17,17,17)\",\"plot_bgcolor\":\"rgb(17,17,17)\",\"polar\":{\"bgcolor\":\"rgb(17,17,17)\",\"angularaxis\":{\"gridcolor\":\"#506784\",\"linecolor\":\"#506784\",\"ticks\":\"\"},\"radialaxis\":{\"gridcolor\":\"#506784\",\"linecolor\":\"#506784\",\"ticks\":\"\"}},\"ternary\":{\"bgcolor\":\"rgb(17,17,17)\",\"aaxis\":{\"gridcolor\":\"#506784\",\"linecolor\":\"#506784\",\"ticks\":\"\"},\"baxis\":{\"gridcolor\":\"#506784\",\"linecolor\":\"#506784\",\"ticks\":\"\"},\"caxis\":{\"gridcolor\":\"#506784\",\"linecolor\":\"#506784\",\"ticks\":\"\"}},\"coloraxis\":{\"colorbar\":{\"outlinewidth\":0,\"ticks\":\"\"}},\"colorscale\":{\"sequential\":[[0.0,\"#0d0887\"],[0.1111111111111111,\"#46039f\"],[0.2222222222222222,\"#7201a8\"],[0.3333333333333333,\"#9c179e\"],[0.4444444444444444,\"#bd3786\"],[0.5555555555555556,\"#d8576b\"],[0.6666666666666666,\"#ed7953\"],[0.7777777777777778,\"#fb9f3a\"],[0.8888888888888888,\"#fdca26\"],[1.0,\"#f0f921\"]],\"sequentialminus\":[[0.0,\"#0d0887\"],[0.1111111111111111,\"#46039f\"],[0.2222222222222222,\"#7201a8\"],[0.3333333333333333,\"#9c179e\"],[0.4444444444444444,\"#bd3786\"],[0.5555555555555556,\"#d8576b\"],[0.6666666666666666,\"#ed7953\"],[0.7777777777777778,\"#fb9f3a\"],[0.8888888888888888,\"#fdca26\"],[1.0,\"#f0f921\"]],\"diverging\":[[0,\"#8e0152\"],[0.1,\"#c51b7d\"],[0.2,\"#de77ae\"],[0.3,\"#f1b6da\"],[0.4,\"#fde0ef\"],[0.5,\"#f7f7f7\"],[0.6,\"#e6f5d0\"],[0.7,\"#b8e186\"],[0.8,\"#7fbc41\"],[0.9,\"#4d9221\"],[1,\"#276419\"]]},\"xaxis\":{\"gridcolor\":\"#283442\",\"linecolor\":\"#506784\",\"ticks\":\"\",\"title\":{\"standoff\":15},\"zerolinecolor\":\"#283442\",\"automargin\":true,\"zerolinewidth\":2},\"yaxis\":{\"gridcolor\":\"#283442\",\"linecolor\":\"#506784\",\"ticks\":\"\",\"title\":{\"standoff\":15},\"zerolinecolor\":\"#283442\",\"automargin\":true,\"zerolinewidth\":2},\"scene\":{\"xaxis\":{\"backgroundcolor\":\"rgb(17,17,17)\",\"gridcolor\":\"#506784\",\"linecolor\":\"#506784\",\"showbackground\":true,\"ticks\":\"\",\"zerolinecolor\":\"#C8D4E3\",\"gridwidth\":2},\"yaxis\":{\"backgroundcolor\":\"rgb(17,17,17)\",\"gridcolor\":\"#506784\",\"linecolor\":\"#506784\",\"showbackground\":true,\"ticks\":\"\",\"zerolinecolor\":\"#C8D4E3\",\"gridwidth\":2},\"zaxis\":{\"backgroundcolor\":\"rgb(17,17,17)\",\"gridcolor\":\"#506784\",\"linecolor\":\"#506784\",\"showbackground\":true,\"ticks\":\"\",\"zerolinecolor\":\"#C8D4E3\",\"gridwidth\":2}},\"shapedefaults\":{\"line\":{\"color\":\"#f2f5fa\"}},\"annotationdefaults\":{\"arrowcolor\":\"#f2f5fa\",\"arrowhead\":0,\"arrowwidth\":1},\"geo\":{\"bgcolor\":\"rgb(17,17,17)\",\"landcolor\":\"rgb(17,17,17)\",\"subunitcolor\":\"#506784\",\"showland\":true,\"showlakes\":true,\"lakecolor\":\"rgb(17,17,17)\"},\"title\":{\"x\":0.05},\"updatemenudefaults\":{\"bgcolor\":\"#506784\",\"borderwidth\":0},\"sliderdefaults\":{\"bgcolor\":\"#C8D4E3\",\"borderwidth\":1,\"bordercolor\":\"rgb(17,17,17)\",\"tickwidth\":0},\"mapbox\":{\"style\":\"dark\"}}},\"xaxis\":{\"anchor\":\"y\",\"domain\":[0.0,1.0],\"title\":{\"text\":\"Spinal level\"},\"ticktext\":[\"C2\",\"C3\",\"C4\",\"C5\",\"C6\",\"C7\",\"C8\",\"C9\",\"C10\",\"C11\"],\"tickvals\":[2,3,4,5,6,7,8,9,10,11]},\"yaxis\":{\"anchor\":\"x\",\"domain\":[0.0,1.0],\"title\":{\"text\":\"Caudal-rostral length (mm)\"}},\"legend\":{\"title\":{\"text\":\"from\"},\"tracegroupgap\":0},\"margin\":{\"t\":60},\"title\":{\"text\":\"Caudal-rostral length of the spinal levels\"}},                        {\"responsive\": true}                    ).then(function(){\n                            \nvar gd = document.getElementById('7a24370c-80b4-4b22-bebc-31246f5f047a');\nvar x = new MutationObserver(function (mutations, observer) {{\n        var display = window.getComputedStyle(gd).display;\n        if (!display || display === 'none') {{\n            console.log([gd, 'removed!']);\n            Plotly.purge(gd);\n            observer.disconnect();\n        }}\n}});\n\n// Listen for the removal of the full notebook cells\nvar notebookContainer = gd.closest('#notebook-container');\nif (notebookContainer) {{\n    x.observe(notebookContainer, {childList: true});\n}}\n\n// Listen for the clearing of the current output cell\nvar outputEl = gd.closest('.output');\nif (outputEl) {{\n    x.observe(outputEl, {childList: true});\n}}\n\n                        })                };                });            </script>        </div>"
     },
     "metadata": {},
     "output_type": "display_data"
    }
   ],
   "source": [
    "fig = px.scatter(pivot_df, x=\"level_offset\", y=\"mean\", color=\"from\", error_y=\"std\")\n",
    "fig.update_layout(\n",
    "    title=\"Caudal-rostral length of the spinal levels\",\n",
    "    xaxis_title=\"Spinal level\",\n",
    "    yaxis_title=\"Caudal-rostral length (mm)\",\n",
    "    xaxis=dict(ticktext=[\"C\" + x.astype(str) for x in df[\"level\"].unique()], tickvals=df[\"level\"].unique())\n",
    ")\n",
    "fig.show()"
   ]
  },
  {
   "cell_type": "code",
   "execution_count": 27,
   "metadata": {
    "collapsed": false,
    "jupyter": {
     "outputs_hidden": false
    },
    "ExecuteTime": {
     "end_time": "2023-08-15T17:19:45.776358Z",
     "start_time": "2023-08-15T17:19:45.426923Z"
    }
   },
   "outputs": [
    {
     "data": {
      "application/vnd.plotly.v1+json": {
       "data": [
        {
         "error_y": {
          "array": [
           2.1280168380319537,
           2.2426383908144945,
           2.2960773095123144,
           2.3138004502062812,
           2.955178306671152,
           2.9949821264442433,
           3.0043528667080195,
           4.7249356487110346
          ]
         },
         "hovertemplate": "from=pred<br>level_offset=%{x}<br>mean=%{y}<extra></extra>",
         "legendgroup": "pred",
         "marker": {
          "color": "#636efa",
          "symbol": "circle"
         },
         "mode": "markers",
         "name": "pred",
         "orientation": "v",
         "showlegend": true,
         "x": [
          1.9,
          2.9,
          3.9,
          4.9,
          5.9,
          6.9,
          7.9,
          8.9
         ],
         "xaxis": "x",
         "y": [
          5.430158807644768,
          10.422222370193118,
          6.953448373952816,
          5.999557607205568,
          7.139743691835648,
          8.242918573479797,
          8.837837965638787,
          10.809691786766052
         ],
         "yaxis": "y",
         "type": "scatter"
        },
        {
         "error_y": {
          "array": [
           2.2,
           1.3,
           1.5,
           1.6,
           1.4,
           1.4
          ]
         },
         "hovertemplate": "from=cadotte<br>level_offset=%{x}<br>mean=%{y}<extra></extra>",
         "legendgroup": "cadotte",
         "marker": {
          "color": "#EF553B",
          "symbol": "circle"
         },
         "mode": "markers",
         "name": "cadotte",
         "orientation": "v",
         "showlegend": true,
         "x": [
          3.1,
          4.1,
          5.1,
          6.1,
          7.1,
          8.1
         ],
         "xaxis": "x",
         "y": [
          10.5,
          9.9,
          10.5,
          9.7,
          9.4,
          9.6
         ],
         "yaxis": "y",
         "type": "scatter"
        },
        {
         "hovertemplate": "level=%{x}<br>value=%{y}<extra></extra>",
         "legendgroup": "",
         "marker": {
          "color": "#636efa",
          "symbol": "circle"
         },
         "mode": "markers",
         "name": "",
         "orientation": "v",
         "showlegend": false,
         "x": [
          2,
          2,
          2,
          2,
          2,
          2,
          2,
          2,
          2,
          2,
          2,
          2,
          2,
          2,
          2,
          2,
          2,
          2,
          2,
          2,
          2,
          2,
          2,
          2,
          2,
          2,
          2,
          2,
          2,
          2,
          2,
          2,
          2,
          2,
          2,
          2,
          2,
          2,
          2,
          2,
          2,
          2,
          2,
          2,
          2,
          2,
          2,
          2,
          2,
          2,
          2,
          2,
          2,
          2,
          2,
          2,
          2,
          2,
          2,
          2,
          2,
          2,
          2,
          2,
          2,
          2,
          2,
          2,
          2,
          2,
          2,
          2,
          2,
          2,
          2,
          2,
          2,
          2,
          2,
          2,
          2,
          2,
          2,
          2,
          2,
          2,
          2,
          2,
          2,
          2,
          2,
          2,
          2,
          2,
          2,
          2,
          2,
          2,
          2,
          2,
          2,
          2,
          2,
          2,
          2,
          2,
          2,
          2,
          2,
          2,
          2,
          2,
          2,
          2,
          2,
          2,
          2,
          2,
          2,
          2,
          2,
          2,
          2,
          2,
          2,
          2,
          2,
          2,
          2,
          2,
          2,
          2,
          2,
          2,
          2,
          2,
          2,
          2,
          2,
          2,
          2,
          2,
          2,
          2,
          2,
          2,
          2,
          2,
          2,
          2,
          2,
          2,
          2,
          2,
          2,
          2,
          2,
          2,
          2,
          2,
          2,
          2,
          2,
          2,
          2,
          2,
          2,
          2,
          2,
          2,
          2,
          2,
          2,
          2,
          2,
          2,
          2,
          2,
          2,
          2,
          2,
          2,
          2,
          2,
          2,
          2,
          2,
          2,
          2,
          2,
          2,
          2,
          2,
          2,
          2,
          2,
          2,
          2,
          2,
          2,
          2,
          2,
          2,
          2,
          2,
          2,
          2,
          2,
          2,
          2,
          2,
          2,
          2,
          2,
          2,
          2,
          2,
          2,
          2,
          2,
          2,
          2,
          2,
          2,
          2,
          2,
          2,
          2,
          2,
          2,
          2,
          2,
          2,
          2,
          2,
          2,
          2,
          2,
          2,
          2,
          2,
          2,
          2,
          2,
          2,
          2,
          2,
          2,
          2,
          2,
          2,
          2,
          2,
          2,
          2,
          2,
          2,
          2,
          2,
          2,
          2,
          2,
          2,
          2,
          2,
          2,
          2,
          2,
          2
         ],
         "xaxis": "x",
         "y": [
          8.800000131130219,
          4.000000059604645,
          5.5,
          8.800000131130219,
          2.400000035762787,
          8.00000011920929,
          6.400000095367432,
          8.800000131130219,
          6.400000095367432,
          8.800000131130219,
          4.800000071525574,
          null,
          7.200000107288361,
          4.000000059604645,
          6.400000095367432,
          2.0,
          4.800000071525574,
          0.800000011920929,
          8.800000131130219,
          3.200000047683716,
          4.800000071525574,
          9.600000143051147,
          6.400000095367432,
          3.200000047683716,
          7.200000107288361,
          4.800000071525574,
          7.200000107288361,
          4.000000059604645,
          3.200000047683716,
          null,
          4.000000059604645,
          6.400000095367432,
          7.200000107288361,
          null,
          2.400000035762787,
          6.400000095367432,
          6.5,
          null,
          4.000000059604645,
          4.000000059604645,
          7.200000107288361,
          6.400000095367432,
          8.00000011920929,
          6.400000095367432,
          3.200000047683716,
          1.600000023841858,
          5.600000083446503,
          6.0,
          5.600000083446503,
          6.400000095367432,
          3.200000047683716,
          3.200000047683716,
          4.800000071525574,
          4.000000059604645,
          4.800000071525574,
          3.0,
          4.800000071525574,
          5.600000083446503,
          6.400000095367432,
          5.600000083446503,
          4.000000059604645,
          3.200000047683716,
          7.200000107288361,
          7.200000107288361,
          4.800000071525574,
          2.400000035762787,
          null,
          7.200000107288361,
          3.200000047683716,
          6.400000095367432,
          6.5,
          null,
          0.800000011920929,
          4.800000071525574,
          2.400000035762787,
          5.600000083446503,
          8.00000011920929,
          null,
          8.800000131130219,
          3.200000047683716,
          4.800000071525574,
          null,
          4.000000059604645,
          3.200000047683716,
          4.800000071525574,
          7.200000107288361,
          8.00000011920929,
          4.800000071525574,
          4.000000059604645,
          8.00000011920929,
          3.200000047683716,
          7.200000107288361,
          1.600000023841858,
          6.400000095367432,
          6.400000095367432,
          4.800000071525574,
          3.200000047683716,
          9.600000143051147,
          8.00000011920929,
          3.200000047683716,
          4.000000059604645,
          4.000000059604645,
          4.800000071525574,
          9.600000143051147,
          4.800000071525574,
          3.200000047683716,
          null,
          7.200000107288361,
          7.0,
          8.00000011920929,
          6.400000095367432,
          8.00000011920929,
          null,
          7.200000107288361,
          6.400000095367432,
          4.000000059604645,
          6.400000095367432,
          3.200000047683716,
          3.5,
          2.400000035762787,
          5.600000083446503,
          null,
          9.600000143051147,
          null,
          8.00000011920929,
          6.400000095367432,
          4.000000059604645,
          6.400000095367432,
          6.400000095367432,
          4.000000059604645,
          4.000000059604645,
          6.400000095367432,
          2.400000035762787,
          8.0,
          4.000000059604645,
          8.800000131130219,
          7.200000107288361,
          7.200000107288361,
          3.200000047683716,
          7.200000107288361,
          6.0,
          8.00000011920929,
          2.400000035762787,
          4.800000071525574,
          6.400000095367432,
          6.400000095367432,
          4.800000071525574,
          4.800000071525574,
          8.00000011920929,
          3.200000047683716,
          4.000000059604645,
          0.800000011920929,
          null,
          0.800000011920929,
          1.600000023841858,
          2.400000035762787,
          6.400000095367432,
          3.200000047683716,
          8.00000011920929,
          7.200000107288361,
          5.600000083446503,
          8.00000011920929,
          4.000000059604645,
          8.00000011920929,
          4.800000071525574,
          3.200000047683716,
          8.800000131130219,
          2.400000035762787,
          5.600000083446503,
          7.200000107288361,
          8.800000131130219,
          4.000000059604645,
          7.200000107288361,
          5.600000083446503,
          8.800000131130219,
          4.800000071525574,
          5.600000083446503,
          8.00000011920929,
          6.400000095367432,
          8.00000011920929,
          0.800000011920929,
          5.600000083446503,
          7.200000107288361,
          6.400000095367432,
          6.400000095367432,
          4.800000071525574,
          8.00000011920929,
          8.00000011920929,
          7.200000107288361,
          4.000000059604645,
          2.400000035762787,
          null,
          8.00000011920929,
          4.800000071525574,
          7.200000107288361,
          3.200000047683716,
          4.000000059604645,
          4.000000059604645,
          4.000000059604645,
          6.400000095367432,
          4.800000071525574,
          4.800000071525574,
          2.400000035762787,
          5.600000083446503,
          2.400000035762787,
          4.800000071525574,
          6.400000095367432,
          6.400000095367432,
          6.400000095367432,
          0.800000011920929,
          8.00000011920929,
          5.600000083446503,
          8.00000011920929,
          1.600000023841858,
          3.0,
          0.800000011920929,
          4.000000059604645,
          4.000000059604645,
          5.600000083446503,
          6.400000095367432,
          5.600000083446503,
          4.000000059604645,
          5.600000083446503,
          4.800000071525574,
          4.800000071525574,
          4.000000059604645,
          6.400000095367432,
          2.400000035762787,
          10.400000154972076,
          5.600000083446503,
          4.000000059604645,
          9.600000143051147,
          8.00000011920929,
          4.000000059604645,
          6.400000095367432,
          4.800000071525574,
          7.200000107288361,
          4.800000071525574,
          4.800000071525574,
          4.000000059604645,
          3.200000047683716,
          8.00000011920929,
          1.0,
          4.000000059604645,
          8.800000131130219,
          3.200000047683716,
          6.400000095367432,
          8.00000011920929,
          6.400000095367432,
          4.000000059604645,
          8.800000131130219,
          5.600000083446503,
          7.200000107288361,
          5.600000083446503,
          6.400000095367432,
          null,
          3.200000047683716,
          3.200000047683716,
          8.00000011920929,
          7.200000107288361,
          7.200000107288361,
          4.000000059604645,
          8.00000011920929,
          2.400000035762787,
          4.800000071525574,
          5.600000083446503,
          8.800000131130219,
          5.430158807644768,
          2.1280168380319537
         ],
         "yaxis": "y",
         "type": "scatter"
        },
        {
         "hovertemplate": "level=%{x}<br>value=%{y}<extra></extra>",
         "legendgroup": "",
         "marker": {
          "color": "#636efa",
          "symbol": "circle"
         },
         "mode": "markers",
         "name": "",
         "orientation": "v",
         "showlegend": false,
         "x": [
          3,
          3,
          3,
          3,
          3,
          3,
          3,
          3,
          3,
          3,
          3,
          3,
          3,
          3,
          3,
          3,
          3,
          3,
          3,
          3,
          3,
          3,
          3,
          3,
          3,
          3,
          3,
          3,
          3,
          3,
          3,
          3,
          3,
          3,
          3,
          3,
          3,
          3,
          3,
          3,
          3,
          3,
          3,
          3,
          3,
          3,
          3,
          3,
          3,
          3,
          3,
          3,
          3,
          3,
          3,
          3,
          3,
          3,
          3,
          3,
          3,
          3,
          3,
          3,
          3,
          3,
          3,
          3,
          3,
          3,
          3,
          3,
          3,
          3,
          3,
          3,
          3,
          3,
          3,
          3,
          3,
          3,
          3,
          3,
          3,
          3,
          3,
          3,
          3,
          3,
          3,
          3,
          3,
          3,
          3,
          3,
          3,
          3,
          3,
          3,
          3,
          3,
          3,
          3,
          3,
          3,
          3,
          3,
          3,
          3,
          3,
          3,
          3,
          3,
          3,
          3,
          3,
          3,
          3,
          3,
          3,
          3,
          3,
          3,
          3,
          3,
          3,
          3,
          3,
          3,
          3,
          3,
          3,
          3,
          3,
          3,
          3,
          3,
          3,
          3,
          3,
          3,
          3,
          3,
          3,
          3,
          3,
          3,
          3,
          3,
          3,
          3,
          3,
          3,
          3,
          3,
          3,
          3,
          3,
          3,
          3,
          3,
          3,
          3,
          3,
          3,
          3,
          3,
          3,
          3,
          3,
          3,
          3,
          3,
          3,
          3,
          3,
          3,
          3,
          3,
          3,
          3,
          3,
          3,
          3,
          3,
          3,
          3,
          3,
          3,
          3,
          3,
          3,
          3,
          3,
          3,
          3,
          3,
          3,
          3,
          3,
          3,
          3,
          3,
          3,
          3,
          3,
          3,
          3,
          3,
          3,
          3,
          3,
          3,
          3,
          3,
          3,
          3,
          3,
          3,
          3,
          3,
          3,
          3,
          3,
          3,
          3,
          3,
          3,
          3,
          3,
          3,
          3,
          3,
          3,
          3,
          3,
          3,
          3,
          3,
          3,
          3,
          3,
          3,
          3,
          3,
          3,
          3,
          3,
          3,
          3,
          3,
          3,
          3,
          3,
          3,
          3,
          3,
          3,
          3,
          3,
          3,
          3,
          3,
          3,
          3,
          3,
          3,
          3,
          3,
          3
         ],
         "xaxis": "x",
         "y": [
          15.20000022649765,
          16.800000250339508,
          11.0,
          9.600000143051147,
          6.400000095367432,
          12.000000178813934,
          12.000000178813934,
          11.200000166893004,
          12.000000178813934,
          12.000000178813934,
          10.400000154972076,
          null,
          12.000000178813934,
          8.800000131130219,
          9.600000143051147,
          6.0,
          10.400000154972076,
          12.000000178813934,
          12.800000190734863,
          9.600000143051147,
          10.400000154972076,
          8.800000131130219,
          14.40000021457672,
          5.600000083446503,
          11.200000166893004,
          12.000000178813934,
          12.800000190734863,
          8.800000131130219,
          12.000000178813934,
          null,
          9.600000143051147,
          11.200000166893004,
          13.600000202655792,
          null,
          10.400000154972076,
          10.400000154972076,
          11.5,
          null,
          12.000000178813934,
          8.00000011920929,
          11.200000166893004,
          11.200000166893004,
          8.00000011920929,
          10.400000154972076,
          9.600000143051147,
          3.200000047683716,
          8.800000131130219,
          11.5,
          8.00000011920929,
          7.200000107288361,
          9.600000143051147,
          8.800000131130219,
          18.40000027418137,
          8.800000131130219,
          12.000000178813934,
          8.0,
          11.200000166893004,
          10.400000154972076,
          14.40000021457672,
          11.200000166893004,
          8.800000131130219,
          9.600000143051147,
          9.600000143051147,
          11.200000166893004,
          10.400000154972076,
          10.400000154972076,
          null,
          11.200000166893004,
          8.800000131130219,
          11.200000166893004,
          13.0,
          null,
          10.400000154972076,
          11.200000166893004,
          12.800000190734863,
          12.000000178813934,
          12.800000190734863,
          null,
          6.400000095367432,
          8.00000011920929,
          8.800000131130219,
          null,
          11.200000166893004,
          8.00000011920929,
          10.400000154972076,
          11.200000166893004,
          14.40000021457672,
          12.000000178813934,
          8.800000131130219,
          10.400000154972076,
          9.600000143051147,
          9.600000143051147,
          5.600000083446503,
          12.000000178813934,
          12.000000178813934,
          11.200000166893004,
          11.200000166893004,
          11.200000166893004,
          9.600000143051147,
          8.00000011920929,
          13.600000202655792,
          8.00000011920929,
          9.600000143051147,
          13.600000202655792,
          9.600000143051147,
          4.000000059604645,
          null,
          12.000000178813934,
          12.5,
          12.000000178813934,
          8.800000131130219,
          8.800000131130219,
          null,
          13.600000202655792,
          10.400000154972076,
          9.600000143051147,
          11.200000166893004,
          11.200000166893004,
          8.5,
          11.200000166893004,
          9.600000143051147,
          null,
          13.600000202655792,
          null,
          12.800000190734863,
          12.000000178813934,
          11.200000166893004,
          9.600000143051147,
          8.800000131130219,
          10.400000154972076,
          9.600000143051147,
          12.800000190734863,
          8.00000011920929,
          9.5,
          10.400000154972076,
          10.400000154972076,
          8.800000131130219,
          9.600000143051147,
          8.00000011920929,
          9.600000143051147,
          9.5,
          14.40000021457672,
          7.200000107288361,
          8.800000131130219,
          10.400000154972076,
          10.400000154972076,
          6.400000095367432,
          7.200000107288361,
          8.800000131130219,
          9.600000143051147,
          14.40000021457672,
          12.000000178813934,
          null,
          8.00000011920929,
          4.800000071525574,
          8.00000011920929,
          11.200000166893004,
          10.400000154972076,
          10.400000154972076,
          10.400000154972076,
          8.800000131130219,
          13.600000202655792,
          5.600000083446503,
          13.600000202655792,
          11.200000166893004,
          9.600000143051147,
          11.200000166893004,
          11.200000166893004,
          12.800000190734863,
          8.800000131130219,
          11.200000166893004,
          12.000000178813934,
          13.600000202655792,
          9.600000143051147,
          12.000000178813934,
          12.800000190734863,
          14.40000021457672,
          10.400000154972076,
          10.400000154972076,
          11.200000166893004,
          7.200000107288361,
          9.600000143051147,
          11.200000166893004,
          8.800000131130219,
          9.600000143051147,
          8.800000131130219,
          8.00000011920929,
          12.000000178813934,
          9.600000143051147,
          11.200000166893004,
          9.600000143051147,
          null,
          13.600000202655792,
          9.600000143051147,
          12.000000178813934,
          8.800000131130219,
          7.200000107288361,
          8.00000011920929,
          8.800000131130219,
          8.800000131130219,
          11.200000166893004,
          12.000000178813934,
          4.800000071525574,
          12.000000178813934,
          11.200000166893004,
          8.00000011920929,
          9.600000143051147,
          13.600000202655792,
          10.400000154972076,
          null,
          12.000000178813934,
          11.200000166893004,
          12.000000178813934,
          8.800000131130219,
          9.0,
          10.400000154972076,
          9.600000143051147,
          12.000000178813934,
          9.600000143051147,
          10.400000154972076,
          8.00000011920929,
          10.400000154972076,
          9.600000143051147,
          6.400000095367432,
          12.000000178813934,
          12.000000178813934,
          10.400000154972076,
          12.800000190734863,
          12.000000178813934,
          12.800000190734863,
          12.800000190734863,
          11.200000166893004,
          11.200000166893004,
          10.400000154972076,
          11.200000166893004,
          10.400000154972076,
          10.400000154972076,
          8.800000131130219,
          12.000000178813934,
          8.00000011920929,
          10.400000154972076,
          13.600000202655792,
          14.0,
          7.200000107288361,
          12.800000190734863,
          8.800000131130219,
          9.600000143051147,
          13.600000202655792,
          12.000000178813934,
          10.400000154972076,
          11.200000166893004,
          12.800000190734863,
          10.400000154972076,
          12.800000190734863,
          8.00000011920929,
          0.0,
          8.800000131130219,
          9.600000143051147,
          11.200000166893004,
          8.800000131130219,
          14.40000021457672,
          12.000000178813934,
          12.000000178813934,
          8.800000131130219,
          11.200000166893004,
          10.400000154972076,
          12.000000178813934,
          10.422222370193118,
          2.2426383908144945,
          10.5,
          2.2
         ],
         "yaxis": "y",
         "type": "scatter"
        },
        {
         "hovertemplate": "level=%{x}<br>value=%{y}<extra></extra>",
         "legendgroup": "",
         "marker": {
          "color": "#636efa",
          "symbol": "circle"
         },
         "mode": "markers",
         "name": "",
         "orientation": "v",
         "showlegend": false,
         "x": [
          4,
          4,
          4,
          4,
          4,
          4,
          4,
          4,
          4,
          4,
          4,
          4,
          4,
          4,
          4,
          4,
          4,
          4,
          4,
          4,
          4,
          4,
          4,
          4,
          4,
          4,
          4,
          4,
          4,
          4,
          4,
          4,
          4,
          4,
          4,
          4,
          4,
          4,
          4,
          4,
          4,
          4,
          4,
          4,
          4,
          4,
          4,
          4,
          4,
          4,
          4,
          4,
          4,
          4,
          4,
          4,
          4,
          4,
          4,
          4,
          4,
          4,
          4,
          4,
          4,
          4,
          4,
          4,
          4,
          4,
          4,
          4,
          4,
          4,
          4,
          4,
          4,
          4,
          4,
          4,
          4,
          4,
          4,
          4,
          4,
          4,
          4,
          4,
          4,
          4,
          4,
          4,
          4,
          4,
          4,
          4,
          4,
          4,
          4,
          4,
          4,
          4,
          4,
          4,
          4,
          4,
          4,
          4,
          4,
          4,
          4,
          4,
          4,
          4,
          4,
          4,
          4,
          4,
          4,
          4,
          4,
          4,
          4,
          4,
          4,
          4,
          4,
          4,
          4,
          4,
          4,
          4,
          4,
          4,
          4,
          4,
          4,
          4,
          4,
          4,
          4,
          4,
          4,
          4,
          4,
          4,
          4,
          4,
          4,
          4,
          4,
          4,
          4,
          4,
          4,
          4,
          4,
          4,
          4,
          4,
          4,
          4,
          4,
          4,
          4,
          4,
          4,
          4,
          4,
          4,
          4,
          4,
          4,
          4,
          4,
          4,
          4,
          4,
          4,
          4,
          4,
          4,
          4,
          4,
          4,
          4,
          4,
          4,
          4,
          4,
          4,
          4,
          4,
          4,
          4,
          4,
          4,
          4,
          4,
          4,
          4,
          4,
          4,
          4,
          4,
          4,
          4,
          4,
          4,
          4,
          4,
          4,
          4,
          4,
          4,
          4,
          4,
          4,
          4,
          4,
          4,
          4,
          4,
          4,
          4,
          4,
          4,
          4,
          4,
          4,
          4,
          4,
          4,
          4,
          4,
          4,
          4,
          4,
          4,
          4,
          4,
          4,
          4,
          4,
          4,
          4,
          4,
          4,
          4,
          4,
          4,
          4,
          4,
          4,
          4,
          4,
          4,
          4,
          4,
          4,
          4,
          4,
          4,
          4,
          4,
          4,
          4,
          4,
          4,
          4,
          4
         ],
         "xaxis": "x",
         "y": [
          10.400000154972076,
          8.800000131130219,
          9.5,
          5.600000083446503,
          7.200000107288361,
          8.00000011920929,
          8.00000011920929,
          7.200000107288361,
          8.800000131130219,
          6.400000095367432,
          6.400000095367432,
          null,
          4.000000059604645,
          null,
          7.200000107288361,
          1.0,
          5.600000083446503,
          4.000000059604645,
          7.200000107288361,
          4.800000071525574,
          8.00000011920929,
          8.00000011920929,
          10.400000154972076,
          null,
          8.800000131130219,
          9.600000143051147,
          8.800000131130219,
          6.400000095367432,
          7.200000107288361,
          null,
          8.800000131130219,
          12.000000178813934,
          8.800000131130219,
          null,
          8.800000131130219,
          6.400000095367432,
          10.0,
          null,
          0.800000011920929,
          4.000000059604645,
          8.800000131130219,
          2.400000035762787,
          1.600000023841858,
          6.400000095367432,
          6.400000095367432,
          null,
          4.800000071525574,
          9.5,
          7.200000107288361,
          4.000000059604645,
          4.800000071525574,
          8.00000011920929,
          8.00000011920929,
          10.400000154972076,
          9.600000143051147,
          4.0,
          8.800000131130219,
          6.400000095367432,
          9.600000143051147,
          8.800000131130219,
          8.800000131130219,
          1.600000023841858,
          4.800000071525574,
          8.800000131130219,
          6.400000095367432,
          4.800000071525574,
          null,
          8.800000131130219,
          8.00000011920929,
          8.800000131130219,
          8.5,
          null,
          2.400000035762787,
          9.600000143051147,
          8.00000011920929,
          8.800000131130219,
          6.400000095367432,
          null,
          4.000000059604645,
          6.400000095367432,
          6.400000095367432,
          null,
          8.00000011920929,
          8.00000011920929,
          8.00000011920929,
          8.800000131130219,
          null,
          0.0,
          5.600000083446503,
          null,
          8.00000011920929,
          8.00000011920929,
          null,
          7.200000107288361,
          6.400000095367432,
          11.200000166893004,
          8.00000011920929,
          8.800000131130219,
          7.200000107288361,
          2.400000035762787,
          8.800000131130219,
          6.400000095367432,
          8.800000131130219,
          8.800000131130219,
          7.200000107288361,
          null,
          null,
          10.400000154972076,
          10.0,
          7.200000107288361,
          0.0,
          4.800000071525574,
          null,
          8.800000131130219,
          0.0,
          3.200000047683716,
          6.400000095367432,
          7.200000107288361,
          4.0,
          7.200000107288361,
          4.000000059604645,
          null,
          10.400000154972076,
          null,
          9.600000143051147,
          6.400000095367432,
          6.400000095367432,
          4.800000071525574,
          5.600000083446503,
          6.400000095367432,
          4.800000071525574,
          8.800000131130219,
          null,
          8.0,
          6.400000095367432,
          9.600000143051147,
          7.200000107288361,
          null,
          4.800000071525574,
          9.600000143051147,
          7.5,
          10.400000154972076,
          6.400000095367432,
          5.600000083446503,
          4.800000071525574,
          8.800000131130219,
          null,
          3.200000047683716,
          null,
          5.600000083446503,
          7.200000107288361,
          4.000000059604645,
          null,
          null,
          null,
          null,
          7.200000107288361,
          8.00000011920929,
          null,
          6.400000095367432,
          5.600000083446503,
          6.400000095367432,
          null,
          8.00000011920929,
          6.400000095367432,
          8.800000131130219,
          8.00000011920929,
          9.600000143051147,
          7.200000107288361,
          10.400000154972076,
          7.200000107288361,
          6.400000095367432,
          10.400000154972076,
          6.400000095367432,
          8.800000131130219,
          7.200000107288361,
          9.600000143051147,
          8.00000011920929,
          4.800000071525574,
          4.000000059604645,
          null,
          5.600000083446503,
          8.00000011920929,
          6.400000095367432,
          8.00000011920929,
          6.400000095367432,
          9.600000143051147,
          9.600000143051147,
          6.400000095367432,
          8.800000131130219,
          null,
          null,
          8.800000131130219,
          null,
          4.800000071525574,
          6.400000095367432,
          1.600000023841858,
          4.000000059604645,
          8.800000131130219,
          8.00000011920929,
          7.200000107288361,
          8.800000131130219,
          7.200000107288361,
          5.600000083446503,
          7.200000107288361,
          9.600000143051147,
          9.600000143051147,
          10.400000154972076,
          5.600000083446503,
          null,
          7.200000107288361,
          9.600000143051147,
          6.400000095367432,
          3.200000047683716,
          8.0,
          8.00000011920929,
          7.200000107288361,
          7.200000107288361,
          7.200000107288361,
          5.600000083446503,
          2.400000035762787,
          8.800000131130219,
          4.000000059604645,
          5.600000083446503,
          10.400000154972076,
          9.600000143051147,
          8.00000011920929,
          8.800000131130219,
          7.200000107288361,
          8.800000131130219,
          6.400000095367432,
          8.800000131130219,
          4.800000071525574,
          7.200000107288361,
          7.200000107288361,
          8.00000011920929,
          6.400000095367432,
          3.200000047683716,
          6.400000095367432,
          7.200000107288361,
          5.600000083446503,
          9.600000143051147,
          6.0,
          1.600000023841858,
          8.00000011920929,
          6.400000095367432,
          7.200000107288361,
          6.400000095367432,
          8.800000131130219,
          0.800000011920929,
          8.00000011920929,
          3.200000047683716,
          5.600000083446503,
          6.400000095367432,
          8.800000131130219,
          null,
          6.400000095367432,
          5.600000083446503,
          5.600000083446503,
          3.200000047683716,
          8.00000011920929,
          6.400000095367432,
          7.200000107288361,
          8.800000131130219,
          8.00000011920929,
          10.400000154972076,
          6.400000095367432,
          6.953448373952816,
          2.2960773095123144,
          9.9,
          1.3
         ],
         "yaxis": "y",
         "type": "scatter"
        },
        {
         "hovertemplate": "level=%{x}<br>value=%{y}<extra></extra>",
         "legendgroup": "",
         "marker": {
          "color": "#636efa",
          "symbol": "circle"
         },
         "mode": "markers",
         "name": "",
         "orientation": "v",
         "showlegend": false,
         "x": [
          5,
          5,
          5,
          5,
          5,
          5,
          5,
          5,
          5,
          5,
          5,
          5,
          5,
          5,
          5,
          5,
          5,
          5,
          5,
          5,
          5,
          5,
          5,
          5,
          5,
          5,
          5,
          5,
          5,
          5,
          5,
          5,
          5,
          5,
          5,
          5,
          5,
          5,
          5,
          5,
          5,
          5,
          5,
          5,
          5,
          5,
          5,
          5,
          5,
          5,
          5,
          5,
          5,
          5,
          5,
          5,
          5,
          5,
          5,
          5,
          5,
          5,
          5,
          5,
          5,
          5,
          5,
          5,
          5,
          5,
          5,
          5,
          5,
          5,
          5,
          5,
          5,
          5,
          5,
          5,
          5,
          5,
          5,
          5,
          5,
          5,
          5,
          5,
          5,
          5,
          5,
          5,
          5,
          5,
          5,
          5,
          5,
          5,
          5,
          5,
          5,
          5,
          5,
          5,
          5,
          5,
          5,
          5,
          5,
          5,
          5,
          5,
          5,
          5,
          5,
          5,
          5,
          5,
          5,
          5,
          5,
          5,
          5,
          5,
          5,
          5,
          5,
          5,
          5,
          5,
          5,
          5,
          5,
          5,
          5,
          5,
          5,
          5,
          5,
          5,
          5,
          5,
          5,
          5,
          5,
          5,
          5,
          5,
          5,
          5,
          5,
          5,
          5,
          5,
          5,
          5,
          5,
          5,
          5,
          5,
          5,
          5,
          5,
          5,
          5,
          5,
          5,
          5,
          5,
          5,
          5,
          5,
          5,
          5,
          5,
          5,
          5,
          5,
          5,
          5,
          5,
          5,
          5,
          5,
          5,
          5,
          5,
          5,
          5,
          5,
          5,
          5,
          5,
          5,
          5,
          5,
          5,
          5,
          5,
          5,
          5,
          5,
          5,
          5,
          5,
          5,
          5,
          5,
          5,
          5,
          5,
          5,
          5,
          5,
          5,
          5,
          5,
          5,
          5,
          5,
          5,
          5,
          5,
          5,
          5,
          5,
          5,
          5,
          5,
          5,
          5,
          5,
          5,
          5,
          5,
          5,
          5,
          5,
          5,
          5,
          5,
          5,
          5,
          5,
          5,
          5,
          5,
          5,
          5,
          5,
          5,
          5,
          5,
          5,
          5,
          5,
          5,
          5,
          5,
          5,
          5,
          5,
          5,
          5,
          5,
          5,
          5,
          5,
          5,
          5,
          5
         ],
         "xaxis": "x",
         "y": [
          8.800000131130219,
          8.00000011920929,
          7.0,
          4.800000071525574,
          5.600000083446503,
          4.800000071525574,
          8.00000011920929,
          5.600000083446503,
          7.200000107288361,
          5.600000083446503,
          6.400000095367432,
          null,
          5.600000083446503,
          3.200000047683716,
          5.600000083446503,
          0.0,
          null,
          3.200000047683716,
          2.400000035762787,
          4.000000059604645,
          8.00000011920929,
          6.400000095367432,
          6.400000095367432,
          3.200000047683716,
          7.200000107288361,
          7.200000107288361,
          8.00000011920929,
          2.400000035762787,
          null,
          null,
          6.400000095367432,
          6.400000095367432,
          8.800000131130219,
          null,
          7.200000107288361,
          6.400000095367432,
          8.5,
          null,
          null,
          5.600000083446503,
          8.00000011920929,
          3.200000047683716,
          4.800000071525574,
          5.600000083446503,
          8.800000131130219,
          null,
          6.400000095367432,
          6.0,
          4.800000071525574,
          null,
          4.000000059604645,
          7.200000107288361,
          8.00000011920929,
          7.200000107288361,
          7.200000107288361,
          5.0,
          11.200000166893004,
          5.600000083446503,
          7.200000107288361,
          7.200000107288361,
          7.200000107288361,
          null,
          4.000000059604645,
          5.600000083446503,
          6.400000095367432,
          5.600000083446503,
          null,
          7.200000107288361,
          8.00000011920929,
          7.200000107288361,
          7.0,
          null,
          null,
          6.400000095367432,
          7.200000107288361,
          7.200000107288361,
          null,
          null,
          6.400000095367432,
          5.600000083446503,
          7.200000107288361,
          null,
          5.600000083446503,
          4.000000059604645,
          8.00000011920929,
          6.400000095367432,
          0.800000011920929,
          16.00000023841858,
          2.400000035762787,
          null,
          6.400000095367432,
          4.000000059604645,
          2.400000035762787,
          8.800000131130219,
          4.800000071525574,
          10.400000154972076,
          7.200000107288361,
          0.800000011920929,
          7.200000107288361,
          null,
          7.200000107288361,
          5.600000083446503,
          8.00000011920929,
          8.00000011920929,
          8.00000011920929,
          0.0,
          null,
          8.00000011920929,
          8.5,
          4.000000059604645,
          null,
          3.200000047683716,
          null,
          6.400000095367432,
          4.800000071525574,
          7.200000107288361,
          null,
          4.000000059604645,
          4.5,
          null,
          0.800000011920929,
          null,
          8.800000131130219,
          null,
          7.200000107288361,
          0.0,
          8.00000011920929,
          6.400000095367432,
          4.000000059604645,
          4.800000071525574,
          4.800000071525574,
          6.400000095367432,
          null,
          6.5,
          6.400000095367432,
          5.600000083446503,
          8.800000131130219,
          3.200000047683716,
          5.600000083446503,
          6.400000095367432,
          6.5,
          8.800000131130219,
          7.200000107288361,
          6.400000095367432,
          3.200000047683716,
          5.600000083446503,
          null,
          null,
          null,
          4.800000071525574,
          8.00000011920929,
          2.400000035762787,
          null,
          null,
          null,
          null,
          6.400000095367432,
          8.00000011920929,
          null,
          5.600000083446503,
          6.400000095367432,
          7.200000107288361,
          null,
          7.200000107288361,
          4.800000071525574,
          8.00000011920929,
          5.600000083446503,
          7.200000107288361,
          6.400000095367432,
          8.800000131130219,
          7.200000107288361,
          4.000000059604645,
          6.400000095367432,
          8.800000131130219,
          8.800000131130219,
          6.400000095367432,
          8.00000011920929,
          1.600000023841858,
          5.600000083446503,
          5.600000083446503,
          null,
          0.0,
          4.000000059604645,
          6.400000095367432,
          6.400000095367432,
          8.00000011920929,
          4.000000059604645,
          8.800000131130219,
          8.00000011920929,
          4.800000071525574,
          0.0,
          null,
          8.00000011920929,
          0.800000011920929,
          2.400000035762787,
          7.200000107288361,
          null,
          1.600000023841858,
          4.800000071525574,
          4.800000071525574,
          7.200000107288361,
          8.00000011920929,
          8.800000131130219,
          4.000000059604645,
          6.400000095367432,
          7.200000107288361,
          6.400000095367432,
          7.200000107288361,
          3.200000047683716,
          null,
          7.200000107288361,
          7.200000107288361,
          10.400000154972076,
          5.600000083446503,
          6.0,
          7.200000107288361,
          8.00000011920929,
          7.200000107288361,
          5.600000083446503,
          7.200000107288361,
          3.200000047683716,
          8.800000131130219,
          2.400000035762787,
          5.600000083446503,
          8.800000131130219,
          4.800000071525574,
          8.00000011920929,
          5.600000083446503,
          2.400000035762787,
          7.200000107288361,
          4.800000071525574,
          9.600000143051147,
          6.400000095367432,
          5.600000083446503,
          7.200000107288361,
          4.800000071525574,
          4.800000071525574,
          null,
          8.00000011920929,
          5.600000083446503,
          6.400000095367432,
          9.600000143051147,
          0.0,
          3.200000047683716,
          8.00000011920929,
          4.800000071525574,
          5.600000083446503,
          4.000000059604645,
          8.800000131130219,
          0.800000011920929,
          4.000000059604645,
          6.400000095367432,
          8.00000011920929,
          0.0,
          8.00000011920929,
          null,
          6.400000095367432,
          4.800000071525574,
          6.400000095367432,
          7.200000107288361,
          8.00000011920929,
          6.400000095367432,
          8.00000011920929,
          7.200000107288361,
          7.200000107288361,
          7.200000107288361,
          3.200000047683716,
          5.999557607205568,
          2.3138004502062812,
          10.5,
          1.5
         ],
         "yaxis": "y",
         "type": "scatter"
        },
        {
         "hovertemplate": "level=%{x}<br>value=%{y}<extra></extra>",
         "legendgroup": "",
         "marker": {
          "color": "#636efa",
          "symbol": "circle"
         },
         "mode": "markers",
         "name": "",
         "orientation": "v",
         "showlegend": false,
         "x": [
          6,
          6,
          6,
          6,
          6,
          6,
          6,
          6,
          6,
          6,
          6,
          6,
          6,
          6,
          6,
          6,
          6,
          6,
          6,
          6,
          6,
          6,
          6,
          6,
          6,
          6,
          6,
          6,
          6,
          6,
          6,
          6,
          6,
          6,
          6,
          6,
          6,
          6,
          6,
          6,
          6,
          6,
          6,
          6,
          6,
          6,
          6,
          6,
          6,
          6,
          6,
          6,
          6,
          6,
          6,
          6,
          6,
          6,
          6,
          6,
          6,
          6,
          6,
          6,
          6,
          6,
          6,
          6,
          6,
          6,
          6,
          6,
          6,
          6,
          6,
          6,
          6,
          6,
          6,
          6,
          6,
          6,
          6,
          6,
          6,
          6,
          6,
          6,
          6,
          6,
          6,
          6,
          6,
          6,
          6,
          6,
          6,
          6,
          6,
          6,
          6,
          6,
          6,
          6,
          6,
          6,
          6,
          6,
          6,
          6,
          6,
          6,
          6,
          6,
          6,
          6,
          6,
          6,
          6,
          6,
          6,
          6,
          6,
          6,
          6,
          6,
          6,
          6,
          6,
          6,
          6,
          6,
          6,
          6,
          6,
          6,
          6,
          6,
          6,
          6,
          6,
          6,
          6,
          6,
          6,
          6,
          6,
          6,
          6,
          6,
          6,
          6,
          6,
          6,
          6,
          6,
          6,
          6,
          6,
          6,
          6,
          6,
          6,
          6,
          6,
          6,
          6,
          6,
          6,
          6,
          6,
          6,
          6,
          6,
          6,
          6,
          6,
          6,
          6,
          6,
          6,
          6,
          6,
          6,
          6,
          6,
          6,
          6,
          6,
          6,
          6,
          6,
          6,
          6,
          6,
          6,
          6,
          6,
          6,
          6,
          6,
          6,
          6,
          6,
          6,
          6,
          6,
          6,
          6,
          6,
          6,
          6,
          6,
          6,
          6,
          6,
          6,
          6,
          6,
          6,
          6,
          6,
          6,
          6,
          6,
          6,
          6,
          6,
          6,
          6,
          6,
          6,
          6,
          6,
          6,
          6,
          6,
          6,
          6,
          6,
          6,
          6,
          6,
          6,
          6,
          6,
          6,
          6,
          6,
          6,
          6,
          6,
          6,
          6,
          6,
          6,
          6,
          6,
          6,
          6,
          6,
          6,
          6,
          6,
          6,
          6,
          6,
          6,
          6,
          6,
          6
         ],
         "xaxis": "x",
         "y": [
          10.400000154972076,
          8.800000131130219,
          9.0,
          4.000000059604645,
          6.400000095367432,
          8.00000011920929,
          6.400000095367432,
          4.800000071525574,
          8.00000011920929,
          6.400000095367432,
          8.00000011920929,
          null,
          6.400000095367432,
          5.600000083446503,
          9.600000143051147,
          0.0,
          0.0,
          1.600000023841858,
          4.000000059604645,
          9.600000143051147,
          9.600000143051147,
          8.00000011920929,
          7.200000107288361,
          null,
          8.00000011920929,
          10.400000154972076,
          8.00000011920929,
          6.400000095367432,
          12.000000178813934,
          null,
          4.800000071525574,
          4.000000059604645,
          8.800000131130219,
          null,
          7.200000107288361,
          4.800000071525574,
          7.0,
          null,
          null,
          11.200000166893004,
          6.400000095367432,
          4.800000071525574,
          7.200000107288361,
          5.600000083446503,
          8.800000131130219,
          null,
          7.200000107288361,
          7.0,
          5.600000083446503,
          13.600000202655792,
          6.400000095367432,
          6.400000095367432,
          8.00000011920929,
          8.00000011920929,
          7.200000107288361,
          8.0,
          11.200000166893004,
          5.600000083446503,
          8.800000131130219,
          8.00000011920929,
          8.800000131130219,
          5.600000083446503,
          6.400000095367432,
          8.00000011920929,
          8.00000011920929,
          6.400000095367432,
          null,
          8.00000011920929,
          7.200000107288361,
          24.00000035762787,
          9.5,
          null,
          null,
          6.400000095367432,
          7.200000107288361,
          7.200000107288361,
          4.800000071525574,
          null,
          6.400000095367432,
          7.200000107288361,
          7.200000107288361,
          null,
          7.200000107288361,
          8.00000011920929,
          8.800000131130219,
          8.00000011920929,
          1.600000023841858,
          22.40000033378601,
          8.00000011920929,
          1.600000023841858,
          8.800000131130219,
          4.800000071525574,
          null,
          9.600000143051147,
          6.400000095367432,
          8.800000131130219,
          8.00000011920929,
          null,
          7.200000107288361,
          null,
          4.800000071525574,
          5.600000083446503,
          7.200000107288361,
          8.00000011920929,
          8.00000011920929,
          null,
          null,
          7.200000107288361,
          5.5,
          4.000000059604645,
          null,
          5.600000083446503,
          null,
          8.800000131130219,
          0.800000011920929,
          4.800000071525574,
          0.800000011920929,
          8.800000131130219,
          7.5,
          null,
          4.800000071525574,
          null,
          8.00000011920929,
          null,
          8.00000011920929,
          3.200000047683716,
          8.800000131130219,
          9.600000143051147,
          7.200000107288361,
          11.200000166893004,
          6.400000095367432,
          8.00000011920929,
          null,
          8.0,
          8.800000131130219,
          7.200000107288361,
          8.00000011920929,
          0.800000011920929,
          6.400000095367432,
          8.800000131130219,
          2.0,
          8.00000011920929,
          7.200000107288361,
          8.800000131130219,
          1.600000023841858,
          8.00000011920929,
          null,
          0.800000011920929,
          null,
          7.200000107288361,
          7.200000107288361,
          2.400000035762787,
          null,
          2.400000035762787,
          null,
          null,
          8.00000011920929,
          8.00000011920929,
          null,
          8.00000011920929,
          7.200000107288361,
          10.400000154972076,
          null,
          8.800000131130219,
          5.600000083446503,
          7.200000107288361,
          2.400000035762787,
          7.200000107288361,
          6.400000095367432,
          7.200000107288361,
          8.00000011920929,
          7.200000107288361,
          20.800000309944153,
          9.600000143051147,
          8.800000131130219,
          8.00000011920929,
          10.400000154972076,
          4.800000071525574,
          4.800000071525574,
          6.400000095367432,
          3.200000047683716,
          4.800000071525574,
          7.200000107288361,
          7.200000107288361,
          8.00000011920929,
          9.600000143051147,
          5.600000083446503,
          9.600000143051147,
          7.200000107288361,
          8.800000131130219,
          2.400000035762787,
          null,
          8.00000011920929,
          2.400000035762787,
          3.200000047683716,
          8.800000131130219,
          4.800000071525574,
          0.800000011920929,
          8.800000131130219,
          7.200000107288361,
          8.00000011920929,
          7.200000107288361,
          8.00000011920929,
          5.600000083446503,
          8.00000011920929,
          8.00000011920929,
          8.00000011920929,
          9.600000143051147,
          4.000000059604645,
          null,
          7.200000107288361,
          8.800000131130219,
          8.800000131130219,
          4.800000071525574,
          4.0,
          4.800000071525574,
          4.800000071525574,
          8.00000011920929,
          6.400000095367432,
          9.600000143051147,
          4.800000071525574,
          8.800000131130219,
          5.600000083446503,
          4.800000071525574,
          10.400000154972076,
          8.800000131130219,
          11.200000166893004,
          8.00000011920929,
          11.200000166893004,
          7.200000107288361,
          10.400000154972076,
          6.400000095367432,
          7.200000107288361,
          7.200000107288361,
          6.400000095367432,
          5.600000083446503,
          6.400000095367432,
          1.600000023841858,
          8.00000011920929,
          6.400000095367432,
          6.400000095367432,
          8.00000011920929,
          null,
          8.800000131130219,
          8.800000131130219,
          5.600000083446503,
          6.400000095367432,
          3.200000047683716,
          8.800000131130219,
          8.800000131130219,
          6.400000095367432,
          6.400000095367432,
          9.600000143051147,
          12.800000190734863,
          8.00000011920929,
          1.600000023841858,
          7.200000107288361,
          7.200000107288361,
          8.00000011920929,
          8.00000011920929,
          8.00000011920929,
          8.00000011920929,
          10.400000154972076,
          6.400000095367432,
          9.600000143051147,
          7.200000107288361,
          6.400000095367432,
          7.139743691835648,
          2.955178306671152,
          9.7,
          1.6
         ],
         "yaxis": "y",
         "type": "scatter"
        },
        {
         "hovertemplate": "level=%{x}<br>value=%{y}<extra></extra>",
         "legendgroup": "",
         "marker": {
          "color": "#636efa",
          "symbol": "circle"
         },
         "mode": "markers",
         "name": "",
         "orientation": "v",
         "showlegend": false,
         "x": [
          7,
          7,
          7,
          7,
          7,
          7,
          7,
          7,
          7,
          7,
          7,
          7,
          7,
          7,
          7,
          7,
          7,
          7,
          7,
          7,
          7,
          7,
          7,
          7,
          7,
          7,
          7,
          7,
          7,
          7,
          7,
          7,
          7,
          7,
          7,
          7,
          7,
          7,
          7,
          7,
          7,
          7,
          7,
          7,
          7,
          7,
          7,
          7,
          7,
          7,
          7,
          7,
          7,
          7,
          7,
          7,
          7,
          7,
          7,
          7,
          7,
          7,
          7,
          7,
          7,
          7,
          7,
          7,
          7,
          7,
          7,
          7,
          7,
          7,
          7,
          7,
          7,
          7,
          7,
          7,
          7,
          7,
          7,
          7,
          7,
          7,
          7,
          7,
          7,
          7,
          7,
          7,
          7,
          7,
          7,
          7,
          7,
          7,
          7,
          7,
          7,
          7,
          7,
          7,
          7,
          7,
          7,
          7,
          7,
          7,
          7,
          7,
          7,
          7,
          7,
          7,
          7,
          7,
          7,
          7,
          7,
          7,
          7,
          7,
          7,
          7,
          7,
          7,
          7,
          7,
          7,
          7,
          7,
          7,
          7,
          7,
          7,
          7,
          7,
          7,
          7,
          7,
          7,
          7,
          7,
          7,
          7,
          7,
          7,
          7,
          7,
          7,
          7,
          7,
          7,
          7,
          7,
          7,
          7,
          7,
          7,
          7,
          7,
          7,
          7,
          7,
          7,
          7,
          7,
          7,
          7,
          7,
          7,
          7,
          7,
          7,
          7,
          7,
          7,
          7,
          7,
          7,
          7,
          7,
          7,
          7,
          7,
          7,
          7,
          7,
          7,
          7,
          7,
          7,
          7,
          7,
          7,
          7,
          7,
          7,
          7,
          7,
          7,
          7,
          7,
          7,
          7,
          7,
          7,
          7,
          7,
          7,
          7,
          7,
          7,
          7,
          7,
          7,
          7,
          7,
          7,
          7,
          7,
          7,
          7,
          7,
          7,
          7,
          7,
          7,
          7,
          7,
          7,
          7,
          7,
          7,
          7,
          7,
          7,
          7,
          7,
          7,
          7,
          7,
          7,
          7,
          7,
          7,
          7,
          7,
          7,
          7,
          7,
          7,
          7,
          7,
          7,
          7,
          7,
          7,
          7,
          7,
          7,
          7,
          7,
          7,
          7,
          7,
          7,
          7,
          7
         ],
         "xaxis": "x",
         "y": [
          11.200000166893004,
          9.600000143051147,
          8.0,
          8.00000011920929,
          7.200000107288361,
          11.200000166893004,
          7.200000107288361,
          8.00000011920929,
          8.800000131130219,
          6.400000095367432,
          10.400000154972076,
          null,
          7.200000107288361,
          6.400000095367432,
          9.600000143051147,
          5.0,
          6.400000095367432,
          0.800000011920929,
          null,
          2.400000035762787,
          9.600000143051147,
          9.600000143051147,
          10.400000154972076,
          0.0,
          null,
          8.00000011920929,
          10.400000154972076,
          7.200000107288361,
          8.00000011920929,
          null,
          8.800000131130219,
          6.400000095367432,
          9.600000143051147,
          null,
          9.600000143051147,
          0.0,
          8.5,
          null,
          null,
          null,
          9.600000143051147,
          2.400000035762787,
          8.800000131130219,
          7.200000107288361,
          8.800000131130219,
          null,
          9.600000143051147,
          6.5,
          7.200000107288361,
          8.00000011920929,
          null,
          8.00000011920929,
          8.800000131130219,
          8.00000011920929,
          8.800000131130219,
          5.0,
          12.000000178813934,
          4.000000059604645,
          11.200000166893004,
          9.600000143051147,
          8.00000011920929,
          5.600000083446503,
          8.800000131130219,
          9.600000143051147,
          10.400000154972076,
          8.800000131130219,
          null,
          8.800000131130219,
          8.800000131130219,
          8.00000011920929,
          10.0,
          null,
          0.800000011920929,
          6.400000095367432,
          7.200000107288361,
          8.800000131130219,
          6.400000095367432,
          null,
          7.200000107288361,
          20.800000309944153,
          9.600000143051147,
          null,
          5.600000083446503,
          8.800000131130219,
          8.800000131130219,
          10.400000154972076,
          4.800000071525574,
          2.400000035762787,
          8.00000011920929,
          9.600000143051147,
          10.400000154972076,
          8.00000011920929,
          1.600000023841858,
          10.400000154972076,
          8.800000131130219,
          9.600000143051147,
          9.600000143051147,
          null,
          10.400000154972076,
          null,
          8.00000011920929,
          8.800000131130219,
          8.00000011920929,
          10.400000154972076,
          5.600000083446503,
          4.000000059604645,
          null,
          8.800000131130219,
          2.5,
          8.800000131130219,
          null,
          12.000000178813934,
          null,
          11.200000166893004,
          5.600000083446503,
          6.400000095367432,
          0.0,
          8.800000131130219,
          8.5,
          null,
          8.00000011920929,
          null,
          11.200000166893004,
          null,
          19.200000286102295,
          7.200000107288361,
          8.00000011920929,
          8.00000011920929,
          10.400000154972076,
          8.00000011920929,
          9.600000143051147,
          8.800000131130219,
          1.600000023841858,
          7.5,
          7.200000107288361,
          9.600000143051147,
          9.600000143051147,
          0.0,
          6.400000095367432,
          10.400000154972076,
          5.5,
          20.000000298023224,
          8.800000131130219,
          11.200000166893004,
          8.800000131130219,
          8.800000131130219,
          null,
          6.400000095367432,
          null,
          8.00000011920929,
          4.000000059604645,
          0.800000011920929,
          null,
          8.00000011920929,
          3.200000047683716,
          3.200000047683716,
          10.400000154972076,
          9.600000143051147,
          null,
          12.800000190734863,
          8.00000011920929,
          10.400000154972076,
          0.800000011920929,
          8.800000131130219,
          4.800000071525574,
          8.800000131130219,
          9.600000143051147,
          null,
          10.400000154972076,
          10.400000154972076,
          9.600000143051147,
          8.800000131130219,
          6.400000095367432,
          null,
          8.800000131130219,
          10.400000154972076,
          10.400000154972076,
          11.200000166893004,
          8.00000011920929,
          8.800000131130219,
          4.000000059604645,
          5.600000083446503,
          8.800000131130219,
          8.800000131130219,
          10.400000154972076,
          10.400000154972076,
          6.400000095367432,
          9.600000143051147,
          8.00000011920929,
          8.800000131130219,
          null,
          null,
          11.200000166893004,
          4.800000071525574,
          8.00000011920929,
          12.800000190734863,
          8.800000131130219,
          4.800000071525574,
          8.800000131130219,
          8.00000011920929,
          10.400000154972076,
          8.00000011920929,
          8.800000131130219,
          7.200000107288361,
          7.200000107288361,
          9.600000143051147,
          9.600000143051147,
          12.000000178813934,
          8.800000131130219,
          null,
          8.800000131130219,
          10.400000154972076,
          8.00000011920929,
          8.800000131130219,
          null,
          11.200000166893004,
          null,
          9.600000143051147,
          7.200000107288361,
          10.400000154972076,
          8.800000131130219,
          10.400000154972076,
          6.400000095367432,
          8.00000011920929,
          11.200000166893004,
          7.200000107288361,
          11.200000166893004,
          5.600000083446503,
          5.600000083446503,
          10.400000154972076,
          14.40000021457672,
          13.600000202655792,
          0.800000011920929,
          10.400000154972076,
          7.200000107288361,
          8.800000131130219,
          8.00000011920929,
          10.400000154972076,
          11.200000166893004,
          9.600000143051147,
          4.800000071525574,
          8.800000131130219,
          null,
          7.200000107288361,
          9.600000143051147,
          8.00000011920929,
          8.800000131130219,
          4.000000059604645,
          12.000000178813934,
          8.00000011920929,
          7.200000107288361,
          12.800000190734863,
          9.600000143051147,
          10.400000154972076,
          7.200000107288361,
          3.200000047683716,
          7.200000107288361,
          8.800000131130219,
          8.00000011920929,
          12.000000178813934,
          13.600000202655792,
          9.600000143051147,
          8.800000131130219,
          6.400000095367432,
          7.200000107288361,
          8.800000131130219,
          8.800000131130219,
          8.242918573479797,
          2.9949821264442433,
          9.4,
          1.4
         ],
         "yaxis": "y",
         "type": "scatter"
        },
        {
         "hovertemplate": "level=%{x}<br>value=%{y}<extra></extra>",
         "legendgroup": "",
         "marker": {
          "color": "#636efa",
          "symbol": "circle"
         },
         "mode": "markers",
         "name": "",
         "orientation": "v",
         "showlegend": false,
         "x": [
          8,
          8,
          8,
          8,
          8,
          8,
          8,
          8,
          8,
          8,
          8,
          8,
          8,
          8,
          8,
          8,
          8,
          8,
          8,
          8,
          8,
          8,
          8,
          8,
          8,
          8,
          8,
          8,
          8,
          8,
          8,
          8,
          8,
          8,
          8,
          8,
          8,
          8,
          8,
          8,
          8,
          8,
          8,
          8,
          8,
          8,
          8,
          8,
          8,
          8,
          8,
          8,
          8,
          8,
          8,
          8,
          8,
          8,
          8,
          8,
          8,
          8,
          8,
          8,
          8,
          8,
          8,
          8,
          8,
          8,
          8,
          8,
          8,
          8,
          8,
          8,
          8,
          8,
          8,
          8,
          8,
          8,
          8,
          8,
          8,
          8,
          8,
          8,
          8,
          8,
          8,
          8,
          8,
          8,
          8,
          8,
          8,
          8,
          8,
          8,
          8,
          8,
          8,
          8,
          8,
          8,
          8,
          8,
          8,
          8,
          8,
          8,
          8,
          8,
          8,
          8,
          8,
          8,
          8,
          8,
          8,
          8,
          8,
          8,
          8,
          8,
          8,
          8,
          8,
          8,
          8,
          8,
          8,
          8,
          8,
          8,
          8,
          8,
          8,
          8,
          8,
          8,
          8,
          8,
          8,
          8,
          8,
          8,
          8,
          8,
          8,
          8,
          8,
          8,
          8,
          8,
          8,
          8,
          8,
          8,
          8,
          8,
          8,
          8,
          8,
          8,
          8,
          8,
          8,
          8,
          8,
          8,
          8,
          8,
          8,
          8,
          8,
          8,
          8,
          8,
          8,
          8,
          8,
          8,
          8,
          8,
          8,
          8,
          8,
          8,
          8,
          8,
          8,
          8,
          8,
          8,
          8,
          8,
          8,
          8,
          8,
          8,
          8,
          8,
          8,
          8,
          8,
          8,
          8,
          8,
          8,
          8,
          8,
          8,
          8,
          8,
          8,
          8,
          8,
          8,
          8,
          8,
          8,
          8,
          8,
          8,
          8,
          8,
          8,
          8,
          8,
          8,
          8,
          8,
          8,
          8,
          8,
          8,
          8,
          8,
          8,
          8,
          8,
          8,
          8,
          8,
          8,
          8,
          8,
          8,
          8,
          8,
          8,
          8,
          8,
          8,
          8,
          8,
          8,
          8,
          8,
          8,
          8,
          8,
          8,
          8,
          8,
          8,
          8,
          8,
          8
         ],
         "xaxis": "x",
         "y": [
          13.600000202655792,
          11.200000166893004,
          6.0,
          9.600000143051147,
          4.800000071525574,
          14.40000021457672,
          8.800000131130219,
          9.600000143051147,
          8.800000131130219,
          8.00000011920929,
          12.800000190734863,
          null,
          8.800000131130219,
          7.200000107288361,
          13.600000202655792,
          5.0,
          9.600000143051147,
          0.0,
          null,
          4.000000059604645,
          12.000000178813934,
          11.200000166893004,
          12.000000178813934,
          1.600000023841858,
          5.600000083446503,
          8.00000011920929,
          12.000000178813934,
          8.00000011920929,
          null,
          null,
          7.200000107288361,
          12.000000178813934,
          9.600000143051147,
          null,
          8.800000131130219,
          null,
          7.5,
          null,
          null,
          null,
          11.200000166893004,
          null,
          10.400000154972076,
          8.00000011920929,
          11.200000166893004,
          null,
          6.400000095367432,
          6.0,
          9.600000143051147,
          10.400000154972076,
          10.400000154972076,
          7.200000107288361,
          11.200000166893004,
          7.200000107288361,
          10.400000154972076,
          10.0,
          12.800000190734863,
          null,
          9.600000143051147,
          null,
          11.200000166893004,
          null,
          8.00000011920929,
          12.800000190734863,
          10.400000154972076,
          7.200000107288361,
          null,
          12.000000178813934,
          9.600000143051147,
          2.400000035762787,
          9.0,
          null,
          null,
          8.00000011920929,
          9.600000143051147,
          9.600000143051147,
          9.600000143051147,
          null,
          8.800000131130219,
          19.200000286102295,
          8.00000011920929,
          null,
          null,
          10.400000154972076,
          9.600000143051147,
          12.000000178813934,
          8.00000011920929,
          null,
          6.400000095367432,
          4.800000071525574,
          9.600000143051147,
          8.800000131130219,
          3.200000047683716,
          12.800000190734863,
          10.400000154972076,
          11.200000166893004,
          11.200000166893004,
          null,
          11.200000166893004,
          null,
          10.400000154972076,
          11.200000166893004,
          9.600000143051147,
          13.600000202655792,
          6.400000095367432,
          6.400000095367432,
          null,
          11.200000166893004,
          0.5,
          12.000000178813934,
          null,
          11.200000166893004,
          null,
          12.800000190734863,
          9.600000143051147,
          6.400000095367432,
          null,
          5.600000083446503,
          2.0,
          2.400000035762787,
          9.600000143051147,
          null,
          10.400000154972076,
          null,
          17.600000262260437,
          11.200000166893004,
          5.600000083446503,
          10.400000154972076,
          6.400000095367432,
          8.00000011920929,
          8.00000011920929,
          10.400000154972076,
          null,
          7.5,
          8.00000011920929,
          5.600000083446503,
          8.00000011920929,
          5.600000083446503,
          6.400000095367432,
          9.600000143051147,
          4.5,
          12.000000178813934,
          8.800000131130219,
          10.400000154972076,
          10.400000154972076,
          10.400000154972076,
          0.800000011920929,
          6.400000095367432,
          null,
          8.800000131130219,
          null,
          8.00000011920929,
          null,
          8.00000011920929,
          5.600000083446503,
          5.600000083446503,
          9.600000143051147,
          9.600000143051147,
          null,
          9.600000143051147,
          7.200000107288361,
          7.200000107288361,
          2.400000035762787,
          12.800000190734863,
          8.00000011920929,
          8.800000131130219,
          11.200000166893004,
          7.200000107288361,
          12.800000190734863,
          10.400000154972076,
          9.600000143051147,
          13.600000202655792,
          18.40000027418137,
          3.200000047683716,
          8.800000131130219,
          5.600000083446503,
          11.200000166893004,
          11.200000166893004,
          10.400000154972076,
          10.400000154972076,
          4.800000071525574,
          8.800000131130219,
          12.000000178813934,
          10.400000154972076,
          10.400000154972076,
          null,
          10.400000154972076,
          8.00000011920929,
          9.600000143051147,
          8.00000011920929,
          null,
          null,
          12.800000190734863,
          null,
          8.800000131130219,
          10.400000154972076,
          8.800000131130219,
          4.000000059604645,
          6.400000095367432,
          7.200000107288361,
          8.00000011920929,
          4.800000071525574,
          9.600000143051147,
          8.00000011920929,
          8.800000131130219,
          8.00000011920929,
          8.800000131130219,
          13.600000202655792,
          7.200000107288361,
          null,
          10.400000154972076,
          10.400000154972076,
          8.00000011920929,
          8.00000011920929,
          null,
          9.600000143051147,
          null,
          7.200000107288361,
          4.800000071525574,
          9.600000143051147,
          7.200000107288361,
          10.400000154972076,
          8.00000011920929,
          5.600000083446503,
          12.000000178813934,
          6.400000095367432,
          10.400000154972076,
          null,
          6.400000095367432,
          9.600000143051147,
          13.600000202655792,
          4.800000071525574,
          null,
          8.00000011920929,
          10.400000154972076,
          9.600000143051147,
          9.600000143051147,
          8.800000131130219,
          8.800000131130219,
          10.400000154972076,
          10.400000154972076,
          8.800000131130219,
          null,
          10.400000154972076,
          8.800000131130219,
          7.200000107288361,
          12.000000178813934,
          0.0,
          6.400000095367432,
          11.200000166893004,
          9.600000143051147,
          12.800000190734863,
          null,
          6.400000095367432,
          8.800000131130219,
          2.400000035762787,
          8.00000011920929,
          1.600000023841858,
          12.800000190734863,
          9.600000143051147,
          8.800000131130219,
          10.400000154972076,
          11.200000166893004,
          6.400000095367432,
          7.200000107288361,
          9.600000143051147,
          8.800000131130219,
          8.837837965638787,
          3.0043528667080195,
          9.6,
          1.4
         ],
         "yaxis": "y",
         "type": "scatter"
        },
        {
         "hovertemplate": "level=%{x}<br>value=%{y}<extra></extra>",
         "legendgroup": "",
         "marker": {
          "color": "#636efa",
          "symbol": "circle"
         },
         "mode": "markers",
         "name": "",
         "orientation": "v",
         "showlegend": false,
         "x": [
          9,
          9,
          9,
          9,
          9,
          9,
          9,
          9,
          9,
          9,
          9,
          9,
          9,
          9,
          9,
          9,
          9,
          9,
          9,
          9,
          9,
          9,
          9,
          9,
          9,
          9,
          9,
          9,
          9,
          9,
          9,
          9,
          9,
          9,
          9,
          9,
          9,
          9,
          9,
          9,
          9,
          9,
          9,
          9,
          9,
          9,
          9,
          9,
          9,
          9,
          9,
          9,
          9,
          9,
          9,
          9,
          9,
          9,
          9,
          9,
          9,
          9,
          9,
          9,
          9,
          9,
          9,
          9,
          9,
          9,
          9,
          9,
          9,
          9,
          9,
          9,
          9,
          9,
          9,
          9,
          9,
          9,
          9,
          9,
          9,
          9,
          9,
          9,
          9,
          9,
          9,
          9,
          9,
          9,
          9,
          9,
          9,
          9,
          9,
          9,
          9,
          9,
          9,
          9,
          9,
          9,
          9,
          9,
          9,
          9,
          9,
          9,
          9,
          9,
          9,
          9,
          9,
          9,
          9,
          9,
          9,
          9,
          9,
          9,
          9,
          9,
          9,
          9,
          9,
          9,
          9,
          9,
          9,
          9,
          9,
          9,
          9,
          9,
          9,
          9,
          9,
          9,
          9,
          9,
          9,
          9,
          9,
          9,
          9,
          9,
          9,
          9,
          9,
          9,
          9,
          9,
          9,
          9,
          9,
          9,
          9,
          9,
          9,
          9,
          9,
          9,
          9,
          9,
          9,
          9,
          9,
          9,
          9,
          9,
          9,
          9,
          9,
          9,
          9,
          9,
          9,
          9,
          9,
          9,
          9,
          9,
          9,
          9,
          9,
          9,
          9,
          9,
          9,
          9,
          9,
          9,
          9,
          9,
          9,
          9,
          9,
          9,
          9,
          9,
          9,
          9,
          9,
          9,
          9,
          9,
          9,
          9,
          9,
          9,
          9,
          9,
          9,
          9,
          9,
          9,
          9,
          9,
          9,
          9,
          9,
          9,
          9,
          9,
          9,
          9,
          9,
          9,
          9,
          9,
          9,
          9,
          9,
          9,
          9,
          9,
          9,
          9,
          9,
          9,
          9,
          9,
          9,
          9,
          9,
          9,
          9,
          9,
          9,
          9,
          9,
          9,
          9,
          9,
          9,
          9,
          9,
          9,
          9,
          9,
          9,
          9,
          9,
          9,
          9
         ],
         "xaxis": "x",
         "y": [
          14.40000021457672,
          8.800000131130219,
          10.0,
          11.200000166893004,
          10.400000154972076,
          14.40000021457672,
          13.600000202655792,
          12.800000190734863,
          14.40000021457672,
          2.400000035762787,
          14.40000021457672,
          null,
          8.800000131130219,
          7.200000107288361,
          15.20000022649765,
          12.0,
          10.400000154972076,
          null,
          9.600000143051147,
          4.000000059604645,
          29.60000044107437,
          13.600000202655792,
          12.000000178813934,
          1.600000023841858,
          8.800000131130219,
          10.400000154972076,
          13.600000202655792,
          11.200000166893004,
          3.200000047683716,
          null,
          1.600000023841858,
          14.40000021457672,
          12.000000178813934,
          null,
          12.800000190734863,
          8.00000011920929,
          5.5,
          null,
          null,
          4.800000071525574,
          12.000000178813934,
          8.00000011920929,
          21.60000032186508,
          11.200000166893004,
          6.400000095367432,
          8.00000011920929,
          9.600000143051147,
          null,
          12.000000178813934,
          12.800000190734863,
          22.40000033378601,
          8.00000011920929,
          10.400000154972076,
          10.400000154972076,
          13.600000202655792,
          5.0,
          12.000000178813934,
          null,
          16.00000023841858,
          7.200000107288361,
          7.200000107288361,
          null,
          12.800000190734863,
          17.600000262260437,
          13.600000202655792,
          8.00000011920929,
          null,
          14.40000021457672,
          6.400000095367432,
          6.400000095367432,
          13.0,
          null,
          1.600000023841858,
          8.800000131130219,
          10.400000154972076,
          23.20000034570694,
          5.600000083446503,
          null,
          null,
          null,
          9.600000143051147,
          null,
          null,
          12.800000190734863,
          4.800000071525574,
          14.40000021457672,
          14.40000021457672,
          null,
          15.20000022649765,
          0.800000011920929,
          12.800000190734863,
          21.60000032186508,
          null,
          15.20000022649765,
          12.000000178813934,
          12.000000178813934,
          13.600000202655792,
          4.000000059604645,
          12.800000190734863,
          null,
          14.40000021457672,
          12.800000190734863,
          9.600000143051147,
          14.40000021457672,
          4.800000071525574,
          11.200000166893004,
          null,
          9.600000143051147,
          null,
          8.800000131130219,
          null,
          12.800000190734863,
          null,
          8.800000131130219,
          4.000000059604645,
          12.800000190734863,
          null,
          12.000000178813934,
          7.5,
          null,
          13.600000202655792,
          null,
          14.40000021457672,
          null,
          6.400000095367432,
          16.00000023841858,
          11.200000166893004,
          8.00000011920929,
          3.200000047683716,
          6.400000095367432,
          21.60000032186508,
          10.400000154972076,
          12.800000190734863,
          2.5,
          9.600000143051147,
          1.600000023841858,
          10.400000154972076,
          16.00000023841858,
          8.800000131130219,
          12.000000178813934,
          7.5,
          16.00000023841858,
          16.00000023841858,
          12.800000190734863,
          10.400000154972076,
          11.200000166893004,
          4.800000071525574,
          8.00000011920929,
          4.000000059604645,
          6.400000095367432,
          null,
          2.400000035762787,
          null,
          6.400000095367432,
          null,
          27.200000405311584,
          15.20000022649765,
          12.800000190734863,
          null,
          7.200000107288361,
          12.000000178813934,
          8.800000131130219,
          11.200000166893004,
          11.200000166893004,
          8.800000131130219,
          9.600000143051147,
          11.200000166893004,
          9.600000143051147,
          0.800000011920929,
          9.600000143051147,
          15.20000022649765,
          11.200000166893004,
          16.800000250339508,
          3.200000047683716,
          10.400000154972076,
          12.800000190734863,
          12.000000178813934,
          11.200000166893004,
          11.200000166893004,
          12.000000178813934,
          4.800000071525574,
          10.400000154972076,
          12.800000190734863,
          13.600000202655792,
          16.800000250339508,
          null,
          0.800000011920929,
          11.200000166893004,
          12.000000178813934,
          11.200000166893004,
          2.400000035762787,
          null,
          13.600000202655792,
          1.600000023841858,
          18.40000027418137,
          17.600000262260437,
          9.600000143051147,
          8.00000011920929,
          4.800000071525574,
          16.800000250339508,
          12.000000178813934,
          4.000000059604645,
          10.400000154972076,
          8.800000131130219,
          10.400000154972076,
          12.800000190734863,
          11.200000166893004,
          16.00000023841858,
          9.600000143051147,
          null,
          8.800000131130219,
          12.000000178813934,
          8.800000131130219,
          12.800000190734863,
          2.0,
          11.200000166893004,
          4.800000071525574,
          13.600000202655792,
          0.0,
          14.40000021457672,
          12.800000190734863,
          13.600000202655792,
          9.600000143051147,
          10.400000154972076,
          12.000000178813934,
          null,
          14.40000021457672,
          null,
          24.00000035762787,
          13.600000202655792,
          12.000000178813934,
          8.800000131130219,
          null,
          6.400000095367432,
          null,
          11.200000166893004,
          8.800000131130219,
          12.800000190734863,
          14.40000021457672,
          16.00000023841858,
          12.800000190734863,
          14.40000021457672,
          null,
          7.200000107288361,
          16.00000023841858,
          12.000000178813934,
          12.800000190734863,
          null,
          10.400000154972076,
          15.20000022649765,
          12.800000190734863,
          15.20000022649765,
          8.00000011920929,
          12.000000178813934,
          8.00000011920929,
          3.200000047683716,
          10.400000154972076,
          24.00000035762787,
          9.600000143051147,
          12.000000178813934,
          14.40000021457672,
          9.600000143051147,
          6.400000095367432,
          10.400000154972076,
          9.600000143051147,
          11.200000166893004,
          11.200000166893004,
          10.809691786766052,
          4.7249356487110346
         ],
         "yaxis": "y",
         "type": "scatter"
        },
        {
         "hovertemplate": "level=%{x}<br>value=%{y}<extra></extra>",
         "legendgroup": "",
         "marker": {
          "color": "#636efa",
          "symbol": "circle"
         },
         "mode": "markers",
         "name": "",
         "orientation": "v",
         "showlegend": false,
         "x": [
          10,
          10,
          10,
          10,
          10,
          10,
          10,
          10,
          10,
          10,
          10,
          10,
          10,
          10,
          10,
          10,
          10,
          10,
          10,
          10,
          10,
          10,
          10,
          10,
          10,
          10,
          10,
          10,
          10,
          10,
          10,
          10,
          10,
          10,
          10,
          10,
          10,
          10,
          10,
          10,
          10,
          10,
          10,
          10,
          10,
          10,
          10,
          10,
          10,
          10,
          10,
          10,
          10,
          10,
          10,
          10,
          10,
          10,
          10,
          10,
          10,
          10,
          10,
          10,
          10,
          10,
          10,
          10,
          10,
          10,
          10,
          10,
          10,
          10,
          10,
          10,
          10,
          10,
          10,
          10,
          10,
          10,
          10,
          10,
          10,
          10,
          10,
          10,
          10,
          10,
          10,
          10,
          10,
          10,
          10,
          10,
          10,
          10,
          10,
          10,
          10,
          10,
          10,
          10,
          10,
          10,
          10,
          10,
          10,
          10,
          10,
          10,
          10,
          10,
          10,
          10,
          10,
          10,
          10,
          10,
          10,
          10,
          10,
          10,
          10,
          10,
          10,
          10,
          10,
          10,
          10,
          10,
          10,
          10,
          10,
          10,
          10,
          10,
          10,
          10,
          10,
          10,
          10,
          10,
          10,
          10,
          10,
          10,
          10,
          10,
          10,
          10,
          10,
          10,
          10,
          10,
          10,
          10,
          10,
          10,
          10,
          10,
          10,
          10,
          10,
          10,
          10,
          10,
          10,
          10,
          10,
          10,
          10,
          10,
          10,
          10,
          10,
          10,
          10,
          10,
          10,
          10,
          10,
          10,
          10,
          10,
          10,
          10,
          10,
          10,
          10,
          10,
          10,
          10,
          10,
          10,
          10,
          10,
          10,
          10,
          10,
          10,
          10,
          10,
          10,
          10,
          10,
          10,
          10,
          10,
          10,
          10,
          10,
          10,
          10,
          10,
          10,
          10,
          10,
          10,
          10,
          10,
          10,
          10,
          10,
          10,
          10,
          10,
          10,
          10,
          10,
          10,
          10,
          10,
          10,
          10,
          10,
          10,
          10,
          10,
          10,
          10,
          10,
          10,
          10,
          10,
          10,
          10,
          10,
          10,
          10,
          10,
          10,
          10,
          10,
          10,
          10,
          10,
          10,
          10,
          10,
          10,
          10,
          10,
          10,
          10,
          10,
          10,
          10
         ],
         "xaxis": "x",
         "y": [
          null,
          null,
          null,
          null,
          null,
          null,
          null,
          null,
          null,
          null,
          null,
          null,
          null,
          null,
          null,
          null,
          null,
          null,
          null,
          null,
          null,
          null,
          null,
          null,
          null,
          null,
          null,
          null,
          null,
          null,
          null,
          null,
          null,
          null,
          null,
          null,
          null,
          null,
          null,
          null,
          null,
          null,
          null,
          null,
          null,
          null,
          null,
          null,
          null,
          null,
          null,
          null,
          null,
          null,
          null,
          null,
          null,
          null,
          null,
          null,
          null,
          null,
          null,
          null,
          null,
          null,
          null,
          null,
          null,
          null,
          null,
          null,
          null,
          null,
          null,
          null,
          null,
          null,
          null,
          null,
          null,
          null,
          null,
          null,
          null,
          null,
          null,
          null,
          null,
          null,
          null,
          null,
          null,
          null,
          null,
          null,
          null,
          null,
          null,
          null,
          null,
          null,
          null,
          null,
          null,
          null,
          null,
          null,
          null,
          null,
          null,
          null,
          null,
          null,
          null,
          null,
          null,
          null,
          null,
          null,
          null,
          null,
          null,
          null,
          null,
          null,
          null,
          null,
          null,
          null,
          null,
          null,
          null,
          null,
          null,
          null,
          null,
          null,
          null,
          null,
          null,
          null,
          null,
          null,
          null,
          null,
          null,
          null,
          null,
          null,
          null,
          null,
          null,
          null,
          null,
          null,
          null,
          null,
          null,
          null,
          null,
          null,
          null,
          null,
          null,
          null,
          null,
          null,
          null,
          null,
          null,
          null,
          null,
          null,
          null,
          null,
          null,
          null,
          null,
          null,
          null,
          null,
          null,
          null,
          null,
          null,
          null,
          null,
          null,
          null,
          null,
          null,
          null,
          null,
          null,
          null,
          null,
          null,
          null,
          null,
          null,
          null,
          null,
          null,
          null,
          null,
          null,
          null,
          null,
          null,
          null,
          null,
          null,
          null,
          null,
          null,
          null,
          null,
          null,
          null,
          null,
          null,
          null,
          null,
          null,
          null,
          null,
          null,
          null,
          null,
          null,
          null,
          null,
          null,
          null,
          null,
          null,
          null,
          null,
          null,
          null,
          null,
          null,
          null,
          null,
          null,
          null,
          null,
          null,
          null,
          null,
          null,
          null,
          null,
          null,
          null,
          null,
          null,
          null,
          null,
          null,
          null,
          null,
          null,
          null,
          null,
          null,
          null,
          null
         ],
         "yaxis": "y",
         "type": "scatter"
        },
        {
         "hovertemplate": "level=%{x}<br>value=%{y}<extra></extra>",
         "legendgroup": "",
         "marker": {
          "color": "#636efa",
          "symbol": "circle"
         },
         "mode": "markers",
         "name": "",
         "orientation": "v",
         "showlegend": false,
         "x": [
          11,
          11,
          11,
          11,
          11,
          11,
          11,
          11,
          11,
          11,
          11,
          11,
          11,
          11,
          11,
          11,
          11,
          11,
          11,
          11,
          11,
          11,
          11,
          11,
          11,
          11,
          11,
          11,
          11,
          11,
          11,
          11,
          11,
          11,
          11,
          11,
          11,
          11,
          11,
          11,
          11,
          11,
          11,
          11,
          11,
          11,
          11,
          11,
          11,
          11,
          11,
          11,
          11,
          11,
          11,
          11,
          11,
          11,
          11,
          11,
          11,
          11,
          11,
          11,
          11,
          11,
          11,
          11,
          11,
          11,
          11,
          11,
          11,
          11,
          11,
          11,
          11,
          11,
          11,
          11,
          11,
          11,
          11,
          11,
          11,
          11,
          11,
          11,
          11,
          11,
          11,
          11,
          11,
          11,
          11,
          11,
          11,
          11,
          11,
          11,
          11,
          11,
          11,
          11,
          11,
          11,
          11,
          11,
          11,
          11,
          11,
          11,
          11,
          11,
          11,
          11,
          11,
          11,
          11,
          11,
          11,
          11,
          11,
          11,
          11,
          11,
          11,
          11,
          11,
          11,
          11,
          11,
          11,
          11,
          11,
          11,
          11,
          11,
          11,
          11,
          11,
          11,
          11,
          11,
          11,
          11,
          11,
          11,
          11,
          11,
          11,
          11,
          11,
          11,
          11,
          11,
          11,
          11,
          11,
          11,
          11,
          11,
          11,
          11,
          11,
          11,
          11,
          11,
          11,
          11,
          11,
          11,
          11,
          11,
          11,
          11,
          11,
          11,
          11,
          11,
          11,
          11,
          11,
          11,
          11,
          11,
          11,
          11,
          11,
          11,
          11,
          11,
          11,
          11,
          11,
          11,
          11,
          11,
          11,
          11,
          11,
          11,
          11,
          11,
          11,
          11,
          11,
          11,
          11,
          11,
          11,
          11,
          11,
          11,
          11,
          11,
          11,
          11,
          11,
          11,
          11,
          11,
          11,
          11,
          11,
          11,
          11,
          11,
          11,
          11,
          11,
          11,
          11,
          11,
          11,
          11,
          11,
          11,
          11,
          11,
          11,
          11,
          11,
          11,
          11,
          11,
          11,
          11,
          11,
          11,
          11,
          11,
          11,
          11,
          11,
          11,
          11,
          11,
          11,
          11,
          11,
          11,
          11,
          11,
          11,
          11,
          11,
          11,
          11
         ],
         "xaxis": "x",
         "y": [
          null,
          null,
          null,
          null,
          null,
          null,
          null,
          null,
          null,
          null,
          null,
          null,
          null,
          null,
          null,
          null,
          null,
          null,
          null,
          null,
          null,
          null,
          null,
          null,
          null,
          null,
          null,
          null,
          null,
          null,
          null,
          null,
          null,
          null,
          null,
          null,
          null,
          null,
          null,
          null,
          null,
          null,
          null,
          null,
          null,
          null,
          null,
          null,
          null,
          null,
          null,
          null,
          null,
          null,
          null,
          null,
          null,
          null,
          null,
          null,
          null,
          null,
          null,
          null,
          null,
          null,
          null,
          null,
          null,
          null,
          null,
          null,
          null,
          null,
          null,
          null,
          null,
          null,
          null,
          null,
          null,
          null,
          null,
          null,
          null,
          null,
          null,
          null,
          null,
          null,
          null,
          null,
          null,
          null,
          null,
          null,
          null,
          null,
          null,
          null,
          null,
          null,
          null,
          null,
          null,
          null,
          null,
          null,
          null,
          null,
          null,
          null,
          null,
          null,
          null,
          null,
          null,
          null,
          null,
          null,
          null,
          null,
          null,
          null,
          null,
          null,
          null,
          null,
          null,
          null,
          null,
          null,
          null,
          null,
          null,
          null,
          null,
          null,
          null,
          null,
          null,
          null,
          null,
          null,
          null,
          null,
          null,
          null,
          null,
          null,
          null,
          null,
          null,
          null,
          null,
          null,
          null,
          null,
          null,
          null,
          null,
          null,
          null,
          null,
          null,
          null,
          null,
          null,
          null,
          null,
          null,
          null,
          null,
          null,
          null,
          null,
          null,
          null,
          null,
          null,
          null,
          null,
          null,
          null,
          null,
          null,
          null,
          null,
          null,
          null,
          null,
          null,
          null,
          null,
          null,
          null,
          null,
          null,
          null,
          null,
          null,
          null,
          null,
          null,
          null,
          null,
          null,
          null,
          null,
          null,
          null,
          null,
          null,
          null,
          null,
          null,
          null,
          null,
          null,
          null,
          null,
          null,
          null,
          null,
          null,
          null,
          null,
          null,
          null,
          null,
          null,
          null,
          null,
          null,
          null,
          null,
          null,
          null,
          null,
          null,
          null,
          null,
          null,
          null,
          null,
          null,
          null,
          null,
          null,
          null,
          null,
          null,
          null,
          null,
          null,
          null,
          null,
          null,
          null,
          null,
          null,
          null,
          null,
          null,
          null,
          null,
          null,
          null,
          null
         ],
         "yaxis": "y",
         "type": "scatter"
        }
       ],
       "layout": {
        "template": {
         "data": {
          "histogram2dcontour": [
           {
            "type": "histogram2dcontour",
            "colorbar": {
             "outlinewidth": 0,
             "ticks": ""
            },
            "colorscale": [
             [
              0.0,
              "#0d0887"
             ],
             [
              0.1111111111111111,
              "#46039f"
             ],
             [
              0.2222222222222222,
              "#7201a8"
             ],
             [
              0.3333333333333333,
              "#9c179e"
             ],
             [
              0.4444444444444444,
              "#bd3786"
             ],
             [
              0.5555555555555556,
              "#d8576b"
             ],
             [
              0.6666666666666666,
              "#ed7953"
             ],
             [
              0.7777777777777778,
              "#fb9f3a"
             ],
             [
              0.8888888888888888,
              "#fdca26"
             ],
             [
              1.0,
              "#f0f921"
             ]
            ]
           }
          ],
          "choropleth": [
           {
            "type": "choropleth",
            "colorbar": {
             "outlinewidth": 0,
             "ticks": ""
            }
           }
          ],
          "histogram2d": [
           {
            "type": "histogram2d",
            "colorbar": {
             "outlinewidth": 0,
             "ticks": ""
            },
            "colorscale": [
             [
              0.0,
              "#0d0887"
             ],
             [
              0.1111111111111111,
              "#46039f"
             ],
             [
              0.2222222222222222,
              "#7201a8"
             ],
             [
              0.3333333333333333,
              "#9c179e"
             ],
             [
              0.4444444444444444,
              "#bd3786"
             ],
             [
              0.5555555555555556,
              "#d8576b"
             ],
             [
              0.6666666666666666,
              "#ed7953"
             ],
             [
              0.7777777777777778,
              "#fb9f3a"
             ],
             [
              0.8888888888888888,
              "#fdca26"
             ],
             [
              1.0,
              "#f0f921"
             ]
            ]
           }
          ],
          "heatmap": [
           {
            "type": "heatmap",
            "colorbar": {
             "outlinewidth": 0,
             "ticks": ""
            },
            "colorscale": [
             [
              0.0,
              "#0d0887"
             ],
             [
              0.1111111111111111,
              "#46039f"
             ],
             [
              0.2222222222222222,
              "#7201a8"
             ],
             [
              0.3333333333333333,
              "#9c179e"
             ],
             [
              0.4444444444444444,
              "#bd3786"
             ],
             [
              0.5555555555555556,
              "#d8576b"
             ],
             [
              0.6666666666666666,
              "#ed7953"
             ],
             [
              0.7777777777777778,
              "#fb9f3a"
             ],
             [
              0.8888888888888888,
              "#fdca26"
             ],
             [
              1.0,
              "#f0f921"
             ]
            ]
           }
          ],
          "heatmapgl": [
           {
            "type": "heatmapgl",
            "colorbar": {
             "outlinewidth": 0,
             "ticks": ""
            },
            "colorscale": [
             [
              0.0,
              "#0d0887"
             ],
             [
              0.1111111111111111,
              "#46039f"
             ],
             [
              0.2222222222222222,
              "#7201a8"
             ],
             [
              0.3333333333333333,
              "#9c179e"
             ],
             [
              0.4444444444444444,
              "#bd3786"
             ],
             [
              0.5555555555555556,
              "#d8576b"
             ],
             [
              0.6666666666666666,
              "#ed7953"
             ],
             [
              0.7777777777777778,
              "#fb9f3a"
             ],
             [
              0.8888888888888888,
              "#fdca26"
             ],
             [
              1.0,
              "#f0f921"
             ]
            ]
           }
          ],
          "contourcarpet": [
           {
            "type": "contourcarpet",
            "colorbar": {
             "outlinewidth": 0,
             "ticks": ""
            }
           }
          ],
          "contour": [
           {
            "type": "contour",
            "colorbar": {
             "outlinewidth": 0,
             "ticks": ""
            },
            "colorscale": [
             [
              0.0,
              "#0d0887"
             ],
             [
              0.1111111111111111,
              "#46039f"
             ],
             [
              0.2222222222222222,
              "#7201a8"
             ],
             [
              0.3333333333333333,
              "#9c179e"
             ],
             [
              0.4444444444444444,
              "#bd3786"
             ],
             [
              0.5555555555555556,
              "#d8576b"
             ],
             [
              0.6666666666666666,
              "#ed7953"
             ],
             [
              0.7777777777777778,
              "#fb9f3a"
             ],
             [
              0.8888888888888888,
              "#fdca26"
             ],
             [
              1.0,
              "#f0f921"
             ]
            ]
           }
          ],
          "surface": [
           {
            "type": "surface",
            "colorbar": {
             "outlinewidth": 0,
             "ticks": ""
            },
            "colorscale": [
             [
              0.0,
              "#0d0887"
             ],
             [
              0.1111111111111111,
              "#46039f"
             ],
             [
              0.2222222222222222,
              "#7201a8"
             ],
             [
              0.3333333333333333,
              "#9c179e"
             ],
             [
              0.4444444444444444,
              "#bd3786"
             ],
             [
              0.5555555555555556,
              "#d8576b"
             ],
             [
              0.6666666666666666,
              "#ed7953"
             ],
             [
              0.7777777777777778,
              "#fb9f3a"
             ],
             [
              0.8888888888888888,
              "#fdca26"
             ],
             [
              1.0,
              "#f0f921"
             ]
            ]
           }
          ],
          "mesh3d": [
           {
            "type": "mesh3d",
            "colorbar": {
             "outlinewidth": 0,
             "ticks": ""
            }
           }
          ],
          "scatter": [
           {
            "marker": {
             "line": {
              "color": "#283442"
             }
            },
            "type": "scatter"
           }
          ],
          "parcoords": [
           {
            "type": "parcoords",
            "line": {
             "colorbar": {
              "outlinewidth": 0,
              "ticks": ""
             }
            }
           }
          ],
          "scatterpolargl": [
           {
            "type": "scatterpolargl",
            "marker": {
             "colorbar": {
              "outlinewidth": 0,
              "ticks": ""
             }
            }
           }
          ],
          "bar": [
           {
            "error_x": {
             "color": "#f2f5fa"
            },
            "error_y": {
             "color": "#f2f5fa"
            },
            "marker": {
             "line": {
              "color": "rgb(17,17,17)",
              "width": 0.5
             },
             "pattern": {
              "fillmode": "overlay",
              "size": 10,
              "solidity": 0.2
             }
            },
            "type": "bar"
           }
          ],
          "scattergeo": [
           {
            "type": "scattergeo",
            "marker": {
             "colorbar": {
              "outlinewidth": 0,
              "ticks": ""
             }
            }
           }
          ],
          "scatterpolar": [
           {
            "type": "scatterpolar",
            "marker": {
             "colorbar": {
              "outlinewidth": 0,
              "ticks": ""
             }
            }
           }
          ],
          "histogram": [
           {
            "marker": {
             "pattern": {
              "fillmode": "overlay",
              "size": 10,
              "solidity": 0.2
             }
            },
            "type": "histogram"
           }
          ],
          "scattergl": [
           {
            "marker": {
             "line": {
              "color": "#283442"
             }
            },
            "type": "scattergl"
           }
          ],
          "scatter3d": [
           {
            "type": "scatter3d",
            "line": {
             "colorbar": {
              "outlinewidth": 0,
              "ticks": ""
             }
            },
            "marker": {
             "colorbar": {
              "outlinewidth": 0,
              "ticks": ""
             }
            }
           }
          ],
          "scattermapbox": [
           {
            "type": "scattermapbox",
            "marker": {
             "colorbar": {
              "outlinewidth": 0,
              "ticks": ""
             }
            }
           }
          ],
          "scatterternary": [
           {
            "type": "scatterternary",
            "marker": {
             "colorbar": {
              "outlinewidth": 0,
              "ticks": ""
             }
            }
           }
          ],
          "scattercarpet": [
           {
            "type": "scattercarpet",
            "marker": {
             "colorbar": {
              "outlinewidth": 0,
              "ticks": ""
             }
            }
           }
          ],
          "carpet": [
           {
            "aaxis": {
             "endlinecolor": "#A2B1C6",
             "gridcolor": "#506784",
             "linecolor": "#506784",
             "minorgridcolor": "#506784",
             "startlinecolor": "#A2B1C6"
            },
            "baxis": {
             "endlinecolor": "#A2B1C6",
             "gridcolor": "#506784",
             "linecolor": "#506784",
             "minorgridcolor": "#506784",
             "startlinecolor": "#A2B1C6"
            },
            "type": "carpet"
           }
          ],
          "table": [
           {
            "cells": {
             "fill": {
              "color": "#506784"
             },
             "line": {
              "color": "rgb(17,17,17)"
             }
            },
            "header": {
             "fill": {
              "color": "#2a3f5f"
             },
             "line": {
              "color": "rgb(17,17,17)"
             }
            },
            "type": "table"
           }
          ],
          "barpolar": [
           {
            "marker": {
             "line": {
              "color": "rgb(17,17,17)",
              "width": 0.5
             },
             "pattern": {
              "fillmode": "overlay",
              "size": 10,
              "solidity": 0.2
             }
            },
            "type": "barpolar"
           }
          ],
          "pie": [
           {
            "automargin": true,
            "type": "pie"
           }
          ]
         },
         "layout": {
          "autotypenumbers": "strict",
          "colorway": [
           "#636efa",
           "#EF553B",
           "#00cc96",
           "#ab63fa",
           "#FFA15A",
           "#19d3f3",
           "#FF6692",
           "#B6E880",
           "#FF97FF",
           "#FECB52"
          ],
          "font": {
           "color": "#f2f5fa"
          },
          "hovermode": "closest",
          "hoverlabel": {
           "align": "left"
          },
          "paper_bgcolor": "rgb(17,17,17)",
          "plot_bgcolor": "rgb(17,17,17)",
          "polar": {
           "bgcolor": "rgb(17,17,17)",
           "angularaxis": {
            "gridcolor": "#506784",
            "linecolor": "#506784",
            "ticks": ""
           },
           "radialaxis": {
            "gridcolor": "#506784",
            "linecolor": "#506784",
            "ticks": ""
           }
          },
          "ternary": {
           "bgcolor": "rgb(17,17,17)",
           "aaxis": {
            "gridcolor": "#506784",
            "linecolor": "#506784",
            "ticks": ""
           },
           "baxis": {
            "gridcolor": "#506784",
            "linecolor": "#506784",
            "ticks": ""
           },
           "caxis": {
            "gridcolor": "#506784",
            "linecolor": "#506784",
            "ticks": ""
           }
          },
          "coloraxis": {
           "colorbar": {
            "outlinewidth": 0,
            "ticks": ""
           }
          },
          "colorscale": {
           "sequential": [
            [
             0.0,
             "#0d0887"
            ],
            [
             0.1111111111111111,
             "#46039f"
            ],
            [
             0.2222222222222222,
             "#7201a8"
            ],
            [
             0.3333333333333333,
             "#9c179e"
            ],
            [
             0.4444444444444444,
             "#bd3786"
            ],
            [
             0.5555555555555556,
             "#d8576b"
            ],
            [
             0.6666666666666666,
             "#ed7953"
            ],
            [
             0.7777777777777778,
             "#fb9f3a"
            ],
            [
             0.8888888888888888,
             "#fdca26"
            ],
            [
             1.0,
             "#f0f921"
            ]
           ],
           "sequentialminus": [
            [
             0.0,
             "#0d0887"
            ],
            [
             0.1111111111111111,
             "#46039f"
            ],
            [
             0.2222222222222222,
             "#7201a8"
            ],
            [
             0.3333333333333333,
             "#9c179e"
            ],
            [
             0.4444444444444444,
             "#bd3786"
            ],
            [
             0.5555555555555556,
             "#d8576b"
            ],
            [
             0.6666666666666666,
             "#ed7953"
            ],
            [
             0.7777777777777778,
             "#fb9f3a"
            ],
            [
             0.8888888888888888,
             "#fdca26"
            ],
            [
             1.0,
             "#f0f921"
            ]
           ],
           "diverging": [
            [
             0,
             "#8e0152"
            ],
            [
             0.1,
             "#c51b7d"
            ],
            [
             0.2,
             "#de77ae"
            ],
            [
             0.3,
             "#f1b6da"
            ],
            [
             0.4,
             "#fde0ef"
            ],
            [
             0.5,
             "#f7f7f7"
            ],
            [
             0.6,
             "#e6f5d0"
            ],
            [
             0.7,
             "#b8e186"
            ],
            [
             0.8,
             "#7fbc41"
            ],
            [
             0.9,
             "#4d9221"
            ],
            [
             1,
             "#276419"
            ]
           ]
          },
          "xaxis": {
           "gridcolor": "#283442",
           "linecolor": "#506784",
           "ticks": "",
           "title": {
            "standoff": 15
           },
           "zerolinecolor": "#283442",
           "automargin": true,
           "zerolinewidth": 2
          },
          "yaxis": {
           "gridcolor": "#283442",
           "linecolor": "#506784",
           "ticks": "",
           "title": {
            "standoff": 15
           },
           "zerolinecolor": "#283442",
           "automargin": true,
           "zerolinewidth": 2
          },
          "scene": {
           "xaxis": {
            "backgroundcolor": "rgb(17,17,17)",
            "gridcolor": "#506784",
            "linecolor": "#506784",
            "showbackground": true,
            "ticks": "",
            "zerolinecolor": "#C8D4E3",
            "gridwidth": 2
           },
           "yaxis": {
            "backgroundcolor": "rgb(17,17,17)",
            "gridcolor": "#506784",
            "linecolor": "#506784",
            "showbackground": true,
            "ticks": "",
            "zerolinecolor": "#C8D4E3",
            "gridwidth": 2
           },
           "zaxis": {
            "backgroundcolor": "rgb(17,17,17)",
            "gridcolor": "#506784",
            "linecolor": "#506784",
            "showbackground": true,
            "ticks": "",
            "zerolinecolor": "#C8D4E3",
            "gridwidth": 2
           }
          },
          "shapedefaults": {
           "line": {
            "color": "#f2f5fa"
           }
          },
          "annotationdefaults": {
           "arrowcolor": "#f2f5fa",
           "arrowhead": 0,
           "arrowwidth": 1
          },
          "geo": {
           "bgcolor": "rgb(17,17,17)",
           "landcolor": "rgb(17,17,17)",
           "subunitcolor": "#506784",
           "showland": true,
           "showlakes": true,
           "lakecolor": "rgb(17,17,17)"
          },
          "title": {
           "x": 0.05
          },
          "updatemenudefaults": {
           "bgcolor": "#506784",
           "borderwidth": 0
          },
          "sliderdefaults": {
           "bgcolor": "#C8D4E3",
           "borderwidth": 1,
           "bordercolor": "rgb(17,17,17)",
           "tickwidth": 0
          },
          "mapbox": {
           "style": "dark"
          }
         }
        },
        "xaxis": {
         "anchor": "y",
         "domain": [
          0.0,
          1.0
         ],
         "title": {
          "text": "level_offset"
         }
        },
        "yaxis": {
         "anchor": "x",
         "domain": [
          0.0,
          1.0
         ],
         "title": {
          "text": "mean"
         }
        },
        "legend": {
         "title": {
          "text": "from"
         },
         "tracegroupgap": 0
        },
        "margin": {
         "t": 60
        }
       },
       "config": {
        "plotlyServerURL": "https://plot.ly"
       }
      },
      "text/html": "<div>                            <div id=\"2cb6387a-7996-4113-b0b1-e5a5f8e412f3\" class=\"plotly-graph-div\" style=\"height:525px; width:100%;\"></div>            <script type=\"text/javascript\">                require([\"plotly\"], function(Plotly) {                    window.PLOTLYENV=window.PLOTLYENV || {};                                    if (document.getElementById(\"2cb6387a-7996-4113-b0b1-e5a5f8e412f3\")) {                    Plotly.newPlot(                        \"2cb6387a-7996-4113-b0b1-e5a5f8e412f3\",                        [{\"error_y\":{\"array\":[2.1280168380319537,2.2426383908144945,2.2960773095123144,2.3138004502062812,2.955178306671152,2.9949821264442433,3.0043528667080195,4.7249356487110346]},\"hovertemplate\":\"from=pred\\u003cbr\\u003elevel_offset=%{x}\\u003cbr\\u003emean=%{y}\\u003cextra\\u003e\\u003c\\u002fextra\\u003e\",\"legendgroup\":\"pred\",\"marker\":{\"color\":\"#636efa\",\"symbol\":\"circle\"},\"mode\":\"markers\",\"name\":\"pred\",\"orientation\":\"v\",\"showlegend\":true,\"x\":[1.9,2.9,3.9,4.9,5.9,6.9,7.9,8.9],\"xaxis\":\"x\",\"y\":[5.430158807644768,10.422222370193118,6.953448373952816,5.999557607205568,7.139743691835648,8.242918573479797,8.837837965638787,10.809691786766052],\"yaxis\":\"y\",\"type\":\"scatter\"},{\"error_y\":{\"array\":[2.2,1.3,1.5,1.6,1.4,1.4]},\"hovertemplate\":\"from=cadotte\\u003cbr\\u003elevel_offset=%{x}\\u003cbr\\u003emean=%{y}\\u003cextra\\u003e\\u003c\\u002fextra\\u003e\",\"legendgroup\":\"cadotte\",\"marker\":{\"color\":\"#EF553B\",\"symbol\":\"circle\"},\"mode\":\"markers\",\"name\":\"cadotte\",\"orientation\":\"v\",\"showlegend\":true,\"x\":[3.1,4.1,5.1,6.1,7.1,8.1],\"xaxis\":\"x\",\"y\":[10.5,9.9,10.5,9.7,9.4,9.6],\"yaxis\":\"y\",\"type\":\"scatter\"},{\"hovertemplate\":\"level=%{x}\\u003cbr\\u003evalue=%{y}\\u003cextra\\u003e\\u003c\\u002fextra\\u003e\",\"legendgroup\":\"\",\"marker\":{\"color\":\"#636efa\",\"symbol\":\"circle\"},\"mode\":\"markers\",\"name\":\"\",\"orientation\":\"v\",\"showlegend\":false,\"x\":[2,2,2,2,2,2,2,2,2,2,2,2,2,2,2,2,2,2,2,2,2,2,2,2,2,2,2,2,2,2,2,2,2,2,2,2,2,2,2,2,2,2,2,2,2,2,2,2,2,2,2,2,2,2,2,2,2,2,2,2,2,2,2,2,2,2,2,2,2,2,2,2,2,2,2,2,2,2,2,2,2,2,2,2,2,2,2,2,2,2,2,2,2,2,2,2,2,2,2,2,2,2,2,2,2,2,2,2,2,2,2,2,2,2,2,2,2,2,2,2,2,2,2,2,2,2,2,2,2,2,2,2,2,2,2,2,2,2,2,2,2,2,2,2,2,2,2,2,2,2,2,2,2,2,2,2,2,2,2,2,2,2,2,2,2,2,2,2,2,2,2,2,2,2,2,2,2,2,2,2,2,2,2,2,2,2,2,2,2,2,2,2,2,2,2,2,2,2,2,2,2,2,2,2,2,2,2,2,2,2,2,2,2,2,2,2,2,2,2,2,2,2,2,2,2,2,2,2,2,2,2,2,2,2,2,2,2,2,2,2,2,2,2,2,2,2,2,2,2,2,2,2,2,2,2,2,2,2,2,2,2,2,2,2,2,2,2,2,2],\"xaxis\":\"x\",\"y\":[8.800000131130219,4.000000059604645,5.5,8.800000131130219,2.400000035762787,8.00000011920929,6.400000095367432,8.800000131130219,6.400000095367432,8.800000131130219,4.800000071525574,null,7.200000107288361,4.000000059604645,6.400000095367432,2.0,4.800000071525574,0.800000011920929,8.800000131130219,3.200000047683716,4.800000071525574,9.600000143051147,6.400000095367432,3.200000047683716,7.200000107288361,4.800000071525574,7.200000107288361,4.000000059604645,3.200000047683716,null,4.000000059604645,6.400000095367432,7.200000107288361,null,2.400000035762787,6.400000095367432,6.5,null,4.000000059604645,4.000000059604645,7.200000107288361,6.400000095367432,8.00000011920929,6.400000095367432,3.200000047683716,1.600000023841858,5.600000083446503,6.0,5.600000083446503,6.400000095367432,3.200000047683716,3.200000047683716,4.800000071525574,4.000000059604645,4.800000071525574,3.0,4.800000071525574,5.600000083446503,6.400000095367432,5.600000083446503,4.000000059604645,3.200000047683716,7.200000107288361,7.200000107288361,4.800000071525574,2.400000035762787,null,7.200000107288361,3.200000047683716,6.400000095367432,6.5,null,0.800000011920929,4.800000071525574,2.400000035762787,5.600000083446503,8.00000011920929,null,8.800000131130219,3.200000047683716,4.800000071525574,null,4.000000059604645,3.200000047683716,4.800000071525574,7.200000107288361,8.00000011920929,4.800000071525574,4.000000059604645,8.00000011920929,3.200000047683716,7.200000107288361,1.600000023841858,6.400000095367432,6.400000095367432,4.800000071525574,3.200000047683716,9.600000143051147,8.00000011920929,3.200000047683716,4.000000059604645,4.000000059604645,4.800000071525574,9.600000143051147,4.800000071525574,3.200000047683716,null,7.200000107288361,7.0,8.00000011920929,6.400000095367432,8.00000011920929,null,7.200000107288361,6.400000095367432,4.000000059604645,6.400000095367432,3.200000047683716,3.5,2.400000035762787,5.600000083446503,null,9.600000143051147,null,8.00000011920929,6.400000095367432,4.000000059604645,6.400000095367432,6.400000095367432,4.000000059604645,4.000000059604645,6.400000095367432,2.400000035762787,8.0,4.000000059604645,8.800000131130219,7.200000107288361,7.200000107288361,3.200000047683716,7.200000107288361,6.0,8.00000011920929,2.400000035762787,4.800000071525574,6.400000095367432,6.400000095367432,4.800000071525574,4.800000071525574,8.00000011920929,3.200000047683716,4.000000059604645,0.800000011920929,null,0.800000011920929,1.600000023841858,2.400000035762787,6.400000095367432,3.200000047683716,8.00000011920929,7.200000107288361,5.600000083446503,8.00000011920929,4.000000059604645,8.00000011920929,4.800000071525574,3.200000047683716,8.800000131130219,2.400000035762787,5.600000083446503,7.200000107288361,8.800000131130219,4.000000059604645,7.200000107288361,5.600000083446503,8.800000131130219,4.800000071525574,5.600000083446503,8.00000011920929,6.400000095367432,8.00000011920929,0.800000011920929,5.600000083446503,7.200000107288361,6.400000095367432,6.400000095367432,4.800000071525574,8.00000011920929,8.00000011920929,7.200000107288361,4.000000059604645,2.400000035762787,null,8.00000011920929,4.800000071525574,7.200000107288361,3.200000047683716,4.000000059604645,4.000000059604645,4.000000059604645,6.400000095367432,4.800000071525574,4.800000071525574,2.400000035762787,5.600000083446503,2.400000035762787,4.800000071525574,6.400000095367432,6.400000095367432,6.400000095367432,0.800000011920929,8.00000011920929,5.600000083446503,8.00000011920929,1.600000023841858,3.0,0.800000011920929,4.000000059604645,4.000000059604645,5.600000083446503,6.400000095367432,5.600000083446503,4.000000059604645,5.600000083446503,4.800000071525574,4.800000071525574,4.000000059604645,6.400000095367432,2.400000035762787,10.400000154972076,5.600000083446503,4.000000059604645,9.600000143051147,8.00000011920929,4.000000059604645,6.400000095367432,4.800000071525574,7.200000107288361,4.800000071525574,4.800000071525574,4.000000059604645,3.200000047683716,8.00000011920929,1.0,4.000000059604645,8.800000131130219,3.200000047683716,6.400000095367432,8.00000011920929,6.400000095367432,4.000000059604645,8.800000131130219,5.600000083446503,7.200000107288361,5.600000083446503,6.400000095367432,null,3.200000047683716,3.200000047683716,8.00000011920929,7.200000107288361,7.200000107288361,4.000000059604645,8.00000011920929,2.400000035762787,4.800000071525574,5.600000083446503,8.800000131130219,5.430158807644768,2.1280168380319537],\"yaxis\":\"y\",\"type\":\"scatter\"},{\"hovertemplate\":\"level=%{x}\\u003cbr\\u003evalue=%{y}\\u003cextra\\u003e\\u003c\\u002fextra\\u003e\",\"legendgroup\":\"\",\"marker\":{\"color\":\"#636efa\",\"symbol\":\"circle\"},\"mode\":\"markers\",\"name\":\"\",\"orientation\":\"v\",\"showlegend\":false,\"x\":[3,3,3,3,3,3,3,3,3,3,3,3,3,3,3,3,3,3,3,3,3,3,3,3,3,3,3,3,3,3,3,3,3,3,3,3,3,3,3,3,3,3,3,3,3,3,3,3,3,3,3,3,3,3,3,3,3,3,3,3,3,3,3,3,3,3,3,3,3,3,3,3,3,3,3,3,3,3,3,3,3,3,3,3,3,3,3,3,3,3,3,3,3,3,3,3,3,3,3,3,3,3,3,3,3,3,3,3,3,3,3,3,3,3,3,3,3,3,3,3,3,3,3,3,3,3,3,3,3,3,3,3,3,3,3,3,3,3,3,3,3,3,3,3,3,3,3,3,3,3,3,3,3,3,3,3,3,3,3,3,3,3,3,3,3,3,3,3,3,3,3,3,3,3,3,3,3,3,3,3,3,3,3,3,3,3,3,3,3,3,3,3,3,3,3,3,3,3,3,3,3,3,3,3,3,3,3,3,3,3,3,3,3,3,3,3,3,3,3,3,3,3,3,3,3,3,3,3,3,3,3,3,3,3,3,3,3,3,3,3,3,3,3,3,3,3,3,3,3,3,3,3,3,3,3,3,3,3,3,3,3,3,3,3,3,3,3,3,3,3,3],\"xaxis\":\"x\",\"y\":[15.20000022649765,16.800000250339508,11.0,9.600000143051147,6.400000095367432,12.000000178813934,12.000000178813934,11.200000166893004,12.000000178813934,12.000000178813934,10.400000154972076,null,12.000000178813934,8.800000131130219,9.600000143051147,6.0,10.400000154972076,12.000000178813934,12.800000190734863,9.600000143051147,10.400000154972076,8.800000131130219,14.40000021457672,5.600000083446503,11.200000166893004,12.000000178813934,12.800000190734863,8.800000131130219,12.000000178813934,null,9.600000143051147,11.200000166893004,13.600000202655792,null,10.400000154972076,10.400000154972076,11.5,null,12.000000178813934,8.00000011920929,11.200000166893004,11.200000166893004,8.00000011920929,10.400000154972076,9.600000143051147,3.200000047683716,8.800000131130219,11.5,8.00000011920929,7.200000107288361,9.600000143051147,8.800000131130219,18.40000027418137,8.800000131130219,12.000000178813934,8.0,11.200000166893004,10.400000154972076,14.40000021457672,11.200000166893004,8.800000131130219,9.600000143051147,9.600000143051147,11.200000166893004,10.400000154972076,10.400000154972076,null,11.200000166893004,8.800000131130219,11.200000166893004,13.0,null,10.400000154972076,11.200000166893004,12.800000190734863,12.000000178813934,12.800000190734863,null,6.400000095367432,8.00000011920929,8.800000131130219,null,11.200000166893004,8.00000011920929,10.400000154972076,11.200000166893004,14.40000021457672,12.000000178813934,8.800000131130219,10.400000154972076,9.600000143051147,9.600000143051147,5.600000083446503,12.000000178813934,12.000000178813934,11.200000166893004,11.200000166893004,11.200000166893004,9.600000143051147,8.00000011920929,13.600000202655792,8.00000011920929,9.600000143051147,13.600000202655792,9.600000143051147,4.000000059604645,null,12.000000178813934,12.5,12.000000178813934,8.800000131130219,8.800000131130219,null,13.600000202655792,10.400000154972076,9.600000143051147,11.200000166893004,11.200000166893004,8.5,11.200000166893004,9.600000143051147,null,13.600000202655792,null,12.800000190734863,12.000000178813934,11.200000166893004,9.600000143051147,8.800000131130219,10.400000154972076,9.600000143051147,12.800000190734863,8.00000011920929,9.5,10.400000154972076,10.400000154972076,8.800000131130219,9.600000143051147,8.00000011920929,9.600000143051147,9.5,14.40000021457672,7.200000107288361,8.800000131130219,10.400000154972076,10.400000154972076,6.400000095367432,7.200000107288361,8.800000131130219,9.600000143051147,14.40000021457672,12.000000178813934,null,8.00000011920929,4.800000071525574,8.00000011920929,11.200000166893004,10.400000154972076,10.400000154972076,10.400000154972076,8.800000131130219,13.600000202655792,5.600000083446503,13.600000202655792,11.200000166893004,9.600000143051147,11.200000166893004,11.200000166893004,12.800000190734863,8.800000131130219,11.200000166893004,12.000000178813934,13.600000202655792,9.600000143051147,12.000000178813934,12.800000190734863,14.40000021457672,10.400000154972076,10.400000154972076,11.200000166893004,7.200000107288361,9.600000143051147,11.200000166893004,8.800000131130219,9.600000143051147,8.800000131130219,8.00000011920929,12.000000178813934,9.600000143051147,11.200000166893004,9.600000143051147,null,13.600000202655792,9.600000143051147,12.000000178813934,8.800000131130219,7.200000107288361,8.00000011920929,8.800000131130219,8.800000131130219,11.200000166893004,12.000000178813934,4.800000071525574,12.000000178813934,11.200000166893004,8.00000011920929,9.600000143051147,13.600000202655792,10.400000154972076,null,12.000000178813934,11.200000166893004,12.000000178813934,8.800000131130219,9.0,10.400000154972076,9.600000143051147,12.000000178813934,9.600000143051147,10.400000154972076,8.00000011920929,10.400000154972076,9.600000143051147,6.400000095367432,12.000000178813934,12.000000178813934,10.400000154972076,12.800000190734863,12.000000178813934,12.800000190734863,12.800000190734863,11.200000166893004,11.200000166893004,10.400000154972076,11.200000166893004,10.400000154972076,10.400000154972076,8.800000131130219,12.000000178813934,8.00000011920929,10.400000154972076,13.600000202655792,14.0,7.200000107288361,12.800000190734863,8.800000131130219,9.600000143051147,13.600000202655792,12.000000178813934,10.400000154972076,11.200000166893004,12.800000190734863,10.400000154972076,12.800000190734863,8.00000011920929,0.0,8.800000131130219,9.600000143051147,11.200000166893004,8.800000131130219,14.40000021457672,12.000000178813934,12.000000178813934,8.800000131130219,11.200000166893004,10.400000154972076,12.000000178813934,10.422222370193118,2.2426383908144945,10.5,2.2],\"yaxis\":\"y\",\"type\":\"scatter\"},{\"hovertemplate\":\"level=%{x}\\u003cbr\\u003evalue=%{y}\\u003cextra\\u003e\\u003c\\u002fextra\\u003e\",\"legendgroup\":\"\",\"marker\":{\"color\":\"#636efa\",\"symbol\":\"circle\"},\"mode\":\"markers\",\"name\":\"\",\"orientation\":\"v\",\"showlegend\":false,\"x\":[4,4,4,4,4,4,4,4,4,4,4,4,4,4,4,4,4,4,4,4,4,4,4,4,4,4,4,4,4,4,4,4,4,4,4,4,4,4,4,4,4,4,4,4,4,4,4,4,4,4,4,4,4,4,4,4,4,4,4,4,4,4,4,4,4,4,4,4,4,4,4,4,4,4,4,4,4,4,4,4,4,4,4,4,4,4,4,4,4,4,4,4,4,4,4,4,4,4,4,4,4,4,4,4,4,4,4,4,4,4,4,4,4,4,4,4,4,4,4,4,4,4,4,4,4,4,4,4,4,4,4,4,4,4,4,4,4,4,4,4,4,4,4,4,4,4,4,4,4,4,4,4,4,4,4,4,4,4,4,4,4,4,4,4,4,4,4,4,4,4,4,4,4,4,4,4,4,4,4,4,4,4,4,4,4,4,4,4,4,4,4,4,4,4,4,4,4,4,4,4,4,4,4,4,4,4,4,4,4,4,4,4,4,4,4,4,4,4,4,4,4,4,4,4,4,4,4,4,4,4,4,4,4,4,4,4,4,4,4,4,4,4,4,4,4,4,4,4,4,4,4,4,4,4,4,4,4,4,4,4,4,4,4,4,4,4,4,4,4,4,4],\"xaxis\":\"x\",\"y\":[10.400000154972076,8.800000131130219,9.5,5.600000083446503,7.200000107288361,8.00000011920929,8.00000011920929,7.200000107288361,8.800000131130219,6.400000095367432,6.400000095367432,null,4.000000059604645,null,7.200000107288361,1.0,5.600000083446503,4.000000059604645,7.200000107288361,4.800000071525574,8.00000011920929,8.00000011920929,10.400000154972076,null,8.800000131130219,9.600000143051147,8.800000131130219,6.400000095367432,7.200000107288361,null,8.800000131130219,12.000000178813934,8.800000131130219,null,8.800000131130219,6.400000095367432,10.0,null,0.800000011920929,4.000000059604645,8.800000131130219,2.400000035762787,1.600000023841858,6.400000095367432,6.400000095367432,null,4.800000071525574,9.5,7.200000107288361,4.000000059604645,4.800000071525574,8.00000011920929,8.00000011920929,10.400000154972076,9.600000143051147,4.0,8.800000131130219,6.400000095367432,9.600000143051147,8.800000131130219,8.800000131130219,1.600000023841858,4.800000071525574,8.800000131130219,6.400000095367432,4.800000071525574,null,8.800000131130219,8.00000011920929,8.800000131130219,8.5,null,2.400000035762787,9.600000143051147,8.00000011920929,8.800000131130219,6.400000095367432,null,4.000000059604645,6.400000095367432,6.400000095367432,null,8.00000011920929,8.00000011920929,8.00000011920929,8.800000131130219,null,0.0,5.600000083446503,null,8.00000011920929,8.00000011920929,null,7.200000107288361,6.400000095367432,11.200000166893004,8.00000011920929,8.800000131130219,7.200000107288361,2.400000035762787,8.800000131130219,6.400000095367432,8.800000131130219,8.800000131130219,7.200000107288361,null,null,10.400000154972076,10.0,7.200000107288361,0.0,4.800000071525574,null,8.800000131130219,0.0,3.200000047683716,6.400000095367432,7.200000107288361,4.0,7.200000107288361,4.000000059604645,null,10.400000154972076,null,9.600000143051147,6.400000095367432,6.400000095367432,4.800000071525574,5.600000083446503,6.400000095367432,4.800000071525574,8.800000131130219,null,8.0,6.400000095367432,9.600000143051147,7.200000107288361,null,4.800000071525574,9.600000143051147,7.5,10.400000154972076,6.400000095367432,5.600000083446503,4.800000071525574,8.800000131130219,null,3.200000047683716,null,5.600000083446503,7.200000107288361,4.000000059604645,null,null,null,null,7.200000107288361,8.00000011920929,null,6.400000095367432,5.600000083446503,6.400000095367432,null,8.00000011920929,6.400000095367432,8.800000131130219,8.00000011920929,9.600000143051147,7.200000107288361,10.400000154972076,7.200000107288361,6.400000095367432,10.400000154972076,6.400000095367432,8.800000131130219,7.200000107288361,9.600000143051147,8.00000011920929,4.800000071525574,4.000000059604645,null,5.600000083446503,8.00000011920929,6.400000095367432,8.00000011920929,6.400000095367432,9.600000143051147,9.600000143051147,6.400000095367432,8.800000131130219,null,null,8.800000131130219,null,4.800000071525574,6.400000095367432,1.600000023841858,4.000000059604645,8.800000131130219,8.00000011920929,7.200000107288361,8.800000131130219,7.200000107288361,5.600000083446503,7.200000107288361,9.600000143051147,9.600000143051147,10.400000154972076,5.600000083446503,null,7.200000107288361,9.600000143051147,6.400000095367432,3.200000047683716,8.0,8.00000011920929,7.200000107288361,7.200000107288361,7.200000107288361,5.600000083446503,2.400000035762787,8.800000131130219,4.000000059604645,5.600000083446503,10.400000154972076,9.600000143051147,8.00000011920929,8.800000131130219,7.200000107288361,8.800000131130219,6.400000095367432,8.800000131130219,4.800000071525574,7.200000107288361,7.200000107288361,8.00000011920929,6.400000095367432,3.200000047683716,6.400000095367432,7.200000107288361,5.600000083446503,9.600000143051147,6.0,1.600000023841858,8.00000011920929,6.400000095367432,7.200000107288361,6.400000095367432,8.800000131130219,0.800000011920929,8.00000011920929,3.200000047683716,5.600000083446503,6.400000095367432,8.800000131130219,null,6.400000095367432,5.600000083446503,5.600000083446503,3.200000047683716,8.00000011920929,6.400000095367432,7.200000107288361,8.800000131130219,8.00000011920929,10.400000154972076,6.400000095367432,6.953448373952816,2.2960773095123144,9.9,1.3],\"yaxis\":\"y\",\"type\":\"scatter\"},{\"hovertemplate\":\"level=%{x}\\u003cbr\\u003evalue=%{y}\\u003cextra\\u003e\\u003c\\u002fextra\\u003e\",\"legendgroup\":\"\",\"marker\":{\"color\":\"#636efa\",\"symbol\":\"circle\"},\"mode\":\"markers\",\"name\":\"\",\"orientation\":\"v\",\"showlegend\":false,\"x\":[5,5,5,5,5,5,5,5,5,5,5,5,5,5,5,5,5,5,5,5,5,5,5,5,5,5,5,5,5,5,5,5,5,5,5,5,5,5,5,5,5,5,5,5,5,5,5,5,5,5,5,5,5,5,5,5,5,5,5,5,5,5,5,5,5,5,5,5,5,5,5,5,5,5,5,5,5,5,5,5,5,5,5,5,5,5,5,5,5,5,5,5,5,5,5,5,5,5,5,5,5,5,5,5,5,5,5,5,5,5,5,5,5,5,5,5,5,5,5,5,5,5,5,5,5,5,5,5,5,5,5,5,5,5,5,5,5,5,5,5,5,5,5,5,5,5,5,5,5,5,5,5,5,5,5,5,5,5,5,5,5,5,5,5,5,5,5,5,5,5,5,5,5,5,5,5,5,5,5,5,5,5,5,5,5,5,5,5,5,5,5,5,5,5,5,5,5,5,5,5,5,5,5,5,5,5,5,5,5,5,5,5,5,5,5,5,5,5,5,5,5,5,5,5,5,5,5,5,5,5,5,5,5,5,5,5,5,5,5,5,5,5,5,5,5,5,5,5,5,5,5,5,5,5,5,5,5,5,5,5,5,5,5,5,5,5,5,5,5,5,5],\"xaxis\":\"x\",\"y\":[8.800000131130219,8.00000011920929,7.0,4.800000071525574,5.600000083446503,4.800000071525574,8.00000011920929,5.600000083446503,7.200000107288361,5.600000083446503,6.400000095367432,null,5.600000083446503,3.200000047683716,5.600000083446503,0.0,null,3.200000047683716,2.400000035762787,4.000000059604645,8.00000011920929,6.400000095367432,6.400000095367432,3.200000047683716,7.200000107288361,7.200000107288361,8.00000011920929,2.400000035762787,null,null,6.400000095367432,6.400000095367432,8.800000131130219,null,7.200000107288361,6.400000095367432,8.5,null,null,5.600000083446503,8.00000011920929,3.200000047683716,4.800000071525574,5.600000083446503,8.800000131130219,null,6.400000095367432,6.0,4.800000071525574,null,4.000000059604645,7.200000107288361,8.00000011920929,7.200000107288361,7.200000107288361,5.0,11.200000166893004,5.600000083446503,7.200000107288361,7.200000107288361,7.200000107288361,null,4.000000059604645,5.600000083446503,6.400000095367432,5.600000083446503,null,7.200000107288361,8.00000011920929,7.200000107288361,7.0,null,null,6.400000095367432,7.200000107288361,7.200000107288361,null,null,6.400000095367432,5.600000083446503,7.200000107288361,null,5.600000083446503,4.000000059604645,8.00000011920929,6.400000095367432,0.800000011920929,16.00000023841858,2.400000035762787,null,6.400000095367432,4.000000059604645,2.400000035762787,8.800000131130219,4.800000071525574,10.400000154972076,7.200000107288361,0.800000011920929,7.200000107288361,null,7.200000107288361,5.600000083446503,8.00000011920929,8.00000011920929,8.00000011920929,0.0,null,8.00000011920929,8.5,4.000000059604645,null,3.200000047683716,null,6.400000095367432,4.800000071525574,7.200000107288361,null,4.000000059604645,4.5,null,0.800000011920929,null,8.800000131130219,null,7.200000107288361,0.0,8.00000011920929,6.400000095367432,4.000000059604645,4.800000071525574,4.800000071525574,6.400000095367432,null,6.5,6.400000095367432,5.600000083446503,8.800000131130219,3.200000047683716,5.600000083446503,6.400000095367432,6.5,8.800000131130219,7.200000107288361,6.400000095367432,3.200000047683716,5.600000083446503,null,null,null,4.800000071525574,8.00000011920929,2.400000035762787,null,null,null,null,6.400000095367432,8.00000011920929,null,5.600000083446503,6.400000095367432,7.200000107288361,null,7.200000107288361,4.800000071525574,8.00000011920929,5.600000083446503,7.200000107288361,6.400000095367432,8.800000131130219,7.200000107288361,4.000000059604645,6.400000095367432,8.800000131130219,8.800000131130219,6.400000095367432,8.00000011920929,1.600000023841858,5.600000083446503,5.600000083446503,null,0.0,4.000000059604645,6.400000095367432,6.400000095367432,8.00000011920929,4.000000059604645,8.800000131130219,8.00000011920929,4.800000071525574,0.0,null,8.00000011920929,0.800000011920929,2.400000035762787,7.200000107288361,null,1.600000023841858,4.800000071525574,4.800000071525574,7.200000107288361,8.00000011920929,8.800000131130219,4.000000059604645,6.400000095367432,7.200000107288361,6.400000095367432,7.200000107288361,3.200000047683716,null,7.200000107288361,7.200000107288361,10.400000154972076,5.600000083446503,6.0,7.200000107288361,8.00000011920929,7.200000107288361,5.600000083446503,7.200000107288361,3.200000047683716,8.800000131130219,2.400000035762787,5.600000083446503,8.800000131130219,4.800000071525574,8.00000011920929,5.600000083446503,2.400000035762787,7.200000107288361,4.800000071525574,9.600000143051147,6.400000095367432,5.600000083446503,7.200000107288361,4.800000071525574,4.800000071525574,null,8.00000011920929,5.600000083446503,6.400000095367432,9.600000143051147,0.0,3.200000047683716,8.00000011920929,4.800000071525574,5.600000083446503,4.000000059604645,8.800000131130219,0.800000011920929,4.000000059604645,6.400000095367432,8.00000011920929,0.0,8.00000011920929,null,6.400000095367432,4.800000071525574,6.400000095367432,7.200000107288361,8.00000011920929,6.400000095367432,8.00000011920929,7.200000107288361,7.200000107288361,7.200000107288361,3.200000047683716,5.999557607205568,2.3138004502062812,10.5,1.5],\"yaxis\":\"y\",\"type\":\"scatter\"},{\"hovertemplate\":\"level=%{x}\\u003cbr\\u003evalue=%{y}\\u003cextra\\u003e\\u003c\\u002fextra\\u003e\",\"legendgroup\":\"\",\"marker\":{\"color\":\"#636efa\",\"symbol\":\"circle\"},\"mode\":\"markers\",\"name\":\"\",\"orientation\":\"v\",\"showlegend\":false,\"x\":[6,6,6,6,6,6,6,6,6,6,6,6,6,6,6,6,6,6,6,6,6,6,6,6,6,6,6,6,6,6,6,6,6,6,6,6,6,6,6,6,6,6,6,6,6,6,6,6,6,6,6,6,6,6,6,6,6,6,6,6,6,6,6,6,6,6,6,6,6,6,6,6,6,6,6,6,6,6,6,6,6,6,6,6,6,6,6,6,6,6,6,6,6,6,6,6,6,6,6,6,6,6,6,6,6,6,6,6,6,6,6,6,6,6,6,6,6,6,6,6,6,6,6,6,6,6,6,6,6,6,6,6,6,6,6,6,6,6,6,6,6,6,6,6,6,6,6,6,6,6,6,6,6,6,6,6,6,6,6,6,6,6,6,6,6,6,6,6,6,6,6,6,6,6,6,6,6,6,6,6,6,6,6,6,6,6,6,6,6,6,6,6,6,6,6,6,6,6,6,6,6,6,6,6,6,6,6,6,6,6,6,6,6,6,6,6,6,6,6,6,6,6,6,6,6,6,6,6,6,6,6,6,6,6,6,6,6,6,6,6,6,6,6,6,6,6,6,6,6,6,6,6,6,6,6,6,6,6,6,6,6,6,6,6,6,6,6,6,6,6,6],\"xaxis\":\"x\",\"y\":[10.400000154972076,8.800000131130219,9.0,4.000000059604645,6.400000095367432,8.00000011920929,6.400000095367432,4.800000071525574,8.00000011920929,6.400000095367432,8.00000011920929,null,6.400000095367432,5.600000083446503,9.600000143051147,0.0,0.0,1.600000023841858,4.000000059604645,9.600000143051147,9.600000143051147,8.00000011920929,7.200000107288361,null,8.00000011920929,10.400000154972076,8.00000011920929,6.400000095367432,12.000000178813934,null,4.800000071525574,4.000000059604645,8.800000131130219,null,7.200000107288361,4.800000071525574,7.0,null,null,11.200000166893004,6.400000095367432,4.800000071525574,7.200000107288361,5.600000083446503,8.800000131130219,null,7.200000107288361,7.0,5.600000083446503,13.600000202655792,6.400000095367432,6.400000095367432,8.00000011920929,8.00000011920929,7.200000107288361,8.0,11.200000166893004,5.600000083446503,8.800000131130219,8.00000011920929,8.800000131130219,5.600000083446503,6.400000095367432,8.00000011920929,8.00000011920929,6.400000095367432,null,8.00000011920929,7.200000107288361,24.00000035762787,9.5,null,null,6.400000095367432,7.200000107288361,7.200000107288361,4.800000071525574,null,6.400000095367432,7.200000107288361,7.200000107288361,null,7.200000107288361,8.00000011920929,8.800000131130219,8.00000011920929,1.600000023841858,22.40000033378601,8.00000011920929,1.600000023841858,8.800000131130219,4.800000071525574,null,9.600000143051147,6.400000095367432,8.800000131130219,8.00000011920929,null,7.200000107288361,null,4.800000071525574,5.600000083446503,7.200000107288361,8.00000011920929,8.00000011920929,null,null,7.200000107288361,5.5,4.000000059604645,null,5.600000083446503,null,8.800000131130219,0.800000011920929,4.800000071525574,0.800000011920929,8.800000131130219,7.5,null,4.800000071525574,null,8.00000011920929,null,8.00000011920929,3.200000047683716,8.800000131130219,9.600000143051147,7.200000107288361,11.200000166893004,6.400000095367432,8.00000011920929,null,8.0,8.800000131130219,7.200000107288361,8.00000011920929,0.800000011920929,6.400000095367432,8.800000131130219,2.0,8.00000011920929,7.200000107288361,8.800000131130219,1.600000023841858,8.00000011920929,null,0.800000011920929,null,7.200000107288361,7.200000107288361,2.400000035762787,null,2.400000035762787,null,null,8.00000011920929,8.00000011920929,null,8.00000011920929,7.200000107288361,10.400000154972076,null,8.800000131130219,5.600000083446503,7.200000107288361,2.400000035762787,7.200000107288361,6.400000095367432,7.200000107288361,8.00000011920929,7.200000107288361,20.800000309944153,9.600000143051147,8.800000131130219,8.00000011920929,10.400000154972076,4.800000071525574,4.800000071525574,6.400000095367432,3.200000047683716,4.800000071525574,7.200000107288361,7.200000107288361,8.00000011920929,9.600000143051147,5.600000083446503,9.600000143051147,7.200000107288361,8.800000131130219,2.400000035762787,null,8.00000011920929,2.400000035762787,3.200000047683716,8.800000131130219,4.800000071525574,0.800000011920929,8.800000131130219,7.200000107288361,8.00000011920929,7.200000107288361,8.00000011920929,5.600000083446503,8.00000011920929,8.00000011920929,8.00000011920929,9.600000143051147,4.000000059604645,null,7.200000107288361,8.800000131130219,8.800000131130219,4.800000071525574,4.0,4.800000071525574,4.800000071525574,8.00000011920929,6.400000095367432,9.600000143051147,4.800000071525574,8.800000131130219,5.600000083446503,4.800000071525574,10.400000154972076,8.800000131130219,11.200000166893004,8.00000011920929,11.200000166893004,7.200000107288361,10.400000154972076,6.400000095367432,7.200000107288361,7.200000107288361,6.400000095367432,5.600000083446503,6.400000095367432,1.600000023841858,8.00000011920929,6.400000095367432,6.400000095367432,8.00000011920929,null,8.800000131130219,8.800000131130219,5.600000083446503,6.400000095367432,3.200000047683716,8.800000131130219,8.800000131130219,6.400000095367432,6.400000095367432,9.600000143051147,12.800000190734863,8.00000011920929,1.600000023841858,7.200000107288361,7.200000107288361,8.00000011920929,8.00000011920929,8.00000011920929,8.00000011920929,10.400000154972076,6.400000095367432,9.600000143051147,7.200000107288361,6.400000095367432,7.139743691835648,2.955178306671152,9.7,1.6],\"yaxis\":\"y\",\"type\":\"scatter\"},{\"hovertemplate\":\"level=%{x}\\u003cbr\\u003evalue=%{y}\\u003cextra\\u003e\\u003c\\u002fextra\\u003e\",\"legendgroup\":\"\",\"marker\":{\"color\":\"#636efa\",\"symbol\":\"circle\"},\"mode\":\"markers\",\"name\":\"\",\"orientation\":\"v\",\"showlegend\":false,\"x\":[7,7,7,7,7,7,7,7,7,7,7,7,7,7,7,7,7,7,7,7,7,7,7,7,7,7,7,7,7,7,7,7,7,7,7,7,7,7,7,7,7,7,7,7,7,7,7,7,7,7,7,7,7,7,7,7,7,7,7,7,7,7,7,7,7,7,7,7,7,7,7,7,7,7,7,7,7,7,7,7,7,7,7,7,7,7,7,7,7,7,7,7,7,7,7,7,7,7,7,7,7,7,7,7,7,7,7,7,7,7,7,7,7,7,7,7,7,7,7,7,7,7,7,7,7,7,7,7,7,7,7,7,7,7,7,7,7,7,7,7,7,7,7,7,7,7,7,7,7,7,7,7,7,7,7,7,7,7,7,7,7,7,7,7,7,7,7,7,7,7,7,7,7,7,7,7,7,7,7,7,7,7,7,7,7,7,7,7,7,7,7,7,7,7,7,7,7,7,7,7,7,7,7,7,7,7,7,7,7,7,7,7,7,7,7,7,7,7,7,7,7,7,7,7,7,7,7,7,7,7,7,7,7,7,7,7,7,7,7,7,7,7,7,7,7,7,7,7,7,7,7,7,7,7,7,7,7,7,7,7,7,7,7,7,7,7,7,7,7,7,7],\"xaxis\":\"x\",\"y\":[11.200000166893004,9.600000143051147,8.0,8.00000011920929,7.200000107288361,11.200000166893004,7.200000107288361,8.00000011920929,8.800000131130219,6.400000095367432,10.400000154972076,null,7.200000107288361,6.400000095367432,9.600000143051147,5.0,6.400000095367432,0.800000011920929,null,2.400000035762787,9.600000143051147,9.600000143051147,10.400000154972076,0.0,null,8.00000011920929,10.400000154972076,7.200000107288361,8.00000011920929,null,8.800000131130219,6.400000095367432,9.600000143051147,null,9.600000143051147,0.0,8.5,null,null,null,9.600000143051147,2.400000035762787,8.800000131130219,7.200000107288361,8.800000131130219,null,9.600000143051147,6.5,7.200000107288361,8.00000011920929,null,8.00000011920929,8.800000131130219,8.00000011920929,8.800000131130219,5.0,12.000000178813934,4.000000059604645,11.200000166893004,9.600000143051147,8.00000011920929,5.600000083446503,8.800000131130219,9.600000143051147,10.400000154972076,8.800000131130219,null,8.800000131130219,8.800000131130219,8.00000011920929,10.0,null,0.800000011920929,6.400000095367432,7.200000107288361,8.800000131130219,6.400000095367432,null,7.200000107288361,20.800000309944153,9.600000143051147,null,5.600000083446503,8.800000131130219,8.800000131130219,10.400000154972076,4.800000071525574,2.400000035762787,8.00000011920929,9.600000143051147,10.400000154972076,8.00000011920929,1.600000023841858,10.400000154972076,8.800000131130219,9.600000143051147,9.600000143051147,null,10.400000154972076,null,8.00000011920929,8.800000131130219,8.00000011920929,10.400000154972076,5.600000083446503,4.000000059604645,null,8.800000131130219,2.5,8.800000131130219,null,12.000000178813934,null,11.200000166893004,5.600000083446503,6.400000095367432,0.0,8.800000131130219,8.5,null,8.00000011920929,null,11.200000166893004,null,19.200000286102295,7.200000107288361,8.00000011920929,8.00000011920929,10.400000154972076,8.00000011920929,9.600000143051147,8.800000131130219,1.600000023841858,7.5,7.200000107288361,9.600000143051147,9.600000143051147,0.0,6.400000095367432,10.400000154972076,5.5,20.000000298023224,8.800000131130219,11.200000166893004,8.800000131130219,8.800000131130219,null,6.400000095367432,null,8.00000011920929,4.000000059604645,0.800000011920929,null,8.00000011920929,3.200000047683716,3.200000047683716,10.400000154972076,9.600000143051147,null,12.800000190734863,8.00000011920929,10.400000154972076,0.800000011920929,8.800000131130219,4.800000071525574,8.800000131130219,9.600000143051147,null,10.400000154972076,10.400000154972076,9.600000143051147,8.800000131130219,6.400000095367432,null,8.800000131130219,10.400000154972076,10.400000154972076,11.200000166893004,8.00000011920929,8.800000131130219,4.000000059604645,5.600000083446503,8.800000131130219,8.800000131130219,10.400000154972076,10.400000154972076,6.400000095367432,9.600000143051147,8.00000011920929,8.800000131130219,null,null,11.200000166893004,4.800000071525574,8.00000011920929,12.800000190734863,8.800000131130219,4.800000071525574,8.800000131130219,8.00000011920929,10.400000154972076,8.00000011920929,8.800000131130219,7.200000107288361,7.200000107288361,9.600000143051147,9.600000143051147,12.000000178813934,8.800000131130219,null,8.800000131130219,10.400000154972076,8.00000011920929,8.800000131130219,null,11.200000166893004,null,9.600000143051147,7.200000107288361,10.400000154972076,8.800000131130219,10.400000154972076,6.400000095367432,8.00000011920929,11.200000166893004,7.200000107288361,11.200000166893004,5.600000083446503,5.600000083446503,10.400000154972076,14.40000021457672,13.600000202655792,0.800000011920929,10.400000154972076,7.200000107288361,8.800000131130219,8.00000011920929,10.400000154972076,11.200000166893004,9.600000143051147,4.800000071525574,8.800000131130219,null,7.200000107288361,9.600000143051147,8.00000011920929,8.800000131130219,4.000000059604645,12.000000178813934,8.00000011920929,7.200000107288361,12.800000190734863,9.600000143051147,10.400000154972076,7.200000107288361,3.200000047683716,7.200000107288361,8.800000131130219,8.00000011920929,12.000000178813934,13.600000202655792,9.600000143051147,8.800000131130219,6.400000095367432,7.200000107288361,8.800000131130219,8.800000131130219,8.242918573479797,2.9949821264442433,9.4,1.4],\"yaxis\":\"y\",\"type\":\"scatter\"},{\"hovertemplate\":\"level=%{x}\\u003cbr\\u003evalue=%{y}\\u003cextra\\u003e\\u003c\\u002fextra\\u003e\",\"legendgroup\":\"\",\"marker\":{\"color\":\"#636efa\",\"symbol\":\"circle\"},\"mode\":\"markers\",\"name\":\"\",\"orientation\":\"v\",\"showlegend\":false,\"x\":[8,8,8,8,8,8,8,8,8,8,8,8,8,8,8,8,8,8,8,8,8,8,8,8,8,8,8,8,8,8,8,8,8,8,8,8,8,8,8,8,8,8,8,8,8,8,8,8,8,8,8,8,8,8,8,8,8,8,8,8,8,8,8,8,8,8,8,8,8,8,8,8,8,8,8,8,8,8,8,8,8,8,8,8,8,8,8,8,8,8,8,8,8,8,8,8,8,8,8,8,8,8,8,8,8,8,8,8,8,8,8,8,8,8,8,8,8,8,8,8,8,8,8,8,8,8,8,8,8,8,8,8,8,8,8,8,8,8,8,8,8,8,8,8,8,8,8,8,8,8,8,8,8,8,8,8,8,8,8,8,8,8,8,8,8,8,8,8,8,8,8,8,8,8,8,8,8,8,8,8,8,8,8,8,8,8,8,8,8,8,8,8,8,8,8,8,8,8,8,8,8,8,8,8,8,8,8,8,8,8,8,8,8,8,8,8,8,8,8,8,8,8,8,8,8,8,8,8,8,8,8,8,8,8,8,8,8,8,8,8,8,8,8,8,8,8,8,8,8,8,8,8,8,8,8,8,8,8,8,8,8,8,8,8,8,8,8,8,8,8,8],\"xaxis\":\"x\",\"y\":[13.600000202655792,11.200000166893004,6.0,9.600000143051147,4.800000071525574,14.40000021457672,8.800000131130219,9.600000143051147,8.800000131130219,8.00000011920929,12.800000190734863,null,8.800000131130219,7.200000107288361,13.600000202655792,5.0,9.600000143051147,0.0,null,4.000000059604645,12.000000178813934,11.200000166893004,12.000000178813934,1.600000023841858,5.600000083446503,8.00000011920929,12.000000178813934,8.00000011920929,null,null,7.200000107288361,12.000000178813934,9.600000143051147,null,8.800000131130219,null,7.5,null,null,null,11.200000166893004,null,10.400000154972076,8.00000011920929,11.200000166893004,null,6.400000095367432,6.0,9.600000143051147,10.400000154972076,10.400000154972076,7.200000107288361,11.200000166893004,7.200000107288361,10.400000154972076,10.0,12.800000190734863,null,9.600000143051147,null,11.200000166893004,null,8.00000011920929,12.800000190734863,10.400000154972076,7.200000107288361,null,12.000000178813934,9.600000143051147,2.400000035762787,9.0,null,null,8.00000011920929,9.600000143051147,9.600000143051147,9.600000143051147,null,8.800000131130219,19.200000286102295,8.00000011920929,null,null,10.400000154972076,9.600000143051147,12.000000178813934,8.00000011920929,null,6.400000095367432,4.800000071525574,9.600000143051147,8.800000131130219,3.200000047683716,12.800000190734863,10.400000154972076,11.200000166893004,11.200000166893004,null,11.200000166893004,null,10.400000154972076,11.200000166893004,9.600000143051147,13.600000202655792,6.400000095367432,6.400000095367432,null,11.200000166893004,0.5,12.000000178813934,null,11.200000166893004,null,12.800000190734863,9.600000143051147,6.400000095367432,null,5.600000083446503,2.0,2.400000035762787,9.600000143051147,null,10.400000154972076,null,17.600000262260437,11.200000166893004,5.600000083446503,10.400000154972076,6.400000095367432,8.00000011920929,8.00000011920929,10.400000154972076,null,7.5,8.00000011920929,5.600000083446503,8.00000011920929,5.600000083446503,6.400000095367432,9.600000143051147,4.5,12.000000178813934,8.800000131130219,10.400000154972076,10.400000154972076,10.400000154972076,0.800000011920929,6.400000095367432,null,8.800000131130219,null,8.00000011920929,null,8.00000011920929,5.600000083446503,5.600000083446503,9.600000143051147,9.600000143051147,null,9.600000143051147,7.200000107288361,7.200000107288361,2.400000035762787,12.800000190734863,8.00000011920929,8.800000131130219,11.200000166893004,7.200000107288361,12.800000190734863,10.400000154972076,9.600000143051147,13.600000202655792,18.40000027418137,3.200000047683716,8.800000131130219,5.600000083446503,11.200000166893004,11.200000166893004,10.400000154972076,10.400000154972076,4.800000071525574,8.800000131130219,12.000000178813934,10.400000154972076,10.400000154972076,null,10.400000154972076,8.00000011920929,9.600000143051147,8.00000011920929,null,null,12.800000190734863,null,8.800000131130219,10.400000154972076,8.800000131130219,4.000000059604645,6.400000095367432,7.200000107288361,8.00000011920929,4.800000071525574,9.600000143051147,8.00000011920929,8.800000131130219,8.00000011920929,8.800000131130219,13.600000202655792,7.200000107288361,null,10.400000154972076,10.400000154972076,8.00000011920929,8.00000011920929,null,9.600000143051147,null,7.200000107288361,4.800000071525574,9.600000143051147,7.200000107288361,10.400000154972076,8.00000011920929,5.600000083446503,12.000000178813934,6.400000095367432,10.400000154972076,null,6.400000095367432,9.600000143051147,13.600000202655792,4.800000071525574,null,8.00000011920929,10.400000154972076,9.600000143051147,9.600000143051147,8.800000131130219,8.800000131130219,10.400000154972076,10.400000154972076,8.800000131130219,null,10.400000154972076,8.800000131130219,7.200000107288361,12.000000178813934,0.0,6.400000095367432,11.200000166893004,9.600000143051147,12.800000190734863,null,6.400000095367432,8.800000131130219,2.400000035762787,8.00000011920929,1.600000023841858,12.800000190734863,9.600000143051147,8.800000131130219,10.400000154972076,11.200000166893004,6.400000095367432,7.200000107288361,9.600000143051147,8.800000131130219,8.837837965638787,3.0043528667080195,9.6,1.4],\"yaxis\":\"y\",\"type\":\"scatter\"},{\"hovertemplate\":\"level=%{x}\\u003cbr\\u003evalue=%{y}\\u003cextra\\u003e\\u003c\\u002fextra\\u003e\",\"legendgroup\":\"\",\"marker\":{\"color\":\"#636efa\",\"symbol\":\"circle\"},\"mode\":\"markers\",\"name\":\"\",\"orientation\":\"v\",\"showlegend\":false,\"x\":[9,9,9,9,9,9,9,9,9,9,9,9,9,9,9,9,9,9,9,9,9,9,9,9,9,9,9,9,9,9,9,9,9,9,9,9,9,9,9,9,9,9,9,9,9,9,9,9,9,9,9,9,9,9,9,9,9,9,9,9,9,9,9,9,9,9,9,9,9,9,9,9,9,9,9,9,9,9,9,9,9,9,9,9,9,9,9,9,9,9,9,9,9,9,9,9,9,9,9,9,9,9,9,9,9,9,9,9,9,9,9,9,9,9,9,9,9,9,9,9,9,9,9,9,9,9,9,9,9,9,9,9,9,9,9,9,9,9,9,9,9,9,9,9,9,9,9,9,9,9,9,9,9,9,9,9,9,9,9,9,9,9,9,9,9,9,9,9,9,9,9,9,9,9,9,9,9,9,9,9,9,9,9,9,9,9,9,9,9,9,9,9,9,9,9,9,9,9,9,9,9,9,9,9,9,9,9,9,9,9,9,9,9,9,9,9,9,9,9,9,9,9,9,9,9,9,9,9,9,9,9,9,9,9,9,9,9,9,9,9,9,9,9,9,9,9,9,9,9,9,9,9,9,9,9,9,9,9,9,9,9,9,9,9,9,9,9,9,9],\"xaxis\":\"x\",\"y\":[14.40000021457672,8.800000131130219,10.0,11.200000166893004,10.400000154972076,14.40000021457672,13.600000202655792,12.800000190734863,14.40000021457672,2.400000035762787,14.40000021457672,null,8.800000131130219,7.200000107288361,15.20000022649765,12.0,10.400000154972076,null,9.600000143051147,4.000000059604645,29.60000044107437,13.600000202655792,12.000000178813934,1.600000023841858,8.800000131130219,10.400000154972076,13.600000202655792,11.200000166893004,3.200000047683716,null,1.600000023841858,14.40000021457672,12.000000178813934,null,12.800000190734863,8.00000011920929,5.5,null,null,4.800000071525574,12.000000178813934,8.00000011920929,21.60000032186508,11.200000166893004,6.400000095367432,8.00000011920929,9.600000143051147,null,12.000000178813934,12.800000190734863,22.40000033378601,8.00000011920929,10.400000154972076,10.400000154972076,13.600000202655792,5.0,12.000000178813934,null,16.00000023841858,7.200000107288361,7.200000107288361,null,12.800000190734863,17.600000262260437,13.600000202655792,8.00000011920929,null,14.40000021457672,6.400000095367432,6.400000095367432,13.0,null,1.600000023841858,8.800000131130219,10.400000154972076,23.20000034570694,5.600000083446503,null,null,null,9.600000143051147,null,null,12.800000190734863,4.800000071525574,14.40000021457672,14.40000021457672,null,15.20000022649765,0.800000011920929,12.800000190734863,21.60000032186508,null,15.20000022649765,12.000000178813934,12.000000178813934,13.600000202655792,4.000000059604645,12.800000190734863,null,14.40000021457672,12.800000190734863,9.600000143051147,14.40000021457672,4.800000071525574,11.200000166893004,null,9.600000143051147,null,8.800000131130219,null,12.800000190734863,null,8.800000131130219,4.000000059604645,12.800000190734863,null,12.000000178813934,7.5,null,13.600000202655792,null,14.40000021457672,null,6.400000095367432,16.00000023841858,11.200000166893004,8.00000011920929,3.200000047683716,6.400000095367432,21.60000032186508,10.400000154972076,12.800000190734863,2.5,9.600000143051147,1.600000023841858,10.400000154972076,16.00000023841858,8.800000131130219,12.000000178813934,7.5,16.00000023841858,16.00000023841858,12.800000190734863,10.400000154972076,11.200000166893004,4.800000071525574,8.00000011920929,4.000000059604645,6.400000095367432,null,2.400000035762787,null,6.400000095367432,null,27.200000405311584,15.20000022649765,12.800000190734863,null,7.200000107288361,12.000000178813934,8.800000131130219,11.200000166893004,11.200000166893004,8.800000131130219,9.600000143051147,11.200000166893004,9.600000143051147,0.800000011920929,9.600000143051147,15.20000022649765,11.200000166893004,16.800000250339508,3.200000047683716,10.400000154972076,12.800000190734863,12.000000178813934,11.200000166893004,11.200000166893004,12.000000178813934,4.800000071525574,10.400000154972076,12.800000190734863,13.600000202655792,16.800000250339508,null,0.800000011920929,11.200000166893004,12.000000178813934,11.200000166893004,2.400000035762787,null,13.600000202655792,1.600000023841858,18.40000027418137,17.600000262260437,9.600000143051147,8.00000011920929,4.800000071525574,16.800000250339508,12.000000178813934,4.000000059604645,10.400000154972076,8.800000131130219,10.400000154972076,12.800000190734863,11.200000166893004,16.00000023841858,9.600000143051147,null,8.800000131130219,12.000000178813934,8.800000131130219,12.800000190734863,2.0,11.200000166893004,4.800000071525574,13.600000202655792,0.0,14.40000021457672,12.800000190734863,13.600000202655792,9.600000143051147,10.400000154972076,12.000000178813934,null,14.40000021457672,null,24.00000035762787,13.600000202655792,12.000000178813934,8.800000131130219,null,6.400000095367432,null,11.200000166893004,8.800000131130219,12.800000190734863,14.40000021457672,16.00000023841858,12.800000190734863,14.40000021457672,null,7.200000107288361,16.00000023841858,12.000000178813934,12.800000190734863,null,10.400000154972076,15.20000022649765,12.800000190734863,15.20000022649765,8.00000011920929,12.000000178813934,8.00000011920929,3.200000047683716,10.400000154972076,24.00000035762787,9.600000143051147,12.000000178813934,14.40000021457672,9.600000143051147,6.400000095367432,10.400000154972076,9.600000143051147,11.200000166893004,11.200000166893004,10.809691786766052,4.7249356487110346],\"yaxis\":\"y\",\"type\":\"scatter\"},{\"hovertemplate\":\"level=%{x}\\u003cbr\\u003evalue=%{y}\\u003cextra\\u003e\\u003c\\u002fextra\\u003e\",\"legendgroup\":\"\",\"marker\":{\"color\":\"#636efa\",\"symbol\":\"circle\"},\"mode\":\"markers\",\"name\":\"\",\"orientation\":\"v\",\"showlegend\":false,\"x\":[10,10,10,10,10,10,10,10,10,10,10,10,10,10,10,10,10,10,10,10,10,10,10,10,10,10,10,10,10,10,10,10,10,10,10,10,10,10,10,10,10,10,10,10,10,10,10,10,10,10,10,10,10,10,10,10,10,10,10,10,10,10,10,10,10,10,10,10,10,10,10,10,10,10,10,10,10,10,10,10,10,10,10,10,10,10,10,10,10,10,10,10,10,10,10,10,10,10,10,10,10,10,10,10,10,10,10,10,10,10,10,10,10,10,10,10,10,10,10,10,10,10,10,10,10,10,10,10,10,10,10,10,10,10,10,10,10,10,10,10,10,10,10,10,10,10,10,10,10,10,10,10,10,10,10,10,10,10,10,10,10,10,10,10,10,10,10,10,10,10,10,10,10,10,10,10,10,10,10,10,10,10,10,10,10,10,10,10,10,10,10,10,10,10,10,10,10,10,10,10,10,10,10,10,10,10,10,10,10,10,10,10,10,10,10,10,10,10,10,10,10,10,10,10,10,10,10,10,10,10,10,10,10,10,10,10,10,10,10,10,10,10,10,10,10,10,10,10,10,10,10,10,10,10,10,10,10,10,10,10,10,10,10,10,10,10,10,10,10],\"xaxis\":\"x\",\"y\":[null,null,null,null,null,null,null,null,null,null,null,null,null,null,null,null,null,null,null,null,null,null,null,null,null,null,null,null,null,null,null,null,null,null,null,null,null,null,null,null,null,null,null,null,null,null,null,null,null,null,null,null,null,null,null,null,null,null,null,null,null,null,null,null,null,null,null,null,null,null,null,null,null,null,null,null,null,null,null,null,null,null,null,null,null,null,null,null,null,null,null,null,null,null,null,null,null,null,null,null,null,null,null,null,null,null,null,null,null,null,null,null,null,null,null,null,null,null,null,null,null,null,null,null,null,null,null,null,null,null,null,null,null,null,null,null,null,null,null,null,null,null,null,null,null,null,null,null,null,null,null,null,null,null,null,null,null,null,null,null,null,null,null,null,null,null,null,null,null,null,null,null,null,null,null,null,null,null,null,null,null,null,null,null,null,null,null,null,null,null,null,null,null,null,null,null,null,null,null,null,null,null,null,null,null,null,null,null,null,null,null,null,null,null,null,null,null,null,null,null,null,null,null,null,null,null,null,null,null,null,null,null,null,null,null,null,null,null,null,null,null,null,null,null,null,null,null,null,null,null,null,null,null,null,null,null,null,null,null,null,null,null,null,null,null,null,null,null,null],\"yaxis\":\"y\",\"type\":\"scatter\"},{\"hovertemplate\":\"level=%{x}\\u003cbr\\u003evalue=%{y}\\u003cextra\\u003e\\u003c\\u002fextra\\u003e\",\"legendgroup\":\"\",\"marker\":{\"color\":\"#636efa\",\"symbol\":\"circle\"},\"mode\":\"markers\",\"name\":\"\",\"orientation\":\"v\",\"showlegend\":false,\"x\":[11,11,11,11,11,11,11,11,11,11,11,11,11,11,11,11,11,11,11,11,11,11,11,11,11,11,11,11,11,11,11,11,11,11,11,11,11,11,11,11,11,11,11,11,11,11,11,11,11,11,11,11,11,11,11,11,11,11,11,11,11,11,11,11,11,11,11,11,11,11,11,11,11,11,11,11,11,11,11,11,11,11,11,11,11,11,11,11,11,11,11,11,11,11,11,11,11,11,11,11,11,11,11,11,11,11,11,11,11,11,11,11,11,11,11,11,11,11,11,11,11,11,11,11,11,11,11,11,11,11,11,11,11,11,11,11,11,11,11,11,11,11,11,11,11,11,11,11,11,11,11,11,11,11,11,11,11,11,11,11,11,11,11,11,11,11,11,11,11,11,11,11,11,11,11,11,11,11,11,11,11,11,11,11,11,11,11,11,11,11,11,11,11,11,11,11,11,11,11,11,11,11,11,11,11,11,11,11,11,11,11,11,11,11,11,11,11,11,11,11,11,11,11,11,11,11,11,11,11,11,11,11,11,11,11,11,11,11,11,11,11,11,11,11,11,11,11,11,11,11,11,11,11,11,11,11,11,11,11,11,11,11,11,11,11,11,11,11,11],\"xaxis\":\"x\",\"y\":[null,null,null,null,null,null,null,null,null,null,null,null,null,null,null,null,null,null,null,null,null,null,null,null,null,null,null,null,null,null,null,null,null,null,null,null,null,null,null,null,null,null,null,null,null,null,null,null,null,null,null,null,null,null,null,null,null,null,null,null,null,null,null,null,null,null,null,null,null,null,null,null,null,null,null,null,null,null,null,null,null,null,null,null,null,null,null,null,null,null,null,null,null,null,null,null,null,null,null,null,null,null,null,null,null,null,null,null,null,null,null,null,null,null,null,null,null,null,null,null,null,null,null,null,null,null,null,null,null,null,null,null,null,null,null,null,null,null,null,null,null,null,null,null,null,null,null,null,null,null,null,null,null,null,null,null,null,null,null,null,null,null,null,null,null,null,null,null,null,null,null,null,null,null,null,null,null,null,null,null,null,null,null,null,null,null,null,null,null,null,null,null,null,null,null,null,null,null,null,null,null,null,null,null,null,null,null,null,null,null,null,null,null,null,null,null,null,null,null,null,null,null,null,null,null,null,null,null,null,null,null,null,null,null,null,null,null,null,null,null,null,null,null,null,null,null,null,null,null,null,null,null,null,null,null,null,null,null,null,null,null,null,null,null,null,null,null,null,null],\"yaxis\":\"y\",\"type\":\"scatter\"}],                        {\"template\":{\"data\":{\"histogram2dcontour\":[{\"type\":\"histogram2dcontour\",\"colorbar\":{\"outlinewidth\":0,\"ticks\":\"\"},\"colorscale\":[[0.0,\"#0d0887\"],[0.1111111111111111,\"#46039f\"],[0.2222222222222222,\"#7201a8\"],[0.3333333333333333,\"#9c179e\"],[0.4444444444444444,\"#bd3786\"],[0.5555555555555556,\"#d8576b\"],[0.6666666666666666,\"#ed7953\"],[0.7777777777777778,\"#fb9f3a\"],[0.8888888888888888,\"#fdca26\"],[1.0,\"#f0f921\"]]}],\"choropleth\":[{\"type\":\"choropleth\",\"colorbar\":{\"outlinewidth\":0,\"ticks\":\"\"}}],\"histogram2d\":[{\"type\":\"histogram2d\",\"colorbar\":{\"outlinewidth\":0,\"ticks\":\"\"},\"colorscale\":[[0.0,\"#0d0887\"],[0.1111111111111111,\"#46039f\"],[0.2222222222222222,\"#7201a8\"],[0.3333333333333333,\"#9c179e\"],[0.4444444444444444,\"#bd3786\"],[0.5555555555555556,\"#d8576b\"],[0.6666666666666666,\"#ed7953\"],[0.7777777777777778,\"#fb9f3a\"],[0.8888888888888888,\"#fdca26\"],[1.0,\"#f0f921\"]]}],\"heatmap\":[{\"type\":\"heatmap\",\"colorbar\":{\"outlinewidth\":0,\"ticks\":\"\"},\"colorscale\":[[0.0,\"#0d0887\"],[0.1111111111111111,\"#46039f\"],[0.2222222222222222,\"#7201a8\"],[0.3333333333333333,\"#9c179e\"],[0.4444444444444444,\"#bd3786\"],[0.5555555555555556,\"#d8576b\"],[0.6666666666666666,\"#ed7953\"],[0.7777777777777778,\"#fb9f3a\"],[0.8888888888888888,\"#fdca26\"],[1.0,\"#f0f921\"]]}],\"heatmapgl\":[{\"type\":\"heatmapgl\",\"colorbar\":{\"outlinewidth\":0,\"ticks\":\"\"},\"colorscale\":[[0.0,\"#0d0887\"],[0.1111111111111111,\"#46039f\"],[0.2222222222222222,\"#7201a8\"],[0.3333333333333333,\"#9c179e\"],[0.4444444444444444,\"#bd3786\"],[0.5555555555555556,\"#d8576b\"],[0.6666666666666666,\"#ed7953\"],[0.7777777777777778,\"#fb9f3a\"],[0.8888888888888888,\"#fdca26\"],[1.0,\"#f0f921\"]]}],\"contourcarpet\":[{\"type\":\"contourcarpet\",\"colorbar\":{\"outlinewidth\":0,\"ticks\":\"\"}}],\"contour\":[{\"type\":\"contour\",\"colorbar\":{\"outlinewidth\":0,\"ticks\":\"\"},\"colorscale\":[[0.0,\"#0d0887\"],[0.1111111111111111,\"#46039f\"],[0.2222222222222222,\"#7201a8\"],[0.3333333333333333,\"#9c179e\"],[0.4444444444444444,\"#bd3786\"],[0.5555555555555556,\"#d8576b\"],[0.6666666666666666,\"#ed7953\"],[0.7777777777777778,\"#fb9f3a\"],[0.8888888888888888,\"#fdca26\"],[1.0,\"#f0f921\"]]}],\"surface\":[{\"type\":\"surface\",\"colorbar\":{\"outlinewidth\":0,\"ticks\":\"\"},\"colorscale\":[[0.0,\"#0d0887\"],[0.1111111111111111,\"#46039f\"],[0.2222222222222222,\"#7201a8\"],[0.3333333333333333,\"#9c179e\"],[0.4444444444444444,\"#bd3786\"],[0.5555555555555556,\"#d8576b\"],[0.6666666666666666,\"#ed7953\"],[0.7777777777777778,\"#fb9f3a\"],[0.8888888888888888,\"#fdca26\"],[1.0,\"#f0f921\"]]}],\"mesh3d\":[{\"type\":\"mesh3d\",\"colorbar\":{\"outlinewidth\":0,\"ticks\":\"\"}}],\"scatter\":[{\"marker\":{\"line\":{\"color\":\"#283442\"}},\"type\":\"scatter\"}],\"parcoords\":[{\"type\":\"parcoords\",\"line\":{\"colorbar\":{\"outlinewidth\":0,\"ticks\":\"\"}}}],\"scatterpolargl\":[{\"type\":\"scatterpolargl\",\"marker\":{\"colorbar\":{\"outlinewidth\":0,\"ticks\":\"\"}}}],\"bar\":[{\"error_x\":{\"color\":\"#f2f5fa\"},\"error_y\":{\"color\":\"#f2f5fa\"},\"marker\":{\"line\":{\"color\":\"rgb(17,17,17)\",\"width\":0.5},\"pattern\":{\"fillmode\":\"overlay\",\"size\":10,\"solidity\":0.2}},\"type\":\"bar\"}],\"scattergeo\":[{\"type\":\"scattergeo\",\"marker\":{\"colorbar\":{\"outlinewidth\":0,\"ticks\":\"\"}}}],\"scatterpolar\":[{\"type\":\"scatterpolar\",\"marker\":{\"colorbar\":{\"outlinewidth\":0,\"ticks\":\"\"}}}],\"histogram\":[{\"marker\":{\"pattern\":{\"fillmode\":\"overlay\",\"size\":10,\"solidity\":0.2}},\"type\":\"histogram\"}],\"scattergl\":[{\"marker\":{\"line\":{\"color\":\"#283442\"}},\"type\":\"scattergl\"}],\"scatter3d\":[{\"type\":\"scatter3d\",\"line\":{\"colorbar\":{\"outlinewidth\":0,\"ticks\":\"\"}},\"marker\":{\"colorbar\":{\"outlinewidth\":0,\"ticks\":\"\"}}}],\"scattermapbox\":[{\"type\":\"scattermapbox\",\"marker\":{\"colorbar\":{\"outlinewidth\":0,\"ticks\":\"\"}}}],\"scatterternary\":[{\"type\":\"scatterternary\",\"marker\":{\"colorbar\":{\"outlinewidth\":0,\"ticks\":\"\"}}}],\"scattercarpet\":[{\"type\":\"scattercarpet\",\"marker\":{\"colorbar\":{\"outlinewidth\":0,\"ticks\":\"\"}}}],\"carpet\":[{\"aaxis\":{\"endlinecolor\":\"#A2B1C6\",\"gridcolor\":\"#506784\",\"linecolor\":\"#506784\",\"minorgridcolor\":\"#506784\",\"startlinecolor\":\"#A2B1C6\"},\"baxis\":{\"endlinecolor\":\"#A2B1C6\",\"gridcolor\":\"#506784\",\"linecolor\":\"#506784\",\"minorgridcolor\":\"#506784\",\"startlinecolor\":\"#A2B1C6\"},\"type\":\"carpet\"}],\"table\":[{\"cells\":{\"fill\":{\"color\":\"#506784\"},\"line\":{\"color\":\"rgb(17,17,17)\"}},\"header\":{\"fill\":{\"color\":\"#2a3f5f\"},\"line\":{\"color\":\"rgb(17,17,17)\"}},\"type\":\"table\"}],\"barpolar\":[{\"marker\":{\"line\":{\"color\":\"rgb(17,17,17)\",\"width\":0.5},\"pattern\":{\"fillmode\":\"overlay\",\"size\":10,\"solidity\":0.2}},\"type\":\"barpolar\"}],\"pie\":[{\"automargin\":true,\"type\":\"pie\"}]},\"layout\":{\"autotypenumbers\":\"strict\",\"colorway\":[\"#636efa\",\"#EF553B\",\"#00cc96\",\"#ab63fa\",\"#FFA15A\",\"#19d3f3\",\"#FF6692\",\"#B6E880\",\"#FF97FF\",\"#FECB52\"],\"font\":{\"color\":\"#f2f5fa\"},\"hovermode\":\"closest\",\"hoverlabel\":{\"align\":\"left\"},\"paper_bgcolor\":\"rgb(17,17,17)\",\"plot_bgcolor\":\"rgb(17,17,17)\",\"polar\":{\"bgcolor\":\"rgb(17,17,17)\",\"angularaxis\":{\"gridcolor\":\"#506784\",\"linecolor\":\"#506784\",\"ticks\":\"\"},\"radialaxis\":{\"gridcolor\":\"#506784\",\"linecolor\":\"#506784\",\"ticks\":\"\"}},\"ternary\":{\"bgcolor\":\"rgb(17,17,17)\",\"aaxis\":{\"gridcolor\":\"#506784\",\"linecolor\":\"#506784\",\"ticks\":\"\"},\"baxis\":{\"gridcolor\":\"#506784\",\"linecolor\":\"#506784\",\"ticks\":\"\"},\"caxis\":{\"gridcolor\":\"#506784\",\"linecolor\":\"#506784\",\"ticks\":\"\"}},\"coloraxis\":{\"colorbar\":{\"outlinewidth\":0,\"ticks\":\"\"}},\"colorscale\":{\"sequential\":[[0.0,\"#0d0887\"],[0.1111111111111111,\"#46039f\"],[0.2222222222222222,\"#7201a8\"],[0.3333333333333333,\"#9c179e\"],[0.4444444444444444,\"#bd3786\"],[0.5555555555555556,\"#d8576b\"],[0.6666666666666666,\"#ed7953\"],[0.7777777777777778,\"#fb9f3a\"],[0.8888888888888888,\"#fdca26\"],[1.0,\"#f0f921\"]],\"sequentialminus\":[[0.0,\"#0d0887\"],[0.1111111111111111,\"#46039f\"],[0.2222222222222222,\"#7201a8\"],[0.3333333333333333,\"#9c179e\"],[0.4444444444444444,\"#bd3786\"],[0.5555555555555556,\"#d8576b\"],[0.6666666666666666,\"#ed7953\"],[0.7777777777777778,\"#fb9f3a\"],[0.8888888888888888,\"#fdca26\"],[1.0,\"#f0f921\"]],\"diverging\":[[0,\"#8e0152\"],[0.1,\"#c51b7d\"],[0.2,\"#de77ae\"],[0.3,\"#f1b6da\"],[0.4,\"#fde0ef\"],[0.5,\"#f7f7f7\"],[0.6,\"#e6f5d0\"],[0.7,\"#b8e186\"],[0.8,\"#7fbc41\"],[0.9,\"#4d9221\"],[1,\"#276419\"]]},\"xaxis\":{\"gridcolor\":\"#283442\",\"linecolor\":\"#506784\",\"ticks\":\"\",\"title\":{\"standoff\":15},\"zerolinecolor\":\"#283442\",\"automargin\":true,\"zerolinewidth\":2},\"yaxis\":{\"gridcolor\":\"#283442\",\"linecolor\":\"#506784\",\"ticks\":\"\",\"title\":{\"standoff\":15},\"zerolinecolor\":\"#283442\",\"automargin\":true,\"zerolinewidth\":2},\"scene\":{\"xaxis\":{\"backgroundcolor\":\"rgb(17,17,17)\",\"gridcolor\":\"#506784\",\"linecolor\":\"#506784\",\"showbackground\":true,\"ticks\":\"\",\"zerolinecolor\":\"#C8D4E3\",\"gridwidth\":2},\"yaxis\":{\"backgroundcolor\":\"rgb(17,17,17)\",\"gridcolor\":\"#506784\",\"linecolor\":\"#506784\",\"showbackground\":true,\"ticks\":\"\",\"zerolinecolor\":\"#C8D4E3\",\"gridwidth\":2},\"zaxis\":{\"backgroundcolor\":\"rgb(17,17,17)\",\"gridcolor\":\"#506784\",\"linecolor\":\"#506784\",\"showbackground\":true,\"ticks\":\"\",\"zerolinecolor\":\"#C8D4E3\",\"gridwidth\":2}},\"shapedefaults\":{\"line\":{\"color\":\"#f2f5fa\"}},\"annotationdefaults\":{\"arrowcolor\":\"#f2f5fa\",\"arrowhead\":0,\"arrowwidth\":1},\"geo\":{\"bgcolor\":\"rgb(17,17,17)\",\"landcolor\":\"rgb(17,17,17)\",\"subunitcolor\":\"#506784\",\"showland\":true,\"showlakes\":true,\"lakecolor\":\"rgb(17,17,17)\"},\"title\":{\"x\":0.05},\"updatemenudefaults\":{\"bgcolor\":\"#506784\",\"borderwidth\":0},\"sliderdefaults\":{\"bgcolor\":\"#C8D4E3\",\"borderwidth\":1,\"bordercolor\":\"rgb(17,17,17)\",\"tickwidth\":0},\"mapbox\":{\"style\":\"dark\"}}},\"xaxis\":{\"anchor\":\"y\",\"domain\":[0.0,1.0],\"title\":{\"text\":\"level_offset\"}},\"yaxis\":{\"anchor\":\"x\",\"domain\":[0.0,1.0],\"title\":{\"text\":\"mean\"}},\"legend\":{\"title\":{\"text\":\"from\"},\"tracegroupgap\":0},\"margin\":{\"t\":60}},                        {\"responsive\": true}                    ).then(function(){\n                            \nvar gd = document.getElementById('2cb6387a-7996-4113-b0b1-e5a5f8e412f3');\nvar x = new MutationObserver(function (mutations, observer) {{\n        var display = window.getComputedStyle(gd).display;\n        if (!display || display === 'none') {{\n            console.log([gd, 'removed!']);\n            Plotly.purge(gd);\n            observer.disconnect();\n        }}\n}});\n\n// Listen for the removal of the full notebook cells\nvar notebookContainer = gd.closest('#notebook-container');\nif (notebookContainer) {{\n    x.observe(notebookContainer, {childList: true});\n}}\n\n// Listen for the clearing of the current output cell\nvar outputEl = gd.closest('.output');\nif (outputEl) {{\n    x.observe(outputEl, {childList: true});\n}}\n\n                        })                };                });            </script>        </div>"
     },
     "metadata": {},
     "output_type": "display_data"
    }
   ],
   "source": [
    "fig = px.scatter(pivot_df, x=\"level_offset\", y=\"mean\", color=\"from\", error_y=\"std\")\n",
    "for level in df[\"level\"].unique():\n",
    "    df_level = df[df[\"level\"] == level]\n",
    "    mean = df_level.loc[df_level[\"mesure\"] == \"mean\"]\n",
    "    std = df_level.loc[df_level[\"mesure\"] == \"std\"]\n",
    "    #TODO handle nan values\n",
    "    scatter = px.scatter(df_level, x=\"level\", y=\"value\").data[0]\n",
    "    fig.add_trace(scatter)\n",
    "\n",
    "fig.show()"
   ]
  },
  {
   "cell_type": "markdown",
   "metadata": {
    "collapsed": false,
    "jupyter": {
     "outputs_hidden": false
    }
   },
   "source": [
    "## PMJ DISTANCE"
   ]
  },
  {
   "cell_type": "code",
   "execution_count": 31,
   "metadata": {
    "collapsed": false,
    "jupyter": {
     "outputs_hidden": false
    },
    "ExecuteTime": {
     "end_time": "2023-08-15T17:23:01.118987Z",
     "start_time": "2023-08-15T17:23:01.087902Z"
    }
   },
   "outputs": [
    {
     "data": {
      "text/plain": "   level              sub_name  spinal_start  spinal_end     height  \\\n0      2  sub-1-13696_006_0000         389.0       384.0   1.953000   \n1      3  sub-1-13696_006_0000         356.0       328.0  10.936798   \n2      4  sub-1-13696_006_0000         316.0       316.0   0.000000   \n3      5  sub-1-13696_006_0000           NaN         NaN        NaN   \n4      6  sub-1-13696_006_0000           NaN         NaN        NaN   \n\n   PMJ_start    PMJ_end  \n0 -40.521296 -42.576228  \n1 -54.124618 -66.514692  \n2 -71.609619 -71.609619  \n3        NaN        NaN  \n4        NaN        NaN  ",
      "text/html": "<div>\n<style scoped>\n    .dataframe tbody tr th:only-of-type {\n        vertical-align: middle;\n    }\n\n    .dataframe tbody tr th {\n        vertical-align: top;\n    }\n\n    .dataframe thead th {\n        text-align: right;\n    }\n</style>\n<table border=\"1\" class=\"dataframe\">\n  <thead>\n    <tr style=\"text-align: right;\">\n      <th></th>\n      <th>level</th>\n      <th>sub_name</th>\n      <th>spinal_start</th>\n      <th>spinal_end</th>\n      <th>height</th>\n      <th>PMJ_start</th>\n      <th>PMJ_end</th>\n    </tr>\n  </thead>\n  <tbody>\n    <tr>\n      <th>0</th>\n      <td>2</td>\n      <td>sub-1-13696_006_0000</td>\n      <td>389.0</td>\n      <td>384.0</td>\n      <td>1.953000</td>\n      <td>-40.521296</td>\n      <td>-42.576228</td>\n    </tr>\n    <tr>\n      <th>1</th>\n      <td>3</td>\n      <td>sub-1-13696_006_0000</td>\n      <td>356.0</td>\n      <td>328.0</td>\n      <td>10.936798</td>\n      <td>-54.124618</td>\n      <td>-66.514692</td>\n    </tr>\n    <tr>\n      <th>2</th>\n      <td>4</td>\n      <td>sub-1-13696_006_0000</td>\n      <td>316.0</td>\n      <td>316.0</td>\n      <td>0.000000</td>\n      <td>-71.609619</td>\n      <td>-71.609619</td>\n    </tr>\n    <tr>\n      <th>3</th>\n      <td>5</td>\n      <td>sub-1-13696_006_0000</td>\n      <td>NaN</td>\n      <td>NaN</td>\n      <td>NaN</td>\n      <td>NaN</td>\n      <td>NaN</td>\n    </tr>\n    <tr>\n      <th>4</th>\n      <td>6</td>\n      <td>sub-1-13696_006_0000</td>\n      <td>NaN</td>\n      <td>NaN</td>\n      <td>NaN</td>\n      <td>NaN</td>\n      <td>NaN</td>\n    </tr>\n  </tbody>\n</table>\n</div>"
     },
     "metadata": {},
     "output_type": "display_data"
    },
    {
     "data": {
      "text/plain": "           sub_name  level   PMJ_start     PMJ_end  slice_s  slice_e\n84  sub-1-13696_006      9 -148.491625 -162.223213      126       95\n85  sub-1-13696_006      8 -135.669504 -143.498630      157      138\n86  sub-1-13696_006      7 -118.958511 -129.029305      199      174\n87  sub-1-13696_006      6 -102.145586 -112.318312      241      216\n88  sub-1-13696_006      5  -86.996992  -97.848986      279      252",
      "text/html": "<div>\n<style scoped>\n    .dataframe tbody tr th:only-of-type {\n        vertical-align: middle;\n    }\n\n    .dataframe tbody tr th {\n        vertical-align: top;\n    }\n\n    .dataframe thead th {\n        text-align: right;\n    }\n</style>\n<table border=\"1\" class=\"dataframe\">\n  <thead>\n    <tr style=\"text-align: right;\">\n      <th></th>\n      <th>sub_name</th>\n      <th>level</th>\n      <th>PMJ_start</th>\n      <th>PMJ_end</th>\n      <th>slice_s</th>\n      <th>slice_e</th>\n    </tr>\n  </thead>\n  <tbody>\n    <tr>\n      <th>84</th>\n      <td>sub-1-13696_006</td>\n      <td>9</td>\n      <td>-148.491625</td>\n      <td>-162.223213</td>\n      <td>126</td>\n      <td>95</td>\n    </tr>\n    <tr>\n      <th>85</th>\n      <td>sub-1-13696_006</td>\n      <td>8</td>\n      <td>-135.669504</td>\n      <td>-143.498630</td>\n      <td>157</td>\n      <td>138</td>\n    </tr>\n    <tr>\n      <th>86</th>\n      <td>sub-1-13696_006</td>\n      <td>7</td>\n      <td>-118.958511</td>\n      <td>-129.029305</td>\n      <td>199</td>\n      <td>174</td>\n    </tr>\n    <tr>\n      <th>87</th>\n      <td>sub-1-13696_006</td>\n      <td>6</td>\n      <td>-102.145586</td>\n      <td>-112.318312</td>\n      <td>241</td>\n      <td>216</td>\n    </tr>\n    <tr>\n      <th>88</th>\n      <td>sub-1-13696_006</td>\n      <td>5</td>\n      <td>-86.996992</td>\n      <td>-97.848986</td>\n      <td>279</td>\n      <td>252</td>\n    </tr>\n  </tbody>\n</table>\n</div>"
     },
     "metadata": {},
     "output_type": "display_data"
    }
   ],
   "source": [
    "PATH_pmj = \"/Users/theomathieu/Documents/Stage/results_img/cadotte/csv_file_pred/sub-1-13696_006_0000_pmj-dist.csv\"\n",
    "df_pmj = pd.read_csv(PATH_pmj)\n",
    "display(df_pmj.head())\n",
    "PATH_cad = \"/Users/theomathieu/Documents/Stage/results_img/cadotte/root.csv\"\n",
    "df_full_cad = pd.read_csv(PATH_cad)\n",
    "df_cad = df_full_cad[df_full_cad[\"sub_name\"]==\"sub-1-13696_006\"]\n",
    "display(df_cad.head())"
   ]
  },
  {
   "cell_type": "code",
   "execution_count": 33,
   "metadata": {
    "collapsed": false,
    "jupyter": {
     "outputs_hidden": false
    },
    "ExecuteTime": {
     "end_time": "2023-08-15T17:23:41.068413Z",
     "start_time": "2023-08-15T17:23:41.056246Z"
    }
   },
   "outputs": [
    {
     "name": "stdout",
     "output_type": "stream",
     "text": [
      "Level\tstart(pred/true)\tend(pred/true)\n",
      "2\t-40.52/nan\t-42.58/nan\n",
      "3\t-54.12/-50.69\t-66.51/-64.17\n",
      "4\t-71.61/-69.16\t-71.61/-78.10\n",
      "5\tnan/-87.00\tnan/-97.85\n",
      "6\tnan/-102.15\tnan/-112.32\n",
      "7\t-121.30/-118.96\t-130.59/-129.03\n",
      "8\tnan/-135.67\tnan/-143.50\n",
      "9\tnan/-148.49\tnan/-162.22\n",
      "10\tnan/nan\tnan/nan\n",
      "11\tnan/nan\tnan/nan\n"
     ]
    },
    {
     "data": {
      "application/vnd.plotly.v1+json": {
       "data": [],
       "layout": {
        "template": {
         "data": {
          "histogram2dcontour": [
           {
            "type": "histogram2dcontour",
            "colorbar": {
             "outlinewidth": 0,
             "ticks": ""
            },
            "colorscale": [
             [
              0.0,
              "#0d0887"
             ],
             [
              0.1111111111111111,
              "#46039f"
             ],
             [
              0.2222222222222222,
              "#7201a8"
             ],
             [
              0.3333333333333333,
              "#9c179e"
             ],
             [
              0.4444444444444444,
              "#bd3786"
             ],
             [
              0.5555555555555556,
              "#d8576b"
             ],
             [
              0.6666666666666666,
              "#ed7953"
             ],
             [
              0.7777777777777778,
              "#fb9f3a"
             ],
             [
              0.8888888888888888,
              "#fdca26"
             ],
             [
              1.0,
              "#f0f921"
             ]
            ]
           }
          ],
          "choropleth": [
           {
            "type": "choropleth",
            "colorbar": {
             "outlinewidth": 0,
             "ticks": ""
            }
           }
          ],
          "histogram2d": [
           {
            "type": "histogram2d",
            "colorbar": {
             "outlinewidth": 0,
             "ticks": ""
            },
            "colorscale": [
             [
              0.0,
              "#0d0887"
             ],
             [
              0.1111111111111111,
              "#46039f"
             ],
             [
              0.2222222222222222,
              "#7201a8"
             ],
             [
              0.3333333333333333,
              "#9c179e"
             ],
             [
              0.4444444444444444,
              "#bd3786"
             ],
             [
              0.5555555555555556,
              "#d8576b"
             ],
             [
              0.6666666666666666,
              "#ed7953"
             ],
             [
              0.7777777777777778,
              "#fb9f3a"
             ],
             [
              0.8888888888888888,
              "#fdca26"
             ],
             [
              1.0,
              "#f0f921"
             ]
            ]
           }
          ],
          "heatmap": [
           {
            "type": "heatmap",
            "colorbar": {
             "outlinewidth": 0,
             "ticks": ""
            },
            "colorscale": [
             [
              0.0,
              "#0d0887"
             ],
             [
              0.1111111111111111,
              "#46039f"
             ],
             [
              0.2222222222222222,
              "#7201a8"
             ],
             [
              0.3333333333333333,
              "#9c179e"
             ],
             [
              0.4444444444444444,
              "#bd3786"
             ],
             [
              0.5555555555555556,
              "#d8576b"
             ],
             [
              0.6666666666666666,
              "#ed7953"
             ],
             [
              0.7777777777777778,
              "#fb9f3a"
             ],
             [
              0.8888888888888888,
              "#fdca26"
             ],
             [
              1.0,
              "#f0f921"
             ]
            ]
           }
          ],
          "heatmapgl": [
           {
            "type": "heatmapgl",
            "colorbar": {
             "outlinewidth": 0,
             "ticks": ""
            },
            "colorscale": [
             [
              0.0,
              "#0d0887"
             ],
             [
              0.1111111111111111,
              "#46039f"
             ],
             [
              0.2222222222222222,
              "#7201a8"
             ],
             [
              0.3333333333333333,
              "#9c179e"
             ],
             [
              0.4444444444444444,
              "#bd3786"
             ],
             [
              0.5555555555555556,
              "#d8576b"
             ],
             [
              0.6666666666666666,
              "#ed7953"
             ],
             [
              0.7777777777777778,
              "#fb9f3a"
             ],
             [
              0.8888888888888888,
              "#fdca26"
             ],
             [
              1.0,
              "#f0f921"
             ]
            ]
           }
          ],
          "contourcarpet": [
           {
            "type": "contourcarpet",
            "colorbar": {
             "outlinewidth": 0,
             "ticks": ""
            }
           }
          ],
          "contour": [
           {
            "type": "contour",
            "colorbar": {
             "outlinewidth": 0,
             "ticks": ""
            },
            "colorscale": [
             [
              0.0,
              "#0d0887"
             ],
             [
              0.1111111111111111,
              "#46039f"
             ],
             [
              0.2222222222222222,
              "#7201a8"
             ],
             [
              0.3333333333333333,
              "#9c179e"
             ],
             [
              0.4444444444444444,
              "#bd3786"
             ],
             [
              0.5555555555555556,
              "#d8576b"
             ],
             [
              0.6666666666666666,
              "#ed7953"
             ],
             [
              0.7777777777777778,
              "#fb9f3a"
             ],
             [
              0.8888888888888888,
              "#fdca26"
             ],
             [
              1.0,
              "#f0f921"
             ]
            ]
           }
          ],
          "surface": [
           {
            "type": "surface",
            "colorbar": {
             "outlinewidth": 0,
             "ticks": ""
            },
            "colorscale": [
             [
              0.0,
              "#0d0887"
             ],
             [
              0.1111111111111111,
              "#46039f"
             ],
             [
              0.2222222222222222,
              "#7201a8"
             ],
             [
              0.3333333333333333,
              "#9c179e"
             ],
             [
              0.4444444444444444,
              "#bd3786"
             ],
             [
              0.5555555555555556,
              "#d8576b"
             ],
             [
              0.6666666666666666,
              "#ed7953"
             ],
             [
              0.7777777777777778,
              "#fb9f3a"
             ],
             [
              0.8888888888888888,
              "#fdca26"
             ],
             [
              1.0,
              "#f0f921"
             ]
            ]
           }
          ],
          "mesh3d": [
           {
            "type": "mesh3d",
            "colorbar": {
             "outlinewidth": 0,
             "ticks": ""
            }
           }
          ],
          "scatter": [
           {
            "marker": {
             "line": {
              "color": "#283442"
             }
            },
            "type": "scatter"
           }
          ],
          "parcoords": [
           {
            "type": "parcoords",
            "line": {
             "colorbar": {
              "outlinewidth": 0,
              "ticks": ""
             }
            }
           }
          ],
          "scatterpolargl": [
           {
            "type": "scatterpolargl",
            "marker": {
             "colorbar": {
              "outlinewidth": 0,
              "ticks": ""
             }
            }
           }
          ],
          "bar": [
           {
            "error_x": {
             "color": "#f2f5fa"
            },
            "error_y": {
             "color": "#f2f5fa"
            },
            "marker": {
             "line": {
              "color": "rgb(17,17,17)",
              "width": 0.5
             },
             "pattern": {
              "fillmode": "overlay",
              "size": 10,
              "solidity": 0.2
             }
            },
            "type": "bar"
           }
          ],
          "scattergeo": [
           {
            "type": "scattergeo",
            "marker": {
             "colorbar": {
              "outlinewidth": 0,
              "ticks": ""
             }
            }
           }
          ],
          "scatterpolar": [
           {
            "type": "scatterpolar",
            "marker": {
             "colorbar": {
              "outlinewidth": 0,
              "ticks": ""
             }
            }
           }
          ],
          "histogram": [
           {
            "marker": {
             "pattern": {
              "fillmode": "overlay",
              "size": 10,
              "solidity": 0.2
             }
            },
            "type": "histogram"
           }
          ],
          "scattergl": [
           {
            "marker": {
             "line": {
              "color": "#283442"
             }
            },
            "type": "scattergl"
           }
          ],
          "scatter3d": [
           {
            "type": "scatter3d",
            "line": {
             "colorbar": {
              "outlinewidth": 0,
              "ticks": ""
             }
            },
            "marker": {
             "colorbar": {
              "outlinewidth": 0,
              "ticks": ""
             }
            }
           }
          ],
          "scattermapbox": [
           {
            "type": "scattermapbox",
            "marker": {
             "colorbar": {
              "outlinewidth": 0,
              "ticks": ""
             }
            }
           }
          ],
          "scatterternary": [
           {
            "type": "scatterternary",
            "marker": {
             "colorbar": {
              "outlinewidth": 0,
              "ticks": ""
             }
            }
           }
          ],
          "scattercarpet": [
           {
            "type": "scattercarpet",
            "marker": {
             "colorbar": {
              "outlinewidth": 0,
              "ticks": ""
             }
            }
           }
          ],
          "carpet": [
           {
            "aaxis": {
             "endlinecolor": "#A2B1C6",
             "gridcolor": "#506784",
             "linecolor": "#506784",
             "minorgridcolor": "#506784",
             "startlinecolor": "#A2B1C6"
            },
            "baxis": {
             "endlinecolor": "#A2B1C6",
             "gridcolor": "#506784",
             "linecolor": "#506784",
             "minorgridcolor": "#506784",
             "startlinecolor": "#A2B1C6"
            },
            "type": "carpet"
           }
          ],
          "table": [
           {
            "cells": {
             "fill": {
              "color": "#506784"
             },
             "line": {
              "color": "rgb(17,17,17)"
             }
            },
            "header": {
             "fill": {
              "color": "#2a3f5f"
             },
             "line": {
              "color": "rgb(17,17,17)"
             }
            },
            "type": "table"
           }
          ],
          "barpolar": [
           {
            "marker": {
             "line": {
              "color": "rgb(17,17,17)",
              "width": 0.5
             },
             "pattern": {
              "fillmode": "overlay",
              "size": 10,
              "solidity": 0.2
             }
            },
            "type": "barpolar"
           }
          ],
          "pie": [
           {
            "automargin": true,
            "type": "pie"
           }
          ]
         },
         "layout": {
          "autotypenumbers": "strict",
          "colorway": [
           "#636efa",
           "#EF553B",
           "#00cc96",
           "#ab63fa",
           "#FFA15A",
           "#19d3f3",
           "#FF6692",
           "#B6E880",
           "#FF97FF",
           "#FECB52"
          ],
          "font": {
           "color": "#f2f5fa"
          },
          "hovermode": "closest",
          "hoverlabel": {
           "align": "left"
          },
          "paper_bgcolor": "rgb(17,17,17)",
          "plot_bgcolor": "rgb(17,17,17)",
          "polar": {
           "bgcolor": "rgb(17,17,17)",
           "angularaxis": {
            "gridcolor": "#506784",
            "linecolor": "#506784",
            "ticks": ""
           },
           "radialaxis": {
            "gridcolor": "#506784",
            "linecolor": "#506784",
            "ticks": ""
           }
          },
          "ternary": {
           "bgcolor": "rgb(17,17,17)",
           "aaxis": {
            "gridcolor": "#506784",
            "linecolor": "#506784",
            "ticks": ""
           },
           "baxis": {
            "gridcolor": "#506784",
            "linecolor": "#506784",
            "ticks": ""
           },
           "caxis": {
            "gridcolor": "#506784",
            "linecolor": "#506784",
            "ticks": ""
           }
          },
          "coloraxis": {
           "colorbar": {
            "outlinewidth": 0,
            "ticks": ""
           }
          },
          "colorscale": {
           "sequential": [
            [
             0.0,
             "#0d0887"
            ],
            [
             0.1111111111111111,
             "#46039f"
            ],
            [
             0.2222222222222222,
             "#7201a8"
            ],
            [
             0.3333333333333333,
             "#9c179e"
            ],
            [
             0.4444444444444444,
             "#bd3786"
            ],
            [
             0.5555555555555556,
             "#d8576b"
            ],
            [
             0.6666666666666666,
             "#ed7953"
            ],
            [
             0.7777777777777778,
             "#fb9f3a"
            ],
            [
             0.8888888888888888,
             "#fdca26"
            ],
            [
             1.0,
             "#f0f921"
            ]
           ],
           "sequentialminus": [
            [
             0.0,
             "#0d0887"
            ],
            [
             0.1111111111111111,
             "#46039f"
            ],
            [
             0.2222222222222222,
             "#7201a8"
            ],
            [
             0.3333333333333333,
             "#9c179e"
            ],
            [
             0.4444444444444444,
             "#bd3786"
            ],
            [
             0.5555555555555556,
             "#d8576b"
            ],
            [
             0.6666666666666666,
             "#ed7953"
            ],
            [
             0.7777777777777778,
             "#fb9f3a"
            ],
            [
             0.8888888888888888,
             "#fdca26"
            ],
            [
             1.0,
             "#f0f921"
            ]
           ],
           "diverging": [
            [
             0,
             "#8e0152"
            ],
            [
             0.1,
             "#c51b7d"
            ],
            [
             0.2,
             "#de77ae"
            ],
            [
             0.3,
             "#f1b6da"
            ],
            [
             0.4,
             "#fde0ef"
            ],
            [
             0.5,
             "#f7f7f7"
            ],
            [
             0.6,
             "#e6f5d0"
            ],
            [
             0.7,
             "#b8e186"
            ],
            [
             0.8,
             "#7fbc41"
            ],
            [
             0.9,
             "#4d9221"
            ],
            [
             1,
             "#276419"
            ]
           ]
          },
          "xaxis": {
           "gridcolor": "#283442",
           "linecolor": "#506784",
           "ticks": "",
           "title": {
            "standoff": 15
           },
           "zerolinecolor": "#283442",
           "automargin": true,
           "zerolinewidth": 2
          },
          "yaxis": {
           "gridcolor": "#283442",
           "linecolor": "#506784",
           "ticks": "",
           "title": {
            "standoff": 15
           },
           "zerolinecolor": "#283442",
           "automargin": true,
           "zerolinewidth": 2
          },
          "scene": {
           "xaxis": {
            "backgroundcolor": "rgb(17,17,17)",
            "gridcolor": "#506784",
            "linecolor": "#506784",
            "showbackground": true,
            "ticks": "",
            "zerolinecolor": "#C8D4E3",
            "gridwidth": 2
           },
           "yaxis": {
            "backgroundcolor": "rgb(17,17,17)",
            "gridcolor": "#506784",
            "linecolor": "#506784",
            "showbackground": true,
            "ticks": "",
            "zerolinecolor": "#C8D4E3",
            "gridwidth": 2
           },
           "zaxis": {
            "backgroundcolor": "rgb(17,17,17)",
            "gridcolor": "#506784",
            "linecolor": "#506784",
            "showbackground": true,
            "ticks": "",
            "zerolinecolor": "#C8D4E3",
            "gridwidth": 2
           }
          },
          "shapedefaults": {
           "line": {
            "color": "#f2f5fa"
           }
          },
          "annotationdefaults": {
           "arrowcolor": "#f2f5fa",
           "arrowhead": 0,
           "arrowwidth": 1
          },
          "geo": {
           "bgcolor": "rgb(17,17,17)",
           "landcolor": "rgb(17,17,17)",
           "subunitcolor": "#506784",
           "showland": true,
           "showlakes": true,
           "lakecolor": "rgb(17,17,17)"
          },
          "title": {
           "x": 0.05
          },
          "updatemenudefaults": {
           "bgcolor": "#506784",
           "borderwidth": 0
          },
          "sliderdefaults": {
           "bgcolor": "#C8D4E3",
           "borderwidth": 1,
           "bordercolor": "rgb(17,17,17)",
           "tickwidth": 0
          },
          "mapbox": {
           "style": "dark"
          }
         }
        },
        "shapes": [
         {
          "fillcolor": "#5B6C5D",
          "line": {
           "color": "#5B6C5D",
           "width": 2
          },
          "name": "Predicted 2",
          "type": "rect",
          "x0": 0.7,
          "x1": 0.95,
          "y0": -40.521296411072875,
          "y1": -42.576228031347206
         },
         {
          "fillcolor": "#5CC878",
          "line": {
           "color": "#5CC878",
           "width": 2
          },
          "name": "Predicted 3",
          "type": "rect",
          "x0": 0.7,
          "x1": 0.95,
          "y0": -54.12461788049945,
          "y1": -66.51469221654554
         },
         {
          "line": {
           "color": "#5CC878",
           "width": 3
          },
          "name": "Cadotte 3",
          "type": "rect",
          "x0": 1.05,
          "x1": 1.3,
          "y0": -50.69402257340456,
          "y1": -64.17109259906431
         },
         {
          "fillcolor": "#FF707D",
          "line": {
           "color": "#FF707D",
           "width": 2
          },
          "name": "Predicted 4",
          "type": "rect",
          "x0": 0.7,
          "x1": 0.95,
          "y0": -71.60961920766789,
          "y1": -71.60961920766789
         },
         {
          "line": {
           "color": "#FF707D",
           "width": 3
          },
          "name": "Cadotte 4",
          "type": "rect",
          "x0": 1.05,
          "x1": 1.3,
          "y0": -69.16408765114669,
          "y1": -78.09799769274876
         },
         {
          "line": {
           "color": "#64DEDC",
           "width": 3
          },
          "name": "Cadotte 5",
          "type": "rect",
          "x0": 1.05,
          "x1": 1.3,
          "y0": -86.99699210729986,
          "y1": -97.84898620308532
         },
         {
          "line": {
           "color": "#D682C6",
           "width": 3
          },
          "name": "Cadotte 6",
          "type": "rect",
          "x0": 1.05,
          "x1": 1.3,
          "y0": -102.14558550180092,
          "y1": -112.3183116641326
         },
         {
          "fillcolor": "#E1E074",
          "line": {
           "color": "#E1E074",
           "width": 2
          },
          "name": "Predicted 7",
          "type": "rect",
          "x0": 0.7,
          "x1": 0.95,
          "y0": -121.30211019781063,
          "y1": -130.59170454860865
         },
         {
          "line": {
           "color": "#E1E074",
           "width": 3
          },
          "name": "Cadotte 7",
          "type": "rect",
          "x0": 1.05,
          "x1": 1.3,
          "y0": -118.95851058032942,
          "y1": -129.02930480362116
         },
         {
          "line": {
           "color": "#738282",
           "width": 3
          },
          "name": "Cadotte 8",
          "type": "rect",
          "x0": 1.05,
          "x1": 1.3,
          "y0": -135.66950371981798,
          "y1": -143.4986302646685
         },
         {
          "line": {
           "color": "#C16200",
           "width": 3
          },
          "name": "Cadotte 9",
          "type": "rect",
          "x0": 1.05,
          "x1": 1.3,
          "y0": -148.4916253167509,
          "y1": -162.22321281935518
         }
        ],
        "xaxis": {
         "title": {
          "text": "Subject"
         },
         "range": [
          0,
          10
         ],
         "ticktext": [
          "1",
          "2",
          "3",
          "4",
          "5",
          "6",
          "7",
          "8",
          "9"
         ],
         "tickvals": [
          1,
          2,
          3,
          4,
          5,
          6,
          7,
          8,
          9
         ]
        },
        "yaxis": {
         "title": {
          "text": "PMJ distance (PMJ = 0 mm)"
         },
         "range": [
          -187.22321281935518,
          2
         ],
         "autorange": "reversed",
         "dtick": 10
        },
        "title": {
         "text": "Nerve rootlet layout"
        },
        "showlegend": true
       },
       "config": {
        "plotlyServerURL": "https://plot.ly"
       }
      },
      "text/html": "<div>                            <div id=\"b72289ee-f3bc-4386-ba4a-2c3b0e854e8b\" class=\"plotly-graph-div\" style=\"height:525px; width:100%;\"></div>            <script type=\"text/javascript\">                require([\"plotly\"], function(Plotly) {                    window.PLOTLYENV=window.PLOTLYENV || {};                                    if (document.getElementById(\"b72289ee-f3bc-4386-ba4a-2c3b0e854e8b\")) {                    Plotly.newPlot(                        \"b72289ee-f3bc-4386-ba4a-2c3b0e854e8b\",                        [],                        {\"template\":{\"data\":{\"histogram2dcontour\":[{\"type\":\"histogram2dcontour\",\"colorbar\":{\"outlinewidth\":0,\"ticks\":\"\"},\"colorscale\":[[0.0,\"#0d0887\"],[0.1111111111111111,\"#46039f\"],[0.2222222222222222,\"#7201a8\"],[0.3333333333333333,\"#9c179e\"],[0.4444444444444444,\"#bd3786\"],[0.5555555555555556,\"#d8576b\"],[0.6666666666666666,\"#ed7953\"],[0.7777777777777778,\"#fb9f3a\"],[0.8888888888888888,\"#fdca26\"],[1.0,\"#f0f921\"]]}],\"choropleth\":[{\"type\":\"choropleth\",\"colorbar\":{\"outlinewidth\":0,\"ticks\":\"\"}}],\"histogram2d\":[{\"type\":\"histogram2d\",\"colorbar\":{\"outlinewidth\":0,\"ticks\":\"\"},\"colorscale\":[[0.0,\"#0d0887\"],[0.1111111111111111,\"#46039f\"],[0.2222222222222222,\"#7201a8\"],[0.3333333333333333,\"#9c179e\"],[0.4444444444444444,\"#bd3786\"],[0.5555555555555556,\"#d8576b\"],[0.6666666666666666,\"#ed7953\"],[0.7777777777777778,\"#fb9f3a\"],[0.8888888888888888,\"#fdca26\"],[1.0,\"#f0f921\"]]}],\"heatmap\":[{\"type\":\"heatmap\",\"colorbar\":{\"outlinewidth\":0,\"ticks\":\"\"},\"colorscale\":[[0.0,\"#0d0887\"],[0.1111111111111111,\"#46039f\"],[0.2222222222222222,\"#7201a8\"],[0.3333333333333333,\"#9c179e\"],[0.4444444444444444,\"#bd3786\"],[0.5555555555555556,\"#d8576b\"],[0.6666666666666666,\"#ed7953\"],[0.7777777777777778,\"#fb9f3a\"],[0.8888888888888888,\"#fdca26\"],[1.0,\"#f0f921\"]]}],\"heatmapgl\":[{\"type\":\"heatmapgl\",\"colorbar\":{\"outlinewidth\":0,\"ticks\":\"\"},\"colorscale\":[[0.0,\"#0d0887\"],[0.1111111111111111,\"#46039f\"],[0.2222222222222222,\"#7201a8\"],[0.3333333333333333,\"#9c179e\"],[0.4444444444444444,\"#bd3786\"],[0.5555555555555556,\"#d8576b\"],[0.6666666666666666,\"#ed7953\"],[0.7777777777777778,\"#fb9f3a\"],[0.8888888888888888,\"#fdca26\"],[1.0,\"#f0f921\"]]}],\"contourcarpet\":[{\"type\":\"contourcarpet\",\"colorbar\":{\"outlinewidth\":0,\"ticks\":\"\"}}],\"contour\":[{\"type\":\"contour\",\"colorbar\":{\"outlinewidth\":0,\"ticks\":\"\"},\"colorscale\":[[0.0,\"#0d0887\"],[0.1111111111111111,\"#46039f\"],[0.2222222222222222,\"#7201a8\"],[0.3333333333333333,\"#9c179e\"],[0.4444444444444444,\"#bd3786\"],[0.5555555555555556,\"#d8576b\"],[0.6666666666666666,\"#ed7953\"],[0.7777777777777778,\"#fb9f3a\"],[0.8888888888888888,\"#fdca26\"],[1.0,\"#f0f921\"]]}],\"surface\":[{\"type\":\"surface\",\"colorbar\":{\"outlinewidth\":0,\"ticks\":\"\"},\"colorscale\":[[0.0,\"#0d0887\"],[0.1111111111111111,\"#46039f\"],[0.2222222222222222,\"#7201a8\"],[0.3333333333333333,\"#9c179e\"],[0.4444444444444444,\"#bd3786\"],[0.5555555555555556,\"#d8576b\"],[0.6666666666666666,\"#ed7953\"],[0.7777777777777778,\"#fb9f3a\"],[0.8888888888888888,\"#fdca26\"],[1.0,\"#f0f921\"]]}],\"mesh3d\":[{\"type\":\"mesh3d\",\"colorbar\":{\"outlinewidth\":0,\"ticks\":\"\"}}],\"scatter\":[{\"marker\":{\"line\":{\"color\":\"#283442\"}},\"type\":\"scatter\"}],\"parcoords\":[{\"type\":\"parcoords\",\"line\":{\"colorbar\":{\"outlinewidth\":0,\"ticks\":\"\"}}}],\"scatterpolargl\":[{\"type\":\"scatterpolargl\",\"marker\":{\"colorbar\":{\"outlinewidth\":0,\"ticks\":\"\"}}}],\"bar\":[{\"error_x\":{\"color\":\"#f2f5fa\"},\"error_y\":{\"color\":\"#f2f5fa\"},\"marker\":{\"line\":{\"color\":\"rgb(17,17,17)\",\"width\":0.5},\"pattern\":{\"fillmode\":\"overlay\",\"size\":10,\"solidity\":0.2}},\"type\":\"bar\"}],\"scattergeo\":[{\"type\":\"scattergeo\",\"marker\":{\"colorbar\":{\"outlinewidth\":0,\"ticks\":\"\"}}}],\"scatterpolar\":[{\"type\":\"scatterpolar\",\"marker\":{\"colorbar\":{\"outlinewidth\":0,\"ticks\":\"\"}}}],\"histogram\":[{\"marker\":{\"pattern\":{\"fillmode\":\"overlay\",\"size\":10,\"solidity\":0.2}},\"type\":\"histogram\"}],\"scattergl\":[{\"marker\":{\"line\":{\"color\":\"#283442\"}},\"type\":\"scattergl\"}],\"scatter3d\":[{\"type\":\"scatter3d\",\"line\":{\"colorbar\":{\"outlinewidth\":0,\"ticks\":\"\"}},\"marker\":{\"colorbar\":{\"outlinewidth\":0,\"ticks\":\"\"}}}],\"scattermapbox\":[{\"type\":\"scattermapbox\",\"marker\":{\"colorbar\":{\"outlinewidth\":0,\"ticks\":\"\"}}}],\"scatterternary\":[{\"type\":\"scatterternary\",\"marker\":{\"colorbar\":{\"outlinewidth\":0,\"ticks\":\"\"}}}],\"scattercarpet\":[{\"type\":\"scattercarpet\",\"marker\":{\"colorbar\":{\"outlinewidth\":0,\"ticks\":\"\"}}}],\"carpet\":[{\"aaxis\":{\"endlinecolor\":\"#A2B1C6\",\"gridcolor\":\"#506784\",\"linecolor\":\"#506784\",\"minorgridcolor\":\"#506784\",\"startlinecolor\":\"#A2B1C6\"},\"baxis\":{\"endlinecolor\":\"#A2B1C6\",\"gridcolor\":\"#506784\",\"linecolor\":\"#506784\",\"minorgridcolor\":\"#506784\",\"startlinecolor\":\"#A2B1C6\"},\"type\":\"carpet\"}],\"table\":[{\"cells\":{\"fill\":{\"color\":\"#506784\"},\"line\":{\"color\":\"rgb(17,17,17)\"}},\"header\":{\"fill\":{\"color\":\"#2a3f5f\"},\"line\":{\"color\":\"rgb(17,17,17)\"}},\"type\":\"table\"}],\"barpolar\":[{\"marker\":{\"line\":{\"color\":\"rgb(17,17,17)\",\"width\":0.5},\"pattern\":{\"fillmode\":\"overlay\",\"size\":10,\"solidity\":0.2}},\"type\":\"barpolar\"}],\"pie\":[{\"automargin\":true,\"type\":\"pie\"}]},\"layout\":{\"autotypenumbers\":\"strict\",\"colorway\":[\"#636efa\",\"#EF553B\",\"#00cc96\",\"#ab63fa\",\"#FFA15A\",\"#19d3f3\",\"#FF6692\",\"#B6E880\",\"#FF97FF\",\"#FECB52\"],\"font\":{\"color\":\"#f2f5fa\"},\"hovermode\":\"closest\",\"hoverlabel\":{\"align\":\"left\"},\"paper_bgcolor\":\"rgb(17,17,17)\",\"plot_bgcolor\":\"rgb(17,17,17)\",\"polar\":{\"bgcolor\":\"rgb(17,17,17)\",\"angularaxis\":{\"gridcolor\":\"#506784\",\"linecolor\":\"#506784\",\"ticks\":\"\"},\"radialaxis\":{\"gridcolor\":\"#506784\",\"linecolor\":\"#506784\",\"ticks\":\"\"}},\"ternary\":{\"bgcolor\":\"rgb(17,17,17)\",\"aaxis\":{\"gridcolor\":\"#506784\",\"linecolor\":\"#506784\",\"ticks\":\"\"},\"baxis\":{\"gridcolor\":\"#506784\",\"linecolor\":\"#506784\",\"ticks\":\"\"},\"caxis\":{\"gridcolor\":\"#506784\",\"linecolor\":\"#506784\",\"ticks\":\"\"}},\"coloraxis\":{\"colorbar\":{\"outlinewidth\":0,\"ticks\":\"\"}},\"colorscale\":{\"sequential\":[[0.0,\"#0d0887\"],[0.1111111111111111,\"#46039f\"],[0.2222222222222222,\"#7201a8\"],[0.3333333333333333,\"#9c179e\"],[0.4444444444444444,\"#bd3786\"],[0.5555555555555556,\"#d8576b\"],[0.6666666666666666,\"#ed7953\"],[0.7777777777777778,\"#fb9f3a\"],[0.8888888888888888,\"#fdca26\"],[1.0,\"#f0f921\"]],\"sequentialminus\":[[0.0,\"#0d0887\"],[0.1111111111111111,\"#46039f\"],[0.2222222222222222,\"#7201a8\"],[0.3333333333333333,\"#9c179e\"],[0.4444444444444444,\"#bd3786\"],[0.5555555555555556,\"#d8576b\"],[0.6666666666666666,\"#ed7953\"],[0.7777777777777778,\"#fb9f3a\"],[0.8888888888888888,\"#fdca26\"],[1.0,\"#f0f921\"]],\"diverging\":[[0,\"#8e0152\"],[0.1,\"#c51b7d\"],[0.2,\"#de77ae\"],[0.3,\"#f1b6da\"],[0.4,\"#fde0ef\"],[0.5,\"#f7f7f7\"],[0.6,\"#e6f5d0\"],[0.7,\"#b8e186\"],[0.8,\"#7fbc41\"],[0.9,\"#4d9221\"],[1,\"#276419\"]]},\"xaxis\":{\"gridcolor\":\"#283442\",\"linecolor\":\"#506784\",\"ticks\":\"\",\"title\":{\"standoff\":15},\"zerolinecolor\":\"#283442\",\"automargin\":true,\"zerolinewidth\":2},\"yaxis\":{\"gridcolor\":\"#283442\",\"linecolor\":\"#506784\",\"ticks\":\"\",\"title\":{\"standoff\":15},\"zerolinecolor\":\"#283442\",\"automargin\":true,\"zerolinewidth\":2},\"scene\":{\"xaxis\":{\"backgroundcolor\":\"rgb(17,17,17)\",\"gridcolor\":\"#506784\",\"linecolor\":\"#506784\",\"showbackground\":true,\"ticks\":\"\",\"zerolinecolor\":\"#C8D4E3\",\"gridwidth\":2},\"yaxis\":{\"backgroundcolor\":\"rgb(17,17,17)\",\"gridcolor\":\"#506784\",\"linecolor\":\"#506784\",\"showbackground\":true,\"ticks\":\"\",\"zerolinecolor\":\"#C8D4E3\",\"gridwidth\":2},\"zaxis\":{\"backgroundcolor\":\"rgb(17,17,17)\",\"gridcolor\":\"#506784\",\"linecolor\":\"#506784\",\"showbackground\":true,\"ticks\":\"\",\"zerolinecolor\":\"#C8D4E3\",\"gridwidth\":2}},\"shapedefaults\":{\"line\":{\"color\":\"#f2f5fa\"}},\"annotationdefaults\":{\"arrowcolor\":\"#f2f5fa\",\"arrowhead\":0,\"arrowwidth\":1},\"geo\":{\"bgcolor\":\"rgb(17,17,17)\",\"landcolor\":\"rgb(17,17,17)\",\"subunitcolor\":\"#506784\",\"showland\":true,\"showlakes\":true,\"lakecolor\":\"rgb(17,17,17)\"},\"title\":{\"x\":0.05},\"updatemenudefaults\":{\"bgcolor\":\"#506784\",\"borderwidth\":0},\"sliderdefaults\":{\"bgcolor\":\"#C8D4E3\",\"borderwidth\":1,\"bordercolor\":\"rgb(17,17,17)\",\"tickwidth\":0},\"mapbox\":{\"style\":\"dark\"}}},\"shapes\":[{\"fillcolor\":\"#5B6C5D\",\"line\":{\"color\":\"#5B6C5D\",\"width\":2},\"name\":\"Predicted 2\",\"type\":\"rect\",\"x0\":0.7,\"x1\":0.95,\"y0\":-40.521296411072875,\"y1\":-42.576228031347206},{\"fillcolor\":\"#5CC878\",\"line\":{\"color\":\"#5CC878\",\"width\":2},\"name\":\"Predicted 3\",\"type\":\"rect\",\"x0\":0.7,\"x1\":0.95,\"y0\":-54.12461788049945,\"y1\":-66.51469221654554},{\"line\":{\"color\":\"#5CC878\",\"width\":3},\"name\":\"Cadotte 3\",\"type\":\"rect\",\"x0\":1.05,\"x1\":1.3,\"y0\":-50.69402257340456,\"y1\":-64.17109259906431},{\"fillcolor\":\"#FF707D\",\"line\":{\"color\":\"#FF707D\",\"width\":2},\"name\":\"Predicted 4\",\"type\":\"rect\",\"x0\":0.7,\"x1\":0.95,\"y0\":-71.60961920766789,\"y1\":-71.60961920766789},{\"line\":{\"color\":\"#FF707D\",\"width\":3},\"name\":\"Cadotte 4\",\"type\":\"rect\",\"x0\":1.05,\"x1\":1.3,\"y0\":-69.16408765114669,\"y1\":-78.09799769274876},{\"line\":{\"color\":\"#64DEDC\",\"width\":3},\"name\":\"Cadotte 5\",\"type\":\"rect\",\"x0\":1.05,\"x1\":1.3,\"y0\":-86.99699210729986,\"y1\":-97.84898620308532},{\"line\":{\"color\":\"#D682C6\",\"width\":3},\"name\":\"Cadotte 6\",\"type\":\"rect\",\"x0\":1.05,\"x1\":1.3,\"y0\":-102.14558550180092,\"y1\":-112.3183116641326},{\"fillcolor\":\"#E1E074\",\"line\":{\"color\":\"#E1E074\",\"width\":2},\"name\":\"Predicted 7\",\"type\":\"rect\",\"x0\":0.7,\"x1\":0.95,\"y0\":-121.30211019781063,\"y1\":-130.59170454860865},{\"line\":{\"color\":\"#E1E074\",\"width\":3},\"name\":\"Cadotte 7\",\"type\":\"rect\",\"x0\":1.05,\"x1\":1.3,\"y0\":-118.95851058032942,\"y1\":-129.02930480362116},{\"line\":{\"color\":\"#738282\",\"width\":3},\"name\":\"Cadotte 8\",\"type\":\"rect\",\"x0\":1.05,\"x1\":1.3,\"y0\":-135.66950371981798,\"y1\":-143.4986302646685},{\"line\":{\"color\":\"#C16200\",\"width\":3},\"name\":\"Cadotte 9\",\"type\":\"rect\",\"x0\":1.05,\"x1\":1.3,\"y0\":-148.4916253167509,\"y1\":-162.22321281935518}],\"xaxis\":{\"title\":{\"text\":\"Subject\"},\"range\":[0,10],\"ticktext\":[\"1\",\"2\",\"3\",\"4\",\"5\",\"6\",\"7\",\"8\",\"9\"],\"tickvals\":[1,2,3,4,5,6,7,8,9]},\"yaxis\":{\"title\":{\"text\":\"PMJ distance (PMJ = 0 mm)\"},\"range\":[-187.22321281935518,2],\"autorange\":\"reversed\",\"dtick\":10},\"title\":{\"text\":\"Nerve rootlet layout\"},\"showlegend\":true},                        {\"responsive\": true}                    ).then(function(){\n                            \nvar gd = document.getElementById('b72289ee-f3bc-4386-ba4a-2c3b0e854e8b');\nvar x = new MutationObserver(function (mutations, observer) {{\n        var display = window.getComputedStyle(gd).display;\n        if (!display || display === 'none') {{\n            console.log([gd, 'removed!']);\n            Plotly.purge(gd);\n            observer.disconnect();\n        }}\n}});\n\n// Listen for the removal of the full notebook cells\nvar notebookContainer = gd.closest('#notebook-container');\nif (notebookContainer) {{\n    x.observe(notebookContainer, {childList: true});\n}}\n\n// Listen for the clearing of the current output cell\nvar outputEl = gd.closest('.output');\nif (outputEl) {{\n    x.observe(outputEl, {childList: true});\n}}\n\n                        })                };                });            </script>        </div>"
     },
     "metadata": {},
     "output_type": "display_data"
    }
   ],
   "source": [
    "subject = 1\n",
    "colors = ['#5B6C5D', '#5CC878', '#FF707D', '#64DEDC', '#D682C6', '#E1E074','#738282', '#C16200', '#197278', '#EF9CDA']\n",
    "fig = go.Figure()\n",
    "print(f\"Level\\tstart(pred/true)\\tend(pred/true)\")\n",
    "for idx, level in enumerate(df_pmj[\"level\"].unique()):\n",
    "    df_level_pmj = df_pmj[df_pmj[\"level\"] == level]\n",
    "    df_level_cad = df_cad[df_cad[\"level\"] == level]\n",
    "    if not np.isnan(df_level_pmj[\"PMJ_start\"].values[0]):\n",
    "        pred_s = df_level_pmj[\"PMJ_start\"].values[0]\n",
    "        pred_e = df_level_pmj[\"PMJ_end\"].values[0]\n",
    "        fig.add_shape(\n",
    "            type=\"rect\",\n",
    "            x0=subject-0.3, y0=pred_s, x1=subject-0.05, y1=pred_e,\n",
    "            line=dict(color=colors[idx], width=2),\n",
    "            fillcolor=colors[idx],\n",
    "            name=f\"Predicted {level}\",\n",
    "        )\n",
    "    else:\n",
    "        pred_s = np.nan\n",
    "        pred_e = np.nan\n",
    "    try:\n",
    "        if not np.isnan(df_level_cad[\"PMJ_start\"].values[0]):\n",
    "            true_s = df_level_cad[\"PMJ_start\"].values[0]\n",
    "            true_e = df_level_cad[\"PMJ_end\"].values[0]\n",
    "            fig.add_shape(\n",
    "                type=\"rect\",\n",
    "                x0=subject+0.05, y0=true_s, x1=subject+0.3, y1=true_e,\n",
    "                line=dict(color=colors[idx], width=3),\n",
    "                name=f\"Cadotte {level}\"\n",
    "            )\n",
    "        else:\n",
    "            true_s = np.nan\n",
    "            true_e = np.nan\n",
    "    except:\n",
    "        true_s = np.nan\n",
    "        true_e = np.nan\n",
    "        pass\n",
    "    print(f\"{level}\\t{pred_s:.2f}/{true_s:.2f}\\t{pred_e:.2f}/{true_e:.2f}\")\n",
    "fig.update_layout(\n",
    "    title=\"Nerve rootlet layout\",\n",
    "    xaxis_title=\"Subject\",\n",
    "    yaxis_title=\"PMJ distance (PMJ = 0 mm)\",\n",
    "    xaxis_range=[0, 10],  # Adjust the x-axis range as needed\n",
    "    yaxis_range=[min(min(df_pmj[\"PMJ_end\"]), min(df_cad[\"PMJ_end\"]))-25, 2],  # Adjust the y-axis range as needed\n",
    "    yaxis_autorange='reversed',\n",
    "    showlegend=True,\n",
    "    xaxis=dict(ticktext=[str(x) for x in range(1,10)], tickvals=[*range(1,10)]),\n",
    "    yaxis=dict(dtick=10)\n",
    "\n",
    "\n",
    ")\n",
    "fig.show()"
   ]
  },
  {
   "cell_type": "code",
   "execution_count": 34,
   "outputs": [
    {
     "data": {
      "text/plain": "          sub_name  level   PMJ_start     PMJ_end  slice_s  slice_e\n0  sub-5-13755_009      9 -136.924703 -145.959067      134      114\n1  sub-5-13755_009      8 -122.710674 -132.220648      167      145\n2  sub-5-13755_009      7 -111.824036 -120.367074      193      173\n3  sub-5-13755_009      6  -98.628645 -106.831245      226      205\n4  sub-5-13755_009      5  -83.462261  -93.617861      264      238",
      "text/html": "<div>\n<style scoped>\n    .dataframe tbody tr th:only-of-type {\n        vertical-align: middle;\n    }\n\n    .dataframe tbody tr th {\n        vertical-align: top;\n    }\n\n    .dataframe thead th {\n        text-align: right;\n    }\n</style>\n<table border=\"1\" class=\"dataframe\">\n  <thead>\n    <tr style=\"text-align: right;\">\n      <th></th>\n      <th>sub_name</th>\n      <th>level</th>\n      <th>PMJ_start</th>\n      <th>PMJ_end</th>\n      <th>slice_s</th>\n      <th>slice_e</th>\n    </tr>\n  </thead>\n  <tbody>\n    <tr>\n      <th>0</th>\n      <td>sub-5-13755_009</td>\n      <td>9</td>\n      <td>-136.924703</td>\n      <td>-145.959067</td>\n      <td>134</td>\n      <td>114</td>\n    </tr>\n    <tr>\n      <th>1</th>\n      <td>sub-5-13755_009</td>\n      <td>8</td>\n      <td>-122.710674</td>\n      <td>-132.220648</td>\n      <td>167</td>\n      <td>145</td>\n    </tr>\n    <tr>\n      <th>2</th>\n      <td>sub-5-13755_009</td>\n      <td>7</td>\n      <td>-111.824036</td>\n      <td>-120.367074</td>\n      <td>193</td>\n      <td>173</td>\n    </tr>\n    <tr>\n      <th>3</th>\n      <td>sub-5-13755_009</td>\n      <td>6</td>\n      <td>-98.628645</td>\n      <td>-106.831245</td>\n      <td>226</td>\n      <td>205</td>\n    </tr>\n    <tr>\n      <th>4</th>\n      <td>sub-5-13755_009</td>\n      <td>5</td>\n      <td>-83.462261</td>\n      <td>-93.617861</td>\n      <td>264</td>\n      <td>238</td>\n    </tr>\n  </tbody>\n</table>\n</div>"
     },
     "metadata": {},
     "output_type": "display_data"
    },
    {
     "data": {
      "text/plain": "           sub_name  level   PMJ_start     PMJ_end  slice_s  slice_e\n0   sub-5-13755_009      1   -5.485255  -67.354024      454      303\n1   sub-5-13755_009      2  -69.799487  -85.805861      297      258\n2   sub-5-13755_009      3  -96.904453 -116.426227      230      182\n3   sub-5-13755_009      4 -126.922265 -132.220648      157      145\n4  sub-11-14411_013      1   -9.782092  -56.112973      450      336",
      "text/html": "<div>\n<style scoped>\n    .dataframe tbody tr th:only-of-type {\n        vertical-align: middle;\n    }\n\n    .dataframe tbody tr th {\n        vertical-align: top;\n    }\n\n    .dataframe thead th {\n        text-align: right;\n    }\n</style>\n<table border=\"1\" class=\"dataframe\">\n  <thead>\n    <tr style=\"text-align: right;\">\n      <th></th>\n      <th>sub_name</th>\n      <th>level</th>\n      <th>PMJ_start</th>\n      <th>PMJ_end</th>\n      <th>slice_s</th>\n      <th>slice_e</th>\n    </tr>\n  </thead>\n  <tbody>\n    <tr>\n      <th>0</th>\n      <td>sub-5-13755_009</td>\n      <td>1</td>\n      <td>-5.485255</td>\n      <td>-67.354024</td>\n      <td>454</td>\n      <td>303</td>\n    </tr>\n    <tr>\n      <th>1</th>\n      <td>sub-5-13755_009</td>\n      <td>2</td>\n      <td>-69.799487</td>\n      <td>-85.805861</td>\n      <td>297</td>\n      <td>258</td>\n    </tr>\n    <tr>\n      <th>2</th>\n      <td>sub-5-13755_009</td>\n      <td>3</td>\n      <td>-96.904453</td>\n      <td>-116.426227</td>\n      <td>230</td>\n      <td>182</td>\n    </tr>\n    <tr>\n      <th>3</th>\n      <td>sub-5-13755_009</td>\n      <td>4</td>\n      <td>-126.922265</td>\n      <td>-132.220648</td>\n      <td>157</td>\n      <td>145</td>\n    </tr>\n    <tr>\n      <th>4</th>\n      <td>sub-11-14411_013</td>\n      <td>1</td>\n      <td>-9.782092</td>\n      <td>-56.112973</td>\n      <td>450</td>\n      <td>336</td>\n    </tr>\n  </tbody>\n</table>\n</div>"
     },
     "metadata": {},
     "output_type": "display_data"
    }
   ],
   "source": [
    "df_root_pd = pd.read_csv(\"/Users/theomathieu/Documents/Stage/results_img/cadotte/root.csv\")\n",
    "df_ver_pd = pd.read_csv(\"/Users/theomathieu/Documents/Stage/results_img/cadotte/vertebrae.csv\")\n",
    "path_pred =  \"/Users/theomathieu/Documents/Stage/results_img/cadotte/csv_file_pred/\"\n",
    "display(df_root_pd.head())\n",
    "display(df_ver_pd.head())"
   ],
   "metadata": {
    "collapsed": false,
    "ExecuteTime": {
     "end_time": "2023-08-15T17:23:45.083432Z",
     "start_time": "2023-08-15T17:23:45.066898Z"
    }
   }
  },
  {
   "cell_type": "code",
   "execution_count": 38,
   "outputs": [
    {
     "data": {
      "application/vnd.plotly.v1+json": {
       "data": [],
       "layout": {
        "template": {
         "data": {
          "histogram2dcontour": [
           {
            "type": "histogram2dcontour",
            "colorbar": {
             "outlinewidth": 0,
             "ticks": ""
            },
            "colorscale": [
             [
              0.0,
              "#0d0887"
             ],
             [
              0.1111111111111111,
              "#46039f"
             ],
             [
              0.2222222222222222,
              "#7201a8"
             ],
             [
              0.3333333333333333,
              "#9c179e"
             ],
             [
              0.4444444444444444,
              "#bd3786"
             ],
             [
              0.5555555555555556,
              "#d8576b"
             ],
             [
              0.6666666666666666,
              "#ed7953"
             ],
             [
              0.7777777777777778,
              "#fb9f3a"
             ],
             [
              0.8888888888888888,
              "#fdca26"
             ],
             [
              1.0,
              "#f0f921"
             ]
            ]
           }
          ],
          "choropleth": [
           {
            "type": "choropleth",
            "colorbar": {
             "outlinewidth": 0,
             "ticks": ""
            }
           }
          ],
          "histogram2d": [
           {
            "type": "histogram2d",
            "colorbar": {
             "outlinewidth": 0,
             "ticks": ""
            },
            "colorscale": [
             [
              0.0,
              "#0d0887"
             ],
             [
              0.1111111111111111,
              "#46039f"
             ],
             [
              0.2222222222222222,
              "#7201a8"
             ],
             [
              0.3333333333333333,
              "#9c179e"
             ],
             [
              0.4444444444444444,
              "#bd3786"
             ],
             [
              0.5555555555555556,
              "#d8576b"
             ],
             [
              0.6666666666666666,
              "#ed7953"
             ],
             [
              0.7777777777777778,
              "#fb9f3a"
             ],
             [
              0.8888888888888888,
              "#fdca26"
             ],
             [
              1.0,
              "#f0f921"
             ]
            ]
           }
          ],
          "heatmap": [
           {
            "type": "heatmap",
            "colorbar": {
             "outlinewidth": 0,
             "ticks": ""
            },
            "colorscale": [
             [
              0.0,
              "#0d0887"
             ],
             [
              0.1111111111111111,
              "#46039f"
             ],
             [
              0.2222222222222222,
              "#7201a8"
             ],
             [
              0.3333333333333333,
              "#9c179e"
             ],
             [
              0.4444444444444444,
              "#bd3786"
             ],
             [
              0.5555555555555556,
              "#d8576b"
             ],
             [
              0.6666666666666666,
              "#ed7953"
             ],
             [
              0.7777777777777778,
              "#fb9f3a"
             ],
             [
              0.8888888888888888,
              "#fdca26"
             ],
             [
              1.0,
              "#f0f921"
             ]
            ]
           }
          ],
          "heatmapgl": [
           {
            "type": "heatmapgl",
            "colorbar": {
             "outlinewidth": 0,
             "ticks": ""
            },
            "colorscale": [
             [
              0.0,
              "#0d0887"
             ],
             [
              0.1111111111111111,
              "#46039f"
             ],
             [
              0.2222222222222222,
              "#7201a8"
             ],
             [
              0.3333333333333333,
              "#9c179e"
             ],
             [
              0.4444444444444444,
              "#bd3786"
             ],
             [
              0.5555555555555556,
              "#d8576b"
             ],
             [
              0.6666666666666666,
              "#ed7953"
             ],
             [
              0.7777777777777778,
              "#fb9f3a"
             ],
             [
              0.8888888888888888,
              "#fdca26"
             ],
             [
              1.0,
              "#f0f921"
             ]
            ]
           }
          ],
          "contourcarpet": [
           {
            "type": "contourcarpet",
            "colorbar": {
             "outlinewidth": 0,
             "ticks": ""
            }
           }
          ],
          "contour": [
           {
            "type": "contour",
            "colorbar": {
             "outlinewidth": 0,
             "ticks": ""
            },
            "colorscale": [
             [
              0.0,
              "#0d0887"
             ],
             [
              0.1111111111111111,
              "#46039f"
             ],
             [
              0.2222222222222222,
              "#7201a8"
             ],
             [
              0.3333333333333333,
              "#9c179e"
             ],
             [
              0.4444444444444444,
              "#bd3786"
             ],
             [
              0.5555555555555556,
              "#d8576b"
             ],
             [
              0.6666666666666666,
              "#ed7953"
             ],
             [
              0.7777777777777778,
              "#fb9f3a"
             ],
             [
              0.8888888888888888,
              "#fdca26"
             ],
             [
              1.0,
              "#f0f921"
             ]
            ]
           }
          ],
          "surface": [
           {
            "type": "surface",
            "colorbar": {
             "outlinewidth": 0,
             "ticks": ""
            },
            "colorscale": [
             [
              0.0,
              "#0d0887"
             ],
             [
              0.1111111111111111,
              "#46039f"
             ],
             [
              0.2222222222222222,
              "#7201a8"
             ],
             [
              0.3333333333333333,
              "#9c179e"
             ],
             [
              0.4444444444444444,
              "#bd3786"
             ],
             [
              0.5555555555555556,
              "#d8576b"
             ],
             [
              0.6666666666666666,
              "#ed7953"
             ],
             [
              0.7777777777777778,
              "#fb9f3a"
             ],
             [
              0.8888888888888888,
              "#fdca26"
             ],
             [
              1.0,
              "#f0f921"
             ]
            ]
           }
          ],
          "mesh3d": [
           {
            "type": "mesh3d",
            "colorbar": {
             "outlinewidth": 0,
             "ticks": ""
            }
           }
          ],
          "scatter": [
           {
            "fillpattern": {
             "fillmode": "overlay",
             "size": 10,
             "solidity": 0.2
            },
            "type": "scatter"
           }
          ],
          "parcoords": [
           {
            "type": "parcoords",
            "line": {
             "colorbar": {
              "outlinewidth": 0,
              "ticks": ""
             }
            }
           }
          ],
          "scatterpolargl": [
           {
            "type": "scatterpolargl",
            "marker": {
             "colorbar": {
              "outlinewidth": 0,
              "ticks": ""
             }
            }
           }
          ],
          "bar": [
           {
            "error_x": {
             "color": "#2a3f5f"
            },
            "error_y": {
             "color": "#2a3f5f"
            },
            "marker": {
             "line": {
              "color": "#E5ECF6",
              "width": 0.5
             },
             "pattern": {
              "fillmode": "overlay",
              "size": 10,
              "solidity": 0.2
             }
            },
            "type": "bar"
           }
          ],
          "scattergeo": [
           {
            "type": "scattergeo",
            "marker": {
             "colorbar": {
              "outlinewidth": 0,
              "ticks": ""
             }
            }
           }
          ],
          "scatterpolar": [
           {
            "type": "scatterpolar",
            "marker": {
             "colorbar": {
              "outlinewidth": 0,
              "ticks": ""
             }
            }
           }
          ],
          "histogram": [
           {
            "marker": {
             "pattern": {
              "fillmode": "overlay",
              "size": 10,
              "solidity": 0.2
             }
            },
            "type": "histogram"
           }
          ],
          "scattergl": [
           {
            "type": "scattergl",
            "marker": {
             "colorbar": {
              "outlinewidth": 0,
              "ticks": ""
             }
            }
           }
          ],
          "scatter3d": [
           {
            "type": "scatter3d",
            "line": {
             "colorbar": {
              "outlinewidth": 0,
              "ticks": ""
             }
            },
            "marker": {
             "colorbar": {
              "outlinewidth": 0,
              "ticks": ""
             }
            }
           }
          ],
          "scattermapbox": [
           {
            "type": "scattermapbox",
            "marker": {
             "colorbar": {
              "outlinewidth": 0,
              "ticks": ""
             }
            }
           }
          ],
          "scatterternary": [
           {
            "type": "scatterternary",
            "marker": {
             "colorbar": {
              "outlinewidth": 0,
              "ticks": ""
             }
            }
           }
          ],
          "scattercarpet": [
           {
            "type": "scattercarpet",
            "marker": {
             "colorbar": {
              "outlinewidth": 0,
              "ticks": ""
             }
            }
           }
          ],
          "carpet": [
           {
            "aaxis": {
             "endlinecolor": "#2a3f5f",
             "gridcolor": "white",
             "linecolor": "white",
             "minorgridcolor": "white",
             "startlinecolor": "#2a3f5f"
            },
            "baxis": {
             "endlinecolor": "#2a3f5f",
             "gridcolor": "white",
             "linecolor": "white",
             "minorgridcolor": "white",
             "startlinecolor": "#2a3f5f"
            },
            "type": "carpet"
           }
          ],
          "table": [
           {
            "cells": {
             "fill": {
              "color": "#EBF0F8"
             },
             "line": {
              "color": "white"
             }
            },
            "header": {
             "fill": {
              "color": "#C8D4E3"
             },
             "line": {
              "color": "white"
             }
            },
            "type": "table"
           }
          ],
          "barpolar": [
           {
            "marker": {
             "line": {
              "color": "#E5ECF6",
              "width": 0.5
             },
             "pattern": {
              "fillmode": "overlay",
              "size": 10,
              "solidity": 0.2
             }
            },
            "type": "barpolar"
           }
          ],
          "pie": [
           {
            "automargin": true,
            "type": "pie"
           }
          ]
         },
         "layout": {
          "autotypenumbers": "strict",
          "colorway": [
           "#636efa",
           "#EF553B",
           "#00cc96",
           "#ab63fa",
           "#FFA15A",
           "#19d3f3",
           "#FF6692",
           "#B6E880",
           "#FF97FF",
           "#FECB52"
          ],
          "font": {
           "color": "#2a3f5f"
          },
          "hovermode": "closest",
          "hoverlabel": {
           "align": "left"
          },
          "paper_bgcolor": "white",
          "plot_bgcolor": "#E5ECF6",
          "polar": {
           "bgcolor": "#E5ECF6",
           "angularaxis": {
            "gridcolor": "white",
            "linecolor": "white",
            "ticks": ""
           },
           "radialaxis": {
            "gridcolor": "white",
            "linecolor": "white",
            "ticks": ""
           }
          },
          "ternary": {
           "bgcolor": "#E5ECF6",
           "aaxis": {
            "gridcolor": "white",
            "linecolor": "white",
            "ticks": ""
           },
           "baxis": {
            "gridcolor": "white",
            "linecolor": "white",
            "ticks": ""
           },
           "caxis": {
            "gridcolor": "white",
            "linecolor": "white",
            "ticks": ""
           }
          },
          "coloraxis": {
           "colorbar": {
            "outlinewidth": 0,
            "ticks": ""
           }
          },
          "colorscale": {
           "sequential": [
            [
             0.0,
             "#0d0887"
            ],
            [
             0.1111111111111111,
             "#46039f"
            ],
            [
             0.2222222222222222,
             "#7201a8"
            ],
            [
             0.3333333333333333,
             "#9c179e"
            ],
            [
             0.4444444444444444,
             "#bd3786"
            ],
            [
             0.5555555555555556,
             "#d8576b"
            ],
            [
             0.6666666666666666,
             "#ed7953"
            ],
            [
             0.7777777777777778,
             "#fb9f3a"
            ],
            [
             0.8888888888888888,
             "#fdca26"
            ],
            [
             1.0,
             "#f0f921"
            ]
           ],
           "sequentialminus": [
            [
             0.0,
             "#0d0887"
            ],
            [
             0.1111111111111111,
             "#46039f"
            ],
            [
             0.2222222222222222,
             "#7201a8"
            ],
            [
             0.3333333333333333,
             "#9c179e"
            ],
            [
             0.4444444444444444,
             "#bd3786"
            ],
            [
             0.5555555555555556,
             "#d8576b"
            ],
            [
             0.6666666666666666,
             "#ed7953"
            ],
            [
             0.7777777777777778,
             "#fb9f3a"
            ],
            [
             0.8888888888888888,
             "#fdca26"
            ],
            [
             1.0,
             "#f0f921"
            ]
           ],
           "diverging": [
            [
             0,
             "#8e0152"
            ],
            [
             0.1,
             "#c51b7d"
            ],
            [
             0.2,
             "#de77ae"
            ],
            [
             0.3,
             "#f1b6da"
            ],
            [
             0.4,
             "#fde0ef"
            ],
            [
             0.5,
             "#f7f7f7"
            ],
            [
             0.6,
             "#e6f5d0"
            ],
            [
             0.7,
             "#b8e186"
            ],
            [
             0.8,
             "#7fbc41"
            ],
            [
             0.9,
             "#4d9221"
            ],
            [
             1,
             "#276419"
            ]
           ]
          },
          "xaxis": {
           "gridcolor": "white",
           "linecolor": "white",
           "ticks": "",
           "title": {
            "standoff": 15
           },
           "zerolinecolor": "white",
           "automargin": true,
           "zerolinewidth": 2
          },
          "yaxis": {
           "gridcolor": "white",
           "linecolor": "white",
           "ticks": "",
           "title": {
            "standoff": 15
           },
           "zerolinecolor": "white",
           "automargin": true,
           "zerolinewidth": 2
          },
          "scene": {
           "xaxis": {
            "backgroundcolor": "#E5ECF6",
            "gridcolor": "white",
            "linecolor": "white",
            "showbackground": true,
            "ticks": "",
            "zerolinecolor": "white",
            "gridwidth": 2
           },
           "yaxis": {
            "backgroundcolor": "#E5ECF6",
            "gridcolor": "white",
            "linecolor": "white",
            "showbackground": true,
            "ticks": "",
            "zerolinecolor": "white",
            "gridwidth": 2
           },
           "zaxis": {
            "backgroundcolor": "#E5ECF6",
            "gridcolor": "white",
            "linecolor": "white",
            "showbackground": true,
            "ticks": "",
            "zerolinecolor": "white",
            "gridwidth": 2
           }
          },
          "shapedefaults": {
           "line": {
            "color": "#2a3f5f"
           }
          },
          "annotationdefaults": {
           "arrowcolor": "#2a3f5f",
           "arrowhead": 0,
           "arrowwidth": 1
          },
          "geo": {
           "bgcolor": "white",
           "landcolor": "#E5ECF6",
           "subunitcolor": "white",
           "showland": true,
           "showlakes": true,
           "lakecolor": "white"
          },
          "title": {
           "x": 0.05
          },
          "mapbox": {
           "style": "light"
          }
         }
        },
        "shapes": [
         {
          "line": {
           "color": "#C16200",
           "width": 2
          },
          "name": "Predicted 9",
          "type": "rect",
          "x0": 4.825,
          "x1": 4.575,
          "y0": -145.9590672204873,
          "y1": -136.92470256317378
         },
         {
          "line": {
           "color": "#738282",
           "width": 2
          },
          "name": "Predicted 8",
          "type": "rect",
          "x0": 4.825,
          "x1": 4.575,
          "y0": -132.22064769537937,
          "y1": -122.7106742314336
         },
         {
          "line": {
           "color": "#E1E074",
           "width": 2
          },
          "name": "Predicted 7",
          "type": "rect",
          "x0": 4.825,
          "x1": 4.575,
          "y0": -120.36707425632451,
          "y1": -111.8240357943773
         },
         {
          "line": {
           "color": "#D682C6",
           "width": 2
          },
          "name": "Predicted 6",
          "type": "rect",
          "x0": 4.825,
          "x1": 4.575,
          "y0": -106.8312446590883,
          "y1": -98.62864474620643
         },
         {
          "line": {
           "color": "#64DEDC",
           "width": 2
          },
          "name": "Predicted 5",
          "type": "rect",
          "x0": 4.825,
          "x1": 4.575,
          "y0": -93.61786116449908,
          "y1": -83.46226127235965
         },
         {
          "line": {
           "color": "#FF707D",
           "width": 2
          },
          "name": "Predicted 4",
          "type": "rect",
          "x0": 4.825,
          "x1": 4.575,
          "y0": -75.57347835036546,
          "y1": -66.08035980399592
         },
         {
          "line": {
           "color": "#5CC878",
           "width": 2
          },
          "name": "Predicted 3",
          "type": "rect",
          "x0": 4.825,
          "x1": 4.575,
          "y0": -61.189432397063854,
          "y1": -51.11884131570512
         },
         {
          "fillcolor": "#F4F4CC",
          "line": {
           "color": "grey",
           "width": 1
          },
          "name": "Cadotte 2",
          "type": "rect",
          "x0": 5.125,
          "x1": 4.875,
          "y0": -69.79948722337343,
          "y1": -85.80586124746875
         },
         {
          "fillcolor": "#F4F4CC",
          "line": {
           "color": "grey",
           "width": 1
          },
          "name": "Cadotte 3",
          "type": "rect",
          "x0": 5.125,
          "x1": 4.875,
          "y0": -96.9044529470558,
          "y1": -116.42622693381476
         },
         {
          "fillcolor": "#F4F4CC",
          "line": {
           "color": "grey",
           "width": 1
          },
          "name": "Cadotte 4",
          "type": "rect",
          "x0": 5.125,
          "x1": 4.875,
          "y0": -126.92226537501958,
          "y1": -132.22064769537937
         },
         {
          "fillcolor": "#5CC878",
          "line": {
           "color": "#5CC878",
           "width": 2
          },
          "name": "Predicted 3",
          "type": "rect",
          "x0": 5.175,
          "x1": 5.425,
          "y0": -63.24429610467838,
          "y1": -56.213496179351075
         },
         {
          "fillcolor": "#E1E074",
          "line": {
           "color": "#E1E074",
           "width": 2
          },
          "name": "Predicted 7",
          "type": "rect",
          "x0": 5.175,
          "x1": 5.425,
          "y0": -122.81253795979056,
          "y1": -114.66009949369484
         },
         {
          "fillcolor": "#738282",
          "line": {
           "color": "#738282",
           "width": 2
          },
          "name": "Predicted 8",
          "type": "rect",
          "x0": 5.175,
          "x1": 5.425,
          "y0": -133.49431141129085,
          "y1": -127.80532909507954
         },
         {
          "line": {
           "color": "#C16200",
           "width": 2
          },
          "name": "Predicted 9",
          "type": "rect",
          "x0": 10.825,
          "x1": 10.575,
          "y0": -141.9628239151473,
          "y1": -131.95979178130133
         },
         {
          "line": {
           "color": "#738282",
           "width": 2
          },
          "name": "Predicted 8",
          "type": "rect",
          "x0": 10.825,
          "x1": 10.575,
          "y0": -127.61193782890348,
          "y1": -120.09648345699983
         },
         {
          "line": {
           "color": "#E1E074",
           "width": 2
          },
          "name": "Predicted 7",
          "type": "rect",
          "x0": 10.825,
          "x1": 10.575,
          "y0": -115.47630001292434,
          "y1": -107.11190881712407
         },
         {
          "line": {
           "color": "#D682C6",
           "width": 2
          },
          "name": "Predicted 6",
          "type": "rect",
          "x0": 10.825,
          "x1": 10.575,
          "y0": -103.20590915663212,
          "y1": -92.74454016493873
         },
         {
          "line": {
           "color": "#64DEDC",
           "width": 2
          },
          "name": "Predicted 5",
          "type": "rect",
          "x0": 10.825,
          "x1": 10.575,
          "y0": -88.0573405723484,
          "y1": -78.29234142111854
         },
         {
          "line": {
           "color": "#FF707D",
           "width": 2
          },
          "name": "Predicted 4",
          "type": "rect",
          "x0": 10.825,
          "x1": 10.575,
          "y0": -72.04274196433143,
          "y1": -61.292696298060285
         },
         {
          "line": {
           "color": "#5CC878",
           "width": 2
          },
          "name": "Predicted 3",
          "type": "rect",
          "x0": 10.825,
          "x1": 10.575,
          "y0": -55.72237348190012,
          "y1": -46.26181282790614
         },
         {
          "fillcolor": "#F4F4CC",
          "line": {
           "color": "grey",
           "width": 1
          },
          "name": "Cadotte 2",
          "type": "rect",
          "x0": 11.125,
          "x1": 10.875,
          "y0": -58.16789656966673,
          "y1": -74.38634176062659
         },
         {
          "fillcolor": "#F4F4CC",
          "line": {
           "color": "grey",
           "width": 1
          },
          "name": "Cadotte 3",
          "type": "rect",
          "x0": 11.125,
          "x1": 10.875,
          "y0": -75.55814165877418,
          "y1": -93.91634006308632
         },
         {
          "fillcolor": "#F4F4CC",
          "line": {
           "color": "grey",
           "width": 1
          },
          "name": "Cadotte 4",
          "type": "rect",
          "x0": 11.125,
          "x1": 10.875,
          "y0": -105.5495089529273,
          "y1": -126.6268913138622
         },
         {
          "fillcolor": "#5CC878",
          "line": {
           "color": "#5CC878",
           "width": 2
          },
          "name": "Predicted 3",
          "type": "rect",
          "x0": 11.175,
          "x1": 11.425,
          "y0": -59.83221972533496,
          "y1": -48.70733591567276
         },
         {
          "fillcolor": "#E1E074",
          "line": {
           "color": "#E1E074",
           "width": 2
          },
          "name": "Predicted 7",
          "type": "rect",
          "x0": 11.175,
          "x1": 11.425,
          "y0": -115.4164313956286,
          "y1": -110.33863183698908
         },
         {
          "fillcolor": "#738282",
          "line": {
           "color": "#738282",
           "width": 2
          },
          "name": "Predicted 8",
          "type": "rect",
          "x0": 11.175,
          "x1": 11.425,
          "y0": -130.8899151746252,
          "y1": -122.84777641918082
         },
         {
          "fillcolor": "#C16200",
          "line": {
           "color": "#C16200",
           "width": 2
          },
          "name": "Predicted 9",
          "type": "rect",
          "x0": 11.175,
          "x1": 11.425,
          "y0": -145.10471684337747,
          "y1": -135.8828846416299
         },
         {
          "line": {
           "color": "#C16200",
           "width": 2
          },
          "name": "Predicted 9",
          "type": "rect",
          "x0": 7.825,
          "x1": 7.575,
          "y0": -154.75549192536542,
          "y1": -146.61990544175583
         },
         {
          "line": {
           "color": "#738282",
           "width": 2
          },
          "name": "Predicted 8",
          "type": "rect",
          "x0": 7.825,
          "x1": 7.575,
          "y0": -136.59123847032382,
          "y1": -128.3886354281981
         },
         {
          "line": {
           "color": "#E1E074",
           "width": 2
          },
          "name": "Predicted 7",
          "type": "rect",
          "x0": 7.825,
          "x1": 7.575,
          "y0": -120.1691463042144,
          "y1": -111.37220000386502
         },
         {
          "line": {
           "color": "#D682C6",
           "width": 2
          },
          "name": "Predicted 6",
          "type": "rect",
          "x0": 7.825,
          "x1": 7.575,
          "y0": -102.2696390334748,
          "y1": -95.03509331257791
         },
         {
          "line": {
           "color": "#64DEDC",
           "width": 2
          },
          "name": "Predicted 5",
          "type": "rect",
          "x0": 7.825,
          "x1": 7.575,
          "y0": -88.87047646959014,
          "y1": -78.39237195124997
         },
         {
          "line": {
           "color": "#FF707D",
           "width": 2
          },
          "name": "Predicted 4",
          "type": "rect",
          "x0": 7.825,
          "x1": 7.575,
          "y0": -71.34468326185566,
          "y1": -64.0932514591008
         },
         {
          "line": {
           "color": "#5CC878",
           "width": 2
          },
          "name": "Predicted 3",
          "type": "rect",
          "x0": 7.825,
          "x1": 7.575,
          "y0": -57.72489150275247,
          "y1": -46.82241467583319
         },
         {
          "fillcolor": "#F4F4CC",
          "line": {
           "color": "grey",
           "width": 1
          },
          "name": "Cadotte 2",
          "type": "rect",
          "x0": 8.125,
          "x1": 7.875,
          "y0": -64.0932514591008,
          "y1": -79.76791549919992
         },
         {
          "fillcolor": "#F4F4CC",
          "line": {
           "color": "grey",
           "width": 1
          },
          "name": "Cadotte 3",
          "type": "rect",
          "x0": 8.125,
          "x1": 7.875,
          "y0": -83.38518835964835,
          "y1": -97.37869418175669
         },
         {
          "fillcolor": "#F4F4CC",
          "line": {
           "color": "grey",
           "width": 1
          },
          "name": "Cadotte 4",
          "type": "rect",
          "x0": 8.125,
          "x1": 7.875,
          "y0": -100.89409548552484,
          "y1": -116.05940174222256
         },
         {
          "fillcolor": "#F4F4CC",
          "line": {
           "color": "grey",
           "width": 1
          },
          "name": "Cadotte 5",
          "type": "rect",
          "x0": 8.125,
          "x1": 7.875,
          "y0": -119.676674602671,
          "y1": -135.81003818059756
         },
         {
          "fillcolor": "#F4F4CC",
          "line": {
           "color": "grey",
           "width": 1
          },
          "name": "Cadotte 6",
          "type": "rect",
          "x0": 8.125,
          "x1": 7.875,
          "y0": -136.98183861518694,
          "y1": -153.97429163563916
         },
         {
          "fillcolor": "#5CC878",
          "line": {
           "color": "#5CC878",
           "width": 2
          },
          "name": "Predicted 3",
          "type": "rect",
          "x0": 8.175,
          "x1": 8.425,
          "y0": -61.44403591988119,
          "y1": -49.86223035991593
         },
         {
          "fillcolor": "#D682C6",
          "line": {
           "color": "#D682C6",
           "width": 2
          },
          "name": "Predicted 6",
          "type": "rect",
          "x0": 8.175,
          "x1": 8.425,
          "y0": -105.10571160419696,
          "y1": -105.10571160419696
         },
         {
          "fillcolor": "#E1E074",
          "line": {
           "color": "#E1E074",
           "width": 2
          },
          "name": "Predicted 7",
          "type": "rect",
          "x0": 8.175,
          "x1": 8.425,
          "y0": -124.17701930952596,
          "y1": -118.79360275626446
         },
         {
          "line": {
           "color": "#C16200",
           "width": 2
          },
          "name": "Predicted 9",
          "type": "rect",
          "x0": 6.825,
          "x1": 6.575,
          "y0": -143.90977935928592,
          "y1": -132.513150737898
         },
         {
          "line": {
           "color": "#738282",
           "width": 2
          },
          "name": "Predicted 8",
          "type": "rect",
          "x0": 6.825,
          "x1": 6.575,
          "y0": -129.84596810666784,
          "y1": -122.11875466558976
         },
         {
          "line": {
           "color": "#E1E074",
           "width": 2
          },
          "name": "Predicted 7",
          "type": "rect",
          "x0": 6.825,
          "x1": 6.575,
          "y0": -118.21275619719071,
          "y1": -110.01015941355271
         },
         {
          "line": {
           "color": "#D682C6",
           "width": 2
          },
          "name": "Predicted 6",
          "type": "rect",
          "x0": 6.825,
          "x1": 6.575,
          "y0": -105.32296125147386,
          "y1": -95.63275659347008
         },
         {
          "line": {
           "color": "#64DEDC",
           "width": 2
          },
          "name": "Predicted 5",
          "type": "rect",
          "x0": 6.825,
          "x1": 6.575,
          "y0": -90.9284031434046,
          "y1": -83.98238939600634
         },
         {
          "line": {
           "color": "#FF707D",
           "width": 2
          },
          "name": "Predicted 4",
          "type": "rect",
          "x0": 6.825,
          "x1": 6.575,
          "y0": -78.2929586848478,
          "y1": -66.40457176229388
         },
         {
          "line": {
           "color": "#5CC878",
           "width": 2
          },
          "name": "Predicted 3",
          "type": "rect",
          "x0": 6.825,
          "x1": 6.575,
          "y0": -61.58051232945094,
          "y1": -49.11463486233428
         },
         {
          "fillcolor": "#F4F4CC",
          "line": {
           "color": "grey",
           "width": 1
          },
          "name": "Cadotte 2",
          "type": "rect",
          "x0": 7.125,
          "x1": 6.875,
          "y0": -58.931096897291646,
          "y1": -72.67132459971897
         },
         {
          "fillcolor": "#F4F4CC",
          "line": {
           "color": "grey",
           "width": 1
          },
          "name": "Cadotte 3",
          "type": "rect",
          "x0": 7.125,
          "x1": 6.875,
          "y0": -77.01922036062146,
          "y1": -90.5378032965647
         },
         {
          "fillcolor": "#F4F4CC",
          "line": {
           "color": "grey",
           "width": 1
          },
          "name": "Cadotte 4",
          "type": "rect",
          "x0": 7.125,
          "x1": 6.875,
          "y0": -93.57781857556392,
          "y1": -106.49476079199356
         },
         {
          "fillcolor": "#F4F4CC",
          "line": {
           "color": "grey",
           "width": 1
          },
          "name": "Cadotte 5",
          "type": "rect",
          "x0": 7.125,
          "x1": 6.875,
          "y0": -109.2289597198729,
          "y1": -121.33755497190997
         },
         {
          "fillcolor": "#F4F4CC",
          "line": {
           "color": "grey",
           "width": 1
          },
          "name": "Cadotte 6",
          "type": "rect",
          "x0": 7.125,
          "x1": 6.875,
          "y0": -124.07175389978929,
          "y1": -137.89676509793665
         },
         {
          "fillcolor": "#5CC878",
          "line": {
           "color": "#5CC878",
           "width": 2
          },
          "name": "Predicted 3",
          "type": "rect",
          "x0": 7.175,
          "x1": 7.425,
          "y0": -59.81423537467807,
          "y1": -52.25658892504009
         },
         {
          "line": {
           "color": "#C16200",
           "width": 2
          },
          "name": "Predicted 9",
          "type": "rect",
          "x0": 3.825,
          "x1": 3.575,
          "y0": -160.1796028981018,
          "y1": -151.80807428854723
         },
         {
          "line": {
           "color": "#738282",
           "width": 2
          },
          "name": "Predicted 8",
          "type": "rect",
          "x0": 3.825,
          "x1": 3.575,
          "y0": -144.20025846199007,
          "y1": -131.75236987521964
         },
         {
          "line": {
           "color": "#E1E074",
           "width": 2
          },
          "name": "Predicted 7",
          "type": "rect",
          "x0": 3.825,
          "x1": 3.575,
          "y0": -123.1256277651727,
          "y1": -116.0670695138438
         },
         {
          "line": {
           "color": "#D682C6",
           "width": 2
          },
          "name": "Predicted 6",
          "type": "rect",
          "x0": 3.825,
          "x1": 3.575,
          "y0": -111.7704702151282,
          "y1": -103.08377917394414
         },
         {
          "line": {
           "color": "#64DEDC",
           "width": 2
          },
          "name": "Predicted 5",
          "type": "rect",
          "x0": 3.825,
          "x1": 3.575,
          "y0": -98.46359616667696,
          "y1": -87.35658482056668
         },
         {
          "line": {
           "color": "#FF707D",
           "width": 2
          },
          "name": "Predicted 4",
          "type": "rect",
          "x0": 3.825,
          "x1": 3.575,
          "y0": -80.3506899227311,
          "y1": -68.20833010537672
         },
         {
          "line": {
           "color": "#5CC878",
           "width": 2
          },
          "name": "Predicted 3",
          "type": "rect",
          "x0": 3.825,
          "x1": 3.575,
          "y0": -61.63643059970281,
          "y1": -50.81945944952833
         },
         {
          "fillcolor": "#F4F4CC",
          "line": {
           "color": "grey",
           "width": 1
          },
          "name": "Cadotte 2",
          "type": "rect",
          "x0": 4.125,
          "x1": 3.875,
          "y0": -68.20833010537672,
          "y1": -86.86414196118112
         },
         {
          "fillcolor": "#F4F4CC",
          "line": {
           "color": "grey",
           "width": 1
          },
          "name": "Cadotte 3",
          "type": "rect",
          "x0": 4.125,
          "x1": 3.875,
          "y0": -89.63316821035262,
          "y1": -103.08377917394414
         },
         {
          "fillcolor": "#F4F4CC",
          "line": {
           "color": "grey",
           "width": 1
          },
          "name": "Cadotte 4",
          "type": "rect",
          "x0": 4.125,
          "x1": 3.875,
          "y0": -105.0116566194848,
          "y1": -121.79203610215627
         },
         {
          "fillcolor": "#F4F4CC",
          "line": {
           "color": "grey",
           "width": 1
          },
          "name": "Cadotte 5",
          "type": "rect",
          "x0": 4.125,
          "x1": 3.875,
          "y0": -123.51622770141957,
          "y1": -138.30771590567122
         },
         {
          "fillcolor": "#F4F4CC",
          "line": {
           "color": "grey",
           "width": 1
          },
          "name": "Cadotte 6",
          "type": "rect",
          "x0": 4.125,
          "x1": 3.875,
          "y0": -140.07380149693608,
          "y1": -157.71738860117398
         },
         {
          "fillcolor": "#5CC878",
          "line": {
           "color": "#5CC878",
           "width": 2
          },
          "name": "Predicted 3",
          "type": "rect",
          "x0": 4.175,
          "x1": 4.425,
          "y0": -63.69127320407586,
          "y1": -52.87430205390138
         },
         {
          "fillcolor": "#E1E074",
          "line": {
           "color": "#E1E074",
           "width": 2
          },
          "name": "Predicted 7",
          "type": "rect",
          "x0": 4.175,
          "x1": 4.425,
          "y0": -127.42222706388829,
          "y1": -127.0316271276414
         },
         {
          "line": {
           "color": "#C16200",
           "width": 2
          },
          "name": "Predicted 9",
          "type": "rect",
          "x0": 2.825,
          "x1": 2.575,
          "y0": -143.50078158723773,
          "y1": -131.54515115489863
         },
         {
          "line": {
           "color": "#738282",
           "width": 2
          },
          "name": "Predicted 8",
          "type": "rect",
          "x0": 2.825,
          "x1": 2.575,
          "y0": -126.55230171826638,
          "y1": -118.02611664375031
         },
         {
          "line": {
           "color": "#E1E074",
           "width": 2
          },
          "name": "Predicted 7",
          "type": "rect",
          "x0": 2.825,
          "x1": 2.575,
          "y0": -112.64266712185956,
          "y1": -104.72878261217971
         },
         {
          "line": {
           "color": "#D682C6",
           "width": 2
          },
          "name": "Predicted 6",
          "type": "rect",
          "x0": 2.825,
          "x1": 2.575,
          "y0": -98.27541563902368,
          "y1": -88.5953651792896
         },
         {
          "line": {
           "color": "#64DEDC",
           "width": 2
          },
          "name": "Predicted 5",
          "type": "rect",
          "x0": 2.825,
          "x1": 2.575,
          "y0": -84.58748152219461,
          "y1": -75.6886312329775
         },
         {
          "line": {
           "color": "#FF707D",
           "width": 2
          },
          "name": "Predicted 4",
          "type": "rect",
          "x0": 2.825,
          "x1": 2.575,
          "y0": -69.52398154056978,
          "y1": -59.72511714354344
         },
         {
          "line": {
           "color": "#5CC878",
           "width": 2
          },
          "name": "Predicted 3",
          "type": "rect",
          "x0": 2.825,
          "x1": 2.575,
          "y0": -55.91117592632342,
          "y1": -46.60479441906575
         },
         {
          "fillcolor": "#F4F4CC",
          "line": {
           "color": "grey",
           "width": 1
          },
          "name": "Cadotte 2",
          "type": "rect",
          "x0": 3.125,
          "x1": 2.875,
          "y0": -61.49128309359767,
          "y1": -76.86043148875295
         },
         {
          "fillcolor": "#F4F4CC",
          "line": {
           "color": "grey",
           "width": 1
          },
          "name": "Cadotte 3",
          "type": "rect",
          "x0": 3.125,
          "x1": 2.875,
          "y0": -78.81343191504537,
          "y1": -96.2205324082211
         },
         {
          "fillcolor": "#F4F4CC",
          "line": {
           "color": "grey",
           "width": 1
          },
          "name": "Cadotte 4",
          "type": "rect",
          "x0": 3.125,
          "x1": 2.875,
          "y0": -107.1742659282408,
          "y1": -110.68966669556714
         },
         {
          "fillcolor": "#F4F4CC",
          "line": {
           "color": "grey",
           "width": 1
          },
          "name": "Cadotte 5",
          "type": "rect",
          "x0": 3.125,
          "x1": 2.875,
          "y0": -122.71331766685212,
          "y1": -126.94290180352486
         },
         {
          "fillcolor": "#5CC878",
          "line": {
           "color": "#5CC878",
           "width": 2
          },
          "name": "Predicted 3",
          "type": "rect",
          "x0": 3.175,
          "x1": 3.425,
          "y0": -52.68449243974541,
          "y1": -49.050277735126805
         },
         {
          "fillcolor": "#738282",
          "line": {
           "color": "#738282",
           "width": 2
          },
          "name": "Predicted 8",
          "type": "rect",
          "x0": 3.175,
          "x1": 3.425,
          "y0": -130.47523370363336,
          "y1": -123.20580055662076
         },
         {
          "fillcolor": "#C16200",
          "line": {
           "color": "#C16200",
           "width": 2
          },
          "name": "Predicted 9",
          "type": "rect",
          "x0": 3.175,
          "x1": 3.425,
          "y0": -145.32685637482578,
          "y1": -133.3113171049529
         },
         {
          "line": {
           "color": "#C16200",
           "width": 2
          },
          "name": "Predicted 9",
          "type": "rect",
          "x0": 12.825,
          "x1": 12.575,
          "y0": -155.1127346729961,
          "y1": -146.38391719636945
         },
         {
          "line": {
           "color": "#738282",
           "width": 2
          },
          "name": "Predicted 8",
          "type": "rect",
          "x0": 12.825,
          "x1": 12.575,
          "y0": -142.17231158333766,
          "y1": -132.0848318620989
         },
         {
          "line": {
           "color": "#E1E074",
           "width": 2
          },
          "name": "Predicted 7",
          "type": "rect",
          "x0": 12.825,
          "x1": 12.575,
          "y0": -125.90224927843164,
          "y1": -113.5899137544032
         },
         {
          "line": {
           "color": "#D682C6",
           "width": 2
          },
          "name": "Predicted 6",
          "type": "rect",
          "x0": 12.825,
          "x1": 12.575,
          "y0": -108.4102458330062,
          "y1": -98.441509926459
         },
         {
          "line": {
           "color": "#64DEDC",
           "width": 2
          },
          "name": "Predicted 5",
          "type": "rect",
          "x0": 12.825,
          "x1": 12.575,
          "y0": -94.4336418138026,
          "y1": -82.58002484720096
         },
         {
          "line": {
           "color": "#FF707D",
           "width": 2
          },
          "name": "Predicted 4",
          "type": "rect",
          "x0": 12.825,
          "x1": 12.575,
          "y0": -77.58721936167542,
          "y1": -67.58473332612046
         },
         {
          "line": {
           "color": "#5CC878",
           "width": 2
          },
          "name": "Predicted 3",
          "type": "rect",
          "x0": 12.825,
          "x1": 12.575,
          "y0": -62.676921526278726,
          "y1": -51.55277701376193
         },
         {
          "fillcolor": "#F4F4CC",
          "line": {
           "color": "grey",
           "width": 1
          },
          "name": "Cadotte 2",
          "type": "rect",
          "x0": 13.125,
          "x1": 12.875,
          "y0": -84.24429334237614,
          "y1": -90.71450488720536
         },
         {
          "fillcolor": "#F4F4CC",
          "line": {
           "color": "grey",
           "width": 1
          },
          "name": "Cadotte 3",
          "type": "rect",
          "x0": 13.125,
          "x1": 12.875,
          "y0": -104.79297765659663,
          "y1": -110.07451432818137
         },
         {
          "fillcolor": "#F4F4CC",
          "line": {
           "color": "grey",
           "width": 1
          },
          "name": "Cadotte 4",
          "type": "rect",
          "x0": 13.125,
          "x1": 12.875,
          "y0": -122.1831123518344,
          "y1": -127.46464902341911
         },
         {
          "fillcolor": "#F4F4CC",
          "line": {
           "color": "grey",
           "width": 1
          },
          "name": "Cadotte 5",
          "type": "rect",
          "x0": 13.125,
          "x1": 12.875,
          "y0": -141.39111171084392,
          "y1": -163.65468971375128
         },
         {
          "fillcolor": "#5CC878",
          "line": {
           "color": "#5CC878",
           "width": 2
          },
          "name": "Predicted 3",
          "type": "rect",
          "x0": 13.175,
          "x1": 13.425,
          "y0": -65.03739620826384,
          "y1": -54.30385163199393
         },
         {
          "fillcolor": "#FF707D",
          "line": {
           "color": "#FF707D",
           "width": 2
          },
          "name": "Predicted 4",
          "type": "rect",
          "x0": 13.175,
          "x1": 13.425,
          "y0": -79.2514878568506,
          "y1": -72.98501381239676
         },
         {
          "fillcolor": "#64DEDC",
          "line": {
           "color": "#64DEDC",
           "width": 2
          },
          "name": "Predicted 5",
          "type": "rect",
          "x0": 13.175,
          "x1": 13.425,
          "y0": -93.65244194130884,
          "y1": -90.3239049509585
         },
         {
          "fillcolor": "#D682C6",
          "line": {
           "color": "#D682C6",
           "width": 2
          },
          "name": "Predicted 6",
          "type": "rect",
          "x0": 13.175,
          "x1": 13.425,
          "y0": -110.17638307836906,
          "y1": -107.62904596051244
         },
         {
          "fillcolor": "#E1E074",
          "line": {
           "color": "#E1E074",
           "width": 2
          },
          "name": "Predicted 7",
          "type": "rect",
          "x0": 13.175,
          "x1": 13.425,
          "y0": -126.78531790111306,
          "y1": -119.94138148454086
         },
         {
          "line": {
           "color": "#C16200",
           "width": 2
          },
          "name": "Predicted 9",
          "type": "rect",
          "x0": 5.825,
          "x1": 5.575,
          "y0": -128.90231674347382,
          "y1": -123.7225965982174
         },
         {
          "line": {
           "color": "#738282",
           "width": 2
          },
          "name": "Predicted 8",
          "type": "rect",
          "x0": 5.825,
          "x1": 5.575,
          "y0": -120.39395676947362,
          "y1": -112.191356230743
         },
         {
          "line": {
           "color": "#E1E074",
           "width": 2
          },
          "name": "Predicted 7",
          "type": "rect",
          "x0": 5.825,
          "x1": 5.575,
          "y0": -107.50415592289691,
          "y1": -100.48124485595406
         },
         {
          "line": {
           "color": "#D682C6",
           "width": 2
          },
          "name": "Predicted 6",
          "type": "rect",
          "x0": 5.825,
          "x1": 5.575,
          "y0": -94.1297246337361,
          "y1": -87.36132852714003
         },
         {
          "line": {
           "color": "#64DEDC",
           "width": 2
          },
          "name": "Predicted 5",
          "type": "rect",
          "x0": 5.825,
          "x1": 5.575,
          "y0": -81.97776875837053,
          "y1": -72.97688894695995
         },
         {
          "line": {
           "color": "#FF707D",
           "width": 2
          },
          "name": "Predicted 4",
          "type": "rect",
          "x0": 5.825,
          "x1": 5.575,
          "y0": -65.64032904992125,
          "y1": -58.50760877639561
         },
         {
          "line": {
           "color": "#5CC878",
           "width": 2
          },
          "name": "Predicted 3",
          "type": "rect",
          "x0": 5.825,
          "x1": 5.575,
          "y0": -53.49682489666504,
          "y1": -43.71474503394675
         },
         {
          "fillcolor": "#F4F4CC",
          "line": {
           "color": "grey",
           "width": 1
          },
          "name": "Cadotte 2",
          "type": "rect",
          "x0": 6.125,
          "x1": 5.875,
          "y0": -58.50760877639561,
          "y1": -76.10168915219066
         },
         {
          "fillcolor": "#F4F4CC",
          "line": {
           "color": "grey",
           "width": 1
          },
          "name": "Cadotte 3",
          "type": "rect",
          "x0": 6.125,
          "x1": 5.875,
          "y0": -84.13460851015279,
          "y1": -88.92372862975539
         },
         {
          "fillcolor": "#F4F4CC",
          "line": {
           "color": "grey",
           "width": 1
          },
          "name": "Cadotte 4",
          "type": "rect",
          "x0": 6.125,
          "x1": 5.875,
          "y0": -97.7470446763772,
          "y1": -103.1904764193324
         },
         {
          "fillcolor": "#F4F4CC",
          "line": {
           "color": "grey",
           "width": 1
          },
          "name": "Cadotte 5",
          "type": "rect",
          "x0": 6.125,
          "x1": 5.875,
          "y0": -113.36315630770451,
          "y1": -127.33991664085848
         },
         {
          "fillcolor": "#5CC878",
          "line": {
           "color": "#5CC878",
           "width": 2
          },
          "name": "Predicted 3",
          "type": "rect",
          "x0": 6.175,
          "x1": 6.425,
          "y0": -54.66862497362656,
          "y1": -47.2301452648313
         },
         {
          "fillcolor": "#FF707D",
          "line": {
           "color": "#FF707D",
           "width": 2
          },
          "name": "Predicted 4",
          "type": "rect",
          "x0": 6.175,
          "x1": 6.425,
          "y0": -66.42152910122893,
          "y1": -61.24180895597248
         },
         {
          "fillcolor": "#64DEDC",
          "line": {
           "color": "#64DEDC",
           "width": 2
          },
          "name": "Predicted 5",
          "type": "rect",
          "x0": 6.175,
          "x1": 6.425,
          "y0": -81.97776875837053,
          "y1": -78.05468928045985
         },
         {
          "line": {
           "color": "#C16200",
           "width": 2
          },
          "name": "Predicted 9",
          "type": "rect",
          "x0": 11.825,
          "x1": 11.575,
          "y0": -151.5290305107862,
          "y1": -141.47477349894103
         },
         {
          "line": {
           "color": "#738282",
           "width": 2
          },
          "name": "Predicted 8",
          "type": "rect",
          "x0": 11.825,
          "x1": 11.575,
          "y0": -136.10771939591905,
          "y1": -126.3926499093546
         },
         {
          "line": {
           "color": "#E1E074",
           "width": 2
          },
          "name": "Predicted 7",
          "type": "rect",
          "x0": 11.825,
          "x1": 11.575,
          "y0": -123.26784875044956,
          "y1": -115.6846543102437
         },
         {
          "line": {
           "color": "#D682C6",
           "width": 2
          },
          "name": "Predicted 6",
          "type": "rect",
          "x0": 11.825,
          "x1": 11.575,
          "y0": -109.64677781525388,
          "y1": -100.3572123990772
         },
         {
          "line": {
           "color": "#64DEDC",
           "width": 2
          },
          "name": "Predicted 5",
          "type": "rect",
          "x0": 11.825,
          "x1": 11.575,
          "y0": -94.7868896762185,
          "y1": -84.95355668815981
         },
         {
          "line": {
           "color": "#FF707D",
           "width": 2
          },
          "name": "Predicted 4",
          "type": "rect",
          "x0": 11.825,
          "x1": 11.575,
          "y0": -78.85580920013847,
          "y1": -68.13861540006151
         },
         {
          "line": {
           "color": "#5CC878",
           "width": 2
          },
          "name": "Predicted 3",
          "type": "rect",
          "x0": 11.825,
          "x1": 11.575,
          "y0": -63.23048963791767,
          "y1": -49.710765457318224
         },
         {
          "fillcolor": "#F4F4CC",
          "line": {
           "color": "grey",
           "width": 1
          },
          "name": "Cadotte 2",
          "type": "rect",
          "x0": 12.125,
          "x1": 11.875,
          "y0": -83.57791486402061,
          "y1": -103.0914134131191
         },
         {
          "fillcolor": "#F4F4CC",
          "line": {
           "color": "grey",
           "width": 1
          },
          "name": "Cadotte 3",
          "type": "rect",
          "x0": 12.125,
          "x1": 11.875,
          "y0": -104.26321384770849,
          "y1": -122.09604831586016
         },
         {
          "fillcolor": "#F4F4CC",
          "line": {
           "color": "grey",
           "width": 1
          },
          "name": "Cadotte 4",
          "type": "rect",
          "x0": 12.125,
          "x1": 11.875,
          "y0": -132.74417292193957,
          "y1": -153.78779331942658
         },
         {
          "fillcolor": "#5CC878",
          "line": {
           "color": "#5CC878",
           "width": 2
          },
          "name": "Predicted 3",
          "type": "rect",
          "x0": 12.175,
          "x1": 12.425,
          "y0": -62.83988949305454,
          "y1": -51.57892812109547
         },
         {
          "fillcolor": "#FF707D",
          "line": {
           "color": "#FF707D",
           "width": 2
          },
          "name": "Predicted 4",
          "type": "rect",
          "x0": 12.175,
          "x1": 12.425,
          "y0": -76.20644624663498,
          "y1": -74.17649189505134
         },
         {
          "line": {
           "color": "#C16200",
           "width": 2
          },
          "name": "Predicted 9",
          "type": "rect",
          "x0": 8.825,
          "x1": 8.575,
          "y0": -150.823097419206,
          "y1": -142.27988873539775
         },
         {
          "line": {
           "color": "#738282",
           "width": 2
          },
          "name": "Predicted 8",
          "type": "rect",
          "x0": 8.825,
          "x1": 8.575,
          "y0": -135.96191281152895,
          "y1": -125.24480461266543
         },
         {
          "line": {
           "color": "#E1E074",
           "width": 2
          },
          "name": "Predicted 7",
          "type": "rect",
          "x0": 8.825,
          "x1": 8.575,
          "y0": -122.40867773660229,
          "y1": -112.76075185852092
         },
         {
          "line": {
           "color": "#D682C6",
           "width": 2
          },
          "name": "Predicted 6",
          "type": "rect",
          "x0": 8.825,
          "x1": 8.575,
          "y0": -107.68295346217197,
          "y1": -97.98497255285076
         },
         {
          "line": {
           "color": "#64DEDC",
           "width": 2
          },
          "name": "Predicted 5",
          "type": "rect",
          "x0": 8.825,
          "x1": 8.575,
          "y0": -92.51657427985955,
          "y1": -83.68460978176232
         },
         {
          "line": {
           "color": "#FF707D",
           "width": 2
          },
          "name": "Predicted 4",
          "type": "rect",
          "x0": 8.825,
          "x1": 8.575,
          "y0": -76.0422455647968,
          "y1": -66.63362636212723
         },
         {
          "line": {
           "color": "#5CC878",
           "width": 2
          },
          "name": "Predicted 3",
          "type": "rect",
          "x0": 8.825,
          "x1": 8.575,
          "y0": -61.827389021224874,
          "y1": -47.884093533099545
         },
         {
          "fillcolor": "#F4F4CC",
          "line": {
           "color": "grey",
           "width": 1
          },
          "name": "Cadotte 2",
          "type": "rect",
          "x0": 9.125,
          "x1": 8.875,
          "y0": -62.81244425364447,
          "y1": -84.07520965840455
         },
         {
          "fillcolor": "#F4F4CC",
          "line": {
           "color": "grey",
           "width": 1
          },
          "name": "Cadotte 3",
          "type": "rect",
          "x0": 9.125,
          "x1": 8.875,
          "y0": -97.59437267620852,
          "y1": -120.45567835339114
         },
         {
          "fillcolor": "#F4F4CC",
          "line": {
           "color": "grey",
           "width": 1
          },
          "name": "Cadotte 4",
          "type": "rect",
          "x0": 9.125,
          "x1": 8.875,
          "y0": -132.78584698242602,
          "y1": -139.00189516672725
         },
         {
          "fillcolor": "#5CC878",
          "line": {
           "color": "#5CC878",
           "width": 2
          },
          "name": "Predicted 3",
          "type": "rect",
          "x0": 9.175,
          "x1": 9.425,
          "y0": -64.37484376021338,
          "y1": -54.35465812013838
         },
         {
          "line": {
           "color": "#C16200",
           "width": 2
          },
          "name": "Predicted 9",
          "type": "rect",
          "x0": 9.825,
          "x1": 9.575,
          "y0": -147.74535501296089,
          "y1": -139.13502785278763
         },
         {
          "line": {
           "color": "#738282",
           "width": 2
          },
          "name": "Predicted 8",
          "type": "rect",
          "x0": 9.825,
          "x1": 9.575,
          "y0": -132.1042247088095,
          "y1": -125.07342156483138
         },
         {
          "line": {
           "color": "#E1E074",
           "width": 2
          },
          "name": "Predicted 7",
          "type": "rect",
          "x0": 9.825,
          "x1": 9.575,
          "y0": -121.45608911979262,
          "y1": -112.94769283266906
         },
         {
          "line": {
           "color": "#D682C6",
           "width": 2
          },
          "name": "Predicted 6",
          "type": "rect",
          "x0": 9.825,
          "x1": 9.575,
          "y0": -108.3452982922,
          "y1": -96.8639248533391
         },
         {
          "line": {
           "color": "#64DEDC",
           "width": 2
          },
          "name": "Predicted 5",
          "type": "rect",
          "x0": 9.825,
          "x1": 9.575,
          "y0": -92.074791884304,
          "y1": -83.17579542251498
         },
         {
          "line": {
           "color": "#FF707D",
           "width": 2
          },
          "name": "Predicted 4",
          "type": "rect",
          "x0": 9.825,
          "x1": 9.575,
          "y0": -77.40160035804958,
          "y1": -68.34081215396279
         },
         {
          "line": {
           "color": "#5CC878",
           "width": 2
          },
          "name": "Predicted 3",
          "type": "rect",
          "x0": 9.825,
          "x1": 9.575,
          "y0": -63.94227935959312,
          "y1": -48.25769734123759
         },
         {
          "fillcolor": "#F4F4CC",
          "line": {
           "color": "grey",
           "width": 1
          },
          "name": "Cadotte 2",
          "type": "rect",
          "x0": 10.125,
          "x1": 9.875,
          "y0": -63.55167918492767,
          "y1": -78.57340088204593
         },
         {
          "fillcolor": "#F4F4CC",
          "line": {
           "color": "grey",
           "width": 1
          },
          "name": "Cadotte 3",
          "type": "rect",
          "x0": 10.125,
          "x1": 9.875,
          "y0": -81.61339472385318,
          "y1": -94.80899310696216
         },
         {
          "fillcolor": "#F4F4CC",
          "line": {
           "color": "grey",
           "width": 1
          },
          "name": "Cadotte 4",
          "type": "rect",
          "x0": 10.125,
          "x1": 9.875,
          "y0": -98.6301872981003,
          "y1": -111.96263073723875
         },
         {
          "fillcolor": "#F4F4CC",
          "line": {
           "color": "grey",
           "width": 1
          },
          "name": "Cadotte 5",
          "type": "rect",
          "x0": 10.125,
          "x1": 9.875,
          "y0": -115.68189405532722,
          "y1": -128.58882313682045
         },
         {
          "fillcolor": "#F4F4CC",
          "line": {
           "color": "grey",
           "width": 1
          },
          "name": "Cadotte 6",
          "type": "rect",
          "x0": 10.125,
          "x1": 9.875,
          "y0": -131.71362453414406,
          "y1": -148.5265553622918
         },
         {
          "fillcolor": "#5CC878",
          "line": {
           "color": "#5CC878",
           "width": 2
          },
          "name": "Predicted 3",
          "type": "rect",
          "x0": 10.175,
          "x1": 10.425,
          "y0": -65.60661093130463,
          "y1": -55.824483247135014
         },
         {
          "fillcolor": "#FF707D",
          "line": {
           "color": "#FF707D",
           "width": 2
          },
          "name": "Predicted 4",
          "type": "rect",
          "x0": 10.175,
          "x1": 10.425,
          "y0": -78.67533175509563,
          "y1": -70.88827494805489
         },
         {
          "fillcolor": "#64DEDC",
          "line": {
           "color": "#64DEDC",
           "width": 2
          },
          "name": "Predicted 5",
          "type": "rect",
          "x0": 10.175,
          "x1": 10.425,
          "y0": -92.9579231066846,
          "y1": -87.67625908993433
         },
         {
          "fillcolor": "#D682C6",
          "line": {
           "color": "#D682C6",
           "width": 2
          },
          "name": "Predicted 6",
          "type": "rect",
          "x0": 10.175,
          "x1": 10.425,
          "y0": -109.2284295145806,
          "y1": -102.34945061618876
         },
         {
          "fillcolor": "#E1E074",
          "line": {
           "color": "#E1E074",
           "width": 2
          },
          "name": "Predicted 7",
          "type": "rect",
          "x0": 10.175,
          "x1": 10.425,
          "y0": -124.39415208855016,
          "y1": -116.95562545237328
         },
         {
          "fillcolor": "#738282",
          "line": {
           "color": "#738282",
           "width": 2
          },
          "name": "Predicted 8",
          "type": "rect",
          "x0": 10.175,
          "x1": 10.425,
          "y0": -136.50275750317917,
          "y1": -130.6437548831974
         },
         {
          "fillcolor": "#C16200",
          "line": {
           "color": "#C16200",
           "width": 2
          },
          "name": "Predicted 9",
          "type": "rect",
          "x0": 10.175,
          "x1": 10.425,
          "y0": -152.34774955342994,
          "y1": -145.48656152048454
         },
         {
          "line": {
           "color": "#C16200",
           "width": 2
          },
          "name": "Predicted 9",
          "type": "rect",
          "x0": 13.825,
          "x1": 13.575,
          "y0": -143.46787182337275,
          "y1": -136.94661340563093
         },
         {
          "line": {
           "color": "#738282",
           "width": 2
          },
          "name": "Predicted 8",
          "type": "rect",
          "x0": 13.825,
          "x1": 13.575,
          "y0": -129.78025225362825,
          "y1": -121.25521448237608
         },
         {
          "line": {
           "color": "#E1E074",
           "width": 2
          },
          "name": "Predicted 7",
          "type": "rect",
          "x0": 13.825,
          "x1": 13.575,
          "y0": -115.10716864809504,
          "y1": -106.90456498012055
         },
         {
          "line": {
           "color": "#D682C6",
           "width": 2
          },
          "name": "Predicted 6",
          "type": "rect",
          "x0": 13.825,
          "x1": 13.575,
          "y0": -101.43616253480424,
          "y1": -91.36557204904948
         },
         {
          "line": {
           "color": "#64DEDC",
           "width": 2
          },
          "name": "Predicted 5",
          "type": "rect",
          "x0": 13.825,
          "x1": 13.575,
          "y0": -86.96710808802337,
          "y1": -75.50414501470073
         },
         {
          "line": {
           "color": "#FF707D",
           "width": 2
          },
          "name": "Predicted 4",
          "type": "rect",
          "x0": 13.825,
          "x1": 13.575,
          "y0": -70.3244807043437,
          "y1": -60.7965209702839
         },
         {
          "line": {
           "color": "#5CC878",
           "width": 2
          },
          "name": "Predicted 3",
          "type": "rect",
          "x0": 13.825,
          "x1": 13.575,
          "y0": -55.80373275518,
          "y1": -43.15212117370181
         },
         {
          "fillcolor": "#F4F4CC",
          "line": {
           "color": "grey",
           "width": 1
          },
          "name": "Cadotte 2",
          "type": "rect",
          "x0": 14.125,
          "x1": 13.875,
          "y0": -66.5705095347187,
          "y1": -73.94174431603892
         },
         {
          "fillcolor": "#F4F4CC",
          "line": {
           "color": "grey",
           "width": 1
          },
          "name": "Cadotte 3",
          "type": "rect",
          "x0": 14.125,
          "x1": 13.875,
          "y0": -85.09912127024307,
          "y1": -102.99856323346606
         },
         {
          "fillcolor": "#F4F4CC",
          "line": {
           "color": "grey",
           "width": 1
          },
          "name": "Cadotte 4",
          "type": "rect",
          "x0": 14.125,
          "x1": 13.875,
          "y0": -105.34216428145876,
          "y1": -119.30221360904883
         },
         {
          "fillcolor": "#F4F4CC",
          "line": {
           "color": "grey",
           "width": 1
          },
          "name": "Cadotte 5",
          "type": "rect",
          "x0": 14.125,
          "x1": 13.875,
          "y0": -120.86461430771064,
          "y1": -137.33721358029638
         },
         {
          "fillcolor": "#5CC878",
          "line": {
           "color": "#5CC878",
           "width": 2
          },
          "name": "Predicted 3",
          "type": "rect",
          "x0": 14.175,
          "x1": 14.425,
          "y0": -58.35105788258503,
          "y1": -46.19190851547845
         },
         {
          "fillcolor": "#FF707D",
          "line": {
           "color": "#FF707D",
           "width": 2
          },
          "name": "Predicted 4",
          "type": "rect",
          "x0": 14.175,
          "x1": 14.425,
          "y0": -68.94895610093502,
          "y1": -64.61750866139144
         },
         {
          "line": {
           "color": "#C16200",
           "width": 2
          },
          "name": "Predicted 9",
          "type": "rect",
          "x0": 0.825,
          "x1": 0.575,
          "y0": -162.22321281935518,
          "y1": -148.4916253167509
         },
         {
          "line": {
           "color": "#738282",
           "width": 2
          },
          "name": "Predicted 8",
          "type": "rect",
          "x0": 0.825,
          "x1": 0.575,
          "y0": -143.4986302646685,
          "y1": -135.66950371981798
         },
         {
          "line": {
           "color": "#E1E074",
           "width": 2
          },
          "name": "Predicted 7",
          "type": "rect",
          "x0": 0.825,
          "x1": 0.575,
          "y0": -129.02930480362116,
          "y1": -118.95851058032942
         },
         {
          "line": {
           "color": "#D682C6",
           "width": 2
          },
          "name": "Predicted 6",
          "type": "rect",
          "x0": 0.825,
          "x1": 0.575,
          "y0": -112.3183116641326,
          "y1": -102.14558550180092
         },
         {
          "line": {
           "color": "#64DEDC",
           "width": 2
          },
          "name": "Predicted 5",
          "type": "rect",
          "x0": 0.825,
          "x1": 0.575,
          "y0": -97.84898620308532,
          "y1": -86.99699210729986
         },
         {
          "line": {
           "color": "#FF707D",
           "width": 2
          },
          "name": "Predicted 4",
          "type": "rect",
          "x0": 0.825,
          "x1": 0.575,
          "y0": -78.09799769274876,
          "y1": -69.16408765114669
         },
         {
          "line": {
           "color": "#5CC878",
           "width": 2
          },
          "name": "Predicted 3",
          "type": "rect",
          "x0": 0.825,
          "x1": 0.575,
          "y0": -64.17109259906431,
          "y1": -50.69402257340456
         },
         {
          "fillcolor": "#F4F4CC",
          "line": {
           "color": "grey",
           "width": 1
          },
          "name": "Cadotte 2",
          "type": "rect",
          "x0": 1.125,
          "x1": 0.875,
          "y0": -69.94528752364043,
          "y1": -87.38759204354673
         },
         {
          "fillcolor": "#F4F4CC",
          "line": {
           "color": "grey",
           "width": 1
          },
          "name": "Cadotte 3",
          "type": "rect",
          "x0": 1.125,
          "x1": 0.875,
          "y0": -88.55939185228735,
          "y1": -105.66098492802276
         },
         {
          "fillcolor": "#F4F4CC",
          "line": {
           "color": "grey",
           "width": 1
          },
          "name": "Cadotte 4",
          "type": "rect",
          "x0": 1.125,
          "x1": 0.875,
          "y0": -108.70098029887076,
          "y1": -124.03630975153877
         },
         {
          "fillcolor": "#F4F4CC",
          "line": {
           "color": "grey",
           "width": 1
          },
          "name": "Cadotte 5",
          "type": "rect",
          "x0": 1.125,
          "x1": 0.875,
          "y0": -125.20810956027935,
          "y1": -141.44369864439415
         },
         {
          "fillcolor": "#F4F4CC",
          "line": {
           "color": "grey",
           "width": 1
          },
          "name": "Cadotte 6",
          "type": "rect",
          "x0": 1.125,
          "x1": 0.875,
          "y0": -143.10803032842162,
          "y1": -162.22321281935518
         },
         {
          "fillcolor": "#5CC878",
          "line": {
           "color": "#5CC878",
           "width": 2
          },
          "name": "Predicted 3",
          "type": "rect",
          "x0": 1.175,
          "x1": 1.425,
          "y0": -66.51469221654554,
          "y1": -54.12461788049945
         },
         {
          "fillcolor": "#FF707D",
          "line": {
           "color": "#FF707D",
           "width": 2
          },
          "name": "Predicted 4",
          "type": "rect",
          "x0": 1.175,
          "x1": 1.425,
          "y0": -71.60961920766789,
          "y1": -71.60961920766789
         },
         {
          "fillcolor": "#E1E074",
          "line": {
           "color": "#E1E074",
           "width": 2
          },
          "name": "Predicted 7",
          "type": "rect",
          "x0": 1.175,
          "x1": 1.425,
          "y0": -130.59170454860865,
          "y1": -121.30211019781063
         },
         {
          "line": {
           "color": "#C16200",
           "width": 2
          },
          "name": "Predicted 9",
          "type": "rect",
          "x0": 1.825,
          "x1": 1.575,
          "y0": -146.3507442571628,
          "y1": -138.19921398044758
         },
         {
          "line": {
           "color": "#738282",
           "width": 2
          },
          "name": "Predicted 8",
          "type": "rect",
          "x0": 1.825,
          "x1": 1.575,
          "y0": -134.75959097665117,
          "y1": -124.67093025666207
         },
         {
          "line": {
           "color": "#E1E074",
           "width": 2
          },
          "name": "Predicted 7",
          "type": "rect",
          "x0": 1.825,
          "x1": 1.575,
          "y0": -123.19347648001552,
          "y1": -112.7152849456214
         },
         {
          "line": {
           "color": "#D682C6",
           "width": 2
          },
          "name": "Predicted 6",
          "type": "rect",
          "x0": 1.825,
          "x1": 1.575,
          "y0": -109.19988525117866,
          "y1": -101.38788593019476
         },
         {
          "line": {
           "color": "#64DEDC",
           "width": 2
          },
          "name": "Predicted 5",
          "type": "rect",
          "x0": 1.825,
          "x1": 1.575,
          "y0": -93.6608326967611,
          "y1": -85.83189483716112
         },
         {
          "line": {
           "color": "#FF707D",
           "width": 2
          },
          "name": "Predicted 4",
          "type": "rect",
          "x0": 1.825,
          "x1": 1.575,
          "y0": -77.08599534206421,
          "y1": -67.66078054103524
         },
         {
          "line": {
           "color": "#5CC878",
           "width": 2
          },
          "name": "Predicted 3",
          "type": "rect",
          "x0": 1.825,
          "x1": 1.575,
          "y0": -60.29045019641852,
          "y1": -49.03875016256029
         },
         {
          "fillcolor": "#F4F4CC",
          "line": {
           "color": "grey",
           "width": 1
          },
          "name": "Cadotte 2",
          "type": "rect",
          "x0": 2.125,
          "x1": 1.875,
          "y0": -62.15850393911429,
          "y1": -78.07096452649525
         },
         {
          "fillcolor": "#F4F4CC",
          "line": {
           "color": "grey",
           "width": 1
          },
          "name": "Cadotte 3",
          "type": "rect",
          "x0": 2.125,
          "x1": 1.875,
          "y0": -79.83713364302467,
          "y1": -97.48188626970284
         },
         {
          "fillcolor": "#F4F4CC",
          "line": {
           "color": "grey",
           "width": 1
          },
          "name": "Cadotte 4",
          "type": "rect",
          "x0": 2.125,
          "x1": 1.875,
          "y0": -100.60668599809638,
          "y1": -115.46642324658188
         },
         {
          "fillcolor": "#F4F4CC",
          "line": {
           "color": "grey",
           "width": 1
          },
          "name": "Cadotte 5",
          "type": "rect",
          "x0": 2.125,
          "x1": 1.875,
          "y0": -117.41942307682784,
          "y1": -131.27799065036268
         },
         {
          "fillcolor": "#F4F4CC",
          "line": {
           "color": "grey",
           "width": 1
          },
          "name": "Cadotte 6",
          "type": "rect",
          "x0": 2.125,
          "x1": 1.875,
          "y0": -134.75959097665117,
          "y1": -152.75304395596473
         },
         {
          "fillcolor": "#5CC878",
          "line": {
           "color": "#5CC878",
           "width": 2
          },
          "name": "Predicted 3",
          "type": "rect",
          "x0": 2.175,
          "x1": 2.425,
          "y0": -61.33532668452385,
          "y1": -57.751841732069074
         }
        ],
        "xaxis": {
         "title": {
          "text": "Subject"
         },
         "range": [
          0,
          15
         ],
         "ticktext": [
          "1",
          "2",
          "3",
          "4",
          "5",
          "6",
          "7",
          "8",
          "9",
          "10",
          "11",
          "12",
          "13",
          "14"
         ],
         "tickvals": [
          1,
          2,
          3,
          4,
          5,
          6,
          7,
          8,
          9,
          10,
          11,
          12,
          13,
          14
         ]
        },
        "yaxis": {
         "title": {
          "text": "PMJ distance (PMJ = 0 mm)"
         },
         "range": [
          -167.22321281935518,
          -38.15212117370181
         ],
         "autorange": "reversed",
         "dtick": 10
        },
        "title": {
         "text": "Nerve rootlet layout"
        },
        "showlegend": true
       },
       "config": {
        "plotlyServerURL": "https://plot.ly"
       }
      },
      "text/html": "<div>                            <div id=\"6d236dc7-6dd6-4e3b-ad75-67be91277d62\" class=\"plotly-graph-div\" style=\"height:525px; width:100%;\"></div>            <script type=\"text/javascript\">                require([\"plotly\"], function(Plotly) {                    window.PLOTLYENV=window.PLOTLYENV || {};                                    if (document.getElementById(\"6d236dc7-6dd6-4e3b-ad75-67be91277d62\")) {                    Plotly.newPlot(                        \"6d236dc7-6dd6-4e3b-ad75-67be91277d62\",                        [],                        {\"template\":{\"data\":{\"histogram2dcontour\":[{\"type\":\"histogram2dcontour\",\"colorbar\":{\"outlinewidth\":0,\"ticks\":\"\"},\"colorscale\":[[0.0,\"#0d0887\"],[0.1111111111111111,\"#46039f\"],[0.2222222222222222,\"#7201a8\"],[0.3333333333333333,\"#9c179e\"],[0.4444444444444444,\"#bd3786\"],[0.5555555555555556,\"#d8576b\"],[0.6666666666666666,\"#ed7953\"],[0.7777777777777778,\"#fb9f3a\"],[0.8888888888888888,\"#fdca26\"],[1.0,\"#f0f921\"]]}],\"choropleth\":[{\"type\":\"choropleth\",\"colorbar\":{\"outlinewidth\":0,\"ticks\":\"\"}}],\"histogram2d\":[{\"type\":\"histogram2d\",\"colorbar\":{\"outlinewidth\":0,\"ticks\":\"\"},\"colorscale\":[[0.0,\"#0d0887\"],[0.1111111111111111,\"#46039f\"],[0.2222222222222222,\"#7201a8\"],[0.3333333333333333,\"#9c179e\"],[0.4444444444444444,\"#bd3786\"],[0.5555555555555556,\"#d8576b\"],[0.6666666666666666,\"#ed7953\"],[0.7777777777777778,\"#fb9f3a\"],[0.8888888888888888,\"#fdca26\"],[1.0,\"#f0f921\"]]}],\"heatmap\":[{\"type\":\"heatmap\",\"colorbar\":{\"outlinewidth\":0,\"ticks\":\"\"},\"colorscale\":[[0.0,\"#0d0887\"],[0.1111111111111111,\"#46039f\"],[0.2222222222222222,\"#7201a8\"],[0.3333333333333333,\"#9c179e\"],[0.4444444444444444,\"#bd3786\"],[0.5555555555555556,\"#d8576b\"],[0.6666666666666666,\"#ed7953\"],[0.7777777777777778,\"#fb9f3a\"],[0.8888888888888888,\"#fdca26\"],[1.0,\"#f0f921\"]]}],\"heatmapgl\":[{\"type\":\"heatmapgl\",\"colorbar\":{\"outlinewidth\":0,\"ticks\":\"\"},\"colorscale\":[[0.0,\"#0d0887\"],[0.1111111111111111,\"#46039f\"],[0.2222222222222222,\"#7201a8\"],[0.3333333333333333,\"#9c179e\"],[0.4444444444444444,\"#bd3786\"],[0.5555555555555556,\"#d8576b\"],[0.6666666666666666,\"#ed7953\"],[0.7777777777777778,\"#fb9f3a\"],[0.8888888888888888,\"#fdca26\"],[1.0,\"#f0f921\"]]}],\"contourcarpet\":[{\"type\":\"contourcarpet\",\"colorbar\":{\"outlinewidth\":0,\"ticks\":\"\"}}],\"contour\":[{\"type\":\"contour\",\"colorbar\":{\"outlinewidth\":0,\"ticks\":\"\"},\"colorscale\":[[0.0,\"#0d0887\"],[0.1111111111111111,\"#46039f\"],[0.2222222222222222,\"#7201a8\"],[0.3333333333333333,\"#9c179e\"],[0.4444444444444444,\"#bd3786\"],[0.5555555555555556,\"#d8576b\"],[0.6666666666666666,\"#ed7953\"],[0.7777777777777778,\"#fb9f3a\"],[0.8888888888888888,\"#fdca26\"],[1.0,\"#f0f921\"]]}],\"surface\":[{\"type\":\"surface\",\"colorbar\":{\"outlinewidth\":0,\"ticks\":\"\"},\"colorscale\":[[0.0,\"#0d0887\"],[0.1111111111111111,\"#46039f\"],[0.2222222222222222,\"#7201a8\"],[0.3333333333333333,\"#9c179e\"],[0.4444444444444444,\"#bd3786\"],[0.5555555555555556,\"#d8576b\"],[0.6666666666666666,\"#ed7953\"],[0.7777777777777778,\"#fb9f3a\"],[0.8888888888888888,\"#fdca26\"],[1.0,\"#f0f921\"]]}],\"mesh3d\":[{\"type\":\"mesh3d\",\"colorbar\":{\"outlinewidth\":0,\"ticks\":\"\"}}],\"scatter\":[{\"fillpattern\":{\"fillmode\":\"overlay\",\"size\":10,\"solidity\":0.2},\"type\":\"scatter\"}],\"parcoords\":[{\"type\":\"parcoords\",\"line\":{\"colorbar\":{\"outlinewidth\":0,\"ticks\":\"\"}}}],\"scatterpolargl\":[{\"type\":\"scatterpolargl\",\"marker\":{\"colorbar\":{\"outlinewidth\":0,\"ticks\":\"\"}}}],\"bar\":[{\"error_x\":{\"color\":\"#2a3f5f\"},\"error_y\":{\"color\":\"#2a3f5f\"},\"marker\":{\"line\":{\"color\":\"#E5ECF6\",\"width\":0.5},\"pattern\":{\"fillmode\":\"overlay\",\"size\":10,\"solidity\":0.2}},\"type\":\"bar\"}],\"scattergeo\":[{\"type\":\"scattergeo\",\"marker\":{\"colorbar\":{\"outlinewidth\":0,\"ticks\":\"\"}}}],\"scatterpolar\":[{\"type\":\"scatterpolar\",\"marker\":{\"colorbar\":{\"outlinewidth\":0,\"ticks\":\"\"}}}],\"histogram\":[{\"marker\":{\"pattern\":{\"fillmode\":\"overlay\",\"size\":10,\"solidity\":0.2}},\"type\":\"histogram\"}],\"scattergl\":[{\"type\":\"scattergl\",\"marker\":{\"colorbar\":{\"outlinewidth\":0,\"ticks\":\"\"}}}],\"scatter3d\":[{\"type\":\"scatter3d\",\"line\":{\"colorbar\":{\"outlinewidth\":0,\"ticks\":\"\"}},\"marker\":{\"colorbar\":{\"outlinewidth\":0,\"ticks\":\"\"}}}],\"scattermapbox\":[{\"type\":\"scattermapbox\",\"marker\":{\"colorbar\":{\"outlinewidth\":0,\"ticks\":\"\"}}}],\"scatterternary\":[{\"type\":\"scatterternary\",\"marker\":{\"colorbar\":{\"outlinewidth\":0,\"ticks\":\"\"}}}],\"scattercarpet\":[{\"type\":\"scattercarpet\",\"marker\":{\"colorbar\":{\"outlinewidth\":0,\"ticks\":\"\"}}}],\"carpet\":[{\"aaxis\":{\"endlinecolor\":\"#2a3f5f\",\"gridcolor\":\"white\",\"linecolor\":\"white\",\"minorgridcolor\":\"white\",\"startlinecolor\":\"#2a3f5f\"},\"baxis\":{\"endlinecolor\":\"#2a3f5f\",\"gridcolor\":\"white\",\"linecolor\":\"white\",\"minorgridcolor\":\"white\",\"startlinecolor\":\"#2a3f5f\"},\"type\":\"carpet\"}],\"table\":[{\"cells\":{\"fill\":{\"color\":\"#EBF0F8\"},\"line\":{\"color\":\"white\"}},\"header\":{\"fill\":{\"color\":\"#C8D4E3\"},\"line\":{\"color\":\"white\"}},\"type\":\"table\"}],\"barpolar\":[{\"marker\":{\"line\":{\"color\":\"#E5ECF6\",\"width\":0.5},\"pattern\":{\"fillmode\":\"overlay\",\"size\":10,\"solidity\":0.2}},\"type\":\"barpolar\"}],\"pie\":[{\"automargin\":true,\"type\":\"pie\"}]},\"layout\":{\"autotypenumbers\":\"strict\",\"colorway\":[\"#636efa\",\"#EF553B\",\"#00cc96\",\"#ab63fa\",\"#FFA15A\",\"#19d3f3\",\"#FF6692\",\"#B6E880\",\"#FF97FF\",\"#FECB52\"],\"font\":{\"color\":\"#2a3f5f\"},\"hovermode\":\"closest\",\"hoverlabel\":{\"align\":\"left\"},\"paper_bgcolor\":\"white\",\"plot_bgcolor\":\"#E5ECF6\",\"polar\":{\"bgcolor\":\"#E5ECF6\",\"angularaxis\":{\"gridcolor\":\"white\",\"linecolor\":\"white\",\"ticks\":\"\"},\"radialaxis\":{\"gridcolor\":\"white\",\"linecolor\":\"white\",\"ticks\":\"\"}},\"ternary\":{\"bgcolor\":\"#E5ECF6\",\"aaxis\":{\"gridcolor\":\"white\",\"linecolor\":\"white\",\"ticks\":\"\"},\"baxis\":{\"gridcolor\":\"white\",\"linecolor\":\"white\",\"ticks\":\"\"},\"caxis\":{\"gridcolor\":\"white\",\"linecolor\":\"white\",\"ticks\":\"\"}},\"coloraxis\":{\"colorbar\":{\"outlinewidth\":0,\"ticks\":\"\"}},\"colorscale\":{\"sequential\":[[0.0,\"#0d0887\"],[0.1111111111111111,\"#46039f\"],[0.2222222222222222,\"#7201a8\"],[0.3333333333333333,\"#9c179e\"],[0.4444444444444444,\"#bd3786\"],[0.5555555555555556,\"#d8576b\"],[0.6666666666666666,\"#ed7953\"],[0.7777777777777778,\"#fb9f3a\"],[0.8888888888888888,\"#fdca26\"],[1.0,\"#f0f921\"]],\"sequentialminus\":[[0.0,\"#0d0887\"],[0.1111111111111111,\"#46039f\"],[0.2222222222222222,\"#7201a8\"],[0.3333333333333333,\"#9c179e\"],[0.4444444444444444,\"#bd3786\"],[0.5555555555555556,\"#d8576b\"],[0.6666666666666666,\"#ed7953\"],[0.7777777777777778,\"#fb9f3a\"],[0.8888888888888888,\"#fdca26\"],[1.0,\"#f0f921\"]],\"diverging\":[[0,\"#8e0152\"],[0.1,\"#c51b7d\"],[0.2,\"#de77ae\"],[0.3,\"#f1b6da\"],[0.4,\"#fde0ef\"],[0.5,\"#f7f7f7\"],[0.6,\"#e6f5d0\"],[0.7,\"#b8e186\"],[0.8,\"#7fbc41\"],[0.9,\"#4d9221\"],[1,\"#276419\"]]},\"xaxis\":{\"gridcolor\":\"white\",\"linecolor\":\"white\",\"ticks\":\"\",\"title\":{\"standoff\":15},\"zerolinecolor\":\"white\",\"automargin\":true,\"zerolinewidth\":2},\"yaxis\":{\"gridcolor\":\"white\",\"linecolor\":\"white\",\"ticks\":\"\",\"title\":{\"standoff\":15},\"zerolinecolor\":\"white\",\"automargin\":true,\"zerolinewidth\":2},\"scene\":{\"xaxis\":{\"backgroundcolor\":\"#E5ECF6\",\"gridcolor\":\"white\",\"linecolor\":\"white\",\"showbackground\":true,\"ticks\":\"\",\"zerolinecolor\":\"white\",\"gridwidth\":2},\"yaxis\":{\"backgroundcolor\":\"#E5ECF6\",\"gridcolor\":\"white\",\"linecolor\":\"white\",\"showbackground\":true,\"ticks\":\"\",\"zerolinecolor\":\"white\",\"gridwidth\":2},\"zaxis\":{\"backgroundcolor\":\"#E5ECF6\",\"gridcolor\":\"white\",\"linecolor\":\"white\",\"showbackground\":true,\"ticks\":\"\",\"zerolinecolor\":\"white\",\"gridwidth\":2}},\"shapedefaults\":{\"line\":{\"color\":\"#2a3f5f\"}},\"annotationdefaults\":{\"arrowcolor\":\"#2a3f5f\",\"arrowhead\":0,\"arrowwidth\":1},\"geo\":{\"bgcolor\":\"white\",\"landcolor\":\"#E5ECF6\",\"subunitcolor\":\"white\",\"showland\":true,\"showlakes\":true,\"lakecolor\":\"white\"},\"title\":{\"x\":0.05},\"mapbox\":{\"style\":\"light\"}}},\"shapes\":[{\"line\":{\"color\":\"#C16200\",\"width\":2},\"name\":\"Predicted 9\",\"type\":\"rect\",\"x0\":4.825,\"x1\":4.575,\"y0\":-145.9590672204873,\"y1\":-136.92470256317378},{\"line\":{\"color\":\"#738282\",\"width\":2},\"name\":\"Predicted 8\",\"type\":\"rect\",\"x0\":4.825,\"x1\":4.575,\"y0\":-132.22064769537937,\"y1\":-122.7106742314336},{\"line\":{\"color\":\"#E1E074\",\"width\":2},\"name\":\"Predicted 7\",\"type\":\"rect\",\"x0\":4.825,\"x1\":4.575,\"y0\":-120.36707425632451,\"y1\":-111.8240357943773},{\"line\":{\"color\":\"#D682C6\",\"width\":2},\"name\":\"Predicted 6\",\"type\":\"rect\",\"x0\":4.825,\"x1\":4.575,\"y0\":-106.8312446590883,\"y1\":-98.62864474620643},{\"line\":{\"color\":\"#64DEDC\",\"width\":2},\"name\":\"Predicted 5\",\"type\":\"rect\",\"x0\":4.825,\"x1\":4.575,\"y0\":-93.61786116449908,\"y1\":-83.46226127235965},{\"line\":{\"color\":\"#FF707D\",\"width\":2},\"name\":\"Predicted 4\",\"type\":\"rect\",\"x0\":4.825,\"x1\":4.575,\"y0\":-75.57347835036546,\"y1\":-66.08035980399592},{\"line\":{\"color\":\"#5CC878\",\"width\":2},\"name\":\"Predicted 3\",\"type\":\"rect\",\"x0\":4.825,\"x1\":4.575,\"y0\":-61.189432397063854,\"y1\":-51.11884131570512},{\"fillcolor\":\"#F4F4CC\",\"line\":{\"color\":\"grey\",\"width\":1},\"name\":\"Cadotte 2\",\"type\":\"rect\",\"x0\":5.125,\"x1\":4.875,\"y0\":-69.79948722337343,\"y1\":-85.80586124746875},{\"fillcolor\":\"#F4F4CC\",\"line\":{\"color\":\"grey\",\"width\":1},\"name\":\"Cadotte 3\",\"type\":\"rect\",\"x0\":5.125,\"x1\":4.875,\"y0\":-96.9044529470558,\"y1\":-116.42622693381476},{\"fillcolor\":\"#F4F4CC\",\"line\":{\"color\":\"grey\",\"width\":1},\"name\":\"Cadotte 4\",\"type\":\"rect\",\"x0\":5.125,\"x1\":4.875,\"y0\":-126.92226537501958,\"y1\":-132.22064769537937},{\"fillcolor\":\"#5CC878\",\"line\":{\"color\":\"#5CC878\",\"width\":2},\"name\":\"Predicted 3\",\"type\":\"rect\",\"x0\":5.175,\"x1\":5.425,\"y0\":-63.24429610467838,\"y1\":-56.213496179351075},{\"fillcolor\":\"#E1E074\",\"line\":{\"color\":\"#E1E074\",\"width\":2},\"name\":\"Predicted 7\",\"type\":\"rect\",\"x0\":5.175,\"x1\":5.425,\"y0\":-122.81253795979056,\"y1\":-114.66009949369484},{\"fillcolor\":\"#738282\",\"line\":{\"color\":\"#738282\",\"width\":2},\"name\":\"Predicted 8\",\"type\":\"rect\",\"x0\":5.175,\"x1\":5.425,\"y0\":-133.49431141129085,\"y1\":-127.80532909507954},{\"line\":{\"color\":\"#C16200\",\"width\":2},\"name\":\"Predicted 9\",\"type\":\"rect\",\"x0\":10.825,\"x1\":10.575,\"y0\":-141.9628239151473,\"y1\":-131.95979178130133},{\"line\":{\"color\":\"#738282\",\"width\":2},\"name\":\"Predicted 8\",\"type\":\"rect\",\"x0\":10.825,\"x1\":10.575,\"y0\":-127.61193782890348,\"y1\":-120.09648345699983},{\"line\":{\"color\":\"#E1E074\",\"width\":2},\"name\":\"Predicted 7\",\"type\":\"rect\",\"x0\":10.825,\"x1\":10.575,\"y0\":-115.47630001292434,\"y1\":-107.11190881712407},{\"line\":{\"color\":\"#D682C6\",\"width\":2},\"name\":\"Predicted 6\",\"type\":\"rect\",\"x0\":10.825,\"x1\":10.575,\"y0\":-103.20590915663212,\"y1\":-92.74454016493873},{\"line\":{\"color\":\"#64DEDC\",\"width\":2},\"name\":\"Predicted 5\",\"type\":\"rect\",\"x0\":10.825,\"x1\":10.575,\"y0\":-88.0573405723484,\"y1\":-78.29234142111854},{\"line\":{\"color\":\"#FF707D\",\"width\":2},\"name\":\"Predicted 4\",\"type\":\"rect\",\"x0\":10.825,\"x1\":10.575,\"y0\":-72.04274196433143,\"y1\":-61.292696298060285},{\"line\":{\"color\":\"#5CC878\",\"width\":2},\"name\":\"Predicted 3\",\"type\":\"rect\",\"x0\":10.825,\"x1\":10.575,\"y0\":-55.72237348190012,\"y1\":-46.26181282790614},{\"fillcolor\":\"#F4F4CC\",\"line\":{\"color\":\"grey\",\"width\":1},\"name\":\"Cadotte 2\",\"type\":\"rect\",\"x0\":11.125,\"x1\":10.875,\"y0\":-58.16789656966673,\"y1\":-74.38634176062659},{\"fillcolor\":\"#F4F4CC\",\"line\":{\"color\":\"grey\",\"width\":1},\"name\":\"Cadotte 3\",\"type\":\"rect\",\"x0\":11.125,\"x1\":10.875,\"y0\":-75.55814165877418,\"y1\":-93.91634006308632},{\"fillcolor\":\"#F4F4CC\",\"line\":{\"color\":\"grey\",\"width\":1},\"name\":\"Cadotte 4\",\"type\":\"rect\",\"x0\":11.125,\"x1\":10.875,\"y0\":-105.5495089529273,\"y1\":-126.6268913138622},{\"fillcolor\":\"#5CC878\",\"line\":{\"color\":\"#5CC878\",\"width\":2},\"name\":\"Predicted 3\",\"type\":\"rect\",\"x0\":11.175,\"x1\":11.425,\"y0\":-59.83221972533496,\"y1\":-48.70733591567276},{\"fillcolor\":\"#E1E074\",\"line\":{\"color\":\"#E1E074\",\"width\":2},\"name\":\"Predicted 7\",\"type\":\"rect\",\"x0\":11.175,\"x1\":11.425,\"y0\":-115.4164313956286,\"y1\":-110.33863183698908},{\"fillcolor\":\"#738282\",\"line\":{\"color\":\"#738282\",\"width\":2},\"name\":\"Predicted 8\",\"type\":\"rect\",\"x0\":11.175,\"x1\":11.425,\"y0\":-130.8899151746252,\"y1\":-122.84777641918082},{\"fillcolor\":\"#C16200\",\"line\":{\"color\":\"#C16200\",\"width\":2},\"name\":\"Predicted 9\",\"type\":\"rect\",\"x0\":11.175,\"x1\":11.425,\"y0\":-145.10471684337747,\"y1\":-135.8828846416299},{\"line\":{\"color\":\"#C16200\",\"width\":2},\"name\":\"Predicted 9\",\"type\":\"rect\",\"x0\":7.825,\"x1\":7.575,\"y0\":-154.75549192536542,\"y1\":-146.61990544175583},{\"line\":{\"color\":\"#738282\",\"width\":2},\"name\":\"Predicted 8\",\"type\":\"rect\",\"x0\":7.825,\"x1\":7.575,\"y0\":-136.59123847032382,\"y1\":-128.3886354281981},{\"line\":{\"color\":\"#E1E074\",\"width\":2},\"name\":\"Predicted 7\",\"type\":\"rect\",\"x0\":7.825,\"x1\":7.575,\"y0\":-120.1691463042144,\"y1\":-111.37220000386502},{\"line\":{\"color\":\"#D682C6\",\"width\":2},\"name\":\"Predicted 6\",\"type\":\"rect\",\"x0\":7.825,\"x1\":7.575,\"y0\":-102.2696390334748,\"y1\":-95.03509331257791},{\"line\":{\"color\":\"#64DEDC\",\"width\":2},\"name\":\"Predicted 5\",\"type\":\"rect\",\"x0\":7.825,\"x1\":7.575,\"y0\":-88.87047646959014,\"y1\":-78.39237195124997},{\"line\":{\"color\":\"#FF707D\",\"width\":2},\"name\":\"Predicted 4\",\"type\":\"rect\",\"x0\":7.825,\"x1\":7.575,\"y0\":-71.34468326185566,\"y1\":-64.0932514591008},{\"line\":{\"color\":\"#5CC878\",\"width\":2},\"name\":\"Predicted 3\",\"type\":\"rect\",\"x0\":7.825,\"x1\":7.575,\"y0\":-57.72489150275247,\"y1\":-46.82241467583319},{\"fillcolor\":\"#F4F4CC\",\"line\":{\"color\":\"grey\",\"width\":1},\"name\":\"Cadotte 2\",\"type\":\"rect\",\"x0\":8.125,\"x1\":7.875,\"y0\":-64.0932514591008,\"y1\":-79.76791549919992},{\"fillcolor\":\"#F4F4CC\",\"line\":{\"color\":\"grey\",\"width\":1},\"name\":\"Cadotte 3\",\"type\":\"rect\",\"x0\":8.125,\"x1\":7.875,\"y0\":-83.38518835964835,\"y1\":-97.37869418175669},{\"fillcolor\":\"#F4F4CC\",\"line\":{\"color\":\"grey\",\"width\":1},\"name\":\"Cadotte 4\",\"type\":\"rect\",\"x0\":8.125,\"x1\":7.875,\"y0\":-100.89409548552484,\"y1\":-116.05940174222256},{\"fillcolor\":\"#F4F4CC\",\"line\":{\"color\":\"grey\",\"width\":1},\"name\":\"Cadotte 5\",\"type\":\"rect\",\"x0\":8.125,\"x1\":7.875,\"y0\":-119.676674602671,\"y1\":-135.81003818059756},{\"fillcolor\":\"#F4F4CC\",\"line\":{\"color\":\"grey\",\"width\":1},\"name\":\"Cadotte 6\",\"type\":\"rect\",\"x0\":8.125,\"x1\":7.875,\"y0\":-136.98183861518694,\"y1\":-153.97429163563916},{\"fillcolor\":\"#5CC878\",\"line\":{\"color\":\"#5CC878\",\"width\":2},\"name\":\"Predicted 3\",\"type\":\"rect\",\"x0\":8.175,\"x1\":8.425,\"y0\":-61.44403591988119,\"y1\":-49.86223035991593},{\"fillcolor\":\"#D682C6\",\"line\":{\"color\":\"#D682C6\",\"width\":2},\"name\":\"Predicted 6\",\"type\":\"rect\",\"x0\":8.175,\"x1\":8.425,\"y0\":-105.10571160419696,\"y1\":-105.10571160419696},{\"fillcolor\":\"#E1E074\",\"line\":{\"color\":\"#E1E074\",\"width\":2},\"name\":\"Predicted 7\",\"type\":\"rect\",\"x0\":8.175,\"x1\":8.425,\"y0\":-124.17701930952596,\"y1\":-118.79360275626446},{\"line\":{\"color\":\"#C16200\",\"width\":2},\"name\":\"Predicted 9\",\"type\":\"rect\",\"x0\":6.825,\"x1\":6.575,\"y0\":-143.90977935928592,\"y1\":-132.513150737898},{\"line\":{\"color\":\"#738282\",\"width\":2},\"name\":\"Predicted 8\",\"type\":\"rect\",\"x0\":6.825,\"x1\":6.575,\"y0\":-129.84596810666784,\"y1\":-122.11875466558976},{\"line\":{\"color\":\"#E1E074\",\"width\":2},\"name\":\"Predicted 7\",\"type\":\"rect\",\"x0\":6.825,\"x1\":6.575,\"y0\":-118.21275619719071,\"y1\":-110.01015941355271},{\"line\":{\"color\":\"#D682C6\",\"width\":2},\"name\":\"Predicted 6\",\"type\":\"rect\",\"x0\":6.825,\"x1\":6.575,\"y0\":-105.32296125147386,\"y1\":-95.63275659347008},{\"line\":{\"color\":\"#64DEDC\",\"width\":2},\"name\":\"Predicted 5\",\"type\":\"rect\",\"x0\":6.825,\"x1\":6.575,\"y0\":-90.9284031434046,\"y1\":-83.98238939600634},{\"line\":{\"color\":\"#FF707D\",\"width\":2},\"name\":\"Predicted 4\",\"type\":\"rect\",\"x0\":6.825,\"x1\":6.575,\"y0\":-78.2929586848478,\"y1\":-66.40457176229388},{\"line\":{\"color\":\"#5CC878\",\"width\":2},\"name\":\"Predicted 3\",\"type\":\"rect\",\"x0\":6.825,\"x1\":6.575,\"y0\":-61.58051232945094,\"y1\":-49.11463486233428},{\"fillcolor\":\"#F4F4CC\",\"line\":{\"color\":\"grey\",\"width\":1},\"name\":\"Cadotte 2\",\"type\":\"rect\",\"x0\":7.125,\"x1\":6.875,\"y0\":-58.931096897291646,\"y1\":-72.67132459971897},{\"fillcolor\":\"#F4F4CC\",\"line\":{\"color\":\"grey\",\"width\":1},\"name\":\"Cadotte 3\",\"type\":\"rect\",\"x0\":7.125,\"x1\":6.875,\"y0\":-77.01922036062146,\"y1\":-90.5378032965647},{\"fillcolor\":\"#F4F4CC\",\"line\":{\"color\":\"grey\",\"width\":1},\"name\":\"Cadotte 4\",\"type\":\"rect\",\"x0\":7.125,\"x1\":6.875,\"y0\":-93.57781857556392,\"y1\":-106.49476079199356},{\"fillcolor\":\"#F4F4CC\",\"line\":{\"color\":\"grey\",\"width\":1},\"name\":\"Cadotte 5\",\"type\":\"rect\",\"x0\":7.125,\"x1\":6.875,\"y0\":-109.2289597198729,\"y1\":-121.33755497190997},{\"fillcolor\":\"#F4F4CC\",\"line\":{\"color\":\"grey\",\"width\":1},\"name\":\"Cadotte 6\",\"type\":\"rect\",\"x0\":7.125,\"x1\":6.875,\"y0\":-124.07175389978929,\"y1\":-137.89676509793665},{\"fillcolor\":\"#5CC878\",\"line\":{\"color\":\"#5CC878\",\"width\":2},\"name\":\"Predicted 3\",\"type\":\"rect\",\"x0\":7.175,\"x1\":7.425,\"y0\":-59.81423537467807,\"y1\":-52.25658892504009},{\"line\":{\"color\":\"#C16200\",\"width\":2},\"name\":\"Predicted 9\",\"type\":\"rect\",\"x0\":3.825,\"x1\":3.575,\"y0\":-160.1796028981018,\"y1\":-151.80807428854723},{\"line\":{\"color\":\"#738282\",\"width\":2},\"name\":\"Predicted 8\",\"type\":\"rect\",\"x0\":3.825,\"x1\":3.575,\"y0\":-144.20025846199007,\"y1\":-131.75236987521964},{\"line\":{\"color\":\"#E1E074\",\"width\":2},\"name\":\"Predicted 7\",\"type\":\"rect\",\"x0\":3.825,\"x1\":3.575,\"y0\":-123.1256277651727,\"y1\":-116.0670695138438},{\"line\":{\"color\":\"#D682C6\",\"width\":2},\"name\":\"Predicted 6\",\"type\":\"rect\",\"x0\":3.825,\"x1\":3.575,\"y0\":-111.7704702151282,\"y1\":-103.08377917394414},{\"line\":{\"color\":\"#64DEDC\",\"width\":2},\"name\":\"Predicted 5\",\"type\":\"rect\",\"x0\":3.825,\"x1\":3.575,\"y0\":-98.46359616667696,\"y1\":-87.35658482056668},{\"line\":{\"color\":\"#FF707D\",\"width\":2},\"name\":\"Predicted 4\",\"type\":\"rect\",\"x0\":3.825,\"x1\":3.575,\"y0\":-80.3506899227311,\"y1\":-68.20833010537672},{\"line\":{\"color\":\"#5CC878\",\"width\":2},\"name\":\"Predicted 3\",\"type\":\"rect\",\"x0\":3.825,\"x1\":3.575,\"y0\":-61.63643059970281,\"y1\":-50.81945944952833},{\"fillcolor\":\"#F4F4CC\",\"line\":{\"color\":\"grey\",\"width\":1},\"name\":\"Cadotte 2\",\"type\":\"rect\",\"x0\":4.125,\"x1\":3.875,\"y0\":-68.20833010537672,\"y1\":-86.86414196118112},{\"fillcolor\":\"#F4F4CC\",\"line\":{\"color\":\"grey\",\"width\":1},\"name\":\"Cadotte 3\",\"type\":\"rect\",\"x0\":4.125,\"x1\":3.875,\"y0\":-89.63316821035262,\"y1\":-103.08377917394414},{\"fillcolor\":\"#F4F4CC\",\"line\":{\"color\":\"grey\",\"width\":1},\"name\":\"Cadotte 4\",\"type\":\"rect\",\"x0\":4.125,\"x1\":3.875,\"y0\":-105.0116566194848,\"y1\":-121.79203610215627},{\"fillcolor\":\"#F4F4CC\",\"line\":{\"color\":\"grey\",\"width\":1},\"name\":\"Cadotte 5\",\"type\":\"rect\",\"x0\":4.125,\"x1\":3.875,\"y0\":-123.51622770141957,\"y1\":-138.30771590567122},{\"fillcolor\":\"#F4F4CC\",\"line\":{\"color\":\"grey\",\"width\":1},\"name\":\"Cadotte 6\",\"type\":\"rect\",\"x0\":4.125,\"x1\":3.875,\"y0\":-140.07380149693608,\"y1\":-157.71738860117398},{\"fillcolor\":\"#5CC878\",\"line\":{\"color\":\"#5CC878\",\"width\":2},\"name\":\"Predicted 3\",\"type\":\"rect\",\"x0\":4.175,\"x1\":4.425,\"y0\":-63.69127320407586,\"y1\":-52.87430205390138},{\"fillcolor\":\"#E1E074\",\"line\":{\"color\":\"#E1E074\",\"width\":2},\"name\":\"Predicted 7\",\"type\":\"rect\",\"x0\":4.175,\"x1\":4.425,\"y0\":-127.42222706388829,\"y1\":-127.0316271276414},{\"line\":{\"color\":\"#C16200\",\"width\":2},\"name\":\"Predicted 9\",\"type\":\"rect\",\"x0\":2.825,\"x1\":2.575,\"y0\":-143.50078158723773,\"y1\":-131.54515115489863},{\"line\":{\"color\":\"#738282\",\"width\":2},\"name\":\"Predicted 8\",\"type\":\"rect\",\"x0\":2.825,\"x1\":2.575,\"y0\":-126.55230171826638,\"y1\":-118.02611664375031},{\"line\":{\"color\":\"#E1E074\",\"width\":2},\"name\":\"Predicted 7\",\"type\":\"rect\",\"x0\":2.825,\"x1\":2.575,\"y0\":-112.64266712185956,\"y1\":-104.72878261217971},{\"line\":{\"color\":\"#D682C6\",\"width\":2},\"name\":\"Predicted 6\",\"type\":\"rect\",\"x0\":2.825,\"x1\":2.575,\"y0\":-98.27541563902368,\"y1\":-88.5953651792896},{\"line\":{\"color\":\"#64DEDC\",\"width\":2},\"name\":\"Predicted 5\",\"type\":\"rect\",\"x0\":2.825,\"x1\":2.575,\"y0\":-84.58748152219461,\"y1\":-75.6886312329775},{\"line\":{\"color\":\"#FF707D\",\"width\":2},\"name\":\"Predicted 4\",\"type\":\"rect\",\"x0\":2.825,\"x1\":2.575,\"y0\":-69.52398154056978,\"y1\":-59.72511714354344},{\"line\":{\"color\":\"#5CC878\",\"width\":2},\"name\":\"Predicted 3\",\"type\":\"rect\",\"x0\":2.825,\"x1\":2.575,\"y0\":-55.91117592632342,\"y1\":-46.60479441906575},{\"fillcolor\":\"#F4F4CC\",\"line\":{\"color\":\"grey\",\"width\":1},\"name\":\"Cadotte 2\",\"type\":\"rect\",\"x0\":3.125,\"x1\":2.875,\"y0\":-61.49128309359767,\"y1\":-76.86043148875295},{\"fillcolor\":\"#F4F4CC\",\"line\":{\"color\":\"grey\",\"width\":1},\"name\":\"Cadotte 3\",\"type\":\"rect\",\"x0\":3.125,\"x1\":2.875,\"y0\":-78.81343191504537,\"y1\":-96.2205324082211},{\"fillcolor\":\"#F4F4CC\",\"line\":{\"color\":\"grey\",\"width\":1},\"name\":\"Cadotte 4\",\"type\":\"rect\",\"x0\":3.125,\"x1\":2.875,\"y0\":-107.1742659282408,\"y1\":-110.68966669556714},{\"fillcolor\":\"#F4F4CC\",\"line\":{\"color\":\"grey\",\"width\":1},\"name\":\"Cadotte 5\",\"type\":\"rect\",\"x0\":3.125,\"x1\":2.875,\"y0\":-122.71331766685212,\"y1\":-126.94290180352486},{\"fillcolor\":\"#5CC878\",\"line\":{\"color\":\"#5CC878\",\"width\":2},\"name\":\"Predicted 3\",\"type\":\"rect\",\"x0\":3.175,\"x1\":3.425,\"y0\":-52.68449243974541,\"y1\":-49.050277735126805},{\"fillcolor\":\"#738282\",\"line\":{\"color\":\"#738282\",\"width\":2},\"name\":\"Predicted 8\",\"type\":\"rect\",\"x0\":3.175,\"x1\":3.425,\"y0\":-130.47523370363336,\"y1\":-123.20580055662076},{\"fillcolor\":\"#C16200\",\"line\":{\"color\":\"#C16200\",\"width\":2},\"name\":\"Predicted 9\",\"type\":\"rect\",\"x0\":3.175,\"x1\":3.425,\"y0\":-145.32685637482578,\"y1\":-133.3113171049529},{\"line\":{\"color\":\"#C16200\",\"width\":2},\"name\":\"Predicted 9\",\"type\":\"rect\",\"x0\":12.825,\"x1\":12.575,\"y0\":-155.1127346729961,\"y1\":-146.38391719636945},{\"line\":{\"color\":\"#738282\",\"width\":2},\"name\":\"Predicted 8\",\"type\":\"rect\",\"x0\":12.825,\"x1\":12.575,\"y0\":-142.17231158333766,\"y1\":-132.0848318620989},{\"line\":{\"color\":\"#E1E074\",\"width\":2},\"name\":\"Predicted 7\",\"type\":\"rect\",\"x0\":12.825,\"x1\":12.575,\"y0\":-125.90224927843164,\"y1\":-113.5899137544032},{\"line\":{\"color\":\"#D682C6\",\"width\":2},\"name\":\"Predicted 6\",\"type\":\"rect\",\"x0\":12.825,\"x1\":12.575,\"y0\":-108.4102458330062,\"y1\":-98.441509926459},{\"line\":{\"color\":\"#64DEDC\",\"width\":2},\"name\":\"Predicted 5\",\"type\":\"rect\",\"x0\":12.825,\"x1\":12.575,\"y0\":-94.4336418138026,\"y1\":-82.58002484720096},{\"line\":{\"color\":\"#FF707D\",\"width\":2},\"name\":\"Predicted 4\",\"type\":\"rect\",\"x0\":12.825,\"x1\":12.575,\"y0\":-77.58721936167542,\"y1\":-67.58473332612046},{\"line\":{\"color\":\"#5CC878\",\"width\":2},\"name\":\"Predicted 3\",\"type\":\"rect\",\"x0\":12.825,\"x1\":12.575,\"y0\":-62.676921526278726,\"y1\":-51.55277701376193},{\"fillcolor\":\"#F4F4CC\",\"line\":{\"color\":\"grey\",\"width\":1},\"name\":\"Cadotte 2\",\"type\":\"rect\",\"x0\":13.125,\"x1\":12.875,\"y0\":-84.24429334237614,\"y1\":-90.71450488720536},{\"fillcolor\":\"#F4F4CC\",\"line\":{\"color\":\"grey\",\"width\":1},\"name\":\"Cadotte 3\",\"type\":\"rect\",\"x0\":13.125,\"x1\":12.875,\"y0\":-104.79297765659663,\"y1\":-110.07451432818137},{\"fillcolor\":\"#F4F4CC\",\"line\":{\"color\":\"grey\",\"width\":1},\"name\":\"Cadotte 4\",\"type\":\"rect\",\"x0\":13.125,\"x1\":12.875,\"y0\":-122.1831123518344,\"y1\":-127.46464902341911},{\"fillcolor\":\"#F4F4CC\",\"line\":{\"color\":\"grey\",\"width\":1},\"name\":\"Cadotte 5\",\"type\":\"rect\",\"x0\":13.125,\"x1\":12.875,\"y0\":-141.39111171084392,\"y1\":-163.65468971375128},{\"fillcolor\":\"#5CC878\",\"line\":{\"color\":\"#5CC878\",\"width\":2},\"name\":\"Predicted 3\",\"type\":\"rect\",\"x0\":13.175,\"x1\":13.425,\"y0\":-65.03739620826384,\"y1\":-54.30385163199393},{\"fillcolor\":\"#FF707D\",\"line\":{\"color\":\"#FF707D\",\"width\":2},\"name\":\"Predicted 4\",\"type\":\"rect\",\"x0\":13.175,\"x1\":13.425,\"y0\":-79.2514878568506,\"y1\":-72.98501381239676},{\"fillcolor\":\"#64DEDC\",\"line\":{\"color\":\"#64DEDC\",\"width\":2},\"name\":\"Predicted 5\",\"type\":\"rect\",\"x0\":13.175,\"x1\":13.425,\"y0\":-93.65244194130884,\"y1\":-90.3239049509585},{\"fillcolor\":\"#D682C6\",\"line\":{\"color\":\"#D682C6\",\"width\":2},\"name\":\"Predicted 6\",\"type\":\"rect\",\"x0\":13.175,\"x1\":13.425,\"y0\":-110.17638307836906,\"y1\":-107.62904596051244},{\"fillcolor\":\"#E1E074\",\"line\":{\"color\":\"#E1E074\",\"width\":2},\"name\":\"Predicted 7\",\"type\":\"rect\",\"x0\":13.175,\"x1\":13.425,\"y0\":-126.78531790111306,\"y1\":-119.94138148454086},{\"line\":{\"color\":\"#C16200\",\"width\":2},\"name\":\"Predicted 9\",\"type\":\"rect\",\"x0\":5.825,\"x1\":5.575,\"y0\":-128.90231674347382,\"y1\":-123.7225965982174},{\"line\":{\"color\":\"#738282\",\"width\":2},\"name\":\"Predicted 8\",\"type\":\"rect\",\"x0\":5.825,\"x1\":5.575,\"y0\":-120.39395676947362,\"y1\":-112.191356230743},{\"line\":{\"color\":\"#E1E074\",\"width\":2},\"name\":\"Predicted 7\",\"type\":\"rect\",\"x0\":5.825,\"x1\":5.575,\"y0\":-107.50415592289691,\"y1\":-100.48124485595406},{\"line\":{\"color\":\"#D682C6\",\"width\":2},\"name\":\"Predicted 6\",\"type\":\"rect\",\"x0\":5.825,\"x1\":5.575,\"y0\":-94.1297246337361,\"y1\":-87.36132852714003},{\"line\":{\"color\":\"#64DEDC\",\"width\":2},\"name\":\"Predicted 5\",\"type\":\"rect\",\"x0\":5.825,\"x1\":5.575,\"y0\":-81.97776875837053,\"y1\":-72.97688894695995},{\"line\":{\"color\":\"#FF707D\",\"width\":2},\"name\":\"Predicted 4\",\"type\":\"rect\",\"x0\":5.825,\"x1\":5.575,\"y0\":-65.64032904992125,\"y1\":-58.50760877639561},{\"line\":{\"color\":\"#5CC878\",\"width\":2},\"name\":\"Predicted 3\",\"type\":\"rect\",\"x0\":5.825,\"x1\":5.575,\"y0\":-53.49682489666504,\"y1\":-43.71474503394675},{\"fillcolor\":\"#F4F4CC\",\"line\":{\"color\":\"grey\",\"width\":1},\"name\":\"Cadotte 2\",\"type\":\"rect\",\"x0\":6.125,\"x1\":5.875,\"y0\":-58.50760877639561,\"y1\":-76.10168915219066},{\"fillcolor\":\"#F4F4CC\",\"line\":{\"color\":\"grey\",\"width\":1},\"name\":\"Cadotte 3\",\"type\":\"rect\",\"x0\":6.125,\"x1\":5.875,\"y0\":-84.13460851015279,\"y1\":-88.92372862975539},{\"fillcolor\":\"#F4F4CC\",\"line\":{\"color\":\"grey\",\"width\":1},\"name\":\"Cadotte 4\",\"type\":\"rect\",\"x0\":6.125,\"x1\":5.875,\"y0\":-97.7470446763772,\"y1\":-103.1904764193324},{\"fillcolor\":\"#F4F4CC\",\"line\":{\"color\":\"grey\",\"width\":1},\"name\":\"Cadotte 5\",\"type\":\"rect\",\"x0\":6.125,\"x1\":5.875,\"y0\":-113.36315630770451,\"y1\":-127.33991664085848},{\"fillcolor\":\"#5CC878\",\"line\":{\"color\":\"#5CC878\",\"width\":2},\"name\":\"Predicted 3\",\"type\":\"rect\",\"x0\":6.175,\"x1\":6.425,\"y0\":-54.66862497362656,\"y1\":-47.2301452648313},{\"fillcolor\":\"#FF707D\",\"line\":{\"color\":\"#FF707D\",\"width\":2},\"name\":\"Predicted 4\",\"type\":\"rect\",\"x0\":6.175,\"x1\":6.425,\"y0\":-66.42152910122893,\"y1\":-61.24180895597248},{\"fillcolor\":\"#64DEDC\",\"line\":{\"color\":\"#64DEDC\",\"width\":2},\"name\":\"Predicted 5\",\"type\":\"rect\",\"x0\":6.175,\"x1\":6.425,\"y0\":-81.97776875837053,\"y1\":-78.05468928045985},{\"line\":{\"color\":\"#C16200\",\"width\":2},\"name\":\"Predicted 9\",\"type\":\"rect\",\"x0\":11.825,\"x1\":11.575,\"y0\":-151.5290305107862,\"y1\":-141.47477349894103},{\"line\":{\"color\":\"#738282\",\"width\":2},\"name\":\"Predicted 8\",\"type\":\"rect\",\"x0\":11.825,\"x1\":11.575,\"y0\":-136.10771939591905,\"y1\":-126.3926499093546},{\"line\":{\"color\":\"#E1E074\",\"width\":2},\"name\":\"Predicted 7\",\"type\":\"rect\",\"x0\":11.825,\"x1\":11.575,\"y0\":-123.26784875044956,\"y1\":-115.6846543102437},{\"line\":{\"color\":\"#D682C6\",\"width\":2},\"name\":\"Predicted 6\",\"type\":\"rect\",\"x0\":11.825,\"x1\":11.575,\"y0\":-109.64677781525388,\"y1\":-100.3572123990772},{\"line\":{\"color\":\"#64DEDC\",\"width\":2},\"name\":\"Predicted 5\",\"type\":\"rect\",\"x0\":11.825,\"x1\":11.575,\"y0\":-94.7868896762185,\"y1\":-84.95355668815981},{\"line\":{\"color\":\"#FF707D\",\"width\":2},\"name\":\"Predicted 4\",\"type\":\"rect\",\"x0\":11.825,\"x1\":11.575,\"y0\":-78.85580920013847,\"y1\":-68.13861540006151},{\"line\":{\"color\":\"#5CC878\",\"width\":2},\"name\":\"Predicted 3\",\"type\":\"rect\",\"x0\":11.825,\"x1\":11.575,\"y0\":-63.23048963791767,\"y1\":-49.710765457318224},{\"fillcolor\":\"#F4F4CC\",\"line\":{\"color\":\"grey\",\"width\":1},\"name\":\"Cadotte 2\",\"type\":\"rect\",\"x0\":12.125,\"x1\":11.875,\"y0\":-83.57791486402061,\"y1\":-103.0914134131191},{\"fillcolor\":\"#F4F4CC\",\"line\":{\"color\":\"grey\",\"width\":1},\"name\":\"Cadotte 3\",\"type\":\"rect\",\"x0\":12.125,\"x1\":11.875,\"y0\":-104.26321384770849,\"y1\":-122.09604831586016},{\"fillcolor\":\"#F4F4CC\",\"line\":{\"color\":\"grey\",\"width\":1},\"name\":\"Cadotte 4\",\"type\":\"rect\",\"x0\":12.125,\"x1\":11.875,\"y0\":-132.74417292193957,\"y1\":-153.78779331942658},{\"fillcolor\":\"#5CC878\",\"line\":{\"color\":\"#5CC878\",\"width\":2},\"name\":\"Predicted 3\",\"type\":\"rect\",\"x0\":12.175,\"x1\":12.425,\"y0\":-62.83988949305454,\"y1\":-51.57892812109547},{\"fillcolor\":\"#FF707D\",\"line\":{\"color\":\"#FF707D\",\"width\":2},\"name\":\"Predicted 4\",\"type\":\"rect\",\"x0\":12.175,\"x1\":12.425,\"y0\":-76.20644624663498,\"y1\":-74.17649189505134},{\"line\":{\"color\":\"#C16200\",\"width\":2},\"name\":\"Predicted 9\",\"type\":\"rect\",\"x0\":8.825,\"x1\":8.575,\"y0\":-150.823097419206,\"y1\":-142.27988873539775},{\"line\":{\"color\":\"#738282\",\"width\":2},\"name\":\"Predicted 8\",\"type\":\"rect\",\"x0\":8.825,\"x1\":8.575,\"y0\":-135.96191281152895,\"y1\":-125.24480461266543},{\"line\":{\"color\":\"#E1E074\",\"width\":2},\"name\":\"Predicted 7\",\"type\":\"rect\",\"x0\":8.825,\"x1\":8.575,\"y0\":-122.40867773660229,\"y1\":-112.76075185852092},{\"line\":{\"color\":\"#D682C6\",\"width\":2},\"name\":\"Predicted 6\",\"type\":\"rect\",\"x0\":8.825,\"x1\":8.575,\"y0\":-107.68295346217197,\"y1\":-97.98497255285076},{\"line\":{\"color\":\"#64DEDC\",\"width\":2},\"name\":\"Predicted 5\",\"type\":\"rect\",\"x0\":8.825,\"x1\":8.575,\"y0\":-92.51657427985955,\"y1\":-83.68460978176232},{\"line\":{\"color\":\"#FF707D\",\"width\":2},\"name\":\"Predicted 4\",\"type\":\"rect\",\"x0\":8.825,\"x1\":8.575,\"y0\":-76.0422455647968,\"y1\":-66.63362636212723},{\"line\":{\"color\":\"#5CC878\",\"width\":2},\"name\":\"Predicted 3\",\"type\":\"rect\",\"x0\":8.825,\"x1\":8.575,\"y0\":-61.827389021224874,\"y1\":-47.884093533099545},{\"fillcolor\":\"#F4F4CC\",\"line\":{\"color\":\"grey\",\"width\":1},\"name\":\"Cadotte 2\",\"type\":\"rect\",\"x0\":9.125,\"x1\":8.875,\"y0\":-62.81244425364447,\"y1\":-84.07520965840455},{\"fillcolor\":\"#F4F4CC\",\"line\":{\"color\":\"grey\",\"width\":1},\"name\":\"Cadotte 3\",\"type\":\"rect\",\"x0\":9.125,\"x1\":8.875,\"y0\":-97.59437267620852,\"y1\":-120.45567835339114},{\"fillcolor\":\"#F4F4CC\",\"line\":{\"color\":\"grey\",\"width\":1},\"name\":\"Cadotte 4\",\"type\":\"rect\",\"x0\":9.125,\"x1\":8.875,\"y0\":-132.78584698242602,\"y1\":-139.00189516672725},{\"fillcolor\":\"#5CC878\",\"line\":{\"color\":\"#5CC878\",\"width\":2},\"name\":\"Predicted 3\",\"type\":\"rect\",\"x0\":9.175,\"x1\":9.425,\"y0\":-64.37484376021338,\"y1\":-54.35465812013838},{\"line\":{\"color\":\"#C16200\",\"width\":2},\"name\":\"Predicted 9\",\"type\":\"rect\",\"x0\":9.825,\"x1\":9.575,\"y0\":-147.74535501296089,\"y1\":-139.13502785278763},{\"line\":{\"color\":\"#738282\",\"width\":2},\"name\":\"Predicted 8\",\"type\":\"rect\",\"x0\":9.825,\"x1\":9.575,\"y0\":-132.1042247088095,\"y1\":-125.07342156483138},{\"line\":{\"color\":\"#E1E074\",\"width\":2},\"name\":\"Predicted 7\",\"type\":\"rect\",\"x0\":9.825,\"x1\":9.575,\"y0\":-121.45608911979262,\"y1\":-112.94769283266906},{\"line\":{\"color\":\"#D682C6\",\"width\":2},\"name\":\"Predicted 6\",\"type\":\"rect\",\"x0\":9.825,\"x1\":9.575,\"y0\":-108.3452982922,\"y1\":-96.8639248533391},{\"line\":{\"color\":\"#64DEDC\",\"width\":2},\"name\":\"Predicted 5\",\"type\":\"rect\",\"x0\":9.825,\"x1\":9.575,\"y0\":-92.074791884304,\"y1\":-83.17579542251498},{\"line\":{\"color\":\"#FF707D\",\"width\":2},\"name\":\"Predicted 4\",\"type\":\"rect\",\"x0\":9.825,\"x1\":9.575,\"y0\":-77.40160035804958,\"y1\":-68.34081215396279},{\"line\":{\"color\":\"#5CC878\",\"width\":2},\"name\":\"Predicted 3\",\"type\":\"rect\",\"x0\":9.825,\"x1\":9.575,\"y0\":-63.94227935959312,\"y1\":-48.25769734123759},{\"fillcolor\":\"#F4F4CC\",\"line\":{\"color\":\"grey\",\"width\":1},\"name\":\"Cadotte 2\",\"type\":\"rect\",\"x0\":10.125,\"x1\":9.875,\"y0\":-63.55167918492767,\"y1\":-78.57340088204593},{\"fillcolor\":\"#F4F4CC\",\"line\":{\"color\":\"grey\",\"width\":1},\"name\":\"Cadotte 3\",\"type\":\"rect\",\"x0\":10.125,\"x1\":9.875,\"y0\":-81.61339472385318,\"y1\":-94.80899310696216},{\"fillcolor\":\"#F4F4CC\",\"line\":{\"color\":\"grey\",\"width\":1},\"name\":\"Cadotte 4\",\"type\":\"rect\",\"x0\":10.125,\"x1\":9.875,\"y0\":-98.6301872981003,\"y1\":-111.96263073723875},{\"fillcolor\":\"#F4F4CC\",\"line\":{\"color\":\"grey\",\"width\":1},\"name\":\"Cadotte 5\",\"type\":\"rect\",\"x0\":10.125,\"x1\":9.875,\"y0\":-115.68189405532722,\"y1\":-128.58882313682045},{\"fillcolor\":\"#F4F4CC\",\"line\":{\"color\":\"grey\",\"width\":1},\"name\":\"Cadotte 6\",\"type\":\"rect\",\"x0\":10.125,\"x1\":9.875,\"y0\":-131.71362453414406,\"y1\":-148.5265553622918},{\"fillcolor\":\"#5CC878\",\"line\":{\"color\":\"#5CC878\",\"width\":2},\"name\":\"Predicted 3\",\"type\":\"rect\",\"x0\":10.175,\"x1\":10.425,\"y0\":-65.60661093130463,\"y1\":-55.824483247135014},{\"fillcolor\":\"#FF707D\",\"line\":{\"color\":\"#FF707D\",\"width\":2},\"name\":\"Predicted 4\",\"type\":\"rect\",\"x0\":10.175,\"x1\":10.425,\"y0\":-78.67533175509563,\"y1\":-70.88827494805489},{\"fillcolor\":\"#64DEDC\",\"line\":{\"color\":\"#64DEDC\",\"width\":2},\"name\":\"Predicted 5\",\"type\":\"rect\",\"x0\":10.175,\"x1\":10.425,\"y0\":-92.9579231066846,\"y1\":-87.67625908993433},{\"fillcolor\":\"#D682C6\",\"line\":{\"color\":\"#D682C6\",\"width\":2},\"name\":\"Predicted 6\",\"type\":\"rect\",\"x0\":10.175,\"x1\":10.425,\"y0\":-109.2284295145806,\"y1\":-102.34945061618876},{\"fillcolor\":\"#E1E074\",\"line\":{\"color\":\"#E1E074\",\"width\":2},\"name\":\"Predicted 7\",\"type\":\"rect\",\"x0\":10.175,\"x1\":10.425,\"y0\":-124.39415208855016,\"y1\":-116.95562545237328},{\"fillcolor\":\"#738282\",\"line\":{\"color\":\"#738282\",\"width\":2},\"name\":\"Predicted 8\",\"type\":\"rect\",\"x0\":10.175,\"x1\":10.425,\"y0\":-136.50275750317917,\"y1\":-130.6437548831974},{\"fillcolor\":\"#C16200\",\"line\":{\"color\":\"#C16200\",\"width\":2},\"name\":\"Predicted 9\",\"type\":\"rect\",\"x0\":10.175,\"x1\":10.425,\"y0\":-152.34774955342994,\"y1\":-145.48656152048454},{\"line\":{\"color\":\"#C16200\",\"width\":2},\"name\":\"Predicted 9\",\"type\":\"rect\",\"x0\":13.825,\"x1\":13.575,\"y0\":-143.46787182337275,\"y1\":-136.94661340563093},{\"line\":{\"color\":\"#738282\",\"width\":2},\"name\":\"Predicted 8\",\"type\":\"rect\",\"x0\":13.825,\"x1\":13.575,\"y0\":-129.78025225362825,\"y1\":-121.25521448237608},{\"line\":{\"color\":\"#E1E074\",\"width\":2},\"name\":\"Predicted 7\",\"type\":\"rect\",\"x0\":13.825,\"x1\":13.575,\"y0\":-115.10716864809504,\"y1\":-106.90456498012055},{\"line\":{\"color\":\"#D682C6\",\"width\":2},\"name\":\"Predicted 6\",\"type\":\"rect\",\"x0\":13.825,\"x1\":13.575,\"y0\":-101.43616253480424,\"y1\":-91.36557204904948},{\"line\":{\"color\":\"#64DEDC\",\"width\":2},\"name\":\"Predicted 5\",\"type\":\"rect\",\"x0\":13.825,\"x1\":13.575,\"y0\":-86.96710808802337,\"y1\":-75.50414501470073},{\"line\":{\"color\":\"#FF707D\",\"width\":2},\"name\":\"Predicted 4\",\"type\":\"rect\",\"x0\":13.825,\"x1\":13.575,\"y0\":-70.3244807043437,\"y1\":-60.7965209702839},{\"line\":{\"color\":\"#5CC878\",\"width\":2},\"name\":\"Predicted 3\",\"type\":\"rect\",\"x0\":13.825,\"x1\":13.575,\"y0\":-55.80373275518,\"y1\":-43.15212117370181},{\"fillcolor\":\"#F4F4CC\",\"line\":{\"color\":\"grey\",\"width\":1},\"name\":\"Cadotte 2\",\"type\":\"rect\",\"x0\":14.125,\"x1\":13.875,\"y0\":-66.5705095347187,\"y1\":-73.94174431603892},{\"fillcolor\":\"#F4F4CC\",\"line\":{\"color\":\"grey\",\"width\":1},\"name\":\"Cadotte 3\",\"type\":\"rect\",\"x0\":14.125,\"x1\":13.875,\"y0\":-85.09912127024307,\"y1\":-102.99856323346606},{\"fillcolor\":\"#F4F4CC\",\"line\":{\"color\":\"grey\",\"width\":1},\"name\":\"Cadotte 4\",\"type\":\"rect\",\"x0\":14.125,\"x1\":13.875,\"y0\":-105.34216428145876,\"y1\":-119.30221360904883},{\"fillcolor\":\"#F4F4CC\",\"line\":{\"color\":\"grey\",\"width\":1},\"name\":\"Cadotte 5\",\"type\":\"rect\",\"x0\":14.125,\"x1\":13.875,\"y0\":-120.86461430771064,\"y1\":-137.33721358029638},{\"fillcolor\":\"#5CC878\",\"line\":{\"color\":\"#5CC878\",\"width\":2},\"name\":\"Predicted 3\",\"type\":\"rect\",\"x0\":14.175,\"x1\":14.425,\"y0\":-58.35105788258503,\"y1\":-46.19190851547845},{\"fillcolor\":\"#FF707D\",\"line\":{\"color\":\"#FF707D\",\"width\":2},\"name\":\"Predicted 4\",\"type\":\"rect\",\"x0\":14.175,\"x1\":14.425,\"y0\":-68.94895610093502,\"y1\":-64.61750866139144},{\"line\":{\"color\":\"#C16200\",\"width\":2},\"name\":\"Predicted 9\",\"type\":\"rect\",\"x0\":0.825,\"x1\":0.575,\"y0\":-162.22321281935518,\"y1\":-148.4916253167509},{\"line\":{\"color\":\"#738282\",\"width\":2},\"name\":\"Predicted 8\",\"type\":\"rect\",\"x0\":0.825,\"x1\":0.575,\"y0\":-143.4986302646685,\"y1\":-135.66950371981798},{\"line\":{\"color\":\"#E1E074\",\"width\":2},\"name\":\"Predicted 7\",\"type\":\"rect\",\"x0\":0.825,\"x1\":0.575,\"y0\":-129.02930480362116,\"y1\":-118.95851058032942},{\"line\":{\"color\":\"#D682C6\",\"width\":2},\"name\":\"Predicted 6\",\"type\":\"rect\",\"x0\":0.825,\"x1\":0.575,\"y0\":-112.3183116641326,\"y1\":-102.14558550180092},{\"line\":{\"color\":\"#64DEDC\",\"width\":2},\"name\":\"Predicted 5\",\"type\":\"rect\",\"x0\":0.825,\"x1\":0.575,\"y0\":-97.84898620308532,\"y1\":-86.99699210729986},{\"line\":{\"color\":\"#FF707D\",\"width\":2},\"name\":\"Predicted 4\",\"type\":\"rect\",\"x0\":0.825,\"x1\":0.575,\"y0\":-78.09799769274876,\"y1\":-69.16408765114669},{\"line\":{\"color\":\"#5CC878\",\"width\":2},\"name\":\"Predicted 3\",\"type\":\"rect\",\"x0\":0.825,\"x1\":0.575,\"y0\":-64.17109259906431,\"y1\":-50.69402257340456},{\"fillcolor\":\"#F4F4CC\",\"line\":{\"color\":\"grey\",\"width\":1},\"name\":\"Cadotte 2\",\"type\":\"rect\",\"x0\":1.125,\"x1\":0.875,\"y0\":-69.94528752364043,\"y1\":-87.38759204354673},{\"fillcolor\":\"#F4F4CC\",\"line\":{\"color\":\"grey\",\"width\":1},\"name\":\"Cadotte 3\",\"type\":\"rect\",\"x0\":1.125,\"x1\":0.875,\"y0\":-88.55939185228735,\"y1\":-105.66098492802276},{\"fillcolor\":\"#F4F4CC\",\"line\":{\"color\":\"grey\",\"width\":1},\"name\":\"Cadotte 4\",\"type\":\"rect\",\"x0\":1.125,\"x1\":0.875,\"y0\":-108.70098029887076,\"y1\":-124.03630975153877},{\"fillcolor\":\"#F4F4CC\",\"line\":{\"color\":\"grey\",\"width\":1},\"name\":\"Cadotte 5\",\"type\":\"rect\",\"x0\":1.125,\"x1\":0.875,\"y0\":-125.20810956027935,\"y1\":-141.44369864439415},{\"fillcolor\":\"#F4F4CC\",\"line\":{\"color\":\"grey\",\"width\":1},\"name\":\"Cadotte 6\",\"type\":\"rect\",\"x0\":1.125,\"x1\":0.875,\"y0\":-143.10803032842162,\"y1\":-162.22321281935518},{\"fillcolor\":\"#5CC878\",\"line\":{\"color\":\"#5CC878\",\"width\":2},\"name\":\"Predicted 3\",\"type\":\"rect\",\"x0\":1.175,\"x1\":1.425,\"y0\":-66.51469221654554,\"y1\":-54.12461788049945},{\"fillcolor\":\"#FF707D\",\"line\":{\"color\":\"#FF707D\",\"width\":2},\"name\":\"Predicted 4\",\"type\":\"rect\",\"x0\":1.175,\"x1\":1.425,\"y0\":-71.60961920766789,\"y1\":-71.60961920766789},{\"fillcolor\":\"#E1E074\",\"line\":{\"color\":\"#E1E074\",\"width\":2},\"name\":\"Predicted 7\",\"type\":\"rect\",\"x0\":1.175,\"x1\":1.425,\"y0\":-130.59170454860865,\"y1\":-121.30211019781063},{\"line\":{\"color\":\"#C16200\",\"width\":2},\"name\":\"Predicted 9\",\"type\":\"rect\",\"x0\":1.825,\"x1\":1.575,\"y0\":-146.3507442571628,\"y1\":-138.19921398044758},{\"line\":{\"color\":\"#738282\",\"width\":2},\"name\":\"Predicted 8\",\"type\":\"rect\",\"x0\":1.825,\"x1\":1.575,\"y0\":-134.75959097665117,\"y1\":-124.67093025666207},{\"line\":{\"color\":\"#E1E074\",\"width\":2},\"name\":\"Predicted 7\",\"type\":\"rect\",\"x0\":1.825,\"x1\":1.575,\"y0\":-123.19347648001552,\"y1\":-112.7152849456214},{\"line\":{\"color\":\"#D682C6\",\"width\":2},\"name\":\"Predicted 6\",\"type\":\"rect\",\"x0\":1.825,\"x1\":1.575,\"y0\":-109.19988525117866,\"y1\":-101.38788593019476},{\"line\":{\"color\":\"#64DEDC\",\"width\":2},\"name\":\"Predicted 5\",\"type\":\"rect\",\"x0\":1.825,\"x1\":1.575,\"y0\":-93.6608326967611,\"y1\":-85.83189483716112},{\"line\":{\"color\":\"#FF707D\",\"width\":2},\"name\":\"Predicted 4\",\"type\":\"rect\",\"x0\":1.825,\"x1\":1.575,\"y0\":-77.08599534206421,\"y1\":-67.66078054103524},{\"line\":{\"color\":\"#5CC878\",\"width\":2},\"name\":\"Predicted 3\",\"type\":\"rect\",\"x0\":1.825,\"x1\":1.575,\"y0\":-60.29045019641852,\"y1\":-49.03875016256029},{\"fillcolor\":\"#F4F4CC\",\"line\":{\"color\":\"grey\",\"width\":1},\"name\":\"Cadotte 2\",\"type\":\"rect\",\"x0\":2.125,\"x1\":1.875,\"y0\":-62.15850393911429,\"y1\":-78.07096452649525},{\"fillcolor\":\"#F4F4CC\",\"line\":{\"color\":\"grey\",\"width\":1},\"name\":\"Cadotte 3\",\"type\":\"rect\",\"x0\":2.125,\"x1\":1.875,\"y0\":-79.83713364302467,\"y1\":-97.48188626970284},{\"fillcolor\":\"#F4F4CC\",\"line\":{\"color\":\"grey\",\"width\":1},\"name\":\"Cadotte 4\",\"type\":\"rect\",\"x0\":2.125,\"x1\":1.875,\"y0\":-100.60668599809638,\"y1\":-115.46642324658188},{\"fillcolor\":\"#F4F4CC\",\"line\":{\"color\":\"grey\",\"width\":1},\"name\":\"Cadotte 5\",\"type\":\"rect\",\"x0\":2.125,\"x1\":1.875,\"y0\":-117.41942307682784,\"y1\":-131.27799065036268},{\"fillcolor\":\"#F4F4CC\",\"line\":{\"color\":\"grey\",\"width\":1},\"name\":\"Cadotte 6\",\"type\":\"rect\",\"x0\":2.125,\"x1\":1.875,\"y0\":-134.75959097665117,\"y1\":-152.75304395596473},{\"fillcolor\":\"#5CC878\",\"line\":{\"color\":\"#5CC878\",\"width\":2},\"name\":\"Predicted 3\",\"type\":\"rect\",\"x0\":2.175,\"x1\":2.425,\"y0\":-61.33532668452385,\"y1\":-57.751841732069074}],\"xaxis\":{\"title\":{\"text\":\"Subject\"},\"range\":[0,15],\"ticktext\":[\"1\",\"2\",\"3\",\"4\",\"5\",\"6\",\"7\",\"8\",\"9\",\"10\",\"11\",\"12\",\"13\",\"14\"],\"tickvals\":[1,2,3,4,5,6,7,8,9,10,11,12,13,14]},\"yaxis\":{\"title\":{\"text\":\"PMJ distance (PMJ = 0 mm)\"},\"range\":[-167.22321281935518,-38.15212117370181],\"autorange\":\"reversed\",\"dtick\":10},\"title\":{\"text\":\"Nerve rootlet layout\"},\"showlegend\":true},                        {\"responsive\": true}                    ).then(function(){\n                            \nvar gd = document.getElementById('6d236dc7-6dd6-4e3b-ad75-67be91277d62');\nvar x = new MutationObserver(function (mutations, observer) {{\n        var display = window.getComputedStyle(gd).display;\n        if (!display || display === 'none') {{\n            console.log([gd, 'removed!']);\n            Plotly.purge(gd);\n            observer.disconnect();\n        }}\n}});\n\n// Listen for the removal of the full notebook cells\nvar notebookContainer = gd.closest('#notebook-container');\nif (notebookContainer) {{\n    x.observe(notebookContainer, {childList: true});\n}}\n\n// Listen for the clearing of the current output cell\nvar outputEl = gd.closest('.output');\nif (outputEl) {{\n    x.observe(outputEl, {childList: true});\n}}\n\n                        })                };                });            </script>        </div>"
     },
     "metadata": {},
     "output_type": "display_data"
    }
   ],
   "source": [
    "subject = 1\n",
    "#colors = ['#5CC878', '#FF707D', '#64DEDC', '#D682C6', '#E1E074', '#738282', '#C16200', '#197278', '#EF9CDA']\n",
    "colors = {2: '#5B6C5D', 3: '#5CC878', 4: '#FF707D', 5: '#64DEDC', 6: '#D682C6', 7: '#E1E074', 8: '#738282', 9: '#C16200', 10: '#197278', 11: '#EF9CDA'}\n",
    "\n",
    "fig = go.Figure()\n",
    "for i, subject in enumerate(df_root_pd[\"sub_name\"].unique()):\n",
    "    df_root_sub = df_root_pd[df_root_pd[\"sub_name\"] == subject]\n",
    "    df_ver_sub = df_ver_pd[df_ver_pd[\"sub_name\"] == subject]\n",
    "    id = int(subject.split(\"-\")[1])\n",
    "    for idx, level in enumerate(df_root_sub[\"level\"].unique()):\n",
    "        df_level = df_root_sub[df_root_sub[\"level\"] == level]\n",
    "        if not np.isnan(df_level[\"PMJ_start\"].values[0]):\n",
    "            root_s = df_level[\"PMJ_start\"].values[0]\n",
    "            root_e = df_level[\"PMJ_end\"].values[0]\n",
    "            fig.add_shape(\n",
    "                type=\"rect\",\n",
    "                x0=id - 0.175, y0=root_e, x1=id - 0.425, y1=root_s,\n",
    "                line=dict(color=colors[level], width=2),\n",
    "                #fillcolor=colors[level],\n",
    "                name=f\"Predicted {level}\",\n",
    "            )\n",
    "        else:\n",
    "            root_s = np.nan\n",
    "            root_e = np.nan\n",
    "    for idx, level in enumerate(df_ver_sub[\"level\"].unique()[1:]):\n",
    "        df_level = df_ver_sub[df_ver_sub[\"level\"] == level]\n",
    "        if not np.isnan(df_level[\"PMJ_start\"].values[0]):\n",
    "            ver_s = df_level[\"PMJ_start\"].values[0]\n",
    "            ver_e = df_level[\"PMJ_end\"].values[0]\n",
    "            fig.add_shape(\n",
    "                type=\"rect\",\n",
    "                x0=id + 0.125, y0=ver_s, x1=id - 0.125, y1=ver_e,\n",
    "                line=dict(color=\"grey\", width=1),\n",
    "                fillcolor=\"#F4F4CC\",\n",
    "                name=f\"Cadotte {level}\"\n",
    "            )\n",
    "        else:\n",
    "            ver_s = np.nan\n",
    "            ver_e = np.nan\n",
    "    df_pred_sub = pd.read_csv(os.path.join(path_pred , subject + \"_0000_pmj-dist.csv\"))\n",
    "    for idx, level in enumerate(df_pred_sub[\"level\"].unique()[1:]):\n",
    "        df_level = df_pred_sub[df_pred_sub[\"level\"] == level]\n",
    "        try:\n",
    "            if not np.isnan(df_level[\"PMJ_start\"].values[0]):\n",
    "                pred_s = df_level[\"PMJ_start\"].values[0]\n",
    "                pred_e = df_level[\"PMJ_end\"].values[0]\n",
    "                fig.add_shape(\n",
    "                    type=\"rect\",\n",
    "                    x0=id + 0.175, y0=pred_e, x1=id + 0.425, y1=pred_s,\n",
    "                    line=dict(color=colors[level], width=2),\n",
    "                    fillcolor=colors[level],\n",
    "                    name=f\"Predicted {level}\",\n",
    "                )\n",
    "            else:\n",
    "                pred_s = np.nan\n",
    "                pred_e = np.nan\n",
    "        except:\n",
    "            pred_s = np.nan\n",
    "            pred_e = np.nan\n",
    "            pass\n",
    "\n",
    "\n",
    "\n",
    "fig.update_layout(\n",
    "    title=\"Nerve rootlet layout\",\n",
    "    xaxis_title=\"Subject\",\n",
    "    yaxis_title=\"PMJ distance (PMJ = 0 mm)\",\n",
    "    xaxis_range=[0, 15],  # Adjust the x-axis range as needed\n",
    "    yaxis_range=[min(df_root_pd[\"PMJ_end\"]) - 5, max(df_root_pd[\"PMJ_start\"])+5],  # Adjust the y-axis range as needed\n",
    "    yaxis_autorange='reversed',\n",
    "    showlegend=True,\n",
    "    xaxis=dict(ticktext=[str(x) for x in range(1, 15)], tickvals=[*range(1, 15)]),\n",
    "    yaxis=dict(dtick=10)\n",
    ")\n",
    "fig.show()"
   ],
   "metadata": {
    "collapsed": false,
    "ExecuteTime": {
     "end_time": "2023-08-15T17:37:41.321261Z",
     "start_time": "2023-08-15T17:37:36.865734Z"
    }
   }
  },
  {
   "cell_type": "code",
   "execution_count": null,
   "metadata": {},
   "outputs": [],
   "source": []
  }
 ],
 "metadata": {
  "kernelspec": {
   "display_name": "Python 3 (ipykernel)",
   "language": "python",
   "name": "python3"
  },
  "language_info": {
   "codemirror_mode": {
    "name": "ipython",
    "version": 3
   },
   "file_extension": ".py",
   "mimetype": "text/x-python",
   "name": "python",
   "nbconvert_exporter": "python",
   "pygments_lexer": "ipython3",
   "version": "3.9.16"
  }
 },
 "nbformat": 4,
 "nbformat_minor": 4
}
