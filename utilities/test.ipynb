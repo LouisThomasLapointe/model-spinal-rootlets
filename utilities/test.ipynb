{
 "cells": [
  {
   "cell_type": "code",
   "execution_count": 271,
   "metadata": {
    "collapsed": true,
    "ExecuteTime": {
     "end_time": "2023-08-02T16:00:45.744060Z",
     "start_time": "2023-08-02T16:00:45.742688Z"
    }
   },
   "outputs": [],
   "source": [
    "import pandas as pd\n",
    "import plotly.express as px\n",
    "import numpy as np\n",
    "#PATH_pred = \"/Users/theomathieu/Downloads/fullD3_pred/res/dist_pred.csv\"\n",
    "PATH_pred = \"/Users/theomathieu/Downloads/cadotte_15/dist_pred.csv\"\n",
    "#PATH_manual = \"/Users/theomathieu/Downloads/exp/dist.csv\""
   ]
  },
  {
   "cell_type": "code",
   "execution_count": 272,
   "outputs": [],
   "source": [
    "df_pred = pd.read_csv(PATH_pred)\n",
    "df_pred[\"which\"]= \"pred\"\n",
    "#df_manual = pd.read_csv(PATH_manual)\n",
    "#df_manual[\"which\"]= \"manual\""
   ],
   "metadata": {
    "collapsed": false,
    "ExecuteTime": {
     "end_time": "2023-08-02T16:00:47.476844Z",
     "start_time": "2023-08-02T16:00:47.466785Z"
    }
   }
  },
  {
   "cell_type": "code",
   "execution_count": 273,
   "outputs": [
    {
     "data": {
      "text/plain": "   level        sub_name  spinal_start  spinal_end  height  vertebrae_start  \\\n0      2  14493_008_0000           NaN         NaN     NaN                0   \n1      3  14493_008_0000         352.0       358.0  2.3436                0   \n2      4  14493_008_0000           NaN         NaN     NaN                0   \n3      5  14493_008_0000           NaN         NaN     NaN                0   \n4      6  14493_008_0000           NaN         NaN     NaN                0   \n\n   vertebrae_end which  \n0              1  pred  \n1              1  pred  \n2              1  pred  \n3              1  pred  \n4              1  pred  ",
      "text/html": "<div>\n<style scoped>\n    .dataframe tbody tr th:only-of-type {\n        vertical-align: middle;\n    }\n\n    .dataframe tbody tr th {\n        vertical-align: top;\n    }\n\n    .dataframe thead th {\n        text-align: right;\n    }\n</style>\n<table border=\"1\" class=\"dataframe\">\n  <thead>\n    <tr style=\"text-align: right;\">\n      <th></th>\n      <th>level</th>\n      <th>sub_name</th>\n      <th>spinal_start</th>\n      <th>spinal_end</th>\n      <th>height</th>\n      <th>vertebrae_start</th>\n      <th>vertebrae_end</th>\n      <th>which</th>\n    </tr>\n  </thead>\n  <tbody>\n    <tr>\n      <th>0</th>\n      <td>2</td>\n      <td>14493_008_0000</td>\n      <td>NaN</td>\n      <td>NaN</td>\n      <td>NaN</td>\n      <td>0</td>\n      <td>1</td>\n      <td>pred</td>\n    </tr>\n    <tr>\n      <th>1</th>\n      <td>3</td>\n      <td>14493_008_0000</td>\n      <td>352.0</td>\n      <td>358.0</td>\n      <td>2.3436</td>\n      <td>0</td>\n      <td>1</td>\n      <td>pred</td>\n    </tr>\n    <tr>\n      <th>2</th>\n      <td>4</td>\n      <td>14493_008_0000</td>\n      <td>NaN</td>\n      <td>NaN</td>\n      <td>NaN</td>\n      <td>0</td>\n      <td>1</td>\n      <td>pred</td>\n    </tr>\n    <tr>\n      <th>3</th>\n      <td>5</td>\n      <td>14493_008_0000</td>\n      <td>NaN</td>\n      <td>NaN</td>\n      <td>NaN</td>\n      <td>0</td>\n      <td>1</td>\n      <td>pred</td>\n    </tr>\n    <tr>\n      <th>4</th>\n      <td>6</td>\n      <td>14493_008_0000</td>\n      <td>NaN</td>\n      <td>NaN</td>\n      <td>NaN</td>\n      <td>0</td>\n      <td>1</td>\n      <td>pred</td>\n    </tr>\n  </tbody>\n</table>\n</div>"
     },
     "metadata": {},
     "output_type": "display_data"
    },
    {
     "data": {
      "application/vnd.plotly.v1+json": {
       "data": [
        {
         "customdata": [
          [
           "14493_008_0000",
           null
          ],
          [
           "14493_008_0000",
           2.3435996174812317
          ],
          [
           "14493_008_0000",
           null
          ],
          [
           "14493_008_0000",
           null
          ],
          [
           "14493_008_0000",
           null
          ],
          [
           "14493_008_0000",
           null
          ],
          [
           "14493_008_0000",
           null
          ],
          [
           "14493_008_0000",
           null
          ],
          [
           "14493_008_0000",
           null
          ],
          [
           "14493_008_0000",
           null
          ],
          [
           "14492_007_0000",
           null
          ],
          [
           "14492_007_0000",
           0.7812002897262573
          ],
          [
           "14492_007_0000",
           null
          ],
          [
           "14492_007_0000",
           null
          ],
          [
           "14492_007_0000",
           null
          ],
          [
           "14492_007_0000",
           null
          ],
          [
           "14492_007_0000",
           null
          ],
          [
           "14492_007_0000",
           null
          ],
          [
           "14492_007_0000",
           null
          ],
          [
           "14492_007_0000",
           null
          ],
          [
           "14350_011_0000",
           null
          ],
          [
           "14350_011_0000",
           1.5624005794525146
          ],
          [
           "14350_011_0000",
           null
          ],
          [
           "14350_011_0000",
           0.0
          ],
          [
           "14350_011_0000",
           null
          ],
          [
           "14350_011_0000",
           3.515401303768158
          ],
          [
           "14350_011_0000",
           null
          ],
          [
           "14350_011_0000",
           null
          ],
          [
           "14350_011_0000",
           null
          ],
          [
           "14350_011_0000",
           null
          ],
          [
           "14411_013_0000",
           3.1247997283935547
          ],
          [
           "14411_013_0000",
           5.077799558639526
          ],
          [
           "14411_013_0000",
           null
          ],
          [
           "14411_013_0000",
           null
          ],
          [
           "14411_013_0000",
           null
          ],
          [
           "14411_013_0000",
           null
          ],
          [
           "14411_013_0000",
           4.296599626541138
          ],
          [
           "14411_013_0000",
           null
          ],
          [
           "14411_013_0000",
           null
          ],
          [
           "14411_013_0000",
           null
          ],
          [
           "13746_012_0000",
           null
          ],
          [
           "13746_012_0000",
           1.1718002557754517
          ],
          [
           "13746_012_0000",
           null
          ],
          [
           "13746_012_0000",
           null
          ],
          [
           "13746_012_0000",
           null
          ],
          [
           "13746_012_0000",
           null
          ],
          [
           "13746_012_0000",
           2.3436005115509033
          ],
          [
           "13746_012_0000",
           10.936802387237549
          ],
          [
           "13746_012_0000",
           null
          ],
          [
           "13746_012_0000",
           null
          ],
          [
           "13757_004_0000",
           1.5624001026153564
          ],
          [
           "13757_004_0000",
           0.7812000513076782
          ],
          [
           "13757_004_0000",
           null
          ],
          [
           "13757_004_0000",
           null
          ],
          [
           "13757_004_0000",
           null
          ],
          [
           "13757_004_0000",
           null
          ],
          [
           "13757_004_0000",
           null
          ],
          [
           "13757_004_0000",
           null
          ],
          [
           "13757_004_0000",
           null
          ],
          [
           "13757_004_0000",
           null
          ],
          [
           "14348_003_0000",
           null
          ],
          [
           "14348_003_0000",
           null
          ],
          [
           "14348_003_0000",
           null
          ],
          [
           "14348_003_0000",
           null
          ],
          [
           "14348_003_0000",
           null
          ],
          [
           "14348_003_0000",
           null
          ],
          [
           "14348_003_0000",
           null
          ],
          [
           "14348_003_0000",
           null
          ],
          [
           "14348_003_0000",
           null
          ],
          [
           "14348_003_0000",
           null
          ],
          [
           "13755_009_0000",
           null
          ],
          [
           "13755_009_0000",
           null
          ],
          [
           "13755_009_0000",
           null
          ],
          [
           "13755_009_0000",
           null
          ],
          [
           "13755_009_0000",
           null
          ],
          [
           "13755_009_0000",
           2.734199970960617
          ],
          [
           "13755_009_0000",
           3.5153999626636505
          ],
          [
           "13755_009_0000",
           null
          ],
          [
           "13755_009_0000",
           null
          ],
          [
           "13755_009_0000",
           null
          ],
          [
           "13747_010_0000",
           null
          ],
          [
           "13747_010_0000",
           8.593198597431183
          ],
          [
           "13747_010_0000",
           null
          ],
          [
           "13747_010_0000",
           null
          ],
          [
           "13747_010_0000",
           null
          ],
          [
           "13747_010_0000",
           null
          ],
          [
           "13747_010_0000",
           null
          ],
          [
           "13747_010_0000",
           null
          ],
          [
           "13747_010_0000",
           null
          ],
          [
           "13747_010_0000",
           null
          ],
          [
           "14693_002_0000",
           2.3436010479927063
          ],
          [
           "14693_002_0000",
           10.155604541301727
          ],
          [
           "14693_002_0000",
           0.0
          ],
          [
           "14693_002_0000",
           null
          ],
          [
           "14693_002_0000",
           null
          ],
          [
           "14693_002_0000",
           null
          ],
          [
           "14693_002_0000",
           null
          ],
          [
           "14693_002_0000",
           null
          ],
          [
           "14693_002_0000",
           null
          ],
          [
           "14693_002_0000",
           null
          ],
          [
           "14406_001_0000",
           null
          ],
          [
           "14406_001_0000",
           7.811997532844544
          ],
          [
           "14406_001_0000",
           null
          ],
          [
           "14406_001_0000",
           null
          ],
          [
           "14406_001_0000",
           null
          ],
          [
           "14406_001_0000",
           null
          ],
          [
           "14406_001_0000",
           null
          ],
          [
           "14406_001_0000",
           null
          ],
          [
           "14406_001_0000",
           null
          ],
          [
           "14406_001_0000",
           null
          ],
          [
           "13697_005_0000",
           4.296599626541138
          ],
          [
           "13697_005_0000",
           null
          ],
          [
           "13697_005_0000",
           null
          ],
          [
           "13697_005_0000",
           null
          ],
          [
           "13697_005_0000",
           null
          ],
          [
           "13697_005_0000",
           null
          ],
          [
           "13697_005_0000",
           null
          ],
          [
           "13697_005_0000",
           null
          ],
          [
           "13697_005_0000",
           null
          ],
          [
           "13697_005_0000",
           null
          ],
          [
           "13696_006_0000",
           null
          ],
          [
           "13696_006_0000",
           3.1247994899749756
          ],
          [
           "13696_006_0000",
           0.0
          ],
          [
           "13696_006_0000",
           null
          ],
          [
           "13696_006_0000",
           null
          ],
          [
           "13696_006_0000",
           null
          ],
          [
           "13696_006_0000",
           null
          ],
          [
           "13696_006_0000",
           null
          ],
          [
           "13696_006_0000",
           null
          ],
          [
           "13696_006_0000",
           null
          ],
          [
           "14407_000_0000",
           null
          ],
          [
           "14407_000_0000",
           null
          ],
          [
           "14407_000_0000",
           4.2966019213199615
          ],
          [
           "14407_000_0000",
           0.0
          ],
          [
           "14407_000_0000",
           5.077802270650864
          ],
          [
           "14407_000_0000",
           0.390600174665451
          ],
          [
           "14407_000_0000",
           null
          ],
          [
           "14407_000_0000",
           0.0
          ],
          [
           "14407_000_0000",
           null
          ],
          [
           "14407_000_0000",
           null
          ]
         ],
         "hovertemplate": "which=pred<br>level=%{x}<br>z_scores=%{y}<br>sub_name=%{customdata[0]}<br>height=%{customdata[1]}<extra></extra>",
         "legendgroup": "pred",
         "marker": {
          "color": "#636efa",
          "symbol": "circle"
         },
         "mode": "markers",
         "name": "pred",
         "orientation": "v",
         "showlegend": true,
         "x": [
          2,
          3,
          4,
          5,
          6,
          7,
          8,
          9,
          10,
          11,
          2,
          3,
          4,
          5,
          6,
          7,
          8,
          9,
          10,
          11,
          2,
          3,
          4,
          5,
          6,
          7,
          8,
          9,
          10,
          11,
          2,
          3,
          4,
          5,
          6,
          7,
          8,
          9,
          10,
          11,
          2,
          3,
          4,
          5,
          6,
          7,
          8,
          9,
          10,
          11,
          2,
          3,
          4,
          5,
          6,
          7,
          8,
          9,
          10,
          11,
          2,
          3,
          4,
          5,
          6,
          7,
          8,
          9,
          10,
          11,
          2,
          3,
          4,
          5,
          6,
          7,
          8,
          9,
          10,
          11,
          2,
          3,
          4,
          5,
          6,
          7,
          8,
          9,
          10,
          11,
          2,
          3,
          4,
          5,
          6,
          7,
          8,
          9,
          10,
          11,
          2,
          3,
          4,
          5,
          6,
          7,
          8,
          9,
          10,
          11,
          2,
          3,
          4,
          5,
          6,
          7,
          8,
          9,
          10,
          11,
          2,
          3,
          4,
          5,
          6,
          7,
          8,
          9,
          10,
          11,
          2,
          3,
          4,
          5,
          6,
          7,
          8,
          9,
          10,
          11
         ],
         "xaxis": "x",
         "y": [
          null,
          -0.28301988506825193,
          null,
          null,
          null,
          null,
          null,
          null,
          null,
          null,
          null,
          -0.7942809736951411,
          null,
          null,
          null,
          null,
          null,
          null,
          null,
          null,
          null,
          -0.5386502245863424,
          null,
          -1.0499117228039396,
          null,
          0.10042664818565418,
          null,
          null,
          null,
          null,
          -0.02738919447241161,
          0.6116873857347934,
          null,
          null,
          null,
          null,
          0.3560567536519114,
          null,
          null,
          null,
          null,
          -0.6664656576537,
          null,
          null,
          null,
          null,
          -0.28301959250346037,
          2.5289182185982972,
          null,
          null,
          -0.5386503806208979,
          -0.7942810517124188,
          null,
          null,
          null,
          null,
          null,
          null,
          null,
          null,
          null,
          null,
          null,
          null,
          null,
          null,
          null,
          null,
          null,
          null,
          null,
          null,
          null,
          null,
          null,
          -0.1552044422487346,
          0.10042620933846687,
          null,
          null,
          null,
          null,
          1.7620250155602488,
          null,
          null,
          null,
          null,
          null,
          null,
          null,
          null,
          -0.2830194169645855,
          2.273288269166595,
          -1.0499117228039396,
          null,
          null,
          null,
          null,
          null,
          null,
          null,
          null,
          1.5063940128952975,
          null,
          null,
          null,
          null,
          null,
          null,
          null,
          null,
          0.3560567536519114,
          null,
          null,
          null,
          null,
          null,
          null,
          null,
          null,
          null,
          null,
          -0.02738927248968935,
          -1.0499117228039396,
          null,
          null,
          null,
          null,
          null,
          null,
          null,
          null,
          null,
          0.3560575045682097,
          -1.0499117228039396,
          0.6116882731813278,
          -0.9220963384973807,
          null,
          -1.0499117228039396,
          null,
          null
         ],
         "yaxis": "y",
         "type": "scatter"
        }
       ],
       "layout": {
        "template": {
         "data": {
          "histogram2dcontour": [
           {
            "type": "histogram2dcontour",
            "colorbar": {
             "outlinewidth": 0,
             "ticks": ""
            },
            "colorscale": [
             [
              0.0,
              "#0d0887"
             ],
             [
              0.1111111111111111,
              "#46039f"
             ],
             [
              0.2222222222222222,
              "#7201a8"
             ],
             [
              0.3333333333333333,
              "#9c179e"
             ],
             [
              0.4444444444444444,
              "#bd3786"
             ],
             [
              0.5555555555555556,
              "#d8576b"
             ],
             [
              0.6666666666666666,
              "#ed7953"
             ],
             [
              0.7777777777777778,
              "#fb9f3a"
             ],
             [
              0.8888888888888888,
              "#fdca26"
             ],
             [
              1.0,
              "#f0f921"
             ]
            ]
           }
          ],
          "choropleth": [
           {
            "type": "choropleth",
            "colorbar": {
             "outlinewidth": 0,
             "ticks": ""
            }
           }
          ],
          "histogram2d": [
           {
            "type": "histogram2d",
            "colorbar": {
             "outlinewidth": 0,
             "ticks": ""
            },
            "colorscale": [
             [
              0.0,
              "#0d0887"
             ],
             [
              0.1111111111111111,
              "#46039f"
             ],
             [
              0.2222222222222222,
              "#7201a8"
             ],
             [
              0.3333333333333333,
              "#9c179e"
             ],
             [
              0.4444444444444444,
              "#bd3786"
             ],
             [
              0.5555555555555556,
              "#d8576b"
             ],
             [
              0.6666666666666666,
              "#ed7953"
             ],
             [
              0.7777777777777778,
              "#fb9f3a"
             ],
             [
              0.8888888888888888,
              "#fdca26"
             ],
             [
              1.0,
              "#f0f921"
             ]
            ]
           }
          ],
          "heatmap": [
           {
            "type": "heatmap",
            "colorbar": {
             "outlinewidth": 0,
             "ticks": ""
            },
            "colorscale": [
             [
              0.0,
              "#0d0887"
             ],
             [
              0.1111111111111111,
              "#46039f"
             ],
             [
              0.2222222222222222,
              "#7201a8"
             ],
             [
              0.3333333333333333,
              "#9c179e"
             ],
             [
              0.4444444444444444,
              "#bd3786"
             ],
             [
              0.5555555555555556,
              "#d8576b"
             ],
             [
              0.6666666666666666,
              "#ed7953"
             ],
             [
              0.7777777777777778,
              "#fb9f3a"
             ],
             [
              0.8888888888888888,
              "#fdca26"
             ],
             [
              1.0,
              "#f0f921"
             ]
            ]
           }
          ],
          "heatmapgl": [
           {
            "type": "heatmapgl",
            "colorbar": {
             "outlinewidth": 0,
             "ticks": ""
            },
            "colorscale": [
             [
              0.0,
              "#0d0887"
             ],
             [
              0.1111111111111111,
              "#46039f"
             ],
             [
              0.2222222222222222,
              "#7201a8"
             ],
             [
              0.3333333333333333,
              "#9c179e"
             ],
             [
              0.4444444444444444,
              "#bd3786"
             ],
             [
              0.5555555555555556,
              "#d8576b"
             ],
             [
              0.6666666666666666,
              "#ed7953"
             ],
             [
              0.7777777777777778,
              "#fb9f3a"
             ],
             [
              0.8888888888888888,
              "#fdca26"
             ],
             [
              1.0,
              "#f0f921"
             ]
            ]
           }
          ],
          "contourcarpet": [
           {
            "type": "contourcarpet",
            "colorbar": {
             "outlinewidth": 0,
             "ticks": ""
            }
           }
          ],
          "contour": [
           {
            "type": "contour",
            "colorbar": {
             "outlinewidth": 0,
             "ticks": ""
            },
            "colorscale": [
             [
              0.0,
              "#0d0887"
             ],
             [
              0.1111111111111111,
              "#46039f"
             ],
             [
              0.2222222222222222,
              "#7201a8"
             ],
             [
              0.3333333333333333,
              "#9c179e"
             ],
             [
              0.4444444444444444,
              "#bd3786"
             ],
             [
              0.5555555555555556,
              "#d8576b"
             ],
             [
              0.6666666666666666,
              "#ed7953"
             ],
             [
              0.7777777777777778,
              "#fb9f3a"
             ],
             [
              0.8888888888888888,
              "#fdca26"
             ],
             [
              1.0,
              "#f0f921"
             ]
            ]
           }
          ],
          "surface": [
           {
            "type": "surface",
            "colorbar": {
             "outlinewidth": 0,
             "ticks": ""
            },
            "colorscale": [
             [
              0.0,
              "#0d0887"
             ],
             [
              0.1111111111111111,
              "#46039f"
             ],
             [
              0.2222222222222222,
              "#7201a8"
             ],
             [
              0.3333333333333333,
              "#9c179e"
             ],
             [
              0.4444444444444444,
              "#bd3786"
             ],
             [
              0.5555555555555556,
              "#d8576b"
             ],
             [
              0.6666666666666666,
              "#ed7953"
             ],
             [
              0.7777777777777778,
              "#fb9f3a"
             ],
             [
              0.8888888888888888,
              "#fdca26"
             ],
             [
              1.0,
              "#f0f921"
             ]
            ]
           }
          ],
          "mesh3d": [
           {
            "type": "mesh3d",
            "colorbar": {
             "outlinewidth": 0,
             "ticks": ""
            }
           }
          ],
          "scatter": [
           {
            "marker": {
             "line": {
              "color": "#283442"
             }
            },
            "type": "scatter"
           }
          ],
          "parcoords": [
           {
            "type": "parcoords",
            "line": {
             "colorbar": {
              "outlinewidth": 0,
              "ticks": ""
             }
            }
           }
          ],
          "scatterpolargl": [
           {
            "type": "scatterpolargl",
            "marker": {
             "colorbar": {
              "outlinewidth": 0,
              "ticks": ""
             }
            }
           }
          ],
          "bar": [
           {
            "error_x": {
             "color": "#f2f5fa"
            },
            "error_y": {
             "color": "#f2f5fa"
            },
            "marker": {
             "line": {
              "color": "rgb(17,17,17)",
              "width": 0.5
             },
             "pattern": {
              "fillmode": "overlay",
              "size": 10,
              "solidity": 0.2
             }
            },
            "type": "bar"
           }
          ],
          "scattergeo": [
           {
            "type": "scattergeo",
            "marker": {
             "colorbar": {
              "outlinewidth": 0,
              "ticks": ""
             }
            }
           }
          ],
          "scatterpolar": [
           {
            "type": "scatterpolar",
            "marker": {
             "colorbar": {
              "outlinewidth": 0,
              "ticks": ""
             }
            }
           }
          ],
          "histogram": [
           {
            "marker": {
             "pattern": {
              "fillmode": "overlay",
              "size": 10,
              "solidity": 0.2
             }
            },
            "type": "histogram"
           }
          ],
          "scattergl": [
           {
            "marker": {
             "line": {
              "color": "#283442"
             }
            },
            "type": "scattergl"
           }
          ],
          "scatter3d": [
           {
            "type": "scatter3d",
            "line": {
             "colorbar": {
              "outlinewidth": 0,
              "ticks": ""
             }
            },
            "marker": {
             "colorbar": {
              "outlinewidth": 0,
              "ticks": ""
             }
            }
           }
          ],
          "scattermapbox": [
           {
            "type": "scattermapbox",
            "marker": {
             "colorbar": {
              "outlinewidth": 0,
              "ticks": ""
             }
            }
           }
          ],
          "scatterternary": [
           {
            "type": "scatterternary",
            "marker": {
             "colorbar": {
              "outlinewidth": 0,
              "ticks": ""
             }
            }
           }
          ],
          "scattercarpet": [
           {
            "type": "scattercarpet",
            "marker": {
             "colorbar": {
              "outlinewidth": 0,
              "ticks": ""
             }
            }
           }
          ],
          "carpet": [
           {
            "aaxis": {
             "endlinecolor": "#A2B1C6",
             "gridcolor": "#506784",
             "linecolor": "#506784",
             "minorgridcolor": "#506784",
             "startlinecolor": "#A2B1C6"
            },
            "baxis": {
             "endlinecolor": "#A2B1C6",
             "gridcolor": "#506784",
             "linecolor": "#506784",
             "minorgridcolor": "#506784",
             "startlinecolor": "#A2B1C6"
            },
            "type": "carpet"
           }
          ],
          "table": [
           {
            "cells": {
             "fill": {
              "color": "#506784"
             },
             "line": {
              "color": "rgb(17,17,17)"
             }
            },
            "header": {
             "fill": {
              "color": "#2a3f5f"
             },
             "line": {
              "color": "rgb(17,17,17)"
             }
            },
            "type": "table"
           }
          ],
          "barpolar": [
           {
            "marker": {
             "line": {
              "color": "rgb(17,17,17)",
              "width": 0.5
             },
             "pattern": {
              "fillmode": "overlay",
              "size": 10,
              "solidity": 0.2
             }
            },
            "type": "barpolar"
           }
          ],
          "pie": [
           {
            "automargin": true,
            "type": "pie"
           }
          ]
         },
         "layout": {
          "autotypenumbers": "strict",
          "colorway": [
           "#636efa",
           "#EF553B",
           "#00cc96",
           "#ab63fa",
           "#FFA15A",
           "#19d3f3",
           "#FF6692",
           "#B6E880",
           "#FF97FF",
           "#FECB52"
          ],
          "font": {
           "color": "#f2f5fa"
          },
          "hovermode": "closest",
          "hoverlabel": {
           "align": "left"
          },
          "paper_bgcolor": "rgb(17,17,17)",
          "plot_bgcolor": "rgb(17,17,17)",
          "polar": {
           "bgcolor": "rgb(17,17,17)",
           "angularaxis": {
            "gridcolor": "#506784",
            "linecolor": "#506784",
            "ticks": ""
           },
           "radialaxis": {
            "gridcolor": "#506784",
            "linecolor": "#506784",
            "ticks": ""
           }
          },
          "ternary": {
           "bgcolor": "rgb(17,17,17)",
           "aaxis": {
            "gridcolor": "#506784",
            "linecolor": "#506784",
            "ticks": ""
           },
           "baxis": {
            "gridcolor": "#506784",
            "linecolor": "#506784",
            "ticks": ""
           },
           "caxis": {
            "gridcolor": "#506784",
            "linecolor": "#506784",
            "ticks": ""
           }
          },
          "coloraxis": {
           "colorbar": {
            "outlinewidth": 0,
            "ticks": ""
           }
          },
          "colorscale": {
           "sequential": [
            [
             0.0,
             "#0d0887"
            ],
            [
             0.1111111111111111,
             "#46039f"
            ],
            [
             0.2222222222222222,
             "#7201a8"
            ],
            [
             0.3333333333333333,
             "#9c179e"
            ],
            [
             0.4444444444444444,
             "#bd3786"
            ],
            [
             0.5555555555555556,
             "#d8576b"
            ],
            [
             0.6666666666666666,
             "#ed7953"
            ],
            [
             0.7777777777777778,
             "#fb9f3a"
            ],
            [
             0.8888888888888888,
             "#fdca26"
            ],
            [
             1.0,
             "#f0f921"
            ]
           ],
           "sequentialminus": [
            [
             0.0,
             "#0d0887"
            ],
            [
             0.1111111111111111,
             "#46039f"
            ],
            [
             0.2222222222222222,
             "#7201a8"
            ],
            [
             0.3333333333333333,
             "#9c179e"
            ],
            [
             0.4444444444444444,
             "#bd3786"
            ],
            [
             0.5555555555555556,
             "#d8576b"
            ],
            [
             0.6666666666666666,
             "#ed7953"
            ],
            [
             0.7777777777777778,
             "#fb9f3a"
            ],
            [
             0.8888888888888888,
             "#fdca26"
            ],
            [
             1.0,
             "#f0f921"
            ]
           ],
           "diverging": [
            [
             0,
             "#8e0152"
            ],
            [
             0.1,
             "#c51b7d"
            ],
            [
             0.2,
             "#de77ae"
            ],
            [
             0.3,
             "#f1b6da"
            ],
            [
             0.4,
             "#fde0ef"
            ],
            [
             0.5,
             "#f7f7f7"
            ],
            [
             0.6,
             "#e6f5d0"
            ],
            [
             0.7,
             "#b8e186"
            ],
            [
             0.8,
             "#7fbc41"
            ],
            [
             0.9,
             "#4d9221"
            ],
            [
             1,
             "#276419"
            ]
           ]
          },
          "xaxis": {
           "gridcolor": "#283442",
           "linecolor": "#506784",
           "ticks": "",
           "title": {
            "standoff": 15
           },
           "zerolinecolor": "#283442",
           "automargin": true,
           "zerolinewidth": 2
          },
          "yaxis": {
           "gridcolor": "#283442",
           "linecolor": "#506784",
           "ticks": "",
           "title": {
            "standoff": 15
           },
           "zerolinecolor": "#283442",
           "automargin": true,
           "zerolinewidth": 2
          },
          "scene": {
           "xaxis": {
            "backgroundcolor": "rgb(17,17,17)",
            "gridcolor": "#506784",
            "linecolor": "#506784",
            "showbackground": true,
            "ticks": "",
            "zerolinecolor": "#C8D4E3",
            "gridwidth": 2
           },
           "yaxis": {
            "backgroundcolor": "rgb(17,17,17)",
            "gridcolor": "#506784",
            "linecolor": "#506784",
            "showbackground": true,
            "ticks": "",
            "zerolinecolor": "#C8D4E3",
            "gridwidth": 2
           },
           "zaxis": {
            "backgroundcolor": "rgb(17,17,17)",
            "gridcolor": "#506784",
            "linecolor": "#506784",
            "showbackground": true,
            "ticks": "",
            "zerolinecolor": "#C8D4E3",
            "gridwidth": 2
           }
          },
          "shapedefaults": {
           "line": {
            "color": "#f2f5fa"
           }
          },
          "annotationdefaults": {
           "arrowcolor": "#f2f5fa",
           "arrowhead": 0,
           "arrowwidth": 1
          },
          "geo": {
           "bgcolor": "rgb(17,17,17)",
           "landcolor": "rgb(17,17,17)",
           "subunitcolor": "#506784",
           "showland": true,
           "showlakes": true,
           "lakecolor": "rgb(17,17,17)"
          },
          "title": {
           "x": 0.05
          },
          "updatemenudefaults": {
           "bgcolor": "#506784",
           "borderwidth": 0
          },
          "sliderdefaults": {
           "bgcolor": "#C8D4E3",
           "borderwidth": 1,
           "bordercolor": "rgb(17,17,17)",
           "tickwidth": 0
          },
          "mapbox": {
           "style": "dark"
          }
         }
        },
        "xaxis": {
         "anchor": "y",
         "domain": [
          0.0,
          1.0
         ],
         "title": {
          "text": "level"
         }
        },
        "yaxis": {
         "anchor": "x",
         "domain": [
          0.0,
          1.0
         ],
         "title": {
          "text": "z_scores"
         }
        },
        "legend": {
         "title": {
          "text": "which"
         },
         "tracegroupgap": 0
        },
        "margin": {
         "t": 60
        }
       },
       "config": {
        "plotlyServerURL": "https://plot.ly"
       }
      },
      "text/html": "<div>                            <div id=\"ba717e7a-746b-4256-bebb-a0a1c08eecbf\" class=\"plotly-graph-div\" style=\"height:525px; width:100%;\"></div>            <script type=\"text/javascript\">                require([\"plotly\"], function(Plotly) {                    window.PLOTLYENV=window.PLOTLYENV || {};                                    if (document.getElementById(\"ba717e7a-746b-4256-bebb-a0a1c08eecbf\")) {                    Plotly.newPlot(                        \"ba717e7a-746b-4256-bebb-a0a1c08eecbf\",                        [{\"customdata\":[[\"14493_008_0000\",null],[\"14493_008_0000\",2.3435996174812317],[\"14493_008_0000\",null],[\"14493_008_0000\",null],[\"14493_008_0000\",null],[\"14493_008_0000\",null],[\"14493_008_0000\",null],[\"14493_008_0000\",null],[\"14493_008_0000\",null],[\"14493_008_0000\",null],[\"14492_007_0000\",null],[\"14492_007_0000\",0.7812002897262573],[\"14492_007_0000\",null],[\"14492_007_0000\",null],[\"14492_007_0000\",null],[\"14492_007_0000\",null],[\"14492_007_0000\",null],[\"14492_007_0000\",null],[\"14492_007_0000\",null],[\"14492_007_0000\",null],[\"14350_011_0000\",null],[\"14350_011_0000\",1.5624005794525146],[\"14350_011_0000\",null],[\"14350_011_0000\",0.0],[\"14350_011_0000\",null],[\"14350_011_0000\",3.515401303768158],[\"14350_011_0000\",null],[\"14350_011_0000\",null],[\"14350_011_0000\",null],[\"14350_011_0000\",null],[\"14411_013_0000\",3.1247997283935547],[\"14411_013_0000\",5.077799558639526],[\"14411_013_0000\",null],[\"14411_013_0000\",null],[\"14411_013_0000\",null],[\"14411_013_0000\",null],[\"14411_013_0000\",4.296599626541138],[\"14411_013_0000\",null],[\"14411_013_0000\",null],[\"14411_013_0000\",null],[\"13746_012_0000\",null],[\"13746_012_0000\",1.1718002557754517],[\"13746_012_0000\",null],[\"13746_012_0000\",null],[\"13746_012_0000\",null],[\"13746_012_0000\",null],[\"13746_012_0000\",2.3436005115509033],[\"13746_012_0000\",10.936802387237549],[\"13746_012_0000\",null],[\"13746_012_0000\",null],[\"13757_004_0000\",1.5624001026153564],[\"13757_004_0000\",0.7812000513076782],[\"13757_004_0000\",null],[\"13757_004_0000\",null],[\"13757_004_0000\",null],[\"13757_004_0000\",null],[\"13757_004_0000\",null],[\"13757_004_0000\",null],[\"13757_004_0000\",null],[\"13757_004_0000\",null],[\"14348_003_0000\",null],[\"14348_003_0000\",null],[\"14348_003_0000\",null],[\"14348_003_0000\",null],[\"14348_003_0000\",null],[\"14348_003_0000\",null],[\"14348_003_0000\",null],[\"14348_003_0000\",null],[\"14348_003_0000\",null],[\"14348_003_0000\",null],[\"13755_009_0000\",null],[\"13755_009_0000\",null],[\"13755_009_0000\",null],[\"13755_009_0000\",null],[\"13755_009_0000\",null],[\"13755_009_0000\",2.734199970960617],[\"13755_009_0000\",3.5153999626636505],[\"13755_009_0000\",null],[\"13755_009_0000\",null],[\"13755_009_0000\",null],[\"13747_010_0000\",null],[\"13747_010_0000\",8.593198597431183],[\"13747_010_0000\",null],[\"13747_010_0000\",null],[\"13747_010_0000\",null],[\"13747_010_0000\",null],[\"13747_010_0000\",null],[\"13747_010_0000\",null],[\"13747_010_0000\",null],[\"13747_010_0000\",null],[\"14693_002_0000\",2.3436010479927063],[\"14693_002_0000\",10.155604541301727],[\"14693_002_0000\",0.0],[\"14693_002_0000\",null],[\"14693_002_0000\",null],[\"14693_002_0000\",null],[\"14693_002_0000\",null],[\"14693_002_0000\",null],[\"14693_002_0000\",null],[\"14693_002_0000\",null],[\"14406_001_0000\",null],[\"14406_001_0000\",7.811997532844544],[\"14406_001_0000\",null],[\"14406_001_0000\",null],[\"14406_001_0000\",null],[\"14406_001_0000\",null],[\"14406_001_0000\",null],[\"14406_001_0000\",null],[\"14406_001_0000\",null],[\"14406_001_0000\",null],[\"13697_005_0000\",4.296599626541138],[\"13697_005_0000\",null],[\"13697_005_0000\",null],[\"13697_005_0000\",null],[\"13697_005_0000\",null],[\"13697_005_0000\",null],[\"13697_005_0000\",null],[\"13697_005_0000\",null],[\"13697_005_0000\",null],[\"13697_005_0000\",null],[\"13696_006_0000\",null],[\"13696_006_0000\",3.1247994899749756],[\"13696_006_0000\",0.0],[\"13696_006_0000\",null],[\"13696_006_0000\",null],[\"13696_006_0000\",null],[\"13696_006_0000\",null],[\"13696_006_0000\",null],[\"13696_006_0000\",null],[\"13696_006_0000\",null],[\"14407_000_0000\",null],[\"14407_000_0000\",null],[\"14407_000_0000\",4.2966019213199615],[\"14407_000_0000\",0.0],[\"14407_000_0000\",5.077802270650864],[\"14407_000_0000\",0.390600174665451],[\"14407_000_0000\",null],[\"14407_000_0000\",0.0],[\"14407_000_0000\",null],[\"14407_000_0000\",null]],\"hovertemplate\":\"which=pred\\u003cbr\\u003elevel=%{x}\\u003cbr\\u003ez_scores=%{y}\\u003cbr\\u003esub_name=%{customdata[0]}\\u003cbr\\u003eheight=%{customdata[1]}\\u003cextra\\u003e\\u003c\\u002fextra\\u003e\",\"legendgroup\":\"pred\",\"marker\":{\"color\":\"#636efa\",\"symbol\":\"circle\"},\"mode\":\"markers\",\"name\":\"pred\",\"orientation\":\"v\",\"showlegend\":true,\"x\":[2,3,4,5,6,7,8,9,10,11,2,3,4,5,6,7,8,9,10,11,2,3,4,5,6,7,8,9,10,11,2,3,4,5,6,7,8,9,10,11,2,3,4,5,6,7,8,9,10,11,2,3,4,5,6,7,8,9,10,11,2,3,4,5,6,7,8,9,10,11,2,3,4,5,6,7,8,9,10,11,2,3,4,5,6,7,8,9,10,11,2,3,4,5,6,7,8,9,10,11,2,3,4,5,6,7,8,9,10,11,2,3,4,5,6,7,8,9,10,11,2,3,4,5,6,7,8,9,10,11,2,3,4,5,6,7,8,9,10,11],\"xaxis\":\"x\",\"y\":[null,-0.28301988506825193,null,null,null,null,null,null,null,null,null,-0.7942809736951411,null,null,null,null,null,null,null,null,null,-0.5386502245863424,null,-1.0499117228039396,null,0.10042664818565418,null,null,null,null,-0.02738919447241161,0.6116873857347934,null,null,null,null,0.3560567536519114,null,null,null,null,-0.6664656576537,null,null,null,null,-0.28301959250346037,2.5289182185982972,null,null,-0.5386503806208979,-0.7942810517124188,null,null,null,null,null,null,null,null,null,null,null,null,null,null,null,null,null,null,null,null,null,null,null,-0.1552044422487346,0.10042620933846687,null,null,null,null,1.7620250155602488,null,null,null,null,null,null,null,null,-0.2830194169645855,2.273288269166595,-1.0499117228039396,null,null,null,null,null,null,null,null,1.5063940128952975,null,null,null,null,null,null,null,null,0.3560567536519114,null,null,null,null,null,null,null,null,null,null,-0.02738927248968935,-1.0499117228039396,null,null,null,null,null,null,null,null,null,0.3560575045682097,-1.0499117228039396,0.6116882731813278,-0.9220963384973807,null,-1.0499117228039396,null,null],\"yaxis\":\"y\",\"type\":\"scatter\"}],                        {\"template\":{\"data\":{\"histogram2dcontour\":[{\"type\":\"histogram2dcontour\",\"colorbar\":{\"outlinewidth\":0,\"ticks\":\"\"},\"colorscale\":[[0.0,\"#0d0887\"],[0.1111111111111111,\"#46039f\"],[0.2222222222222222,\"#7201a8\"],[0.3333333333333333,\"#9c179e\"],[0.4444444444444444,\"#bd3786\"],[0.5555555555555556,\"#d8576b\"],[0.6666666666666666,\"#ed7953\"],[0.7777777777777778,\"#fb9f3a\"],[0.8888888888888888,\"#fdca26\"],[1.0,\"#f0f921\"]]}],\"choropleth\":[{\"type\":\"choropleth\",\"colorbar\":{\"outlinewidth\":0,\"ticks\":\"\"}}],\"histogram2d\":[{\"type\":\"histogram2d\",\"colorbar\":{\"outlinewidth\":0,\"ticks\":\"\"},\"colorscale\":[[0.0,\"#0d0887\"],[0.1111111111111111,\"#46039f\"],[0.2222222222222222,\"#7201a8\"],[0.3333333333333333,\"#9c179e\"],[0.4444444444444444,\"#bd3786\"],[0.5555555555555556,\"#d8576b\"],[0.6666666666666666,\"#ed7953\"],[0.7777777777777778,\"#fb9f3a\"],[0.8888888888888888,\"#fdca26\"],[1.0,\"#f0f921\"]]}],\"heatmap\":[{\"type\":\"heatmap\",\"colorbar\":{\"outlinewidth\":0,\"ticks\":\"\"},\"colorscale\":[[0.0,\"#0d0887\"],[0.1111111111111111,\"#46039f\"],[0.2222222222222222,\"#7201a8\"],[0.3333333333333333,\"#9c179e\"],[0.4444444444444444,\"#bd3786\"],[0.5555555555555556,\"#d8576b\"],[0.6666666666666666,\"#ed7953\"],[0.7777777777777778,\"#fb9f3a\"],[0.8888888888888888,\"#fdca26\"],[1.0,\"#f0f921\"]]}],\"heatmapgl\":[{\"type\":\"heatmapgl\",\"colorbar\":{\"outlinewidth\":0,\"ticks\":\"\"},\"colorscale\":[[0.0,\"#0d0887\"],[0.1111111111111111,\"#46039f\"],[0.2222222222222222,\"#7201a8\"],[0.3333333333333333,\"#9c179e\"],[0.4444444444444444,\"#bd3786\"],[0.5555555555555556,\"#d8576b\"],[0.6666666666666666,\"#ed7953\"],[0.7777777777777778,\"#fb9f3a\"],[0.8888888888888888,\"#fdca26\"],[1.0,\"#f0f921\"]]}],\"contourcarpet\":[{\"type\":\"contourcarpet\",\"colorbar\":{\"outlinewidth\":0,\"ticks\":\"\"}}],\"contour\":[{\"type\":\"contour\",\"colorbar\":{\"outlinewidth\":0,\"ticks\":\"\"},\"colorscale\":[[0.0,\"#0d0887\"],[0.1111111111111111,\"#46039f\"],[0.2222222222222222,\"#7201a8\"],[0.3333333333333333,\"#9c179e\"],[0.4444444444444444,\"#bd3786\"],[0.5555555555555556,\"#d8576b\"],[0.6666666666666666,\"#ed7953\"],[0.7777777777777778,\"#fb9f3a\"],[0.8888888888888888,\"#fdca26\"],[1.0,\"#f0f921\"]]}],\"surface\":[{\"type\":\"surface\",\"colorbar\":{\"outlinewidth\":0,\"ticks\":\"\"},\"colorscale\":[[0.0,\"#0d0887\"],[0.1111111111111111,\"#46039f\"],[0.2222222222222222,\"#7201a8\"],[0.3333333333333333,\"#9c179e\"],[0.4444444444444444,\"#bd3786\"],[0.5555555555555556,\"#d8576b\"],[0.6666666666666666,\"#ed7953\"],[0.7777777777777778,\"#fb9f3a\"],[0.8888888888888888,\"#fdca26\"],[1.0,\"#f0f921\"]]}],\"mesh3d\":[{\"type\":\"mesh3d\",\"colorbar\":{\"outlinewidth\":0,\"ticks\":\"\"}}],\"scatter\":[{\"marker\":{\"line\":{\"color\":\"#283442\"}},\"type\":\"scatter\"}],\"parcoords\":[{\"type\":\"parcoords\",\"line\":{\"colorbar\":{\"outlinewidth\":0,\"ticks\":\"\"}}}],\"scatterpolargl\":[{\"type\":\"scatterpolargl\",\"marker\":{\"colorbar\":{\"outlinewidth\":0,\"ticks\":\"\"}}}],\"bar\":[{\"error_x\":{\"color\":\"#f2f5fa\"},\"error_y\":{\"color\":\"#f2f5fa\"},\"marker\":{\"line\":{\"color\":\"rgb(17,17,17)\",\"width\":0.5},\"pattern\":{\"fillmode\":\"overlay\",\"size\":10,\"solidity\":0.2}},\"type\":\"bar\"}],\"scattergeo\":[{\"type\":\"scattergeo\",\"marker\":{\"colorbar\":{\"outlinewidth\":0,\"ticks\":\"\"}}}],\"scatterpolar\":[{\"type\":\"scatterpolar\",\"marker\":{\"colorbar\":{\"outlinewidth\":0,\"ticks\":\"\"}}}],\"histogram\":[{\"marker\":{\"pattern\":{\"fillmode\":\"overlay\",\"size\":10,\"solidity\":0.2}},\"type\":\"histogram\"}],\"scattergl\":[{\"marker\":{\"line\":{\"color\":\"#283442\"}},\"type\":\"scattergl\"}],\"scatter3d\":[{\"type\":\"scatter3d\",\"line\":{\"colorbar\":{\"outlinewidth\":0,\"ticks\":\"\"}},\"marker\":{\"colorbar\":{\"outlinewidth\":0,\"ticks\":\"\"}}}],\"scattermapbox\":[{\"type\":\"scattermapbox\",\"marker\":{\"colorbar\":{\"outlinewidth\":0,\"ticks\":\"\"}}}],\"scatterternary\":[{\"type\":\"scatterternary\",\"marker\":{\"colorbar\":{\"outlinewidth\":0,\"ticks\":\"\"}}}],\"scattercarpet\":[{\"type\":\"scattercarpet\",\"marker\":{\"colorbar\":{\"outlinewidth\":0,\"ticks\":\"\"}}}],\"carpet\":[{\"aaxis\":{\"endlinecolor\":\"#A2B1C6\",\"gridcolor\":\"#506784\",\"linecolor\":\"#506784\",\"minorgridcolor\":\"#506784\",\"startlinecolor\":\"#A2B1C6\"},\"baxis\":{\"endlinecolor\":\"#A2B1C6\",\"gridcolor\":\"#506784\",\"linecolor\":\"#506784\",\"minorgridcolor\":\"#506784\",\"startlinecolor\":\"#A2B1C6\"},\"type\":\"carpet\"}],\"table\":[{\"cells\":{\"fill\":{\"color\":\"#506784\"},\"line\":{\"color\":\"rgb(17,17,17)\"}},\"header\":{\"fill\":{\"color\":\"#2a3f5f\"},\"line\":{\"color\":\"rgb(17,17,17)\"}},\"type\":\"table\"}],\"barpolar\":[{\"marker\":{\"line\":{\"color\":\"rgb(17,17,17)\",\"width\":0.5},\"pattern\":{\"fillmode\":\"overlay\",\"size\":10,\"solidity\":0.2}},\"type\":\"barpolar\"}],\"pie\":[{\"automargin\":true,\"type\":\"pie\"}]},\"layout\":{\"autotypenumbers\":\"strict\",\"colorway\":[\"#636efa\",\"#EF553B\",\"#00cc96\",\"#ab63fa\",\"#FFA15A\",\"#19d3f3\",\"#FF6692\",\"#B6E880\",\"#FF97FF\",\"#FECB52\"],\"font\":{\"color\":\"#f2f5fa\"},\"hovermode\":\"closest\",\"hoverlabel\":{\"align\":\"left\"},\"paper_bgcolor\":\"rgb(17,17,17)\",\"plot_bgcolor\":\"rgb(17,17,17)\",\"polar\":{\"bgcolor\":\"rgb(17,17,17)\",\"angularaxis\":{\"gridcolor\":\"#506784\",\"linecolor\":\"#506784\",\"ticks\":\"\"},\"radialaxis\":{\"gridcolor\":\"#506784\",\"linecolor\":\"#506784\",\"ticks\":\"\"}},\"ternary\":{\"bgcolor\":\"rgb(17,17,17)\",\"aaxis\":{\"gridcolor\":\"#506784\",\"linecolor\":\"#506784\",\"ticks\":\"\"},\"baxis\":{\"gridcolor\":\"#506784\",\"linecolor\":\"#506784\",\"ticks\":\"\"},\"caxis\":{\"gridcolor\":\"#506784\",\"linecolor\":\"#506784\",\"ticks\":\"\"}},\"coloraxis\":{\"colorbar\":{\"outlinewidth\":0,\"ticks\":\"\"}},\"colorscale\":{\"sequential\":[[0.0,\"#0d0887\"],[0.1111111111111111,\"#46039f\"],[0.2222222222222222,\"#7201a8\"],[0.3333333333333333,\"#9c179e\"],[0.4444444444444444,\"#bd3786\"],[0.5555555555555556,\"#d8576b\"],[0.6666666666666666,\"#ed7953\"],[0.7777777777777778,\"#fb9f3a\"],[0.8888888888888888,\"#fdca26\"],[1.0,\"#f0f921\"]],\"sequentialminus\":[[0.0,\"#0d0887\"],[0.1111111111111111,\"#46039f\"],[0.2222222222222222,\"#7201a8\"],[0.3333333333333333,\"#9c179e\"],[0.4444444444444444,\"#bd3786\"],[0.5555555555555556,\"#d8576b\"],[0.6666666666666666,\"#ed7953\"],[0.7777777777777778,\"#fb9f3a\"],[0.8888888888888888,\"#fdca26\"],[1.0,\"#f0f921\"]],\"diverging\":[[0,\"#8e0152\"],[0.1,\"#c51b7d\"],[0.2,\"#de77ae\"],[0.3,\"#f1b6da\"],[0.4,\"#fde0ef\"],[0.5,\"#f7f7f7\"],[0.6,\"#e6f5d0\"],[0.7,\"#b8e186\"],[0.8,\"#7fbc41\"],[0.9,\"#4d9221\"],[1,\"#276419\"]]},\"xaxis\":{\"gridcolor\":\"#283442\",\"linecolor\":\"#506784\",\"ticks\":\"\",\"title\":{\"standoff\":15},\"zerolinecolor\":\"#283442\",\"automargin\":true,\"zerolinewidth\":2},\"yaxis\":{\"gridcolor\":\"#283442\",\"linecolor\":\"#506784\",\"ticks\":\"\",\"title\":{\"standoff\":15},\"zerolinecolor\":\"#283442\",\"automargin\":true,\"zerolinewidth\":2},\"scene\":{\"xaxis\":{\"backgroundcolor\":\"rgb(17,17,17)\",\"gridcolor\":\"#506784\",\"linecolor\":\"#506784\",\"showbackground\":true,\"ticks\":\"\",\"zerolinecolor\":\"#C8D4E3\",\"gridwidth\":2},\"yaxis\":{\"backgroundcolor\":\"rgb(17,17,17)\",\"gridcolor\":\"#506784\",\"linecolor\":\"#506784\",\"showbackground\":true,\"ticks\":\"\",\"zerolinecolor\":\"#C8D4E3\",\"gridwidth\":2},\"zaxis\":{\"backgroundcolor\":\"rgb(17,17,17)\",\"gridcolor\":\"#506784\",\"linecolor\":\"#506784\",\"showbackground\":true,\"ticks\":\"\",\"zerolinecolor\":\"#C8D4E3\",\"gridwidth\":2}},\"shapedefaults\":{\"line\":{\"color\":\"#f2f5fa\"}},\"annotationdefaults\":{\"arrowcolor\":\"#f2f5fa\",\"arrowhead\":0,\"arrowwidth\":1},\"geo\":{\"bgcolor\":\"rgb(17,17,17)\",\"landcolor\":\"rgb(17,17,17)\",\"subunitcolor\":\"#506784\",\"showland\":true,\"showlakes\":true,\"lakecolor\":\"rgb(17,17,17)\"},\"title\":{\"x\":0.05},\"updatemenudefaults\":{\"bgcolor\":\"#506784\",\"borderwidth\":0},\"sliderdefaults\":{\"bgcolor\":\"#C8D4E3\",\"borderwidth\":1,\"bordercolor\":\"rgb(17,17,17)\",\"tickwidth\":0},\"mapbox\":{\"style\":\"dark\"}}},\"xaxis\":{\"anchor\":\"y\",\"domain\":[0.0,1.0],\"title\":{\"text\":\"level\"}},\"yaxis\":{\"anchor\":\"x\",\"domain\":[0.0,1.0],\"title\":{\"text\":\"z_scores\"}},\"legend\":{\"title\":{\"text\":\"which\"},\"tracegroupgap\":0},\"margin\":{\"t\":60}},                        {\"responsive\": true}                    ).then(function(){\n                            \nvar gd = document.getElementById('ba717e7a-746b-4256-bebb-a0a1c08eecbf');\nvar x = new MutationObserver(function (mutations, observer) {{\n        var display = window.getComputedStyle(gd).display;\n        if (!display || display === 'none') {{\n            console.log([gd, 'removed!']);\n            Plotly.purge(gd);\n            observer.disconnect();\n        }}\n}});\n\n// Listen for the removal of the full notebook cells\nvar notebookContainer = gd.closest('#notebook-container');\nif (notebookContainer) {{\n    x.observe(notebookContainer, {childList: true});\n}}\n\n// Listen for the clearing of the current output cell\nvar outputEl = gd.closest('.output');\nif (outputEl) {{\n    x.observe(outputEl, {childList: true});\n}}\n\n                        })                };                });            </script>        </div>"
     },
     "metadata": {},
     "output_type": "display_data"
    }
   ],
   "source": [
    "display(df_pred.head())\n",
    "#display(df_manual.head())\n",
    "#concatenated_df = pd.concat([df_pred, df_manual], ignore_index=True)\n",
    "concatenated_df = df_pred\n",
    "z_scores = (concatenated_df['height'] - concatenated_df['height'].mean()) / concatenated_df['height'].std()\n",
    "concatenated_df[\"z_scores\"] = z_scores\n",
    "fig = px.scatter(concatenated_df, x=\"level\", y=\"z_scores\", color=\"which\", hover_data=['sub_name', 'height'])\n",
    "fig.show()"
   ],
   "metadata": {
    "collapsed": false,
    "ExecuteTime": {
     "end_time": "2023-08-02T16:00:48.042273Z",
     "start_time": "2023-08-02T16:00:48.002745Z"
    }
   }
  },
  {
   "cell_type": "code",
   "execution_count": 274,
   "outputs": [
    {
     "data": {
      "text/plain": "     level        sub_name  spinal_start  spinal_end  height  vertebrae_start  \\\n0        2  14493_008_0000           NaN         NaN     NaN                0   \n1        3  14493_008_0000         352.0       358.0  2.3436                0   \n2        4  14493_008_0000           NaN         NaN     NaN                0   \n3        5  14493_008_0000           NaN         NaN     NaN                0   \n4        6  14493_008_0000           NaN         NaN     NaN                0   \n..     ...             ...           ...         ...     ...              ...   \n135      7  14407_000_0000         205.0       206.0  0.3906                0   \n136      8  14407_000_0000           NaN         NaN     NaN                0   \n137      9  14407_000_0000         138.0       138.0  0.0000                0   \n138     10  14407_000_0000           NaN         NaN     NaN                0   \n139     11  14407_000_0000           NaN         NaN     NaN                0   \n\n     vertebrae_end which  z_scores  \n0                1  pred       NaN  \n1                1  pred -0.283020  \n2                1  pred       NaN  \n3                1  pred       NaN  \n4                1  pred       NaN  \n..             ...   ...       ...  \n135              1  pred -0.922096  \n136              1  pred       NaN  \n137              1  pred -1.049912  \n138              1  pred       NaN  \n139              1  pred       NaN  \n\n[140 rows x 9 columns]",
      "text/html": "<div>\n<style scoped>\n    .dataframe tbody tr th:only-of-type {\n        vertical-align: middle;\n    }\n\n    .dataframe tbody tr th {\n        vertical-align: top;\n    }\n\n    .dataframe thead th {\n        text-align: right;\n    }\n</style>\n<table border=\"1\" class=\"dataframe\">\n  <thead>\n    <tr style=\"text-align: right;\">\n      <th></th>\n      <th>level</th>\n      <th>sub_name</th>\n      <th>spinal_start</th>\n      <th>spinal_end</th>\n      <th>height</th>\n      <th>vertebrae_start</th>\n      <th>vertebrae_end</th>\n      <th>which</th>\n      <th>z_scores</th>\n    </tr>\n  </thead>\n  <tbody>\n    <tr>\n      <th>0</th>\n      <td>2</td>\n      <td>14493_008_0000</td>\n      <td>NaN</td>\n      <td>NaN</td>\n      <td>NaN</td>\n      <td>0</td>\n      <td>1</td>\n      <td>pred</td>\n      <td>NaN</td>\n    </tr>\n    <tr>\n      <th>1</th>\n      <td>3</td>\n      <td>14493_008_0000</td>\n      <td>352.0</td>\n      <td>358.0</td>\n      <td>2.3436</td>\n      <td>0</td>\n      <td>1</td>\n      <td>pred</td>\n      <td>-0.283020</td>\n    </tr>\n    <tr>\n      <th>2</th>\n      <td>4</td>\n      <td>14493_008_0000</td>\n      <td>NaN</td>\n      <td>NaN</td>\n      <td>NaN</td>\n      <td>0</td>\n      <td>1</td>\n      <td>pred</td>\n      <td>NaN</td>\n    </tr>\n    <tr>\n      <th>3</th>\n      <td>5</td>\n      <td>14493_008_0000</td>\n      <td>NaN</td>\n      <td>NaN</td>\n      <td>NaN</td>\n      <td>0</td>\n      <td>1</td>\n      <td>pred</td>\n      <td>NaN</td>\n    </tr>\n    <tr>\n      <th>4</th>\n      <td>6</td>\n      <td>14493_008_0000</td>\n      <td>NaN</td>\n      <td>NaN</td>\n      <td>NaN</td>\n      <td>0</td>\n      <td>1</td>\n      <td>pred</td>\n      <td>NaN</td>\n    </tr>\n    <tr>\n      <th>...</th>\n      <td>...</td>\n      <td>...</td>\n      <td>...</td>\n      <td>...</td>\n      <td>...</td>\n      <td>...</td>\n      <td>...</td>\n      <td>...</td>\n      <td>...</td>\n    </tr>\n    <tr>\n      <th>135</th>\n      <td>7</td>\n      <td>14407_000_0000</td>\n      <td>205.0</td>\n      <td>206.0</td>\n      <td>0.3906</td>\n      <td>0</td>\n      <td>1</td>\n      <td>pred</td>\n      <td>-0.922096</td>\n    </tr>\n    <tr>\n      <th>136</th>\n      <td>8</td>\n      <td>14407_000_0000</td>\n      <td>NaN</td>\n      <td>NaN</td>\n      <td>NaN</td>\n      <td>0</td>\n      <td>1</td>\n      <td>pred</td>\n      <td>NaN</td>\n    </tr>\n    <tr>\n      <th>137</th>\n      <td>9</td>\n      <td>14407_000_0000</td>\n      <td>138.0</td>\n      <td>138.0</td>\n      <td>0.0000</td>\n      <td>0</td>\n      <td>1</td>\n      <td>pred</td>\n      <td>-1.049912</td>\n    </tr>\n    <tr>\n      <th>138</th>\n      <td>10</td>\n      <td>14407_000_0000</td>\n      <td>NaN</td>\n      <td>NaN</td>\n      <td>NaN</td>\n      <td>0</td>\n      <td>1</td>\n      <td>pred</td>\n      <td>NaN</td>\n    </tr>\n    <tr>\n      <th>139</th>\n      <td>11</td>\n      <td>14407_000_0000</td>\n      <td>NaN</td>\n      <td>NaN</td>\n      <td>NaN</td>\n      <td>0</td>\n      <td>1</td>\n      <td>pred</td>\n      <td>NaN</td>\n    </tr>\n  </tbody>\n</table>\n<p>140 rows × 9 columns</p>\n</div>"
     },
     "metadata": {},
     "output_type": "display_data"
    }
   ],
   "source": [
    "display(concatenated_df)"
   ],
   "metadata": {
    "collapsed": false,
    "ExecuteTime": {
     "end_time": "2023-08-02T16:00:49.661953Z",
     "start_time": "2023-08-02T16:00:49.648099Z"
    }
   }
  },
  {
   "cell_type": "code",
   "execution_count": 275,
   "outputs": [
    {
     "data": {
      "application/vnd.plotly.v1+json": {
       "data": [
        {
         "alignmentgroup": "True",
         "box": {
          "visible": true
         },
         "customdata": [
          [
           "14493_008_0000",
           "pred"
          ],
          [
           "14493_008_0000",
           "pred"
          ],
          [
           "14493_008_0000",
           "pred"
          ],
          [
           "14493_008_0000",
           "pred"
          ],
          [
           "14493_008_0000",
           "pred"
          ],
          [
           "14493_008_0000",
           "pred"
          ],
          [
           "14493_008_0000",
           "pred"
          ],
          [
           "14493_008_0000",
           "pred"
          ],
          [
           "14493_008_0000",
           "pred"
          ],
          [
           "14493_008_0000",
           "pred"
          ],
          [
           "14492_007_0000",
           "pred"
          ],
          [
           "14492_007_0000",
           "pred"
          ],
          [
           "14492_007_0000",
           "pred"
          ],
          [
           "14492_007_0000",
           "pred"
          ],
          [
           "14492_007_0000",
           "pred"
          ],
          [
           "14492_007_0000",
           "pred"
          ],
          [
           "14492_007_0000",
           "pred"
          ],
          [
           "14492_007_0000",
           "pred"
          ],
          [
           "14492_007_0000",
           "pred"
          ],
          [
           "14492_007_0000",
           "pred"
          ],
          [
           "14350_011_0000",
           "pred"
          ],
          [
           "14350_011_0000",
           "pred"
          ],
          [
           "14350_011_0000",
           "pred"
          ],
          [
           "14350_011_0000",
           "pred"
          ],
          [
           "14350_011_0000",
           "pred"
          ],
          [
           "14350_011_0000",
           "pred"
          ],
          [
           "14350_011_0000",
           "pred"
          ],
          [
           "14350_011_0000",
           "pred"
          ],
          [
           "14350_011_0000",
           "pred"
          ],
          [
           "14350_011_0000",
           "pred"
          ],
          [
           "14411_013_0000",
           "pred"
          ],
          [
           "14411_013_0000",
           "pred"
          ],
          [
           "14411_013_0000",
           "pred"
          ],
          [
           "14411_013_0000",
           "pred"
          ],
          [
           "14411_013_0000",
           "pred"
          ],
          [
           "14411_013_0000",
           "pred"
          ],
          [
           "14411_013_0000",
           "pred"
          ],
          [
           "14411_013_0000",
           "pred"
          ],
          [
           "14411_013_0000",
           "pred"
          ],
          [
           "14411_013_0000",
           "pred"
          ],
          [
           "13746_012_0000",
           "pred"
          ],
          [
           "13746_012_0000",
           "pred"
          ],
          [
           "13746_012_0000",
           "pred"
          ],
          [
           "13746_012_0000",
           "pred"
          ],
          [
           "13746_012_0000",
           "pred"
          ],
          [
           "13746_012_0000",
           "pred"
          ],
          [
           "13746_012_0000",
           "pred"
          ],
          [
           "13746_012_0000",
           "pred"
          ],
          [
           "13746_012_0000",
           "pred"
          ],
          [
           "13746_012_0000",
           "pred"
          ],
          [
           "13757_004_0000",
           "pred"
          ],
          [
           "13757_004_0000",
           "pred"
          ],
          [
           "13757_004_0000",
           "pred"
          ],
          [
           "13757_004_0000",
           "pred"
          ],
          [
           "13757_004_0000",
           "pred"
          ],
          [
           "13757_004_0000",
           "pred"
          ],
          [
           "13757_004_0000",
           "pred"
          ],
          [
           "13757_004_0000",
           "pred"
          ],
          [
           "13757_004_0000",
           "pred"
          ],
          [
           "13757_004_0000",
           "pred"
          ],
          [
           "14348_003_0000",
           "pred"
          ],
          [
           "14348_003_0000",
           "pred"
          ],
          [
           "14348_003_0000",
           "pred"
          ],
          [
           "14348_003_0000",
           "pred"
          ],
          [
           "14348_003_0000",
           "pred"
          ],
          [
           "14348_003_0000",
           "pred"
          ],
          [
           "14348_003_0000",
           "pred"
          ],
          [
           "14348_003_0000",
           "pred"
          ],
          [
           "14348_003_0000",
           "pred"
          ],
          [
           "14348_003_0000",
           "pred"
          ],
          [
           "13755_009_0000",
           "pred"
          ],
          [
           "13755_009_0000",
           "pred"
          ],
          [
           "13755_009_0000",
           "pred"
          ],
          [
           "13755_009_0000",
           "pred"
          ],
          [
           "13755_009_0000",
           "pred"
          ],
          [
           "13755_009_0000",
           "pred"
          ],
          [
           "13755_009_0000",
           "pred"
          ],
          [
           "13755_009_0000",
           "pred"
          ],
          [
           "13755_009_0000",
           "pred"
          ],
          [
           "13755_009_0000",
           "pred"
          ],
          [
           "13747_010_0000",
           "pred"
          ],
          [
           "13747_010_0000",
           "pred"
          ],
          [
           "13747_010_0000",
           "pred"
          ],
          [
           "13747_010_0000",
           "pred"
          ],
          [
           "13747_010_0000",
           "pred"
          ],
          [
           "13747_010_0000",
           "pred"
          ],
          [
           "13747_010_0000",
           "pred"
          ],
          [
           "13747_010_0000",
           "pred"
          ],
          [
           "13747_010_0000",
           "pred"
          ],
          [
           "13747_010_0000",
           "pred"
          ],
          [
           "14693_002_0000",
           "pred"
          ],
          [
           "14693_002_0000",
           "pred"
          ],
          [
           "14693_002_0000",
           "pred"
          ],
          [
           "14693_002_0000",
           "pred"
          ],
          [
           "14693_002_0000",
           "pred"
          ],
          [
           "14693_002_0000",
           "pred"
          ],
          [
           "14693_002_0000",
           "pred"
          ],
          [
           "14693_002_0000",
           "pred"
          ],
          [
           "14693_002_0000",
           "pred"
          ],
          [
           "14693_002_0000",
           "pred"
          ],
          [
           "14406_001_0000",
           "pred"
          ],
          [
           "14406_001_0000",
           "pred"
          ],
          [
           "14406_001_0000",
           "pred"
          ],
          [
           "14406_001_0000",
           "pred"
          ],
          [
           "14406_001_0000",
           "pred"
          ],
          [
           "14406_001_0000",
           "pred"
          ],
          [
           "14406_001_0000",
           "pred"
          ],
          [
           "14406_001_0000",
           "pred"
          ],
          [
           "14406_001_0000",
           "pred"
          ],
          [
           "14406_001_0000",
           "pred"
          ],
          [
           "13697_005_0000",
           "pred"
          ],
          [
           "13697_005_0000",
           "pred"
          ],
          [
           "13697_005_0000",
           "pred"
          ],
          [
           "13697_005_0000",
           "pred"
          ],
          [
           "13697_005_0000",
           "pred"
          ],
          [
           "13697_005_0000",
           "pred"
          ],
          [
           "13697_005_0000",
           "pred"
          ],
          [
           "13697_005_0000",
           "pred"
          ],
          [
           "13697_005_0000",
           "pred"
          ],
          [
           "13697_005_0000",
           "pred"
          ],
          [
           "13696_006_0000",
           "pred"
          ],
          [
           "13696_006_0000",
           "pred"
          ],
          [
           "13696_006_0000",
           "pred"
          ],
          [
           "13696_006_0000",
           "pred"
          ],
          [
           "13696_006_0000",
           "pred"
          ],
          [
           "13696_006_0000",
           "pred"
          ],
          [
           "13696_006_0000",
           "pred"
          ],
          [
           "13696_006_0000",
           "pred"
          ],
          [
           "13696_006_0000",
           "pred"
          ],
          [
           "13696_006_0000",
           "pred"
          ],
          [
           "14407_000_0000",
           "pred"
          ],
          [
           "14407_000_0000",
           "pred"
          ],
          [
           "14407_000_0000",
           "pred"
          ],
          [
           "14407_000_0000",
           "pred"
          ],
          [
           "14407_000_0000",
           "pred"
          ],
          [
           "14407_000_0000",
           "pred"
          ],
          [
           "14407_000_0000",
           "pred"
          ],
          [
           "14407_000_0000",
           "pred"
          ],
          [
           "14407_000_0000",
           "pred"
          ],
          [
           "14407_000_0000",
           "pred"
          ]
         ],
         "hovertemplate": "which=%{customdata[1]}<br>level=%{x}<br>height=%{y}<br>sub_name=%{customdata[0]}<extra></extra>",
         "legendgroup": "pred",
         "marker": {
          "color": "#636efa"
         },
         "name": "pred",
         "offsetgroup": "pred",
         "orientation": "v",
         "points": "all",
         "scalegroup": "True",
         "showlegend": true,
         "x": [
          2,
          3,
          4,
          5,
          6,
          7,
          8,
          9,
          10,
          11,
          2,
          3,
          4,
          5,
          6,
          7,
          8,
          9,
          10,
          11,
          2,
          3,
          4,
          5,
          6,
          7,
          8,
          9,
          10,
          11,
          2,
          3,
          4,
          5,
          6,
          7,
          8,
          9,
          10,
          11,
          2,
          3,
          4,
          5,
          6,
          7,
          8,
          9,
          10,
          11,
          2,
          3,
          4,
          5,
          6,
          7,
          8,
          9,
          10,
          11,
          2,
          3,
          4,
          5,
          6,
          7,
          8,
          9,
          10,
          11,
          2,
          3,
          4,
          5,
          6,
          7,
          8,
          9,
          10,
          11,
          2,
          3,
          4,
          5,
          6,
          7,
          8,
          9,
          10,
          11,
          2,
          3,
          4,
          5,
          6,
          7,
          8,
          9,
          10,
          11,
          2,
          3,
          4,
          5,
          6,
          7,
          8,
          9,
          10,
          11,
          2,
          3,
          4,
          5,
          6,
          7,
          8,
          9,
          10,
          11,
          2,
          3,
          4,
          5,
          6,
          7,
          8,
          9,
          10,
          11,
          2,
          3,
          4,
          5,
          6,
          7,
          8,
          9,
          10,
          11
         ],
         "x0": " ",
         "xaxis": "x",
         "y": [
          null,
          2.3435996174812317,
          null,
          null,
          null,
          null,
          null,
          null,
          null,
          null,
          null,
          0.7812002897262573,
          null,
          null,
          null,
          null,
          null,
          null,
          null,
          null,
          null,
          1.5624005794525146,
          null,
          0.0,
          null,
          3.515401303768158,
          null,
          null,
          null,
          null,
          3.1247997283935547,
          5.077799558639526,
          null,
          null,
          null,
          null,
          4.296599626541138,
          null,
          null,
          null,
          null,
          1.1718002557754517,
          null,
          null,
          null,
          null,
          2.3436005115509033,
          10.936802387237549,
          null,
          null,
          1.5624001026153564,
          0.7812000513076782,
          null,
          null,
          null,
          null,
          null,
          null,
          null,
          null,
          null,
          null,
          null,
          null,
          null,
          null,
          null,
          null,
          null,
          null,
          null,
          null,
          null,
          null,
          null,
          2.734199970960617,
          3.5153999626636505,
          null,
          null,
          null,
          null,
          8.593198597431183,
          null,
          null,
          null,
          null,
          null,
          null,
          null,
          null,
          2.3436010479927063,
          10.155604541301727,
          0.0,
          null,
          null,
          null,
          null,
          null,
          null,
          null,
          null,
          7.811997532844544,
          null,
          null,
          null,
          null,
          null,
          null,
          null,
          null,
          4.296599626541138,
          null,
          null,
          null,
          null,
          null,
          null,
          null,
          null,
          null,
          null,
          3.1247994899749756,
          0.0,
          null,
          null,
          null,
          null,
          null,
          null,
          null,
          null,
          null,
          4.2966019213199615,
          0.0,
          5.077802270650864,
          0.390600174665451,
          null,
          0.0,
          null,
          null
         ],
         "y0": " ",
         "yaxis": "y",
         "type": "violin"
        }
       ],
       "layout": {
        "template": {
         "data": {
          "histogram2dcontour": [
           {
            "type": "histogram2dcontour",
            "colorbar": {
             "outlinewidth": 0,
             "ticks": ""
            },
            "colorscale": [
             [
              0.0,
              "#0d0887"
             ],
             [
              0.1111111111111111,
              "#46039f"
             ],
             [
              0.2222222222222222,
              "#7201a8"
             ],
             [
              0.3333333333333333,
              "#9c179e"
             ],
             [
              0.4444444444444444,
              "#bd3786"
             ],
             [
              0.5555555555555556,
              "#d8576b"
             ],
             [
              0.6666666666666666,
              "#ed7953"
             ],
             [
              0.7777777777777778,
              "#fb9f3a"
             ],
             [
              0.8888888888888888,
              "#fdca26"
             ],
             [
              1.0,
              "#f0f921"
             ]
            ]
           }
          ],
          "choropleth": [
           {
            "type": "choropleth",
            "colorbar": {
             "outlinewidth": 0,
             "ticks": ""
            }
           }
          ],
          "histogram2d": [
           {
            "type": "histogram2d",
            "colorbar": {
             "outlinewidth": 0,
             "ticks": ""
            },
            "colorscale": [
             [
              0.0,
              "#0d0887"
             ],
             [
              0.1111111111111111,
              "#46039f"
             ],
             [
              0.2222222222222222,
              "#7201a8"
             ],
             [
              0.3333333333333333,
              "#9c179e"
             ],
             [
              0.4444444444444444,
              "#bd3786"
             ],
             [
              0.5555555555555556,
              "#d8576b"
             ],
             [
              0.6666666666666666,
              "#ed7953"
             ],
             [
              0.7777777777777778,
              "#fb9f3a"
             ],
             [
              0.8888888888888888,
              "#fdca26"
             ],
             [
              1.0,
              "#f0f921"
             ]
            ]
           }
          ],
          "heatmap": [
           {
            "type": "heatmap",
            "colorbar": {
             "outlinewidth": 0,
             "ticks": ""
            },
            "colorscale": [
             [
              0.0,
              "#0d0887"
             ],
             [
              0.1111111111111111,
              "#46039f"
             ],
             [
              0.2222222222222222,
              "#7201a8"
             ],
             [
              0.3333333333333333,
              "#9c179e"
             ],
             [
              0.4444444444444444,
              "#bd3786"
             ],
             [
              0.5555555555555556,
              "#d8576b"
             ],
             [
              0.6666666666666666,
              "#ed7953"
             ],
             [
              0.7777777777777778,
              "#fb9f3a"
             ],
             [
              0.8888888888888888,
              "#fdca26"
             ],
             [
              1.0,
              "#f0f921"
             ]
            ]
           }
          ],
          "heatmapgl": [
           {
            "type": "heatmapgl",
            "colorbar": {
             "outlinewidth": 0,
             "ticks": ""
            },
            "colorscale": [
             [
              0.0,
              "#0d0887"
             ],
             [
              0.1111111111111111,
              "#46039f"
             ],
             [
              0.2222222222222222,
              "#7201a8"
             ],
             [
              0.3333333333333333,
              "#9c179e"
             ],
             [
              0.4444444444444444,
              "#bd3786"
             ],
             [
              0.5555555555555556,
              "#d8576b"
             ],
             [
              0.6666666666666666,
              "#ed7953"
             ],
             [
              0.7777777777777778,
              "#fb9f3a"
             ],
             [
              0.8888888888888888,
              "#fdca26"
             ],
             [
              1.0,
              "#f0f921"
             ]
            ]
           }
          ],
          "contourcarpet": [
           {
            "type": "contourcarpet",
            "colorbar": {
             "outlinewidth": 0,
             "ticks": ""
            }
           }
          ],
          "contour": [
           {
            "type": "contour",
            "colorbar": {
             "outlinewidth": 0,
             "ticks": ""
            },
            "colorscale": [
             [
              0.0,
              "#0d0887"
             ],
             [
              0.1111111111111111,
              "#46039f"
             ],
             [
              0.2222222222222222,
              "#7201a8"
             ],
             [
              0.3333333333333333,
              "#9c179e"
             ],
             [
              0.4444444444444444,
              "#bd3786"
             ],
             [
              0.5555555555555556,
              "#d8576b"
             ],
             [
              0.6666666666666666,
              "#ed7953"
             ],
             [
              0.7777777777777778,
              "#fb9f3a"
             ],
             [
              0.8888888888888888,
              "#fdca26"
             ],
             [
              1.0,
              "#f0f921"
             ]
            ]
           }
          ],
          "surface": [
           {
            "type": "surface",
            "colorbar": {
             "outlinewidth": 0,
             "ticks": ""
            },
            "colorscale": [
             [
              0.0,
              "#0d0887"
             ],
             [
              0.1111111111111111,
              "#46039f"
             ],
             [
              0.2222222222222222,
              "#7201a8"
             ],
             [
              0.3333333333333333,
              "#9c179e"
             ],
             [
              0.4444444444444444,
              "#bd3786"
             ],
             [
              0.5555555555555556,
              "#d8576b"
             ],
             [
              0.6666666666666666,
              "#ed7953"
             ],
             [
              0.7777777777777778,
              "#fb9f3a"
             ],
             [
              0.8888888888888888,
              "#fdca26"
             ],
             [
              1.0,
              "#f0f921"
             ]
            ]
           }
          ],
          "mesh3d": [
           {
            "type": "mesh3d",
            "colorbar": {
             "outlinewidth": 0,
             "ticks": ""
            }
           }
          ],
          "scatter": [
           {
            "marker": {
             "line": {
              "color": "#283442"
             }
            },
            "type": "scatter"
           }
          ],
          "parcoords": [
           {
            "type": "parcoords",
            "line": {
             "colorbar": {
              "outlinewidth": 0,
              "ticks": ""
             }
            }
           }
          ],
          "scatterpolargl": [
           {
            "type": "scatterpolargl",
            "marker": {
             "colorbar": {
              "outlinewidth": 0,
              "ticks": ""
             }
            }
           }
          ],
          "bar": [
           {
            "error_x": {
             "color": "#f2f5fa"
            },
            "error_y": {
             "color": "#f2f5fa"
            },
            "marker": {
             "line": {
              "color": "rgb(17,17,17)",
              "width": 0.5
             },
             "pattern": {
              "fillmode": "overlay",
              "size": 10,
              "solidity": 0.2
             }
            },
            "type": "bar"
           }
          ],
          "scattergeo": [
           {
            "type": "scattergeo",
            "marker": {
             "colorbar": {
              "outlinewidth": 0,
              "ticks": ""
             }
            }
           }
          ],
          "scatterpolar": [
           {
            "type": "scatterpolar",
            "marker": {
             "colorbar": {
              "outlinewidth": 0,
              "ticks": ""
             }
            }
           }
          ],
          "histogram": [
           {
            "marker": {
             "pattern": {
              "fillmode": "overlay",
              "size": 10,
              "solidity": 0.2
             }
            },
            "type": "histogram"
           }
          ],
          "scattergl": [
           {
            "marker": {
             "line": {
              "color": "#283442"
             }
            },
            "type": "scattergl"
           }
          ],
          "scatter3d": [
           {
            "type": "scatter3d",
            "line": {
             "colorbar": {
              "outlinewidth": 0,
              "ticks": ""
             }
            },
            "marker": {
             "colorbar": {
              "outlinewidth": 0,
              "ticks": ""
             }
            }
           }
          ],
          "scattermapbox": [
           {
            "type": "scattermapbox",
            "marker": {
             "colorbar": {
              "outlinewidth": 0,
              "ticks": ""
             }
            }
           }
          ],
          "scatterternary": [
           {
            "type": "scatterternary",
            "marker": {
             "colorbar": {
              "outlinewidth": 0,
              "ticks": ""
             }
            }
           }
          ],
          "scattercarpet": [
           {
            "type": "scattercarpet",
            "marker": {
             "colorbar": {
              "outlinewidth": 0,
              "ticks": ""
             }
            }
           }
          ],
          "carpet": [
           {
            "aaxis": {
             "endlinecolor": "#A2B1C6",
             "gridcolor": "#506784",
             "linecolor": "#506784",
             "minorgridcolor": "#506784",
             "startlinecolor": "#A2B1C6"
            },
            "baxis": {
             "endlinecolor": "#A2B1C6",
             "gridcolor": "#506784",
             "linecolor": "#506784",
             "minorgridcolor": "#506784",
             "startlinecolor": "#A2B1C6"
            },
            "type": "carpet"
           }
          ],
          "table": [
           {
            "cells": {
             "fill": {
              "color": "#506784"
             },
             "line": {
              "color": "rgb(17,17,17)"
             }
            },
            "header": {
             "fill": {
              "color": "#2a3f5f"
             },
             "line": {
              "color": "rgb(17,17,17)"
             }
            },
            "type": "table"
           }
          ],
          "barpolar": [
           {
            "marker": {
             "line": {
              "color": "rgb(17,17,17)",
              "width": 0.5
             },
             "pattern": {
              "fillmode": "overlay",
              "size": 10,
              "solidity": 0.2
             }
            },
            "type": "barpolar"
           }
          ],
          "pie": [
           {
            "automargin": true,
            "type": "pie"
           }
          ]
         },
         "layout": {
          "autotypenumbers": "strict",
          "colorway": [
           "#636efa",
           "#EF553B",
           "#00cc96",
           "#ab63fa",
           "#FFA15A",
           "#19d3f3",
           "#FF6692",
           "#B6E880",
           "#FF97FF",
           "#FECB52"
          ],
          "font": {
           "color": "#f2f5fa"
          },
          "hovermode": "closest",
          "hoverlabel": {
           "align": "left"
          },
          "paper_bgcolor": "rgb(17,17,17)",
          "plot_bgcolor": "rgb(17,17,17)",
          "polar": {
           "bgcolor": "rgb(17,17,17)",
           "angularaxis": {
            "gridcolor": "#506784",
            "linecolor": "#506784",
            "ticks": ""
           },
           "radialaxis": {
            "gridcolor": "#506784",
            "linecolor": "#506784",
            "ticks": ""
           }
          },
          "ternary": {
           "bgcolor": "rgb(17,17,17)",
           "aaxis": {
            "gridcolor": "#506784",
            "linecolor": "#506784",
            "ticks": ""
           },
           "baxis": {
            "gridcolor": "#506784",
            "linecolor": "#506784",
            "ticks": ""
           },
           "caxis": {
            "gridcolor": "#506784",
            "linecolor": "#506784",
            "ticks": ""
           }
          },
          "coloraxis": {
           "colorbar": {
            "outlinewidth": 0,
            "ticks": ""
           }
          },
          "colorscale": {
           "sequential": [
            [
             0.0,
             "#0d0887"
            ],
            [
             0.1111111111111111,
             "#46039f"
            ],
            [
             0.2222222222222222,
             "#7201a8"
            ],
            [
             0.3333333333333333,
             "#9c179e"
            ],
            [
             0.4444444444444444,
             "#bd3786"
            ],
            [
             0.5555555555555556,
             "#d8576b"
            ],
            [
             0.6666666666666666,
             "#ed7953"
            ],
            [
             0.7777777777777778,
             "#fb9f3a"
            ],
            [
             0.8888888888888888,
             "#fdca26"
            ],
            [
             1.0,
             "#f0f921"
            ]
           ],
           "sequentialminus": [
            [
             0.0,
             "#0d0887"
            ],
            [
             0.1111111111111111,
             "#46039f"
            ],
            [
             0.2222222222222222,
             "#7201a8"
            ],
            [
             0.3333333333333333,
             "#9c179e"
            ],
            [
             0.4444444444444444,
             "#bd3786"
            ],
            [
             0.5555555555555556,
             "#d8576b"
            ],
            [
             0.6666666666666666,
             "#ed7953"
            ],
            [
             0.7777777777777778,
             "#fb9f3a"
            ],
            [
             0.8888888888888888,
             "#fdca26"
            ],
            [
             1.0,
             "#f0f921"
            ]
           ],
           "diverging": [
            [
             0,
             "#8e0152"
            ],
            [
             0.1,
             "#c51b7d"
            ],
            [
             0.2,
             "#de77ae"
            ],
            [
             0.3,
             "#f1b6da"
            ],
            [
             0.4,
             "#fde0ef"
            ],
            [
             0.5,
             "#f7f7f7"
            ],
            [
             0.6,
             "#e6f5d0"
            ],
            [
             0.7,
             "#b8e186"
            ],
            [
             0.8,
             "#7fbc41"
            ],
            [
             0.9,
             "#4d9221"
            ],
            [
             1,
             "#276419"
            ]
           ]
          },
          "xaxis": {
           "gridcolor": "#283442",
           "linecolor": "#506784",
           "ticks": "",
           "title": {
            "standoff": 15
           },
           "zerolinecolor": "#283442",
           "automargin": true,
           "zerolinewidth": 2
          },
          "yaxis": {
           "gridcolor": "#283442",
           "linecolor": "#506784",
           "ticks": "",
           "title": {
            "standoff": 15
           },
           "zerolinecolor": "#283442",
           "automargin": true,
           "zerolinewidth": 2
          },
          "scene": {
           "xaxis": {
            "backgroundcolor": "rgb(17,17,17)",
            "gridcolor": "#506784",
            "linecolor": "#506784",
            "showbackground": true,
            "ticks": "",
            "zerolinecolor": "#C8D4E3",
            "gridwidth": 2
           },
           "yaxis": {
            "backgroundcolor": "rgb(17,17,17)",
            "gridcolor": "#506784",
            "linecolor": "#506784",
            "showbackground": true,
            "ticks": "",
            "zerolinecolor": "#C8D4E3",
            "gridwidth": 2
           },
           "zaxis": {
            "backgroundcolor": "rgb(17,17,17)",
            "gridcolor": "#506784",
            "linecolor": "#506784",
            "showbackground": true,
            "ticks": "",
            "zerolinecolor": "#C8D4E3",
            "gridwidth": 2
           }
          },
          "shapedefaults": {
           "line": {
            "color": "#f2f5fa"
           }
          },
          "annotationdefaults": {
           "arrowcolor": "#f2f5fa",
           "arrowhead": 0,
           "arrowwidth": 1
          },
          "geo": {
           "bgcolor": "rgb(17,17,17)",
           "landcolor": "rgb(17,17,17)",
           "subunitcolor": "#506784",
           "showland": true,
           "showlakes": true,
           "lakecolor": "rgb(17,17,17)"
          },
          "title": {
           "x": 0.05
          },
          "updatemenudefaults": {
           "bgcolor": "#506784",
           "borderwidth": 0
          },
          "sliderdefaults": {
           "bgcolor": "#C8D4E3",
           "borderwidth": 1,
           "bordercolor": "rgb(17,17,17)",
           "tickwidth": 0
          },
          "mapbox": {
           "style": "dark"
          }
         }
        },
        "xaxis": {
         "anchor": "y",
         "domain": [
          0.0,
          1.0
         ],
         "title": {
          "text": "Spinal level"
         }
        },
        "yaxis": {
         "anchor": "x",
         "domain": [
          0.0,
          1.0
         ],
         "title": {
          "text": "caudal to rostral length (mm)"
         }
        },
        "legend": {
         "title": {
          "text": "which"
         },
         "tracegroupgap": 0
        },
        "margin": {
         "t": 60
        },
        "violinmode": "group",
        "title": {
         "text": "Violin Plot for caudal-rostral length distribution"
        }
       },
       "config": {
        "plotlyServerURL": "https://plot.ly"
       }
      },
      "text/html": "<div>                            <div id=\"fc949730-77e2-455d-889f-9592e944919b\" class=\"plotly-graph-div\" style=\"height:525px; width:100%;\"></div>            <script type=\"text/javascript\">                require([\"plotly\"], function(Plotly) {                    window.PLOTLYENV=window.PLOTLYENV || {};                                    if (document.getElementById(\"fc949730-77e2-455d-889f-9592e944919b\")) {                    Plotly.newPlot(                        \"fc949730-77e2-455d-889f-9592e944919b\",                        [{\"alignmentgroup\":\"True\",\"box\":{\"visible\":true},\"customdata\":[[\"14493_008_0000\",\"pred\"],[\"14493_008_0000\",\"pred\"],[\"14493_008_0000\",\"pred\"],[\"14493_008_0000\",\"pred\"],[\"14493_008_0000\",\"pred\"],[\"14493_008_0000\",\"pred\"],[\"14493_008_0000\",\"pred\"],[\"14493_008_0000\",\"pred\"],[\"14493_008_0000\",\"pred\"],[\"14493_008_0000\",\"pred\"],[\"14492_007_0000\",\"pred\"],[\"14492_007_0000\",\"pred\"],[\"14492_007_0000\",\"pred\"],[\"14492_007_0000\",\"pred\"],[\"14492_007_0000\",\"pred\"],[\"14492_007_0000\",\"pred\"],[\"14492_007_0000\",\"pred\"],[\"14492_007_0000\",\"pred\"],[\"14492_007_0000\",\"pred\"],[\"14492_007_0000\",\"pred\"],[\"14350_011_0000\",\"pred\"],[\"14350_011_0000\",\"pred\"],[\"14350_011_0000\",\"pred\"],[\"14350_011_0000\",\"pred\"],[\"14350_011_0000\",\"pred\"],[\"14350_011_0000\",\"pred\"],[\"14350_011_0000\",\"pred\"],[\"14350_011_0000\",\"pred\"],[\"14350_011_0000\",\"pred\"],[\"14350_011_0000\",\"pred\"],[\"14411_013_0000\",\"pred\"],[\"14411_013_0000\",\"pred\"],[\"14411_013_0000\",\"pred\"],[\"14411_013_0000\",\"pred\"],[\"14411_013_0000\",\"pred\"],[\"14411_013_0000\",\"pred\"],[\"14411_013_0000\",\"pred\"],[\"14411_013_0000\",\"pred\"],[\"14411_013_0000\",\"pred\"],[\"14411_013_0000\",\"pred\"],[\"13746_012_0000\",\"pred\"],[\"13746_012_0000\",\"pred\"],[\"13746_012_0000\",\"pred\"],[\"13746_012_0000\",\"pred\"],[\"13746_012_0000\",\"pred\"],[\"13746_012_0000\",\"pred\"],[\"13746_012_0000\",\"pred\"],[\"13746_012_0000\",\"pred\"],[\"13746_012_0000\",\"pred\"],[\"13746_012_0000\",\"pred\"],[\"13757_004_0000\",\"pred\"],[\"13757_004_0000\",\"pred\"],[\"13757_004_0000\",\"pred\"],[\"13757_004_0000\",\"pred\"],[\"13757_004_0000\",\"pred\"],[\"13757_004_0000\",\"pred\"],[\"13757_004_0000\",\"pred\"],[\"13757_004_0000\",\"pred\"],[\"13757_004_0000\",\"pred\"],[\"13757_004_0000\",\"pred\"],[\"14348_003_0000\",\"pred\"],[\"14348_003_0000\",\"pred\"],[\"14348_003_0000\",\"pred\"],[\"14348_003_0000\",\"pred\"],[\"14348_003_0000\",\"pred\"],[\"14348_003_0000\",\"pred\"],[\"14348_003_0000\",\"pred\"],[\"14348_003_0000\",\"pred\"],[\"14348_003_0000\",\"pred\"],[\"14348_003_0000\",\"pred\"],[\"13755_009_0000\",\"pred\"],[\"13755_009_0000\",\"pred\"],[\"13755_009_0000\",\"pred\"],[\"13755_009_0000\",\"pred\"],[\"13755_009_0000\",\"pred\"],[\"13755_009_0000\",\"pred\"],[\"13755_009_0000\",\"pred\"],[\"13755_009_0000\",\"pred\"],[\"13755_009_0000\",\"pred\"],[\"13755_009_0000\",\"pred\"],[\"13747_010_0000\",\"pred\"],[\"13747_010_0000\",\"pred\"],[\"13747_010_0000\",\"pred\"],[\"13747_010_0000\",\"pred\"],[\"13747_010_0000\",\"pred\"],[\"13747_010_0000\",\"pred\"],[\"13747_010_0000\",\"pred\"],[\"13747_010_0000\",\"pred\"],[\"13747_010_0000\",\"pred\"],[\"13747_010_0000\",\"pred\"],[\"14693_002_0000\",\"pred\"],[\"14693_002_0000\",\"pred\"],[\"14693_002_0000\",\"pred\"],[\"14693_002_0000\",\"pred\"],[\"14693_002_0000\",\"pred\"],[\"14693_002_0000\",\"pred\"],[\"14693_002_0000\",\"pred\"],[\"14693_002_0000\",\"pred\"],[\"14693_002_0000\",\"pred\"],[\"14693_002_0000\",\"pred\"],[\"14406_001_0000\",\"pred\"],[\"14406_001_0000\",\"pred\"],[\"14406_001_0000\",\"pred\"],[\"14406_001_0000\",\"pred\"],[\"14406_001_0000\",\"pred\"],[\"14406_001_0000\",\"pred\"],[\"14406_001_0000\",\"pred\"],[\"14406_001_0000\",\"pred\"],[\"14406_001_0000\",\"pred\"],[\"14406_001_0000\",\"pred\"],[\"13697_005_0000\",\"pred\"],[\"13697_005_0000\",\"pred\"],[\"13697_005_0000\",\"pred\"],[\"13697_005_0000\",\"pred\"],[\"13697_005_0000\",\"pred\"],[\"13697_005_0000\",\"pred\"],[\"13697_005_0000\",\"pred\"],[\"13697_005_0000\",\"pred\"],[\"13697_005_0000\",\"pred\"],[\"13697_005_0000\",\"pred\"],[\"13696_006_0000\",\"pred\"],[\"13696_006_0000\",\"pred\"],[\"13696_006_0000\",\"pred\"],[\"13696_006_0000\",\"pred\"],[\"13696_006_0000\",\"pred\"],[\"13696_006_0000\",\"pred\"],[\"13696_006_0000\",\"pred\"],[\"13696_006_0000\",\"pred\"],[\"13696_006_0000\",\"pred\"],[\"13696_006_0000\",\"pred\"],[\"14407_000_0000\",\"pred\"],[\"14407_000_0000\",\"pred\"],[\"14407_000_0000\",\"pred\"],[\"14407_000_0000\",\"pred\"],[\"14407_000_0000\",\"pred\"],[\"14407_000_0000\",\"pred\"],[\"14407_000_0000\",\"pred\"],[\"14407_000_0000\",\"pred\"],[\"14407_000_0000\",\"pred\"],[\"14407_000_0000\",\"pred\"]],\"hovertemplate\":\"which=%{customdata[1]}\\u003cbr\\u003elevel=%{x}\\u003cbr\\u003eheight=%{y}\\u003cbr\\u003esub_name=%{customdata[0]}\\u003cextra\\u003e\\u003c\\u002fextra\\u003e\",\"legendgroup\":\"pred\",\"marker\":{\"color\":\"#636efa\"},\"name\":\"pred\",\"offsetgroup\":\"pred\",\"orientation\":\"v\",\"points\":\"all\",\"scalegroup\":\"True\",\"showlegend\":true,\"x\":[2,3,4,5,6,7,8,9,10,11,2,3,4,5,6,7,8,9,10,11,2,3,4,5,6,7,8,9,10,11,2,3,4,5,6,7,8,9,10,11,2,3,4,5,6,7,8,9,10,11,2,3,4,5,6,7,8,9,10,11,2,3,4,5,6,7,8,9,10,11,2,3,4,5,6,7,8,9,10,11,2,3,4,5,6,7,8,9,10,11,2,3,4,5,6,7,8,9,10,11,2,3,4,5,6,7,8,9,10,11,2,3,4,5,6,7,8,9,10,11,2,3,4,5,6,7,8,9,10,11,2,3,4,5,6,7,8,9,10,11],\"x0\":\" \",\"xaxis\":\"x\",\"y\":[null,2.3435996174812317,null,null,null,null,null,null,null,null,null,0.7812002897262573,null,null,null,null,null,null,null,null,null,1.5624005794525146,null,0.0,null,3.515401303768158,null,null,null,null,3.1247997283935547,5.077799558639526,null,null,null,null,4.296599626541138,null,null,null,null,1.1718002557754517,null,null,null,null,2.3436005115509033,10.936802387237549,null,null,1.5624001026153564,0.7812000513076782,null,null,null,null,null,null,null,null,null,null,null,null,null,null,null,null,null,null,null,null,null,null,null,2.734199970960617,3.5153999626636505,null,null,null,null,8.593198597431183,null,null,null,null,null,null,null,null,2.3436010479927063,10.155604541301727,0.0,null,null,null,null,null,null,null,null,7.811997532844544,null,null,null,null,null,null,null,null,4.296599626541138,null,null,null,null,null,null,null,null,null,null,3.1247994899749756,0.0,null,null,null,null,null,null,null,null,null,4.2966019213199615,0.0,5.077802270650864,0.390600174665451,null,0.0,null,null],\"y0\":\" \",\"yaxis\":\"y\",\"type\":\"violin\"}],                        {\"template\":{\"data\":{\"histogram2dcontour\":[{\"type\":\"histogram2dcontour\",\"colorbar\":{\"outlinewidth\":0,\"ticks\":\"\"},\"colorscale\":[[0.0,\"#0d0887\"],[0.1111111111111111,\"#46039f\"],[0.2222222222222222,\"#7201a8\"],[0.3333333333333333,\"#9c179e\"],[0.4444444444444444,\"#bd3786\"],[0.5555555555555556,\"#d8576b\"],[0.6666666666666666,\"#ed7953\"],[0.7777777777777778,\"#fb9f3a\"],[0.8888888888888888,\"#fdca26\"],[1.0,\"#f0f921\"]]}],\"choropleth\":[{\"type\":\"choropleth\",\"colorbar\":{\"outlinewidth\":0,\"ticks\":\"\"}}],\"histogram2d\":[{\"type\":\"histogram2d\",\"colorbar\":{\"outlinewidth\":0,\"ticks\":\"\"},\"colorscale\":[[0.0,\"#0d0887\"],[0.1111111111111111,\"#46039f\"],[0.2222222222222222,\"#7201a8\"],[0.3333333333333333,\"#9c179e\"],[0.4444444444444444,\"#bd3786\"],[0.5555555555555556,\"#d8576b\"],[0.6666666666666666,\"#ed7953\"],[0.7777777777777778,\"#fb9f3a\"],[0.8888888888888888,\"#fdca26\"],[1.0,\"#f0f921\"]]}],\"heatmap\":[{\"type\":\"heatmap\",\"colorbar\":{\"outlinewidth\":0,\"ticks\":\"\"},\"colorscale\":[[0.0,\"#0d0887\"],[0.1111111111111111,\"#46039f\"],[0.2222222222222222,\"#7201a8\"],[0.3333333333333333,\"#9c179e\"],[0.4444444444444444,\"#bd3786\"],[0.5555555555555556,\"#d8576b\"],[0.6666666666666666,\"#ed7953\"],[0.7777777777777778,\"#fb9f3a\"],[0.8888888888888888,\"#fdca26\"],[1.0,\"#f0f921\"]]}],\"heatmapgl\":[{\"type\":\"heatmapgl\",\"colorbar\":{\"outlinewidth\":0,\"ticks\":\"\"},\"colorscale\":[[0.0,\"#0d0887\"],[0.1111111111111111,\"#46039f\"],[0.2222222222222222,\"#7201a8\"],[0.3333333333333333,\"#9c179e\"],[0.4444444444444444,\"#bd3786\"],[0.5555555555555556,\"#d8576b\"],[0.6666666666666666,\"#ed7953\"],[0.7777777777777778,\"#fb9f3a\"],[0.8888888888888888,\"#fdca26\"],[1.0,\"#f0f921\"]]}],\"contourcarpet\":[{\"type\":\"contourcarpet\",\"colorbar\":{\"outlinewidth\":0,\"ticks\":\"\"}}],\"contour\":[{\"type\":\"contour\",\"colorbar\":{\"outlinewidth\":0,\"ticks\":\"\"},\"colorscale\":[[0.0,\"#0d0887\"],[0.1111111111111111,\"#46039f\"],[0.2222222222222222,\"#7201a8\"],[0.3333333333333333,\"#9c179e\"],[0.4444444444444444,\"#bd3786\"],[0.5555555555555556,\"#d8576b\"],[0.6666666666666666,\"#ed7953\"],[0.7777777777777778,\"#fb9f3a\"],[0.8888888888888888,\"#fdca26\"],[1.0,\"#f0f921\"]]}],\"surface\":[{\"type\":\"surface\",\"colorbar\":{\"outlinewidth\":0,\"ticks\":\"\"},\"colorscale\":[[0.0,\"#0d0887\"],[0.1111111111111111,\"#46039f\"],[0.2222222222222222,\"#7201a8\"],[0.3333333333333333,\"#9c179e\"],[0.4444444444444444,\"#bd3786\"],[0.5555555555555556,\"#d8576b\"],[0.6666666666666666,\"#ed7953\"],[0.7777777777777778,\"#fb9f3a\"],[0.8888888888888888,\"#fdca26\"],[1.0,\"#f0f921\"]]}],\"mesh3d\":[{\"type\":\"mesh3d\",\"colorbar\":{\"outlinewidth\":0,\"ticks\":\"\"}}],\"scatter\":[{\"marker\":{\"line\":{\"color\":\"#283442\"}},\"type\":\"scatter\"}],\"parcoords\":[{\"type\":\"parcoords\",\"line\":{\"colorbar\":{\"outlinewidth\":0,\"ticks\":\"\"}}}],\"scatterpolargl\":[{\"type\":\"scatterpolargl\",\"marker\":{\"colorbar\":{\"outlinewidth\":0,\"ticks\":\"\"}}}],\"bar\":[{\"error_x\":{\"color\":\"#f2f5fa\"},\"error_y\":{\"color\":\"#f2f5fa\"},\"marker\":{\"line\":{\"color\":\"rgb(17,17,17)\",\"width\":0.5},\"pattern\":{\"fillmode\":\"overlay\",\"size\":10,\"solidity\":0.2}},\"type\":\"bar\"}],\"scattergeo\":[{\"type\":\"scattergeo\",\"marker\":{\"colorbar\":{\"outlinewidth\":0,\"ticks\":\"\"}}}],\"scatterpolar\":[{\"type\":\"scatterpolar\",\"marker\":{\"colorbar\":{\"outlinewidth\":0,\"ticks\":\"\"}}}],\"histogram\":[{\"marker\":{\"pattern\":{\"fillmode\":\"overlay\",\"size\":10,\"solidity\":0.2}},\"type\":\"histogram\"}],\"scattergl\":[{\"marker\":{\"line\":{\"color\":\"#283442\"}},\"type\":\"scattergl\"}],\"scatter3d\":[{\"type\":\"scatter3d\",\"line\":{\"colorbar\":{\"outlinewidth\":0,\"ticks\":\"\"}},\"marker\":{\"colorbar\":{\"outlinewidth\":0,\"ticks\":\"\"}}}],\"scattermapbox\":[{\"type\":\"scattermapbox\",\"marker\":{\"colorbar\":{\"outlinewidth\":0,\"ticks\":\"\"}}}],\"scatterternary\":[{\"type\":\"scatterternary\",\"marker\":{\"colorbar\":{\"outlinewidth\":0,\"ticks\":\"\"}}}],\"scattercarpet\":[{\"type\":\"scattercarpet\",\"marker\":{\"colorbar\":{\"outlinewidth\":0,\"ticks\":\"\"}}}],\"carpet\":[{\"aaxis\":{\"endlinecolor\":\"#A2B1C6\",\"gridcolor\":\"#506784\",\"linecolor\":\"#506784\",\"minorgridcolor\":\"#506784\",\"startlinecolor\":\"#A2B1C6\"},\"baxis\":{\"endlinecolor\":\"#A2B1C6\",\"gridcolor\":\"#506784\",\"linecolor\":\"#506784\",\"minorgridcolor\":\"#506784\",\"startlinecolor\":\"#A2B1C6\"},\"type\":\"carpet\"}],\"table\":[{\"cells\":{\"fill\":{\"color\":\"#506784\"},\"line\":{\"color\":\"rgb(17,17,17)\"}},\"header\":{\"fill\":{\"color\":\"#2a3f5f\"},\"line\":{\"color\":\"rgb(17,17,17)\"}},\"type\":\"table\"}],\"barpolar\":[{\"marker\":{\"line\":{\"color\":\"rgb(17,17,17)\",\"width\":0.5},\"pattern\":{\"fillmode\":\"overlay\",\"size\":10,\"solidity\":0.2}},\"type\":\"barpolar\"}],\"pie\":[{\"automargin\":true,\"type\":\"pie\"}]},\"layout\":{\"autotypenumbers\":\"strict\",\"colorway\":[\"#636efa\",\"#EF553B\",\"#00cc96\",\"#ab63fa\",\"#FFA15A\",\"#19d3f3\",\"#FF6692\",\"#B6E880\",\"#FF97FF\",\"#FECB52\"],\"font\":{\"color\":\"#f2f5fa\"},\"hovermode\":\"closest\",\"hoverlabel\":{\"align\":\"left\"},\"paper_bgcolor\":\"rgb(17,17,17)\",\"plot_bgcolor\":\"rgb(17,17,17)\",\"polar\":{\"bgcolor\":\"rgb(17,17,17)\",\"angularaxis\":{\"gridcolor\":\"#506784\",\"linecolor\":\"#506784\",\"ticks\":\"\"},\"radialaxis\":{\"gridcolor\":\"#506784\",\"linecolor\":\"#506784\",\"ticks\":\"\"}},\"ternary\":{\"bgcolor\":\"rgb(17,17,17)\",\"aaxis\":{\"gridcolor\":\"#506784\",\"linecolor\":\"#506784\",\"ticks\":\"\"},\"baxis\":{\"gridcolor\":\"#506784\",\"linecolor\":\"#506784\",\"ticks\":\"\"},\"caxis\":{\"gridcolor\":\"#506784\",\"linecolor\":\"#506784\",\"ticks\":\"\"}},\"coloraxis\":{\"colorbar\":{\"outlinewidth\":0,\"ticks\":\"\"}},\"colorscale\":{\"sequential\":[[0.0,\"#0d0887\"],[0.1111111111111111,\"#46039f\"],[0.2222222222222222,\"#7201a8\"],[0.3333333333333333,\"#9c179e\"],[0.4444444444444444,\"#bd3786\"],[0.5555555555555556,\"#d8576b\"],[0.6666666666666666,\"#ed7953\"],[0.7777777777777778,\"#fb9f3a\"],[0.8888888888888888,\"#fdca26\"],[1.0,\"#f0f921\"]],\"sequentialminus\":[[0.0,\"#0d0887\"],[0.1111111111111111,\"#46039f\"],[0.2222222222222222,\"#7201a8\"],[0.3333333333333333,\"#9c179e\"],[0.4444444444444444,\"#bd3786\"],[0.5555555555555556,\"#d8576b\"],[0.6666666666666666,\"#ed7953\"],[0.7777777777777778,\"#fb9f3a\"],[0.8888888888888888,\"#fdca26\"],[1.0,\"#f0f921\"]],\"diverging\":[[0,\"#8e0152\"],[0.1,\"#c51b7d\"],[0.2,\"#de77ae\"],[0.3,\"#f1b6da\"],[0.4,\"#fde0ef\"],[0.5,\"#f7f7f7\"],[0.6,\"#e6f5d0\"],[0.7,\"#b8e186\"],[0.8,\"#7fbc41\"],[0.9,\"#4d9221\"],[1,\"#276419\"]]},\"xaxis\":{\"gridcolor\":\"#283442\",\"linecolor\":\"#506784\",\"ticks\":\"\",\"title\":{\"standoff\":15},\"zerolinecolor\":\"#283442\",\"automargin\":true,\"zerolinewidth\":2},\"yaxis\":{\"gridcolor\":\"#283442\",\"linecolor\":\"#506784\",\"ticks\":\"\",\"title\":{\"standoff\":15},\"zerolinecolor\":\"#283442\",\"automargin\":true,\"zerolinewidth\":2},\"scene\":{\"xaxis\":{\"backgroundcolor\":\"rgb(17,17,17)\",\"gridcolor\":\"#506784\",\"linecolor\":\"#506784\",\"showbackground\":true,\"ticks\":\"\",\"zerolinecolor\":\"#C8D4E3\",\"gridwidth\":2},\"yaxis\":{\"backgroundcolor\":\"rgb(17,17,17)\",\"gridcolor\":\"#506784\",\"linecolor\":\"#506784\",\"showbackground\":true,\"ticks\":\"\",\"zerolinecolor\":\"#C8D4E3\",\"gridwidth\":2},\"zaxis\":{\"backgroundcolor\":\"rgb(17,17,17)\",\"gridcolor\":\"#506784\",\"linecolor\":\"#506784\",\"showbackground\":true,\"ticks\":\"\",\"zerolinecolor\":\"#C8D4E3\",\"gridwidth\":2}},\"shapedefaults\":{\"line\":{\"color\":\"#f2f5fa\"}},\"annotationdefaults\":{\"arrowcolor\":\"#f2f5fa\",\"arrowhead\":0,\"arrowwidth\":1},\"geo\":{\"bgcolor\":\"rgb(17,17,17)\",\"landcolor\":\"rgb(17,17,17)\",\"subunitcolor\":\"#506784\",\"showland\":true,\"showlakes\":true,\"lakecolor\":\"rgb(17,17,17)\"},\"title\":{\"x\":0.05},\"updatemenudefaults\":{\"bgcolor\":\"#506784\",\"borderwidth\":0},\"sliderdefaults\":{\"bgcolor\":\"#C8D4E3\",\"borderwidth\":1,\"bordercolor\":\"rgb(17,17,17)\",\"tickwidth\":0},\"mapbox\":{\"style\":\"dark\"}}},\"xaxis\":{\"anchor\":\"y\",\"domain\":[0.0,1.0],\"title\":{\"text\":\"Spinal level\"}},\"yaxis\":{\"anchor\":\"x\",\"domain\":[0.0,1.0],\"title\":{\"text\":\"caudal to rostral length (mm)\"}},\"legend\":{\"title\":{\"text\":\"which\"},\"tracegroupgap\":0},\"margin\":{\"t\":60},\"violinmode\":\"group\",\"title\":{\"text\":\"Violin Plot for caudal-rostral length distribution\"}},                        {\"responsive\": true}                    ).then(function(){\n                            \nvar gd = document.getElementById('fc949730-77e2-455d-889f-9592e944919b');\nvar x = new MutationObserver(function (mutations, observer) {{\n        var display = window.getComputedStyle(gd).display;\n        if (!display || display === 'none') {{\n            console.log([gd, 'removed!']);\n            Plotly.purge(gd);\n            observer.disconnect();\n        }}\n}});\n\n// Listen for the removal of the full notebook cells\nvar notebookContainer = gd.closest('#notebook-container');\nif (notebookContainer) {{\n    x.observe(notebookContainer, {childList: true});\n}}\n\n// Listen for the clearing of the current output cell\nvar outputEl = gd.closest('.output');\nif (outputEl) {{\n    x.observe(outputEl, {childList: true});\n}}\n\n                        })                };                });            </script>        </div>"
     },
     "metadata": {},
     "output_type": "display_data"
    }
   ],
   "source": [
    "fig = px.violin(concatenated_df, y=\"height\", x=\"level\", color=\"which\", box=True, points=\"all\",\n",
    "          hover_data=[\"sub_name\",\"which\"])\n",
    "\n",
    "fig.update_layout(title='Violin Plot for caudal-rostral length distribution',\n",
    "                  xaxis=dict(title='Spinal level'),\n",
    "                  yaxis=dict(title='caudal to rostral length (mm)'))\n",
    "fig.show()"
   ],
   "metadata": {
    "collapsed": false,
    "ExecuteTime": {
     "end_time": "2023-08-02T16:00:51.186612Z",
     "start_time": "2023-08-02T16:00:51.181721Z"
    }
   }
  },
  {
   "cell_type": "code",
   "execution_count": 276,
   "outputs": [
    {
     "data": {
      "application/vnd.plotly.v1+json": {
       "data": [
        {
         "alignmentgroup": "True",
         "box": {
          "visible": true
         },
         "customdata": [
          [
           "14493_008_0000",
           "pred"
          ],
          [
           "14493_008_0000",
           "pred"
          ],
          [
           "14493_008_0000",
           "pred"
          ],
          [
           "14493_008_0000",
           "pred"
          ],
          [
           "14493_008_0000",
           "pred"
          ],
          [
           "14493_008_0000",
           "pred"
          ],
          [
           "14493_008_0000",
           "pred"
          ],
          [
           "14493_008_0000",
           "pred"
          ],
          [
           "14493_008_0000",
           "pred"
          ],
          [
           "14493_008_0000",
           "pred"
          ],
          [
           "14492_007_0000",
           "pred"
          ],
          [
           "14492_007_0000",
           "pred"
          ],
          [
           "14492_007_0000",
           "pred"
          ],
          [
           "14492_007_0000",
           "pred"
          ],
          [
           "14492_007_0000",
           "pred"
          ],
          [
           "14492_007_0000",
           "pred"
          ],
          [
           "14492_007_0000",
           "pred"
          ],
          [
           "14492_007_0000",
           "pred"
          ],
          [
           "14492_007_0000",
           "pred"
          ],
          [
           "14492_007_0000",
           "pred"
          ],
          [
           "14350_011_0000",
           "pred"
          ],
          [
           "14350_011_0000",
           "pred"
          ],
          [
           "14350_011_0000",
           "pred"
          ],
          [
           "14350_011_0000",
           "pred"
          ],
          [
           "14350_011_0000",
           "pred"
          ],
          [
           "14350_011_0000",
           "pred"
          ],
          [
           "14350_011_0000",
           "pred"
          ],
          [
           "14350_011_0000",
           "pred"
          ],
          [
           "14350_011_0000",
           "pred"
          ],
          [
           "14350_011_0000",
           "pred"
          ],
          [
           "14411_013_0000",
           "pred"
          ],
          [
           "14411_013_0000",
           "pred"
          ],
          [
           "14411_013_0000",
           "pred"
          ],
          [
           "14411_013_0000",
           "pred"
          ],
          [
           "14411_013_0000",
           "pred"
          ],
          [
           "14411_013_0000",
           "pred"
          ],
          [
           "14411_013_0000",
           "pred"
          ],
          [
           "14411_013_0000",
           "pred"
          ],
          [
           "14411_013_0000",
           "pred"
          ],
          [
           "14411_013_0000",
           "pred"
          ],
          [
           "13746_012_0000",
           "pred"
          ],
          [
           "13746_012_0000",
           "pred"
          ],
          [
           "13746_012_0000",
           "pred"
          ],
          [
           "13746_012_0000",
           "pred"
          ],
          [
           "13746_012_0000",
           "pred"
          ],
          [
           "13746_012_0000",
           "pred"
          ],
          [
           "13746_012_0000",
           "pred"
          ],
          [
           "13746_012_0000",
           "pred"
          ],
          [
           "13746_012_0000",
           "pred"
          ],
          [
           "13746_012_0000",
           "pred"
          ],
          [
           "13757_004_0000",
           "pred"
          ],
          [
           "13757_004_0000",
           "pred"
          ],
          [
           "13757_004_0000",
           "pred"
          ],
          [
           "13757_004_0000",
           "pred"
          ],
          [
           "13757_004_0000",
           "pred"
          ],
          [
           "13757_004_0000",
           "pred"
          ],
          [
           "13757_004_0000",
           "pred"
          ],
          [
           "13757_004_0000",
           "pred"
          ],
          [
           "13757_004_0000",
           "pred"
          ],
          [
           "13757_004_0000",
           "pred"
          ],
          [
           "14348_003_0000",
           "pred"
          ],
          [
           "14348_003_0000",
           "pred"
          ],
          [
           "14348_003_0000",
           "pred"
          ],
          [
           "14348_003_0000",
           "pred"
          ],
          [
           "14348_003_0000",
           "pred"
          ],
          [
           "14348_003_0000",
           "pred"
          ],
          [
           "14348_003_0000",
           "pred"
          ],
          [
           "14348_003_0000",
           "pred"
          ],
          [
           "14348_003_0000",
           "pred"
          ],
          [
           "14348_003_0000",
           "pred"
          ],
          [
           "13755_009_0000",
           "pred"
          ],
          [
           "13755_009_0000",
           "pred"
          ],
          [
           "13755_009_0000",
           "pred"
          ],
          [
           "13755_009_0000",
           "pred"
          ],
          [
           "13755_009_0000",
           "pred"
          ],
          [
           "13755_009_0000",
           "pred"
          ],
          [
           "13755_009_0000",
           "pred"
          ],
          [
           "13755_009_0000",
           "pred"
          ],
          [
           "13755_009_0000",
           "pred"
          ],
          [
           "13755_009_0000",
           "pred"
          ],
          [
           "13747_010_0000",
           "pred"
          ],
          [
           "13747_010_0000",
           "pred"
          ],
          [
           "13747_010_0000",
           "pred"
          ],
          [
           "13747_010_0000",
           "pred"
          ],
          [
           "13747_010_0000",
           "pred"
          ],
          [
           "13747_010_0000",
           "pred"
          ],
          [
           "13747_010_0000",
           "pred"
          ],
          [
           "13747_010_0000",
           "pred"
          ],
          [
           "13747_010_0000",
           "pred"
          ],
          [
           "13747_010_0000",
           "pred"
          ],
          [
           "14693_002_0000",
           "pred"
          ],
          [
           "14693_002_0000",
           "pred"
          ],
          [
           "14693_002_0000",
           "pred"
          ],
          [
           "14693_002_0000",
           "pred"
          ],
          [
           "14693_002_0000",
           "pred"
          ],
          [
           "14693_002_0000",
           "pred"
          ],
          [
           "14693_002_0000",
           "pred"
          ],
          [
           "14693_002_0000",
           "pred"
          ],
          [
           "14693_002_0000",
           "pred"
          ],
          [
           "14693_002_0000",
           "pred"
          ],
          [
           "14406_001_0000",
           "pred"
          ],
          [
           "14406_001_0000",
           "pred"
          ],
          [
           "14406_001_0000",
           "pred"
          ],
          [
           "14406_001_0000",
           "pred"
          ],
          [
           "14406_001_0000",
           "pred"
          ],
          [
           "14406_001_0000",
           "pred"
          ],
          [
           "14406_001_0000",
           "pred"
          ],
          [
           "14406_001_0000",
           "pred"
          ],
          [
           "14406_001_0000",
           "pred"
          ],
          [
           "14406_001_0000",
           "pred"
          ],
          [
           "13697_005_0000",
           "pred"
          ],
          [
           "13697_005_0000",
           "pred"
          ],
          [
           "13697_005_0000",
           "pred"
          ],
          [
           "13697_005_0000",
           "pred"
          ],
          [
           "13697_005_0000",
           "pred"
          ],
          [
           "13697_005_0000",
           "pred"
          ],
          [
           "13697_005_0000",
           "pred"
          ],
          [
           "13697_005_0000",
           "pred"
          ],
          [
           "13697_005_0000",
           "pred"
          ],
          [
           "13697_005_0000",
           "pred"
          ],
          [
           "13696_006_0000",
           "pred"
          ],
          [
           "13696_006_0000",
           "pred"
          ],
          [
           "13696_006_0000",
           "pred"
          ],
          [
           "13696_006_0000",
           "pred"
          ],
          [
           "13696_006_0000",
           "pred"
          ],
          [
           "13696_006_0000",
           "pred"
          ],
          [
           "13696_006_0000",
           "pred"
          ],
          [
           "13696_006_0000",
           "pred"
          ],
          [
           "13696_006_0000",
           "pred"
          ],
          [
           "13696_006_0000",
           "pred"
          ],
          [
           "14407_000_0000",
           "pred"
          ],
          [
           "14407_000_0000",
           "pred"
          ],
          [
           "14407_000_0000",
           "pred"
          ],
          [
           "14407_000_0000",
           "pred"
          ],
          [
           "14407_000_0000",
           "pred"
          ],
          [
           "14407_000_0000",
           "pred"
          ],
          [
           "14407_000_0000",
           "pred"
          ],
          [
           "14407_000_0000",
           "pred"
          ],
          [
           "14407_000_0000",
           "pred"
          ],
          [
           "14407_000_0000",
           "pred"
          ]
         ],
         "hovertemplate": "which=%{customdata[1]}<br>level=%{x}<br>height=%{y}<br>sub_name=%{customdata[0]}<extra></extra>",
         "legendgroup": "pred",
         "marker": {
          "color": "#636efa"
         },
         "name": "pred",
         "offsetgroup": "pred",
         "orientation": "v",
         "points": "all",
         "scalegroup": "True",
         "showlegend": true,
         "x": [
          2,
          3,
          4,
          5,
          6,
          7,
          8,
          9,
          10,
          11,
          2,
          3,
          4,
          5,
          6,
          7,
          8,
          9,
          10,
          11,
          2,
          3,
          4,
          5,
          6,
          7,
          8,
          9,
          10,
          11,
          2,
          3,
          4,
          5,
          6,
          7,
          8,
          9,
          10,
          11,
          2,
          3,
          4,
          5,
          6,
          7,
          8,
          9,
          10,
          11,
          2,
          3,
          4,
          5,
          6,
          7,
          8,
          9,
          10,
          11,
          2,
          3,
          4,
          5,
          6,
          7,
          8,
          9,
          10,
          11,
          2,
          3,
          4,
          5,
          6,
          7,
          8,
          9,
          10,
          11,
          2,
          3,
          4,
          5,
          6,
          7,
          8,
          9,
          10,
          11,
          2,
          3,
          4,
          5,
          6,
          7,
          8,
          9,
          10,
          11,
          2,
          3,
          4,
          5,
          6,
          7,
          8,
          9,
          10,
          11,
          2,
          3,
          4,
          5,
          6,
          7,
          8,
          9,
          10,
          11,
          2,
          3,
          4,
          5,
          6,
          7,
          8,
          9,
          10,
          11,
          2,
          3,
          4,
          5,
          6,
          7,
          8,
          9,
          10,
          11
         ],
         "x0": " ",
         "xaxis": "x",
         "y": [
          null,
          2.3435996174812317,
          null,
          null,
          null,
          null,
          null,
          null,
          null,
          null,
          null,
          0.7812002897262573,
          null,
          null,
          null,
          null,
          null,
          null,
          null,
          null,
          null,
          1.5624005794525146,
          null,
          0.0,
          null,
          3.515401303768158,
          null,
          null,
          null,
          null,
          3.1247997283935547,
          5.077799558639526,
          null,
          null,
          null,
          null,
          4.296599626541138,
          null,
          null,
          null,
          null,
          1.1718002557754517,
          null,
          null,
          null,
          null,
          2.3436005115509033,
          10.936802387237549,
          null,
          null,
          1.5624001026153564,
          0.7812000513076782,
          null,
          null,
          null,
          null,
          null,
          null,
          null,
          null,
          null,
          null,
          null,
          null,
          null,
          null,
          null,
          null,
          null,
          null,
          null,
          null,
          null,
          null,
          null,
          2.734199970960617,
          3.5153999626636505,
          null,
          null,
          null,
          null,
          8.593198597431183,
          null,
          null,
          null,
          null,
          null,
          null,
          null,
          null,
          2.3436010479927063,
          10.155604541301727,
          0.0,
          null,
          null,
          null,
          null,
          null,
          null,
          null,
          null,
          7.811997532844544,
          null,
          null,
          null,
          null,
          null,
          null,
          null,
          null,
          4.296599626541138,
          null,
          null,
          null,
          null,
          null,
          null,
          null,
          null,
          null,
          null,
          3.1247994899749756,
          0.0,
          null,
          null,
          null,
          null,
          null,
          null,
          null,
          null,
          null,
          4.2966019213199615,
          0.0,
          5.077802270650864,
          0.390600174665451,
          null,
          0.0,
          null,
          null
         ],
         "y0": " ",
         "yaxis": "y",
         "type": "violin"
        }
       ],
       "layout": {
        "template": {
         "data": {
          "histogram2dcontour": [
           {
            "type": "histogram2dcontour",
            "colorbar": {
             "outlinewidth": 0,
             "ticks": ""
            },
            "colorscale": [
             [
              0.0,
              "#0d0887"
             ],
             [
              0.1111111111111111,
              "#46039f"
             ],
             [
              0.2222222222222222,
              "#7201a8"
             ],
             [
              0.3333333333333333,
              "#9c179e"
             ],
             [
              0.4444444444444444,
              "#bd3786"
             ],
             [
              0.5555555555555556,
              "#d8576b"
             ],
             [
              0.6666666666666666,
              "#ed7953"
             ],
             [
              0.7777777777777778,
              "#fb9f3a"
             ],
             [
              0.8888888888888888,
              "#fdca26"
             ],
             [
              1.0,
              "#f0f921"
             ]
            ]
           }
          ],
          "choropleth": [
           {
            "type": "choropleth",
            "colorbar": {
             "outlinewidth": 0,
             "ticks": ""
            }
           }
          ],
          "histogram2d": [
           {
            "type": "histogram2d",
            "colorbar": {
             "outlinewidth": 0,
             "ticks": ""
            },
            "colorscale": [
             [
              0.0,
              "#0d0887"
             ],
             [
              0.1111111111111111,
              "#46039f"
             ],
             [
              0.2222222222222222,
              "#7201a8"
             ],
             [
              0.3333333333333333,
              "#9c179e"
             ],
             [
              0.4444444444444444,
              "#bd3786"
             ],
             [
              0.5555555555555556,
              "#d8576b"
             ],
             [
              0.6666666666666666,
              "#ed7953"
             ],
             [
              0.7777777777777778,
              "#fb9f3a"
             ],
             [
              0.8888888888888888,
              "#fdca26"
             ],
             [
              1.0,
              "#f0f921"
             ]
            ]
           }
          ],
          "heatmap": [
           {
            "type": "heatmap",
            "colorbar": {
             "outlinewidth": 0,
             "ticks": ""
            },
            "colorscale": [
             [
              0.0,
              "#0d0887"
             ],
             [
              0.1111111111111111,
              "#46039f"
             ],
             [
              0.2222222222222222,
              "#7201a8"
             ],
             [
              0.3333333333333333,
              "#9c179e"
             ],
             [
              0.4444444444444444,
              "#bd3786"
             ],
             [
              0.5555555555555556,
              "#d8576b"
             ],
             [
              0.6666666666666666,
              "#ed7953"
             ],
             [
              0.7777777777777778,
              "#fb9f3a"
             ],
             [
              0.8888888888888888,
              "#fdca26"
             ],
             [
              1.0,
              "#f0f921"
             ]
            ]
           }
          ],
          "heatmapgl": [
           {
            "type": "heatmapgl",
            "colorbar": {
             "outlinewidth": 0,
             "ticks": ""
            },
            "colorscale": [
             [
              0.0,
              "#0d0887"
             ],
             [
              0.1111111111111111,
              "#46039f"
             ],
             [
              0.2222222222222222,
              "#7201a8"
             ],
             [
              0.3333333333333333,
              "#9c179e"
             ],
             [
              0.4444444444444444,
              "#bd3786"
             ],
             [
              0.5555555555555556,
              "#d8576b"
             ],
             [
              0.6666666666666666,
              "#ed7953"
             ],
             [
              0.7777777777777778,
              "#fb9f3a"
             ],
             [
              0.8888888888888888,
              "#fdca26"
             ],
             [
              1.0,
              "#f0f921"
             ]
            ]
           }
          ],
          "contourcarpet": [
           {
            "type": "contourcarpet",
            "colorbar": {
             "outlinewidth": 0,
             "ticks": ""
            }
           }
          ],
          "contour": [
           {
            "type": "contour",
            "colorbar": {
             "outlinewidth": 0,
             "ticks": ""
            },
            "colorscale": [
             [
              0.0,
              "#0d0887"
             ],
             [
              0.1111111111111111,
              "#46039f"
             ],
             [
              0.2222222222222222,
              "#7201a8"
             ],
             [
              0.3333333333333333,
              "#9c179e"
             ],
             [
              0.4444444444444444,
              "#bd3786"
             ],
             [
              0.5555555555555556,
              "#d8576b"
             ],
             [
              0.6666666666666666,
              "#ed7953"
             ],
             [
              0.7777777777777778,
              "#fb9f3a"
             ],
             [
              0.8888888888888888,
              "#fdca26"
             ],
             [
              1.0,
              "#f0f921"
             ]
            ]
           }
          ],
          "surface": [
           {
            "type": "surface",
            "colorbar": {
             "outlinewidth": 0,
             "ticks": ""
            },
            "colorscale": [
             [
              0.0,
              "#0d0887"
             ],
             [
              0.1111111111111111,
              "#46039f"
             ],
             [
              0.2222222222222222,
              "#7201a8"
             ],
             [
              0.3333333333333333,
              "#9c179e"
             ],
             [
              0.4444444444444444,
              "#bd3786"
             ],
             [
              0.5555555555555556,
              "#d8576b"
             ],
             [
              0.6666666666666666,
              "#ed7953"
             ],
             [
              0.7777777777777778,
              "#fb9f3a"
             ],
             [
              0.8888888888888888,
              "#fdca26"
             ],
             [
              1.0,
              "#f0f921"
             ]
            ]
           }
          ],
          "mesh3d": [
           {
            "type": "mesh3d",
            "colorbar": {
             "outlinewidth": 0,
             "ticks": ""
            }
           }
          ],
          "scatter": [
           {
            "marker": {
             "line": {
              "color": "#283442"
             }
            },
            "type": "scatter"
           }
          ],
          "parcoords": [
           {
            "type": "parcoords",
            "line": {
             "colorbar": {
              "outlinewidth": 0,
              "ticks": ""
             }
            }
           }
          ],
          "scatterpolargl": [
           {
            "type": "scatterpolargl",
            "marker": {
             "colorbar": {
              "outlinewidth": 0,
              "ticks": ""
             }
            }
           }
          ],
          "bar": [
           {
            "error_x": {
             "color": "#f2f5fa"
            },
            "error_y": {
             "color": "#f2f5fa"
            },
            "marker": {
             "line": {
              "color": "rgb(17,17,17)",
              "width": 0.5
             },
             "pattern": {
              "fillmode": "overlay",
              "size": 10,
              "solidity": 0.2
             }
            },
            "type": "bar"
           }
          ],
          "scattergeo": [
           {
            "type": "scattergeo",
            "marker": {
             "colorbar": {
              "outlinewidth": 0,
              "ticks": ""
             }
            }
           }
          ],
          "scatterpolar": [
           {
            "type": "scatterpolar",
            "marker": {
             "colorbar": {
              "outlinewidth": 0,
              "ticks": ""
             }
            }
           }
          ],
          "histogram": [
           {
            "marker": {
             "pattern": {
              "fillmode": "overlay",
              "size": 10,
              "solidity": 0.2
             }
            },
            "type": "histogram"
           }
          ],
          "scattergl": [
           {
            "marker": {
             "line": {
              "color": "#283442"
             }
            },
            "type": "scattergl"
           }
          ],
          "scatter3d": [
           {
            "type": "scatter3d",
            "line": {
             "colorbar": {
              "outlinewidth": 0,
              "ticks": ""
             }
            },
            "marker": {
             "colorbar": {
              "outlinewidth": 0,
              "ticks": ""
             }
            }
           }
          ],
          "scattermapbox": [
           {
            "type": "scattermapbox",
            "marker": {
             "colorbar": {
              "outlinewidth": 0,
              "ticks": ""
             }
            }
           }
          ],
          "scatterternary": [
           {
            "type": "scatterternary",
            "marker": {
             "colorbar": {
              "outlinewidth": 0,
              "ticks": ""
             }
            }
           }
          ],
          "scattercarpet": [
           {
            "type": "scattercarpet",
            "marker": {
             "colorbar": {
              "outlinewidth": 0,
              "ticks": ""
             }
            }
           }
          ],
          "carpet": [
           {
            "aaxis": {
             "endlinecolor": "#A2B1C6",
             "gridcolor": "#506784",
             "linecolor": "#506784",
             "minorgridcolor": "#506784",
             "startlinecolor": "#A2B1C6"
            },
            "baxis": {
             "endlinecolor": "#A2B1C6",
             "gridcolor": "#506784",
             "linecolor": "#506784",
             "minorgridcolor": "#506784",
             "startlinecolor": "#A2B1C6"
            },
            "type": "carpet"
           }
          ],
          "table": [
           {
            "cells": {
             "fill": {
              "color": "#506784"
             },
             "line": {
              "color": "rgb(17,17,17)"
             }
            },
            "header": {
             "fill": {
              "color": "#2a3f5f"
             },
             "line": {
              "color": "rgb(17,17,17)"
             }
            },
            "type": "table"
           }
          ],
          "barpolar": [
           {
            "marker": {
             "line": {
              "color": "rgb(17,17,17)",
              "width": 0.5
             },
             "pattern": {
              "fillmode": "overlay",
              "size": 10,
              "solidity": 0.2
             }
            },
            "type": "barpolar"
           }
          ],
          "pie": [
           {
            "automargin": true,
            "type": "pie"
           }
          ]
         },
         "layout": {
          "autotypenumbers": "strict",
          "colorway": [
           "#636efa",
           "#EF553B",
           "#00cc96",
           "#ab63fa",
           "#FFA15A",
           "#19d3f3",
           "#FF6692",
           "#B6E880",
           "#FF97FF",
           "#FECB52"
          ],
          "font": {
           "color": "#f2f5fa"
          },
          "hovermode": "closest",
          "hoverlabel": {
           "align": "left"
          },
          "paper_bgcolor": "rgb(17,17,17)",
          "plot_bgcolor": "rgb(17,17,17)",
          "polar": {
           "bgcolor": "rgb(17,17,17)",
           "angularaxis": {
            "gridcolor": "#506784",
            "linecolor": "#506784",
            "ticks": ""
           },
           "radialaxis": {
            "gridcolor": "#506784",
            "linecolor": "#506784",
            "ticks": ""
           }
          },
          "ternary": {
           "bgcolor": "rgb(17,17,17)",
           "aaxis": {
            "gridcolor": "#506784",
            "linecolor": "#506784",
            "ticks": ""
           },
           "baxis": {
            "gridcolor": "#506784",
            "linecolor": "#506784",
            "ticks": ""
           },
           "caxis": {
            "gridcolor": "#506784",
            "linecolor": "#506784",
            "ticks": ""
           }
          },
          "coloraxis": {
           "colorbar": {
            "outlinewidth": 0,
            "ticks": ""
           }
          },
          "colorscale": {
           "sequential": [
            [
             0.0,
             "#0d0887"
            ],
            [
             0.1111111111111111,
             "#46039f"
            ],
            [
             0.2222222222222222,
             "#7201a8"
            ],
            [
             0.3333333333333333,
             "#9c179e"
            ],
            [
             0.4444444444444444,
             "#bd3786"
            ],
            [
             0.5555555555555556,
             "#d8576b"
            ],
            [
             0.6666666666666666,
             "#ed7953"
            ],
            [
             0.7777777777777778,
             "#fb9f3a"
            ],
            [
             0.8888888888888888,
             "#fdca26"
            ],
            [
             1.0,
             "#f0f921"
            ]
           ],
           "sequentialminus": [
            [
             0.0,
             "#0d0887"
            ],
            [
             0.1111111111111111,
             "#46039f"
            ],
            [
             0.2222222222222222,
             "#7201a8"
            ],
            [
             0.3333333333333333,
             "#9c179e"
            ],
            [
             0.4444444444444444,
             "#bd3786"
            ],
            [
             0.5555555555555556,
             "#d8576b"
            ],
            [
             0.6666666666666666,
             "#ed7953"
            ],
            [
             0.7777777777777778,
             "#fb9f3a"
            ],
            [
             0.8888888888888888,
             "#fdca26"
            ],
            [
             1.0,
             "#f0f921"
            ]
           ],
           "diverging": [
            [
             0,
             "#8e0152"
            ],
            [
             0.1,
             "#c51b7d"
            ],
            [
             0.2,
             "#de77ae"
            ],
            [
             0.3,
             "#f1b6da"
            ],
            [
             0.4,
             "#fde0ef"
            ],
            [
             0.5,
             "#f7f7f7"
            ],
            [
             0.6,
             "#e6f5d0"
            ],
            [
             0.7,
             "#b8e186"
            ],
            [
             0.8,
             "#7fbc41"
            ],
            [
             0.9,
             "#4d9221"
            ],
            [
             1,
             "#276419"
            ]
           ]
          },
          "xaxis": {
           "gridcolor": "#283442",
           "linecolor": "#506784",
           "ticks": "",
           "title": {
            "standoff": 15
           },
           "zerolinecolor": "#283442",
           "automargin": true,
           "zerolinewidth": 2
          },
          "yaxis": {
           "gridcolor": "#283442",
           "linecolor": "#506784",
           "ticks": "",
           "title": {
            "standoff": 15
           },
           "zerolinecolor": "#283442",
           "automargin": true,
           "zerolinewidth": 2
          },
          "scene": {
           "xaxis": {
            "backgroundcolor": "rgb(17,17,17)",
            "gridcolor": "#506784",
            "linecolor": "#506784",
            "showbackground": true,
            "ticks": "",
            "zerolinecolor": "#C8D4E3",
            "gridwidth": 2
           },
           "yaxis": {
            "backgroundcolor": "rgb(17,17,17)",
            "gridcolor": "#506784",
            "linecolor": "#506784",
            "showbackground": true,
            "ticks": "",
            "zerolinecolor": "#C8D4E3",
            "gridwidth": 2
           },
           "zaxis": {
            "backgroundcolor": "rgb(17,17,17)",
            "gridcolor": "#506784",
            "linecolor": "#506784",
            "showbackground": true,
            "ticks": "",
            "zerolinecolor": "#C8D4E3",
            "gridwidth": 2
           }
          },
          "shapedefaults": {
           "line": {
            "color": "#f2f5fa"
           }
          },
          "annotationdefaults": {
           "arrowcolor": "#f2f5fa",
           "arrowhead": 0,
           "arrowwidth": 1
          },
          "geo": {
           "bgcolor": "rgb(17,17,17)",
           "landcolor": "rgb(17,17,17)",
           "subunitcolor": "#506784",
           "showland": true,
           "showlakes": true,
           "lakecolor": "rgb(17,17,17)"
          },
          "title": {
           "x": 0.05
          },
          "updatemenudefaults": {
           "bgcolor": "#506784",
           "borderwidth": 0
          },
          "sliderdefaults": {
           "bgcolor": "#C8D4E3",
           "borderwidth": 1,
           "bordercolor": "rgb(17,17,17)",
           "tickwidth": 0
          },
          "mapbox": {
           "style": "dark"
          }
         }
        },
        "xaxis": {
         "anchor": "y",
         "domain": [
          0.0,
          1.0
         ],
         "title": {
          "text": "level"
         }
        },
        "yaxis": {
         "anchor": "x",
         "domain": [
          0.0,
          1.0
         ],
         "title": {
          "text": "height"
         }
        },
        "legend": {
         "title": {
          "text": "which"
         },
         "tracegroupgap": 0
        },
        "margin": {
         "t": 60
        },
        "violinmode": "group"
       },
       "config": {
        "plotlyServerURL": "https://plot.ly"
       }
      },
      "text/html": "<div>                            <div id=\"180cca94-ba4a-4ace-82cc-e8340657064f\" class=\"plotly-graph-div\" style=\"height:525px; width:100%;\"></div>            <script type=\"text/javascript\">                require([\"plotly\"], function(Plotly) {                    window.PLOTLYENV=window.PLOTLYENV || {};                                    if (document.getElementById(\"180cca94-ba4a-4ace-82cc-e8340657064f\")) {                    Plotly.newPlot(                        \"180cca94-ba4a-4ace-82cc-e8340657064f\",                        [{\"alignmentgroup\":\"True\",\"box\":{\"visible\":true},\"customdata\":[[\"14493_008_0000\",\"pred\"],[\"14493_008_0000\",\"pred\"],[\"14493_008_0000\",\"pred\"],[\"14493_008_0000\",\"pred\"],[\"14493_008_0000\",\"pred\"],[\"14493_008_0000\",\"pred\"],[\"14493_008_0000\",\"pred\"],[\"14493_008_0000\",\"pred\"],[\"14493_008_0000\",\"pred\"],[\"14493_008_0000\",\"pred\"],[\"14492_007_0000\",\"pred\"],[\"14492_007_0000\",\"pred\"],[\"14492_007_0000\",\"pred\"],[\"14492_007_0000\",\"pred\"],[\"14492_007_0000\",\"pred\"],[\"14492_007_0000\",\"pred\"],[\"14492_007_0000\",\"pred\"],[\"14492_007_0000\",\"pred\"],[\"14492_007_0000\",\"pred\"],[\"14492_007_0000\",\"pred\"],[\"14350_011_0000\",\"pred\"],[\"14350_011_0000\",\"pred\"],[\"14350_011_0000\",\"pred\"],[\"14350_011_0000\",\"pred\"],[\"14350_011_0000\",\"pred\"],[\"14350_011_0000\",\"pred\"],[\"14350_011_0000\",\"pred\"],[\"14350_011_0000\",\"pred\"],[\"14350_011_0000\",\"pred\"],[\"14350_011_0000\",\"pred\"],[\"14411_013_0000\",\"pred\"],[\"14411_013_0000\",\"pred\"],[\"14411_013_0000\",\"pred\"],[\"14411_013_0000\",\"pred\"],[\"14411_013_0000\",\"pred\"],[\"14411_013_0000\",\"pred\"],[\"14411_013_0000\",\"pred\"],[\"14411_013_0000\",\"pred\"],[\"14411_013_0000\",\"pred\"],[\"14411_013_0000\",\"pred\"],[\"13746_012_0000\",\"pred\"],[\"13746_012_0000\",\"pred\"],[\"13746_012_0000\",\"pred\"],[\"13746_012_0000\",\"pred\"],[\"13746_012_0000\",\"pred\"],[\"13746_012_0000\",\"pred\"],[\"13746_012_0000\",\"pred\"],[\"13746_012_0000\",\"pred\"],[\"13746_012_0000\",\"pred\"],[\"13746_012_0000\",\"pred\"],[\"13757_004_0000\",\"pred\"],[\"13757_004_0000\",\"pred\"],[\"13757_004_0000\",\"pred\"],[\"13757_004_0000\",\"pred\"],[\"13757_004_0000\",\"pred\"],[\"13757_004_0000\",\"pred\"],[\"13757_004_0000\",\"pred\"],[\"13757_004_0000\",\"pred\"],[\"13757_004_0000\",\"pred\"],[\"13757_004_0000\",\"pred\"],[\"14348_003_0000\",\"pred\"],[\"14348_003_0000\",\"pred\"],[\"14348_003_0000\",\"pred\"],[\"14348_003_0000\",\"pred\"],[\"14348_003_0000\",\"pred\"],[\"14348_003_0000\",\"pred\"],[\"14348_003_0000\",\"pred\"],[\"14348_003_0000\",\"pred\"],[\"14348_003_0000\",\"pred\"],[\"14348_003_0000\",\"pred\"],[\"13755_009_0000\",\"pred\"],[\"13755_009_0000\",\"pred\"],[\"13755_009_0000\",\"pred\"],[\"13755_009_0000\",\"pred\"],[\"13755_009_0000\",\"pred\"],[\"13755_009_0000\",\"pred\"],[\"13755_009_0000\",\"pred\"],[\"13755_009_0000\",\"pred\"],[\"13755_009_0000\",\"pred\"],[\"13755_009_0000\",\"pred\"],[\"13747_010_0000\",\"pred\"],[\"13747_010_0000\",\"pred\"],[\"13747_010_0000\",\"pred\"],[\"13747_010_0000\",\"pred\"],[\"13747_010_0000\",\"pred\"],[\"13747_010_0000\",\"pred\"],[\"13747_010_0000\",\"pred\"],[\"13747_010_0000\",\"pred\"],[\"13747_010_0000\",\"pred\"],[\"13747_010_0000\",\"pred\"],[\"14693_002_0000\",\"pred\"],[\"14693_002_0000\",\"pred\"],[\"14693_002_0000\",\"pred\"],[\"14693_002_0000\",\"pred\"],[\"14693_002_0000\",\"pred\"],[\"14693_002_0000\",\"pred\"],[\"14693_002_0000\",\"pred\"],[\"14693_002_0000\",\"pred\"],[\"14693_002_0000\",\"pred\"],[\"14693_002_0000\",\"pred\"],[\"14406_001_0000\",\"pred\"],[\"14406_001_0000\",\"pred\"],[\"14406_001_0000\",\"pred\"],[\"14406_001_0000\",\"pred\"],[\"14406_001_0000\",\"pred\"],[\"14406_001_0000\",\"pred\"],[\"14406_001_0000\",\"pred\"],[\"14406_001_0000\",\"pred\"],[\"14406_001_0000\",\"pred\"],[\"14406_001_0000\",\"pred\"],[\"13697_005_0000\",\"pred\"],[\"13697_005_0000\",\"pred\"],[\"13697_005_0000\",\"pred\"],[\"13697_005_0000\",\"pred\"],[\"13697_005_0000\",\"pred\"],[\"13697_005_0000\",\"pred\"],[\"13697_005_0000\",\"pred\"],[\"13697_005_0000\",\"pred\"],[\"13697_005_0000\",\"pred\"],[\"13697_005_0000\",\"pred\"],[\"13696_006_0000\",\"pred\"],[\"13696_006_0000\",\"pred\"],[\"13696_006_0000\",\"pred\"],[\"13696_006_0000\",\"pred\"],[\"13696_006_0000\",\"pred\"],[\"13696_006_0000\",\"pred\"],[\"13696_006_0000\",\"pred\"],[\"13696_006_0000\",\"pred\"],[\"13696_006_0000\",\"pred\"],[\"13696_006_0000\",\"pred\"],[\"14407_000_0000\",\"pred\"],[\"14407_000_0000\",\"pred\"],[\"14407_000_0000\",\"pred\"],[\"14407_000_0000\",\"pred\"],[\"14407_000_0000\",\"pred\"],[\"14407_000_0000\",\"pred\"],[\"14407_000_0000\",\"pred\"],[\"14407_000_0000\",\"pred\"],[\"14407_000_0000\",\"pred\"],[\"14407_000_0000\",\"pred\"]],\"hovertemplate\":\"which=%{customdata[1]}\\u003cbr\\u003elevel=%{x}\\u003cbr\\u003eheight=%{y}\\u003cbr\\u003esub_name=%{customdata[0]}\\u003cextra\\u003e\\u003c\\u002fextra\\u003e\",\"legendgroup\":\"pred\",\"marker\":{\"color\":\"#636efa\"},\"name\":\"pred\",\"offsetgroup\":\"pred\",\"orientation\":\"v\",\"points\":\"all\",\"scalegroup\":\"True\",\"showlegend\":true,\"x\":[2,3,4,5,6,7,8,9,10,11,2,3,4,5,6,7,8,9,10,11,2,3,4,5,6,7,8,9,10,11,2,3,4,5,6,7,8,9,10,11,2,3,4,5,6,7,8,9,10,11,2,3,4,5,6,7,8,9,10,11,2,3,4,5,6,7,8,9,10,11,2,3,4,5,6,7,8,9,10,11,2,3,4,5,6,7,8,9,10,11,2,3,4,5,6,7,8,9,10,11,2,3,4,5,6,7,8,9,10,11,2,3,4,5,6,7,8,9,10,11,2,3,4,5,6,7,8,9,10,11,2,3,4,5,6,7,8,9,10,11],\"x0\":\" \",\"xaxis\":\"x\",\"y\":[null,2.3435996174812317,null,null,null,null,null,null,null,null,null,0.7812002897262573,null,null,null,null,null,null,null,null,null,1.5624005794525146,null,0.0,null,3.515401303768158,null,null,null,null,3.1247997283935547,5.077799558639526,null,null,null,null,4.296599626541138,null,null,null,null,1.1718002557754517,null,null,null,null,2.3436005115509033,10.936802387237549,null,null,1.5624001026153564,0.7812000513076782,null,null,null,null,null,null,null,null,null,null,null,null,null,null,null,null,null,null,null,null,null,null,null,2.734199970960617,3.5153999626636505,null,null,null,null,8.593198597431183,null,null,null,null,null,null,null,null,2.3436010479927063,10.155604541301727,0.0,null,null,null,null,null,null,null,null,7.811997532844544,null,null,null,null,null,null,null,null,4.296599626541138,null,null,null,null,null,null,null,null,null,null,3.1247994899749756,0.0,null,null,null,null,null,null,null,null,null,4.2966019213199615,0.0,5.077802270650864,0.390600174665451,null,0.0,null,null],\"y0\":\" \",\"yaxis\":\"y\",\"type\":\"violin\"}],                        {\"template\":{\"data\":{\"histogram2dcontour\":[{\"type\":\"histogram2dcontour\",\"colorbar\":{\"outlinewidth\":0,\"ticks\":\"\"},\"colorscale\":[[0.0,\"#0d0887\"],[0.1111111111111111,\"#46039f\"],[0.2222222222222222,\"#7201a8\"],[0.3333333333333333,\"#9c179e\"],[0.4444444444444444,\"#bd3786\"],[0.5555555555555556,\"#d8576b\"],[0.6666666666666666,\"#ed7953\"],[0.7777777777777778,\"#fb9f3a\"],[0.8888888888888888,\"#fdca26\"],[1.0,\"#f0f921\"]]}],\"choropleth\":[{\"type\":\"choropleth\",\"colorbar\":{\"outlinewidth\":0,\"ticks\":\"\"}}],\"histogram2d\":[{\"type\":\"histogram2d\",\"colorbar\":{\"outlinewidth\":0,\"ticks\":\"\"},\"colorscale\":[[0.0,\"#0d0887\"],[0.1111111111111111,\"#46039f\"],[0.2222222222222222,\"#7201a8\"],[0.3333333333333333,\"#9c179e\"],[0.4444444444444444,\"#bd3786\"],[0.5555555555555556,\"#d8576b\"],[0.6666666666666666,\"#ed7953\"],[0.7777777777777778,\"#fb9f3a\"],[0.8888888888888888,\"#fdca26\"],[1.0,\"#f0f921\"]]}],\"heatmap\":[{\"type\":\"heatmap\",\"colorbar\":{\"outlinewidth\":0,\"ticks\":\"\"},\"colorscale\":[[0.0,\"#0d0887\"],[0.1111111111111111,\"#46039f\"],[0.2222222222222222,\"#7201a8\"],[0.3333333333333333,\"#9c179e\"],[0.4444444444444444,\"#bd3786\"],[0.5555555555555556,\"#d8576b\"],[0.6666666666666666,\"#ed7953\"],[0.7777777777777778,\"#fb9f3a\"],[0.8888888888888888,\"#fdca26\"],[1.0,\"#f0f921\"]]}],\"heatmapgl\":[{\"type\":\"heatmapgl\",\"colorbar\":{\"outlinewidth\":0,\"ticks\":\"\"},\"colorscale\":[[0.0,\"#0d0887\"],[0.1111111111111111,\"#46039f\"],[0.2222222222222222,\"#7201a8\"],[0.3333333333333333,\"#9c179e\"],[0.4444444444444444,\"#bd3786\"],[0.5555555555555556,\"#d8576b\"],[0.6666666666666666,\"#ed7953\"],[0.7777777777777778,\"#fb9f3a\"],[0.8888888888888888,\"#fdca26\"],[1.0,\"#f0f921\"]]}],\"contourcarpet\":[{\"type\":\"contourcarpet\",\"colorbar\":{\"outlinewidth\":0,\"ticks\":\"\"}}],\"contour\":[{\"type\":\"contour\",\"colorbar\":{\"outlinewidth\":0,\"ticks\":\"\"},\"colorscale\":[[0.0,\"#0d0887\"],[0.1111111111111111,\"#46039f\"],[0.2222222222222222,\"#7201a8\"],[0.3333333333333333,\"#9c179e\"],[0.4444444444444444,\"#bd3786\"],[0.5555555555555556,\"#d8576b\"],[0.6666666666666666,\"#ed7953\"],[0.7777777777777778,\"#fb9f3a\"],[0.8888888888888888,\"#fdca26\"],[1.0,\"#f0f921\"]]}],\"surface\":[{\"type\":\"surface\",\"colorbar\":{\"outlinewidth\":0,\"ticks\":\"\"},\"colorscale\":[[0.0,\"#0d0887\"],[0.1111111111111111,\"#46039f\"],[0.2222222222222222,\"#7201a8\"],[0.3333333333333333,\"#9c179e\"],[0.4444444444444444,\"#bd3786\"],[0.5555555555555556,\"#d8576b\"],[0.6666666666666666,\"#ed7953\"],[0.7777777777777778,\"#fb9f3a\"],[0.8888888888888888,\"#fdca26\"],[1.0,\"#f0f921\"]]}],\"mesh3d\":[{\"type\":\"mesh3d\",\"colorbar\":{\"outlinewidth\":0,\"ticks\":\"\"}}],\"scatter\":[{\"marker\":{\"line\":{\"color\":\"#283442\"}},\"type\":\"scatter\"}],\"parcoords\":[{\"type\":\"parcoords\",\"line\":{\"colorbar\":{\"outlinewidth\":0,\"ticks\":\"\"}}}],\"scatterpolargl\":[{\"type\":\"scatterpolargl\",\"marker\":{\"colorbar\":{\"outlinewidth\":0,\"ticks\":\"\"}}}],\"bar\":[{\"error_x\":{\"color\":\"#f2f5fa\"},\"error_y\":{\"color\":\"#f2f5fa\"},\"marker\":{\"line\":{\"color\":\"rgb(17,17,17)\",\"width\":0.5},\"pattern\":{\"fillmode\":\"overlay\",\"size\":10,\"solidity\":0.2}},\"type\":\"bar\"}],\"scattergeo\":[{\"type\":\"scattergeo\",\"marker\":{\"colorbar\":{\"outlinewidth\":0,\"ticks\":\"\"}}}],\"scatterpolar\":[{\"type\":\"scatterpolar\",\"marker\":{\"colorbar\":{\"outlinewidth\":0,\"ticks\":\"\"}}}],\"histogram\":[{\"marker\":{\"pattern\":{\"fillmode\":\"overlay\",\"size\":10,\"solidity\":0.2}},\"type\":\"histogram\"}],\"scattergl\":[{\"marker\":{\"line\":{\"color\":\"#283442\"}},\"type\":\"scattergl\"}],\"scatter3d\":[{\"type\":\"scatter3d\",\"line\":{\"colorbar\":{\"outlinewidth\":0,\"ticks\":\"\"}},\"marker\":{\"colorbar\":{\"outlinewidth\":0,\"ticks\":\"\"}}}],\"scattermapbox\":[{\"type\":\"scattermapbox\",\"marker\":{\"colorbar\":{\"outlinewidth\":0,\"ticks\":\"\"}}}],\"scatterternary\":[{\"type\":\"scatterternary\",\"marker\":{\"colorbar\":{\"outlinewidth\":0,\"ticks\":\"\"}}}],\"scattercarpet\":[{\"type\":\"scattercarpet\",\"marker\":{\"colorbar\":{\"outlinewidth\":0,\"ticks\":\"\"}}}],\"carpet\":[{\"aaxis\":{\"endlinecolor\":\"#A2B1C6\",\"gridcolor\":\"#506784\",\"linecolor\":\"#506784\",\"minorgridcolor\":\"#506784\",\"startlinecolor\":\"#A2B1C6\"},\"baxis\":{\"endlinecolor\":\"#A2B1C6\",\"gridcolor\":\"#506784\",\"linecolor\":\"#506784\",\"minorgridcolor\":\"#506784\",\"startlinecolor\":\"#A2B1C6\"},\"type\":\"carpet\"}],\"table\":[{\"cells\":{\"fill\":{\"color\":\"#506784\"},\"line\":{\"color\":\"rgb(17,17,17)\"}},\"header\":{\"fill\":{\"color\":\"#2a3f5f\"},\"line\":{\"color\":\"rgb(17,17,17)\"}},\"type\":\"table\"}],\"barpolar\":[{\"marker\":{\"line\":{\"color\":\"rgb(17,17,17)\",\"width\":0.5},\"pattern\":{\"fillmode\":\"overlay\",\"size\":10,\"solidity\":0.2}},\"type\":\"barpolar\"}],\"pie\":[{\"automargin\":true,\"type\":\"pie\"}]},\"layout\":{\"autotypenumbers\":\"strict\",\"colorway\":[\"#636efa\",\"#EF553B\",\"#00cc96\",\"#ab63fa\",\"#FFA15A\",\"#19d3f3\",\"#FF6692\",\"#B6E880\",\"#FF97FF\",\"#FECB52\"],\"font\":{\"color\":\"#f2f5fa\"},\"hovermode\":\"closest\",\"hoverlabel\":{\"align\":\"left\"},\"paper_bgcolor\":\"rgb(17,17,17)\",\"plot_bgcolor\":\"rgb(17,17,17)\",\"polar\":{\"bgcolor\":\"rgb(17,17,17)\",\"angularaxis\":{\"gridcolor\":\"#506784\",\"linecolor\":\"#506784\",\"ticks\":\"\"},\"radialaxis\":{\"gridcolor\":\"#506784\",\"linecolor\":\"#506784\",\"ticks\":\"\"}},\"ternary\":{\"bgcolor\":\"rgb(17,17,17)\",\"aaxis\":{\"gridcolor\":\"#506784\",\"linecolor\":\"#506784\",\"ticks\":\"\"},\"baxis\":{\"gridcolor\":\"#506784\",\"linecolor\":\"#506784\",\"ticks\":\"\"},\"caxis\":{\"gridcolor\":\"#506784\",\"linecolor\":\"#506784\",\"ticks\":\"\"}},\"coloraxis\":{\"colorbar\":{\"outlinewidth\":0,\"ticks\":\"\"}},\"colorscale\":{\"sequential\":[[0.0,\"#0d0887\"],[0.1111111111111111,\"#46039f\"],[0.2222222222222222,\"#7201a8\"],[0.3333333333333333,\"#9c179e\"],[0.4444444444444444,\"#bd3786\"],[0.5555555555555556,\"#d8576b\"],[0.6666666666666666,\"#ed7953\"],[0.7777777777777778,\"#fb9f3a\"],[0.8888888888888888,\"#fdca26\"],[1.0,\"#f0f921\"]],\"sequentialminus\":[[0.0,\"#0d0887\"],[0.1111111111111111,\"#46039f\"],[0.2222222222222222,\"#7201a8\"],[0.3333333333333333,\"#9c179e\"],[0.4444444444444444,\"#bd3786\"],[0.5555555555555556,\"#d8576b\"],[0.6666666666666666,\"#ed7953\"],[0.7777777777777778,\"#fb9f3a\"],[0.8888888888888888,\"#fdca26\"],[1.0,\"#f0f921\"]],\"diverging\":[[0,\"#8e0152\"],[0.1,\"#c51b7d\"],[0.2,\"#de77ae\"],[0.3,\"#f1b6da\"],[0.4,\"#fde0ef\"],[0.5,\"#f7f7f7\"],[0.6,\"#e6f5d0\"],[0.7,\"#b8e186\"],[0.8,\"#7fbc41\"],[0.9,\"#4d9221\"],[1,\"#276419\"]]},\"xaxis\":{\"gridcolor\":\"#283442\",\"linecolor\":\"#506784\",\"ticks\":\"\",\"title\":{\"standoff\":15},\"zerolinecolor\":\"#283442\",\"automargin\":true,\"zerolinewidth\":2},\"yaxis\":{\"gridcolor\":\"#283442\",\"linecolor\":\"#506784\",\"ticks\":\"\",\"title\":{\"standoff\":15},\"zerolinecolor\":\"#283442\",\"automargin\":true,\"zerolinewidth\":2},\"scene\":{\"xaxis\":{\"backgroundcolor\":\"rgb(17,17,17)\",\"gridcolor\":\"#506784\",\"linecolor\":\"#506784\",\"showbackground\":true,\"ticks\":\"\",\"zerolinecolor\":\"#C8D4E3\",\"gridwidth\":2},\"yaxis\":{\"backgroundcolor\":\"rgb(17,17,17)\",\"gridcolor\":\"#506784\",\"linecolor\":\"#506784\",\"showbackground\":true,\"ticks\":\"\",\"zerolinecolor\":\"#C8D4E3\",\"gridwidth\":2},\"zaxis\":{\"backgroundcolor\":\"rgb(17,17,17)\",\"gridcolor\":\"#506784\",\"linecolor\":\"#506784\",\"showbackground\":true,\"ticks\":\"\",\"zerolinecolor\":\"#C8D4E3\",\"gridwidth\":2}},\"shapedefaults\":{\"line\":{\"color\":\"#f2f5fa\"}},\"annotationdefaults\":{\"arrowcolor\":\"#f2f5fa\",\"arrowhead\":0,\"arrowwidth\":1},\"geo\":{\"bgcolor\":\"rgb(17,17,17)\",\"landcolor\":\"rgb(17,17,17)\",\"subunitcolor\":\"#506784\",\"showland\":true,\"showlakes\":true,\"lakecolor\":\"rgb(17,17,17)\"},\"title\":{\"x\":0.05},\"updatemenudefaults\":{\"bgcolor\":\"#506784\",\"borderwidth\":0},\"sliderdefaults\":{\"bgcolor\":\"#C8D4E3\",\"borderwidth\":1,\"bordercolor\":\"rgb(17,17,17)\",\"tickwidth\":0},\"mapbox\":{\"style\":\"dark\"}}},\"xaxis\":{\"anchor\":\"y\",\"domain\":[0.0,1.0],\"title\":{\"text\":\"level\"}},\"yaxis\":{\"anchor\":\"x\",\"domain\":[0.0,1.0],\"title\":{\"text\":\"height\"}},\"legend\":{\"title\":{\"text\":\"which\"},\"tracegroupgap\":0},\"margin\":{\"t\":60},\"violinmode\":\"group\"},                        {\"responsive\": true}                    ).then(function(){\n                            \nvar gd = document.getElementById('180cca94-ba4a-4ace-82cc-e8340657064f');\nvar x = new MutationObserver(function (mutations, observer) {{\n        var display = window.getComputedStyle(gd).display;\n        if (!display || display === 'none') {{\n            console.log([gd, 'removed!']);\n            Plotly.purge(gd);\n            observer.disconnect();\n        }}\n}});\n\n// Listen for the removal of the full notebook cells\nvar notebookContainer = gd.closest('#notebook-container');\nif (notebookContainer) {{\n    x.observe(notebookContainer, {childList: true});\n}}\n\n// Listen for the clearing of the current output cell\nvar outputEl = gd.closest('.output');\nif (outputEl) {{\n    x.observe(outputEl, {childList: true});\n}}\n\n                        })                };                });            </script>        </div>"
     },
     "metadata": {},
     "output_type": "display_data"
    }
   ],
   "source": [
    "fig = px.violin(df_pred, y=\"height\", x=\"level\", color=\"which\", box=True, points=\"all\",\n",
    "          hover_data=[\"sub_name\",\"which\"])\n",
    "fig.show()"
   ],
   "metadata": {
    "collapsed": false,
    "ExecuteTime": {
     "end_time": "2023-08-02T16:00:52.052714Z",
     "start_time": "2023-08-02T16:00:52.014338Z"
    }
   }
  },
  {
   "cell_type": "code",
   "execution_count": 277,
   "outputs": [
    {
     "name": "stdout",
     "output_type": "stream",
     "text": [
      "CLEAN|ORIG Height level 2 (mm): 2.83 +/- 1.01\tvs\t2.83 +/- 1.01\n",
      "CLEAN|ORIG Height level 3 (mm): 4.14 +/- 3.36\tvs\t4.14 +/- 3.36\n",
      "CLEAN|ORIG Height level 4 (mm): 1.43 +/- 2.03\tvs\t1.43 +/- 2.03\n",
      "CLEAN|ORIG Height level 5 (mm): 0.00 +/- 0.00\tvs\t0.00 +/- 0.00\n",
      "CLEAN|ORIG Height level 6 (mm): 5.08 +/- 0.00\tvs\t5.08 +/- 0.00\n",
      "CLEAN|ORIG Height level 7 (mm): 2.21 +/- 1.33\tvs\t2.21 +/- 1.33\n",
      "CLEAN|ORIG Height level 8 (mm): 3.39 +/- 0.80\tvs\t3.39 +/- 0.80\n",
      "CLEAN|ORIG Height level 9 (mm): 5.47 +/- 5.47\tvs\t5.47 +/- 5.47\n",
      "CLEAN|ORIG Height level 10 (mm): nan +/- nan\tvs\tnan +/- nan\n",
      "CLEAN|ORIG Height level 11 (mm): nan +/- nan\tvs\tnan +/- nan\n"
     ]
    },
    {
     "name": "stderr",
     "output_type": "stream",
     "text": [
      "/var/folders/37/mg4btmrd4r7gk5qj79bq6hsm0000gn/T/ipykernel_33796/3452832947.py:9: UserWarning:\n",
      "\n",
      "Boolean Series key will be reindexed to match DataFrame index.\n",
      "\n",
      "/var/folders/37/mg4btmrd4r7gk5qj79bq6hsm0000gn/T/ipykernel_33796/3452832947.py:10: UserWarning:\n",
      "\n",
      "Boolean Series key will be reindexed to match DataFrame index.\n",
      "\n"
     ]
    }
   ],
   "source": [
    "clean = concatenated_df.copy()\n",
    "to_clean = []\n",
    "#to_clean.append((clean[\"sub_name\"] == \"sub-amu02_215_0000\") & (clean[\"wich\"] == \"manual\"))\n",
    "#to_clean.append((clean[\"sub_name\"] == \"sub-barcelona06_214_0000\") & (clean[\"wich\"] == \"pred\"))\n",
    "to_clean.append((clean[\"z_scores\"] > 2))\n",
    "to_clean.append((clean[\"z_scores\"] < -2))\n",
    "deleted = pd.DataFrame()\n",
    "for need in to_clean:\n",
    "    deleted = pd.concat([deleted, clean[need]], ignore_index=True)\n",
    "    clean = clean[~need]\n",
    "\n",
    "comp =df_pred\n",
    "for lvl in range(2, 12):\n",
    "    mean_c = np.mean(comp[\"height\"][comp[\"level\"]==lvl])\n",
    "    std_c = np.std(comp[\"height\"][comp[\"level\"]==lvl])\n",
    "    mean_o = np.mean(concatenated_df[\"height\"][concatenated_df[\"level\"]==lvl])\n",
    "    std_o = np.std(concatenated_df[\"height\"][concatenated_df[\"level\"]==lvl])\n",
    "    print(f\"CLEAN|ORIG Height level {lvl} (mm): {mean_c:.2f} +/- {std_c:.2f}\\tvs\\t{mean_o:.2f} +/- {std_o:.2f}\")"
   ],
   "metadata": {
    "collapsed": false,
    "ExecuteTime": {
     "end_time": "2023-08-02T16:00:54.729027Z",
     "start_time": "2023-08-02T16:00:54.707693Z"
    }
   }
  },
  {
   "cell_type": "code",
   "execution_count": 278,
   "outputs": [
    {
     "data": {
      "text/plain": "   level        sub_name  spinal_start  spinal_end     height  \\\n0      9  13746_012_0000         127.0       155.0  10.936802   \n1      3  14693_002_0000         369.0       395.0  10.155605   \n\n   vertebrae_start  vertebrae_end which  z_scores  \n0                0              1  pred  2.528918  \n1                0              1  pred  2.273288  ",
      "text/html": "<div>\n<style scoped>\n    .dataframe tbody tr th:only-of-type {\n        vertical-align: middle;\n    }\n\n    .dataframe tbody tr th {\n        vertical-align: top;\n    }\n\n    .dataframe thead th {\n        text-align: right;\n    }\n</style>\n<table border=\"1\" class=\"dataframe\">\n  <thead>\n    <tr style=\"text-align: right;\">\n      <th></th>\n      <th>level</th>\n      <th>sub_name</th>\n      <th>spinal_start</th>\n      <th>spinal_end</th>\n      <th>height</th>\n      <th>vertebrae_start</th>\n      <th>vertebrae_end</th>\n      <th>which</th>\n      <th>z_scores</th>\n    </tr>\n  </thead>\n  <tbody>\n    <tr>\n      <th>0</th>\n      <td>9</td>\n      <td>13746_012_0000</td>\n      <td>127.0</td>\n      <td>155.0</td>\n      <td>10.936802</td>\n      <td>0</td>\n      <td>1</td>\n      <td>pred</td>\n      <td>2.528918</td>\n    </tr>\n    <tr>\n      <th>1</th>\n      <td>3</td>\n      <td>14693_002_0000</td>\n      <td>369.0</td>\n      <td>395.0</td>\n      <td>10.155605</td>\n      <td>0</td>\n      <td>1</td>\n      <td>pred</td>\n      <td>2.273288</td>\n    </tr>\n  </tbody>\n</table>\n</div>"
     },
     "execution_count": 278,
     "metadata": {},
     "output_type": "execute_result"
    }
   ],
   "source": [
    "deleted"
   ],
   "metadata": {
    "collapsed": false,
    "ExecuteTime": {
     "end_time": "2023-08-02T16:00:56.823459Z",
     "start_time": "2023-08-02T16:00:56.806895Z"
    }
   }
  },
  {
   "cell_type": "code",
   "execution_count": 279,
   "outputs": [
    {
     "data": {
      "application/vnd.plotly.v1+json": {
       "data": [
        {
         "alignmentgroup": "True",
         "box": {
          "visible": true
         },
         "customdata": [
          [
           "14493_008_0000",
           "pred"
          ],
          [
           "14493_008_0000",
           "pred"
          ],
          [
           "14493_008_0000",
           "pred"
          ],
          [
           "14493_008_0000",
           "pred"
          ],
          [
           "14493_008_0000",
           "pred"
          ],
          [
           "14493_008_0000",
           "pred"
          ],
          [
           "14493_008_0000",
           "pred"
          ],
          [
           "14493_008_0000",
           "pred"
          ],
          [
           "14493_008_0000",
           "pred"
          ],
          [
           "14493_008_0000",
           "pred"
          ],
          [
           "14492_007_0000",
           "pred"
          ],
          [
           "14492_007_0000",
           "pred"
          ],
          [
           "14492_007_0000",
           "pred"
          ],
          [
           "14492_007_0000",
           "pred"
          ],
          [
           "14492_007_0000",
           "pred"
          ],
          [
           "14492_007_0000",
           "pred"
          ],
          [
           "14492_007_0000",
           "pred"
          ],
          [
           "14492_007_0000",
           "pred"
          ],
          [
           "14492_007_0000",
           "pred"
          ],
          [
           "14492_007_0000",
           "pred"
          ],
          [
           "14350_011_0000",
           "pred"
          ],
          [
           "14350_011_0000",
           "pred"
          ],
          [
           "14350_011_0000",
           "pred"
          ],
          [
           "14350_011_0000",
           "pred"
          ],
          [
           "14350_011_0000",
           "pred"
          ],
          [
           "14350_011_0000",
           "pred"
          ],
          [
           "14350_011_0000",
           "pred"
          ],
          [
           "14350_011_0000",
           "pred"
          ],
          [
           "14350_011_0000",
           "pred"
          ],
          [
           "14350_011_0000",
           "pred"
          ],
          [
           "14411_013_0000",
           "pred"
          ],
          [
           "14411_013_0000",
           "pred"
          ],
          [
           "14411_013_0000",
           "pred"
          ],
          [
           "14411_013_0000",
           "pred"
          ],
          [
           "14411_013_0000",
           "pred"
          ],
          [
           "14411_013_0000",
           "pred"
          ],
          [
           "14411_013_0000",
           "pred"
          ],
          [
           "14411_013_0000",
           "pred"
          ],
          [
           "14411_013_0000",
           "pred"
          ],
          [
           "14411_013_0000",
           "pred"
          ],
          [
           "13746_012_0000",
           "pred"
          ],
          [
           "13746_012_0000",
           "pred"
          ],
          [
           "13746_012_0000",
           "pred"
          ],
          [
           "13746_012_0000",
           "pred"
          ],
          [
           "13746_012_0000",
           "pred"
          ],
          [
           "13746_012_0000",
           "pred"
          ],
          [
           "13746_012_0000",
           "pred"
          ],
          [
           "13746_012_0000",
           "pred"
          ],
          [
           "13746_012_0000",
           "pred"
          ],
          [
           "13757_004_0000",
           "pred"
          ],
          [
           "13757_004_0000",
           "pred"
          ],
          [
           "13757_004_0000",
           "pred"
          ],
          [
           "13757_004_0000",
           "pred"
          ],
          [
           "13757_004_0000",
           "pred"
          ],
          [
           "13757_004_0000",
           "pred"
          ],
          [
           "13757_004_0000",
           "pred"
          ],
          [
           "13757_004_0000",
           "pred"
          ],
          [
           "13757_004_0000",
           "pred"
          ],
          [
           "13757_004_0000",
           "pred"
          ],
          [
           "14348_003_0000",
           "pred"
          ],
          [
           "14348_003_0000",
           "pred"
          ],
          [
           "14348_003_0000",
           "pred"
          ],
          [
           "14348_003_0000",
           "pred"
          ],
          [
           "14348_003_0000",
           "pred"
          ],
          [
           "14348_003_0000",
           "pred"
          ],
          [
           "14348_003_0000",
           "pred"
          ],
          [
           "14348_003_0000",
           "pred"
          ],
          [
           "14348_003_0000",
           "pred"
          ],
          [
           "14348_003_0000",
           "pred"
          ],
          [
           "13755_009_0000",
           "pred"
          ],
          [
           "13755_009_0000",
           "pred"
          ],
          [
           "13755_009_0000",
           "pred"
          ],
          [
           "13755_009_0000",
           "pred"
          ],
          [
           "13755_009_0000",
           "pred"
          ],
          [
           "13755_009_0000",
           "pred"
          ],
          [
           "13755_009_0000",
           "pred"
          ],
          [
           "13755_009_0000",
           "pred"
          ],
          [
           "13755_009_0000",
           "pred"
          ],
          [
           "13755_009_0000",
           "pred"
          ],
          [
           "13747_010_0000",
           "pred"
          ],
          [
           "13747_010_0000",
           "pred"
          ],
          [
           "13747_010_0000",
           "pred"
          ],
          [
           "13747_010_0000",
           "pred"
          ],
          [
           "13747_010_0000",
           "pred"
          ],
          [
           "13747_010_0000",
           "pred"
          ],
          [
           "13747_010_0000",
           "pred"
          ],
          [
           "13747_010_0000",
           "pred"
          ],
          [
           "13747_010_0000",
           "pred"
          ],
          [
           "13747_010_0000",
           "pred"
          ],
          [
           "14693_002_0000",
           "pred"
          ],
          [
           "14693_002_0000",
           "pred"
          ],
          [
           "14693_002_0000",
           "pred"
          ],
          [
           "14693_002_0000",
           "pred"
          ],
          [
           "14693_002_0000",
           "pred"
          ],
          [
           "14693_002_0000",
           "pred"
          ],
          [
           "14693_002_0000",
           "pred"
          ],
          [
           "14693_002_0000",
           "pred"
          ],
          [
           "14693_002_0000",
           "pred"
          ],
          [
           "14406_001_0000",
           "pred"
          ],
          [
           "14406_001_0000",
           "pred"
          ],
          [
           "14406_001_0000",
           "pred"
          ],
          [
           "14406_001_0000",
           "pred"
          ],
          [
           "14406_001_0000",
           "pred"
          ],
          [
           "14406_001_0000",
           "pred"
          ],
          [
           "14406_001_0000",
           "pred"
          ],
          [
           "14406_001_0000",
           "pred"
          ],
          [
           "14406_001_0000",
           "pred"
          ],
          [
           "14406_001_0000",
           "pred"
          ],
          [
           "13697_005_0000",
           "pred"
          ],
          [
           "13697_005_0000",
           "pred"
          ],
          [
           "13697_005_0000",
           "pred"
          ],
          [
           "13697_005_0000",
           "pred"
          ],
          [
           "13697_005_0000",
           "pred"
          ],
          [
           "13697_005_0000",
           "pred"
          ],
          [
           "13697_005_0000",
           "pred"
          ],
          [
           "13697_005_0000",
           "pred"
          ],
          [
           "13697_005_0000",
           "pred"
          ],
          [
           "13697_005_0000",
           "pred"
          ],
          [
           "13696_006_0000",
           "pred"
          ],
          [
           "13696_006_0000",
           "pred"
          ],
          [
           "13696_006_0000",
           "pred"
          ],
          [
           "13696_006_0000",
           "pred"
          ],
          [
           "13696_006_0000",
           "pred"
          ],
          [
           "13696_006_0000",
           "pred"
          ],
          [
           "13696_006_0000",
           "pred"
          ],
          [
           "13696_006_0000",
           "pred"
          ],
          [
           "13696_006_0000",
           "pred"
          ],
          [
           "13696_006_0000",
           "pred"
          ],
          [
           "14407_000_0000",
           "pred"
          ],
          [
           "14407_000_0000",
           "pred"
          ],
          [
           "14407_000_0000",
           "pred"
          ],
          [
           "14407_000_0000",
           "pred"
          ],
          [
           "14407_000_0000",
           "pred"
          ],
          [
           "14407_000_0000",
           "pred"
          ],
          [
           "14407_000_0000",
           "pred"
          ],
          [
           "14407_000_0000",
           "pred"
          ],
          [
           "14407_000_0000",
           "pred"
          ],
          [
           "14407_000_0000",
           "pred"
          ]
         ],
         "hovertemplate": "which=%{customdata[1]}<br>level=%{x}<br>height=%{y}<br>sub_name=%{customdata[0]}<extra></extra>",
         "legendgroup": "pred",
         "marker": {
          "color": "#636efa"
         },
         "name": "pred",
         "offsetgroup": "pred",
         "orientation": "v",
         "points": "all",
         "scalegroup": "True",
         "showlegend": true,
         "x": [
          2,
          3,
          4,
          5,
          6,
          7,
          8,
          9,
          10,
          11,
          2,
          3,
          4,
          5,
          6,
          7,
          8,
          9,
          10,
          11,
          2,
          3,
          4,
          5,
          6,
          7,
          8,
          9,
          10,
          11,
          2,
          3,
          4,
          5,
          6,
          7,
          8,
          9,
          10,
          11,
          2,
          3,
          4,
          5,
          6,
          7,
          8,
          10,
          11,
          2,
          3,
          4,
          5,
          6,
          7,
          8,
          9,
          10,
          11,
          2,
          3,
          4,
          5,
          6,
          7,
          8,
          9,
          10,
          11,
          2,
          3,
          4,
          5,
          6,
          7,
          8,
          9,
          10,
          11,
          2,
          3,
          4,
          5,
          6,
          7,
          8,
          9,
          10,
          11,
          2,
          4,
          5,
          6,
          7,
          8,
          9,
          10,
          11,
          2,
          3,
          4,
          5,
          6,
          7,
          8,
          9,
          10,
          11,
          2,
          3,
          4,
          5,
          6,
          7,
          8,
          9,
          10,
          11,
          2,
          3,
          4,
          5,
          6,
          7,
          8,
          9,
          10,
          11,
          2,
          3,
          4,
          5,
          6,
          7,
          8,
          9,
          10,
          11
         ],
         "x0": " ",
         "xaxis": "x",
         "y": [
          null,
          2.3435996174812317,
          null,
          null,
          null,
          null,
          null,
          null,
          null,
          null,
          null,
          0.7812002897262573,
          null,
          null,
          null,
          null,
          null,
          null,
          null,
          null,
          null,
          1.5624005794525146,
          null,
          0.0,
          null,
          3.515401303768158,
          null,
          null,
          null,
          null,
          3.1247997283935547,
          5.077799558639526,
          null,
          null,
          null,
          null,
          4.296599626541138,
          null,
          null,
          null,
          null,
          1.1718002557754517,
          null,
          null,
          null,
          null,
          2.3436005115509033,
          null,
          null,
          1.5624001026153564,
          0.7812000513076782,
          null,
          null,
          null,
          null,
          null,
          null,
          null,
          null,
          null,
          null,
          null,
          null,
          null,
          null,
          null,
          null,
          null,
          null,
          null,
          null,
          null,
          null,
          null,
          2.734199970960617,
          3.5153999626636505,
          null,
          null,
          null,
          null,
          8.593198597431183,
          null,
          null,
          null,
          null,
          null,
          null,
          null,
          null,
          2.3436010479927063,
          0.0,
          null,
          null,
          null,
          null,
          null,
          null,
          null,
          null,
          7.811997532844544,
          null,
          null,
          null,
          null,
          null,
          null,
          null,
          null,
          4.296599626541138,
          null,
          null,
          null,
          null,
          null,
          null,
          null,
          null,
          null,
          null,
          3.1247994899749756,
          0.0,
          null,
          null,
          null,
          null,
          null,
          null,
          null,
          null,
          null,
          4.2966019213199615,
          0.0,
          5.077802270650864,
          0.390600174665451,
          null,
          0.0,
          null,
          null
         ],
         "y0": " ",
         "yaxis": "y",
         "type": "violin"
        }
       ],
       "layout": {
        "template": {
         "data": {
          "histogram2dcontour": [
           {
            "type": "histogram2dcontour",
            "colorbar": {
             "outlinewidth": 0,
             "ticks": ""
            },
            "colorscale": [
             [
              0.0,
              "#0d0887"
             ],
             [
              0.1111111111111111,
              "#46039f"
             ],
             [
              0.2222222222222222,
              "#7201a8"
             ],
             [
              0.3333333333333333,
              "#9c179e"
             ],
             [
              0.4444444444444444,
              "#bd3786"
             ],
             [
              0.5555555555555556,
              "#d8576b"
             ],
             [
              0.6666666666666666,
              "#ed7953"
             ],
             [
              0.7777777777777778,
              "#fb9f3a"
             ],
             [
              0.8888888888888888,
              "#fdca26"
             ],
             [
              1.0,
              "#f0f921"
             ]
            ]
           }
          ],
          "choropleth": [
           {
            "type": "choropleth",
            "colorbar": {
             "outlinewidth": 0,
             "ticks": ""
            }
           }
          ],
          "histogram2d": [
           {
            "type": "histogram2d",
            "colorbar": {
             "outlinewidth": 0,
             "ticks": ""
            },
            "colorscale": [
             [
              0.0,
              "#0d0887"
             ],
             [
              0.1111111111111111,
              "#46039f"
             ],
             [
              0.2222222222222222,
              "#7201a8"
             ],
             [
              0.3333333333333333,
              "#9c179e"
             ],
             [
              0.4444444444444444,
              "#bd3786"
             ],
             [
              0.5555555555555556,
              "#d8576b"
             ],
             [
              0.6666666666666666,
              "#ed7953"
             ],
             [
              0.7777777777777778,
              "#fb9f3a"
             ],
             [
              0.8888888888888888,
              "#fdca26"
             ],
             [
              1.0,
              "#f0f921"
             ]
            ]
           }
          ],
          "heatmap": [
           {
            "type": "heatmap",
            "colorbar": {
             "outlinewidth": 0,
             "ticks": ""
            },
            "colorscale": [
             [
              0.0,
              "#0d0887"
             ],
             [
              0.1111111111111111,
              "#46039f"
             ],
             [
              0.2222222222222222,
              "#7201a8"
             ],
             [
              0.3333333333333333,
              "#9c179e"
             ],
             [
              0.4444444444444444,
              "#bd3786"
             ],
             [
              0.5555555555555556,
              "#d8576b"
             ],
             [
              0.6666666666666666,
              "#ed7953"
             ],
             [
              0.7777777777777778,
              "#fb9f3a"
             ],
             [
              0.8888888888888888,
              "#fdca26"
             ],
             [
              1.0,
              "#f0f921"
             ]
            ]
           }
          ],
          "heatmapgl": [
           {
            "type": "heatmapgl",
            "colorbar": {
             "outlinewidth": 0,
             "ticks": ""
            },
            "colorscale": [
             [
              0.0,
              "#0d0887"
             ],
             [
              0.1111111111111111,
              "#46039f"
             ],
             [
              0.2222222222222222,
              "#7201a8"
             ],
             [
              0.3333333333333333,
              "#9c179e"
             ],
             [
              0.4444444444444444,
              "#bd3786"
             ],
             [
              0.5555555555555556,
              "#d8576b"
             ],
             [
              0.6666666666666666,
              "#ed7953"
             ],
             [
              0.7777777777777778,
              "#fb9f3a"
             ],
             [
              0.8888888888888888,
              "#fdca26"
             ],
             [
              1.0,
              "#f0f921"
             ]
            ]
           }
          ],
          "contourcarpet": [
           {
            "type": "contourcarpet",
            "colorbar": {
             "outlinewidth": 0,
             "ticks": ""
            }
           }
          ],
          "contour": [
           {
            "type": "contour",
            "colorbar": {
             "outlinewidth": 0,
             "ticks": ""
            },
            "colorscale": [
             [
              0.0,
              "#0d0887"
             ],
             [
              0.1111111111111111,
              "#46039f"
             ],
             [
              0.2222222222222222,
              "#7201a8"
             ],
             [
              0.3333333333333333,
              "#9c179e"
             ],
             [
              0.4444444444444444,
              "#bd3786"
             ],
             [
              0.5555555555555556,
              "#d8576b"
             ],
             [
              0.6666666666666666,
              "#ed7953"
             ],
             [
              0.7777777777777778,
              "#fb9f3a"
             ],
             [
              0.8888888888888888,
              "#fdca26"
             ],
             [
              1.0,
              "#f0f921"
             ]
            ]
           }
          ],
          "surface": [
           {
            "type": "surface",
            "colorbar": {
             "outlinewidth": 0,
             "ticks": ""
            },
            "colorscale": [
             [
              0.0,
              "#0d0887"
             ],
             [
              0.1111111111111111,
              "#46039f"
             ],
             [
              0.2222222222222222,
              "#7201a8"
             ],
             [
              0.3333333333333333,
              "#9c179e"
             ],
             [
              0.4444444444444444,
              "#bd3786"
             ],
             [
              0.5555555555555556,
              "#d8576b"
             ],
             [
              0.6666666666666666,
              "#ed7953"
             ],
             [
              0.7777777777777778,
              "#fb9f3a"
             ],
             [
              0.8888888888888888,
              "#fdca26"
             ],
             [
              1.0,
              "#f0f921"
             ]
            ]
           }
          ],
          "mesh3d": [
           {
            "type": "mesh3d",
            "colorbar": {
             "outlinewidth": 0,
             "ticks": ""
            }
           }
          ],
          "scatter": [
           {
            "marker": {
             "line": {
              "color": "#283442"
             }
            },
            "type": "scatter"
           }
          ],
          "parcoords": [
           {
            "type": "parcoords",
            "line": {
             "colorbar": {
              "outlinewidth": 0,
              "ticks": ""
             }
            }
           }
          ],
          "scatterpolargl": [
           {
            "type": "scatterpolargl",
            "marker": {
             "colorbar": {
              "outlinewidth": 0,
              "ticks": ""
             }
            }
           }
          ],
          "bar": [
           {
            "error_x": {
             "color": "#f2f5fa"
            },
            "error_y": {
             "color": "#f2f5fa"
            },
            "marker": {
             "line": {
              "color": "rgb(17,17,17)",
              "width": 0.5
             },
             "pattern": {
              "fillmode": "overlay",
              "size": 10,
              "solidity": 0.2
             }
            },
            "type": "bar"
           }
          ],
          "scattergeo": [
           {
            "type": "scattergeo",
            "marker": {
             "colorbar": {
              "outlinewidth": 0,
              "ticks": ""
             }
            }
           }
          ],
          "scatterpolar": [
           {
            "type": "scatterpolar",
            "marker": {
             "colorbar": {
              "outlinewidth": 0,
              "ticks": ""
             }
            }
           }
          ],
          "histogram": [
           {
            "marker": {
             "pattern": {
              "fillmode": "overlay",
              "size": 10,
              "solidity": 0.2
             }
            },
            "type": "histogram"
           }
          ],
          "scattergl": [
           {
            "marker": {
             "line": {
              "color": "#283442"
             }
            },
            "type": "scattergl"
           }
          ],
          "scatter3d": [
           {
            "type": "scatter3d",
            "line": {
             "colorbar": {
              "outlinewidth": 0,
              "ticks": ""
             }
            },
            "marker": {
             "colorbar": {
              "outlinewidth": 0,
              "ticks": ""
             }
            }
           }
          ],
          "scattermapbox": [
           {
            "type": "scattermapbox",
            "marker": {
             "colorbar": {
              "outlinewidth": 0,
              "ticks": ""
             }
            }
           }
          ],
          "scatterternary": [
           {
            "type": "scatterternary",
            "marker": {
             "colorbar": {
              "outlinewidth": 0,
              "ticks": ""
             }
            }
           }
          ],
          "scattercarpet": [
           {
            "type": "scattercarpet",
            "marker": {
             "colorbar": {
              "outlinewidth": 0,
              "ticks": ""
             }
            }
           }
          ],
          "carpet": [
           {
            "aaxis": {
             "endlinecolor": "#A2B1C6",
             "gridcolor": "#506784",
             "linecolor": "#506784",
             "minorgridcolor": "#506784",
             "startlinecolor": "#A2B1C6"
            },
            "baxis": {
             "endlinecolor": "#A2B1C6",
             "gridcolor": "#506784",
             "linecolor": "#506784",
             "minorgridcolor": "#506784",
             "startlinecolor": "#A2B1C6"
            },
            "type": "carpet"
           }
          ],
          "table": [
           {
            "cells": {
             "fill": {
              "color": "#506784"
             },
             "line": {
              "color": "rgb(17,17,17)"
             }
            },
            "header": {
             "fill": {
              "color": "#2a3f5f"
             },
             "line": {
              "color": "rgb(17,17,17)"
             }
            },
            "type": "table"
           }
          ],
          "barpolar": [
           {
            "marker": {
             "line": {
              "color": "rgb(17,17,17)",
              "width": 0.5
             },
             "pattern": {
              "fillmode": "overlay",
              "size": 10,
              "solidity": 0.2
             }
            },
            "type": "barpolar"
           }
          ],
          "pie": [
           {
            "automargin": true,
            "type": "pie"
           }
          ]
         },
         "layout": {
          "autotypenumbers": "strict",
          "colorway": [
           "#636efa",
           "#EF553B",
           "#00cc96",
           "#ab63fa",
           "#FFA15A",
           "#19d3f3",
           "#FF6692",
           "#B6E880",
           "#FF97FF",
           "#FECB52"
          ],
          "font": {
           "color": "#f2f5fa"
          },
          "hovermode": "closest",
          "hoverlabel": {
           "align": "left"
          },
          "paper_bgcolor": "rgb(17,17,17)",
          "plot_bgcolor": "rgb(17,17,17)",
          "polar": {
           "bgcolor": "rgb(17,17,17)",
           "angularaxis": {
            "gridcolor": "#506784",
            "linecolor": "#506784",
            "ticks": ""
           },
           "radialaxis": {
            "gridcolor": "#506784",
            "linecolor": "#506784",
            "ticks": ""
           }
          },
          "ternary": {
           "bgcolor": "rgb(17,17,17)",
           "aaxis": {
            "gridcolor": "#506784",
            "linecolor": "#506784",
            "ticks": ""
           },
           "baxis": {
            "gridcolor": "#506784",
            "linecolor": "#506784",
            "ticks": ""
           },
           "caxis": {
            "gridcolor": "#506784",
            "linecolor": "#506784",
            "ticks": ""
           }
          },
          "coloraxis": {
           "colorbar": {
            "outlinewidth": 0,
            "ticks": ""
           }
          },
          "colorscale": {
           "sequential": [
            [
             0.0,
             "#0d0887"
            ],
            [
             0.1111111111111111,
             "#46039f"
            ],
            [
             0.2222222222222222,
             "#7201a8"
            ],
            [
             0.3333333333333333,
             "#9c179e"
            ],
            [
             0.4444444444444444,
             "#bd3786"
            ],
            [
             0.5555555555555556,
             "#d8576b"
            ],
            [
             0.6666666666666666,
             "#ed7953"
            ],
            [
             0.7777777777777778,
             "#fb9f3a"
            ],
            [
             0.8888888888888888,
             "#fdca26"
            ],
            [
             1.0,
             "#f0f921"
            ]
           ],
           "sequentialminus": [
            [
             0.0,
             "#0d0887"
            ],
            [
             0.1111111111111111,
             "#46039f"
            ],
            [
             0.2222222222222222,
             "#7201a8"
            ],
            [
             0.3333333333333333,
             "#9c179e"
            ],
            [
             0.4444444444444444,
             "#bd3786"
            ],
            [
             0.5555555555555556,
             "#d8576b"
            ],
            [
             0.6666666666666666,
             "#ed7953"
            ],
            [
             0.7777777777777778,
             "#fb9f3a"
            ],
            [
             0.8888888888888888,
             "#fdca26"
            ],
            [
             1.0,
             "#f0f921"
            ]
           ],
           "diverging": [
            [
             0,
             "#8e0152"
            ],
            [
             0.1,
             "#c51b7d"
            ],
            [
             0.2,
             "#de77ae"
            ],
            [
             0.3,
             "#f1b6da"
            ],
            [
             0.4,
             "#fde0ef"
            ],
            [
             0.5,
             "#f7f7f7"
            ],
            [
             0.6,
             "#e6f5d0"
            ],
            [
             0.7,
             "#b8e186"
            ],
            [
             0.8,
             "#7fbc41"
            ],
            [
             0.9,
             "#4d9221"
            ],
            [
             1,
             "#276419"
            ]
           ]
          },
          "xaxis": {
           "gridcolor": "#283442",
           "linecolor": "#506784",
           "ticks": "",
           "title": {
            "standoff": 15
           },
           "zerolinecolor": "#283442",
           "automargin": true,
           "zerolinewidth": 2
          },
          "yaxis": {
           "gridcolor": "#283442",
           "linecolor": "#506784",
           "ticks": "",
           "title": {
            "standoff": 15
           },
           "zerolinecolor": "#283442",
           "automargin": true,
           "zerolinewidth": 2
          },
          "scene": {
           "xaxis": {
            "backgroundcolor": "rgb(17,17,17)",
            "gridcolor": "#506784",
            "linecolor": "#506784",
            "showbackground": true,
            "ticks": "",
            "zerolinecolor": "#C8D4E3",
            "gridwidth": 2
           },
           "yaxis": {
            "backgroundcolor": "rgb(17,17,17)",
            "gridcolor": "#506784",
            "linecolor": "#506784",
            "showbackground": true,
            "ticks": "",
            "zerolinecolor": "#C8D4E3",
            "gridwidth": 2
           },
           "zaxis": {
            "backgroundcolor": "rgb(17,17,17)",
            "gridcolor": "#506784",
            "linecolor": "#506784",
            "showbackground": true,
            "ticks": "",
            "zerolinecolor": "#C8D4E3",
            "gridwidth": 2
           }
          },
          "shapedefaults": {
           "line": {
            "color": "#f2f5fa"
           }
          },
          "annotationdefaults": {
           "arrowcolor": "#f2f5fa",
           "arrowhead": 0,
           "arrowwidth": 1
          },
          "geo": {
           "bgcolor": "rgb(17,17,17)",
           "landcolor": "rgb(17,17,17)",
           "subunitcolor": "#506784",
           "showland": true,
           "showlakes": true,
           "lakecolor": "rgb(17,17,17)"
          },
          "title": {
           "x": 0.05
          },
          "updatemenudefaults": {
           "bgcolor": "#506784",
           "borderwidth": 0
          },
          "sliderdefaults": {
           "bgcolor": "#C8D4E3",
           "borderwidth": 1,
           "bordercolor": "rgb(17,17,17)",
           "tickwidth": 0
          },
          "mapbox": {
           "style": "dark"
          }
         }
        },
        "xaxis": {
         "anchor": "y",
         "domain": [
          0.0,
          1.0
         ],
         "title": {
          "text": "level"
         }
        },
        "yaxis": {
         "anchor": "x",
         "domain": [
          0.0,
          1.0
         ],
         "title": {
          "text": "height"
         }
        },
        "legend": {
         "title": {
          "text": "which"
         },
         "tracegroupgap": 0
        },
        "margin": {
         "t": 60
        },
        "violinmode": "group"
       },
       "config": {
        "plotlyServerURL": "https://plot.ly"
       }
      },
      "text/html": "<div>                            <div id=\"778288ae-2882-4331-9f52-51b6f478c39e\" class=\"plotly-graph-div\" style=\"height:525px; width:100%;\"></div>            <script type=\"text/javascript\">                require([\"plotly\"], function(Plotly) {                    window.PLOTLYENV=window.PLOTLYENV || {};                                    if (document.getElementById(\"778288ae-2882-4331-9f52-51b6f478c39e\")) {                    Plotly.newPlot(                        \"778288ae-2882-4331-9f52-51b6f478c39e\",                        [{\"alignmentgroup\":\"True\",\"box\":{\"visible\":true},\"customdata\":[[\"14493_008_0000\",\"pred\"],[\"14493_008_0000\",\"pred\"],[\"14493_008_0000\",\"pred\"],[\"14493_008_0000\",\"pred\"],[\"14493_008_0000\",\"pred\"],[\"14493_008_0000\",\"pred\"],[\"14493_008_0000\",\"pred\"],[\"14493_008_0000\",\"pred\"],[\"14493_008_0000\",\"pred\"],[\"14493_008_0000\",\"pred\"],[\"14492_007_0000\",\"pred\"],[\"14492_007_0000\",\"pred\"],[\"14492_007_0000\",\"pred\"],[\"14492_007_0000\",\"pred\"],[\"14492_007_0000\",\"pred\"],[\"14492_007_0000\",\"pred\"],[\"14492_007_0000\",\"pred\"],[\"14492_007_0000\",\"pred\"],[\"14492_007_0000\",\"pred\"],[\"14492_007_0000\",\"pred\"],[\"14350_011_0000\",\"pred\"],[\"14350_011_0000\",\"pred\"],[\"14350_011_0000\",\"pred\"],[\"14350_011_0000\",\"pred\"],[\"14350_011_0000\",\"pred\"],[\"14350_011_0000\",\"pred\"],[\"14350_011_0000\",\"pred\"],[\"14350_011_0000\",\"pred\"],[\"14350_011_0000\",\"pred\"],[\"14350_011_0000\",\"pred\"],[\"14411_013_0000\",\"pred\"],[\"14411_013_0000\",\"pred\"],[\"14411_013_0000\",\"pred\"],[\"14411_013_0000\",\"pred\"],[\"14411_013_0000\",\"pred\"],[\"14411_013_0000\",\"pred\"],[\"14411_013_0000\",\"pred\"],[\"14411_013_0000\",\"pred\"],[\"14411_013_0000\",\"pred\"],[\"14411_013_0000\",\"pred\"],[\"13746_012_0000\",\"pred\"],[\"13746_012_0000\",\"pred\"],[\"13746_012_0000\",\"pred\"],[\"13746_012_0000\",\"pred\"],[\"13746_012_0000\",\"pred\"],[\"13746_012_0000\",\"pred\"],[\"13746_012_0000\",\"pred\"],[\"13746_012_0000\",\"pred\"],[\"13746_012_0000\",\"pred\"],[\"13757_004_0000\",\"pred\"],[\"13757_004_0000\",\"pred\"],[\"13757_004_0000\",\"pred\"],[\"13757_004_0000\",\"pred\"],[\"13757_004_0000\",\"pred\"],[\"13757_004_0000\",\"pred\"],[\"13757_004_0000\",\"pred\"],[\"13757_004_0000\",\"pred\"],[\"13757_004_0000\",\"pred\"],[\"13757_004_0000\",\"pred\"],[\"14348_003_0000\",\"pred\"],[\"14348_003_0000\",\"pred\"],[\"14348_003_0000\",\"pred\"],[\"14348_003_0000\",\"pred\"],[\"14348_003_0000\",\"pred\"],[\"14348_003_0000\",\"pred\"],[\"14348_003_0000\",\"pred\"],[\"14348_003_0000\",\"pred\"],[\"14348_003_0000\",\"pred\"],[\"14348_003_0000\",\"pred\"],[\"13755_009_0000\",\"pred\"],[\"13755_009_0000\",\"pred\"],[\"13755_009_0000\",\"pred\"],[\"13755_009_0000\",\"pred\"],[\"13755_009_0000\",\"pred\"],[\"13755_009_0000\",\"pred\"],[\"13755_009_0000\",\"pred\"],[\"13755_009_0000\",\"pred\"],[\"13755_009_0000\",\"pred\"],[\"13755_009_0000\",\"pred\"],[\"13747_010_0000\",\"pred\"],[\"13747_010_0000\",\"pred\"],[\"13747_010_0000\",\"pred\"],[\"13747_010_0000\",\"pred\"],[\"13747_010_0000\",\"pred\"],[\"13747_010_0000\",\"pred\"],[\"13747_010_0000\",\"pred\"],[\"13747_010_0000\",\"pred\"],[\"13747_010_0000\",\"pred\"],[\"13747_010_0000\",\"pred\"],[\"14693_002_0000\",\"pred\"],[\"14693_002_0000\",\"pred\"],[\"14693_002_0000\",\"pred\"],[\"14693_002_0000\",\"pred\"],[\"14693_002_0000\",\"pred\"],[\"14693_002_0000\",\"pred\"],[\"14693_002_0000\",\"pred\"],[\"14693_002_0000\",\"pred\"],[\"14693_002_0000\",\"pred\"],[\"14406_001_0000\",\"pred\"],[\"14406_001_0000\",\"pred\"],[\"14406_001_0000\",\"pred\"],[\"14406_001_0000\",\"pred\"],[\"14406_001_0000\",\"pred\"],[\"14406_001_0000\",\"pred\"],[\"14406_001_0000\",\"pred\"],[\"14406_001_0000\",\"pred\"],[\"14406_001_0000\",\"pred\"],[\"14406_001_0000\",\"pred\"],[\"13697_005_0000\",\"pred\"],[\"13697_005_0000\",\"pred\"],[\"13697_005_0000\",\"pred\"],[\"13697_005_0000\",\"pred\"],[\"13697_005_0000\",\"pred\"],[\"13697_005_0000\",\"pred\"],[\"13697_005_0000\",\"pred\"],[\"13697_005_0000\",\"pred\"],[\"13697_005_0000\",\"pred\"],[\"13697_005_0000\",\"pred\"],[\"13696_006_0000\",\"pred\"],[\"13696_006_0000\",\"pred\"],[\"13696_006_0000\",\"pred\"],[\"13696_006_0000\",\"pred\"],[\"13696_006_0000\",\"pred\"],[\"13696_006_0000\",\"pred\"],[\"13696_006_0000\",\"pred\"],[\"13696_006_0000\",\"pred\"],[\"13696_006_0000\",\"pred\"],[\"13696_006_0000\",\"pred\"],[\"14407_000_0000\",\"pred\"],[\"14407_000_0000\",\"pred\"],[\"14407_000_0000\",\"pred\"],[\"14407_000_0000\",\"pred\"],[\"14407_000_0000\",\"pred\"],[\"14407_000_0000\",\"pred\"],[\"14407_000_0000\",\"pred\"],[\"14407_000_0000\",\"pred\"],[\"14407_000_0000\",\"pred\"],[\"14407_000_0000\",\"pred\"]],\"hovertemplate\":\"which=%{customdata[1]}\\u003cbr\\u003elevel=%{x}\\u003cbr\\u003eheight=%{y}\\u003cbr\\u003esub_name=%{customdata[0]}\\u003cextra\\u003e\\u003c\\u002fextra\\u003e\",\"legendgroup\":\"pred\",\"marker\":{\"color\":\"#636efa\"},\"name\":\"pred\",\"offsetgroup\":\"pred\",\"orientation\":\"v\",\"points\":\"all\",\"scalegroup\":\"True\",\"showlegend\":true,\"x\":[2,3,4,5,6,7,8,9,10,11,2,3,4,5,6,7,8,9,10,11,2,3,4,5,6,7,8,9,10,11,2,3,4,5,6,7,8,9,10,11,2,3,4,5,6,7,8,10,11,2,3,4,5,6,7,8,9,10,11,2,3,4,5,6,7,8,9,10,11,2,3,4,5,6,7,8,9,10,11,2,3,4,5,6,7,8,9,10,11,2,4,5,6,7,8,9,10,11,2,3,4,5,6,7,8,9,10,11,2,3,4,5,6,7,8,9,10,11,2,3,4,5,6,7,8,9,10,11,2,3,4,5,6,7,8,9,10,11],\"x0\":\" \",\"xaxis\":\"x\",\"y\":[null,2.3435996174812317,null,null,null,null,null,null,null,null,null,0.7812002897262573,null,null,null,null,null,null,null,null,null,1.5624005794525146,null,0.0,null,3.515401303768158,null,null,null,null,3.1247997283935547,5.077799558639526,null,null,null,null,4.296599626541138,null,null,null,null,1.1718002557754517,null,null,null,null,2.3436005115509033,null,null,1.5624001026153564,0.7812000513076782,null,null,null,null,null,null,null,null,null,null,null,null,null,null,null,null,null,null,null,null,null,null,null,2.734199970960617,3.5153999626636505,null,null,null,null,8.593198597431183,null,null,null,null,null,null,null,null,2.3436010479927063,0.0,null,null,null,null,null,null,null,null,7.811997532844544,null,null,null,null,null,null,null,null,4.296599626541138,null,null,null,null,null,null,null,null,null,null,3.1247994899749756,0.0,null,null,null,null,null,null,null,null,null,4.2966019213199615,0.0,5.077802270650864,0.390600174665451,null,0.0,null,null],\"y0\":\" \",\"yaxis\":\"y\",\"type\":\"violin\"}],                        {\"template\":{\"data\":{\"histogram2dcontour\":[{\"type\":\"histogram2dcontour\",\"colorbar\":{\"outlinewidth\":0,\"ticks\":\"\"},\"colorscale\":[[0.0,\"#0d0887\"],[0.1111111111111111,\"#46039f\"],[0.2222222222222222,\"#7201a8\"],[0.3333333333333333,\"#9c179e\"],[0.4444444444444444,\"#bd3786\"],[0.5555555555555556,\"#d8576b\"],[0.6666666666666666,\"#ed7953\"],[0.7777777777777778,\"#fb9f3a\"],[0.8888888888888888,\"#fdca26\"],[1.0,\"#f0f921\"]]}],\"choropleth\":[{\"type\":\"choropleth\",\"colorbar\":{\"outlinewidth\":0,\"ticks\":\"\"}}],\"histogram2d\":[{\"type\":\"histogram2d\",\"colorbar\":{\"outlinewidth\":0,\"ticks\":\"\"},\"colorscale\":[[0.0,\"#0d0887\"],[0.1111111111111111,\"#46039f\"],[0.2222222222222222,\"#7201a8\"],[0.3333333333333333,\"#9c179e\"],[0.4444444444444444,\"#bd3786\"],[0.5555555555555556,\"#d8576b\"],[0.6666666666666666,\"#ed7953\"],[0.7777777777777778,\"#fb9f3a\"],[0.8888888888888888,\"#fdca26\"],[1.0,\"#f0f921\"]]}],\"heatmap\":[{\"type\":\"heatmap\",\"colorbar\":{\"outlinewidth\":0,\"ticks\":\"\"},\"colorscale\":[[0.0,\"#0d0887\"],[0.1111111111111111,\"#46039f\"],[0.2222222222222222,\"#7201a8\"],[0.3333333333333333,\"#9c179e\"],[0.4444444444444444,\"#bd3786\"],[0.5555555555555556,\"#d8576b\"],[0.6666666666666666,\"#ed7953\"],[0.7777777777777778,\"#fb9f3a\"],[0.8888888888888888,\"#fdca26\"],[1.0,\"#f0f921\"]]}],\"heatmapgl\":[{\"type\":\"heatmapgl\",\"colorbar\":{\"outlinewidth\":0,\"ticks\":\"\"},\"colorscale\":[[0.0,\"#0d0887\"],[0.1111111111111111,\"#46039f\"],[0.2222222222222222,\"#7201a8\"],[0.3333333333333333,\"#9c179e\"],[0.4444444444444444,\"#bd3786\"],[0.5555555555555556,\"#d8576b\"],[0.6666666666666666,\"#ed7953\"],[0.7777777777777778,\"#fb9f3a\"],[0.8888888888888888,\"#fdca26\"],[1.0,\"#f0f921\"]]}],\"contourcarpet\":[{\"type\":\"contourcarpet\",\"colorbar\":{\"outlinewidth\":0,\"ticks\":\"\"}}],\"contour\":[{\"type\":\"contour\",\"colorbar\":{\"outlinewidth\":0,\"ticks\":\"\"},\"colorscale\":[[0.0,\"#0d0887\"],[0.1111111111111111,\"#46039f\"],[0.2222222222222222,\"#7201a8\"],[0.3333333333333333,\"#9c179e\"],[0.4444444444444444,\"#bd3786\"],[0.5555555555555556,\"#d8576b\"],[0.6666666666666666,\"#ed7953\"],[0.7777777777777778,\"#fb9f3a\"],[0.8888888888888888,\"#fdca26\"],[1.0,\"#f0f921\"]]}],\"surface\":[{\"type\":\"surface\",\"colorbar\":{\"outlinewidth\":0,\"ticks\":\"\"},\"colorscale\":[[0.0,\"#0d0887\"],[0.1111111111111111,\"#46039f\"],[0.2222222222222222,\"#7201a8\"],[0.3333333333333333,\"#9c179e\"],[0.4444444444444444,\"#bd3786\"],[0.5555555555555556,\"#d8576b\"],[0.6666666666666666,\"#ed7953\"],[0.7777777777777778,\"#fb9f3a\"],[0.8888888888888888,\"#fdca26\"],[1.0,\"#f0f921\"]]}],\"mesh3d\":[{\"type\":\"mesh3d\",\"colorbar\":{\"outlinewidth\":0,\"ticks\":\"\"}}],\"scatter\":[{\"marker\":{\"line\":{\"color\":\"#283442\"}},\"type\":\"scatter\"}],\"parcoords\":[{\"type\":\"parcoords\",\"line\":{\"colorbar\":{\"outlinewidth\":0,\"ticks\":\"\"}}}],\"scatterpolargl\":[{\"type\":\"scatterpolargl\",\"marker\":{\"colorbar\":{\"outlinewidth\":0,\"ticks\":\"\"}}}],\"bar\":[{\"error_x\":{\"color\":\"#f2f5fa\"},\"error_y\":{\"color\":\"#f2f5fa\"},\"marker\":{\"line\":{\"color\":\"rgb(17,17,17)\",\"width\":0.5},\"pattern\":{\"fillmode\":\"overlay\",\"size\":10,\"solidity\":0.2}},\"type\":\"bar\"}],\"scattergeo\":[{\"type\":\"scattergeo\",\"marker\":{\"colorbar\":{\"outlinewidth\":0,\"ticks\":\"\"}}}],\"scatterpolar\":[{\"type\":\"scatterpolar\",\"marker\":{\"colorbar\":{\"outlinewidth\":0,\"ticks\":\"\"}}}],\"histogram\":[{\"marker\":{\"pattern\":{\"fillmode\":\"overlay\",\"size\":10,\"solidity\":0.2}},\"type\":\"histogram\"}],\"scattergl\":[{\"marker\":{\"line\":{\"color\":\"#283442\"}},\"type\":\"scattergl\"}],\"scatter3d\":[{\"type\":\"scatter3d\",\"line\":{\"colorbar\":{\"outlinewidth\":0,\"ticks\":\"\"}},\"marker\":{\"colorbar\":{\"outlinewidth\":0,\"ticks\":\"\"}}}],\"scattermapbox\":[{\"type\":\"scattermapbox\",\"marker\":{\"colorbar\":{\"outlinewidth\":0,\"ticks\":\"\"}}}],\"scatterternary\":[{\"type\":\"scatterternary\",\"marker\":{\"colorbar\":{\"outlinewidth\":0,\"ticks\":\"\"}}}],\"scattercarpet\":[{\"type\":\"scattercarpet\",\"marker\":{\"colorbar\":{\"outlinewidth\":0,\"ticks\":\"\"}}}],\"carpet\":[{\"aaxis\":{\"endlinecolor\":\"#A2B1C6\",\"gridcolor\":\"#506784\",\"linecolor\":\"#506784\",\"minorgridcolor\":\"#506784\",\"startlinecolor\":\"#A2B1C6\"},\"baxis\":{\"endlinecolor\":\"#A2B1C6\",\"gridcolor\":\"#506784\",\"linecolor\":\"#506784\",\"minorgridcolor\":\"#506784\",\"startlinecolor\":\"#A2B1C6\"},\"type\":\"carpet\"}],\"table\":[{\"cells\":{\"fill\":{\"color\":\"#506784\"},\"line\":{\"color\":\"rgb(17,17,17)\"}},\"header\":{\"fill\":{\"color\":\"#2a3f5f\"},\"line\":{\"color\":\"rgb(17,17,17)\"}},\"type\":\"table\"}],\"barpolar\":[{\"marker\":{\"line\":{\"color\":\"rgb(17,17,17)\",\"width\":0.5},\"pattern\":{\"fillmode\":\"overlay\",\"size\":10,\"solidity\":0.2}},\"type\":\"barpolar\"}],\"pie\":[{\"automargin\":true,\"type\":\"pie\"}]},\"layout\":{\"autotypenumbers\":\"strict\",\"colorway\":[\"#636efa\",\"#EF553B\",\"#00cc96\",\"#ab63fa\",\"#FFA15A\",\"#19d3f3\",\"#FF6692\",\"#B6E880\",\"#FF97FF\",\"#FECB52\"],\"font\":{\"color\":\"#f2f5fa\"},\"hovermode\":\"closest\",\"hoverlabel\":{\"align\":\"left\"},\"paper_bgcolor\":\"rgb(17,17,17)\",\"plot_bgcolor\":\"rgb(17,17,17)\",\"polar\":{\"bgcolor\":\"rgb(17,17,17)\",\"angularaxis\":{\"gridcolor\":\"#506784\",\"linecolor\":\"#506784\",\"ticks\":\"\"},\"radialaxis\":{\"gridcolor\":\"#506784\",\"linecolor\":\"#506784\",\"ticks\":\"\"}},\"ternary\":{\"bgcolor\":\"rgb(17,17,17)\",\"aaxis\":{\"gridcolor\":\"#506784\",\"linecolor\":\"#506784\",\"ticks\":\"\"},\"baxis\":{\"gridcolor\":\"#506784\",\"linecolor\":\"#506784\",\"ticks\":\"\"},\"caxis\":{\"gridcolor\":\"#506784\",\"linecolor\":\"#506784\",\"ticks\":\"\"}},\"coloraxis\":{\"colorbar\":{\"outlinewidth\":0,\"ticks\":\"\"}},\"colorscale\":{\"sequential\":[[0.0,\"#0d0887\"],[0.1111111111111111,\"#46039f\"],[0.2222222222222222,\"#7201a8\"],[0.3333333333333333,\"#9c179e\"],[0.4444444444444444,\"#bd3786\"],[0.5555555555555556,\"#d8576b\"],[0.6666666666666666,\"#ed7953\"],[0.7777777777777778,\"#fb9f3a\"],[0.8888888888888888,\"#fdca26\"],[1.0,\"#f0f921\"]],\"sequentialminus\":[[0.0,\"#0d0887\"],[0.1111111111111111,\"#46039f\"],[0.2222222222222222,\"#7201a8\"],[0.3333333333333333,\"#9c179e\"],[0.4444444444444444,\"#bd3786\"],[0.5555555555555556,\"#d8576b\"],[0.6666666666666666,\"#ed7953\"],[0.7777777777777778,\"#fb9f3a\"],[0.8888888888888888,\"#fdca26\"],[1.0,\"#f0f921\"]],\"diverging\":[[0,\"#8e0152\"],[0.1,\"#c51b7d\"],[0.2,\"#de77ae\"],[0.3,\"#f1b6da\"],[0.4,\"#fde0ef\"],[0.5,\"#f7f7f7\"],[0.6,\"#e6f5d0\"],[0.7,\"#b8e186\"],[0.8,\"#7fbc41\"],[0.9,\"#4d9221\"],[1,\"#276419\"]]},\"xaxis\":{\"gridcolor\":\"#283442\",\"linecolor\":\"#506784\",\"ticks\":\"\",\"title\":{\"standoff\":15},\"zerolinecolor\":\"#283442\",\"automargin\":true,\"zerolinewidth\":2},\"yaxis\":{\"gridcolor\":\"#283442\",\"linecolor\":\"#506784\",\"ticks\":\"\",\"title\":{\"standoff\":15},\"zerolinecolor\":\"#283442\",\"automargin\":true,\"zerolinewidth\":2},\"scene\":{\"xaxis\":{\"backgroundcolor\":\"rgb(17,17,17)\",\"gridcolor\":\"#506784\",\"linecolor\":\"#506784\",\"showbackground\":true,\"ticks\":\"\",\"zerolinecolor\":\"#C8D4E3\",\"gridwidth\":2},\"yaxis\":{\"backgroundcolor\":\"rgb(17,17,17)\",\"gridcolor\":\"#506784\",\"linecolor\":\"#506784\",\"showbackground\":true,\"ticks\":\"\",\"zerolinecolor\":\"#C8D4E3\",\"gridwidth\":2},\"zaxis\":{\"backgroundcolor\":\"rgb(17,17,17)\",\"gridcolor\":\"#506784\",\"linecolor\":\"#506784\",\"showbackground\":true,\"ticks\":\"\",\"zerolinecolor\":\"#C8D4E3\",\"gridwidth\":2}},\"shapedefaults\":{\"line\":{\"color\":\"#f2f5fa\"}},\"annotationdefaults\":{\"arrowcolor\":\"#f2f5fa\",\"arrowhead\":0,\"arrowwidth\":1},\"geo\":{\"bgcolor\":\"rgb(17,17,17)\",\"landcolor\":\"rgb(17,17,17)\",\"subunitcolor\":\"#506784\",\"showland\":true,\"showlakes\":true,\"lakecolor\":\"rgb(17,17,17)\"},\"title\":{\"x\":0.05},\"updatemenudefaults\":{\"bgcolor\":\"#506784\",\"borderwidth\":0},\"sliderdefaults\":{\"bgcolor\":\"#C8D4E3\",\"borderwidth\":1,\"bordercolor\":\"rgb(17,17,17)\",\"tickwidth\":0},\"mapbox\":{\"style\":\"dark\"}}},\"xaxis\":{\"anchor\":\"y\",\"domain\":[0.0,1.0],\"title\":{\"text\":\"level\"}},\"yaxis\":{\"anchor\":\"x\",\"domain\":[0.0,1.0],\"title\":{\"text\":\"height\"}},\"legend\":{\"title\":{\"text\":\"which\"},\"tracegroupgap\":0},\"margin\":{\"t\":60},\"violinmode\":\"group\"},                        {\"responsive\": true}                    ).then(function(){\n                            \nvar gd = document.getElementById('778288ae-2882-4331-9f52-51b6f478c39e');\nvar x = new MutationObserver(function (mutations, observer) {{\n        var display = window.getComputedStyle(gd).display;\n        if (!display || display === 'none') {{\n            console.log([gd, 'removed!']);\n            Plotly.purge(gd);\n            observer.disconnect();\n        }}\n}});\n\n// Listen for the removal of the full notebook cells\nvar notebookContainer = gd.closest('#notebook-container');\nif (notebookContainer) {{\n    x.observe(notebookContainer, {childList: true});\n}}\n\n// Listen for the clearing of the current output cell\nvar outputEl = gd.closest('.output');\nif (outputEl) {{\n    x.observe(outputEl, {childList: true});\n}}\n\n                        })                };                });            </script>        </div>"
     },
     "metadata": {},
     "output_type": "display_data"
    }
   ],
   "source": [
    "fig = px.violin(clean, y=\"height\", x=\"level\", color=\"which\", box=True, points=\"all\",\n",
    "          hover_data=[\"sub_name\",\"which\"])\n",
    "fig.show()"
   ],
   "metadata": {
    "collapsed": false,
    "ExecuteTime": {
     "end_time": "2023-08-02T16:00:57.451542Z",
     "start_time": "2023-08-02T16:00:57.421267Z"
    }
   }
  },
  {
   "cell_type": "code",
   "execution_count": 268,
   "outputs": [
    {
     "data": {
      "application/vnd.plotly.v1+json": {
       "data": [
        {
         "customdata": [
          [
           "sub-brnoUhb03_209_0000",
           8.0
          ],
          [
           "sub-brnoUhb03_209_0000",
           9.5
          ],
          [
           "sub-brnoUhb03_209_0000",
           8.0
          ],
          [
           "sub-brnoUhb03_209_0000",
           6.5
          ],
          [
           "sub-brnoUhb03_209_0000",
           8.0
          ],
          [
           "sub-brnoUhb03_209_0000",
           7.5
          ],
          [
           "sub-brnoUhb03_209_0000",
           7.5
          ],
          [
           "sub-brnoUhb03_209_0000",
           2.5
          ],
          [
           "sub-brnoUhb03_209_0000",
           null
          ],
          [
           "sub-brnoUhb03_209_0000",
           null
          ],
          [
           "sub-007_ses-headUp_010_0000",
           1.8203124403953552
          ],
          [
           "sub-007_ses-headUp_010_0000",
           15.77604115009308
          ],
          [
           "sub-007_ses-headUp_010_0000",
           null
          ],
          [
           "sub-007_ses-headUp_010_0000",
           0.0
          ],
          [
           "sub-007_ses-headUp_010_0000",
           9.708333015441896
          ],
          [
           "sub-007_ses-headUp_010_0000",
           10.315103828907011
          ],
          [
           "sub-007_ses-headUp_010_0000",
           3.6406248807907104
          ],
          [
           "sub-007_ses-headUp_010_0000",
           null
          ],
          [
           "sub-007_ses-headUp_010_0000",
           null
          ],
          [
           "sub-007_ses-headUp_010_0000",
           null
          ],
          [
           "sub-010_ses-headNormal_014_0000",
           7.281249761581421
          ],
          [
           "sub-010_ses-headNormal_014_0000",
           5.460937321186066
          ],
          [
           "sub-010_ses-headNormal_014_0000",
           null
          ],
          [
           "sub-010_ses-headNormal_014_0000",
           2.4270832538604736
          ],
          [
           "sub-010_ses-headNormal_014_0000",
           7.888020575046539
          ],
          [
           "sub-010_ses-headNormal_014_0000",
           6.067708134651184
          ],
          [
           "sub-010_ses-headNormal_014_0000",
           4.247395694255829
          ],
          [
           "sub-010_ses-headNormal_014_0000",
           4.854166507720947
          ],
          [
           "sub-010_ses-headNormal_014_0000",
           null
          ],
          [
           "sub-010_ses-headNormal_014_0000",
           null
          ],
          [
           "sub-geneva01_253_0000",
           8.00000011920929
          ],
          [
           "sub-geneva01_253_0000",
           12.000000178813934
          ],
          [
           "sub-geneva01_253_0000",
           7.200000107288361
          ],
          [
           "sub-geneva01_253_0000",
           8.00000011920929
          ],
          [
           "sub-geneva01_253_0000",
           10.400000154972076
          ],
          [
           "sub-geneva01_253_0000",
           8.800000131130219
          ],
          [
           "sub-geneva01_253_0000",
           11.200000166893004
          ],
          [
           "sub-geneva01_253_0000",
           6.400000095367432
          ],
          [
           "sub-geneva01_253_0000",
           null
          ],
          [
           "sub-geneva01_253_0000",
           null
          ],
          [
           "sub-005_ses-headNormal_006_0000",
           0.0
          ],
          [
           "sub-005_ses-headNormal_006_0000",
           10.921874642372131
          ],
          [
           "sub-005_ses-headNormal_006_0000",
           null
          ],
          [
           "sub-005_ses-headNormal_006_0000",
           null
          ],
          [
           "sub-005_ses-headNormal_006_0000",
           null
          ],
          [
           "sub-005_ses-headNormal_006_0000",
           null
          ],
          [
           "sub-005_ses-headNormal_006_0000",
           null
          ],
          [
           "sub-005_ses-headNormal_006_0000",
           null
          ],
          [
           "sub-005_ses-headNormal_006_0000",
           null
          ],
          [
           "sub-005_ses-headNormal_006_0000",
           null
          ],
          [
           "sub-010_ses-headUp_015_0000",
           5.460937321186066
          ],
          [
           "sub-010_ses-headUp_015_0000",
           6.067708134651184
          ],
          [
           "sub-010_ses-headUp_015_0000",
           4.854166507720947
          ],
          [
           "sub-010_ses-headUp_015_0000",
           6.067708134651184
          ],
          [
           "sub-010_ses-headUp_015_0000",
           6.067708134651184
          ],
          [
           "sub-010_ses-headUp_015_0000",
           3.6406248807907104
          ],
          [
           "sub-010_ses-headUp_015_0000",
           3.6406248807907104
          ],
          [
           "sub-010_ses-headUp_015_0000",
           3.033854067325592
          ],
          [
           "sub-010_ses-headUp_015_0000",
           null
          ],
          [
           "sub-010_ses-headUp_015_0000",
           null
          ],
          [
           "sub-cmrra04_158_0000",
           4.800000071525574
          ],
          [
           "sub-cmrra04_158_0000",
           7.200000107288361
          ],
          [
           "sub-cmrra04_158_0000",
           3.200000047683716
          ],
          [
           "sub-cmrra04_158_0000",
           null
          ],
          [
           "sub-cmrra04_158_0000",
           0.800000011920929
          ],
          [
           "sub-cmrra04_158_0000",
           6.400000095367432
          ],
          [
           "sub-cmrra04_158_0000",
           6.400000095367432
          ],
          [
           "sub-cmrra04_158_0000",
           8.00000011920929
          ],
          [
           "sub-cmrra04_158_0000",
           null
          ],
          [
           "sub-cmrra04_158_0000",
           null
          ],
          [
           "sub-balgrist04_071_0000",
           6.400000095367432
          ],
          [
           "sub-balgrist04_071_0000",
           12.000000178813934
          ],
          [
           "sub-balgrist04_071_0000",
           8.800000131130219
          ],
          [
           "sub-balgrist04_071_0000",
           8.800000131130219
          ],
          [
           "sub-balgrist04_071_0000",
           8.800000131130219
          ],
          [
           "sub-balgrist04_071_0000",
           12.000000178813934
          ],
          [
           "sub-balgrist04_071_0000",
           6.400000095367432
          ],
          [
           "sub-balgrist04_071_0000",
           10.400000154972076
          ],
          [
           "sub-balgrist04_071_0000",
           null
          ],
          [
           "sub-balgrist04_071_0000",
           null
          ],
          [
           "sub-amu05_216_0000",
           4.000000059604645
          ],
          [
           "sub-amu05_216_0000",
           8.800000131130219
          ],
          [
           "sub-amu05_216_0000",
           5.600000083446503
          ],
          [
           "sub-amu05_216_0000",
           2.400000035762787
          ],
          [
           "sub-amu05_216_0000",
           8.00000011920929
          ],
          [
           "sub-amu05_216_0000",
           8.00000011920929
          ],
          [
           "sub-amu05_216_0000",
           6.400000095367432
          ],
          [
           "sub-amu05_216_0000",
           15.20000022649765
          ],
          [
           "sub-amu05_216_0000",
           null
          ],
          [
           "sub-amu05_216_0000",
           null
          ],
          [
           "sub-004_ses-headUp_005_0000",
           null
          ],
          [
           "sub-004_ses-headUp_005_0000",
           9.101562201976776
          ],
          [
           "sub-004_ses-headUp_005_0000",
           7.281249761581421
          ],
          [
           "sub-004_ses-headUp_005_0000",
           0.6067708134651184
          ],
          [
           "sub-004_ses-headUp_005_0000",
           null
          ],
          [
           "sub-004_ses-headUp_005_0000",
           null
          ],
          [
           "sub-004_ses-headUp_005_0000",
           null
          ],
          [
           "sub-004_ses-headUp_005_0000",
           null
          ],
          [
           "sub-004_ses-headUp_005_0000",
           null
          ],
          [
           "sub-004_ses-headUp_005_0000",
           null
          ],
          [
           "sub-002_ses-headNormal_000_0000",
           6.067708134651184
          ],
          [
           "sub-002_ses-headNormal_000_0000",
           null
          ],
          [
           "sub-002_ses-headNormal_000_0000",
           1.2135416269302368
          ],
          [
           "sub-002_ses-headNormal_000_0000",
           9.101562201976776
          ],
          [
           "sub-002_ses-headNormal_000_0000",
           9.708333015441896
          ],
          [
           "sub-002_ses-headNormal_000_0000",
           null
          ],
          [
           "sub-002_ses-headNormal_000_0000",
           null
          ],
          [
           "sub-002_ses-headNormal_000_0000",
           8.494791388511658
          ],
          [
           "sub-002_ses-headNormal_000_0000",
           null
          ],
          [
           "sub-002_ses-headNormal_000_0000",
           null
          ],
          [
           "sub-amu02_215_0000",
           8.800000131130219
          ],
          [
           "sub-amu02_215_0000",
           6.400000095367432
          ],
          [
           "sub-amu02_215_0000",
           4.000000059604645
          ],
          [
           "sub-amu02_215_0000",
           6.400000095367432
          ],
          [
           "sub-amu02_215_0000",
           6.400000095367432
          ],
          [
           "sub-amu02_215_0000",
           7.200000107288361
          ],
          [
           "sub-amu02_215_0000",
           8.800000131130219
          ],
          [
           "sub-amu02_215_0000",
           null
          ],
          [
           "sub-amu02_215_0000",
           null
          ],
          [
           "sub-amu02_215_0000",
           null
          ],
          [
           "sub-balgrist01_218_0000",
           4.800000071525574
          ],
          [
           "sub-balgrist01_218_0000",
           10.400000154972076
          ],
          [
           "sub-balgrist01_218_0000",
           8.00000011920929
          ],
          [
           "sub-balgrist01_218_0000",
           4.800000071525574
          ],
          [
           "sub-balgrist01_218_0000",
           5.600000083446503
          ],
          [
           "sub-balgrist01_218_0000",
           8.800000131130219
          ],
          [
           "sub-balgrist01_218_0000",
           9.600000143051147
          ],
          [
           "sub-balgrist01_218_0000",
           11.200000166893004
          ],
          [
           "sub-balgrist01_218_0000",
           null
          ],
          [
           "sub-balgrist01_218_0000",
           null
          ],
          [
           "sub-003_ses-headNormal_002_0000",
           5.460937321186066
          ],
          [
           "sub-003_ses-headNormal_002_0000",
           11.52864545583725
          ],
          [
           "sub-003_ses-headNormal_002_0000",
           3.6406248807907104
          ],
          [
           "sub-003_ses-headNormal_002_0000",
           7.281249761581421
          ],
          [
           "sub-003_ses-headNormal_002_0000",
           7.281249761581421
          ],
          [
           "sub-003_ses-headNormal_002_0000",
           null
          ],
          [
           "sub-003_ses-headNormal_002_0000",
           null
          ],
          [
           "sub-003_ses-headNormal_002_0000",
           null
          ],
          [
           "sub-003_ses-headNormal_002_0000",
           null
          ],
          [
           "sub-003_ses-headNormal_002_0000",
           null
          ],
          [
           "sub-cardiff04_172_0000",
           8.800000131130219
          ],
          [
           "sub-cardiff04_172_0000",
           10.400000154972076
          ],
          [
           "sub-cardiff04_172_0000",
           9.600000143051147
          ],
          [
           "sub-cardiff04_172_0000",
           5.600000083446503
          ],
          [
           "sub-cardiff04_172_0000",
           7.200000107288361
          ],
          [
           "sub-cardiff04_172_0000",
           9.600000143051147
          ],
          [
           "sub-cardiff04_172_0000",
           5.600000083446503
          ],
          [
           "sub-cardiff04_172_0000",
           1.600000023841858
          ],
          [
           "sub-cardiff04_172_0000",
           null
          ],
          [
           "sub-cardiff04_172_0000",
           null
          ],
          [
           "sub-barcelona02_063_0000",
           6.400000095367432
          ],
          [
           "sub-barcelona02_063_0000",
           11.200000166893004
          ],
          [
           "sub-barcelona02_063_0000",
           12.000000178813934
          ],
          [
           "sub-barcelona02_063_0000",
           6.400000095367432
          ],
          [
           "sub-barcelona02_063_0000",
           4.000000059604645
          ],
          [
           "sub-barcelona02_063_0000",
           6.400000095367432
          ],
          [
           "sub-barcelona02_063_0000",
           12.000000178813934
          ],
          [
           "sub-barcelona02_063_0000",
           14.40000021457672
          ],
          [
           "sub-barcelona02_063_0000",
           null
          ],
          [
           "sub-barcelona02_063_0000",
           null
          ],
          [
           "sub-cardiff02_182_0000",
           4.000000059604645
          ],
          [
           "sub-cardiff02_182_0000",
           8.800000131130219
          ],
          [
           "sub-cardiff02_182_0000",
           6.400000095367432
          ],
          [
           "sub-cardiff02_182_0000",
           2.400000035762787
          ],
          [
           "sub-cardiff02_182_0000",
           6.400000095367432
          ],
          [
           "sub-cardiff02_182_0000",
           7.200000107288361
          ],
          [
           "sub-cardiff02_182_0000",
           8.00000011920929
          ],
          [
           "sub-cardiff02_182_0000",
           11.200000166893004
          ],
          [
           "sub-cardiff02_182_0000",
           null
          ],
          [
           "sub-cardiff02_182_0000",
           null
          ],
          [
           "sub-cmrra02_140_0000",
           4.800000071525574
          ],
          [
           "sub-cmrra02_140_0000",
           11.200000166893004
          ],
          [
           "sub-cmrra02_140_0000",
           8.00000011920929
          ],
          [
           "sub-cmrra02_140_0000",
           7.200000107288361
          ],
          [
           "sub-cmrra02_140_0000",
           9.600000143051147
          ],
          [
           "sub-cmrra02_140_0000",
           7.200000107288361
          ],
          [
           "sub-cmrra02_140_0000",
           7.200000107288361
          ],
          [
           "sub-cmrra02_140_0000",
           9.600000143051147
          ],
          [
           "sub-cmrra02_140_0000",
           null
          ],
          [
           "sub-cmrra02_140_0000",
           null
          ],
          [
           "sub-balgrist02_084_0000",
           7.200000107288361
          ],
          [
           "sub-balgrist02_084_0000",
           10.400000154972076
          ],
          [
           "sub-balgrist02_084_0000",
           6.400000095367432
          ],
          [
           "sub-balgrist02_084_0000",
           5.600000083446503
          ],
          [
           "sub-balgrist02_084_0000",
           8.00000011920929
          ],
          [
           "sub-balgrist02_084_0000",
           12.800000190734863
          ],
          [
           "sub-balgrist02_084_0000",
           9.600000143051147
          ],
          [
           "sub-balgrist02_084_0000",
           7.200000107288361
          ],
          [
           "sub-balgrist02_084_0000",
           null
          ],
          [
           "sub-balgrist02_084_0000",
           null
          ],
          [
           "sub-barcelona06_214_0000",
           4.800000071525574
          ],
          [
           "sub-barcelona06_214_0000",
           10.400000154972076
          ],
          [
           "sub-barcelona06_214_0000",
           8.00000011920929
          ],
          [
           "sub-barcelona06_214_0000",
           8.00000011920929
          ],
          [
           "sub-barcelona06_214_0000",
           9.600000143051147
          ],
          [
           "sub-barcelona06_214_0000",
           9.600000143051147
          ],
          [
           "sub-barcelona06_214_0000",
           12.000000178813934
          ],
          [
           "sub-barcelona06_214_0000",
           null
          ],
          [
           "sub-barcelona06_214_0000",
           null
          ],
          [
           "sub-007_ses-headNormal_009_0000",
           3.033854067325592
          ],
          [
           "sub-007_ses-headNormal_009_0000",
           10.921874642372131
          ],
          [
           "sub-007_ses-headNormal_009_0000",
           4.854166507720947
          ],
          [
           "sub-007_ses-headNormal_009_0000",
           null
          ],
          [
           "sub-007_ses-headNormal_009_0000",
           5.460937321186066
          ],
          [
           "sub-007_ses-headNormal_009_0000",
           8.494791388511658
          ],
          [
           "sub-007_ses-headNormal_009_0000",
           null
          ],
          [
           "sub-007_ses-headNormal_009_0000",
           null
          ],
          [
           "sub-007_ses-headNormal_009_0000",
           null
          ],
          [
           "sub-007_ses-headNormal_009_0000",
           null
          ],
          [
           "sub-amu01_064_0000",
           1.600000023841858
          ],
          [
           "sub-amu01_064_0000",
           8.800000131130219
          ],
          [
           "sub-amu01_064_0000",
           3.200000047683716
          ],
          [
           "sub-amu01_064_0000",
           5.600000083446503
          ],
          [
           "sub-amu01_064_0000",
           4.800000071525574
          ],
          [
           "sub-amu01_064_0000",
           8.800000131130219
          ],
          [
           "sub-amu01_064_0000",
           8.00000011920929
          ],
          [
           "sub-amu01_064_0000",
           12.800000190734863
          ],
          [
           "sub-amu01_064_0000",
           null
          ],
          [
           "sub-amu01_064_0000",
           null
          ],
          [
           "sub-balgrist03_066_0000",
           8.00000011920929
          ],
          [
           "sub-balgrist03_066_0000",
           14.40000021457672
          ],
          [
           "sub-balgrist03_066_0000",
           null
          ],
          [
           "sub-balgrist03_066_0000",
           0.800000011920929
          ],
          [
           "sub-balgrist03_066_0000",
           1.600000023841858
          ],
          [
           "sub-balgrist03_066_0000",
           4.800000071525574
          ],
          [
           "sub-balgrist03_066_0000",
           8.00000011920929
          ],
          [
           "sub-balgrist03_066_0000",
           14.40000021457672
          ],
          [
           "sub-balgrist03_066_0000",
           null
          ],
          [
           "sub-balgrist03_066_0000",
           null
          ],
          [
           "sub-barcelona03_074_0000",
           8.00000011920929
          ],
          [
           "sub-barcelona03_074_0000",
           11.200000166893004
          ],
          [
           "sub-barcelona03_074_0000",
           4.000000059604645
          ],
          [
           "sub-barcelona03_074_0000",
           5.600000083446503
          ],
          [
           "sub-barcelona03_074_0000",
           6.400000095367432
          ],
          [
           "sub-barcelona03_074_0000",
           8.800000131130219
          ],
          [
           "sub-barcelona03_074_0000",
           10.400000154972076
          ],
          [
           "sub-barcelona03_074_0000",
           12.000000178813934
          ],
          [
           "sub-barcelona03_074_0000",
           null
          ],
          [
           "sub-barcelona03_074_0000",
           null
          ],
          [
           "sub-011_ses-headUp_017_0000",
           6.6744789481163025
          ],
          [
           "sub-011_ses-headUp_017_0000",
           6.6744789481163025
          ],
          [
           "sub-011_ses-headUp_017_0000",
           10.921874642372131
          ],
          [
           "sub-011_ses-headUp_017_0000",
           0.6067708134651184
          ],
          [
           "sub-011_ses-headUp_017_0000",
           2.4270832538604736
          ],
          [
           "sub-011_ses-headUp_017_0000",
           10.921874642372131
          ],
          [
           "sub-011_ses-headUp_017_0000",
           9.708333015441896
          ],
          [
           "sub-011_ses-headUp_017_0000",
           12.742187082767488
          ],
          [
           "sub-011_ses-headUp_017_0000",
           null
          ],
          [
           "sub-011_ses-headUp_017_0000",
           null
          ],
          [
           "sub-011_ses-headNormal_016_0000",
           9.101562201976776
          ],
          [
           "sub-011_ses-headNormal_016_0000",
           14.562499523162842
          ],
          [
           "sub-011_ses-headNormal_016_0000",
           13.955728709697723
          ],
          [
           "sub-011_ses-headNormal_016_0000",
           8.494791388511658
          ],
          [
           "sub-011_ses-headNormal_016_0000",
           6.6744789481163025
          ],
          [
           "sub-011_ses-headNormal_016_0000",
           6.6744789481163025
          ],
          [
           "sub-011_ses-headNormal_016_0000",
           13.348957896232603
          ],
          [
           "sub-011_ses-headNormal_016_0000",
           12.742187082767488
          ],
          [
           "sub-011_ses-headNormal_016_0000",
           null
          ],
          [
           "sub-011_ses-headNormal_016_0000",
           null
          ],
          [
           "sub-barcelona01_212_0000",
           3.200000047683716
          ],
          [
           "sub-barcelona01_212_0000",
           10.400000154972076
          ],
          [
           "sub-barcelona01_212_0000",
           8.00000011920929
          ],
          [
           "sub-barcelona01_212_0000",
           8.00000011920929
          ],
          [
           "sub-barcelona01_212_0000",
           8.00000011920929
          ],
          [
           "sub-barcelona01_212_0000",
           9.600000143051147
          ],
          [
           "sub-barcelona01_212_0000",
           9.600000143051147
          ],
          [
           "sub-barcelona01_212_0000",
           12.800000190734863
          ],
          [
           "sub-barcelona01_212_0000",
           null
          ],
          [
           "sub-barcelona01_212_0000",
           null
          ],
          [
           "sub-003_ses-headUp_003_0000",
           4.247395694255829
          ],
          [
           "sub-003_ses-headUp_003_0000",
           12.742187082767488
          ],
          [
           "sub-003_ses-headUp_003_0000",
           8.494791388511658
          ],
          [
           "sub-003_ses-headUp_003_0000",
           6.067708134651184
          ],
          [
           "sub-003_ses-headUp_003_0000",
           10.921874642372131
          ],
          [
           "sub-003_ses-headUp_003_0000",
           6.067708134651184
          ],
          [
           "sub-003_ses-headUp_003_0000",
           10.315103828907011
          ],
          [
           "sub-003_ses-headUp_003_0000",
           7.281249761581421
          ],
          [
           "sub-003_ses-headUp_003_0000",
           null
          ],
          [
           "sub-003_ses-headUp_003_0000",
           null
          ],
          [
           "sub-004_ses-headNormal_004_0000",
           0.6067708134651184
          ],
          [
           "sub-004_ses-headNormal_004_0000",
           10.315103828907011
          ],
          [
           "sub-004_ses-headNormal_004_0000",
           6.6744789481163025
          ],
          [
           "sub-004_ses-headNormal_004_0000",
           3.6406248807907104
          ],
          [
           "sub-004_ses-headNormal_004_0000",
           null
          ],
          [
           "sub-004_ses-headNormal_004_0000",
           0.0
          ],
          [
           "sub-004_ses-headNormal_004_0000",
           null
          ],
          [
           "sub-004_ses-headNormal_004_0000",
           null
          ],
          [
           "sub-004_ses-headNormal_004_0000",
           null
          ],
          [
           "sub-004_ses-headNormal_004_0000",
           null
          ],
          [
           "sub-005_ses-headUp_007_0000",
           null
          ],
          [
           "sub-005_ses-headUp_007_0000",
           null
          ],
          [
           "sub-005_ses-headUp_007_0000",
           null
          ],
          [
           "sub-005_ses-headUp_007_0000",
           1.2135416269302368
          ],
          [
           "sub-005_ses-headUp_007_0000",
           null
          ],
          [
           "sub-005_ses-headUp_007_0000",
           0.6067708134651184
          ],
          [
           "sub-005_ses-headUp_007_0000",
           3.6406248807907104
          ],
          [
           "sub-005_ses-headUp_007_0000",
           null
          ],
          [
           "sub-005_ses-headUp_007_0000",
           null
          ],
          [
           "sub-005_ses-headUp_007_0000",
           null
          ],
          [
           "sub-balgrist06_222_0000",
           6.400000095367432
          ],
          [
           "sub-balgrist06_222_0000",
           8.00000011920929
          ],
          [
           "sub-balgrist06_222_0000",
           8.800000131130219
          ],
          [
           "sub-balgrist06_222_0000",
           8.00000011920929
          ],
          [
           "sub-balgrist06_222_0000",
           8.00000011920929
          ],
          [
           "sub-balgrist06_222_0000",
           7.200000107288361
          ],
          [
           "sub-balgrist06_222_0000",
           8.800000131130219
          ],
          [
           "sub-balgrist06_222_0000",
           8.00000011920929
          ],
          [
           "sub-balgrist06_222_0000",
           null
          ],
          [
           "sub-balgrist06_222_0000",
           null
          ]
         ],
         "hovertemplate": "which=pred<br>level=%{x}<br>z_scores=%{y}<br>sub_name=%{customdata[0]}<br>height=%{customdata[1]}<extra></extra>",
         "legendgroup": "pred",
         "marker": {
          "color": "#636efa",
          "symbol": "circle"
         },
         "mode": "markers",
         "name": "pred",
         "orientation": "v",
         "showlegend": true,
         "x": [
          2,
          3,
          4,
          5,
          6,
          7,
          8,
          9,
          10,
          11,
          2,
          3,
          4,
          5,
          6,
          7,
          8,
          9,
          10,
          11,
          2,
          3,
          4,
          5,
          6,
          7,
          8,
          9,
          10,
          11,
          2,
          3,
          4,
          5,
          6,
          7,
          8,
          9,
          10,
          11,
          2,
          3,
          4,
          5,
          6,
          7,
          8,
          9,
          10,
          11,
          2,
          3,
          4,
          5,
          6,
          7,
          8,
          9,
          10,
          11,
          2,
          3,
          4,
          5,
          6,
          7,
          8,
          9,
          10,
          11,
          2,
          3,
          4,
          5,
          6,
          7,
          8,
          9,
          10,
          11,
          2,
          3,
          4,
          5,
          6,
          7,
          8,
          9,
          10,
          11,
          2,
          3,
          4,
          5,
          6,
          7,
          8,
          9,
          10,
          11,
          2,
          3,
          4,
          5,
          6,
          7,
          8,
          9,
          10,
          11,
          2,
          3,
          4,
          5,
          6,
          7,
          8,
          9,
          10,
          11,
          2,
          3,
          4,
          5,
          6,
          7,
          8,
          9,
          10,
          11,
          2,
          3,
          4,
          5,
          6,
          7,
          8,
          9,
          10,
          11,
          2,
          3,
          4,
          5,
          6,
          7,
          8,
          9,
          10,
          11,
          2,
          3,
          4,
          5,
          6,
          7,
          8,
          9,
          10,
          11,
          2,
          3,
          4,
          5,
          6,
          7,
          8,
          9,
          10,
          11,
          2,
          3,
          4,
          5,
          6,
          7,
          8,
          9,
          10,
          11,
          2,
          3,
          4,
          5,
          6,
          7,
          8,
          9,
          10,
          11,
          2,
          3,
          4,
          5,
          6,
          7,
          8,
          10,
          11,
          2,
          3,
          4,
          5,
          6,
          7,
          8,
          9,
          10,
          11,
          2,
          3,
          4,
          5,
          6,
          7,
          8,
          9,
          10,
          11,
          2,
          3,
          4,
          5,
          6,
          7,
          8,
          9,
          10,
          11,
          2,
          3,
          4,
          5,
          6,
          7,
          8,
          9,
          10,
          11,
          2,
          3,
          4,
          5,
          6,
          7,
          8,
          9,
          10,
          11,
          2,
          3,
          4,
          5,
          6,
          7,
          8,
          9,
          10,
          11,
          2,
          3,
          4,
          5,
          6,
          7,
          8,
          9,
          10,
          11,
          2,
          3,
          4,
          5,
          6,
          7,
          8,
          9,
          10,
          11,
          2,
          3,
          4,
          5,
          6,
          7,
          8,
          9,
          10,
          11,
          2,
          3,
          4,
          5,
          6,
          7,
          8,
          9,
          10,
          11,
          2,
          3,
          4,
          5,
          6,
          7,
          8,
          9,
          10,
          11
         ],
         "xaxis": "x",
         "y": [
          -3.636050466096219E-5,
          0.25207003836305,
          -3.636050466096219E-5,
          -0.2521427593723719,
          -3.636050466096219E-5,
          -0.08407182679389794,
          -0.08407182679389794,
          -0.9244264896862677,
          null,
          null,
          -1.0386622116910074,
          1.3068901273600722,
          null,
          -1.3446038211324525,
          0.2870847625552551,
          0.3890652990357362,
          -0.7327206022495623,
          null,
          null,
          null,
          -0.12083738336667205,
          -0.4267789928081172,
          null,
          -0.9366816752105257,
          -0.018856846886190336,
          -0.3247984563276355,
          -0.6307400657690806,
          -0.5287595292885989,
          null,
          null,
          -3.634046904449537E-5,
          0.6722473998626596,
          -0.1344930885353853,
          -3.634046904449537E-5,
          0.4033339037299779,
          0.13442040759729632,
          0.5377906517963185,
          -0.2689498366017261,
          null,
          null,
          -1.3446038211324525,
          0.4910458355162182,
          null,
          null,
          null,
          null,
          null,
          null,
          null,
          null,
          -0.4267789928081172,
          -0.3247984563276355,
          -0.5287595292885989,
          -0.3247984563276355,
          -0.3247984563276355,
          -0.7327206022495623,
          -0.7327206022495623,
          -0.834701138730044,
          null,
          null,
          -0.5378633327344077,
          -0.1344930885353853,
          -0.8067768288670893,
          null,
          -1.2101470730661117,
          -0.2689498366017261,
          -0.2689498366017261,
          -3.634046904449537E-5,
          null,
          null,
          -0.2689498366017261,
          0.6722473998626596,
          0.13442040759729632,
          0.13442040759729632,
          0.13442040759729632,
          0.6722473998626596,
          -0.2689498366017261,
          0.4033339037299779,
          null,
          null,
          -0.6723200808007486,
          0.13442040759729632,
          -0.40340658466806695,
          -0.9412335769334301,
          -3.634046904449537E-5,
          -3.634046904449537E-5,
          -0.2689498366017261,
          1.2100743921280228,
          null,
          null,
          null,
          0.1851042260747731,
          -0.12083738336667205,
          -1.242623284651971,
          null,
          null,
          null,
          null,
          null,
          null,
          -0.3247984563276355,
          null,
          -1.1406427481714891,
          0.1851042260747731,
          0.2870847625552551,
          null,
          null,
          0.08312368959429137,
          null,
          null,
          0.13442040759729632,
          -0.2689498366017261,
          -0.6723200808007486,
          -0.2689498366017261,
          -0.2689498366017261,
          -0.1344930885353853,
          0.13442040759729632,
          null,
          null,
          null,
          -0.5378633327344077,
          0.4033339037299779,
          -3.634046904449537E-5,
          -0.5378633327344077,
          -0.40340658466806695,
          0.13442040759729632,
          0.2688771556636371,
          0.5377906517963185,
          null,
          null,
          -0.4267789928081172,
          0.5930263719966999,
          -0.7327206022495623,
          -0.12083738336667205,
          -0.12083738336667205,
          null,
          null,
          null,
          null,
          null,
          0.13442040759729632,
          0.4033339037299779,
          0.2688771556636371,
          -0.40340658466806695,
          -0.1344930885353853,
          0.2688771556636371,
          -0.40340658466806695,
          -1.075690324999771,
          null,
          null,
          -0.2689498366017261,
          0.5377906517963185,
          0.6722473998626596,
          -0.2689498366017261,
          -0.6723200808007486,
          -0.2689498366017261,
          0.6722473998626596,
          1.0756176440616816,
          null,
          null,
          -0.6723200808007486,
          0.13442040759729632,
          -0.2689498366017261,
          -0.9412335769334301,
          -0.2689498366017261,
          -0.1344930885353853,
          -3.634046904449537E-5,
          0.5377906517963185,
          null,
          null,
          -0.5378633327344077,
          0.5377906517963185,
          -3.634046904449537E-5,
          -0.1344930885353853,
          0.2688771556636371,
          -0.1344930885353853,
          -0.1344930885353853,
          0.2688771556636371,
          null,
          null,
          -0.1344930885353853,
          0.4033339037299779,
          -0.2689498366017261,
          -0.40340658466806695,
          -3.634046904449537E-5,
          0.8067041479290004,
          0.2688771556636371,
          -0.1344930885353853,
          null,
          null,
          -0.5378633327344077,
          0.4033339037299779,
          -3.634046904449537E-5,
          -3.634046904449537E-5,
          0.2688771556636371,
          0.2688771556636371,
          0.6722473998626596,
          null,
          null,
          -0.834701138730044,
          0.4910458355162182,
          -0.5287595292885989,
          null,
          -0.4267789928081172,
          0.08312368959429137,
          null,
          null,
          null,
          null,
          -1.075690324999771,
          0.13442040759729632,
          -0.8067768288670893,
          -0.40340658466806695,
          -0.5378633327344077,
          0.13442040759729632,
          -3.634046904449537E-5,
          0.8067041479290004,
          null,
          null,
          -3.634046904449537E-5,
          1.0756176440616816,
          null,
          -1.2101470730661117,
          -1.075690324999771,
          -0.5378633327344077,
          -3.634046904449537E-5,
          1.0756176440616816,
          null,
          null,
          -3.634046904449537E-5,
          0.5377906517963185,
          -0.6723200808007486,
          -0.40340658466806695,
          -0.2689498366017261,
          0.13442040759729632,
          0.4033339037299779,
          0.6722473998626596,
          null,
          null,
          -0.22281791984715377,
          -0.22281791984715377,
          0.4910458355162182,
          -1.242623284651971,
          -0.9366816752105257,
          0.4910458355162182,
          0.2870847625552551,
          0.7969874449576636,
          null,
          null,
          0.1851042260747731,
          1.1029290543991084,
          1.0009485179186268,
          0.08312368959429137,
          -0.22281791984715377,
          -0.22281791984715377,
          0.8989679814381447,
          0.7969874449576636,
          null,
          null,
          -0.8067768288670893,
          0.4033339037299779,
          -3.634046904449537E-5,
          -3.634046904449537E-5,
          -3.634046904449537E-5,
          0.2688771556636371,
          0.2688771556636371,
          0.8067041479290004,
          null,
          null,
          -0.6307400657690806,
          0.7969874449576636,
          0.08312368959429137,
          -0.3247984563276355,
          0.4910458355162182,
          -0.3247984563276355,
          0.3890652990357362,
          -0.12083738336667205,
          null,
          null,
          -1.242623284651971,
          0.3890652990357362,
          -0.22281791984715377,
          -0.7327206022495623,
          null,
          -1.3446038211324525,
          null,
          null,
          null,
          null,
          null,
          null,
          null,
          -1.1406427481714891,
          null,
          -1.242623284651971,
          -0.7327206022495623,
          null,
          null,
          null,
          -0.2689498366017261,
          -3.634046904449537E-5,
          0.13442040759729632,
          -3.634046904449537E-5,
          -3.634046904449537E-5,
          -0.1344930885353853,
          0.13442040759729632,
          -3.634046904449537E-5,
          null,
          null
         ],
         "yaxis": "y",
         "type": "scatter"
        },
        {
         "customdata": [
          [
           "sub-brnoUhb03_209_0000",
           8.0
          ],
          [
           "sub-brnoUhb03_209_0000",
           10.5
          ],
          [
           "sub-brnoUhb03_209_0000",
           8.5
          ],
          [
           "sub-brnoUhb03_209_0000",
           7.0
          ],
          [
           "sub-brnoUhb03_209_0000",
           8.5
          ],
          [
           "sub-brnoUhb03_209_0000",
           9.0
          ],
          [
           "sub-brnoUhb03_209_0000",
           8.5
          ],
          [
           "sub-brnoUhb03_209_0000",
           4.0
          ],
          [
           "sub-brnoUhb03_209_0000",
           3.5
          ],
          [
           "sub-brnoUhb03_209_0000",
           null
          ],
          [
           "sub-007_ses-headUp_010_0000",
           3.6406248807907104
          ],
          [
           "sub-007_ses-headUp_010_0000",
           17.596353590488434
          ],
          [
           "sub-007_ses-headUp_010_0000",
           3.033854067325592
          ],
          [
           "sub-007_ses-headUp_010_0000",
           9.101562201976776
          ],
          [
           "sub-007_ses-headUp_010_0000",
           9.708333015441896
          ],
          [
           "sub-007_ses-headUp_010_0000",
           10.921874642372131
          ],
          [
           "sub-007_ses-headUp_010_0000",
           4.247395694255829
          ],
          [
           "sub-007_ses-headUp_010_0000",
           null
          ],
          [
           "sub-007_ses-headUp_010_0000",
           null
          ],
          [
           "sub-007_ses-headUp_010_0000",
           null
          ],
          [
           "sub-010_ses-headNormal_014_0000",
           8.494791388511658
          ],
          [
           "sub-010_ses-headNormal_014_0000",
           6.067708134651184
          ],
          [
           "sub-010_ses-headNormal_014_0000",
           null
          ],
          [
           "sub-010_ses-headNormal_014_0000",
           6.6744789481163025
          ],
          [
           "sub-010_ses-headNormal_014_0000",
           9.101562201976776
          ],
          [
           "sub-010_ses-headNormal_014_0000",
           7.888020575046539
          ],
          [
           "sub-010_ses-headNormal_014_0000",
           4.854166507720947
          ],
          [
           "sub-010_ses-headNormal_014_0000",
           5.460937321186066
          ],
          [
           "sub-010_ses-headNormal_014_0000",
           null
          ],
          [
           "sub-010_ses-headNormal_014_0000",
           null
          ],
          [
           "sub-geneva01_253_0000",
           8.00000011920929
          ],
          [
           "sub-geneva01_253_0000",
           12.800000190734863
          ],
          [
           "sub-geneva01_253_0000",
           8.00000011920929
          ],
          [
           "sub-geneva01_253_0000",
           8.00000011920929
          ],
          [
           "sub-geneva01_253_0000",
           11.200000166893004
          ],
          [
           "sub-geneva01_253_0000",
           8.800000131130219
          ],
          [
           "sub-geneva01_253_0000",
           12.000000178813934
          ],
          [
           "sub-geneva01_253_0000",
           5.600000083446503
          ],
          [
           "sub-geneva01_253_0000",
           null
          ],
          [
           "sub-geneva01_253_0000",
           null
          ],
          [
           "sub-005_ses-headNormal_006_0000",
           1.2135416269302368
          ],
          [
           "sub-005_ses-headNormal_006_0000",
           11.52864545583725
          ],
          [
           "sub-005_ses-headNormal_006_0000",
           2.4270832538604736
          ],
          [
           "sub-005_ses-headNormal_006_0000",
           4.854166507720947
          ],
          [
           "sub-005_ses-headNormal_006_0000",
           null
          ],
          [
           "sub-005_ses-headNormal_006_0000",
           4.854166507720947
          ],
          [
           "sub-005_ses-headNormal_006_0000",
           null
          ],
          [
           "sub-005_ses-headNormal_006_0000",
           null
          ],
          [
           "sub-005_ses-headNormal_006_0000",
           null
          ],
          [
           "sub-005_ses-headNormal_006_0000",
           null
          ],
          [
           "sub-010_ses-headUp_015_0000",
           6.067708134651184
          ],
          [
           "sub-010_ses-headUp_015_0000",
           10.315103828907011
          ],
          [
           "sub-010_ses-headUp_015_0000",
           6.6744789481163025
          ],
          [
           "sub-010_ses-headUp_015_0000",
           6.067708134651184
          ],
          [
           "sub-010_ses-headUp_015_0000",
           9.708333015441896
          ],
          [
           "sub-010_ses-headUp_015_0000",
           7.888020575046539
          ],
          [
           "sub-010_ses-headUp_015_0000",
           5.460937321186066
          ],
          [
           "sub-010_ses-headUp_015_0000",
           4.247395694255829
          ],
          [
           "sub-010_ses-headUp_015_0000",
           null
          ],
          [
           "sub-010_ses-headUp_015_0000",
           null
          ],
          [
           "sub-cmrra04_158_0000",
           4.800000071525574
          ],
          [
           "sub-cmrra04_158_0000",
           7.200000107288361
          ],
          [
           "sub-cmrra04_158_0000",
           3.200000047683716
          ],
          [
           "sub-cmrra04_158_0000",
           null
          ],
          [
           "sub-cmrra04_158_0000",
           1.600000023841858
          ],
          [
           "sub-cmrra04_158_0000",
           7.200000107288361
          ],
          [
           "sub-cmrra04_158_0000",
           7.200000107288361
          ],
          [
           "sub-cmrra04_158_0000",
           8.800000131130219
          ],
          [
           "sub-cmrra04_158_0000",
           6.400000095367432
          ],
          [
           "sub-cmrra04_158_0000",
           null
          ],
          [
           "sub-balgrist04_071_0000",
           6.400000095367432
          ],
          [
           "sub-balgrist04_071_0000",
           12.000000178813934
          ],
          [
           "sub-balgrist04_071_0000",
           8.800000131130219
          ],
          [
           "sub-balgrist04_071_0000",
           8.800000131130219
          ],
          [
           "sub-balgrist04_071_0000",
           8.800000131130219
          ],
          [
           "sub-balgrist04_071_0000",
           12.000000178813934
          ],
          [
           "sub-balgrist04_071_0000",
           6.400000095367432
          ],
          [
           "sub-balgrist04_071_0000",
           10.400000154972076
          ],
          [
           "sub-balgrist04_071_0000",
           null
          ],
          [
           "sub-balgrist04_071_0000",
           null
          ],
          [
           "sub-amu05_216_0000",
           4.000000059604645
          ],
          [
           "sub-amu05_216_0000",
           9.600000143051147
          ],
          [
           "sub-amu05_216_0000",
           5.600000083446503
          ],
          [
           "sub-amu05_216_0000",
           2.400000035762787
          ],
          [
           "sub-amu05_216_0000",
           8.00000011920929
          ],
          [
           "sub-amu05_216_0000",
           8.00000011920929
          ],
          [
           "sub-amu05_216_0000",
           6.400000095367432
          ],
          [
           "sub-amu05_216_0000",
           15.20000022649765
          ],
          [
           "sub-amu05_216_0000",
           null
          ],
          [
           "sub-amu05_216_0000",
           null
          ],
          [
           "sub-004_ses-headUp_005_0000",
           3.033854067325592
          ],
          [
           "sub-004_ses-headUp_005_0000",
           9.101562201976776
          ],
          [
           "sub-004_ses-headUp_005_0000",
           7.888020575046539
          ],
          [
           "sub-004_ses-headUp_005_0000",
           2.4270832538604736
          ],
          [
           "sub-004_ses-headUp_005_0000",
           3.6406248807907104
          ],
          [
           "sub-004_ses-headUp_005_0000",
           3.033854067325592
          ],
          [
           "sub-004_ses-headUp_005_0000",
           null
          ],
          [
           "sub-004_ses-headUp_005_0000",
           null
          ],
          [
           "sub-004_ses-headUp_005_0000",
           null
          ],
          [
           "sub-004_ses-headUp_005_0000",
           null
          ],
          [
           "sub-002_ses-headNormal_000_0000",
           6.067708134651184
          ],
          [
           "sub-002_ses-headNormal_000_0000",
           null
          ],
          [
           "sub-002_ses-headNormal_000_0000",
           1.2135416269302368
          ],
          [
           "sub-002_ses-headNormal_000_0000",
           9.708333015441896
          ],
          [
           "sub-002_ses-headNormal_000_0000",
           9.101562201976776
          ],
          [
           "sub-002_ses-headNormal_000_0000",
           0.6067708134651184
          ],
          [
           "sub-002_ses-headNormal_000_0000",
           null
          ],
          [
           "sub-002_ses-headNormal_000_0000",
           10.921874642372131
          ],
          [
           "sub-002_ses-headNormal_000_0000",
           10.315103828907011
          ],
          [
           "sub-002_ses-headNormal_000_0000",
           12.135416269302368
          ],
          [
           "sub-amu02_215_0000",
           8.800000131130219
          ],
          [
           "sub-amu02_215_0000",
           6.400000095367432
          ],
          [
           "sub-amu02_215_0000",
           4.000000059604645
          ],
          [
           "sub-amu02_215_0000",
           6.400000095367432
          ],
          [
           "sub-amu02_215_0000",
           7.200000107288361
          ],
          [
           "sub-amu02_215_0000",
           null
          ],
          [
           "sub-amu02_215_0000",
           null
          ],
          [
           "sub-balgrist01_218_0000",
           4.800000071525574
          ],
          [
           "sub-balgrist01_218_0000",
           10.400000154972076
          ],
          [
           "sub-balgrist01_218_0000",
           8.00000011920929
          ],
          [
           "sub-balgrist01_218_0000",
           4.800000071525574
          ],
          [
           "sub-balgrist01_218_0000",
           5.600000083446503
          ],
          [
           "sub-balgrist01_218_0000",
           8.800000131130219
          ],
          [
           "sub-balgrist01_218_0000",
           9.600000143051147
          ],
          [
           "sub-balgrist01_218_0000",
           11.200000166893004
          ],
          [
           "sub-balgrist01_218_0000",
           0.800000011920929
          ],
          [
           "sub-balgrist01_218_0000",
           null
          ],
          [
           "sub-003_ses-headNormal_002_0000",
           5.460937321186066
          ],
          [
           "sub-003_ses-headNormal_002_0000",
           12.135416269302368
          ],
          [
           "sub-003_ses-headNormal_002_0000",
           4.854166507720947
          ],
          [
           "sub-003_ses-headNormal_002_0000",
           7.888020575046539
          ],
          [
           "sub-003_ses-headNormal_002_0000",
           7.888020575046539
          ],
          [
           "sub-003_ses-headNormal_002_0000",
           null
          ],
          [
           "sub-003_ses-headNormal_002_0000",
           null
          ],
          [
           "sub-003_ses-headNormal_002_0000",
           null
          ],
          [
           "sub-003_ses-headNormal_002_0000",
           null
          ],
          [
           "sub-003_ses-headNormal_002_0000",
           null
          ],
          [
           "sub-cardiff04_172_0000",
           8.800000131130219
          ],
          [
           "sub-cardiff04_172_0000",
           10.400000154972076
          ],
          [
           "sub-cardiff04_172_0000",
           9.600000143051147
          ],
          [
           "sub-cardiff04_172_0000",
           5.600000083446503
          ],
          [
           "sub-cardiff04_172_0000",
           7.200000107288361
          ],
          [
           "sub-cardiff04_172_0000",
           9.600000143051147
          ],
          [
           "sub-cardiff04_172_0000",
           5.600000083446503
          ],
          [
           "sub-cardiff04_172_0000",
           1.600000023841858
          ],
          [
           "sub-cardiff04_172_0000",
           null
          ],
          [
           "sub-cardiff04_172_0000",
           null
          ],
          [
           "sub-barcelona02_063_0000",
           6.400000095367432
          ],
          [
           "sub-barcelona02_063_0000",
           11.200000166893004
          ],
          [
           "sub-barcelona02_063_0000",
           12.000000178813934
          ],
          [
           "sub-barcelona02_063_0000",
           6.400000095367432
          ],
          [
           "sub-barcelona02_063_0000",
           4.000000059604645
          ],
          [
           "sub-barcelona02_063_0000",
           6.400000095367432
          ],
          [
           "sub-barcelona02_063_0000",
           12.000000178813934
          ],
          [
           "sub-barcelona02_063_0000",
           15.20000022649765
          ],
          [
           "sub-barcelona02_063_0000",
           6.400000095367432
          ],
          [
           "sub-barcelona02_063_0000",
           null
          ],
          [
           "sub-cardiff02_182_0000",
           4.000000059604645
          ],
          [
           "sub-cardiff02_182_0000",
           8.800000131130219
          ],
          [
           "sub-cardiff02_182_0000",
           6.400000095367432
          ],
          [
           "sub-cardiff02_182_0000",
           2.400000035762787
          ],
          [
           "sub-cardiff02_182_0000",
           7.200000107288361
          ],
          [
           "sub-cardiff02_182_0000",
           8.00000011920929
          ],
          [
           "sub-cardiff02_182_0000",
           8.00000011920929
          ],
          [
           "sub-cardiff02_182_0000",
           11.200000166893004
          ],
          [
           "sub-cardiff02_182_0000",
           0.800000011920929
          ],
          [
           "sub-cardiff02_182_0000",
           null
          ],
          [
           "sub-cmrra02_140_0000",
           4.800000071525574
          ],
          [
           "sub-cmrra02_140_0000",
           11.200000166893004
          ],
          [
           "sub-cmrra02_140_0000",
           7.200000107288361
          ],
          [
           "sub-cmrra02_140_0000",
           7.200000107288361
          ],
          [
           "sub-cmrra02_140_0000",
           9.600000143051147
          ],
          [
           "sub-cmrra02_140_0000",
           7.200000107288361
          ],
          [
           "sub-cmrra02_140_0000",
           7.200000107288361
          ],
          [
           "sub-cmrra02_140_0000",
           8.800000131130219
          ],
          [
           "sub-cmrra02_140_0000",
           null
          ],
          [
           "sub-cmrra02_140_0000",
           null
          ],
          [
           "sub-balgrist02_084_0000",
           7.200000107288361
          ],
          [
           "sub-balgrist02_084_0000",
           10.400000154972076
          ],
          [
           "sub-balgrist02_084_0000",
           6.400000095367432
          ],
          [
           "sub-balgrist02_084_0000",
           5.600000083446503
          ],
          [
           "sub-balgrist02_084_0000",
           8.00000011920929
          ],
          [
           "sub-balgrist02_084_0000",
           13.600000202655792
          ],
          [
           "sub-balgrist02_084_0000",
           9.600000143051147
          ],
          [
           "sub-balgrist02_084_0000",
           7.200000107288361
          ],
          [
           "sub-balgrist02_084_0000",
           6.400000095367432
          ],
          [
           "sub-balgrist02_084_0000",
           4.800000071525574
          ],
          [
           "sub-barcelona06_214_0000",
           5.600000083446503
          ],
          [
           "sub-barcelona06_214_0000",
           10.400000154972076
          ],
          [
           "sub-barcelona06_214_0000",
           8.00000011920929
          ],
          [
           "sub-barcelona06_214_0000",
           8.00000011920929
          ],
          [
           "sub-barcelona06_214_0000",
           9.600000143051147
          ],
          [
           "sub-barcelona06_214_0000",
           9.600000143051147
          ],
          [
           "sub-barcelona06_214_0000",
           12.000000178813934
          ],
          [
           "sub-barcelona06_214_0000",
           null
          ],
          [
           "sub-barcelona06_214_0000",
           null
          ],
          [
           "sub-007_ses-headNormal_009_0000",
           6.6744789481163025
          ],
          [
           "sub-007_ses-headNormal_009_0000",
           11.52864545583725
          ],
          [
           "sub-007_ses-headNormal_009_0000",
           5.460937321186066
          ],
          [
           "sub-007_ses-headNormal_009_0000",
           null
          ],
          [
           "sub-007_ses-headNormal_009_0000",
           5.460937321186066
          ],
          [
           "sub-007_ses-headNormal_009_0000",
           9.101562201976776
          ],
          [
           "sub-007_ses-headNormal_009_0000",
           null
          ],
          [
           "sub-007_ses-headNormal_009_0000",
           null
          ],
          [
           "sub-007_ses-headNormal_009_0000",
           null
          ],
          [
           "sub-007_ses-headNormal_009_0000",
           null
          ],
          [
           "sub-amu01_064_0000",
           0.800000011920929
          ],
          [
           "sub-amu01_064_0000",
           8.800000131130219
          ],
          [
           "sub-amu01_064_0000",
           4.800000071525574
          ],
          [
           "sub-amu01_064_0000",
           5.600000083446503
          ],
          [
           "sub-amu01_064_0000",
           4.800000071525574
          ],
          [
           "sub-amu01_064_0000",
           8.800000131130219
          ],
          [
           "sub-amu01_064_0000",
           9.600000143051147
          ],
          [
           "sub-amu01_064_0000",
           12.800000190734863
          ],
          [
           "sub-amu01_064_0000",
           5.600000083446503
          ],
          [
           "sub-amu01_064_0000",
           null
          ],
          [
           "sub-balgrist03_066_0000",
           8.00000011920929
          ],
          [
           "sub-balgrist03_066_0000",
           14.40000021457672
          ],
          [
           "sub-balgrist03_066_0000",
           null
          ],
          [
           "sub-balgrist03_066_0000",
           0.800000011920929
          ],
          [
           "sub-balgrist03_066_0000",
           1.600000023841858
          ],
          [
           "sub-balgrist03_066_0000",
           6.400000095367432
          ],
          [
           "sub-balgrist03_066_0000",
           8.00000011920929
          ],
          [
           "sub-balgrist03_066_0000",
           14.40000021457672
          ],
          [
           "sub-balgrist03_066_0000",
           10.400000154972076
          ],
          [
           "sub-balgrist03_066_0000",
           null
          ],
          [
           "sub-barcelona03_074_0000",
           8.800000131130219
          ],
          [
           "sub-barcelona03_074_0000",
           11.200000166893004
          ],
          [
           "sub-barcelona03_074_0000",
           4.000000059604645
          ],
          [
           "sub-barcelona03_074_0000",
           5.600000083446503
          ],
          [
           "sub-barcelona03_074_0000",
           6.400000095367432
          ],
          [
           "sub-barcelona03_074_0000",
           9.600000143051147
          ],
          [
           "sub-barcelona03_074_0000",
           12.000000178813934
          ],
          [
           "sub-barcelona03_074_0000",
           11.200000166893004
          ],
          [
           "sub-barcelona03_074_0000",
           5.600000083446503
          ],
          [
           "sub-barcelona03_074_0000",
           null
          ],
          [
           "sub-011_ses-headUp_017_0000",
           7.281249761581421
          ],
          [
           "sub-011_ses-headUp_017_0000",
           6.6744789481163025
          ],
          [
           "sub-011_ses-headUp_017_0000",
           11.52864545583725
          ],
          [
           "sub-011_ses-headUp_017_0000",
           1.8203124403953552
          ],
          [
           "sub-011_ses-headUp_017_0000",
           3.6406248807907104
          ],
          [
           "sub-011_ses-headUp_017_0000",
           12.742187082767488
          ],
          [
           "sub-011_ses-headUp_017_0000",
           10.315103828907011
          ],
          [
           "sub-011_ses-headUp_017_0000",
           11.52864545583725
          ],
          [
           "sub-011_ses-headUp_017_0000",
           2.4270832538604736
          ],
          [
           "sub-011_ses-headUp_017_0000",
           null
          ],
          [
           "sub-011_ses-headNormal_016_0000",
           9.101562201976776
          ],
          [
           "sub-011_ses-headNormal_016_0000",
           15.16927033662796
          ],
          [
           "sub-011_ses-headNormal_016_0000",
           15.16927033662796
          ],
          [
           "sub-011_ses-headNormal_016_0000",
           9.101562201976776
          ],
          [
           "sub-011_ses-headNormal_016_0000",
           8.494791388511658
          ],
          [
           "sub-011_ses-headNormal_016_0000",
           8.494791388511658
          ],
          [
           "sub-011_ses-headNormal_016_0000",
           13.955728709697723
          ],
          [
           "sub-011_ses-headNormal_016_0000",
           12.742187082767488
          ],
          [
           "sub-011_ses-headNormal_016_0000",
           5.460937321186066
          ],
          [
           "sub-011_ses-headNormal_016_0000",
           null
          ],
          [
           "sub-barcelona01_212_0000",
           3.200000047683716
          ],
          [
           "sub-barcelona01_212_0000",
           10.400000154972076
          ],
          [
           "sub-barcelona01_212_0000",
           8.00000011920929
          ],
          [
           "sub-barcelona01_212_0000",
           8.00000011920929
          ],
          [
           "sub-barcelona01_212_0000",
           8.00000011920929
          ],
          [
           "sub-barcelona01_212_0000",
           9.600000143051147
          ],
          [
           "sub-barcelona01_212_0000",
           9.600000143051147
          ],
          [
           "sub-barcelona01_212_0000",
           12.800000190734863
          ],
          [
           "sub-barcelona01_212_0000",
           null
          ],
          [
           "sub-barcelona01_212_0000",
           null
          ],
          [
           "sub-003_ses-headUp_003_0000",
           4.854166507720947
          ],
          [
           "sub-003_ses-headUp_003_0000",
           13.955728709697723
          ],
          [
           "sub-003_ses-headUp_003_0000",
           8.494791388511658
          ],
          [
           "sub-003_ses-headUp_003_0000",
           6.6744789481163025
          ],
          [
           "sub-003_ses-headUp_003_0000",
           12.742187082767488
          ],
          [
           "sub-003_ses-headUp_003_0000",
           9.708333015441896
          ],
          [
           "sub-003_ses-headUp_003_0000",
           10.921874642372131
          ],
          [
           "sub-003_ses-headUp_003_0000",
           7.888020575046539
          ],
          [
           "sub-003_ses-headUp_003_0000",
           null
          ],
          [
           "sub-003_ses-headUp_003_0000",
           null
          ],
          [
           "sub-004_ses-headNormal_004_0000",
           6.067708134651184
          ],
          [
           "sub-004_ses-headNormal_004_0000",
           10.921874642372131
          ],
          [
           "sub-004_ses-headNormal_004_0000",
           8.494791388511658
          ],
          [
           "sub-004_ses-headNormal_004_0000",
           4.854166507720947
          ],
          [
           "sub-004_ses-headNormal_004_0000",
           null
          ],
          [
           "sub-004_ses-headNormal_004_0000",
           2.4270832538604736
          ],
          [
           "sub-004_ses-headNormal_004_0000",
           0.6067708134651184
          ],
          [
           "sub-004_ses-headNormal_004_0000",
           0.0
          ],
          [
           "sub-004_ses-headNormal_004_0000",
           null
          ],
          [
           "sub-004_ses-headNormal_004_0000",
           null
          ],
          [
           "sub-005_ses-headUp_007_0000",
           null
          ],
          [
           "sub-005_ses-headUp_007_0000",
           null
          ],
          [
           "sub-005_ses-headUp_007_0000",
           0.6067708134651184
          ],
          [
           "sub-005_ses-headUp_007_0000",
           10.921874642372131
          ],
          [
           "sub-005_ses-headUp_007_0000",
           10.315103828907011
          ],
          [
           "sub-005_ses-headUp_007_0000",
           10.921874642372131
          ],
          [
           "sub-005_ses-headUp_007_0000",
           7.281249761581421
          ],
          [
           "sub-005_ses-headUp_007_0000",
           null
          ],
          [
           "sub-005_ses-headUp_007_0000",
           null
          ],
          [
           "sub-005_ses-headUp_007_0000",
           null
          ],
          [
           "sub-balgrist06_222_0000",
           7.200000107288361
          ],
          [
           "sub-balgrist06_222_0000",
           8.00000011920929
          ],
          [
           "sub-balgrist06_222_0000",
           8.800000131130219
          ],
          [
           "sub-balgrist06_222_0000",
           8.00000011920929
          ],
          [
           "sub-balgrist06_222_0000",
           8.00000011920929
          ],
          [
           "sub-balgrist06_222_0000",
           7.200000107288361
          ],
          [
           "sub-balgrist06_222_0000",
           8.800000131130219
          ],
          [
           "sub-balgrist06_222_0000",
           8.00000011920929
          ],
          [
           "sub-balgrist06_222_0000",
           null
          ],
          [
           "sub-balgrist06_222_0000",
           null
          ]
         ],
         "hovertemplate": "which=manual<br>level=%{x}<br>z_scores=%{y}<br>sub_name=%{customdata[0]}<br>height=%{customdata[1]}<extra></extra>",
         "legendgroup": "manual",
         "marker": {
          "color": "#EF553B",
          "symbol": "circle"
         },
         "mode": "markers",
         "name": "manual",
         "orientation": "v",
         "showlegend": true,
         "x": [
          2,
          3,
          4,
          5,
          6,
          7,
          8,
          9,
          10,
          11,
          2,
          3,
          4,
          5,
          6,
          7,
          8,
          9,
          10,
          11,
          2,
          3,
          4,
          5,
          6,
          7,
          8,
          9,
          10,
          11,
          2,
          3,
          4,
          5,
          6,
          7,
          8,
          9,
          10,
          11,
          2,
          3,
          4,
          5,
          6,
          7,
          8,
          9,
          10,
          11,
          2,
          3,
          4,
          5,
          6,
          7,
          8,
          9,
          10,
          11,
          2,
          3,
          4,
          5,
          6,
          7,
          8,
          9,
          10,
          11,
          2,
          3,
          4,
          5,
          6,
          7,
          8,
          9,
          10,
          11,
          2,
          3,
          4,
          5,
          6,
          7,
          8,
          9,
          10,
          11,
          2,
          3,
          4,
          5,
          6,
          7,
          8,
          9,
          10,
          11,
          2,
          3,
          4,
          5,
          6,
          7,
          8,
          9,
          10,
          11,
          2,
          3,
          4,
          5,
          7,
          9,
          11,
          2,
          3,
          4,
          5,
          6,
          7,
          8,
          9,
          10,
          11,
          2,
          3,
          4,
          5,
          6,
          7,
          8,
          9,
          10,
          11,
          2,
          3,
          4,
          5,
          6,
          7,
          8,
          9,
          10,
          11,
          2,
          3,
          4,
          5,
          6,
          7,
          8,
          9,
          10,
          11,
          2,
          3,
          4,
          5,
          6,
          7,
          8,
          9,
          10,
          11,
          2,
          3,
          4,
          5,
          6,
          7,
          8,
          9,
          10,
          11,
          2,
          3,
          4,
          5,
          6,
          7,
          8,
          9,
          10,
          11,
          2,
          3,
          4,
          5,
          6,
          7,
          8,
          10,
          11,
          2,
          3,
          4,
          5,
          6,
          7,
          8,
          9,
          10,
          11,
          2,
          3,
          4,
          5,
          6,
          7,
          8,
          9,
          10,
          11,
          2,
          3,
          4,
          5,
          6,
          7,
          8,
          9,
          10,
          11,
          2,
          3,
          4,
          5,
          6,
          7,
          8,
          9,
          10,
          11,
          2,
          3,
          4,
          5,
          6,
          7,
          8,
          9,
          10,
          11,
          2,
          3,
          4,
          5,
          6,
          7,
          8,
          9,
          10,
          11,
          2,
          3,
          4,
          5,
          6,
          7,
          8,
          9,
          10,
          11,
          2,
          3,
          4,
          5,
          6,
          7,
          8,
          9,
          10,
          11,
          2,
          3,
          4,
          5,
          6,
          7,
          8,
          9,
          10,
          11,
          2,
          3,
          4,
          5,
          6,
          7,
          8,
          9,
          10,
          11,
          2,
          3,
          4,
          5,
          6,
          7,
          8,
          9,
          10,
          11
         ],
         "xaxis": "x",
         "y": [
          -3.636050466096219E-5,
          0.4201409709415239,
          0.08399910578457602,
          -0.1681072930831349,
          0.08399910578457602,
          0.16803457207381298,
          0.08399910578457602,
          -0.6723200908185568,
          -0.7563555571077938,
          null,
          -0.7327206022495623,
          1.612831736801517,
          -0.834701138730044,
          0.1851042260747731,
          0.2870847625552551,
          0.4910458355162182,
          -0.6307400657690806,
          null,
          null,
          null,
          0.08312368959429137,
          -0.3247984563276355,
          null,
          -0.22281791984715377,
          0.1851042260747731,
          -0.018856846886190336,
          -0.5287595292885989,
          -0.4267789928081172,
          null,
          null,
          -3.634046904449537E-5,
          0.8067041479290004,
          -3.634046904449537E-5,
          -3.634046904449537E-5,
          0.5377906517963185,
          0.13442040759729632,
          0.6722473998626596,
          -0.40340658466806695,
          null,
          null,
          -1.1406427481714891,
          0.5930263719966999,
          -0.9366816752105257,
          -0.5287595292885989,
          null,
          -0.5287595292885989,
          null,
          null,
          null,
          null,
          -0.3247984563276355,
          0.3890652990357362,
          -0.22281791984715377,
          -0.3247984563276355,
          0.2870847625552551,
          -0.018856846886190336,
          -0.4267789928081172,
          -0.6307400657690806,
          null,
          null,
          -0.5378633327344077,
          -0.1344930885353853,
          -0.8067768288670893,
          null,
          -1.075690324999771,
          -0.1344930885353853,
          -0.1344930885353853,
          0.13442040759729632,
          -0.2689498366017261,
          null,
          -0.2689498366017261,
          0.6722473998626596,
          0.13442040759729632,
          0.13442040759729632,
          0.13442040759729632,
          0.6722473998626596,
          -0.2689498366017261,
          0.4033339037299779,
          null,
          null,
          -0.6723200808007486,
          0.2688771556636371,
          -0.40340658466806695,
          -0.9412335769334301,
          -3.634046904449537E-5,
          -3.634046904449537E-5,
          -0.2689498366017261,
          1.2100743921280228,
          null,
          null,
          -0.834701138730044,
          0.1851042260747731,
          -0.018856846886190336,
          -0.9366816752105257,
          -0.7327206022495623,
          -0.834701138730044,
          null,
          null,
          null,
          null,
          -0.3247984563276355,
          null,
          -1.1406427481714891,
          0.2870847625552551,
          0.1851042260747731,
          -1.242623284651971,
          null,
          0.4910458355162182,
          0.3890652990357362,
          0.6950069084771816,
          0.13442040759729632,
          -0.2689498366017261,
          -0.6723200808007486,
          -0.2689498366017261,
          -0.1344930885353853,
          null,
          null,
          -0.5378633327344077,
          0.4033339037299779,
          -3.634046904449537E-5,
          -0.5378633327344077,
          -0.40340658466806695,
          0.13442040759729632,
          0.2688771556636371,
          0.5377906517963185,
          -1.2101470730661117,
          null,
          -0.4267789928081172,
          0.6950069084771816,
          -0.5287595292885989,
          -0.018856846886190336,
          -0.018856846886190336,
          null,
          null,
          null,
          null,
          null,
          0.13442040759729632,
          0.4033339037299779,
          0.2688771556636371,
          -0.40340658466806695,
          -0.1344930885353853,
          0.2688771556636371,
          -0.40340658466806695,
          -1.075690324999771,
          null,
          null,
          -0.2689498366017261,
          0.5377906517963185,
          0.6722473998626596,
          -0.2689498366017261,
          -0.6723200808007486,
          -0.2689498366017261,
          0.6722473998626596,
          1.2100743921280228,
          -0.2689498366017261,
          null,
          -0.6723200808007486,
          0.13442040759729632,
          -0.2689498366017261,
          -0.9412335769334301,
          -0.1344930885353853,
          -3.634046904449537E-5,
          -3.634046904449537E-5,
          0.5377906517963185,
          -1.2101470730661117,
          null,
          -0.5378633327344077,
          0.5377906517963185,
          -0.1344930885353853,
          -0.1344930885353853,
          0.2688771556636371,
          -0.1344930885353853,
          -0.1344930885353853,
          0.13442040759729632,
          null,
          null,
          -0.1344930885353853,
          0.4033339037299779,
          -0.2689498366017261,
          -0.40340658466806695,
          -3.634046904449537E-5,
          0.9411608959953411,
          0.2688771556636371,
          -0.1344930885353853,
          -0.2689498366017261,
          -0.5378633327344077,
          -0.40340658466806695,
          0.4033339037299779,
          -3.634046904449537E-5,
          -3.634046904449537E-5,
          0.2688771556636371,
          0.2688771556636371,
          0.6722473998626596,
          null,
          null,
          -0.22281791984715377,
          0.5930263719966999,
          -0.4267789928081172,
          null,
          -0.4267789928081172,
          0.1851042260747731,
          null,
          null,
          null,
          null,
          -1.2101470730661117,
          0.13442040759729632,
          -0.5378633327344077,
          -0.40340658466806695,
          -0.5378633327344077,
          0.13442040759729632,
          0.2688771556636371,
          0.8067041479290004,
          -0.40340658466806695,
          null,
          -3.634046904449537E-5,
          1.0756176440616816,
          null,
          -1.2101470730661117,
          -1.075690324999771,
          -0.2689498366017261,
          -3.634046904449537E-5,
          1.0756176440616816,
          0.4033339037299779,
          null,
          0.13442040759729632,
          0.5377906517963185,
          -0.6723200808007486,
          -0.40340658466806695,
          -0.2689498366017261,
          0.2688771556636371,
          0.6722473998626596,
          0.5377906517963185,
          -0.40340658466806695,
          null,
          -0.12083738336667205,
          -0.22281791984715377,
          0.5930263719966999,
          -1.0386622116910074,
          -0.7327206022495623,
          0.7969874449576636,
          0.3890652990357362,
          0.5930263719966999,
          -0.9366816752105257,
          null,
          0.1851042260747731,
          1.2049095908795902,
          1.2049095908795902,
          0.1851042260747731,
          0.08312368959429137,
          0.08312368959429137,
          1.0009485179186268,
          0.7969874449576636,
          -0.4267789928081172,
          null,
          -0.8067768288670893,
          0.4033339037299779,
          -3.634046904449537E-5,
          -3.634046904449537E-5,
          -3.634046904449537E-5,
          0.2688771556636371,
          0.2688771556636371,
          0.8067041479290004,
          null,
          null,
          -0.5287595292885989,
          1.0009485179186268,
          0.08312368959429137,
          -0.22281791984715377,
          0.7969874449576636,
          0.2870847625552551,
          0.4910458355162182,
          -0.018856846886190336,
          null,
          null,
          -0.3247984563276355,
          0.4910458355162182,
          0.08312368959429137,
          -0.5287595292885989,
          null,
          -0.9366816752105257,
          -1.242623284651971,
          -1.3446038211324525,
          null,
          null,
          null,
          null,
          -1.242623284651971,
          0.4910458355162182,
          0.3890652990357362,
          0.4910458355162182,
          -0.12083738336667205,
          null,
          null,
          null,
          -0.1344930885353853,
          -3.634046904449537E-5,
          0.13442040759729632,
          -3.634046904449537E-5,
          -3.634046904449537E-5,
          -0.1344930885353853,
          0.13442040759729632,
          -3.634046904449537E-5,
          null,
          null
         ],
         "yaxis": "y",
         "type": "scatter"
        }
       ],
       "layout": {
        "template": {
         "data": {
          "histogram2dcontour": [
           {
            "type": "histogram2dcontour",
            "colorbar": {
             "outlinewidth": 0,
             "ticks": ""
            },
            "colorscale": [
             [
              0.0,
              "#0d0887"
             ],
             [
              0.1111111111111111,
              "#46039f"
             ],
             [
              0.2222222222222222,
              "#7201a8"
             ],
             [
              0.3333333333333333,
              "#9c179e"
             ],
             [
              0.4444444444444444,
              "#bd3786"
             ],
             [
              0.5555555555555556,
              "#d8576b"
             ],
             [
              0.6666666666666666,
              "#ed7953"
             ],
             [
              0.7777777777777778,
              "#fb9f3a"
             ],
             [
              0.8888888888888888,
              "#fdca26"
             ],
             [
              1.0,
              "#f0f921"
             ]
            ]
           }
          ],
          "choropleth": [
           {
            "type": "choropleth",
            "colorbar": {
             "outlinewidth": 0,
             "ticks": ""
            }
           }
          ],
          "histogram2d": [
           {
            "type": "histogram2d",
            "colorbar": {
             "outlinewidth": 0,
             "ticks": ""
            },
            "colorscale": [
             [
              0.0,
              "#0d0887"
             ],
             [
              0.1111111111111111,
              "#46039f"
             ],
             [
              0.2222222222222222,
              "#7201a8"
             ],
             [
              0.3333333333333333,
              "#9c179e"
             ],
             [
              0.4444444444444444,
              "#bd3786"
             ],
             [
              0.5555555555555556,
              "#d8576b"
             ],
             [
              0.6666666666666666,
              "#ed7953"
             ],
             [
              0.7777777777777778,
              "#fb9f3a"
             ],
             [
              0.8888888888888888,
              "#fdca26"
             ],
             [
              1.0,
              "#f0f921"
             ]
            ]
           }
          ],
          "heatmap": [
           {
            "type": "heatmap",
            "colorbar": {
             "outlinewidth": 0,
             "ticks": ""
            },
            "colorscale": [
             [
              0.0,
              "#0d0887"
             ],
             [
              0.1111111111111111,
              "#46039f"
             ],
             [
              0.2222222222222222,
              "#7201a8"
             ],
             [
              0.3333333333333333,
              "#9c179e"
             ],
             [
              0.4444444444444444,
              "#bd3786"
             ],
             [
              0.5555555555555556,
              "#d8576b"
             ],
             [
              0.6666666666666666,
              "#ed7953"
             ],
             [
              0.7777777777777778,
              "#fb9f3a"
             ],
             [
              0.8888888888888888,
              "#fdca26"
             ],
             [
              1.0,
              "#f0f921"
             ]
            ]
           }
          ],
          "heatmapgl": [
           {
            "type": "heatmapgl",
            "colorbar": {
             "outlinewidth": 0,
             "ticks": ""
            },
            "colorscale": [
             [
              0.0,
              "#0d0887"
             ],
             [
              0.1111111111111111,
              "#46039f"
             ],
             [
              0.2222222222222222,
              "#7201a8"
             ],
             [
              0.3333333333333333,
              "#9c179e"
             ],
             [
              0.4444444444444444,
              "#bd3786"
             ],
             [
              0.5555555555555556,
              "#d8576b"
             ],
             [
              0.6666666666666666,
              "#ed7953"
             ],
             [
              0.7777777777777778,
              "#fb9f3a"
             ],
             [
              0.8888888888888888,
              "#fdca26"
             ],
             [
              1.0,
              "#f0f921"
             ]
            ]
           }
          ],
          "contourcarpet": [
           {
            "type": "contourcarpet",
            "colorbar": {
             "outlinewidth": 0,
             "ticks": ""
            }
           }
          ],
          "contour": [
           {
            "type": "contour",
            "colorbar": {
             "outlinewidth": 0,
             "ticks": ""
            },
            "colorscale": [
             [
              0.0,
              "#0d0887"
             ],
             [
              0.1111111111111111,
              "#46039f"
             ],
             [
              0.2222222222222222,
              "#7201a8"
             ],
             [
              0.3333333333333333,
              "#9c179e"
             ],
             [
              0.4444444444444444,
              "#bd3786"
             ],
             [
              0.5555555555555556,
              "#d8576b"
             ],
             [
              0.6666666666666666,
              "#ed7953"
             ],
             [
              0.7777777777777778,
              "#fb9f3a"
             ],
             [
              0.8888888888888888,
              "#fdca26"
             ],
             [
              1.0,
              "#f0f921"
             ]
            ]
           }
          ],
          "surface": [
           {
            "type": "surface",
            "colorbar": {
             "outlinewidth": 0,
             "ticks": ""
            },
            "colorscale": [
             [
              0.0,
              "#0d0887"
             ],
             [
              0.1111111111111111,
              "#46039f"
             ],
             [
              0.2222222222222222,
              "#7201a8"
             ],
             [
              0.3333333333333333,
              "#9c179e"
             ],
             [
              0.4444444444444444,
              "#bd3786"
             ],
             [
              0.5555555555555556,
              "#d8576b"
             ],
             [
              0.6666666666666666,
              "#ed7953"
             ],
             [
              0.7777777777777778,
              "#fb9f3a"
             ],
             [
              0.8888888888888888,
              "#fdca26"
             ],
             [
              1.0,
              "#f0f921"
             ]
            ]
           }
          ],
          "mesh3d": [
           {
            "type": "mesh3d",
            "colorbar": {
             "outlinewidth": 0,
             "ticks": ""
            }
           }
          ],
          "scatter": [
           {
            "fillpattern": {
             "fillmode": "overlay",
             "size": 10,
             "solidity": 0.2
            },
            "type": "scatter"
           }
          ],
          "parcoords": [
           {
            "type": "parcoords",
            "line": {
             "colorbar": {
              "outlinewidth": 0,
              "ticks": ""
             }
            }
           }
          ],
          "scatterpolargl": [
           {
            "type": "scatterpolargl",
            "marker": {
             "colorbar": {
              "outlinewidth": 0,
              "ticks": ""
             }
            }
           }
          ],
          "bar": [
           {
            "error_x": {
             "color": "#2a3f5f"
            },
            "error_y": {
             "color": "#2a3f5f"
            },
            "marker": {
             "line": {
              "color": "#E5ECF6",
              "width": 0.5
             },
             "pattern": {
              "fillmode": "overlay",
              "size": 10,
              "solidity": 0.2
             }
            },
            "type": "bar"
           }
          ],
          "scattergeo": [
           {
            "type": "scattergeo",
            "marker": {
             "colorbar": {
              "outlinewidth": 0,
              "ticks": ""
             }
            }
           }
          ],
          "scatterpolar": [
           {
            "type": "scatterpolar",
            "marker": {
             "colorbar": {
              "outlinewidth": 0,
              "ticks": ""
             }
            }
           }
          ],
          "histogram": [
           {
            "marker": {
             "pattern": {
              "fillmode": "overlay",
              "size": 10,
              "solidity": 0.2
             }
            },
            "type": "histogram"
           }
          ],
          "scattergl": [
           {
            "type": "scattergl",
            "marker": {
             "colorbar": {
              "outlinewidth": 0,
              "ticks": ""
             }
            }
           }
          ],
          "scatter3d": [
           {
            "type": "scatter3d",
            "line": {
             "colorbar": {
              "outlinewidth": 0,
              "ticks": ""
             }
            },
            "marker": {
             "colorbar": {
              "outlinewidth": 0,
              "ticks": ""
             }
            }
           }
          ],
          "scattermapbox": [
           {
            "type": "scattermapbox",
            "marker": {
             "colorbar": {
              "outlinewidth": 0,
              "ticks": ""
             }
            }
           }
          ],
          "scatterternary": [
           {
            "type": "scatterternary",
            "marker": {
             "colorbar": {
              "outlinewidth": 0,
              "ticks": ""
             }
            }
           }
          ],
          "scattercarpet": [
           {
            "type": "scattercarpet",
            "marker": {
             "colorbar": {
              "outlinewidth": 0,
              "ticks": ""
             }
            }
           }
          ],
          "carpet": [
           {
            "aaxis": {
             "endlinecolor": "#2a3f5f",
             "gridcolor": "white",
             "linecolor": "white",
             "minorgridcolor": "white",
             "startlinecolor": "#2a3f5f"
            },
            "baxis": {
             "endlinecolor": "#2a3f5f",
             "gridcolor": "white",
             "linecolor": "white",
             "minorgridcolor": "white",
             "startlinecolor": "#2a3f5f"
            },
            "type": "carpet"
           }
          ],
          "table": [
           {
            "cells": {
             "fill": {
              "color": "#EBF0F8"
             },
             "line": {
              "color": "white"
             }
            },
            "header": {
             "fill": {
              "color": "#C8D4E3"
             },
             "line": {
              "color": "white"
             }
            },
            "type": "table"
           }
          ],
          "barpolar": [
           {
            "marker": {
             "line": {
              "color": "#E5ECF6",
              "width": 0.5
             },
             "pattern": {
              "fillmode": "overlay",
              "size": 10,
              "solidity": 0.2
             }
            },
            "type": "barpolar"
           }
          ],
          "pie": [
           {
            "automargin": true,
            "type": "pie"
           }
          ]
         },
         "layout": {
          "autotypenumbers": "strict",
          "colorway": [
           "#636efa",
           "#EF553B",
           "#00cc96",
           "#ab63fa",
           "#FFA15A",
           "#19d3f3",
           "#FF6692",
           "#B6E880",
           "#FF97FF",
           "#FECB52"
          ],
          "font": {
           "color": "#2a3f5f"
          },
          "hovermode": "closest",
          "hoverlabel": {
           "align": "left"
          },
          "paper_bgcolor": "white",
          "plot_bgcolor": "#E5ECF6",
          "polar": {
           "bgcolor": "#E5ECF6",
           "angularaxis": {
            "gridcolor": "white",
            "linecolor": "white",
            "ticks": ""
           },
           "radialaxis": {
            "gridcolor": "white",
            "linecolor": "white",
            "ticks": ""
           }
          },
          "ternary": {
           "bgcolor": "#E5ECF6",
           "aaxis": {
            "gridcolor": "white",
            "linecolor": "white",
            "ticks": ""
           },
           "baxis": {
            "gridcolor": "white",
            "linecolor": "white",
            "ticks": ""
           },
           "caxis": {
            "gridcolor": "white",
            "linecolor": "white",
            "ticks": ""
           }
          },
          "coloraxis": {
           "colorbar": {
            "outlinewidth": 0,
            "ticks": ""
           }
          },
          "colorscale": {
           "sequential": [
            [
             0.0,
             "#0d0887"
            ],
            [
             0.1111111111111111,
             "#46039f"
            ],
            [
             0.2222222222222222,
             "#7201a8"
            ],
            [
             0.3333333333333333,
             "#9c179e"
            ],
            [
             0.4444444444444444,
             "#bd3786"
            ],
            [
             0.5555555555555556,
             "#d8576b"
            ],
            [
             0.6666666666666666,
             "#ed7953"
            ],
            [
             0.7777777777777778,
             "#fb9f3a"
            ],
            [
             0.8888888888888888,
             "#fdca26"
            ],
            [
             1.0,
             "#f0f921"
            ]
           ],
           "sequentialminus": [
            [
             0.0,
             "#0d0887"
            ],
            [
             0.1111111111111111,
             "#46039f"
            ],
            [
             0.2222222222222222,
             "#7201a8"
            ],
            [
             0.3333333333333333,
             "#9c179e"
            ],
            [
             0.4444444444444444,
             "#bd3786"
            ],
            [
             0.5555555555555556,
             "#d8576b"
            ],
            [
             0.6666666666666666,
             "#ed7953"
            ],
            [
             0.7777777777777778,
             "#fb9f3a"
            ],
            [
             0.8888888888888888,
             "#fdca26"
            ],
            [
             1.0,
             "#f0f921"
            ]
           ],
           "diverging": [
            [
             0,
             "#8e0152"
            ],
            [
             0.1,
             "#c51b7d"
            ],
            [
             0.2,
             "#de77ae"
            ],
            [
             0.3,
             "#f1b6da"
            ],
            [
             0.4,
             "#fde0ef"
            ],
            [
             0.5,
             "#f7f7f7"
            ],
            [
             0.6,
             "#e6f5d0"
            ],
            [
             0.7,
             "#b8e186"
            ],
            [
             0.8,
             "#7fbc41"
            ],
            [
             0.9,
             "#4d9221"
            ],
            [
             1,
             "#276419"
            ]
           ]
          },
          "xaxis": {
           "gridcolor": "white",
           "linecolor": "white",
           "ticks": "",
           "title": {
            "standoff": 15
           },
           "zerolinecolor": "white",
           "automargin": true,
           "zerolinewidth": 2
          },
          "yaxis": {
           "gridcolor": "white",
           "linecolor": "white",
           "ticks": "",
           "title": {
            "standoff": 15
           },
           "zerolinecolor": "white",
           "automargin": true,
           "zerolinewidth": 2
          },
          "scene": {
           "xaxis": {
            "backgroundcolor": "#E5ECF6",
            "gridcolor": "white",
            "linecolor": "white",
            "showbackground": true,
            "ticks": "",
            "zerolinecolor": "white",
            "gridwidth": 2
           },
           "yaxis": {
            "backgroundcolor": "#E5ECF6",
            "gridcolor": "white",
            "linecolor": "white",
            "showbackground": true,
            "ticks": "",
            "zerolinecolor": "white",
            "gridwidth": 2
           },
           "zaxis": {
            "backgroundcolor": "#E5ECF6",
            "gridcolor": "white",
            "linecolor": "white",
            "showbackground": true,
            "ticks": "",
            "zerolinecolor": "white",
            "gridwidth": 2
           }
          },
          "shapedefaults": {
           "line": {
            "color": "#2a3f5f"
           }
          },
          "annotationdefaults": {
           "arrowcolor": "#2a3f5f",
           "arrowhead": 0,
           "arrowwidth": 1
          },
          "geo": {
           "bgcolor": "white",
           "landcolor": "#E5ECF6",
           "subunitcolor": "white",
           "showland": true,
           "showlakes": true,
           "lakecolor": "white"
          },
          "title": {
           "x": 0.05
          },
          "mapbox": {
           "style": "light"
          }
         }
        },
        "xaxis": {
         "anchor": "y",
         "domain": [
          0.0,
          1.0
         ],
         "title": {
          "text": "level"
         }
        },
        "yaxis": {
         "anchor": "x",
         "domain": [
          0.0,
          1.0
         ],
         "title": {
          "text": "z_scores"
         }
        },
        "legend": {
         "title": {
          "text": "which"
         },
         "tracegroupgap": 0
        },
        "margin": {
         "t": 60
        }
       },
       "config": {
        "plotlyServerURL": "https://plot.ly"
       }
      },
      "text/html": "<div>                            <div id=\"eb0f7f2a-e8db-433f-a329-ae2b5f3b79e5\" class=\"plotly-graph-div\" style=\"height:525px; width:100%;\"></div>            <script type=\"text/javascript\">                require([\"plotly\"], function(Plotly) {                    window.PLOTLYENV=window.PLOTLYENV || {};                                    if (document.getElementById(\"eb0f7f2a-e8db-433f-a329-ae2b5f3b79e5\")) {                    Plotly.newPlot(                        \"eb0f7f2a-e8db-433f-a329-ae2b5f3b79e5\",                        [{\"customdata\":[[\"sub-brnoUhb03_209_0000\",8.0],[\"sub-brnoUhb03_209_0000\",9.5],[\"sub-brnoUhb03_209_0000\",8.0],[\"sub-brnoUhb03_209_0000\",6.5],[\"sub-brnoUhb03_209_0000\",8.0],[\"sub-brnoUhb03_209_0000\",7.5],[\"sub-brnoUhb03_209_0000\",7.5],[\"sub-brnoUhb03_209_0000\",2.5],[\"sub-brnoUhb03_209_0000\",null],[\"sub-brnoUhb03_209_0000\",null],[\"sub-007_ses-headUp_010_0000\",1.8203124403953552],[\"sub-007_ses-headUp_010_0000\",15.77604115009308],[\"sub-007_ses-headUp_010_0000\",null],[\"sub-007_ses-headUp_010_0000\",0.0],[\"sub-007_ses-headUp_010_0000\",9.708333015441896],[\"sub-007_ses-headUp_010_0000\",10.315103828907011],[\"sub-007_ses-headUp_010_0000\",3.6406248807907104],[\"sub-007_ses-headUp_010_0000\",null],[\"sub-007_ses-headUp_010_0000\",null],[\"sub-007_ses-headUp_010_0000\",null],[\"sub-010_ses-headNormal_014_0000\",7.281249761581421],[\"sub-010_ses-headNormal_014_0000\",5.460937321186066],[\"sub-010_ses-headNormal_014_0000\",null],[\"sub-010_ses-headNormal_014_0000\",2.4270832538604736],[\"sub-010_ses-headNormal_014_0000\",7.888020575046539],[\"sub-010_ses-headNormal_014_0000\",6.067708134651184],[\"sub-010_ses-headNormal_014_0000\",4.247395694255829],[\"sub-010_ses-headNormal_014_0000\",4.854166507720947],[\"sub-010_ses-headNormal_014_0000\",null],[\"sub-010_ses-headNormal_014_0000\",null],[\"sub-geneva01_253_0000\",8.00000011920929],[\"sub-geneva01_253_0000\",12.000000178813934],[\"sub-geneva01_253_0000\",7.200000107288361],[\"sub-geneva01_253_0000\",8.00000011920929],[\"sub-geneva01_253_0000\",10.400000154972076],[\"sub-geneva01_253_0000\",8.800000131130219],[\"sub-geneva01_253_0000\",11.200000166893004],[\"sub-geneva01_253_0000\",6.400000095367432],[\"sub-geneva01_253_0000\",null],[\"sub-geneva01_253_0000\",null],[\"sub-005_ses-headNormal_006_0000\",0.0],[\"sub-005_ses-headNormal_006_0000\",10.921874642372131],[\"sub-005_ses-headNormal_006_0000\",null],[\"sub-005_ses-headNormal_006_0000\",null],[\"sub-005_ses-headNormal_006_0000\",null],[\"sub-005_ses-headNormal_006_0000\",null],[\"sub-005_ses-headNormal_006_0000\",null],[\"sub-005_ses-headNormal_006_0000\",null],[\"sub-005_ses-headNormal_006_0000\",null],[\"sub-005_ses-headNormal_006_0000\",null],[\"sub-010_ses-headUp_015_0000\",5.460937321186066],[\"sub-010_ses-headUp_015_0000\",6.067708134651184],[\"sub-010_ses-headUp_015_0000\",4.854166507720947],[\"sub-010_ses-headUp_015_0000\",6.067708134651184],[\"sub-010_ses-headUp_015_0000\",6.067708134651184],[\"sub-010_ses-headUp_015_0000\",3.6406248807907104],[\"sub-010_ses-headUp_015_0000\",3.6406248807907104],[\"sub-010_ses-headUp_015_0000\",3.033854067325592],[\"sub-010_ses-headUp_015_0000\",null],[\"sub-010_ses-headUp_015_0000\",null],[\"sub-cmrra04_158_0000\",4.800000071525574],[\"sub-cmrra04_158_0000\",7.200000107288361],[\"sub-cmrra04_158_0000\",3.200000047683716],[\"sub-cmrra04_158_0000\",null],[\"sub-cmrra04_158_0000\",0.800000011920929],[\"sub-cmrra04_158_0000\",6.400000095367432],[\"sub-cmrra04_158_0000\",6.400000095367432],[\"sub-cmrra04_158_0000\",8.00000011920929],[\"sub-cmrra04_158_0000\",null],[\"sub-cmrra04_158_0000\",null],[\"sub-balgrist04_071_0000\",6.400000095367432],[\"sub-balgrist04_071_0000\",12.000000178813934],[\"sub-balgrist04_071_0000\",8.800000131130219],[\"sub-balgrist04_071_0000\",8.800000131130219],[\"sub-balgrist04_071_0000\",8.800000131130219],[\"sub-balgrist04_071_0000\",12.000000178813934],[\"sub-balgrist04_071_0000\",6.400000095367432],[\"sub-balgrist04_071_0000\",10.400000154972076],[\"sub-balgrist04_071_0000\",null],[\"sub-balgrist04_071_0000\",null],[\"sub-amu05_216_0000\",4.000000059604645],[\"sub-amu05_216_0000\",8.800000131130219],[\"sub-amu05_216_0000\",5.600000083446503],[\"sub-amu05_216_0000\",2.400000035762787],[\"sub-amu05_216_0000\",8.00000011920929],[\"sub-amu05_216_0000\",8.00000011920929],[\"sub-amu05_216_0000\",6.400000095367432],[\"sub-amu05_216_0000\",15.20000022649765],[\"sub-amu05_216_0000\",null],[\"sub-amu05_216_0000\",null],[\"sub-004_ses-headUp_005_0000\",null],[\"sub-004_ses-headUp_005_0000\",9.101562201976776],[\"sub-004_ses-headUp_005_0000\",7.281249761581421],[\"sub-004_ses-headUp_005_0000\",0.6067708134651184],[\"sub-004_ses-headUp_005_0000\",null],[\"sub-004_ses-headUp_005_0000\",null],[\"sub-004_ses-headUp_005_0000\",null],[\"sub-004_ses-headUp_005_0000\",null],[\"sub-004_ses-headUp_005_0000\",null],[\"sub-004_ses-headUp_005_0000\",null],[\"sub-002_ses-headNormal_000_0000\",6.067708134651184],[\"sub-002_ses-headNormal_000_0000\",null],[\"sub-002_ses-headNormal_000_0000\",1.2135416269302368],[\"sub-002_ses-headNormal_000_0000\",9.101562201976776],[\"sub-002_ses-headNormal_000_0000\",9.708333015441896],[\"sub-002_ses-headNormal_000_0000\",null],[\"sub-002_ses-headNormal_000_0000\",null],[\"sub-002_ses-headNormal_000_0000\",8.494791388511658],[\"sub-002_ses-headNormal_000_0000\",null],[\"sub-002_ses-headNormal_000_0000\",null],[\"sub-amu02_215_0000\",8.800000131130219],[\"sub-amu02_215_0000\",6.400000095367432],[\"sub-amu02_215_0000\",4.000000059604645],[\"sub-amu02_215_0000\",6.400000095367432],[\"sub-amu02_215_0000\",6.400000095367432],[\"sub-amu02_215_0000\",7.200000107288361],[\"sub-amu02_215_0000\",8.800000131130219],[\"sub-amu02_215_0000\",null],[\"sub-amu02_215_0000\",null],[\"sub-amu02_215_0000\",null],[\"sub-balgrist01_218_0000\",4.800000071525574],[\"sub-balgrist01_218_0000\",10.400000154972076],[\"sub-balgrist01_218_0000\",8.00000011920929],[\"sub-balgrist01_218_0000\",4.800000071525574],[\"sub-balgrist01_218_0000\",5.600000083446503],[\"sub-balgrist01_218_0000\",8.800000131130219],[\"sub-balgrist01_218_0000\",9.600000143051147],[\"sub-balgrist01_218_0000\",11.200000166893004],[\"sub-balgrist01_218_0000\",null],[\"sub-balgrist01_218_0000\",null],[\"sub-003_ses-headNormal_002_0000\",5.460937321186066],[\"sub-003_ses-headNormal_002_0000\",11.52864545583725],[\"sub-003_ses-headNormal_002_0000\",3.6406248807907104],[\"sub-003_ses-headNormal_002_0000\",7.281249761581421],[\"sub-003_ses-headNormal_002_0000\",7.281249761581421],[\"sub-003_ses-headNormal_002_0000\",null],[\"sub-003_ses-headNormal_002_0000\",null],[\"sub-003_ses-headNormal_002_0000\",null],[\"sub-003_ses-headNormal_002_0000\",null],[\"sub-003_ses-headNormal_002_0000\",null],[\"sub-cardiff04_172_0000\",8.800000131130219],[\"sub-cardiff04_172_0000\",10.400000154972076],[\"sub-cardiff04_172_0000\",9.600000143051147],[\"sub-cardiff04_172_0000\",5.600000083446503],[\"sub-cardiff04_172_0000\",7.200000107288361],[\"sub-cardiff04_172_0000\",9.600000143051147],[\"sub-cardiff04_172_0000\",5.600000083446503],[\"sub-cardiff04_172_0000\",1.600000023841858],[\"sub-cardiff04_172_0000\",null],[\"sub-cardiff04_172_0000\",null],[\"sub-barcelona02_063_0000\",6.400000095367432],[\"sub-barcelona02_063_0000\",11.200000166893004],[\"sub-barcelona02_063_0000\",12.000000178813934],[\"sub-barcelona02_063_0000\",6.400000095367432],[\"sub-barcelona02_063_0000\",4.000000059604645],[\"sub-barcelona02_063_0000\",6.400000095367432],[\"sub-barcelona02_063_0000\",12.000000178813934],[\"sub-barcelona02_063_0000\",14.40000021457672],[\"sub-barcelona02_063_0000\",null],[\"sub-barcelona02_063_0000\",null],[\"sub-cardiff02_182_0000\",4.000000059604645],[\"sub-cardiff02_182_0000\",8.800000131130219],[\"sub-cardiff02_182_0000\",6.400000095367432],[\"sub-cardiff02_182_0000\",2.400000035762787],[\"sub-cardiff02_182_0000\",6.400000095367432],[\"sub-cardiff02_182_0000\",7.200000107288361],[\"sub-cardiff02_182_0000\",8.00000011920929],[\"sub-cardiff02_182_0000\",11.200000166893004],[\"sub-cardiff02_182_0000\",null],[\"sub-cardiff02_182_0000\",null],[\"sub-cmrra02_140_0000\",4.800000071525574],[\"sub-cmrra02_140_0000\",11.200000166893004],[\"sub-cmrra02_140_0000\",8.00000011920929],[\"sub-cmrra02_140_0000\",7.200000107288361],[\"sub-cmrra02_140_0000\",9.600000143051147],[\"sub-cmrra02_140_0000\",7.200000107288361],[\"sub-cmrra02_140_0000\",7.200000107288361],[\"sub-cmrra02_140_0000\",9.600000143051147],[\"sub-cmrra02_140_0000\",null],[\"sub-cmrra02_140_0000\",null],[\"sub-balgrist02_084_0000\",7.200000107288361],[\"sub-balgrist02_084_0000\",10.400000154972076],[\"sub-balgrist02_084_0000\",6.400000095367432],[\"sub-balgrist02_084_0000\",5.600000083446503],[\"sub-balgrist02_084_0000\",8.00000011920929],[\"sub-balgrist02_084_0000\",12.800000190734863],[\"sub-balgrist02_084_0000\",9.600000143051147],[\"sub-balgrist02_084_0000\",7.200000107288361],[\"sub-balgrist02_084_0000\",null],[\"sub-balgrist02_084_0000\",null],[\"sub-barcelona06_214_0000\",4.800000071525574],[\"sub-barcelona06_214_0000\",10.400000154972076],[\"sub-barcelona06_214_0000\",8.00000011920929],[\"sub-barcelona06_214_0000\",8.00000011920929],[\"sub-barcelona06_214_0000\",9.600000143051147],[\"sub-barcelona06_214_0000\",9.600000143051147],[\"sub-barcelona06_214_0000\",12.000000178813934],[\"sub-barcelona06_214_0000\",null],[\"sub-barcelona06_214_0000\",null],[\"sub-007_ses-headNormal_009_0000\",3.033854067325592],[\"sub-007_ses-headNormal_009_0000\",10.921874642372131],[\"sub-007_ses-headNormal_009_0000\",4.854166507720947],[\"sub-007_ses-headNormal_009_0000\",null],[\"sub-007_ses-headNormal_009_0000\",5.460937321186066],[\"sub-007_ses-headNormal_009_0000\",8.494791388511658],[\"sub-007_ses-headNormal_009_0000\",null],[\"sub-007_ses-headNormal_009_0000\",null],[\"sub-007_ses-headNormal_009_0000\",null],[\"sub-007_ses-headNormal_009_0000\",null],[\"sub-amu01_064_0000\",1.600000023841858],[\"sub-amu01_064_0000\",8.800000131130219],[\"sub-amu01_064_0000\",3.200000047683716],[\"sub-amu01_064_0000\",5.600000083446503],[\"sub-amu01_064_0000\",4.800000071525574],[\"sub-amu01_064_0000\",8.800000131130219],[\"sub-amu01_064_0000\",8.00000011920929],[\"sub-amu01_064_0000\",12.800000190734863],[\"sub-amu01_064_0000\",null],[\"sub-amu01_064_0000\",null],[\"sub-balgrist03_066_0000\",8.00000011920929],[\"sub-balgrist03_066_0000\",14.40000021457672],[\"sub-balgrist03_066_0000\",null],[\"sub-balgrist03_066_0000\",0.800000011920929],[\"sub-balgrist03_066_0000\",1.600000023841858],[\"sub-balgrist03_066_0000\",4.800000071525574],[\"sub-balgrist03_066_0000\",8.00000011920929],[\"sub-balgrist03_066_0000\",14.40000021457672],[\"sub-balgrist03_066_0000\",null],[\"sub-balgrist03_066_0000\",null],[\"sub-barcelona03_074_0000\",8.00000011920929],[\"sub-barcelona03_074_0000\",11.200000166893004],[\"sub-barcelona03_074_0000\",4.000000059604645],[\"sub-barcelona03_074_0000\",5.600000083446503],[\"sub-barcelona03_074_0000\",6.400000095367432],[\"sub-barcelona03_074_0000\",8.800000131130219],[\"sub-barcelona03_074_0000\",10.400000154972076],[\"sub-barcelona03_074_0000\",12.000000178813934],[\"sub-barcelona03_074_0000\",null],[\"sub-barcelona03_074_0000\",null],[\"sub-011_ses-headUp_017_0000\",6.6744789481163025],[\"sub-011_ses-headUp_017_0000\",6.6744789481163025],[\"sub-011_ses-headUp_017_0000\",10.921874642372131],[\"sub-011_ses-headUp_017_0000\",0.6067708134651184],[\"sub-011_ses-headUp_017_0000\",2.4270832538604736],[\"sub-011_ses-headUp_017_0000\",10.921874642372131],[\"sub-011_ses-headUp_017_0000\",9.708333015441896],[\"sub-011_ses-headUp_017_0000\",12.742187082767488],[\"sub-011_ses-headUp_017_0000\",null],[\"sub-011_ses-headUp_017_0000\",null],[\"sub-011_ses-headNormal_016_0000\",9.101562201976776],[\"sub-011_ses-headNormal_016_0000\",14.562499523162842],[\"sub-011_ses-headNormal_016_0000\",13.955728709697723],[\"sub-011_ses-headNormal_016_0000\",8.494791388511658],[\"sub-011_ses-headNormal_016_0000\",6.6744789481163025],[\"sub-011_ses-headNormal_016_0000\",6.6744789481163025],[\"sub-011_ses-headNormal_016_0000\",13.348957896232603],[\"sub-011_ses-headNormal_016_0000\",12.742187082767488],[\"sub-011_ses-headNormal_016_0000\",null],[\"sub-011_ses-headNormal_016_0000\",null],[\"sub-barcelona01_212_0000\",3.200000047683716],[\"sub-barcelona01_212_0000\",10.400000154972076],[\"sub-barcelona01_212_0000\",8.00000011920929],[\"sub-barcelona01_212_0000\",8.00000011920929],[\"sub-barcelona01_212_0000\",8.00000011920929],[\"sub-barcelona01_212_0000\",9.600000143051147],[\"sub-barcelona01_212_0000\",9.600000143051147],[\"sub-barcelona01_212_0000\",12.800000190734863],[\"sub-barcelona01_212_0000\",null],[\"sub-barcelona01_212_0000\",null],[\"sub-003_ses-headUp_003_0000\",4.247395694255829],[\"sub-003_ses-headUp_003_0000\",12.742187082767488],[\"sub-003_ses-headUp_003_0000\",8.494791388511658],[\"sub-003_ses-headUp_003_0000\",6.067708134651184],[\"sub-003_ses-headUp_003_0000\",10.921874642372131],[\"sub-003_ses-headUp_003_0000\",6.067708134651184],[\"sub-003_ses-headUp_003_0000\",10.315103828907011],[\"sub-003_ses-headUp_003_0000\",7.281249761581421],[\"sub-003_ses-headUp_003_0000\",null],[\"sub-003_ses-headUp_003_0000\",null],[\"sub-004_ses-headNormal_004_0000\",0.6067708134651184],[\"sub-004_ses-headNormal_004_0000\",10.315103828907011],[\"sub-004_ses-headNormal_004_0000\",6.6744789481163025],[\"sub-004_ses-headNormal_004_0000\",3.6406248807907104],[\"sub-004_ses-headNormal_004_0000\",null],[\"sub-004_ses-headNormal_004_0000\",0.0],[\"sub-004_ses-headNormal_004_0000\",null],[\"sub-004_ses-headNormal_004_0000\",null],[\"sub-004_ses-headNormal_004_0000\",null],[\"sub-004_ses-headNormal_004_0000\",null],[\"sub-005_ses-headUp_007_0000\",null],[\"sub-005_ses-headUp_007_0000\",null],[\"sub-005_ses-headUp_007_0000\",null],[\"sub-005_ses-headUp_007_0000\",1.2135416269302368],[\"sub-005_ses-headUp_007_0000\",null],[\"sub-005_ses-headUp_007_0000\",0.6067708134651184],[\"sub-005_ses-headUp_007_0000\",3.6406248807907104],[\"sub-005_ses-headUp_007_0000\",null],[\"sub-005_ses-headUp_007_0000\",null],[\"sub-005_ses-headUp_007_0000\",null],[\"sub-balgrist06_222_0000\",6.400000095367432],[\"sub-balgrist06_222_0000\",8.00000011920929],[\"sub-balgrist06_222_0000\",8.800000131130219],[\"sub-balgrist06_222_0000\",8.00000011920929],[\"sub-balgrist06_222_0000\",8.00000011920929],[\"sub-balgrist06_222_0000\",7.200000107288361],[\"sub-balgrist06_222_0000\",8.800000131130219],[\"sub-balgrist06_222_0000\",8.00000011920929],[\"sub-balgrist06_222_0000\",null],[\"sub-balgrist06_222_0000\",null]],\"hovertemplate\":\"which=pred\\u003cbr\\u003elevel=%{x}\\u003cbr\\u003ez_scores=%{y}\\u003cbr\\u003esub_name=%{customdata[0]}\\u003cbr\\u003eheight=%{customdata[1]}\\u003cextra\\u003e\\u003c\\u002fextra\\u003e\",\"legendgroup\":\"pred\",\"marker\":{\"color\":\"#636efa\",\"symbol\":\"circle\"},\"mode\":\"markers\",\"name\":\"pred\",\"orientation\":\"v\",\"showlegend\":true,\"x\":[2,3,4,5,6,7,8,9,10,11,2,3,4,5,6,7,8,9,10,11,2,3,4,5,6,7,8,9,10,11,2,3,4,5,6,7,8,9,10,11,2,3,4,5,6,7,8,9,10,11,2,3,4,5,6,7,8,9,10,11,2,3,4,5,6,7,8,9,10,11,2,3,4,5,6,7,8,9,10,11,2,3,4,5,6,7,8,9,10,11,2,3,4,5,6,7,8,9,10,11,2,3,4,5,6,7,8,9,10,11,2,3,4,5,6,7,8,9,10,11,2,3,4,5,6,7,8,9,10,11,2,3,4,5,6,7,8,9,10,11,2,3,4,5,6,7,8,9,10,11,2,3,4,5,6,7,8,9,10,11,2,3,4,5,6,7,8,9,10,11,2,3,4,5,6,7,8,9,10,11,2,3,4,5,6,7,8,9,10,11,2,3,4,5,6,7,8,10,11,2,3,4,5,6,7,8,9,10,11,2,3,4,5,6,7,8,9,10,11,2,3,4,5,6,7,8,9,10,11,2,3,4,5,6,7,8,9,10,11,2,3,4,5,6,7,8,9,10,11,2,3,4,5,6,7,8,9,10,11,2,3,4,5,6,7,8,9,10,11,2,3,4,5,6,7,8,9,10,11,2,3,4,5,6,7,8,9,10,11,2,3,4,5,6,7,8,9,10,11,2,3,4,5,6,7,8,9,10,11],\"xaxis\":\"x\",\"y\":[-3.636050466096219e-05,0.25207003836305,-3.636050466096219e-05,-0.2521427593723719,-3.636050466096219e-05,-0.08407182679389794,-0.08407182679389794,-0.9244264896862677,null,null,-1.0386622116910074,1.3068901273600722,null,-1.3446038211324525,0.2870847625552551,0.3890652990357362,-0.7327206022495623,null,null,null,-0.12083738336667205,-0.4267789928081172,null,-0.9366816752105257,-0.018856846886190336,-0.3247984563276355,-0.6307400657690806,-0.5287595292885989,null,null,-3.634046904449537e-05,0.6722473998626596,-0.1344930885353853,-3.634046904449537e-05,0.4033339037299779,0.13442040759729632,0.5377906517963185,-0.2689498366017261,null,null,-1.3446038211324525,0.4910458355162182,null,null,null,null,null,null,null,null,-0.4267789928081172,-0.3247984563276355,-0.5287595292885989,-0.3247984563276355,-0.3247984563276355,-0.7327206022495623,-0.7327206022495623,-0.834701138730044,null,null,-0.5378633327344077,-0.1344930885353853,-0.8067768288670893,null,-1.2101470730661117,-0.2689498366017261,-0.2689498366017261,-3.634046904449537e-05,null,null,-0.2689498366017261,0.6722473998626596,0.13442040759729632,0.13442040759729632,0.13442040759729632,0.6722473998626596,-0.2689498366017261,0.4033339037299779,null,null,-0.6723200808007486,0.13442040759729632,-0.40340658466806695,-0.9412335769334301,-3.634046904449537e-05,-3.634046904449537e-05,-0.2689498366017261,1.2100743921280228,null,null,null,0.1851042260747731,-0.12083738336667205,-1.242623284651971,null,null,null,null,null,null,-0.3247984563276355,null,-1.1406427481714891,0.1851042260747731,0.2870847625552551,null,null,0.08312368959429137,null,null,0.13442040759729632,-0.2689498366017261,-0.6723200808007486,-0.2689498366017261,-0.2689498366017261,-0.1344930885353853,0.13442040759729632,null,null,null,-0.5378633327344077,0.4033339037299779,-3.634046904449537e-05,-0.5378633327344077,-0.40340658466806695,0.13442040759729632,0.2688771556636371,0.5377906517963185,null,null,-0.4267789928081172,0.5930263719966999,-0.7327206022495623,-0.12083738336667205,-0.12083738336667205,null,null,null,null,null,0.13442040759729632,0.4033339037299779,0.2688771556636371,-0.40340658466806695,-0.1344930885353853,0.2688771556636371,-0.40340658466806695,-1.075690324999771,null,null,-0.2689498366017261,0.5377906517963185,0.6722473998626596,-0.2689498366017261,-0.6723200808007486,-0.2689498366017261,0.6722473998626596,1.0756176440616816,null,null,-0.6723200808007486,0.13442040759729632,-0.2689498366017261,-0.9412335769334301,-0.2689498366017261,-0.1344930885353853,-3.634046904449537e-05,0.5377906517963185,null,null,-0.5378633327344077,0.5377906517963185,-3.634046904449537e-05,-0.1344930885353853,0.2688771556636371,-0.1344930885353853,-0.1344930885353853,0.2688771556636371,null,null,-0.1344930885353853,0.4033339037299779,-0.2689498366017261,-0.40340658466806695,-3.634046904449537e-05,0.8067041479290004,0.2688771556636371,-0.1344930885353853,null,null,-0.5378633327344077,0.4033339037299779,-3.634046904449537e-05,-3.634046904449537e-05,0.2688771556636371,0.2688771556636371,0.6722473998626596,null,null,-0.834701138730044,0.4910458355162182,-0.5287595292885989,null,-0.4267789928081172,0.08312368959429137,null,null,null,null,-1.075690324999771,0.13442040759729632,-0.8067768288670893,-0.40340658466806695,-0.5378633327344077,0.13442040759729632,-3.634046904449537e-05,0.8067041479290004,null,null,-3.634046904449537e-05,1.0756176440616816,null,-1.2101470730661117,-1.075690324999771,-0.5378633327344077,-3.634046904449537e-05,1.0756176440616816,null,null,-3.634046904449537e-05,0.5377906517963185,-0.6723200808007486,-0.40340658466806695,-0.2689498366017261,0.13442040759729632,0.4033339037299779,0.6722473998626596,null,null,-0.22281791984715377,-0.22281791984715377,0.4910458355162182,-1.242623284651971,-0.9366816752105257,0.4910458355162182,0.2870847625552551,0.7969874449576636,null,null,0.1851042260747731,1.1029290543991084,1.0009485179186268,0.08312368959429137,-0.22281791984715377,-0.22281791984715377,0.8989679814381447,0.7969874449576636,null,null,-0.8067768288670893,0.4033339037299779,-3.634046904449537e-05,-3.634046904449537e-05,-3.634046904449537e-05,0.2688771556636371,0.2688771556636371,0.8067041479290004,null,null,-0.6307400657690806,0.7969874449576636,0.08312368959429137,-0.3247984563276355,0.4910458355162182,-0.3247984563276355,0.3890652990357362,-0.12083738336667205,null,null,-1.242623284651971,0.3890652990357362,-0.22281791984715377,-0.7327206022495623,null,-1.3446038211324525,null,null,null,null,null,null,null,-1.1406427481714891,null,-1.242623284651971,-0.7327206022495623,null,null,null,-0.2689498366017261,-3.634046904449537e-05,0.13442040759729632,-3.634046904449537e-05,-3.634046904449537e-05,-0.1344930885353853,0.13442040759729632,-3.634046904449537e-05,null,null],\"yaxis\":\"y\",\"type\":\"scatter\"},{\"customdata\":[[\"sub-brnoUhb03_209_0000\",8.0],[\"sub-brnoUhb03_209_0000\",10.5],[\"sub-brnoUhb03_209_0000\",8.5],[\"sub-brnoUhb03_209_0000\",7.0],[\"sub-brnoUhb03_209_0000\",8.5],[\"sub-brnoUhb03_209_0000\",9.0],[\"sub-brnoUhb03_209_0000\",8.5],[\"sub-brnoUhb03_209_0000\",4.0],[\"sub-brnoUhb03_209_0000\",3.5],[\"sub-brnoUhb03_209_0000\",null],[\"sub-007_ses-headUp_010_0000\",3.6406248807907104],[\"sub-007_ses-headUp_010_0000\",17.596353590488434],[\"sub-007_ses-headUp_010_0000\",3.033854067325592],[\"sub-007_ses-headUp_010_0000\",9.101562201976776],[\"sub-007_ses-headUp_010_0000\",9.708333015441896],[\"sub-007_ses-headUp_010_0000\",10.921874642372131],[\"sub-007_ses-headUp_010_0000\",4.247395694255829],[\"sub-007_ses-headUp_010_0000\",null],[\"sub-007_ses-headUp_010_0000\",null],[\"sub-007_ses-headUp_010_0000\",null],[\"sub-010_ses-headNormal_014_0000\",8.494791388511658],[\"sub-010_ses-headNormal_014_0000\",6.067708134651184],[\"sub-010_ses-headNormal_014_0000\",null],[\"sub-010_ses-headNormal_014_0000\",6.6744789481163025],[\"sub-010_ses-headNormal_014_0000\",9.101562201976776],[\"sub-010_ses-headNormal_014_0000\",7.888020575046539],[\"sub-010_ses-headNormal_014_0000\",4.854166507720947],[\"sub-010_ses-headNormal_014_0000\",5.460937321186066],[\"sub-010_ses-headNormal_014_0000\",null],[\"sub-010_ses-headNormal_014_0000\",null],[\"sub-geneva01_253_0000\",8.00000011920929],[\"sub-geneva01_253_0000\",12.800000190734863],[\"sub-geneva01_253_0000\",8.00000011920929],[\"sub-geneva01_253_0000\",8.00000011920929],[\"sub-geneva01_253_0000\",11.200000166893004],[\"sub-geneva01_253_0000\",8.800000131130219],[\"sub-geneva01_253_0000\",12.000000178813934],[\"sub-geneva01_253_0000\",5.600000083446503],[\"sub-geneva01_253_0000\",null],[\"sub-geneva01_253_0000\",null],[\"sub-005_ses-headNormal_006_0000\",1.2135416269302368],[\"sub-005_ses-headNormal_006_0000\",11.52864545583725],[\"sub-005_ses-headNormal_006_0000\",2.4270832538604736],[\"sub-005_ses-headNormal_006_0000\",4.854166507720947],[\"sub-005_ses-headNormal_006_0000\",null],[\"sub-005_ses-headNormal_006_0000\",4.854166507720947],[\"sub-005_ses-headNormal_006_0000\",null],[\"sub-005_ses-headNormal_006_0000\",null],[\"sub-005_ses-headNormal_006_0000\",null],[\"sub-005_ses-headNormal_006_0000\",null],[\"sub-010_ses-headUp_015_0000\",6.067708134651184],[\"sub-010_ses-headUp_015_0000\",10.315103828907011],[\"sub-010_ses-headUp_015_0000\",6.6744789481163025],[\"sub-010_ses-headUp_015_0000\",6.067708134651184],[\"sub-010_ses-headUp_015_0000\",9.708333015441896],[\"sub-010_ses-headUp_015_0000\",7.888020575046539],[\"sub-010_ses-headUp_015_0000\",5.460937321186066],[\"sub-010_ses-headUp_015_0000\",4.247395694255829],[\"sub-010_ses-headUp_015_0000\",null],[\"sub-010_ses-headUp_015_0000\",null],[\"sub-cmrra04_158_0000\",4.800000071525574],[\"sub-cmrra04_158_0000\",7.200000107288361],[\"sub-cmrra04_158_0000\",3.200000047683716],[\"sub-cmrra04_158_0000\",null],[\"sub-cmrra04_158_0000\",1.600000023841858],[\"sub-cmrra04_158_0000\",7.200000107288361],[\"sub-cmrra04_158_0000\",7.200000107288361],[\"sub-cmrra04_158_0000\",8.800000131130219],[\"sub-cmrra04_158_0000\",6.400000095367432],[\"sub-cmrra04_158_0000\",null],[\"sub-balgrist04_071_0000\",6.400000095367432],[\"sub-balgrist04_071_0000\",12.000000178813934],[\"sub-balgrist04_071_0000\",8.800000131130219],[\"sub-balgrist04_071_0000\",8.800000131130219],[\"sub-balgrist04_071_0000\",8.800000131130219],[\"sub-balgrist04_071_0000\",12.000000178813934],[\"sub-balgrist04_071_0000\",6.400000095367432],[\"sub-balgrist04_071_0000\",10.400000154972076],[\"sub-balgrist04_071_0000\",null],[\"sub-balgrist04_071_0000\",null],[\"sub-amu05_216_0000\",4.000000059604645],[\"sub-amu05_216_0000\",9.600000143051147],[\"sub-amu05_216_0000\",5.600000083446503],[\"sub-amu05_216_0000\",2.400000035762787],[\"sub-amu05_216_0000\",8.00000011920929],[\"sub-amu05_216_0000\",8.00000011920929],[\"sub-amu05_216_0000\",6.400000095367432],[\"sub-amu05_216_0000\",15.20000022649765],[\"sub-amu05_216_0000\",null],[\"sub-amu05_216_0000\",null],[\"sub-004_ses-headUp_005_0000\",3.033854067325592],[\"sub-004_ses-headUp_005_0000\",9.101562201976776],[\"sub-004_ses-headUp_005_0000\",7.888020575046539],[\"sub-004_ses-headUp_005_0000\",2.4270832538604736],[\"sub-004_ses-headUp_005_0000\",3.6406248807907104],[\"sub-004_ses-headUp_005_0000\",3.033854067325592],[\"sub-004_ses-headUp_005_0000\",null],[\"sub-004_ses-headUp_005_0000\",null],[\"sub-004_ses-headUp_005_0000\",null],[\"sub-004_ses-headUp_005_0000\",null],[\"sub-002_ses-headNormal_000_0000\",6.067708134651184],[\"sub-002_ses-headNormal_000_0000\",null],[\"sub-002_ses-headNormal_000_0000\",1.2135416269302368],[\"sub-002_ses-headNormal_000_0000\",9.708333015441896],[\"sub-002_ses-headNormal_000_0000\",9.101562201976776],[\"sub-002_ses-headNormal_000_0000\",0.6067708134651184],[\"sub-002_ses-headNormal_000_0000\",null],[\"sub-002_ses-headNormal_000_0000\",10.921874642372131],[\"sub-002_ses-headNormal_000_0000\",10.315103828907011],[\"sub-002_ses-headNormal_000_0000\",12.135416269302368],[\"sub-amu02_215_0000\",8.800000131130219],[\"sub-amu02_215_0000\",6.400000095367432],[\"sub-amu02_215_0000\",4.000000059604645],[\"sub-amu02_215_0000\",6.400000095367432],[\"sub-amu02_215_0000\",7.200000107288361],[\"sub-amu02_215_0000\",null],[\"sub-amu02_215_0000\",null],[\"sub-balgrist01_218_0000\",4.800000071525574],[\"sub-balgrist01_218_0000\",10.400000154972076],[\"sub-balgrist01_218_0000\",8.00000011920929],[\"sub-balgrist01_218_0000\",4.800000071525574],[\"sub-balgrist01_218_0000\",5.600000083446503],[\"sub-balgrist01_218_0000\",8.800000131130219],[\"sub-balgrist01_218_0000\",9.600000143051147],[\"sub-balgrist01_218_0000\",11.200000166893004],[\"sub-balgrist01_218_0000\",0.800000011920929],[\"sub-balgrist01_218_0000\",null],[\"sub-003_ses-headNormal_002_0000\",5.460937321186066],[\"sub-003_ses-headNormal_002_0000\",12.135416269302368],[\"sub-003_ses-headNormal_002_0000\",4.854166507720947],[\"sub-003_ses-headNormal_002_0000\",7.888020575046539],[\"sub-003_ses-headNormal_002_0000\",7.888020575046539],[\"sub-003_ses-headNormal_002_0000\",null],[\"sub-003_ses-headNormal_002_0000\",null],[\"sub-003_ses-headNormal_002_0000\",null],[\"sub-003_ses-headNormal_002_0000\",null],[\"sub-003_ses-headNormal_002_0000\",null],[\"sub-cardiff04_172_0000\",8.800000131130219],[\"sub-cardiff04_172_0000\",10.400000154972076],[\"sub-cardiff04_172_0000\",9.600000143051147],[\"sub-cardiff04_172_0000\",5.600000083446503],[\"sub-cardiff04_172_0000\",7.200000107288361],[\"sub-cardiff04_172_0000\",9.600000143051147],[\"sub-cardiff04_172_0000\",5.600000083446503],[\"sub-cardiff04_172_0000\",1.600000023841858],[\"sub-cardiff04_172_0000\",null],[\"sub-cardiff04_172_0000\",null],[\"sub-barcelona02_063_0000\",6.400000095367432],[\"sub-barcelona02_063_0000\",11.200000166893004],[\"sub-barcelona02_063_0000\",12.000000178813934],[\"sub-barcelona02_063_0000\",6.400000095367432],[\"sub-barcelona02_063_0000\",4.000000059604645],[\"sub-barcelona02_063_0000\",6.400000095367432],[\"sub-barcelona02_063_0000\",12.000000178813934],[\"sub-barcelona02_063_0000\",15.20000022649765],[\"sub-barcelona02_063_0000\",6.400000095367432],[\"sub-barcelona02_063_0000\",null],[\"sub-cardiff02_182_0000\",4.000000059604645],[\"sub-cardiff02_182_0000\",8.800000131130219],[\"sub-cardiff02_182_0000\",6.400000095367432],[\"sub-cardiff02_182_0000\",2.400000035762787],[\"sub-cardiff02_182_0000\",7.200000107288361],[\"sub-cardiff02_182_0000\",8.00000011920929],[\"sub-cardiff02_182_0000\",8.00000011920929],[\"sub-cardiff02_182_0000\",11.200000166893004],[\"sub-cardiff02_182_0000\",0.800000011920929],[\"sub-cardiff02_182_0000\",null],[\"sub-cmrra02_140_0000\",4.800000071525574],[\"sub-cmrra02_140_0000\",11.200000166893004],[\"sub-cmrra02_140_0000\",7.200000107288361],[\"sub-cmrra02_140_0000\",7.200000107288361],[\"sub-cmrra02_140_0000\",9.600000143051147],[\"sub-cmrra02_140_0000\",7.200000107288361],[\"sub-cmrra02_140_0000\",7.200000107288361],[\"sub-cmrra02_140_0000\",8.800000131130219],[\"sub-cmrra02_140_0000\",null],[\"sub-cmrra02_140_0000\",null],[\"sub-balgrist02_084_0000\",7.200000107288361],[\"sub-balgrist02_084_0000\",10.400000154972076],[\"sub-balgrist02_084_0000\",6.400000095367432],[\"sub-balgrist02_084_0000\",5.600000083446503],[\"sub-balgrist02_084_0000\",8.00000011920929],[\"sub-balgrist02_084_0000\",13.600000202655792],[\"sub-balgrist02_084_0000\",9.600000143051147],[\"sub-balgrist02_084_0000\",7.200000107288361],[\"sub-balgrist02_084_0000\",6.400000095367432],[\"sub-balgrist02_084_0000\",4.800000071525574],[\"sub-barcelona06_214_0000\",5.600000083446503],[\"sub-barcelona06_214_0000\",10.400000154972076],[\"sub-barcelona06_214_0000\",8.00000011920929],[\"sub-barcelona06_214_0000\",8.00000011920929],[\"sub-barcelona06_214_0000\",9.600000143051147],[\"sub-barcelona06_214_0000\",9.600000143051147],[\"sub-barcelona06_214_0000\",12.000000178813934],[\"sub-barcelona06_214_0000\",null],[\"sub-barcelona06_214_0000\",null],[\"sub-007_ses-headNormal_009_0000\",6.6744789481163025],[\"sub-007_ses-headNormal_009_0000\",11.52864545583725],[\"sub-007_ses-headNormal_009_0000\",5.460937321186066],[\"sub-007_ses-headNormal_009_0000\",null],[\"sub-007_ses-headNormal_009_0000\",5.460937321186066],[\"sub-007_ses-headNormal_009_0000\",9.101562201976776],[\"sub-007_ses-headNormal_009_0000\",null],[\"sub-007_ses-headNormal_009_0000\",null],[\"sub-007_ses-headNormal_009_0000\",null],[\"sub-007_ses-headNormal_009_0000\",null],[\"sub-amu01_064_0000\",0.800000011920929],[\"sub-amu01_064_0000\",8.800000131130219],[\"sub-amu01_064_0000\",4.800000071525574],[\"sub-amu01_064_0000\",5.600000083446503],[\"sub-amu01_064_0000\",4.800000071525574],[\"sub-amu01_064_0000\",8.800000131130219],[\"sub-amu01_064_0000\",9.600000143051147],[\"sub-amu01_064_0000\",12.800000190734863],[\"sub-amu01_064_0000\",5.600000083446503],[\"sub-amu01_064_0000\",null],[\"sub-balgrist03_066_0000\",8.00000011920929],[\"sub-balgrist03_066_0000\",14.40000021457672],[\"sub-balgrist03_066_0000\",null],[\"sub-balgrist03_066_0000\",0.800000011920929],[\"sub-balgrist03_066_0000\",1.600000023841858],[\"sub-balgrist03_066_0000\",6.400000095367432],[\"sub-balgrist03_066_0000\",8.00000011920929],[\"sub-balgrist03_066_0000\",14.40000021457672],[\"sub-balgrist03_066_0000\",10.400000154972076],[\"sub-balgrist03_066_0000\",null],[\"sub-barcelona03_074_0000\",8.800000131130219],[\"sub-barcelona03_074_0000\",11.200000166893004],[\"sub-barcelona03_074_0000\",4.000000059604645],[\"sub-barcelona03_074_0000\",5.600000083446503],[\"sub-barcelona03_074_0000\",6.400000095367432],[\"sub-barcelona03_074_0000\",9.600000143051147],[\"sub-barcelona03_074_0000\",12.000000178813934],[\"sub-barcelona03_074_0000\",11.200000166893004],[\"sub-barcelona03_074_0000\",5.600000083446503],[\"sub-barcelona03_074_0000\",null],[\"sub-011_ses-headUp_017_0000\",7.281249761581421],[\"sub-011_ses-headUp_017_0000\",6.6744789481163025],[\"sub-011_ses-headUp_017_0000\",11.52864545583725],[\"sub-011_ses-headUp_017_0000\",1.8203124403953552],[\"sub-011_ses-headUp_017_0000\",3.6406248807907104],[\"sub-011_ses-headUp_017_0000\",12.742187082767488],[\"sub-011_ses-headUp_017_0000\",10.315103828907011],[\"sub-011_ses-headUp_017_0000\",11.52864545583725],[\"sub-011_ses-headUp_017_0000\",2.4270832538604736],[\"sub-011_ses-headUp_017_0000\",null],[\"sub-011_ses-headNormal_016_0000\",9.101562201976776],[\"sub-011_ses-headNormal_016_0000\",15.16927033662796],[\"sub-011_ses-headNormal_016_0000\",15.16927033662796],[\"sub-011_ses-headNormal_016_0000\",9.101562201976776],[\"sub-011_ses-headNormal_016_0000\",8.494791388511658],[\"sub-011_ses-headNormal_016_0000\",8.494791388511658],[\"sub-011_ses-headNormal_016_0000\",13.955728709697723],[\"sub-011_ses-headNormal_016_0000\",12.742187082767488],[\"sub-011_ses-headNormal_016_0000\",5.460937321186066],[\"sub-011_ses-headNormal_016_0000\",null],[\"sub-barcelona01_212_0000\",3.200000047683716],[\"sub-barcelona01_212_0000\",10.400000154972076],[\"sub-barcelona01_212_0000\",8.00000011920929],[\"sub-barcelona01_212_0000\",8.00000011920929],[\"sub-barcelona01_212_0000\",8.00000011920929],[\"sub-barcelona01_212_0000\",9.600000143051147],[\"sub-barcelona01_212_0000\",9.600000143051147],[\"sub-barcelona01_212_0000\",12.800000190734863],[\"sub-barcelona01_212_0000\",null],[\"sub-barcelona01_212_0000\",null],[\"sub-003_ses-headUp_003_0000\",4.854166507720947],[\"sub-003_ses-headUp_003_0000\",13.955728709697723],[\"sub-003_ses-headUp_003_0000\",8.494791388511658],[\"sub-003_ses-headUp_003_0000\",6.6744789481163025],[\"sub-003_ses-headUp_003_0000\",12.742187082767488],[\"sub-003_ses-headUp_003_0000\",9.708333015441896],[\"sub-003_ses-headUp_003_0000\",10.921874642372131],[\"sub-003_ses-headUp_003_0000\",7.888020575046539],[\"sub-003_ses-headUp_003_0000\",null],[\"sub-003_ses-headUp_003_0000\",null],[\"sub-004_ses-headNormal_004_0000\",6.067708134651184],[\"sub-004_ses-headNormal_004_0000\",10.921874642372131],[\"sub-004_ses-headNormal_004_0000\",8.494791388511658],[\"sub-004_ses-headNormal_004_0000\",4.854166507720947],[\"sub-004_ses-headNormal_004_0000\",null],[\"sub-004_ses-headNormal_004_0000\",2.4270832538604736],[\"sub-004_ses-headNormal_004_0000\",0.6067708134651184],[\"sub-004_ses-headNormal_004_0000\",0.0],[\"sub-004_ses-headNormal_004_0000\",null],[\"sub-004_ses-headNormal_004_0000\",null],[\"sub-005_ses-headUp_007_0000\",null],[\"sub-005_ses-headUp_007_0000\",null],[\"sub-005_ses-headUp_007_0000\",0.6067708134651184],[\"sub-005_ses-headUp_007_0000\",10.921874642372131],[\"sub-005_ses-headUp_007_0000\",10.315103828907011],[\"sub-005_ses-headUp_007_0000\",10.921874642372131],[\"sub-005_ses-headUp_007_0000\",7.281249761581421],[\"sub-005_ses-headUp_007_0000\",null],[\"sub-005_ses-headUp_007_0000\",null],[\"sub-005_ses-headUp_007_0000\",null],[\"sub-balgrist06_222_0000\",7.200000107288361],[\"sub-balgrist06_222_0000\",8.00000011920929],[\"sub-balgrist06_222_0000\",8.800000131130219],[\"sub-balgrist06_222_0000\",8.00000011920929],[\"sub-balgrist06_222_0000\",8.00000011920929],[\"sub-balgrist06_222_0000\",7.200000107288361],[\"sub-balgrist06_222_0000\",8.800000131130219],[\"sub-balgrist06_222_0000\",8.00000011920929],[\"sub-balgrist06_222_0000\",null],[\"sub-balgrist06_222_0000\",null]],\"hovertemplate\":\"which=manual\\u003cbr\\u003elevel=%{x}\\u003cbr\\u003ez_scores=%{y}\\u003cbr\\u003esub_name=%{customdata[0]}\\u003cbr\\u003eheight=%{customdata[1]}\\u003cextra\\u003e\\u003c\\u002fextra\\u003e\",\"legendgroup\":\"manual\",\"marker\":{\"color\":\"#EF553B\",\"symbol\":\"circle\"},\"mode\":\"markers\",\"name\":\"manual\",\"orientation\":\"v\",\"showlegend\":true,\"x\":[2,3,4,5,6,7,8,9,10,11,2,3,4,5,6,7,8,9,10,11,2,3,4,5,6,7,8,9,10,11,2,3,4,5,6,7,8,9,10,11,2,3,4,5,6,7,8,9,10,11,2,3,4,5,6,7,8,9,10,11,2,3,4,5,6,7,8,9,10,11,2,3,4,5,6,7,8,9,10,11,2,3,4,5,6,7,8,9,10,11,2,3,4,5,6,7,8,9,10,11,2,3,4,5,6,7,8,9,10,11,2,3,4,5,7,9,11,2,3,4,5,6,7,8,9,10,11,2,3,4,5,6,7,8,9,10,11,2,3,4,5,6,7,8,9,10,11,2,3,4,5,6,7,8,9,10,11,2,3,4,5,6,7,8,9,10,11,2,3,4,5,6,7,8,9,10,11,2,3,4,5,6,7,8,9,10,11,2,3,4,5,6,7,8,10,11,2,3,4,5,6,7,8,9,10,11,2,3,4,5,6,7,8,9,10,11,2,3,4,5,6,7,8,9,10,11,2,3,4,5,6,7,8,9,10,11,2,3,4,5,6,7,8,9,10,11,2,3,4,5,6,7,8,9,10,11,2,3,4,5,6,7,8,9,10,11,2,3,4,5,6,7,8,9,10,11,2,3,4,5,6,7,8,9,10,11,2,3,4,5,6,7,8,9,10,11,2,3,4,5,6,7,8,9,10,11],\"xaxis\":\"x\",\"y\":[-3.636050466096219e-05,0.4201409709415239,0.08399910578457602,-0.1681072930831349,0.08399910578457602,0.16803457207381298,0.08399910578457602,-0.6723200908185568,-0.7563555571077938,null,-0.7327206022495623,1.612831736801517,-0.834701138730044,0.1851042260747731,0.2870847625552551,0.4910458355162182,-0.6307400657690806,null,null,null,0.08312368959429137,-0.3247984563276355,null,-0.22281791984715377,0.1851042260747731,-0.018856846886190336,-0.5287595292885989,-0.4267789928081172,null,null,-3.634046904449537e-05,0.8067041479290004,-3.634046904449537e-05,-3.634046904449537e-05,0.5377906517963185,0.13442040759729632,0.6722473998626596,-0.40340658466806695,null,null,-1.1406427481714891,0.5930263719966999,-0.9366816752105257,-0.5287595292885989,null,-0.5287595292885989,null,null,null,null,-0.3247984563276355,0.3890652990357362,-0.22281791984715377,-0.3247984563276355,0.2870847625552551,-0.018856846886190336,-0.4267789928081172,-0.6307400657690806,null,null,-0.5378633327344077,-0.1344930885353853,-0.8067768288670893,null,-1.075690324999771,-0.1344930885353853,-0.1344930885353853,0.13442040759729632,-0.2689498366017261,null,-0.2689498366017261,0.6722473998626596,0.13442040759729632,0.13442040759729632,0.13442040759729632,0.6722473998626596,-0.2689498366017261,0.4033339037299779,null,null,-0.6723200808007486,0.2688771556636371,-0.40340658466806695,-0.9412335769334301,-3.634046904449537e-05,-3.634046904449537e-05,-0.2689498366017261,1.2100743921280228,null,null,-0.834701138730044,0.1851042260747731,-0.018856846886190336,-0.9366816752105257,-0.7327206022495623,-0.834701138730044,null,null,null,null,-0.3247984563276355,null,-1.1406427481714891,0.2870847625552551,0.1851042260747731,-1.242623284651971,null,0.4910458355162182,0.3890652990357362,0.6950069084771816,0.13442040759729632,-0.2689498366017261,-0.6723200808007486,-0.2689498366017261,-0.1344930885353853,null,null,-0.5378633327344077,0.4033339037299779,-3.634046904449537e-05,-0.5378633327344077,-0.40340658466806695,0.13442040759729632,0.2688771556636371,0.5377906517963185,-1.2101470730661117,null,-0.4267789928081172,0.6950069084771816,-0.5287595292885989,-0.018856846886190336,-0.018856846886190336,null,null,null,null,null,0.13442040759729632,0.4033339037299779,0.2688771556636371,-0.40340658466806695,-0.1344930885353853,0.2688771556636371,-0.40340658466806695,-1.075690324999771,null,null,-0.2689498366017261,0.5377906517963185,0.6722473998626596,-0.2689498366017261,-0.6723200808007486,-0.2689498366017261,0.6722473998626596,1.2100743921280228,-0.2689498366017261,null,-0.6723200808007486,0.13442040759729632,-0.2689498366017261,-0.9412335769334301,-0.1344930885353853,-3.634046904449537e-05,-3.634046904449537e-05,0.5377906517963185,-1.2101470730661117,null,-0.5378633327344077,0.5377906517963185,-0.1344930885353853,-0.1344930885353853,0.2688771556636371,-0.1344930885353853,-0.1344930885353853,0.13442040759729632,null,null,-0.1344930885353853,0.4033339037299779,-0.2689498366017261,-0.40340658466806695,-3.634046904449537e-05,0.9411608959953411,0.2688771556636371,-0.1344930885353853,-0.2689498366017261,-0.5378633327344077,-0.40340658466806695,0.4033339037299779,-3.634046904449537e-05,-3.634046904449537e-05,0.2688771556636371,0.2688771556636371,0.6722473998626596,null,null,-0.22281791984715377,0.5930263719966999,-0.4267789928081172,null,-0.4267789928081172,0.1851042260747731,null,null,null,null,-1.2101470730661117,0.13442040759729632,-0.5378633327344077,-0.40340658466806695,-0.5378633327344077,0.13442040759729632,0.2688771556636371,0.8067041479290004,-0.40340658466806695,null,-3.634046904449537e-05,1.0756176440616816,null,-1.2101470730661117,-1.075690324999771,-0.2689498366017261,-3.634046904449537e-05,1.0756176440616816,0.4033339037299779,null,0.13442040759729632,0.5377906517963185,-0.6723200808007486,-0.40340658466806695,-0.2689498366017261,0.2688771556636371,0.6722473998626596,0.5377906517963185,-0.40340658466806695,null,-0.12083738336667205,-0.22281791984715377,0.5930263719966999,-1.0386622116910074,-0.7327206022495623,0.7969874449576636,0.3890652990357362,0.5930263719966999,-0.9366816752105257,null,0.1851042260747731,1.2049095908795902,1.2049095908795902,0.1851042260747731,0.08312368959429137,0.08312368959429137,1.0009485179186268,0.7969874449576636,-0.4267789928081172,null,-0.8067768288670893,0.4033339037299779,-3.634046904449537e-05,-3.634046904449537e-05,-3.634046904449537e-05,0.2688771556636371,0.2688771556636371,0.8067041479290004,null,null,-0.5287595292885989,1.0009485179186268,0.08312368959429137,-0.22281791984715377,0.7969874449576636,0.2870847625552551,0.4910458355162182,-0.018856846886190336,null,null,-0.3247984563276355,0.4910458355162182,0.08312368959429137,-0.5287595292885989,null,-0.9366816752105257,-1.242623284651971,-1.3446038211324525,null,null,null,null,-1.242623284651971,0.4910458355162182,0.3890652990357362,0.4910458355162182,-0.12083738336667205,null,null,null,-0.1344930885353853,-3.634046904449537e-05,0.13442040759729632,-3.634046904449537e-05,-3.634046904449537e-05,-0.1344930885353853,0.13442040759729632,-3.634046904449537e-05,null,null],\"yaxis\":\"y\",\"type\":\"scatter\"}],                        {\"template\":{\"data\":{\"histogram2dcontour\":[{\"type\":\"histogram2dcontour\",\"colorbar\":{\"outlinewidth\":0,\"ticks\":\"\"},\"colorscale\":[[0.0,\"#0d0887\"],[0.1111111111111111,\"#46039f\"],[0.2222222222222222,\"#7201a8\"],[0.3333333333333333,\"#9c179e\"],[0.4444444444444444,\"#bd3786\"],[0.5555555555555556,\"#d8576b\"],[0.6666666666666666,\"#ed7953\"],[0.7777777777777778,\"#fb9f3a\"],[0.8888888888888888,\"#fdca26\"],[1.0,\"#f0f921\"]]}],\"choropleth\":[{\"type\":\"choropleth\",\"colorbar\":{\"outlinewidth\":0,\"ticks\":\"\"}}],\"histogram2d\":[{\"type\":\"histogram2d\",\"colorbar\":{\"outlinewidth\":0,\"ticks\":\"\"},\"colorscale\":[[0.0,\"#0d0887\"],[0.1111111111111111,\"#46039f\"],[0.2222222222222222,\"#7201a8\"],[0.3333333333333333,\"#9c179e\"],[0.4444444444444444,\"#bd3786\"],[0.5555555555555556,\"#d8576b\"],[0.6666666666666666,\"#ed7953\"],[0.7777777777777778,\"#fb9f3a\"],[0.8888888888888888,\"#fdca26\"],[1.0,\"#f0f921\"]]}],\"heatmap\":[{\"type\":\"heatmap\",\"colorbar\":{\"outlinewidth\":0,\"ticks\":\"\"},\"colorscale\":[[0.0,\"#0d0887\"],[0.1111111111111111,\"#46039f\"],[0.2222222222222222,\"#7201a8\"],[0.3333333333333333,\"#9c179e\"],[0.4444444444444444,\"#bd3786\"],[0.5555555555555556,\"#d8576b\"],[0.6666666666666666,\"#ed7953\"],[0.7777777777777778,\"#fb9f3a\"],[0.8888888888888888,\"#fdca26\"],[1.0,\"#f0f921\"]]}],\"heatmapgl\":[{\"type\":\"heatmapgl\",\"colorbar\":{\"outlinewidth\":0,\"ticks\":\"\"},\"colorscale\":[[0.0,\"#0d0887\"],[0.1111111111111111,\"#46039f\"],[0.2222222222222222,\"#7201a8\"],[0.3333333333333333,\"#9c179e\"],[0.4444444444444444,\"#bd3786\"],[0.5555555555555556,\"#d8576b\"],[0.6666666666666666,\"#ed7953\"],[0.7777777777777778,\"#fb9f3a\"],[0.8888888888888888,\"#fdca26\"],[1.0,\"#f0f921\"]]}],\"contourcarpet\":[{\"type\":\"contourcarpet\",\"colorbar\":{\"outlinewidth\":0,\"ticks\":\"\"}}],\"contour\":[{\"type\":\"contour\",\"colorbar\":{\"outlinewidth\":0,\"ticks\":\"\"},\"colorscale\":[[0.0,\"#0d0887\"],[0.1111111111111111,\"#46039f\"],[0.2222222222222222,\"#7201a8\"],[0.3333333333333333,\"#9c179e\"],[0.4444444444444444,\"#bd3786\"],[0.5555555555555556,\"#d8576b\"],[0.6666666666666666,\"#ed7953\"],[0.7777777777777778,\"#fb9f3a\"],[0.8888888888888888,\"#fdca26\"],[1.0,\"#f0f921\"]]}],\"surface\":[{\"type\":\"surface\",\"colorbar\":{\"outlinewidth\":0,\"ticks\":\"\"},\"colorscale\":[[0.0,\"#0d0887\"],[0.1111111111111111,\"#46039f\"],[0.2222222222222222,\"#7201a8\"],[0.3333333333333333,\"#9c179e\"],[0.4444444444444444,\"#bd3786\"],[0.5555555555555556,\"#d8576b\"],[0.6666666666666666,\"#ed7953\"],[0.7777777777777778,\"#fb9f3a\"],[0.8888888888888888,\"#fdca26\"],[1.0,\"#f0f921\"]]}],\"mesh3d\":[{\"type\":\"mesh3d\",\"colorbar\":{\"outlinewidth\":0,\"ticks\":\"\"}}],\"scatter\":[{\"fillpattern\":{\"fillmode\":\"overlay\",\"size\":10,\"solidity\":0.2},\"type\":\"scatter\"}],\"parcoords\":[{\"type\":\"parcoords\",\"line\":{\"colorbar\":{\"outlinewidth\":0,\"ticks\":\"\"}}}],\"scatterpolargl\":[{\"type\":\"scatterpolargl\",\"marker\":{\"colorbar\":{\"outlinewidth\":0,\"ticks\":\"\"}}}],\"bar\":[{\"error_x\":{\"color\":\"#2a3f5f\"},\"error_y\":{\"color\":\"#2a3f5f\"},\"marker\":{\"line\":{\"color\":\"#E5ECF6\",\"width\":0.5},\"pattern\":{\"fillmode\":\"overlay\",\"size\":10,\"solidity\":0.2}},\"type\":\"bar\"}],\"scattergeo\":[{\"type\":\"scattergeo\",\"marker\":{\"colorbar\":{\"outlinewidth\":0,\"ticks\":\"\"}}}],\"scatterpolar\":[{\"type\":\"scatterpolar\",\"marker\":{\"colorbar\":{\"outlinewidth\":0,\"ticks\":\"\"}}}],\"histogram\":[{\"marker\":{\"pattern\":{\"fillmode\":\"overlay\",\"size\":10,\"solidity\":0.2}},\"type\":\"histogram\"}],\"scattergl\":[{\"type\":\"scattergl\",\"marker\":{\"colorbar\":{\"outlinewidth\":0,\"ticks\":\"\"}}}],\"scatter3d\":[{\"type\":\"scatter3d\",\"line\":{\"colorbar\":{\"outlinewidth\":0,\"ticks\":\"\"}},\"marker\":{\"colorbar\":{\"outlinewidth\":0,\"ticks\":\"\"}}}],\"scattermapbox\":[{\"type\":\"scattermapbox\",\"marker\":{\"colorbar\":{\"outlinewidth\":0,\"ticks\":\"\"}}}],\"scatterternary\":[{\"type\":\"scatterternary\",\"marker\":{\"colorbar\":{\"outlinewidth\":0,\"ticks\":\"\"}}}],\"scattercarpet\":[{\"type\":\"scattercarpet\",\"marker\":{\"colorbar\":{\"outlinewidth\":0,\"ticks\":\"\"}}}],\"carpet\":[{\"aaxis\":{\"endlinecolor\":\"#2a3f5f\",\"gridcolor\":\"white\",\"linecolor\":\"white\",\"minorgridcolor\":\"white\",\"startlinecolor\":\"#2a3f5f\"},\"baxis\":{\"endlinecolor\":\"#2a3f5f\",\"gridcolor\":\"white\",\"linecolor\":\"white\",\"minorgridcolor\":\"white\",\"startlinecolor\":\"#2a3f5f\"},\"type\":\"carpet\"}],\"table\":[{\"cells\":{\"fill\":{\"color\":\"#EBF0F8\"},\"line\":{\"color\":\"white\"}},\"header\":{\"fill\":{\"color\":\"#C8D4E3\"},\"line\":{\"color\":\"white\"}},\"type\":\"table\"}],\"barpolar\":[{\"marker\":{\"line\":{\"color\":\"#E5ECF6\",\"width\":0.5},\"pattern\":{\"fillmode\":\"overlay\",\"size\":10,\"solidity\":0.2}},\"type\":\"barpolar\"}],\"pie\":[{\"automargin\":true,\"type\":\"pie\"}]},\"layout\":{\"autotypenumbers\":\"strict\",\"colorway\":[\"#636efa\",\"#EF553B\",\"#00cc96\",\"#ab63fa\",\"#FFA15A\",\"#19d3f3\",\"#FF6692\",\"#B6E880\",\"#FF97FF\",\"#FECB52\"],\"font\":{\"color\":\"#2a3f5f\"},\"hovermode\":\"closest\",\"hoverlabel\":{\"align\":\"left\"},\"paper_bgcolor\":\"white\",\"plot_bgcolor\":\"#E5ECF6\",\"polar\":{\"bgcolor\":\"#E5ECF6\",\"angularaxis\":{\"gridcolor\":\"white\",\"linecolor\":\"white\",\"ticks\":\"\"},\"radialaxis\":{\"gridcolor\":\"white\",\"linecolor\":\"white\",\"ticks\":\"\"}},\"ternary\":{\"bgcolor\":\"#E5ECF6\",\"aaxis\":{\"gridcolor\":\"white\",\"linecolor\":\"white\",\"ticks\":\"\"},\"baxis\":{\"gridcolor\":\"white\",\"linecolor\":\"white\",\"ticks\":\"\"},\"caxis\":{\"gridcolor\":\"white\",\"linecolor\":\"white\",\"ticks\":\"\"}},\"coloraxis\":{\"colorbar\":{\"outlinewidth\":0,\"ticks\":\"\"}},\"colorscale\":{\"sequential\":[[0.0,\"#0d0887\"],[0.1111111111111111,\"#46039f\"],[0.2222222222222222,\"#7201a8\"],[0.3333333333333333,\"#9c179e\"],[0.4444444444444444,\"#bd3786\"],[0.5555555555555556,\"#d8576b\"],[0.6666666666666666,\"#ed7953\"],[0.7777777777777778,\"#fb9f3a\"],[0.8888888888888888,\"#fdca26\"],[1.0,\"#f0f921\"]],\"sequentialminus\":[[0.0,\"#0d0887\"],[0.1111111111111111,\"#46039f\"],[0.2222222222222222,\"#7201a8\"],[0.3333333333333333,\"#9c179e\"],[0.4444444444444444,\"#bd3786\"],[0.5555555555555556,\"#d8576b\"],[0.6666666666666666,\"#ed7953\"],[0.7777777777777778,\"#fb9f3a\"],[0.8888888888888888,\"#fdca26\"],[1.0,\"#f0f921\"]],\"diverging\":[[0,\"#8e0152\"],[0.1,\"#c51b7d\"],[0.2,\"#de77ae\"],[0.3,\"#f1b6da\"],[0.4,\"#fde0ef\"],[0.5,\"#f7f7f7\"],[0.6,\"#e6f5d0\"],[0.7,\"#b8e186\"],[0.8,\"#7fbc41\"],[0.9,\"#4d9221\"],[1,\"#276419\"]]},\"xaxis\":{\"gridcolor\":\"white\",\"linecolor\":\"white\",\"ticks\":\"\",\"title\":{\"standoff\":15},\"zerolinecolor\":\"white\",\"automargin\":true,\"zerolinewidth\":2},\"yaxis\":{\"gridcolor\":\"white\",\"linecolor\":\"white\",\"ticks\":\"\",\"title\":{\"standoff\":15},\"zerolinecolor\":\"white\",\"automargin\":true,\"zerolinewidth\":2},\"scene\":{\"xaxis\":{\"backgroundcolor\":\"#E5ECF6\",\"gridcolor\":\"white\",\"linecolor\":\"white\",\"showbackground\":true,\"ticks\":\"\",\"zerolinecolor\":\"white\",\"gridwidth\":2},\"yaxis\":{\"backgroundcolor\":\"#E5ECF6\",\"gridcolor\":\"white\",\"linecolor\":\"white\",\"showbackground\":true,\"ticks\":\"\",\"zerolinecolor\":\"white\",\"gridwidth\":2},\"zaxis\":{\"backgroundcolor\":\"#E5ECF6\",\"gridcolor\":\"white\",\"linecolor\":\"white\",\"showbackground\":true,\"ticks\":\"\",\"zerolinecolor\":\"white\",\"gridwidth\":2}},\"shapedefaults\":{\"line\":{\"color\":\"#2a3f5f\"}},\"annotationdefaults\":{\"arrowcolor\":\"#2a3f5f\",\"arrowhead\":0,\"arrowwidth\":1},\"geo\":{\"bgcolor\":\"white\",\"landcolor\":\"#E5ECF6\",\"subunitcolor\":\"white\",\"showland\":true,\"showlakes\":true,\"lakecolor\":\"white\"},\"title\":{\"x\":0.05},\"mapbox\":{\"style\":\"light\"}}},\"xaxis\":{\"anchor\":\"y\",\"domain\":[0.0,1.0],\"title\":{\"text\":\"level\"}},\"yaxis\":{\"anchor\":\"x\",\"domain\":[0.0,1.0],\"title\":{\"text\":\"z_scores\"}},\"legend\":{\"title\":{\"text\":\"which\"},\"tracegroupgap\":0},\"margin\":{\"t\":60}},                        {\"responsive\": true}                    ).then(function(){\n                            \nvar gd = document.getElementById('eb0f7f2a-e8db-433f-a329-ae2b5f3b79e5');\nvar x = new MutationObserver(function (mutations, observer) {{\n        var display = window.getComputedStyle(gd).display;\n        if (!display || display === 'none') {{\n            console.log([gd, 'removed!']);\n            Plotly.purge(gd);\n            observer.disconnect();\n        }}\n}});\n\n// Listen for the removal of the full notebook cells\nvar notebookContainer = gd.closest('#notebook-container');\nif (notebookContainer) {{\n    x.observe(notebookContainer, {childList: true});\n}}\n\n// Listen for the clearing of the current output cell\nvar outputEl = gd.closest('.output');\nif (outputEl) {{\n    x.observe(outputEl, {childList: true});\n}}\n\n                        })                };                });            </script>        </div>"
     },
     "metadata": {},
     "output_type": "display_data"
    }
   ],
   "source": [
    "fig = px.scatter(clean, x=\"level\", y=\"z_scores\", color=\"which\", hover_data=['sub_name', 'height'])\n",
    "fig.show()"
   ],
   "metadata": {
    "collapsed": false,
    "ExecuteTime": {
     "end_time": "2023-07-31T22:53:07.282691Z",
     "start_time": "2023-07-31T22:53:07.233064Z"
    }
   }
  },
  {
   "cell_type": "code",
   "execution_count": 280,
   "outputs": [
    {
     "data": {
      "text/plain": "     level        sub_name  spinal_start  spinal_end     height  \\\n0        2  14493_008_0000           NaN         NaN        NaN   \n1        3  14493_008_0000         352.0       358.0   2.343600   \n2        4  14493_008_0000           NaN         NaN        NaN   \n3        5  14493_008_0000           NaN         NaN        NaN   \n4        6  14493_008_0000           NaN         NaN        NaN   \n..     ...             ...           ...         ...        ...   \n319      8    generated_XX           0.0         1.0   9.752410   \n320      8    generated_XX           0.0         1.0   8.875212   \n321      8    generated_XX           0.0         1.0  10.093685   \n322      8    generated_XX           0.0         1.0   8.528886   \n323      8    generated_XX           0.0         1.0   9.763876   \n\n     vertebrae_start  vertebrae_end      which  z_scores  \n0                  0              1       pred       NaN  \n1                  0              1       pred  -0.28302  \n2                  0              1       pred       NaN  \n3                  0              1       pred       NaN  \n4                  0              1       pred       NaN  \n..               ...            ...        ...       ...  \n319                0              1  generated   0.00000  \n320                0              1  generated   0.00000  \n321                0              1  generated   0.00000  \n322                0              1  generated   0.00000  \n323                0              1  generated   0.00000  \n\n[324 rows x 9 columns]",
      "text/html": "<div>\n<style scoped>\n    .dataframe tbody tr th:only-of-type {\n        vertical-align: middle;\n    }\n\n    .dataframe tbody tr th {\n        vertical-align: top;\n    }\n\n    .dataframe thead th {\n        text-align: right;\n    }\n</style>\n<table border=\"1\" class=\"dataframe\">\n  <thead>\n    <tr style=\"text-align: right;\">\n      <th></th>\n      <th>level</th>\n      <th>sub_name</th>\n      <th>spinal_start</th>\n      <th>spinal_end</th>\n      <th>height</th>\n      <th>vertebrae_start</th>\n      <th>vertebrae_end</th>\n      <th>which</th>\n      <th>z_scores</th>\n    </tr>\n  </thead>\n  <tbody>\n    <tr>\n      <th>0</th>\n      <td>2</td>\n      <td>14493_008_0000</td>\n      <td>NaN</td>\n      <td>NaN</td>\n      <td>NaN</td>\n      <td>0</td>\n      <td>1</td>\n      <td>pred</td>\n      <td>NaN</td>\n    </tr>\n    <tr>\n      <th>1</th>\n      <td>3</td>\n      <td>14493_008_0000</td>\n      <td>352.0</td>\n      <td>358.0</td>\n      <td>2.343600</td>\n      <td>0</td>\n      <td>1</td>\n      <td>pred</td>\n      <td>-0.28302</td>\n    </tr>\n    <tr>\n      <th>2</th>\n      <td>4</td>\n      <td>14493_008_0000</td>\n      <td>NaN</td>\n      <td>NaN</td>\n      <td>NaN</td>\n      <td>0</td>\n      <td>1</td>\n      <td>pred</td>\n      <td>NaN</td>\n    </tr>\n    <tr>\n      <th>3</th>\n      <td>5</td>\n      <td>14493_008_0000</td>\n      <td>NaN</td>\n      <td>NaN</td>\n      <td>NaN</td>\n      <td>0</td>\n      <td>1</td>\n      <td>pred</td>\n      <td>NaN</td>\n    </tr>\n    <tr>\n      <th>4</th>\n      <td>6</td>\n      <td>14493_008_0000</td>\n      <td>NaN</td>\n      <td>NaN</td>\n      <td>NaN</td>\n      <td>0</td>\n      <td>1</td>\n      <td>pred</td>\n      <td>NaN</td>\n    </tr>\n    <tr>\n      <th>...</th>\n      <td>...</td>\n      <td>...</td>\n      <td>...</td>\n      <td>...</td>\n      <td>...</td>\n      <td>...</td>\n      <td>...</td>\n      <td>...</td>\n      <td>...</td>\n    </tr>\n    <tr>\n      <th>319</th>\n      <td>8</td>\n      <td>generated_XX</td>\n      <td>0.0</td>\n      <td>1.0</td>\n      <td>9.752410</td>\n      <td>0</td>\n      <td>1</td>\n      <td>generated</td>\n      <td>0.00000</td>\n    </tr>\n    <tr>\n      <th>320</th>\n      <td>8</td>\n      <td>generated_XX</td>\n      <td>0.0</td>\n      <td>1.0</td>\n      <td>8.875212</td>\n      <td>0</td>\n      <td>1</td>\n      <td>generated</td>\n      <td>0.00000</td>\n    </tr>\n    <tr>\n      <th>321</th>\n      <td>8</td>\n      <td>generated_XX</td>\n      <td>0.0</td>\n      <td>1.0</td>\n      <td>10.093685</td>\n      <td>0</td>\n      <td>1</td>\n      <td>generated</td>\n      <td>0.00000</td>\n    </tr>\n    <tr>\n      <th>322</th>\n      <td>8</td>\n      <td>generated_XX</td>\n      <td>0.0</td>\n      <td>1.0</td>\n      <td>8.528886</td>\n      <td>0</td>\n      <td>1</td>\n      <td>generated</td>\n      <td>0.00000</td>\n    </tr>\n    <tr>\n      <th>323</th>\n      <td>8</td>\n      <td>generated_XX</td>\n      <td>0.0</td>\n      <td>1.0</td>\n      <td>9.763876</td>\n      <td>0</td>\n      <td>1</td>\n      <td>generated</td>\n      <td>0.00000</td>\n    </tr>\n  </tbody>\n</table>\n<p>324 rows × 9 columns</p>\n</div>"
     },
     "metadata": {},
     "output_type": "display_data"
    },
    {
     "data": {
      "application/vnd.plotly.v1+json": {
       "data": [
        {
         "alignmentgroup": "True",
         "box": {
          "visible": true
         },
         "customdata": [
          [
           "14493_008_0000",
           "pred"
          ],
          [
           "14493_008_0000",
           "pred"
          ],
          [
           "14493_008_0000",
           "pred"
          ],
          [
           "14493_008_0000",
           "pred"
          ],
          [
           "14493_008_0000",
           "pred"
          ],
          [
           "14493_008_0000",
           "pred"
          ],
          [
           "14493_008_0000",
           "pred"
          ],
          [
           "14493_008_0000",
           "pred"
          ],
          [
           "14493_008_0000",
           "pred"
          ],
          [
           "14493_008_0000",
           "pred"
          ],
          [
           "14492_007_0000",
           "pred"
          ],
          [
           "14492_007_0000",
           "pred"
          ],
          [
           "14492_007_0000",
           "pred"
          ],
          [
           "14492_007_0000",
           "pred"
          ],
          [
           "14492_007_0000",
           "pred"
          ],
          [
           "14492_007_0000",
           "pred"
          ],
          [
           "14492_007_0000",
           "pred"
          ],
          [
           "14492_007_0000",
           "pred"
          ],
          [
           "14492_007_0000",
           "pred"
          ],
          [
           "14492_007_0000",
           "pred"
          ],
          [
           "14350_011_0000",
           "pred"
          ],
          [
           "14350_011_0000",
           "pred"
          ],
          [
           "14350_011_0000",
           "pred"
          ],
          [
           "14350_011_0000",
           "pred"
          ],
          [
           "14350_011_0000",
           "pred"
          ],
          [
           "14350_011_0000",
           "pred"
          ],
          [
           "14350_011_0000",
           "pred"
          ],
          [
           "14350_011_0000",
           "pred"
          ],
          [
           "14350_011_0000",
           "pred"
          ],
          [
           "14350_011_0000",
           "pred"
          ],
          [
           "14411_013_0000",
           "pred"
          ],
          [
           "14411_013_0000",
           "pred"
          ],
          [
           "14411_013_0000",
           "pred"
          ],
          [
           "14411_013_0000",
           "pred"
          ],
          [
           "14411_013_0000",
           "pred"
          ],
          [
           "14411_013_0000",
           "pred"
          ],
          [
           "14411_013_0000",
           "pred"
          ],
          [
           "14411_013_0000",
           "pred"
          ],
          [
           "14411_013_0000",
           "pred"
          ],
          [
           "14411_013_0000",
           "pred"
          ],
          [
           "13746_012_0000",
           "pred"
          ],
          [
           "13746_012_0000",
           "pred"
          ],
          [
           "13746_012_0000",
           "pred"
          ],
          [
           "13746_012_0000",
           "pred"
          ],
          [
           "13746_012_0000",
           "pred"
          ],
          [
           "13746_012_0000",
           "pred"
          ],
          [
           "13746_012_0000",
           "pred"
          ],
          [
           "13746_012_0000",
           "pred"
          ],
          [
           "13746_012_0000",
           "pred"
          ],
          [
           "13757_004_0000",
           "pred"
          ],
          [
           "13757_004_0000",
           "pred"
          ],
          [
           "13757_004_0000",
           "pred"
          ],
          [
           "13757_004_0000",
           "pred"
          ],
          [
           "13757_004_0000",
           "pred"
          ],
          [
           "13757_004_0000",
           "pred"
          ],
          [
           "13757_004_0000",
           "pred"
          ],
          [
           "13757_004_0000",
           "pred"
          ],
          [
           "13757_004_0000",
           "pred"
          ],
          [
           "13757_004_0000",
           "pred"
          ],
          [
           "14348_003_0000",
           "pred"
          ],
          [
           "14348_003_0000",
           "pred"
          ],
          [
           "14348_003_0000",
           "pred"
          ],
          [
           "14348_003_0000",
           "pred"
          ],
          [
           "14348_003_0000",
           "pred"
          ],
          [
           "14348_003_0000",
           "pred"
          ],
          [
           "14348_003_0000",
           "pred"
          ],
          [
           "14348_003_0000",
           "pred"
          ],
          [
           "14348_003_0000",
           "pred"
          ],
          [
           "14348_003_0000",
           "pred"
          ],
          [
           "13755_009_0000",
           "pred"
          ],
          [
           "13755_009_0000",
           "pred"
          ],
          [
           "13755_009_0000",
           "pred"
          ],
          [
           "13755_009_0000",
           "pred"
          ],
          [
           "13755_009_0000",
           "pred"
          ],
          [
           "13755_009_0000",
           "pred"
          ],
          [
           "13755_009_0000",
           "pred"
          ],
          [
           "13755_009_0000",
           "pred"
          ],
          [
           "13755_009_0000",
           "pred"
          ],
          [
           "13755_009_0000",
           "pred"
          ],
          [
           "13747_010_0000",
           "pred"
          ],
          [
           "13747_010_0000",
           "pred"
          ],
          [
           "13747_010_0000",
           "pred"
          ],
          [
           "13747_010_0000",
           "pred"
          ],
          [
           "13747_010_0000",
           "pred"
          ],
          [
           "13747_010_0000",
           "pred"
          ],
          [
           "13747_010_0000",
           "pred"
          ],
          [
           "13747_010_0000",
           "pred"
          ],
          [
           "13747_010_0000",
           "pred"
          ],
          [
           "13747_010_0000",
           "pred"
          ],
          [
           "14693_002_0000",
           "pred"
          ],
          [
           "14693_002_0000",
           "pred"
          ],
          [
           "14693_002_0000",
           "pred"
          ],
          [
           "14693_002_0000",
           "pred"
          ],
          [
           "14693_002_0000",
           "pred"
          ],
          [
           "14693_002_0000",
           "pred"
          ],
          [
           "14693_002_0000",
           "pred"
          ],
          [
           "14693_002_0000",
           "pred"
          ],
          [
           "14693_002_0000",
           "pred"
          ],
          [
           "14406_001_0000",
           "pred"
          ],
          [
           "14406_001_0000",
           "pred"
          ],
          [
           "14406_001_0000",
           "pred"
          ],
          [
           "14406_001_0000",
           "pred"
          ],
          [
           "14406_001_0000",
           "pred"
          ],
          [
           "14406_001_0000",
           "pred"
          ],
          [
           "14406_001_0000",
           "pred"
          ],
          [
           "14406_001_0000",
           "pred"
          ],
          [
           "14406_001_0000",
           "pred"
          ],
          [
           "14406_001_0000",
           "pred"
          ],
          [
           "13697_005_0000",
           "pred"
          ],
          [
           "13697_005_0000",
           "pred"
          ],
          [
           "13697_005_0000",
           "pred"
          ],
          [
           "13697_005_0000",
           "pred"
          ],
          [
           "13697_005_0000",
           "pred"
          ],
          [
           "13697_005_0000",
           "pred"
          ],
          [
           "13697_005_0000",
           "pred"
          ],
          [
           "13697_005_0000",
           "pred"
          ],
          [
           "13697_005_0000",
           "pred"
          ],
          [
           "13697_005_0000",
           "pred"
          ],
          [
           "13696_006_0000",
           "pred"
          ],
          [
           "13696_006_0000",
           "pred"
          ],
          [
           "13696_006_0000",
           "pred"
          ],
          [
           "13696_006_0000",
           "pred"
          ],
          [
           "13696_006_0000",
           "pred"
          ],
          [
           "13696_006_0000",
           "pred"
          ],
          [
           "13696_006_0000",
           "pred"
          ],
          [
           "13696_006_0000",
           "pred"
          ],
          [
           "13696_006_0000",
           "pred"
          ],
          [
           "13696_006_0000",
           "pred"
          ],
          [
           "14407_000_0000",
           "pred"
          ],
          [
           "14407_000_0000",
           "pred"
          ],
          [
           "14407_000_0000",
           "pred"
          ],
          [
           "14407_000_0000",
           "pred"
          ],
          [
           "14407_000_0000",
           "pred"
          ],
          [
           "14407_000_0000",
           "pred"
          ],
          [
           "14407_000_0000",
           "pred"
          ],
          [
           "14407_000_0000",
           "pred"
          ],
          [
           "14407_000_0000",
           "pred"
          ],
          [
           "14407_000_0000",
           "pred"
          ]
         ],
         "hovertemplate": "which=%{customdata[1]}<br>level=%{x}<br>height=%{y}<br>sub_name=%{customdata[0]}<extra></extra>",
         "legendgroup": "pred",
         "marker": {
          "color": "#636efa"
         },
         "name": "pred",
         "offsetgroup": "pred",
         "orientation": "v",
         "points": "all",
         "scalegroup": "True",
         "showlegend": true,
         "x": [
          2,
          3,
          4,
          5,
          6,
          7,
          8,
          9,
          10,
          11,
          2,
          3,
          4,
          5,
          6,
          7,
          8,
          9,
          10,
          11,
          2,
          3,
          4,
          5,
          6,
          7,
          8,
          9,
          10,
          11,
          2,
          3,
          4,
          5,
          6,
          7,
          8,
          9,
          10,
          11,
          2,
          3,
          4,
          5,
          6,
          7,
          8,
          10,
          11,
          2,
          3,
          4,
          5,
          6,
          7,
          8,
          9,
          10,
          11,
          2,
          3,
          4,
          5,
          6,
          7,
          8,
          9,
          10,
          11,
          2,
          3,
          4,
          5,
          6,
          7,
          8,
          9,
          10,
          11,
          2,
          3,
          4,
          5,
          6,
          7,
          8,
          9,
          10,
          11,
          2,
          4,
          5,
          6,
          7,
          8,
          9,
          10,
          11,
          2,
          3,
          4,
          5,
          6,
          7,
          8,
          9,
          10,
          11,
          2,
          3,
          4,
          5,
          6,
          7,
          8,
          9,
          10,
          11,
          2,
          3,
          4,
          5,
          6,
          7,
          8,
          9,
          10,
          11,
          2,
          3,
          4,
          5,
          6,
          7,
          8,
          9,
          10,
          11
         ],
         "x0": " ",
         "xaxis": "x",
         "y": [
          null,
          2.3435996174812317,
          null,
          null,
          null,
          null,
          null,
          null,
          null,
          null,
          null,
          0.7812002897262573,
          null,
          null,
          null,
          null,
          null,
          null,
          null,
          null,
          null,
          1.5624005794525146,
          null,
          0.0,
          null,
          3.515401303768158,
          null,
          null,
          null,
          null,
          3.1247997283935547,
          5.077799558639526,
          null,
          null,
          null,
          null,
          4.296599626541138,
          null,
          null,
          null,
          null,
          1.1718002557754517,
          null,
          null,
          null,
          null,
          2.3436005115509033,
          null,
          null,
          1.5624001026153564,
          0.7812000513076782,
          null,
          null,
          null,
          null,
          null,
          null,
          null,
          null,
          null,
          null,
          null,
          null,
          null,
          null,
          null,
          null,
          null,
          null,
          null,
          null,
          null,
          null,
          null,
          2.734199970960617,
          3.5153999626636505,
          null,
          null,
          null,
          null,
          8.593198597431183,
          null,
          null,
          null,
          null,
          null,
          null,
          null,
          null,
          2.3436010479927063,
          0.0,
          null,
          null,
          null,
          null,
          null,
          null,
          null,
          null,
          7.811997532844544,
          null,
          null,
          null,
          null,
          null,
          null,
          null,
          null,
          4.296599626541138,
          null,
          null,
          null,
          null,
          null,
          null,
          null,
          null,
          null,
          null,
          3.1247994899749756,
          0.0,
          null,
          null,
          null,
          null,
          null,
          null,
          null,
          null,
          null,
          4.2966019213199615,
          0.0,
          5.077802270650864,
          0.390600174665451,
          null,
          0.0,
          null,
          null
         ],
         "y0": " ",
         "yaxis": "y",
         "type": "violin"
        },
        {
         "alignmentgroup": "True",
         "box": {
          "visible": true
         },
         "customdata": [
          [
           "generated_XX",
           "generated"
          ],
          [
           "generated_XX",
           "generated"
          ],
          [
           "generated_XX",
           "generated"
          ],
          [
           "generated_XX",
           "generated"
          ],
          [
           "generated_XX",
           "generated"
          ],
          [
           "generated_XX",
           "generated"
          ],
          [
           "generated_XX",
           "generated"
          ],
          [
           "generated_XX",
           "generated"
          ],
          [
           "generated_XX",
           "generated"
          ],
          [
           "generated_XX",
           "generated"
          ],
          [
           "generated_XX",
           "generated"
          ],
          [
           "generated_XX",
           "generated"
          ],
          [
           "generated_XX",
           "generated"
          ],
          [
           "generated_XX",
           "generated"
          ],
          [
           "generated_XX",
           "generated"
          ],
          [
           "generated_XX",
           "generated"
          ],
          [
           "generated_XX",
           "generated"
          ],
          [
           "generated_XX",
           "generated"
          ],
          [
           "generated_XX",
           "generated"
          ],
          [
           "generated_XX",
           "generated"
          ],
          [
           "generated_XX",
           "generated"
          ],
          [
           "generated_XX",
           "generated"
          ],
          [
           "generated_XX",
           "generated"
          ],
          [
           "generated_XX",
           "generated"
          ],
          [
           "generated_XX",
           "generated"
          ],
          [
           "generated_XX",
           "generated"
          ],
          [
           "generated_XX",
           "generated"
          ],
          [
           "generated_XX",
           "generated"
          ],
          [
           "generated_XX",
           "generated"
          ],
          [
           "generated_XX",
           "generated"
          ],
          [
           "generated_XX",
           "generated"
          ],
          [
           "generated_XX",
           "generated"
          ],
          [
           "generated_XX",
           "generated"
          ],
          [
           "generated_XX",
           "generated"
          ],
          [
           "generated_XX",
           "generated"
          ],
          [
           "generated_XX",
           "generated"
          ],
          [
           "generated_XX",
           "generated"
          ],
          [
           "generated_XX",
           "generated"
          ],
          [
           "generated_XX",
           "generated"
          ],
          [
           "generated_XX",
           "generated"
          ],
          [
           "generated_XX",
           "generated"
          ],
          [
           "generated_XX",
           "generated"
          ],
          [
           "generated_XX",
           "generated"
          ],
          [
           "generated_XX",
           "generated"
          ],
          [
           "generated_XX",
           "generated"
          ],
          [
           "generated_XX",
           "generated"
          ],
          [
           "generated_XX",
           "generated"
          ],
          [
           "generated_XX",
           "generated"
          ],
          [
           "generated_XX",
           "generated"
          ],
          [
           "generated_XX",
           "generated"
          ],
          [
           "generated_XX",
           "generated"
          ],
          [
           "generated_XX",
           "generated"
          ],
          [
           "generated_XX",
           "generated"
          ],
          [
           "generated_XX",
           "generated"
          ],
          [
           "generated_XX",
           "generated"
          ],
          [
           "generated_XX",
           "generated"
          ],
          [
           "generated_XX",
           "generated"
          ],
          [
           "generated_XX",
           "generated"
          ],
          [
           "generated_XX",
           "generated"
          ],
          [
           "generated_XX",
           "generated"
          ],
          [
           "generated_XX",
           "generated"
          ],
          [
           "generated_XX",
           "generated"
          ],
          [
           "generated_XX",
           "generated"
          ],
          [
           "generated_XX",
           "generated"
          ],
          [
           "generated_XX",
           "generated"
          ],
          [
           "generated_XX",
           "generated"
          ],
          [
           "generated_XX",
           "generated"
          ],
          [
           "generated_XX",
           "generated"
          ],
          [
           "generated_XX",
           "generated"
          ],
          [
           "generated_XX",
           "generated"
          ],
          [
           "generated_XX",
           "generated"
          ],
          [
           "generated_XX",
           "generated"
          ],
          [
           "generated_XX",
           "generated"
          ],
          [
           "generated_XX",
           "generated"
          ],
          [
           "generated_XX",
           "generated"
          ],
          [
           "generated_XX",
           "generated"
          ],
          [
           "generated_XX",
           "generated"
          ],
          [
           "generated_XX",
           "generated"
          ],
          [
           "generated_XX",
           "generated"
          ],
          [
           "generated_XX",
           "generated"
          ],
          [
           "generated_XX",
           "generated"
          ],
          [
           "generated_XX",
           "generated"
          ],
          [
           "generated_XX",
           "generated"
          ],
          [
           "generated_XX",
           "generated"
          ],
          [
           "generated_XX",
           "generated"
          ],
          [
           "generated_XX",
           "generated"
          ],
          [
           "generated_XX",
           "generated"
          ],
          [
           "generated_XX",
           "generated"
          ],
          [
           "generated_XX",
           "generated"
          ],
          [
           "generated_XX",
           "generated"
          ],
          [
           "generated_XX",
           "generated"
          ],
          [
           "generated_XX",
           "generated"
          ],
          [
           "generated_XX",
           "generated"
          ],
          [
           "generated_XX",
           "generated"
          ],
          [
           "generated_XX",
           "generated"
          ],
          [
           "generated_XX",
           "generated"
          ],
          [
           "generated_XX",
           "generated"
          ],
          [
           "generated_XX",
           "generated"
          ],
          [
           "generated_XX",
           "generated"
          ],
          [
           "generated_XX",
           "generated"
          ],
          [
           "generated_XX",
           "generated"
          ],
          [
           "generated_XX",
           "generated"
          ],
          [
           "generated_XX",
           "generated"
          ],
          [
           "generated_XX",
           "generated"
          ],
          [
           "generated_XX",
           "generated"
          ],
          [
           "generated_XX",
           "generated"
          ],
          [
           "generated_XX",
           "generated"
          ],
          [
           "generated_XX",
           "generated"
          ],
          [
           "generated_XX",
           "generated"
          ],
          [
           "generated_XX",
           "generated"
          ],
          [
           "generated_XX",
           "generated"
          ],
          [
           "generated_XX",
           "generated"
          ],
          [
           "generated_XX",
           "generated"
          ],
          [
           "generated_XX",
           "generated"
          ],
          [
           "generated_XX",
           "generated"
          ],
          [
           "generated_XX",
           "generated"
          ],
          [
           "generated_XX",
           "generated"
          ],
          [
           "generated_XX",
           "generated"
          ],
          [
           "generated_XX",
           "generated"
          ],
          [
           "generated_XX",
           "generated"
          ],
          [
           "generated_XX",
           "generated"
          ],
          [
           "generated_XX",
           "generated"
          ],
          [
           "generated_XX",
           "generated"
          ],
          [
           "generated_XX",
           "generated"
          ],
          [
           "generated_XX",
           "generated"
          ],
          [
           "generated_XX",
           "generated"
          ],
          [
           "generated_XX",
           "generated"
          ],
          [
           "generated_XX",
           "generated"
          ],
          [
           "generated_XX",
           "generated"
          ],
          [
           "generated_XX",
           "generated"
          ],
          [
           "generated_XX",
           "generated"
          ],
          [
           "generated_XX",
           "generated"
          ],
          [
           "generated_XX",
           "generated"
          ],
          [
           "generated_XX",
           "generated"
          ],
          [
           "generated_XX",
           "generated"
          ],
          [
           "generated_XX",
           "generated"
          ],
          [
           "generated_XX",
           "generated"
          ],
          [
           "generated_XX",
           "generated"
          ],
          [
           "generated_XX",
           "generated"
          ],
          [
           "generated_XX",
           "generated"
          ],
          [
           "generated_XX",
           "generated"
          ],
          [
           "generated_XX",
           "generated"
          ],
          [
           "generated_XX",
           "generated"
          ],
          [
           "generated_XX",
           "generated"
          ],
          [
           "generated_XX",
           "generated"
          ],
          [
           "generated_XX",
           "generated"
          ],
          [
           "generated_XX",
           "generated"
          ],
          [
           "generated_XX",
           "generated"
          ],
          [
           "generated_XX",
           "generated"
          ],
          [
           "generated_XX",
           "generated"
          ],
          [
           "generated_XX",
           "generated"
          ],
          [
           "generated_XX",
           "generated"
          ],
          [
           "generated_XX",
           "generated"
          ],
          [
           "generated_XX",
           "generated"
          ],
          [
           "generated_XX",
           "generated"
          ],
          [
           "generated_XX",
           "generated"
          ],
          [
           "generated_XX",
           "generated"
          ],
          [
           "generated_XX",
           "generated"
          ],
          [
           "generated_XX",
           "generated"
          ],
          [
           "generated_XX",
           "generated"
          ],
          [
           "generated_XX",
           "generated"
          ],
          [
           "generated_XX",
           "generated"
          ],
          [
           "generated_XX",
           "generated"
          ],
          [
           "generated_XX",
           "generated"
          ],
          [
           "generated_XX",
           "generated"
          ],
          [
           "generated_XX",
           "generated"
          ],
          [
           "generated_XX",
           "generated"
          ],
          [
           "generated_XX",
           "generated"
          ],
          [
           "generated_XX",
           "generated"
          ],
          [
           "generated_XX",
           "generated"
          ],
          [
           "generated_XX",
           "generated"
          ],
          [
           "generated_XX",
           "generated"
          ],
          [
           "generated_XX",
           "generated"
          ],
          [
           "generated_XX",
           "generated"
          ],
          [
           "generated_XX",
           "generated"
          ],
          [
           "generated_XX",
           "generated"
          ],
          [
           "generated_XX",
           "generated"
          ],
          [
           "generated_XX",
           "generated"
          ],
          [
           "generated_XX",
           "generated"
          ],
          [
           "generated_XX",
           "generated"
          ],
          [
           "generated_XX",
           "generated"
          ],
          [
           "generated_XX",
           "generated"
          ],
          [
           "generated_XX",
           "generated"
          ],
          [
           "generated_XX",
           "generated"
          ],
          [
           "generated_XX",
           "generated"
          ],
          [
           "generated_XX",
           "generated"
          ]
         ],
         "hovertemplate": "which=%{customdata[1]}<br>level=%{x}<br>height=%{y}<br>sub_name=%{customdata[0]}<extra></extra>",
         "legendgroup": "generated",
         "marker": {
          "color": "#EF553B"
         },
         "name": "generated",
         "offsetgroup": "generated",
         "orientation": "v",
         "points": "all",
         "scalegroup": "True",
         "showlegend": true,
         "x": [
          3,
          3,
          3,
          3,
          3,
          3,
          3,
          3,
          3,
          3,
          3,
          3,
          3,
          3,
          3,
          3,
          3,
          3,
          3,
          3,
          3,
          3,
          3,
          3,
          3,
          3,
          3,
          3,
          3,
          3,
          3,
          4,
          4,
          4,
          4,
          4,
          4,
          4,
          4,
          4,
          4,
          4,
          4,
          4,
          4,
          4,
          4,
          4,
          4,
          4,
          4,
          4,
          4,
          4,
          4,
          4,
          4,
          4,
          4,
          4,
          4,
          4,
          5,
          5,
          5,
          5,
          5,
          5,
          5,
          5,
          5,
          5,
          5,
          5,
          5,
          5,
          5,
          5,
          5,
          5,
          5,
          5,
          5,
          5,
          5,
          5,
          5,
          5,
          5,
          5,
          5,
          5,
          5,
          6,
          6,
          6,
          6,
          6,
          6,
          6,
          6,
          6,
          6,
          6,
          6,
          6,
          6,
          6,
          6,
          6,
          6,
          6,
          6,
          6,
          6,
          6,
          6,
          6,
          6,
          6,
          6,
          6,
          6,
          6,
          7,
          7,
          7,
          7,
          7,
          7,
          7,
          7,
          7,
          7,
          7,
          7,
          7,
          7,
          7,
          7,
          7,
          7,
          7,
          7,
          7,
          7,
          7,
          7,
          7,
          7,
          7,
          7,
          7,
          7,
          7,
          8,
          8,
          8,
          8,
          8,
          8,
          8,
          8,
          8,
          8,
          8,
          8,
          8,
          8,
          8,
          8,
          8,
          8,
          8,
          8,
          8,
          8,
          8,
          8,
          8,
          8,
          8,
          8,
          8,
          8,
          8
         ],
         "x0": " ",
         "xaxis": "x",
         "y": [
          6.9592783035289685,
          9.45628192445453,
          12.848871010552012,
          14.721062701060774,
          11.391941989667329,
          9.855680003829859,
          11.899646904887065,
          10.894641277161742,
          8.77543001893666,
          5.6638856120549095,
          8.086577010065817,
          10.610657630866738,
          12.020082934217463,
          15.332324980058928,
          12.25883330028504,
          9.625685244255092,
          9.332374379817713,
          6.014079154494867,
          9.789382747610293,
          13.376152836065371,
          10.764400620352331,
          8.486064748290364,
          8.141212698156027,
          10.013595976698063,
          11.12364601680778,
          13.358688466304743,
          7.360847326532273,
          9.594928270224447,
          13.989987777338465,
          9.249319632742104,
          9.147409516970402,
          10.697213164025099,
          8.045708701958679,
          9.613960553981956,
          12.148393569495642,
          10.173920746915218,
          8.544138146926286,
          10.95134584465242,
          9.531407875982765,
          10.436407316277577,
          9.779280557461192,
          8.893234105445009,
          8.700761062133685,
          8.487694995181842,
          10.98507947839115,
          10.319013518703747,
          9.802295505765773,
          10.460639767526512,
          5.533567837400772,
          11.910842398142636,
          10.75905532896531,
          7.722165957448019,
          12.984109705849777,
          10.446605338933065,
          10.615686540431978,
          10.194593174317447,
          11.141488928870505,
          12.779295149550887,
          8.536137456431844,
          10.787855386977276,
          7.462754880497055,
          7.9031224989001405,
          9.61839073316562,
          11.077356534416133,
          8.512341955135852,
          11.259410768959961,
          15.808555615172208,
          11.626874374277692,
          5.30539097752977,
          10.035906059866626,
          11.190906815877877,
          11.986763985045284,
          10.86410629352485,
          13.543121475095449,
          10.814381136946011,
          11.140333780116608,
          10.391718144893002,
          10.62775084297998,
          12.120391205996984,
          9.111753954733137,
          7.31277410505036,
          8.56413569520582,
          9.40780020464859,
          11.10711764372041,
          10.413766442290921,
          12.201565322723198,
          11.005507672082356,
          9.198174227808202,
          7.532861451436763,
          10.49934832037388,
          15.008113919587647,
          12.71026239423546,
          7.818003247001664,
          11.378267964754475,
          10.54383374494917,
          10.191760575397705,
          9.166606530922147,
          10.763506954613627,
          11.4262934897978,
          5.980283987161429,
          12.470509520354478,
          7.775570557976921,
          9.148751242425616,
          7.207885090309548,
          9.037516837412783,
          8.729504247507128,
          9.968919790727252,
          9.349551260118185,
          6.6442086439422186,
          7.548492832715939,
          10.677128762636709,
          7.4807224980354965,
          8.17943953939065,
          8.154757635672057,
          8.358238578810544,
          11.117761735622764,
          9.449091025276733,
          10.212427850019761,
          9.044672667576497,
          7.594354512013356,
          10.380004234643653,
          7.009215279005768,
          9.516787831675458,
          8.082274750140977,
          7.02153978524099,
          10.346151045307451,
          8.378928306471872,
          9.407800660917673,
          10.658061257722297,
          8.370250578585617,
          10.749955441025874,
          6.363051680504005,
          9.553402834542165,
          10.660445700457704,
          9.638475453524626,
          11.691736326460825,
          13.722182757224019,
          12.073883394534427,
          8.944125773556141,
          9.986013603007036,
          9.654864212354155,
          9.959786715078508,
          11.42014508488097,
          8.63822565073351,
          10.805800421594046,
          10.941549473041205,
          10.280192103263202,
          10.356881878893173,
          10.35288360092942,
          9.841638533434708,
          8.999907126607159,
          8.39771567933949,
          6.888614595500283,
          10.404848504572694,
          9.99493552013546,
          8.0776399784788,
          11.765065687843908,
          10.911134743246375,
          11.541399832319417,
          9.202263851981655,
          9.643365022494454,
          7.687467440690324,
          10.139762526453035,
          10.962883689665425,
          9.28076166575198,
          9.999214100025176,
          10.323924335545014,
          7.217557177952702,
          7.687949806777777,
          10.775033401377016,
          8.476223509853682,
          8.98317549884343,
          7.761926137150409,
          9.068529193284904,
          8.428194557255077,
          10.138337358049105,
          10.318911031504827,
          10.693357784977808,
          8.850396547386438,
          11.981892604334215,
          9.170715205071703,
          9.752410392808414,
          8.875212313031518,
          10.093684952639315,
          8.528885610818556,
          9.763875844528137
         ],
         "y0": " ",
         "yaxis": "y",
         "type": "violin"
        }
       ],
       "layout": {
        "template": {
         "data": {
          "histogram2dcontour": [
           {
            "type": "histogram2dcontour",
            "colorbar": {
             "outlinewidth": 0,
             "ticks": ""
            },
            "colorscale": [
             [
              0.0,
              "#0d0887"
             ],
             [
              0.1111111111111111,
              "#46039f"
             ],
             [
              0.2222222222222222,
              "#7201a8"
             ],
             [
              0.3333333333333333,
              "#9c179e"
             ],
             [
              0.4444444444444444,
              "#bd3786"
             ],
             [
              0.5555555555555556,
              "#d8576b"
             ],
             [
              0.6666666666666666,
              "#ed7953"
             ],
             [
              0.7777777777777778,
              "#fb9f3a"
             ],
             [
              0.8888888888888888,
              "#fdca26"
             ],
             [
              1.0,
              "#f0f921"
             ]
            ]
           }
          ],
          "choropleth": [
           {
            "type": "choropleth",
            "colorbar": {
             "outlinewidth": 0,
             "ticks": ""
            }
           }
          ],
          "histogram2d": [
           {
            "type": "histogram2d",
            "colorbar": {
             "outlinewidth": 0,
             "ticks": ""
            },
            "colorscale": [
             [
              0.0,
              "#0d0887"
             ],
             [
              0.1111111111111111,
              "#46039f"
             ],
             [
              0.2222222222222222,
              "#7201a8"
             ],
             [
              0.3333333333333333,
              "#9c179e"
             ],
             [
              0.4444444444444444,
              "#bd3786"
             ],
             [
              0.5555555555555556,
              "#d8576b"
             ],
             [
              0.6666666666666666,
              "#ed7953"
             ],
             [
              0.7777777777777778,
              "#fb9f3a"
             ],
             [
              0.8888888888888888,
              "#fdca26"
             ],
             [
              1.0,
              "#f0f921"
             ]
            ]
           }
          ],
          "heatmap": [
           {
            "type": "heatmap",
            "colorbar": {
             "outlinewidth": 0,
             "ticks": ""
            },
            "colorscale": [
             [
              0.0,
              "#0d0887"
             ],
             [
              0.1111111111111111,
              "#46039f"
             ],
             [
              0.2222222222222222,
              "#7201a8"
             ],
             [
              0.3333333333333333,
              "#9c179e"
             ],
             [
              0.4444444444444444,
              "#bd3786"
             ],
             [
              0.5555555555555556,
              "#d8576b"
             ],
             [
              0.6666666666666666,
              "#ed7953"
             ],
             [
              0.7777777777777778,
              "#fb9f3a"
             ],
             [
              0.8888888888888888,
              "#fdca26"
             ],
             [
              1.0,
              "#f0f921"
             ]
            ]
           }
          ],
          "heatmapgl": [
           {
            "type": "heatmapgl",
            "colorbar": {
             "outlinewidth": 0,
             "ticks": ""
            },
            "colorscale": [
             [
              0.0,
              "#0d0887"
             ],
             [
              0.1111111111111111,
              "#46039f"
             ],
             [
              0.2222222222222222,
              "#7201a8"
             ],
             [
              0.3333333333333333,
              "#9c179e"
             ],
             [
              0.4444444444444444,
              "#bd3786"
             ],
             [
              0.5555555555555556,
              "#d8576b"
             ],
             [
              0.6666666666666666,
              "#ed7953"
             ],
             [
              0.7777777777777778,
              "#fb9f3a"
             ],
             [
              0.8888888888888888,
              "#fdca26"
             ],
             [
              1.0,
              "#f0f921"
             ]
            ]
           }
          ],
          "contourcarpet": [
           {
            "type": "contourcarpet",
            "colorbar": {
             "outlinewidth": 0,
             "ticks": ""
            }
           }
          ],
          "contour": [
           {
            "type": "contour",
            "colorbar": {
             "outlinewidth": 0,
             "ticks": ""
            },
            "colorscale": [
             [
              0.0,
              "#0d0887"
             ],
             [
              0.1111111111111111,
              "#46039f"
             ],
             [
              0.2222222222222222,
              "#7201a8"
             ],
             [
              0.3333333333333333,
              "#9c179e"
             ],
             [
              0.4444444444444444,
              "#bd3786"
             ],
             [
              0.5555555555555556,
              "#d8576b"
             ],
             [
              0.6666666666666666,
              "#ed7953"
             ],
             [
              0.7777777777777778,
              "#fb9f3a"
             ],
             [
              0.8888888888888888,
              "#fdca26"
             ],
             [
              1.0,
              "#f0f921"
             ]
            ]
           }
          ],
          "surface": [
           {
            "type": "surface",
            "colorbar": {
             "outlinewidth": 0,
             "ticks": ""
            },
            "colorscale": [
             [
              0.0,
              "#0d0887"
             ],
             [
              0.1111111111111111,
              "#46039f"
             ],
             [
              0.2222222222222222,
              "#7201a8"
             ],
             [
              0.3333333333333333,
              "#9c179e"
             ],
             [
              0.4444444444444444,
              "#bd3786"
             ],
             [
              0.5555555555555556,
              "#d8576b"
             ],
             [
              0.6666666666666666,
              "#ed7953"
             ],
             [
              0.7777777777777778,
              "#fb9f3a"
             ],
             [
              0.8888888888888888,
              "#fdca26"
             ],
             [
              1.0,
              "#f0f921"
             ]
            ]
           }
          ],
          "mesh3d": [
           {
            "type": "mesh3d",
            "colorbar": {
             "outlinewidth": 0,
             "ticks": ""
            }
           }
          ],
          "scatter": [
           {
            "marker": {
             "line": {
              "color": "#283442"
             }
            },
            "type": "scatter"
           }
          ],
          "parcoords": [
           {
            "type": "parcoords",
            "line": {
             "colorbar": {
              "outlinewidth": 0,
              "ticks": ""
             }
            }
           }
          ],
          "scatterpolargl": [
           {
            "type": "scatterpolargl",
            "marker": {
             "colorbar": {
              "outlinewidth": 0,
              "ticks": ""
             }
            }
           }
          ],
          "bar": [
           {
            "error_x": {
             "color": "#f2f5fa"
            },
            "error_y": {
             "color": "#f2f5fa"
            },
            "marker": {
             "line": {
              "color": "rgb(17,17,17)",
              "width": 0.5
             },
             "pattern": {
              "fillmode": "overlay",
              "size": 10,
              "solidity": 0.2
             }
            },
            "type": "bar"
           }
          ],
          "scattergeo": [
           {
            "type": "scattergeo",
            "marker": {
             "colorbar": {
              "outlinewidth": 0,
              "ticks": ""
             }
            }
           }
          ],
          "scatterpolar": [
           {
            "type": "scatterpolar",
            "marker": {
             "colorbar": {
              "outlinewidth": 0,
              "ticks": ""
             }
            }
           }
          ],
          "histogram": [
           {
            "marker": {
             "pattern": {
              "fillmode": "overlay",
              "size": 10,
              "solidity": 0.2
             }
            },
            "type": "histogram"
           }
          ],
          "scattergl": [
           {
            "marker": {
             "line": {
              "color": "#283442"
             }
            },
            "type": "scattergl"
           }
          ],
          "scatter3d": [
           {
            "type": "scatter3d",
            "line": {
             "colorbar": {
              "outlinewidth": 0,
              "ticks": ""
             }
            },
            "marker": {
             "colorbar": {
              "outlinewidth": 0,
              "ticks": ""
             }
            }
           }
          ],
          "scattermapbox": [
           {
            "type": "scattermapbox",
            "marker": {
             "colorbar": {
              "outlinewidth": 0,
              "ticks": ""
             }
            }
           }
          ],
          "scatterternary": [
           {
            "type": "scatterternary",
            "marker": {
             "colorbar": {
              "outlinewidth": 0,
              "ticks": ""
             }
            }
           }
          ],
          "scattercarpet": [
           {
            "type": "scattercarpet",
            "marker": {
             "colorbar": {
              "outlinewidth": 0,
              "ticks": ""
             }
            }
           }
          ],
          "carpet": [
           {
            "aaxis": {
             "endlinecolor": "#A2B1C6",
             "gridcolor": "#506784",
             "linecolor": "#506784",
             "minorgridcolor": "#506784",
             "startlinecolor": "#A2B1C6"
            },
            "baxis": {
             "endlinecolor": "#A2B1C6",
             "gridcolor": "#506784",
             "linecolor": "#506784",
             "minorgridcolor": "#506784",
             "startlinecolor": "#A2B1C6"
            },
            "type": "carpet"
           }
          ],
          "table": [
           {
            "cells": {
             "fill": {
              "color": "#506784"
             },
             "line": {
              "color": "rgb(17,17,17)"
             }
            },
            "header": {
             "fill": {
              "color": "#2a3f5f"
             },
             "line": {
              "color": "rgb(17,17,17)"
             }
            },
            "type": "table"
           }
          ],
          "barpolar": [
           {
            "marker": {
             "line": {
              "color": "rgb(17,17,17)",
              "width": 0.5
             },
             "pattern": {
              "fillmode": "overlay",
              "size": 10,
              "solidity": 0.2
             }
            },
            "type": "barpolar"
           }
          ],
          "pie": [
           {
            "automargin": true,
            "type": "pie"
           }
          ]
         },
         "layout": {
          "autotypenumbers": "strict",
          "colorway": [
           "#636efa",
           "#EF553B",
           "#00cc96",
           "#ab63fa",
           "#FFA15A",
           "#19d3f3",
           "#FF6692",
           "#B6E880",
           "#FF97FF",
           "#FECB52"
          ],
          "font": {
           "color": "#f2f5fa"
          },
          "hovermode": "closest",
          "hoverlabel": {
           "align": "left"
          },
          "paper_bgcolor": "rgb(17,17,17)",
          "plot_bgcolor": "rgb(17,17,17)",
          "polar": {
           "bgcolor": "rgb(17,17,17)",
           "angularaxis": {
            "gridcolor": "#506784",
            "linecolor": "#506784",
            "ticks": ""
           },
           "radialaxis": {
            "gridcolor": "#506784",
            "linecolor": "#506784",
            "ticks": ""
           }
          },
          "ternary": {
           "bgcolor": "rgb(17,17,17)",
           "aaxis": {
            "gridcolor": "#506784",
            "linecolor": "#506784",
            "ticks": ""
           },
           "baxis": {
            "gridcolor": "#506784",
            "linecolor": "#506784",
            "ticks": ""
           },
           "caxis": {
            "gridcolor": "#506784",
            "linecolor": "#506784",
            "ticks": ""
           }
          },
          "coloraxis": {
           "colorbar": {
            "outlinewidth": 0,
            "ticks": ""
           }
          },
          "colorscale": {
           "sequential": [
            [
             0.0,
             "#0d0887"
            ],
            [
             0.1111111111111111,
             "#46039f"
            ],
            [
             0.2222222222222222,
             "#7201a8"
            ],
            [
             0.3333333333333333,
             "#9c179e"
            ],
            [
             0.4444444444444444,
             "#bd3786"
            ],
            [
             0.5555555555555556,
             "#d8576b"
            ],
            [
             0.6666666666666666,
             "#ed7953"
            ],
            [
             0.7777777777777778,
             "#fb9f3a"
            ],
            [
             0.8888888888888888,
             "#fdca26"
            ],
            [
             1.0,
             "#f0f921"
            ]
           ],
           "sequentialminus": [
            [
             0.0,
             "#0d0887"
            ],
            [
             0.1111111111111111,
             "#46039f"
            ],
            [
             0.2222222222222222,
             "#7201a8"
            ],
            [
             0.3333333333333333,
             "#9c179e"
            ],
            [
             0.4444444444444444,
             "#bd3786"
            ],
            [
             0.5555555555555556,
             "#d8576b"
            ],
            [
             0.6666666666666666,
             "#ed7953"
            ],
            [
             0.7777777777777778,
             "#fb9f3a"
            ],
            [
             0.8888888888888888,
             "#fdca26"
            ],
            [
             1.0,
             "#f0f921"
            ]
           ],
           "diverging": [
            [
             0,
             "#8e0152"
            ],
            [
             0.1,
             "#c51b7d"
            ],
            [
             0.2,
             "#de77ae"
            ],
            [
             0.3,
             "#f1b6da"
            ],
            [
             0.4,
             "#fde0ef"
            ],
            [
             0.5,
             "#f7f7f7"
            ],
            [
             0.6,
             "#e6f5d0"
            ],
            [
             0.7,
             "#b8e186"
            ],
            [
             0.8,
             "#7fbc41"
            ],
            [
             0.9,
             "#4d9221"
            ],
            [
             1,
             "#276419"
            ]
           ]
          },
          "xaxis": {
           "gridcolor": "#283442",
           "linecolor": "#506784",
           "ticks": "",
           "title": {
            "standoff": 15
           },
           "zerolinecolor": "#283442",
           "automargin": true,
           "zerolinewidth": 2
          },
          "yaxis": {
           "gridcolor": "#283442",
           "linecolor": "#506784",
           "ticks": "",
           "title": {
            "standoff": 15
           },
           "zerolinecolor": "#283442",
           "automargin": true,
           "zerolinewidth": 2
          },
          "scene": {
           "xaxis": {
            "backgroundcolor": "rgb(17,17,17)",
            "gridcolor": "#506784",
            "linecolor": "#506784",
            "showbackground": true,
            "ticks": "",
            "zerolinecolor": "#C8D4E3",
            "gridwidth": 2
           },
           "yaxis": {
            "backgroundcolor": "rgb(17,17,17)",
            "gridcolor": "#506784",
            "linecolor": "#506784",
            "showbackground": true,
            "ticks": "",
            "zerolinecolor": "#C8D4E3",
            "gridwidth": 2
           },
           "zaxis": {
            "backgroundcolor": "rgb(17,17,17)",
            "gridcolor": "#506784",
            "linecolor": "#506784",
            "showbackground": true,
            "ticks": "",
            "zerolinecolor": "#C8D4E3",
            "gridwidth": 2
           }
          },
          "shapedefaults": {
           "line": {
            "color": "#f2f5fa"
           }
          },
          "annotationdefaults": {
           "arrowcolor": "#f2f5fa",
           "arrowhead": 0,
           "arrowwidth": 1
          },
          "geo": {
           "bgcolor": "rgb(17,17,17)",
           "landcolor": "rgb(17,17,17)",
           "subunitcolor": "#506784",
           "showland": true,
           "showlakes": true,
           "lakecolor": "rgb(17,17,17)"
          },
          "title": {
           "x": 0.05
          },
          "updatemenudefaults": {
           "bgcolor": "#506784",
           "borderwidth": 0
          },
          "sliderdefaults": {
           "bgcolor": "#C8D4E3",
           "borderwidth": 1,
           "bordercolor": "rgb(17,17,17)",
           "tickwidth": 0
          },
          "mapbox": {
           "style": "dark"
          }
         }
        },
        "xaxis": {
         "anchor": "y",
         "domain": [
          0.0,
          1.0
         ],
         "title": {
          "text": "Spinal level"
         }
        },
        "yaxis": {
         "anchor": "x",
         "domain": [
          0.0,
          1.0
         ],
         "title": {
          "text": "caudal to rostral length (mm)"
         }
        },
        "legend": {
         "title": {
          "text": "which"
         },
         "tracegroupgap": 0
        },
        "margin": {
         "t": 60
        },
        "violinmode": "group",
        "title": {
         "text": "Violin Plot for caudal-rostral length distribution"
        }
       },
       "config": {
        "plotlyServerURL": "https://plot.ly"
       }
      },
      "text/html": "<div>                            <div id=\"e689003d-0745-4b2a-b0c2-7b69ee274140\" class=\"plotly-graph-div\" style=\"height:525px; width:100%;\"></div>            <script type=\"text/javascript\">                require([\"plotly\"], function(Plotly) {                    window.PLOTLYENV=window.PLOTLYENV || {};                                    if (document.getElementById(\"e689003d-0745-4b2a-b0c2-7b69ee274140\")) {                    Plotly.newPlot(                        \"e689003d-0745-4b2a-b0c2-7b69ee274140\",                        [{\"alignmentgroup\":\"True\",\"box\":{\"visible\":true},\"customdata\":[[\"14493_008_0000\",\"pred\"],[\"14493_008_0000\",\"pred\"],[\"14493_008_0000\",\"pred\"],[\"14493_008_0000\",\"pred\"],[\"14493_008_0000\",\"pred\"],[\"14493_008_0000\",\"pred\"],[\"14493_008_0000\",\"pred\"],[\"14493_008_0000\",\"pred\"],[\"14493_008_0000\",\"pred\"],[\"14493_008_0000\",\"pred\"],[\"14492_007_0000\",\"pred\"],[\"14492_007_0000\",\"pred\"],[\"14492_007_0000\",\"pred\"],[\"14492_007_0000\",\"pred\"],[\"14492_007_0000\",\"pred\"],[\"14492_007_0000\",\"pred\"],[\"14492_007_0000\",\"pred\"],[\"14492_007_0000\",\"pred\"],[\"14492_007_0000\",\"pred\"],[\"14492_007_0000\",\"pred\"],[\"14350_011_0000\",\"pred\"],[\"14350_011_0000\",\"pred\"],[\"14350_011_0000\",\"pred\"],[\"14350_011_0000\",\"pred\"],[\"14350_011_0000\",\"pred\"],[\"14350_011_0000\",\"pred\"],[\"14350_011_0000\",\"pred\"],[\"14350_011_0000\",\"pred\"],[\"14350_011_0000\",\"pred\"],[\"14350_011_0000\",\"pred\"],[\"14411_013_0000\",\"pred\"],[\"14411_013_0000\",\"pred\"],[\"14411_013_0000\",\"pred\"],[\"14411_013_0000\",\"pred\"],[\"14411_013_0000\",\"pred\"],[\"14411_013_0000\",\"pred\"],[\"14411_013_0000\",\"pred\"],[\"14411_013_0000\",\"pred\"],[\"14411_013_0000\",\"pred\"],[\"14411_013_0000\",\"pred\"],[\"13746_012_0000\",\"pred\"],[\"13746_012_0000\",\"pred\"],[\"13746_012_0000\",\"pred\"],[\"13746_012_0000\",\"pred\"],[\"13746_012_0000\",\"pred\"],[\"13746_012_0000\",\"pred\"],[\"13746_012_0000\",\"pred\"],[\"13746_012_0000\",\"pred\"],[\"13746_012_0000\",\"pred\"],[\"13757_004_0000\",\"pred\"],[\"13757_004_0000\",\"pred\"],[\"13757_004_0000\",\"pred\"],[\"13757_004_0000\",\"pred\"],[\"13757_004_0000\",\"pred\"],[\"13757_004_0000\",\"pred\"],[\"13757_004_0000\",\"pred\"],[\"13757_004_0000\",\"pred\"],[\"13757_004_0000\",\"pred\"],[\"13757_004_0000\",\"pred\"],[\"14348_003_0000\",\"pred\"],[\"14348_003_0000\",\"pred\"],[\"14348_003_0000\",\"pred\"],[\"14348_003_0000\",\"pred\"],[\"14348_003_0000\",\"pred\"],[\"14348_003_0000\",\"pred\"],[\"14348_003_0000\",\"pred\"],[\"14348_003_0000\",\"pred\"],[\"14348_003_0000\",\"pred\"],[\"14348_003_0000\",\"pred\"],[\"13755_009_0000\",\"pred\"],[\"13755_009_0000\",\"pred\"],[\"13755_009_0000\",\"pred\"],[\"13755_009_0000\",\"pred\"],[\"13755_009_0000\",\"pred\"],[\"13755_009_0000\",\"pred\"],[\"13755_009_0000\",\"pred\"],[\"13755_009_0000\",\"pred\"],[\"13755_009_0000\",\"pred\"],[\"13755_009_0000\",\"pred\"],[\"13747_010_0000\",\"pred\"],[\"13747_010_0000\",\"pred\"],[\"13747_010_0000\",\"pred\"],[\"13747_010_0000\",\"pred\"],[\"13747_010_0000\",\"pred\"],[\"13747_010_0000\",\"pred\"],[\"13747_010_0000\",\"pred\"],[\"13747_010_0000\",\"pred\"],[\"13747_010_0000\",\"pred\"],[\"13747_010_0000\",\"pred\"],[\"14693_002_0000\",\"pred\"],[\"14693_002_0000\",\"pred\"],[\"14693_002_0000\",\"pred\"],[\"14693_002_0000\",\"pred\"],[\"14693_002_0000\",\"pred\"],[\"14693_002_0000\",\"pred\"],[\"14693_002_0000\",\"pred\"],[\"14693_002_0000\",\"pred\"],[\"14693_002_0000\",\"pred\"],[\"14406_001_0000\",\"pred\"],[\"14406_001_0000\",\"pred\"],[\"14406_001_0000\",\"pred\"],[\"14406_001_0000\",\"pred\"],[\"14406_001_0000\",\"pred\"],[\"14406_001_0000\",\"pred\"],[\"14406_001_0000\",\"pred\"],[\"14406_001_0000\",\"pred\"],[\"14406_001_0000\",\"pred\"],[\"14406_001_0000\",\"pred\"],[\"13697_005_0000\",\"pred\"],[\"13697_005_0000\",\"pred\"],[\"13697_005_0000\",\"pred\"],[\"13697_005_0000\",\"pred\"],[\"13697_005_0000\",\"pred\"],[\"13697_005_0000\",\"pred\"],[\"13697_005_0000\",\"pred\"],[\"13697_005_0000\",\"pred\"],[\"13697_005_0000\",\"pred\"],[\"13697_005_0000\",\"pred\"],[\"13696_006_0000\",\"pred\"],[\"13696_006_0000\",\"pred\"],[\"13696_006_0000\",\"pred\"],[\"13696_006_0000\",\"pred\"],[\"13696_006_0000\",\"pred\"],[\"13696_006_0000\",\"pred\"],[\"13696_006_0000\",\"pred\"],[\"13696_006_0000\",\"pred\"],[\"13696_006_0000\",\"pred\"],[\"13696_006_0000\",\"pred\"],[\"14407_000_0000\",\"pred\"],[\"14407_000_0000\",\"pred\"],[\"14407_000_0000\",\"pred\"],[\"14407_000_0000\",\"pred\"],[\"14407_000_0000\",\"pred\"],[\"14407_000_0000\",\"pred\"],[\"14407_000_0000\",\"pred\"],[\"14407_000_0000\",\"pred\"],[\"14407_000_0000\",\"pred\"],[\"14407_000_0000\",\"pred\"]],\"hovertemplate\":\"which=%{customdata[1]}\\u003cbr\\u003elevel=%{x}\\u003cbr\\u003eheight=%{y}\\u003cbr\\u003esub_name=%{customdata[0]}\\u003cextra\\u003e\\u003c\\u002fextra\\u003e\",\"legendgroup\":\"pred\",\"marker\":{\"color\":\"#636efa\"},\"name\":\"pred\",\"offsetgroup\":\"pred\",\"orientation\":\"v\",\"points\":\"all\",\"scalegroup\":\"True\",\"showlegend\":true,\"x\":[2,3,4,5,6,7,8,9,10,11,2,3,4,5,6,7,8,9,10,11,2,3,4,5,6,7,8,9,10,11,2,3,4,5,6,7,8,9,10,11,2,3,4,5,6,7,8,10,11,2,3,4,5,6,7,8,9,10,11,2,3,4,5,6,7,8,9,10,11,2,3,4,5,6,7,8,9,10,11,2,3,4,5,6,7,8,9,10,11,2,4,5,6,7,8,9,10,11,2,3,4,5,6,7,8,9,10,11,2,3,4,5,6,7,8,9,10,11,2,3,4,5,6,7,8,9,10,11,2,3,4,5,6,7,8,9,10,11],\"x0\":\" \",\"xaxis\":\"x\",\"y\":[null,2.3435996174812317,null,null,null,null,null,null,null,null,null,0.7812002897262573,null,null,null,null,null,null,null,null,null,1.5624005794525146,null,0.0,null,3.515401303768158,null,null,null,null,3.1247997283935547,5.077799558639526,null,null,null,null,4.296599626541138,null,null,null,null,1.1718002557754517,null,null,null,null,2.3436005115509033,null,null,1.5624001026153564,0.7812000513076782,null,null,null,null,null,null,null,null,null,null,null,null,null,null,null,null,null,null,null,null,null,null,null,2.734199970960617,3.5153999626636505,null,null,null,null,8.593198597431183,null,null,null,null,null,null,null,null,2.3436010479927063,0.0,null,null,null,null,null,null,null,null,7.811997532844544,null,null,null,null,null,null,null,null,4.296599626541138,null,null,null,null,null,null,null,null,null,null,3.1247994899749756,0.0,null,null,null,null,null,null,null,null,null,4.2966019213199615,0.0,5.077802270650864,0.390600174665451,null,0.0,null,null],\"y0\":\" \",\"yaxis\":\"y\",\"type\":\"violin\"},{\"alignmentgroup\":\"True\",\"box\":{\"visible\":true},\"customdata\":[[\"generated_XX\",\"generated\"],[\"generated_XX\",\"generated\"],[\"generated_XX\",\"generated\"],[\"generated_XX\",\"generated\"],[\"generated_XX\",\"generated\"],[\"generated_XX\",\"generated\"],[\"generated_XX\",\"generated\"],[\"generated_XX\",\"generated\"],[\"generated_XX\",\"generated\"],[\"generated_XX\",\"generated\"],[\"generated_XX\",\"generated\"],[\"generated_XX\",\"generated\"],[\"generated_XX\",\"generated\"],[\"generated_XX\",\"generated\"],[\"generated_XX\",\"generated\"],[\"generated_XX\",\"generated\"],[\"generated_XX\",\"generated\"],[\"generated_XX\",\"generated\"],[\"generated_XX\",\"generated\"],[\"generated_XX\",\"generated\"],[\"generated_XX\",\"generated\"],[\"generated_XX\",\"generated\"],[\"generated_XX\",\"generated\"],[\"generated_XX\",\"generated\"],[\"generated_XX\",\"generated\"],[\"generated_XX\",\"generated\"],[\"generated_XX\",\"generated\"],[\"generated_XX\",\"generated\"],[\"generated_XX\",\"generated\"],[\"generated_XX\",\"generated\"],[\"generated_XX\",\"generated\"],[\"generated_XX\",\"generated\"],[\"generated_XX\",\"generated\"],[\"generated_XX\",\"generated\"],[\"generated_XX\",\"generated\"],[\"generated_XX\",\"generated\"],[\"generated_XX\",\"generated\"],[\"generated_XX\",\"generated\"],[\"generated_XX\",\"generated\"],[\"generated_XX\",\"generated\"],[\"generated_XX\",\"generated\"],[\"generated_XX\",\"generated\"],[\"generated_XX\",\"generated\"],[\"generated_XX\",\"generated\"],[\"generated_XX\",\"generated\"],[\"generated_XX\",\"generated\"],[\"generated_XX\",\"generated\"],[\"generated_XX\",\"generated\"],[\"generated_XX\",\"generated\"],[\"generated_XX\",\"generated\"],[\"generated_XX\",\"generated\"],[\"generated_XX\",\"generated\"],[\"generated_XX\",\"generated\"],[\"generated_XX\",\"generated\"],[\"generated_XX\",\"generated\"],[\"generated_XX\",\"generated\"],[\"generated_XX\",\"generated\"],[\"generated_XX\",\"generated\"],[\"generated_XX\",\"generated\"],[\"generated_XX\",\"generated\"],[\"generated_XX\",\"generated\"],[\"generated_XX\",\"generated\"],[\"generated_XX\",\"generated\"],[\"generated_XX\",\"generated\"],[\"generated_XX\",\"generated\"],[\"generated_XX\",\"generated\"],[\"generated_XX\",\"generated\"],[\"generated_XX\",\"generated\"],[\"generated_XX\",\"generated\"],[\"generated_XX\",\"generated\"],[\"generated_XX\",\"generated\"],[\"generated_XX\",\"generated\"],[\"generated_XX\",\"generated\"],[\"generated_XX\",\"generated\"],[\"generated_XX\",\"generated\"],[\"generated_XX\",\"generated\"],[\"generated_XX\",\"generated\"],[\"generated_XX\",\"generated\"],[\"generated_XX\",\"generated\"],[\"generated_XX\",\"generated\"],[\"generated_XX\",\"generated\"],[\"generated_XX\",\"generated\"],[\"generated_XX\",\"generated\"],[\"generated_XX\",\"generated\"],[\"generated_XX\",\"generated\"],[\"generated_XX\",\"generated\"],[\"generated_XX\",\"generated\"],[\"generated_XX\",\"generated\"],[\"generated_XX\",\"generated\"],[\"generated_XX\",\"generated\"],[\"generated_XX\",\"generated\"],[\"generated_XX\",\"generated\"],[\"generated_XX\",\"generated\"],[\"generated_XX\",\"generated\"],[\"generated_XX\",\"generated\"],[\"generated_XX\",\"generated\"],[\"generated_XX\",\"generated\"],[\"generated_XX\",\"generated\"],[\"generated_XX\",\"generated\"],[\"generated_XX\",\"generated\"],[\"generated_XX\",\"generated\"],[\"generated_XX\",\"generated\"],[\"generated_XX\",\"generated\"],[\"generated_XX\",\"generated\"],[\"generated_XX\",\"generated\"],[\"generated_XX\",\"generated\"],[\"generated_XX\",\"generated\"],[\"generated_XX\",\"generated\"],[\"generated_XX\",\"generated\"],[\"generated_XX\",\"generated\"],[\"generated_XX\",\"generated\"],[\"generated_XX\",\"generated\"],[\"generated_XX\",\"generated\"],[\"generated_XX\",\"generated\"],[\"generated_XX\",\"generated\"],[\"generated_XX\",\"generated\"],[\"generated_XX\",\"generated\"],[\"generated_XX\",\"generated\"],[\"generated_XX\",\"generated\"],[\"generated_XX\",\"generated\"],[\"generated_XX\",\"generated\"],[\"generated_XX\",\"generated\"],[\"generated_XX\",\"generated\"],[\"generated_XX\",\"generated\"],[\"generated_XX\",\"generated\"],[\"generated_XX\",\"generated\"],[\"generated_XX\",\"generated\"],[\"generated_XX\",\"generated\"],[\"generated_XX\",\"generated\"],[\"generated_XX\",\"generated\"],[\"generated_XX\",\"generated\"],[\"generated_XX\",\"generated\"],[\"generated_XX\",\"generated\"],[\"generated_XX\",\"generated\"],[\"generated_XX\",\"generated\"],[\"generated_XX\",\"generated\"],[\"generated_XX\",\"generated\"],[\"generated_XX\",\"generated\"],[\"generated_XX\",\"generated\"],[\"generated_XX\",\"generated\"],[\"generated_XX\",\"generated\"],[\"generated_XX\",\"generated\"],[\"generated_XX\",\"generated\"],[\"generated_XX\",\"generated\"],[\"generated_XX\",\"generated\"],[\"generated_XX\",\"generated\"],[\"generated_XX\",\"generated\"],[\"generated_XX\",\"generated\"],[\"generated_XX\",\"generated\"],[\"generated_XX\",\"generated\"],[\"generated_XX\",\"generated\"],[\"generated_XX\",\"generated\"],[\"generated_XX\",\"generated\"],[\"generated_XX\",\"generated\"],[\"generated_XX\",\"generated\"],[\"generated_XX\",\"generated\"],[\"generated_XX\",\"generated\"],[\"generated_XX\",\"generated\"],[\"generated_XX\",\"generated\"],[\"generated_XX\",\"generated\"],[\"generated_XX\",\"generated\"],[\"generated_XX\",\"generated\"],[\"generated_XX\",\"generated\"],[\"generated_XX\",\"generated\"],[\"generated_XX\",\"generated\"],[\"generated_XX\",\"generated\"],[\"generated_XX\",\"generated\"],[\"generated_XX\",\"generated\"],[\"generated_XX\",\"generated\"],[\"generated_XX\",\"generated\"],[\"generated_XX\",\"generated\"],[\"generated_XX\",\"generated\"],[\"generated_XX\",\"generated\"],[\"generated_XX\",\"generated\"],[\"generated_XX\",\"generated\"],[\"generated_XX\",\"generated\"],[\"generated_XX\",\"generated\"],[\"generated_XX\",\"generated\"],[\"generated_XX\",\"generated\"],[\"generated_XX\",\"generated\"],[\"generated_XX\",\"generated\"],[\"generated_XX\",\"generated\"],[\"generated_XX\",\"generated\"],[\"generated_XX\",\"generated\"],[\"generated_XX\",\"generated\"],[\"generated_XX\",\"generated\"]],\"hovertemplate\":\"which=%{customdata[1]}\\u003cbr\\u003elevel=%{x}\\u003cbr\\u003eheight=%{y}\\u003cbr\\u003esub_name=%{customdata[0]}\\u003cextra\\u003e\\u003c\\u002fextra\\u003e\",\"legendgroup\":\"generated\",\"marker\":{\"color\":\"#EF553B\"},\"name\":\"generated\",\"offsetgroup\":\"generated\",\"orientation\":\"v\",\"points\":\"all\",\"scalegroup\":\"True\",\"showlegend\":true,\"x\":[3,3,3,3,3,3,3,3,3,3,3,3,3,3,3,3,3,3,3,3,3,3,3,3,3,3,3,3,3,3,3,4,4,4,4,4,4,4,4,4,4,4,4,4,4,4,4,4,4,4,4,4,4,4,4,4,4,4,4,4,4,4,5,5,5,5,5,5,5,5,5,5,5,5,5,5,5,5,5,5,5,5,5,5,5,5,5,5,5,5,5,5,5,6,6,6,6,6,6,6,6,6,6,6,6,6,6,6,6,6,6,6,6,6,6,6,6,6,6,6,6,6,6,6,7,7,7,7,7,7,7,7,7,7,7,7,7,7,7,7,7,7,7,7,7,7,7,7,7,7,7,7,7,7,7,8,8,8,8,8,8,8,8,8,8,8,8,8,8,8,8,8,8,8,8,8,8,8,8,8,8,8,8,8,8,8],\"x0\":\" \",\"xaxis\":\"x\",\"y\":[6.9592783035289685,9.45628192445453,12.848871010552012,14.721062701060774,11.391941989667329,9.855680003829859,11.899646904887065,10.894641277161742,8.77543001893666,5.6638856120549095,8.086577010065817,10.610657630866738,12.020082934217463,15.332324980058928,12.25883330028504,9.625685244255092,9.332374379817713,6.014079154494867,9.789382747610293,13.376152836065371,10.764400620352331,8.486064748290364,8.141212698156027,10.013595976698063,11.12364601680778,13.358688466304743,7.360847326532273,9.594928270224447,13.989987777338465,9.249319632742104,9.147409516970402,10.697213164025099,8.045708701958679,9.613960553981956,12.148393569495642,10.173920746915218,8.544138146926286,10.95134584465242,9.531407875982765,10.436407316277577,9.779280557461192,8.893234105445009,8.700761062133685,8.487694995181842,10.98507947839115,10.319013518703747,9.802295505765773,10.460639767526512,5.533567837400772,11.910842398142636,10.75905532896531,7.722165957448019,12.984109705849777,10.446605338933065,10.615686540431978,10.194593174317447,11.141488928870505,12.779295149550887,8.536137456431844,10.787855386977276,7.462754880497055,7.9031224989001405,9.61839073316562,11.077356534416133,8.512341955135852,11.259410768959961,15.808555615172208,11.626874374277692,5.30539097752977,10.035906059866626,11.190906815877877,11.986763985045284,10.86410629352485,13.543121475095449,10.814381136946011,11.140333780116608,10.391718144893002,10.62775084297998,12.120391205996984,9.111753954733137,7.31277410505036,8.56413569520582,9.40780020464859,11.10711764372041,10.413766442290921,12.201565322723198,11.005507672082356,9.198174227808202,7.532861451436763,10.49934832037388,15.008113919587647,12.71026239423546,7.818003247001664,11.378267964754475,10.54383374494917,10.191760575397705,9.166606530922147,10.763506954613627,11.4262934897978,5.980283987161429,12.470509520354478,7.775570557976921,9.148751242425616,7.207885090309548,9.037516837412783,8.729504247507128,9.968919790727252,9.349551260118185,6.6442086439422186,7.548492832715939,10.677128762636709,7.4807224980354965,8.17943953939065,8.154757635672057,8.358238578810544,11.117761735622764,9.449091025276733,10.212427850019761,9.044672667576497,7.594354512013356,10.380004234643653,7.009215279005768,9.516787831675458,8.082274750140977,7.02153978524099,10.346151045307451,8.378928306471872,9.407800660917673,10.658061257722297,8.370250578585617,10.749955441025874,6.363051680504005,9.553402834542165,10.660445700457704,9.638475453524626,11.691736326460825,13.722182757224019,12.073883394534427,8.944125773556141,9.986013603007036,9.654864212354155,9.959786715078508,11.42014508488097,8.63822565073351,10.805800421594046,10.941549473041205,10.280192103263202,10.356881878893173,10.35288360092942,9.841638533434708,8.999907126607159,8.39771567933949,6.888614595500283,10.404848504572694,9.99493552013546,8.0776399784788,11.765065687843908,10.911134743246375,11.541399832319417,9.202263851981655,9.643365022494454,7.687467440690324,10.139762526453035,10.962883689665425,9.28076166575198,9.999214100025176,10.323924335545014,7.217557177952702,7.687949806777777,10.775033401377016,8.476223509853682,8.98317549884343,7.761926137150409,9.068529193284904,8.428194557255077,10.138337358049105,10.318911031504827,10.693357784977808,8.850396547386438,11.981892604334215,9.170715205071703,9.752410392808414,8.875212313031518,10.093684952639315,8.528885610818556,9.763875844528137],\"y0\":\" \",\"yaxis\":\"y\",\"type\":\"violin\"}],                        {\"template\":{\"data\":{\"histogram2dcontour\":[{\"type\":\"histogram2dcontour\",\"colorbar\":{\"outlinewidth\":0,\"ticks\":\"\"},\"colorscale\":[[0.0,\"#0d0887\"],[0.1111111111111111,\"#46039f\"],[0.2222222222222222,\"#7201a8\"],[0.3333333333333333,\"#9c179e\"],[0.4444444444444444,\"#bd3786\"],[0.5555555555555556,\"#d8576b\"],[0.6666666666666666,\"#ed7953\"],[0.7777777777777778,\"#fb9f3a\"],[0.8888888888888888,\"#fdca26\"],[1.0,\"#f0f921\"]]}],\"choropleth\":[{\"type\":\"choropleth\",\"colorbar\":{\"outlinewidth\":0,\"ticks\":\"\"}}],\"histogram2d\":[{\"type\":\"histogram2d\",\"colorbar\":{\"outlinewidth\":0,\"ticks\":\"\"},\"colorscale\":[[0.0,\"#0d0887\"],[0.1111111111111111,\"#46039f\"],[0.2222222222222222,\"#7201a8\"],[0.3333333333333333,\"#9c179e\"],[0.4444444444444444,\"#bd3786\"],[0.5555555555555556,\"#d8576b\"],[0.6666666666666666,\"#ed7953\"],[0.7777777777777778,\"#fb9f3a\"],[0.8888888888888888,\"#fdca26\"],[1.0,\"#f0f921\"]]}],\"heatmap\":[{\"type\":\"heatmap\",\"colorbar\":{\"outlinewidth\":0,\"ticks\":\"\"},\"colorscale\":[[0.0,\"#0d0887\"],[0.1111111111111111,\"#46039f\"],[0.2222222222222222,\"#7201a8\"],[0.3333333333333333,\"#9c179e\"],[0.4444444444444444,\"#bd3786\"],[0.5555555555555556,\"#d8576b\"],[0.6666666666666666,\"#ed7953\"],[0.7777777777777778,\"#fb9f3a\"],[0.8888888888888888,\"#fdca26\"],[1.0,\"#f0f921\"]]}],\"heatmapgl\":[{\"type\":\"heatmapgl\",\"colorbar\":{\"outlinewidth\":0,\"ticks\":\"\"},\"colorscale\":[[0.0,\"#0d0887\"],[0.1111111111111111,\"#46039f\"],[0.2222222222222222,\"#7201a8\"],[0.3333333333333333,\"#9c179e\"],[0.4444444444444444,\"#bd3786\"],[0.5555555555555556,\"#d8576b\"],[0.6666666666666666,\"#ed7953\"],[0.7777777777777778,\"#fb9f3a\"],[0.8888888888888888,\"#fdca26\"],[1.0,\"#f0f921\"]]}],\"contourcarpet\":[{\"type\":\"contourcarpet\",\"colorbar\":{\"outlinewidth\":0,\"ticks\":\"\"}}],\"contour\":[{\"type\":\"contour\",\"colorbar\":{\"outlinewidth\":0,\"ticks\":\"\"},\"colorscale\":[[0.0,\"#0d0887\"],[0.1111111111111111,\"#46039f\"],[0.2222222222222222,\"#7201a8\"],[0.3333333333333333,\"#9c179e\"],[0.4444444444444444,\"#bd3786\"],[0.5555555555555556,\"#d8576b\"],[0.6666666666666666,\"#ed7953\"],[0.7777777777777778,\"#fb9f3a\"],[0.8888888888888888,\"#fdca26\"],[1.0,\"#f0f921\"]]}],\"surface\":[{\"type\":\"surface\",\"colorbar\":{\"outlinewidth\":0,\"ticks\":\"\"},\"colorscale\":[[0.0,\"#0d0887\"],[0.1111111111111111,\"#46039f\"],[0.2222222222222222,\"#7201a8\"],[0.3333333333333333,\"#9c179e\"],[0.4444444444444444,\"#bd3786\"],[0.5555555555555556,\"#d8576b\"],[0.6666666666666666,\"#ed7953\"],[0.7777777777777778,\"#fb9f3a\"],[0.8888888888888888,\"#fdca26\"],[1.0,\"#f0f921\"]]}],\"mesh3d\":[{\"type\":\"mesh3d\",\"colorbar\":{\"outlinewidth\":0,\"ticks\":\"\"}}],\"scatter\":[{\"marker\":{\"line\":{\"color\":\"#283442\"}},\"type\":\"scatter\"}],\"parcoords\":[{\"type\":\"parcoords\",\"line\":{\"colorbar\":{\"outlinewidth\":0,\"ticks\":\"\"}}}],\"scatterpolargl\":[{\"type\":\"scatterpolargl\",\"marker\":{\"colorbar\":{\"outlinewidth\":0,\"ticks\":\"\"}}}],\"bar\":[{\"error_x\":{\"color\":\"#f2f5fa\"},\"error_y\":{\"color\":\"#f2f5fa\"},\"marker\":{\"line\":{\"color\":\"rgb(17,17,17)\",\"width\":0.5},\"pattern\":{\"fillmode\":\"overlay\",\"size\":10,\"solidity\":0.2}},\"type\":\"bar\"}],\"scattergeo\":[{\"type\":\"scattergeo\",\"marker\":{\"colorbar\":{\"outlinewidth\":0,\"ticks\":\"\"}}}],\"scatterpolar\":[{\"type\":\"scatterpolar\",\"marker\":{\"colorbar\":{\"outlinewidth\":0,\"ticks\":\"\"}}}],\"histogram\":[{\"marker\":{\"pattern\":{\"fillmode\":\"overlay\",\"size\":10,\"solidity\":0.2}},\"type\":\"histogram\"}],\"scattergl\":[{\"marker\":{\"line\":{\"color\":\"#283442\"}},\"type\":\"scattergl\"}],\"scatter3d\":[{\"type\":\"scatter3d\",\"line\":{\"colorbar\":{\"outlinewidth\":0,\"ticks\":\"\"}},\"marker\":{\"colorbar\":{\"outlinewidth\":0,\"ticks\":\"\"}}}],\"scattermapbox\":[{\"type\":\"scattermapbox\",\"marker\":{\"colorbar\":{\"outlinewidth\":0,\"ticks\":\"\"}}}],\"scatterternary\":[{\"type\":\"scatterternary\",\"marker\":{\"colorbar\":{\"outlinewidth\":0,\"ticks\":\"\"}}}],\"scattercarpet\":[{\"type\":\"scattercarpet\",\"marker\":{\"colorbar\":{\"outlinewidth\":0,\"ticks\":\"\"}}}],\"carpet\":[{\"aaxis\":{\"endlinecolor\":\"#A2B1C6\",\"gridcolor\":\"#506784\",\"linecolor\":\"#506784\",\"minorgridcolor\":\"#506784\",\"startlinecolor\":\"#A2B1C6\"},\"baxis\":{\"endlinecolor\":\"#A2B1C6\",\"gridcolor\":\"#506784\",\"linecolor\":\"#506784\",\"minorgridcolor\":\"#506784\",\"startlinecolor\":\"#A2B1C6\"},\"type\":\"carpet\"}],\"table\":[{\"cells\":{\"fill\":{\"color\":\"#506784\"},\"line\":{\"color\":\"rgb(17,17,17)\"}},\"header\":{\"fill\":{\"color\":\"#2a3f5f\"},\"line\":{\"color\":\"rgb(17,17,17)\"}},\"type\":\"table\"}],\"barpolar\":[{\"marker\":{\"line\":{\"color\":\"rgb(17,17,17)\",\"width\":0.5},\"pattern\":{\"fillmode\":\"overlay\",\"size\":10,\"solidity\":0.2}},\"type\":\"barpolar\"}],\"pie\":[{\"automargin\":true,\"type\":\"pie\"}]},\"layout\":{\"autotypenumbers\":\"strict\",\"colorway\":[\"#636efa\",\"#EF553B\",\"#00cc96\",\"#ab63fa\",\"#FFA15A\",\"#19d3f3\",\"#FF6692\",\"#B6E880\",\"#FF97FF\",\"#FECB52\"],\"font\":{\"color\":\"#f2f5fa\"},\"hovermode\":\"closest\",\"hoverlabel\":{\"align\":\"left\"},\"paper_bgcolor\":\"rgb(17,17,17)\",\"plot_bgcolor\":\"rgb(17,17,17)\",\"polar\":{\"bgcolor\":\"rgb(17,17,17)\",\"angularaxis\":{\"gridcolor\":\"#506784\",\"linecolor\":\"#506784\",\"ticks\":\"\"},\"radialaxis\":{\"gridcolor\":\"#506784\",\"linecolor\":\"#506784\",\"ticks\":\"\"}},\"ternary\":{\"bgcolor\":\"rgb(17,17,17)\",\"aaxis\":{\"gridcolor\":\"#506784\",\"linecolor\":\"#506784\",\"ticks\":\"\"},\"baxis\":{\"gridcolor\":\"#506784\",\"linecolor\":\"#506784\",\"ticks\":\"\"},\"caxis\":{\"gridcolor\":\"#506784\",\"linecolor\":\"#506784\",\"ticks\":\"\"}},\"coloraxis\":{\"colorbar\":{\"outlinewidth\":0,\"ticks\":\"\"}},\"colorscale\":{\"sequential\":[[0.0,\"#0d0887\"],[0.1111111111111111,\"#46039f\"],[0.2222222222222222,\"#7201a8\"],[0.3333333333333333,\"#9c179e\"],[0.4444444444444444,\"#bd3786\"],[0.5555555555555556,\"#d8576b\"],[0.6666666666666666,\"#ed7953\"],[0.7777777777777778,\"#fb9f3a\"],[0.8888888888888888,\"#fdca26\"],[1.0,\"#f0f921\"]],\"sequentialminus\":[[0.0,\"#0d0887\"],[0.1111111111111111,\"#46039f\"],[0.2222222222222222,\"#7201a8\"],[0.3333333333333333,\"#9c179e\"],[0.4444444444444444,\"#bd3786\"],[0.5555555555555556,\"#d8576b\"],[0.6666666666666666,\"#ed7953\"],[0.7777777777777778,\"#fb9f3a\"],[0.8888888888888888,\"#fdca26\"],[1.0,\"#f0f921\"]],\"diverging\":[[0,\"#8e0152\"],[0.1,\"#c51b7d\"],[0.2,\"#de77ae\"],[0.3,\"#f1b6da\"],[0.4,\"#fde0ef\"],[0.5,\"#f7f7f7\"],[0.6,\"#e6f5d0\"],[0.7,\"#b8e186\"],[0.8,\"#7fbc41\"],[0.9,\"#4d9221\"],[1,\"#276419\"]]},\"xaxis\":{\"gridcolor\":\"#283442\",\"linecolor\":\"#506784\",\"ticks\":\"\",\"title\":{\"standoff\":15},\"zerolinecolor\":\"#283442\",\"automargin\":true,\"zerolinewidth\":2},\"yaxis\":{\"gridcolor\":\"#283442\",\"linecolor\":\"#506784\",\"ticks\":\"\",\"title\":{\"standoff\":15},\"zerolinecolor\":\"#283442\",\"automargin\":true,\"zerolinewidth\":2},\"scene\":{\"xaxis\":{\"backgroundcolor\":\"rgb(17,17,17)\",\"gridcolor\":\"#506784\",\"linecolor\":\"#506784\",\"showbackground\":true,\"ticks\":\"\",\"zerolinecolor\":\"#C8D4E3\",\"gridwidth\":2},\"yaxis\":{\"backgroundcolor\":\"rgb(17,17,17)\",\"gridcolor\":\"#506784\",\"linecolor\":\"#506784\",\"showbackground\":true,\"ticks\":\"\",\"zerolinecolor\":\"#C8D4E3\",\"gridwidth\":2},\"zaxis\":{\"backgroundcolor\":\"rgb(17,17,17)\",\"gridcolor\":\"#506784\",\"linecolor\":\"#506784\",\"showbackground\":true,\"ticks\":\"\",\"zerolinecolor\":\"#C8D4E3\",\"gridwidth\":2}},\"shapedefaults\":{\"line\":{\"color\":\"#f2f5fa\"}},\"annotationdefaults\":{\"arrowcolor\":\"#f2f5fa\",\"arrowhead\":0,\"arrowwidth\":1},\"geo\":{\"bgcolor\":\"rgb(17,17,17)\",\"landcolor\":\"rgb(17,17,17)\",\"subunitcolor\":\"#506784\",\"showland\":true,\"showlakes\":true,\"lakecolor\":\"rgb(17,17,17)\"},\"title\":{\"x\":0.05},\"updatemenudefaults\":{\"bgcolor\":\"#506784\",\"borderwidth\":0},\"sliderdefaults\":{\"bgcolor\":\"#C8D4E3\",\"borderwidth\":1,\"bordercolor\":\"rgb(17,17,17)\",\"tickwidth\":0},\"mapbox\":{\"style\":\"dark\"}}},\"xaxis\":{\"anchor\":\"y\",\"domain\":[0.0,1.0],\"title\":{\"text\":\"Spinal level\"}},\"yaxis\":{\"anchor\":\"x\",\"domain\":[0.0,1.0],\"title\":{\"text\":\"caudal to rostral length (mm)\"}},\"legend\":{\"title\":{\"text\":\"which\"},\"tracegroupgap\":0},\"margin\":{\"t\":60},\"violinmode\":\"group\",\"title\":{\"text\":\"Violin Plot for caudal-rostral length distribution\"}},                        {\"responsive\": true}                    ).then(function(){\n                            \nvar gd = document.getElementById('e689003d-0745-4b2a-b0c2-7b69ee274140');\nvar x = new MutationObserver(function (mutations, observer) {{\n        var display = window.getComputedStyle(gd).display;\n        if (!display || display === 'none') {{\n            console.log([gd, 'removed!']);\n            Plotly.purge(gd);\n            observer.disconnect();\n        }}\n}});\n\n// Listen for the removal of the full notebook cells\nvar notebookContainer = gd.closest('#notebook-container');\nif (notebookContainer) {{\n    x.observe(notebookContainer, {childList: true});\n}}\n\n// Listen for the clearing of the current output cell\nvar outputEl = gd.closest('.output');\nif (outputEl) {{\n    x.observe(outputEl, {childList: true});\n}}\n\n                        })                };                });            </script>        </div>"
     },
     "metadata": {},
     "output_type": "display_data"
    }
   ],
   "source": [
    "levels = ['C3', 'C4', 'C5', 'C6', 'C7', 'C8']\n",
    "level_data = {\n",
    "    'C3': {'mean': 10.5, 'std': 2.2},\n",
    "    'C4': {'mean': 9.9, 'std': 1.3},\n",
    "    'C5': {'mean': 10.5, 'std': 1.5},\n",
    "    'C6': {'mean': 9.7, 'std': 1.6},\n",
    "    'C7': {'mean': 9.4, 'std': 1.4},\n",
    "    'C8': {'mean': 9.6, 'std': 1.4},\n",
    "}\n",
    "\n",
    "# Create a DataFrame to hold the data\n",
    "data = clean.copy()\n",
    "\n",
    "# Generate 20 subjects for each level\n",
    "for i, level in enumerate(levels):\n",
    "    mean = level_data[level]['mean']\n",
    "    std = level_data[level]['std']\n",
    "    subject_data = np.random.normal(loc=mean, scale=std, size=31)\n",
    "    data = pd.concat([data, pd.DataFrame({'level': i+3, 'height': subject_data, 'spinal_start':0, 'spinal_end':1, 'vertebrae_start':0, 'vertebrae_end':1, 'which': 'generated', 'sub_name': 'generated_XX', 'z_scores':0})], ignore_index=True)\n",
    "\n",
    "display(data)\n",
    "# Create the violin plot with plotly.express\n",
    "fig = px.violin(data, y=\"height\", x=\"level\", color=\"which\", box=True, points=\"all\",\n",
    "          hover_data=[\"sub_name\",\"which\"])\n",
    "\n",
    "fig.update_layout(title='Violin Plot for caudal-rostral length distribution',\n",
    "                  xaxis=dict(title='Spinal level'),\n",
    "                  yaxis=dict(title='caudal to rostral length (mm)'))\n",
    "fig.show()"
   ],
   "metadata": {
    "collapsed": false,
    "ExecuteTime": {
     "end_time": "2023-08-02T16:01:34.711Z",
     "start_time": "2023-08-02T16:01:34.648274Z"
    }
   }
  },
  {
   "cell_type": "code",
   "execution_count": null,
   "outputs": [],
   "source": [
    "[’sub-"
   ],
   "metadata": {
    "collapsed": false
   }
  }
 ],
 "metadata": {
  "kernelspec": {
   "display_name": "Python 3",
   "language": "python",
   "name": "python3"
  },
  "language_info": {
   "codemirror_mode": {
    "name": "ipython",
    "version": 2
   },
   "file_extension": ".py",
   "mimetype": "text/x-python",
   "name": "python",
   "nbconvert_exporter": "python",
   "pygments_lexer": "ipython2",
   "version": "2.7.6"
  }
 },
 "nbformat": 4,
 "nbformat_minor": 0
}
