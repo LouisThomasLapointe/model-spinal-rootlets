{
 "cells": [
  {
   "cell_type": "code",
   "execution_count": 1,
   "metadata": {
    "collapsed": true
   },
   "outputs": [],
   "source": [
    "import pandas as pd\n",
    "import plotly.express as px\n",
    "import numpy as np\n",
    "PATH_pred = \"/Users/theomathieu/Downloads/fullD3_pred/res/dist_pred.csv\"\n",
    "#PATH_pred = \"/Users/theomathieu/Downloads/cadotte_15/dist_pred.csv\"\n",
    "#PATH_manual = \"/Users/theomathieu/Downloads/exp/dist.csv\""
   ]
  },
  {
   "cell_type": "code",
   "execution_count": null,
   "outputs": [],
   "source": [
    "df_pred = pd.read_csv(PATH_pred)\n",
    "df_pred[\"which\"]= \"pred\"\n",
    "#df_manual = pd.read_csv(PATH_manual)\n",
    "#df_manual[\"which\"]= \"manual\""
   ],
   "metadata": {
    "collapsed": false
   }
  },
  {
   "cell_type": "code",
   "execution_count": null,
   "outputs": [],
   "source": [
    "display(df_pred.head())\n",
    "#display(df_manual.head())\n",
    "#concatenated_df = pd.concat([df_pred, df_manual], ignore_index=True)\n",
    "concatenated_df = df_pred\n",
    "z_scores = (concatenated_df['height'] - concatenated_df['height'].mean()) / concatenated_df['height'].std()\n",
    "concatenated_df[\"z_scores\"] = z_scores\n",
    "fig = px.scatter(concatenated_df, x=\"level\", y=\"z_scores\", color=\"which\", hover_data=['sub_name', 'height'])\n",
    "fig.show()"
   ],
   "metadata": {
    "collapsed": false
   }
  },
  {
   "cell_type": "code",
   "execution_count": null,
   "outputs": [],
   "source": [
    "display(concatenated_df)"
   ],
   "metadata": {
    "collapsed": false
   }
  },
  {
   "cell_type": "code",
   "execution_count": null,
   "outputs": [],
   "source": [
    "fig = px.violin(df_pred, y=\"height\", x=\"level\", color=\"which\", box=True, points=\"all\",\n",
    "          hover_data=[\"sub_name\",\"which\"])\n",
    "\n",
    "fig.update_layout(title='Violin Plot for caudal-rostral length distribution',\n",
    "                  xaxis=dict(title='Spinal level'),\n",
    "                  yaxis=dict(title='caudal to rostral length (mm)'))\n",
    "fig.show()"
   ],
   "metadata": {
    "collapsed": false
   }
  },
  {
   "cell_type": "code",
   "execution_count": null,
   "outputs": [],
   "source": [
    "fig = px.violin(df_pred, y=\"height\", x=\"level\", color=\"which\", box=True, points=\"all\",\n",
    "          hover_data=[\"sub_name\",\"which\"])\n",
    "fig.show()"
   ],
   "metadata": {
    "collapsed": false
   }
  },
  {
   "cell_type": "code",
   "execution_count": null,
   "outputs": [],
   "source": [
    "clean = concatenated_df.copy()\n",
    "to_clean = []\n",
    "#to_clean.append((clean[\"sub_name\"] == \"sub-amu02_215_0000\") & (clean[\"wich\"] == \"manual\"))\n",
    "#to_clean.append((clean[\"sub_name\"] == \"sub-barcelona06_214_0000\") & (clean[\"wich\"] == \"pred\"))\n",
    "to_clean.append((clean[\"z_scores\"] > 2))\n",
    "to_clean.append((clean[\"z_scores\"] < -2))\n",
    "deleted = pd.DataFrame()\n",
    "for need in to_clean:\n",
    "    deleted = pd.concat([deleted, clean[need]], ignore_index=True)\n",
    "    clean = clean[~need]\n",
    "\n",
    "comp =df_pred\n",
    "for lvl in range(2, 12):\n",
    "    #mean_c = np.mean(comp[\"height\"][comp[\"level\"]==lvl])\n",
    "    #std_c = np.std(comp[\"height\"][comp[\"level\"]==lvl])\n",
    "    mean_o = np.mean(concatenated_df[\"height\"][concatenated_df[\"level\"]==lvl])\n",
    "    std_o = np.std(concatenated_df[\"height\"][concatenated_df[\"level\"]==lvl])\n",
    "    #print(f\"CLEAN|ORIG Height level {lvl} (mm): {mean_c:.2f} +/- {std_c:.2f}\\tvs\\t{mean_o:.2f} +/- {std_o:.2f}\")\n",
    "    print(f\"Spinal level {lvl} length (mm): \\t{mean_o:.2f} +/- {std_o:.2f}\")"
   ],
   "metadata": {
    "collapsed": false
   }
  },
  {
   "cell_type": "code",
   "execution_count": null,
   "outputs": [],
   "source": [
    "deleted"
   ],
   "metadata": {
    "collapsed": false
   }
  },
  {
   "cell_type": "code",
   "execution_count": null,
   "outputs": [],
   "source": [
    "fig = px.violin(clean, y=\"height\", x=\"level\", color=\"which\", box=True, points=\"all\",\n",
    "          hover_data=[\"sub_name\",\"which\"])\n",
    "fig.show()"
   ],
   "metadata": {
    "collapsed": false
   }
  },
  {
   "cell_type": "code",
   "execution_count": null,
   "outputs": [],
   "source": [
    "fig = px.scatter(clean, x=\"level\", y=\"z_scores\", color=\"which\", hover_data=['sub_name', 'height'])\n",
    "fig.show()"
   ],
   "metadata": {
    "collapsed": false
   }
  },
  {
   "cell_type": "code",
   "execution_count": null,
   "outputs": [],
   "source": [
    "levels = ['C3', 'C4', 'C5', 'C6', 'C7', 'C8']\n",
    "level_data = {\n",
    "    'C3': {'mean': 10.5, 'std': 2.2},\n",
    "    'C4': {'mean': 9.9, 'std': 1.3},\n",
    "    'C5': {'mean': 10.5, 'std': 1.5},\n",
    "    'C6': {'mean': 9.7, 'std': 1.6},\n",
    "    'C7': {'mean': 9.4, 'std': 1.4},\n",
    "    'C8': {'mean': 9.6, 'std': 1.4},\n",
    "}\n",
    "\n",
    "# Create a DataFrame to hold the data\n",
    "data = clean.copy()\n",
    "\n",
    "# Generate 20 subjects for each level\n",
    "for i, level in enumerate(levels):\n",
    "    mean = level_data[level]['mean']\n",
    "    std = level_data[level]['std']\n",
    "    subject_data = np.random.normal(loc=mean, scale=std, size=31)\n",
    "    data = pd.concat([data, pd.DataFrame({'level': i+3, 'height': subject_data, 'spinal_start':0, 'spinal_end':1, 'vertebrae_start':0, 'vertebrae_end':1, 'which': 'generated', 'sub_name': 'generated_XX', 'z_scores':0})], ignore_index=True)\n",
    "\n",
    "display(data)\n",
    "# Create the violin plot with plotly.express\n",
    "fig = px.violin(data, y=\"height\", x=\"level\", color=\"which\", box=True, points=\"all\",\n",
    "          hover_data=[\"sub_name\",\"which\"])\n",
    "\n",
    "fig.update_layout(title='Violin Plot for caudal-rostral length distribution',\n",
    "                  xaxis=dict(title='Spinal level'),\n",
    "                  yaxis=dict(title='caudal to rostral length (mm)'))\n",
    "fig.show()"
   ],
   "metadata": {
    "collapsed": false
   }
  },
  {
   "cell_type": "code",
   "execution_count": null,
   "outputs": [],
   "source": [],
   "metadata": {
    "collapsed": false
   }
  }
 ],
 "metadata": {
  "kernelspec": {
   "display_name": "Python 3",
   "language": "python",
   "name": "python3"
  },
  "language_info": {
   "codemirror_mode": {
    "name": "ipython",
    "version": 2
   },
   "file_extension": ".py",
   "mimetype": "text/x-python",
   "name": "python",
   "nbconvert_exporter": "python",
   "pygments_lexer": "ipython2",
   "version": "2.7.6"
  }
 },
 "nbformat": 4,
 "nbformat_minor": 0
}
