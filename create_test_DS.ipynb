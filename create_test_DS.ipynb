{
 "cells": [
  {
   "cell_type": "code",
   "execution_count": 1,
   "metadata": {
    "collapsed": true,
    "ExecuteTime": {
     "end_time": "2023-06-09T17:04:03.693139Z",
     "start_time": "2023-06-09T17:04:02.944504Z"
    }
   },
   "outputs": [],
   "source": [
    "import json\n",
    "import nibabel as nib"
   ]
  },
  {
   "cell_type": "code",
   "execution_count": 4,
   "outputs": [
    {
     "data": {
      "text/plain": "'LPI'"
     },
     "execution_count": 4,
     "metadata": {},
     "output_type": "execute_result"
    }
   ],
   "source": [
    "PATH_sct_large = \"/Users/theomathieu/Documents/Stage/Code/sct-testing-large/\"\n",
    "PATH_nnUNet = \"/Users/theomathieu/Documents/Stage/Code/Dataset002_rootsegV2/imagesTr/\"\n",
    "OUT_DIR = \"test_conv/\"\n",
    "def get_sct_path(file):\n",
    "    return f\"{PATH_sct_large}{file}/anat/{file}_T2w.nii.gz\"\n",
    "def get_orient(file):\n",
    "    loaded = nib.load(file)\n",
    "    header = nib.aff2axcodes(loaded.affine)\n",
    "    print(f\"{header[0]}{header[1]}{header[2]}\")\n",
    "f = open(\"orient.json\")\n",
    "need_or = json.load(f)[\"orient\"]\n",
    "need_or"
   ],
   "metadata": {
    "collapsed": false,
    "ExecuteTime": {
     "end_time": "2023-06-09T17:04:59.167998Z",
     "start_time": "2023-06-09T17:04:59.146612Z"
    }
   }
  },
  {
   "cell_type": "code",
   "execution_count": 18,
   "outputs": [],
   "source": [
    "test = \"/Users/theomathieu/Documents/Stage/Code/unfSCT/root-manual/sub-unfSCT003_T2w_mask.nii.gz\""
   ],
   "metadata": {
    "collapsed": false,
    "ExecuteTime": {
     "end_time": "2023-06-09T17:13:02.991118Z",
     "start_time": "2023-06-09T17:13:02.988926Z"
    }
   }
  },
  {
   "cell_type": "code",
   "execution_count": 19,
   "outputs": [
    {
     "name": "stdout",
     "output_type": "stream",
     "text": [
      "PSR\n"
     ]
    }
   ],
   "source": [
    "get_orient(test)"
   ],
   "metadata": {
    "collapsed": false,
    "ExecuteTime": {
     "end_time": "2023-06-09T17:13:03.354766Z",
     "start_time": "2023-06-09T17:13:03.343096Z"
    }
   }
  },
  {
   "cell_type": "code",
   "execution_count": 97,
   "outputs": [
    {
     "data": {
      "text/plain": "'/Users/theomathieu/Documents/Stage/Code/Dataset002_rootsegV2/imagesTr/mri_001_0003.nii.gz'"
     },
     "execution_count": 97,
     "metadata": {},
     "output_type": "execute_result"
    }
   ],
   "source": [
    "mri = f\"{PATH_nnUNet}mri_001_0003.nii.gz\"\n",
    "mri"
   ],
   "metadata": {
    "collapsed": false,
    "ExecuteTime": {
     "end_time": "2023-06-01T15:31:59.056360Z",
     "start_time": "2023-06-01T15:31:59.051733Z"
    }
   }
  },
  {
   "cell_type": "code",
   "execution_count": 20,
   "outputs": [
    {
     "name": "stdout",
     "output_type": "stream",
     "text": [
      "\r\n",
      "--\r\n",
      "Spinal Cord Toolbox (git-master-136d58af7f06f57c648764a24f09904e4943616c*)\r\n",
      "\r\n",
      "sct_image -setorient LPI -i /Users/theomathieu/Documents/Stage/Code/unfSCT/root-manual/sub-unfSCT003_T2w_mask.nii.gz\r\n",
      "--\r\n",
      "\r\n",
      "\u001B[0m/Users/theomathieu/Documents/Stage/Code/unfSCT/root-manual/sub-unfSCT003_T2w_mask.nii.gz\u001B[0m\r\n",
      "\u001B[0mGenerate output files...\u001B[0m\r\n",
      "\u001B[33mFile /Users/theomathieu/Documents/Stage/Code/unfSCT/root-manual/sub-unfSCT003_T2w_mask.nii.gz already exists. Will overwrite it.\u001B[0m\r\n",
      "\u001B[0m\r\n",
      "Done! To view results, type:\u001B[0m\r\n",
      "\u001B[92mfsleyes /Users/theomathieu/Documents/Stage/Code/unfSCT/root-manual/sub-unfSCT003_T2w_mask.nii.gz &\r\n",
      "\u001B[0m\r\n"
     ]
    }
   ],
   "source": [
    "!sct_image -setorient LPI -i $test"
   ],
   "metadata": {
    "collapsed": false,
    "ExecuteTime": {
     "end_time": "2023-06-09T17:13:09.077427Z",
     "start_time": "2023-06-09T17:13:05.465833Z"
    }
   }
  },
  {
   "cell_type": "code",
   "execution_count": null,
   "outputs": [],
   "source": [],
   "metadata": {
    "collapsed": false
   }
  }
 ],
 "metadata": {
  "kernelspec": {
   "display_name": "Python 3",
   "language": "python",
   "name": "python3"
  },
  "language_info": {
   "codemirror_mode": {
    "name": "ipython",
    "version": 2
   },
   "file_extension": ".py",
   "mimetype": "text/x-python",
   "name": "python",
   "nbconvert_exporter": "python",
   "pygments_lexer": "ipython2",
   "version": "2.7.6"
  }
 },
 "nbformat": 4,
 "nbformat_minor": 0
}
