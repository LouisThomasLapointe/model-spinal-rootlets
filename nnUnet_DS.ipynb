{
 "cells": [
  {
   "cell_type": "code",
   "execution_count": 69,
   "metadata": {
    "collapsed": true,
    "ExecuteTime": {
     "end_time": "2023-05-29T13:40:31.213826Z",
     "start_time": "2023-05-29T13:40:31.210297Z"
    }
   },
   "outputs": [],
   "source": [
    "import os\n",
    "import shutil\n",
    "import pandas as pd\n",
    "\n",
    "PATH = \"/Users/theomathieu/Documents/Stage/Code/ds004507\"\n",
    "img = \"/Users/theomathieu/Documents/Stage/Code/Dataset002_rootseg/imagesTr\"\n",
    "img_label = \"/Users/theomathieu/Documents/Stage/Code/Dataset002_rootseg/labelsTr\"\n",
    "test=\"/Users/theomathieu/Documents/Stage/Code/Dataset002_rootseg/imagesTs\""
   ]
  },
  {
   "cell_type": "code",
   "execution_count": 70,
   "outputs": [
    {
     "data": {
      "text/plain": "['sub-010',\n 'sub-011',\n '.DS_Store',\n 'derivatives',\n 'CHANGES',\n 'sub-002',\n 'sub-005',\n 'sub-004',\n 'README',\n 'sub-003',\n 'dataset_description.json',\n 'participants.json',\n 'participants.tsv',\n '.git',\n 'sub-006',\n 'sub-008',\n 'sub-009',\n 'sub-007']"
     },
     "execution_count": 70,
     "metadata": {},
     "output_type": "execute_result"
    }
   ],
   "source": [
    "os.listdir(f\"{PATH}\")"
   ],
   "metadata": {
    "collapsed": false,
    "ExecuteTime": {
     "end_time": "2023-05-29T13:40:31.383708Z",
     "start_time": "2023-05-29T13:40:31.380781Z"
    }
   }
  },
  {
   "cell_type": "code",
   "execution_count": 71,
   "outputs": [
    {
     "name": "stdout",
     "output_type": "stream",
     "text": [
      "/Users/theomathieu/Documents/Stage/Code/ds004507/sub-002/ses-headNormal/anat/sub-002_ses-headNormal_T2w.nii.gz\n",
      "/Users/theomathieu/Documents/Stage/Code/ds004507/sub-002/ses-headUp/anat/sub-002_ses-headUp_T2w.nii.gz\n",
      "/Users/theomathieu/Documents/Stage/Code/ds004507/sub-003/ses-headNormal/anat/sub-003_ses-headNormal_T2w.nii.gz\n",
      "/Users/theomathieu/Documents/Stage/Code/ds004507/sub-003/ses-headUp/anat/sub-003_ses-headUp_T2w.nii.gz\n",
      "/Users/theomathieu/Documents/Stage/Code/ds004507/sub-004/ses-headNormal/anat/sub-004_ses-headNormal_T2w.nii.gz\n",
      "/Users/theomathieu/Documents/Stage/Code/ds004507/sub-004/ses-headUp/anat/sub-004_ses-headUp_T2w.nii.gz\n",
      "/Users/theomathieu/Documents/Stage/Code/ds004507/sub-005/ses-headNormal/anat/sub-005_ses-headNormal_T2w.nii.gz\n",
      "/Users/theomathieu/Documents/Stage/Code/ds004507/sub-005/ses-headUp/anat/sub-005_ses-headUp_T2w.nii.gz\n",
      "/Users/theomathieu/Documents/Stage/Code/ds004507/sub-006/ses-headNormal/anat/sub-006_ses-headNormal_T2w.nii.gz\n",
      "/Users/theomathieu/Documents/Stage/Code/ds004507/sub-006/ses-headUp/anat/sub-006_ses-headUp_T2w.nii.gz\n",
      "/Users/theomathieu/Documents/Stage/Code/ds004507/sub-007/ses-headNormal/anat/sub-007_ses-headNormal_T2w.nii.gz\n",
      "/Users/theomathieu/Documents/Stage/Code/ds004507/sub-007/ses-headUp/anat/sub-007_ses-headUp_T2w.nii.gz\n",
      "/Users/theomathieu/Documents/Stage/Code/ds004507/sub-008/ses-headNormal/anat/sub-008_ses-headNormal_T2w.nii.gz\n",
      "/Users/theomathieu/Documents/Stage/Code/ds004507/sub-008/ses-headUp/anat/sub-008_ses-headUp_T2w.nii.gz\n",
      "/Users/theomathieu/Documents/Stage/Code/ds004507/sub-009/ses-headNormal/anat/sub-009_ses-headNormal_T2w.nii.gz\n",
      "/Users/theomathieu/Documents/Stage/Code/ds004507/sub-009/ses-headUp/anat/sub-009_ses-headUp_T2w.nii.gz\n",
      "/Users/theomathieu/Documents/Stage/Code/ds004507/sub-010/ses-headNormal/anat/sub-010_ses-headNormal_T2w.nii.gz\n",
      "/Users/theomathieu/Documents/Stage/Code/ds004507/sub-010/ses-headUp/anat/sub-010_ses-headUp_T2w.nii.gz\n",
      "/Users/theomathieu/Documents/Stage/Code/ds004507/sub-011/ses-headNormal/anat/sub-011_ses-headNormal_T2w.nii.gz\n",
      "/Users/theomathieu/Documents/Stage/Code/ds004507/sub-011/ses-headUp/anat/sub-011_ses-headUp_T2w.nii.gz\n"
     ]
    }
   ],
   "source": [
    "position = [\"Normal\", \"Up\"]\n",
    "count = 1\n",
    "dict = {\"raw\": [], \"nnU\":[]}\n",
    "for s in range(2, 12):\n",
    "    sub = f\"sub-{s:03d}\"\n",
    "    for pos in position:\n",
    "        img_name = f\"mri_{count:03d}_0003.nii.gz\"\n",
    "        label_name = f\"mri_{count:03d}.nii.gz\"\n",
    "        mri= f\"{PATH}/{sub}/ses-head{pos}/anat/{sub}_ses-head{pos}_T2w.nii.gz\"\n",
    "        print(mri)\n",
    "        label= f\"{PATH}/derivatives/labels/{sub}/ses-head{pos}/anat/{sub}_ses-head{pos}_T2w_root-manual.nii.gz\"\n",
    "        #shutil.copyfile(f\"{mri}\", f\"{test}/{img_name}\")\n",
    "        shutil.copyfile(f\"{mri}\", f\"{img}/{img_name}\")\n",
    "        shutil.copyfile(f\"{label}\", f\"{img_label}/{label_name}\")\n",
    "        dict[\"raw\"].append(f\"{sub}_ses-head{pos}_T2w_root-manual.nii.gz\")\n",
    "        dict[\"nnU\"].append(f\"mri_{count:03d}.nii.gz\")\n",
    "        count+=1"
   ],
   "metadata": {
    "collapsed": false,
    "ExecuteTime": {
     "end_time": "2023-05-29T13:40:31.895967Z",
     "start_time": "2023-05-29T13:40:31.523810Z"
    }
   }
  },
  {
   "cell_type": "markdown",
   "source": [],
   "metadata": {
    "collapsed": false
   }
  },
  {
   "cell_type": "code",
   "execution_count": 72,
   "outputs": [],
   "source": [
    "pd_df = pd.DataFrame.from_dict(dict)\n",
    "pd_df.to_csv(\"new_name.csv\", index=False)"
   ],
   "metadata": {
    "collapsed": false,
    "ExecuteTime": {
     "end_time": "2023-05-29T13:40:35.168110Z",
     "start_time": "2023-05-29T13:40:35.166146Z"
    }
   }
  },
  {
   "cell_type": "code",
   "execution_count": null,
   "outputs": [],
   "source": [],
   "metadata": {
    "collapsed": false
   }
  }
 ],
 "metadata": {
  "kernelspec": {
   "display_name": "Python 3",
   "language": "python",
   "name": "python3"
  },
  "language_info": {
   "codemirror_mode": {
    "name": "ipython",
    "version": 2
   },
   "file_extension": ".py",
   "mimetype": "text/x-python",
   "name": "python",
   "nbconvert_exporter": "python",
   "pygments_lexer": "ipython2",
   "version": "2.7.6"
  }
 },
 "nbformat": 4,
 "nbformat_minor": 0
}
