{
 "cells": [
  {
   "cell_type": "markdown",
   "source": [
    "### Create nnUNetV2 dataset from ds004507 dataset"
   ],
   "metadata": {
    "collapsed": false
   }
  },
  {
   "cell_type": "code",
   "execution_count": 75,
   "outputs": [],
   "source": [
    "import os\n",
    "import shutil\n",
    "import pandas as pd\n",
    "PATH = \"/Users/theomathieu/Documents/Stage/Code/ds004507\"\n",
    "img = \"/Users/theomathieu/Documents/Stage/Code/Dataset002_rootseg/imagesTr\"\n",
    "img_label = \"/Users/theomathieu/Documents/Stage/Code/Dataset002_rootseg/labelsTr\"\n",
    "test=\"/Users/theomathieu/Documents/Stage/Code/Dataset002_rootseg/imagesTs\""
   ],
   "metadata": {
    "collapsed": false,
    "ExecuteTime": {
     "end_time": "2023-05-29T15:12:17.736272Z",
     "start_time": "2023-05-29T15:12:17.733881Z"
    }
   }
  },
  {
   "cell_type": "code",
   "execution_count": 76,
   "outputs": [
    {
     "data": {
      "text/plain": "['sub-010',\n 'sub-011',\n '.DS_Store',\n 'derivatives',\n 'CHANGES',\n 'sub-002',\n 'sub-005',\n 'sub-004',\n 'README',\n 'sub-003',\n 'dataset_description.json',\n 'participants.json',\n 'participants.tsv',\n '.git',\n 'sub-006',\n 'sub-008',\n 'sub-009',\n 'sub-007']"
     },
     "execution_count": 76,
     "metadata": {},
     "output_type": "execute_result"
    }
   ],
   "source": [
    "os.listdir(f\"{PATH}\")"
   ],
   "metadata": {
    "collapsed": false,
    "ExecuteTime": {
     "end_time": "2023-05-29T15:12:17.894277Z",
     "start_time": "2023-05-29T15:12:17.888236Z"
    }
   }
  },
  {
   "cell_type": "code",
   "execution_count": 77,
   "outputs": [],
   "source": [
    "position = [\"Normal\", \"Up\"]\n",
    "count = 1\n",
    "dict = {\"raw\": [], \"nnU\":[]}\n",
    "for s in range(2, 12):\n",
    "    sub = f\"sub-{s:03d}\"\n",
    "    for pos in position:\n",
    "        #img_name = f\"mri_{count:03d}_0003.nii.gz\"\n",
    "        #label_name = f\"mri_{count:03d}.nii.gz\"\n",
    "        #mri= f\"{PATH}/{sub}/ses-head{pos}/anat/{sub}_ses-head{pos}_T2w.nii.gz\"\n",
    "        #print(mri)\n",
    "        #label= f\"{PATH}/derivatives/labels/{sub}/ses-head{pos}/anat/{sub}_ses-head{pos}_T2w_root-manual.nii.gz\"\n",
    "        #shutil.copyfile(f\"{mri}\", f\"{test}/{img_name}\")\n",
    "        #shutil.copyfile(f\"{mri}\", f\"{img}/{img_name}\")\n",
    "        #shutil.copyfile(f\"{label}\", f\"{img_label}/{label_name}\")\n",
    "        dict[\"raw\"].append(f\"{sub}_ses-head{pos}_T2w_root-manual.nii.gz\")\n",
    "        dict[\"nnU\"].append(f\"mri_{count:03d}.nii.gz\")\n",
    "        count+=1"
   ],
   "metadata": {
    "collapsed": false,
    "ExecuteTime": {
     "end_time": "2023-05-29T15:12:18.045417Z",
     "start_time": "2023-05-29T15:12:18.041994Z"
    }
   }
  },
  {
   "cell_type": "markdown",
   "source": [],
   "metadata": {
    "collapsed": false
   }
  },
  {
   "cell_type": "code",
   "execution_count": 78,
   "outputs": [],
   "source": [
    "pd_df = pd.DataFrame.from_dict(dict)\n",
    "pd_df.to_csv(\"new_name.csv\", index=False)"
   ],
   "metadata": {
    "collapsed": false,
    "ExecuteTime": {
     "end_time": "2023-05-29T15:12:18.817257Z",
     "start_time": "2023-05-29T15:12:18.813361Z"
    }
   }
  },
  {
   "cell_type": "code",
   "execution_count": null,
   "outputs": [],
   "source": [],
   "metadata": {
    "collapsed": false
   }
  }
 ],
 "metadata": {
  "kernelspec": {
   "display_name": "Python 3",
   "language": "python",
   "name": "python3"
  },
  "language_info": {
   "codemirror_mode": {
    "name": "ipython",
    "version": 2
   },
   "file_extension": ".py",
   "mimetype": "text/x-python",
   "name": "python",
   "nbconvert_exporter": "python",
   "pygments_lexer": "ipython2",
   "version": "2.7.6"
  }
 },
 "nbformat": 4,
 "nbformat_minor": 0
}
