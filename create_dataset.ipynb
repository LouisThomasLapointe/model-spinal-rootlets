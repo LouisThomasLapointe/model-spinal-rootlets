{
 "cells": [
  {
   "cell_type": "markdown",
   "source": [
    "### Notebook to get T2w image from a BIDS dataset and place it in a folder with nnUNetV2 format"
   ],
   "metadata": {
    "collapsed": false
   }
  },
  {
   "cell_type": "code",
   "execution_count": 65,
   "outputs": [],
   "source": [
    "import os\n",
    "import pandas as pd\n",
    "import glob\n",
    "import shutil\n",
    "PATH_IN=\"/Users/theomathieu/Documents/Stage/Code/data-multi-subject\"\n",
    "PATH_OUT=\"/Users/theomathieu/Documents/Stage/Code/data-multi-subject-nnUNet\""
   ],
   "metadata": {
    "collapsed": false,
    "ExecuteTime": {
     "end_time": "2023-06-12T19:12:29.942924Z",
     "start_time": "2023-06-12T19:12:29.934199Z"
    }
   }
  },
  {
   "cell_type": "code",
   "execution_count": 66,
   "outputs": [
    {
     "data": {
      "text/plain": "               sex  age  height  weight date_of_scan institution_id  \\\nparticipant_id                                                        \nsub-amu01        M   28   176.0    70.0   2019-02-12            amu   \nsub-amu02        M   28   183.0    67.0   2019-02-13            amu   \nsub-amu03        F   28   163.0    76.0   2019-02-13            amu   \nsub-amu04        F   44   163.0    55.0   2019-03-01            amu   \nsub-amu05        F   39   175.0    66.0   2019-03-01            amu   \n\n                  institution manufacturer manufacturers_model_name  \\\nparticipant_id                                                        \nsub-amu01       AMU - CEMEREM      Siemens                    Verio   \nsub-amu02       AMU - CEMEREM      Siemens                    Verio   \nsub-amu03       AMU - CEMEREM      Siemens                    Verio   \nsub-amu04       AMU - CEMEREM      Siemens                    Verio   \nsub-amu05       AMU - CEMEREM      Siemens                    Verio   \n\n               receive_coil_name software_versions       researcher pathology  \\\nparticipant_id                                                                  \nsub-amu01             NeckMatrix      syngo_MR_B17  Virginie Callot        HC   \nsub-amu02             NeckMatrix      syngo_MR_B17  Virginie Callot        HC   \nsub-amu03             NeckMatrix      syngo_MR_B17  Virginie Callot        HC   \nsub-amu04             NeckMatrix      syngo_MR_B17  Virginie Callot        HC   \nsub-amu05             NeckMatrix      syngo_MR_B17  Virginie Callot        HC   \n\n                                                          notes  \nparticipant_id                                                   \nsub-amu01                                                   NaN  \nsub-amu02       disc protrusion Th2/3, visualised central canal  \nsub-amu03                         disc protrusion C3/4 and C5/6  \nsub-amu04                                  disc protrusion C6/7  \nsub-amu05              disc protrusion C4/5/6 and mild kyphosis  ",
      "text/html": "<div>\n<style scoped>\n    .dataframe tbody tr th:only-of-type {\n        vertical-align: middle;\n    }\n\n    .dataframe tbody tr th {\n        vertical-align: top;\n    }\n\n    .dataframe thead th {\n        text-align: right;\n    }\n</style>\n<table border=\"1\" class=\"dataframe\">\n  <thead>\n    <tr style=\"text-align: right;\">\n      <th></th>\n      <th>sex</th>\n      <th>age</th>\n      <th>height</th>\n      <th>weight</th>\n      <th>date_of_scan</th>\n      <th>institution_id</th>\n      <th>institution</th>\n      <th>manufacturer</th>\n      <th>manufacturers_model_name</th>\n      <th>receive_coil_name</th>\n      <th>software_versions</th>\n      <th>researcher</th>\n      <th>pathology</th>\n      <th>notes</th>\n    </tr>\n    <tr>\n      <th>participant_id</th>\n      <th></th>\n      <th></th>\n      <th></th>\n      <th></th>\n      <th></th>\n      <th></th>\n      <th></th>\n      <th></th>\n      <th></th>\n      <th></th>\n      <th></th>\n      <th></th>\n      <th></th>\n      <th></th>\n    </tr>\n  </thead>\n  <tbody>\n    <tr>\n      <th>sub-amu01</th>\n      <td>M</td>\n      <td>28</td>\n      <td>176.0</td>\n      <td>70.0</td>\n      <td>2019-02-12</td>\n      <td>amu</td>\n      <td>AMU - CEMEREM</td>\n      <td>Siemens</td>\n      <td>Verio</td>\n      <td>NeckMatrix</td>\n      <td>syngo_MR_B17</td>\n      <td>Virginie Callot</td>\n      <td>HC</td>\n      <td>NaN</td>\n    </tr>\n    <tr>\n      <th>sub-amu02</th>\n      <td>M</td>\n      <td>28</td>\n      <td>183.0</td>\n      <td>67.0</td>\n      <td>2019-02-13</td>\n      <td>amu</td>\n      <td>AMU - CEMEREM</td>\n      <td>Siemens</td>\n      <td>Verio</td>\n      <td>NeckMatrix</td>\n      <td>syngo_MR_B17</td>\n      <td>Virginie Callot</td>\n      <td>HC</td>\n      <td>disc protrusion Th2/3, visualised central canal</td>\n    </tr>\n    <tr>\n      <th>sub-amu03</th>\n      <td>F</td>\n      <td>28</td>\n      <td>163.0</td>\n      <td>76.0</td>\n      <td>2019-02-13</td>\n      <td>amu</td>\n      <td>AMU - CEMEREM</td>\n      <td>Siemens</td>\n      <td>Verio</td>\n      <td>NeckMatrix</td>\n      <td>syngo_MR_B17</td>\n      <td>Virginie Callot</td>\n      <td>HC</td>\n      <td>disc protrusion C3/4 and C5/6</td>\n    </tr>\n    <tr>\n      <th>sub-amu04</th>\n      <td>F</td>\n      <td>44</td>\n      <td>163.0</td>\n      <td>55.0</td>\n      <td>2019-03-01</td>\n      <td>amu</td>\n      <td>AMU - CEMEREM</td>\n      <td>Siemens</td>\n      <td>Verio</td>\n      <td>NeckMatrix</td>\n      <td>syngo_MR_B17</td>\n      <td>Virginie Callot</td>\n      <td>HC</td>\n      <td>disc protrusion C6/7</td>\n    </tr>\n    <tr>\n      <th>sub-amu05</th>\n      <td>F</td>\n      <td>39</td>\n      <td>175.0</td>\n      <td>66.0</td>\n      <td>2019-03-01</td>\n      <td>amu</td>\n      <td>AMU - CEMEREM</td>\n      <td>Siemens</td>\n      <td>Verio</td>\n      <td>NeckMatrix</td>\n      <td>syngo_MR_B17</td>\n      <td>Virginie Callot</td>\n      <td>HC</td>\n      <td>disc protrusion C4/5/6 and mild kyphosis</td>\n    </tr>\n  </tbody>\n</table>\n</div>"
     },
     "execution_count": 66,
     "metadata": {},
     "output_type": "execute_result"
    }
   ],
   "source": [
    "df_participant = pd.read_table(f\"{PATH_IN}/participants.tsv\", index_col=0)\n",
    "df_participant.head()"
   ],
   "metadata": {
    "collapsed": false,
    "ExecuteTime": {
     "end_time": "2023-06-12T19:12:30.154275Z",
     "start_time": "2023-06-12T19:12:30.139210Z"
    }
   }
  },
  {
   "cell_type": "code",
   "execution_count": 67,
   "outputs": [],
   "source": [
    "list_sub = glob.glob(f\"{PATH_IN}/sub*\")"
   ],
   "metadata": {
    "collapsed": false,
    "ExecuteTime": {
     "end_time": "2023-06-12T19:12:30.351635Z",
     "start_time": "2023-06-12T19:12:30.345639Z"
    }
   }
  },
  {
   "cell_type": "code",
   "execution_count": 68,
   "outputs": [],
   "source": [
    "sub_with_mri = []\n",
    "old_new = {\"original\":[], \"new\":[]}\n",
    "for i,sub in enumerate(list_sub):\n",
    "    mri = glob.glob(f\"{sub}/anat/*T2w.nii.gz\")[0]\n",
    "    sub_with_mri.append(mri)\n",
    "    mri_split = mri.split(\"/\")\n",
    "    sub_name = mri_split[-1]\n",
    "    old_new[\"original\"].append(sub_name)\n",
    "    new_name = f\"{sub_name.split('_')[0]}_{i+1:03d}_0003.nii.gz\"\n",
    "    old_new[\"new\"].append(new_name)\n",
    "    #print(f\"{PATH_OUT}/{new_name}\")\n",
    "    shutil.copyfile(mri, f\"{PATH_OUT}/{new_name}\")"
   ],
   "metadata": {
    "collapsed": false,
    "ExecuteTime": {
     "end_time": "2023-06-12T19:12:34.417236Z",
     "start_time": "2023-06-12T19:12:30.776683Z"
    }
   }
  },
  {
   "cell_type": "code",
   "execution_count": 69,
   "outputs": [
    {
     "data": {
      "text/plain": "                 original                          new\n0    sub-mgh01_T2w.nii.gz    sub-mgh01_001_0003.nii.gz\n1    sub-ubc01_T2w.nii.gz    sub-ubc01_002_0003.nii.gz\n2    sub-ubc06_T2w.nii.gz    sub-ubc06_003_0003.nii.gz\n3    sub-mgh06_T2w.nii.gz    sub-mgh06_004_0003.nii.gz\n4  sub-milan07_T2w.nii.gz  sub-milan07_005_0003.nii.gz",
      "text/html": "<div>\n<style scoped>\n    .dataframe tbody tr th:only-of-type {\n        vertical-align: middle;\n    }\n\n    .dataframe tbody tr th {\n        vertical-align: top;\n    }\n\n    .dataframe thead th {\n        text-align: right;\n    }\n</style>\n<table border=\"1\" class=\"dataframe\">\n  <thead>\n    <tr style=\"text-align: right;\">\n      <th></th>\n      <th>original</th>\n      <th>new</th>\n    </tr>\n  </thead>\n  <tbody>\n    <tr>\n      <th>0</th>\n      <td>sub-mgh01_T2w.nii.gz</td>\n      <td>sub-mgh01_001_0003.nii.gz</td>\n    </tr>\n    <tr>\n      <th>1</th>\n      <td>sub-ubc01_T2w.nii.gz</td>\n      <td>sub-ubc01_002_0003.nii.gz</td>\n    </tr>\n    <tr>\n      <th>2</th>\n      <td>sub-ubc06_T2w.nii.gz</td>\n      <td>sub-ubc06_003_0003.nii.gz</td>\n    </tr>\n    <tr>\n      <th>3</th>\n      <td>sub-mgh06_T2w.nii.gz</td>\n      <td>sub-mgh06_004_0003.nii.gz</td>\n    </tr>\n    <tr>\n      <th>4</th>\n      <td>sub-milan07_T2w.nii.gz</td>\n      <td>sub-milan07_005_0003.nii.gz</td>\n    </tr>\n  </tbody>\n</table>\n</div>"
     },
     "execution_count": 69,
     "metadata": {},
     "output_type": "execute_result"
    }
   ],
   "source": [
    "new_df = pd.DataFrame.from_dict(old_new)\n",
    "new_df.head()"
   ],
   "metadata": {
    "collapsed": false,
    "ExecuteTime": {
     "end_time": "2023-06-12T19:12:34.423062Z",
     "start_time": "2023-06-12T19:12:34.419813Z"
    }
   }
  },
  {
   "cell_type": "code",
   "execution_count": 70,
   "outputs": [],
   "source": [
    "new_df.to_csv(f\"{PATH_OUT}/mri_name.csv\", index=False)"
   ],
   "metadata": {
    "collapsed": false,
    "ExecuteTime": {
     "end_time": "2023-06-12T19:12:34.427954Z",
     "start_time": "2023-06-12T19:12:34.424144Z"
    }
   }
  },
  {
   "cell_type": "code",
   "execution_count": null,
   "outputs": [],
   "source": [],
   "metadata": {
    "collapsed": false
   }
  }
 ],
 "metadata": {
  "kernelspec": {
   "display_name": "Python 3",
   "language": "python",
   "name": "python3"
  },
  "language_info": {
   "codemirror_mode": {
    "name": "ipython",
    "version": 2
   },
   "file_extension": ".py",
   "mimetype": "text/x-python",
   "name": "python",
   "nbconvert_exporter": "python",
   "pygments_lexer": "ipython2",
   "version": "2.7.6"
  }
 },
 "nbformat": 4,
 "nbformat_minor": 0
}
