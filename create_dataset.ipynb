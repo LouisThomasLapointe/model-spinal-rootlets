{
 "cells": [
  {
   "cell_type": "code",
   "execution_count": 65,
   "metadata": {
    "collapsed": true,
    "ExecuteTime": {
     "end_time": "2023-06-12T19:12:29.942924Z",
     "start_time": "2023-06-12T19:12:29.934199Z"
    }
   },
   "outputs": [],
   "source": [
    "import os\n",
    "import pandas as pd\n",
    "import glob\n",
    "import shutil\n",
    "PATH_IN=\"/Users/theomathieu/Documents/Stage/Code/data-multi-subject\"\n",
    "PATH_OUT=\"/Users/theomathieu/Documents/Stage/Code/data-multi-subject-nnUNet\""
   ]
  },
  {
   "cell_type": "code",
   "execution_count": 66,
   "outputs": [
    {
     "data": {
      "text/plain": "               sex  age  height  weight date_of_scan institution_id  \\\nparticipant_id                                                        \nsub-amu01        M   28   176.0    70.0   2019-02-12            amu   \nsub-amu02        M   28   183.0    67.0   2019-02-13            amu   \nsub-amu03        F   28   163.0    76.0   2019-02-13            amu   \nsub-amu04        F   44   163.0    55.0   2019-03-01            amu   \nsub-amu05        F   39   175.0    66.0   2019-03-01            amu   \n\n                  institution manufacturer manufacturers_model_name  \\\nparticipant_id                                                        \nsub-amu01       AMU - CEMEREM      Siemens                    Verio   \nsub-amu02       AMU - CEMEREM      Siemens                    Verio   \nsub-amu03       AMU - CEMEREM      Siemens                    Verio   \nsub-amu04       AMU - CEMEREM      Siemens                    Verio   \nsub-amu05       AMU - CEMEREM      Siemens                    Verio   \n\n               receive_coil_name software_versions       researcher pathology  \\\nparticipant_id                                                                  \nsub-amu01             NeckMatrix      syngo_MR_B17  Virginie Callot        HC   \nsub-amu02             NeckMatrix      syngo_MR_B17  Virginie Callot        HC   \nsub-amu03             NeckMatrix      syngo_MR_B17  Virginie Callot        HC   \nsub-amu04             NeckMatrix      syngo_MR_B17  Virginie Callot        HC   \nsub-amu05             NeckMatrix      syngo_MR_B17  Virginie Callot        HC   \n\n                                                          notes  \nparticipant_id                                                   \nsub-amu01                                                   NaN  \nsub-amu02       disc protrusion Th2/3, visualised central canal  \nsub-amu03                         disc protrusion C3/4 and C5/6  \nsub-amu04                                  disc protrusion C6/7  \nsub-amu05              disc protrusion C4/5/6 and mild kyphosis  ",
      "text/html": "<div>\n<style scoped>\n    .dataframe tbody tr th:only-of-type {\n        vertical-align: middle;\n    }\n\n    .dataframe tbody tr th {\n        vertical-align: top;\n    }\n\n    .dataframe thead th {\n        text-align: right;\n    }\n</style>\n<table border=\"1\" class=\"dataframe\">\n  <thead>\n    <tr style=\"text-align: right;\">\n      <th></th>\n      <th>sex</th>\n      <th>age</th>\n      <th>height</th>\n      <th>weight</th>\n      <th>date_of_scan</th>\n      <th>institution_id</th>\n      <th>institution</th>\n      <th>manufacturer</th>\n      <th>manufacturers_model_name</th>\n      <th>receive_coil_name</th>\n      <th>software_versions</th>\n      <th>researcher</th>\n      <th>pathology</th>\n      <th>notes</th>\n    </tr>\n    <tr>\n      <th>participant_id</th>\n      <th></th>\n      <th></th>\n      <th></th>\n      <th></th>\n      <th></th>\n      <th></th>\n      <th></th>\n      <th></th>\n      <th></th>\n      <th></th>\n      <th></th>\n      <th></th>\n      <th></th>\n      <th></th>\n    </tr>\n  </thead>\n  <tbody>\n    <tr>\n      <th>sub-amu01</th>\n      <td>M</td>\n      <td>28</td>\n      <td>176.0</td>\n      <td>70.0</td>\n      <td>2019-02-12</td>\n      <td>amu</td>\n      <td>AMU - CEMEREM</td>\n      <td>Siemens</td>\n      <td>Verio</td>\n      <td>NeckMatrix</td>\n      <td>syngo_MR_B17</td>\n      <td>Virginie Callot</td>\n      <td>HC</td>\n      <td>NaN</td>\n    </tr>\n    <tr>\n      <th>sub-amu02</th>\n      <td>M</td>\n      <td>28</td>\n      <td>183.0</td>\n      <td>67.0</td>\n      <td>2019-02-13</td>\n      <td>amu</td>\n      <td>AMU - CEMEREM</td>\n      <td>Siemens</td>\n      <td>Verio</td>\n      <td>NeckMatrix</td>\n      <td>syngo_MR_B17</td>\n      <td>Virginie Callot</td>\n      <td>HC</td>\n      <td>disc protrusion Th2/3, visualised central canal</td>\n    </tr>\n    <tr>\n      <th>sub-amu03</th>\n      <td>F</td>\n      <td>28</td>\n      <td>163.0</td>\n      <td>76.0</td>\n      <td>2019-02-13</td>\n      <td>amu</td>\n      <td>AMU - CEMEREM</td>\n      <td>Siemens</td>\n      <td>Verio</td>\n      <td>NeckMatrix</td>\n      <td>syngo_MR_B17</td>\n      <td>Virginie Callot</td>\n      <td>HC</td>\n      <td>disc protrusion C3/4 and C5/6</td>\n    </tr>\n    <tr>\n      <th>sub-amu04</th>\n      <td>F</td>\n      <td>44</td>\n      <td>163.0</td>\n      <td>55.0</td>\n      <td>2019-03-01</td>\n      <td>amu</td>\n      <td>AMU - CEMEREM</td>\n      <td>Siemens</td>\n      <td>Verio</td>\n      <td>NeckMatrix</td>\n      <td>syngo_MR_B17</td>\n      <td>Virginie Callot</td>\n      <td>HC</td>\n      <td>disc protrusion C6/7</td>\n    </tr>\n    <tr>\n      <th>sub-amu05</th>\n      <td>F</td>\n      <td>39</td>\n      <td>175.0</td>\n      <td>66.0</td>\n      <td>2019-03-01</td>\n      <td>amu</td>\n      <td>AMU - CEMEREM</td>\n      <td>Siemens</td>\n      <td>Verio</td>\n      <td>NeckMatrix</td>\n      <td>syngo_MR_B17</td>\n      <td>Virginie Callot</td>\n      <td>HC</td>\n      <td>disc protrusion C4/5/6 and mild kyphosis</td>\n    </tr>\n  </tbody>\n</table>\n</div>"
     },
     "execution_count": 66,
     "metadata": {},
     "output_type": "execute_result"
    }
   ],
   "source": [
    "df_participant = pd.read_table(f\"{PATH_IN}/participants.tsv\", index_col=0)\n",
    "df_participant.head()"
   ],
   "metadata": {
    "collapsed": false,
    "ExecuteTime": {
     "end_time": "2023-06-12T19:12:30.154275Z",
     "start_time": "2023-06-12T19:12:30.139210Z"
    }
   }
  },
  {
   "cell_type": "code",
   "execution_count": 67,
   "outputs": [],
   "source": [
    "list_sub = glob.glob(f\"{PATH_IN}/sub*\")"
   ],
   "metadata": {
    "collapsed": false,
    "ExecuteTime": {
     "end_time": "2023-06-12T19:12:30.351635Z",
     "start_time": "2023-06-12T19:12:30.345639Z"
    }
   }
  },
  {
   "cell_type": "code",
   "execution_count": 68,
   "outputs": [],
   "source": [
    "sub_with_mri = []\n",
    "old_new = {\"original\":[], \"new\":[]}\n",
    "for i,sub in enumerate(list_sub):\n",
    "    mri = glob.glob(f\"{sub}/anat/*T2w.nii.gz\")[0]\n",
    "    sub_with_mri.append(mri)\n",
    "    mri_split = mri.split(\"/\")\n",
    "    sub_name = mri_split[-1]\n",
    "    old_new[\"original\"].append(sub_name)\n",
    "    new_name = f\"{sub_name.split('_')[0]}_{i+1:03d}_0003.nii.gz\"\n",
    "    old_new[\"new\"].append(new_name)\n",
    "    #print(f\"{PATH_OUT}/{new_name}\")\n",
    "    shutil.copyfile(mri, f\"{PATH_OUT}/{new_name}\")"
   ],
   "metadata": {
    "collapsed": false,
    "ExecuteTime": {
     "end_time": "2023-06-12T19:12:34.417236Z",
     "start_time": "2023-06-12T19:12:30.776683Z"
    }
   }
  },
  {
   "cell_type": "code",
   "execution_count": 69,
   "outputs": [
    {
     "data": {
      "text/plain": "                 original                          new\n0    sub-mgh01_T2w.nii.gz    sub-mgh01_001_0003.nii.gz\n1    sub-ubc01_T2w.nii.gz    sub-ubc01_002_0003.nii.gz\n2    sub-ubc06_T2w.nii.gz    sub-ubc06_003_0003.nii.gz\n3    sub-mgh06_T2w.nii.gz    sub-mgh06_004_0003.nii.gz\n4  sub-milan07_T2w.nii.gz  sub-milan07_005_0003.nii.gz",
      "text/html": "<div>\n<style scoped>\n    .dataframe tbody tr th:only-of-type {\n        vertical-align: middle;\n    }\n\n    .dataframe tbody tr th {\n        vertical-align: top;\n    }\n\n    .dataframe thead th {\n        text-align: right;\n    }\n</style>\n<table border=\"1\" class=\"dataframe\">\n  <thead>\n    <tr style=\"text-align: right;\">\n      <th></th>\n      <th>original</th>\n      <th>new</th>\n    </tr>\n  </thead>\n  <tbody>\n    <tr>\n      <th>0</th>\n      <td>sub-mgh01_T2w.nii.gz</td>\n      <td>sub-mgh01_001_0003.nii.gz</td>\n    </tr>\n    <tr>\n      <th>1</th>\n      <td>sub-ubc01_T2w.nii.gz</td>\n      <td>sub-ubc01_002_0003.nii.gz</td>\n    </tr>\n    <tr>\n      <th>2</th>\n      <td>sub-ubc06_T2w.nii.gz</td>\n      <td>sub-ubc06_003_0003.nii.gz</td>\n    </tr>\n    <tr>\n      <th>3</th>\n      <td>sub-mgh06_T2w.nii.gz</td>\n      <td>sub-mgh06_004_0003.nii.gz</td>\n    </tr>\n    <tr>\n      <th>4</th>\n      <td>sub-milan07_T2w.nii.gz</td>\n      <td>sub-milan07_005_0003.nii.gz</td>\n    </tr>\n  </tbody>\n</table>\n</div>"
     },
     "execution_count": 69,
     "metadata": {},
     "output_type": "execute_result"
    }
   ],
   "source": [
    "new_df = pd.DataFrame.from_dict(old_new)\n",
    "new_df.head()"
   ],
   "metadata": {
    "collapsed": false,
    "ExecuteTime": {
     "end_time": "2023-06-12T19:12:34.423062Z",
     "start_time": "2023-06-12T19:12:34.419813Z"
    }
   }
  },
  {
   "cell_type": "code",
   "execution_count": 70,
   "outputs": [],
   "source": [
    "new_df.to_csv(f\"{PATH_OUT}/mri_name.csv\", index=False)"
   ],
   "metadata": {
    "collapsed": false,
    "ExecuteTime": {
     "end_time": "2023-06-12T19:12:34.427954Z",
     "start_time": "2023-06-12T19:12:34.424144Z"
    }
   }
  },
  {
   "cell_type": "code",
   "execution_count": 71,
   "outputs": [
    {
     "data": {
      "text/plain": "['/Users/theomathieu/Documents/Stage/Code/data-multi-subject/sub-mgh01/anat/sub-mgh01_T2w.nii.gz',\n '/Users/theomathieu/Documents/Stage/Code/data-multi-subject/sub-ubc01/anat/sub-ubc01_T2w.nii.gz',\n '/Users/theomathieu/Documents/Stage/Code/data-multi-subject/sub-ubc06/anat/sub-ubc06_T2w.nii.gz',\n '/Users/theomathieu/Documents/Stage/Code/data-multi-subject/sub-mgh06/anat/sub-mgh06_T2w.nii.gz',\n '/Users/theomathieu/Documents/Stage/Code/data-multi-subject/sub-milan07/anat/sub-milan07_T2w.nii.gz',\n '/Users/theomathieu/Documents/Stage/Code/data-multi-subject/sub-beijingPrisma04/anat/sub-beijingPrisma04_T2w.nii.gz',\n '/Users/theomathieu/Documents/Stage/Code/data-multi-subject/sub-ucdavis02/anat/sub-ucdavis02_T2w.nii.gz',\n '/Users/theomathieu/Documents/Stage/Code/data-multi-subject/sub-cmrra06/anat/sub-cmrra06_T2w.nii.gz',\n '/Users/theomathieu/Documents/Stage/Code/data-multi-subject/sub-ucdavis05/anat/sub-ucdavis05_T2w.nii.gz',\n '/Users/theomathieu/Documents/Stage/Code/data-multi-subject/sub-beijingPrisma03/anat/sub-beijingPrisma03_T2w.nii.gz',\n '/Users/theomathieu/Documents/Stage/Code/data-multi-subject/sub-cmrra01/anat/sub-cmrra01_T2w.nii.gz',\n '/Users/theomathieu/Documents/Stage/Code/data-multi-subject/sub-vuiisIngenia05/anat/sub-vuiisIngenia05_T2w.nii.gz',\n '/Users/theomathieu/Documents/Stage/Code/data-multi-subject/sub-pavia01/anat/sub-pavia01_T2w.nii.gz',\n '/Users/theomathieu/Documents/Stage/Code/data-multi-subject/sub-sherbrooke05/anat/sub-sherbrooke05_T2w.nii.gz',\n '/Users/theomathieu/Documents/Stage/Code/data-multi-subject/sub-vuiisIngenia02/anat/sub-vuiisIngenia02_T2w.nii.gz',\n '/Users/theomathieu/Documents/Stage/Code/data-multi-subject/sub-pavia06/anat/sub-pavia06_T2w.nii.gz',\n '/Users/theomathieu/Documents/Stage/Code/data-multi-subject/sub-sherbrooke02/anat/sub-sherbrooke02_T2w.nii.gz',\n '/Users/theomathieu/Documents/Stage/Code/data-multi-subject/sub-milan06/anat/sub-milan06_T2w.nii.gz',\n '/Users/theomathieu/Documents/Stage/Code/data-multi-subject/sub-milan01/anat/sub-milan01_T2w.nii.gz',\n '/Users/theomathieu/Documents/Stage/Code/data-multi-subject/sub-vuiisIngenia03/anat/sub-vuiisIngenia03_T2w.nii.gz',\n '/Users/theomathieu/Documents/Stage/Code/data-multi-subject/sub-sherbrooke03/anat/sub-sherbrooke03_T2w.nii.gz',\n '/Users/theomathieu/Documents/Stage/Code/data-multi-subject/sub-vuiisIngenia04/anat/sub-vuiisIngenia04_T2w.nii.gz',\n '/Users/theomathieu/Documents/Stage/Code/data-multi-subject/sub-sherbrooke04/anat/sub-sherbrooke04_T2w.nii.gz',\n '/Users/theomathieu/Documents/Stage/Code/data-multi-subject/sub-ucdavis04/anat/sub-ucdavis04_T2w.nii.gz',\n '/Users/theomathieu/Documents/Stage/Code/data-multi-subject/sub-beijingPrisma02/anat/sub-beijingPrisma02_T2w.nii.gz',\n '/Users/theomathieu/Documents/Stage/Code/data-multi-subject/sub-beijingPrisma05/anat/sub-beijingPrisma05_T2w.nii.gz',\n '/Users/theomathieu/Documents/Stage/Code/data-multi-subject/sub-ucdavis03/anat/sub-ucdavis03_T2w.nii.gz',\n '/Users/theomathieu/Documents/Stage/Code/data-multi-subject/sub-tokyo750w02/anat/sub-tokyo750w02_T2w.nii.gz',\n '/Users/theomathieu/Documents/Stage/Code/data-multi-subject/sub-beijingGE01/anat/sub-beijingGE01_T2w.nii.gz',\n '/Users/theomathieu/Documents/Stage/Code/data-multi-subject/sub-tokyo750w05/anat/sub-tokyo750w05_T2w.nii.gz',\n '/Users/theomathieu/Documents/Stage/Code/data-multi-subject/sub-tehranS03/anat/sub-tehranS03_T2w.nii.gz',\n '/Users/theomathieu/Documents/Stage/Code/data-multi-subject/sub-vuiisAchieva03/anat/sub-vuiisAchieva03_T2w.nii.gz',\n '/Users/theomathieu/Documents/Stage/Code/data-multi-subject/sub-tehranS04/anat/sub-tehranS04_T2w.nii.gz',\n '/Users/theomathieu/Documents/Stage/Code/data-multi-subject/sub-vuiisAchieva04/anat/sub-vuiisAchieva04_T2w.nii.gz',\n '/Users/theomathieu/Documents/Stage/Code/data-multi-subject/sub-stanford05/anat/sub-stanford05_T2w.nii.gz',\n '/Users/theomathieu/Documents/Stage/Code/data-multi-subject/sub-stanford02/anat/sub-stanford02_T2w.nii.gz',\n '/Users/theomathieu/Documents/Stage/Code/data-multi-subject/sub-mpicbs05/anat/sub-mpicbs05_T2w.nii.gz',\n '/Users/theomathieu/Documents/Stage/Code/data-multi-subject/sub-hamburg03/anat/sub-hamburg03_T2w.nii.gz',\n '/Users/theomathieu/Documents/Stage/Code/data-multi-subject/sub-mniS04/anat/sub-mniS04_T2w.nii.gz',\n '/Users/theomathieu/Documents/Stage/Code/data-multi-subject/sub-mniS03/anat/sub-mniS03_T2w.nii.gz',\n '/Users/theomathieu/Documents/Stage/Code/data-multi-subject/sub-hamburg04/anat/sub-hamburg04_T2w.nii.gz',\n '/Users/theomathieu/Documents/Stage/Code/data-multi-subject/sub-mpicbs02/anat/sub-mpicbs02_T2w.nii.gz',\n '/Users/theomathieu/Documents/Stage/Code/data-multi-subject/sub-tehranS05/anat/sub-tehranS05_T2w.nii.gz',\n '/Users/theomathieu/Documents/Stage/Code/data-multi-subject/sub-vuiisAchieva05/anat/sub-vuiisAchieva05_T2w.nii.gz',\n '/Users/theomathieu/Documents/Stage/Code/data-multi-subject/sub-tehranS02/anat/sub-tehranS02_T2w.nii.gz',\n '/Users/theomathieu/Documents/Stage/Code/data-multi-subject/sub-vuiisAchieva02/anat/sub-vuiisAchieva02_T2w.nii.gz',\n '/Users/theomathieu/Documents/Stage/Code/data-multi-subject/sub-strasbourg06/anat/sub-strasbourg06_T2w.nii.gz',\n '/Users/theomathieu/Documents/Stage/Code/data-multi-subject/sub-tokyo750w04/anat/sub-tokyo750w04_T2w.nii.gz',\n '/Users/theomathieu/Documents/Stage/Code/data-multi-subject/sub-strasbourg01/anat/sub-strasbourg01_T2w.nii.gz',\n '/Users/theomathieu/Documents/Stage/Code/data-multi-subject/sub-tokyo750w03/anat/sub-tokyo750w03_T2w.nii.gz',\n '/Users/theomathieu/Documents/Stage/Code/data-multi-subject/sub-cardiff06/anat/sub-cardiff06_T2w.nii.gz',\n '/Users/theomathieu/Documents/Stage/Code/data-multi-subject/sub-hamburg05/anat/sub-hamburg05_T2w.nii.gz',\n '/Users/theomathieu/Documents/Stage/Code/data-multi-subject/sub-mpicbs03/anat/sub-mpicbs03_T2w.nii.gz',\n '/Users/theomathieu/Documents/Stage/Code/data-multi-subject/sub-mniS02/anat/sub-mniS02_T2w.nii.gz',\n '/Users/theomathieu/Documents/Stage/Code/data-multi-subject/sub-cardiff01/anat/sub-cardiff01_T2w.nii.gz',\n '/Users/theomathieu/Documents/Stage/Code/data-multi-subject/sub-mniS05/anat/sub-mniS05_T2w.nii.gz',\n '/Users/theomathieu/Documents/Stage/Code/data-multi-subject/sub-hamburg02/anat/sub-hamburg02_T2w.nii.gz',\n '/Users/theomathieu/Documents/Stage/Code/data-multi-subject/sub-stanford03/anat/sub-stanford03_T2w.nii.gz',\n '/Users/theomathieu/Documents/Stage/Code/data-multi-subject/sub-stanford04/anat/sub-stanford04_T2w.nii.gz',\n '/Users/theomathieu/Documents/Stage/Code/data-multi-subject/sub-cmrrb06/anat/sub-cmrrb06_T2w.nii.gz',\n '/Users/theomathieu/Documents/Stage/Code/data-multi-subject/sub-barcelona05/anat/sub-barcelona05_T2w.nii.gz',\n '/Users/theomathieu/Documents/Stage/Code/data-multi-subject/sub-cmrrb01/anat/sub-cmrrb01_T2w.nii.gz',\n '/Users/theomathieu/Documents/Stage/Code/data-multi-subject/sub-barcelona02/anat/sub-barcelona02_T2w.nii.gz',\n '/Users/theomathieu/Documents/Stage/Code/data-multi-subject/sub-amu01/anat/sub-amu01_T2w.nii.gz',\n '/Users/theomathieu/Documents/Stage/Code/data-multi-subject/sub-vallHebron07/anat/sub-vallHebron07_T2w.nii.gz',\n '/Users/theomathieu/Documents/Stage/Code/data-multi-subject/sub-balgrist03/anat/sub-balgrist03_T2w.nii.gz',\n '/Users/theomathieu/Documents/Stage/Code/data-multi-subject/sub-unf07/anat/sub-unf07_T2w.nii.gz',\n '/Users/theomathieu/Documents/Stage/Code/data-multi-subject/sub-beijingVerio02/anat/sub-beijingVerio02_T2w.nii.gz',\n '/Users/theomathieu/Documents/Stage/Code/data-multi-subject/sub-tokyoSkyra07/anat/sub-tokyoSkyra07_T2w.nii.gz',\n '/Users/theomathieu/Documents/Stage/Code/data-multi-subject/sub-dresden02/anat/sub-dresden02_T2w.nii.gz',\n '/Users/theomathieu/Documents/Stage/Code/data-multi-subject/sub-balgrist04/anat/sub-balgrist04_T2w.nii.gz',\n '/Users/theomathieu/Documents/Stage/Code/data-multi-subject/sub-brnoUhb07/anat/sub-brnoUhb07_T2w.nii.gz',\n '/Users/theomathieu/Documents/Stage/Code/data-multi-subject/sub-mniPilot1/anat/sub-mniPilot1_T2w.nii.gz',\n '/Users/theomathieu/Documents/Stage/Code/data-multi-subject/sub-barcelona03/anat/sub-barcelona03_T2w.nii.gz',\n '/Users/theomathieu/Documents/Stage/Code/data-multi-subject/sub-cmrrb07/anat/sub-cmrrb07_T2w.nii.gz',\n '/Users/theomathieu/Documents/Stage/Code/data-multi-subject/sub-barcelona04/anat/sub-barcelona04_T2w.nii.gz',\n '/Users/theomathieu/Documents/Stage/Code/data-multi-subject/sub-balgrist05/anat/sub-balgrist05_T2w.nii.gz',\n '/Users/theomathieu/Documents/Stage/Code/data-multi-subject/sub-unf01/anat/sub-unf01_T2w.nii.gz',\n '/Users/theomathieu/Documents/Stage/Code/data-multi-subject/sub-beijingVerio04/anat/sub-beijingVerio04_T2w.nii.gz',\n '/Users/theomathieu/Documents/Stage/Code/data-multi-subject/sub-perform06/anat/sub-perform06_T2w.nii.gz',\n '/Users/theomathieu/Documents/Stage/Code/data-multi-subject/sub-brnoUhb06/anat/sub-brnoUhb06_T2w.nii.gz',\n '/Users/theomathieu/Documents/Stage/Code/data-multi-subject/sub-tokyoSkyra01/anat/sub-tokyoSkyra01_T2w.nii.gz',\n '/Users/theomathieu/Documents/Stage/Code/data-multi-subject/sub-unf06/anat/sub-unf06_T2w.nii.gz',\n '/Users/theomathieu/Documents/Stage/Code/data-multi-subject/sub-balgrist02/anat/sub-balgrist02_T2w.nii.gz',\n '/Users/theomathieu/Documents/Stage/Code/data-multi-subject/sub-brnoUhb01/anat/sub-brnoUhb01_T2w.nii.gz',\n '/Users/theomathieu/Documents/Stage/Code/data-multi-subject/sub-perform01/anat/sub-perform01_T2w.nii.gz',\n '/Users/theomathieu/Documents/Stage/Code/data-multi-subject/sub-tokyoSkyra06/anat/sub-tokyoSkyra06_T2w.nii.gz',\n '/Users/theomathieu/Documents/Stage/Code/data-multi-subject/sub-beijingVerio03/anat/sub-beijingVerio03_T2w.nii.gz',\n '/Users/theomathieu/Documents/Stage/Code/data-multi-subject/sub-brnoUhb08/anat/sub-brnoUhb08_T2w.nii.gz',\n '/Users/theomathieu/Documents/Stage/Code/data-multi-subject/sub-vallHebron01/anat/sub-vallHebron01_T2w.nii.gz',\n '/Users/theomathieu/Documents/Stage/Code/data-multi-subject/sub-vallHebron06/anat/sub-vallHebron06_T2w.nii.gz',\n '/Users/theomathieu/Documents/Stage/Code/data-multi-subject/sub-oxfordFmrib09/anat/sub-oxfordFmrib09_T2w.nii.gz',\n '/Users/theomathieu/Documents/Stage/Code/data-multi-subject/sub-ucl02/anat/sub-ucl02_T2w.nii.gz',\n '/Users/theomathieu/Documents/Stage/Code/data-multi-subject/sub-juntendo750w06/anat/sub-juntendo750w06_T2w.nii.gz',\n '/Users/theomathieu/Documents/Stage/Code/data-multi-subject/sub-nottwil03/anat/sub-nottwil03_T2w.nii.gz',\n '/Users/theomathieu/Documents/Stage/Code/data-multi-subject/sub-nottwil04/anat/sub-nottwil04_T2w.nii.gz',\n '/Users/theomathieu/Documents/Stage/Code/data-multi-subject/sub-juntendo750w01/anat/sub-juntendo750w01_T2w.nii.gz',\n '/Users/theomathieu/Documents/Stage/Code/data-multi-subject/sub-ucl05/anat/sub-ucl05_T2w.nii.gz',\n '/Users/theomathieu/Documents/Stage/Code/data-multi-subject/sub-fslPrisma03/anat/sub-fslPrisma03_T2w.nii.gz',\n '/Users/theomathieu/Documents/Stage/Code/data-multi-subject/sub-mountSinai05/anat/sub-mountSinai05_T2w.nii.gz',\n '/Users/theomathieu/Documents/Stage/Code/data-multi-subject/sub-tokyoIngenia07/anat/sub-tokyoIngenia07_T2w.nii.gz',\n '/Users/theomathieu/Documents/Stage/Code/data-multi-subject/sub-oxfordFmrib07/anat/sub-oxfordFmrib07_T2w.nii.gz',\n '/Users/theomathieu/Documents/Stage/Code/data-multi-subject/sub-queensland04/anat/sub-queensland04_T2w.nii.gz',\n '/Users/theomathieu/Documents/Stage/Code/data-multi-subject/sub-mountSinai02/anat/sub-mountSinai02_T2w.nii.gz',\n '/Users/theomathieu/Documents/Stage/Code/data-multi-subject/sub-fslPrisma04/anat/sub-fslPrisma04_T2w.nii.gz',\n '/Users/theomathieu/Documents/Stage/Code/data-multi-subject/sub-queensland03/anat/sub-queensland03_T2w.nii.gz',\n '/Users/theomathieu/Documents/Stage/Code/data-multi-subject/sub-fslAchieva05/anat/sub-fslAchieva05_T2w.nii.gz',\n '/Users/theomathieu/Documents/Stage/Code/data-multi-subject/sub-geneva04/anat/sub-geneva04_T2w.nii.gz',\n '/Users/theomathieu/Documents/Stage/Code/data-multi-subject/sub-fslAchieva02/anat/sub-fslAchieva02_T2w.nii.gz',\n '/Users/theomathieu/Documents/Stage/Code/data-multi-subject/sub-geneva03/anat/sub-geneva03_T2w.nii.gz',\n '/Users/theomathieu/Documents/Stage/Code/data-multi-subject/sub-oxfordOhba02/anat/sub-oxfordOhba02_T2w.nii.gz',\n '/Users/theomathieu/Documents/Stage/Code/data-multi-subject/sub-oxfordOhba05/anat/sub-oxfordOhba05_T2w.nii.gz',\n '/Users/theomathieu/Documents/Stage/Code/data-multi-subject/sub-mountSinai03/anat/sub-mountSinai03_T2w.nii.gz',\n '/Users/theomathieu/Documents/Stage/Code/data-multi-subject/sub-tokyoIngenia01/anat/sub-tokyoIngenia01_T2w.nii.gz',\n '/Users/theomathieu/Documents/Stage/Code/data-multi-subject/sub-fslPrisma05/anat/sub-fslPrisma05_T2w.nii.gz',\n '/Users/theomathieu/Documents/Stage/Code/data-multi-subject/sub-brnoCeitec01/anat/sub-brnoCeitec01_T2w.nii.gz',\n '/Users/theomathieu/Documents/Stage/Code/data-multi-subject/sub-queensland02/anat/sub-queensland02_T2w.nii.gz',\n '/Users/theomathieu/Documents/Stage/Code/data-multi-subject/sub-oxfordFmrib01/anat/sub-oxfordFmrib01_T2w.nii.gz',\n '/Users/theomathieu/Documents/Stage/Code/data-multi-subject/sub-fslPrisma02/anat/sub-fslPrisma02_T2w.nii.gz',\n '/Users/theomathieu/Documents/Stage/Code/data-multi-subject/sub-tokyoIngenia06/anat/sub-tokyoIngenia06_T2w.nii.gz',\n '/Users/theomathieu/Documents/Stage/Code/data-multi-subject/sub-mountSinai04/anat/sub-mountSinai04_T2w.nii.gz',\n '/Users/theomathieu/Documents/Stage/Code/data-multi-subject/sub-oxfordFmrib06/anat/sub-oxfordFmrib06_T2w.nii.gz',\n '/Users/theomathieu/Documents/Stage/Code/data-multi-subject/sub-queensland05/anat/sub-queensland05_T2w.nii.gz',\n '/Users/theomathieu/Documents/Stage/Code/data-multi-subject/sub-brnoCeitec06/anat/sub-brnoCeitec06_T2w.nii.gz',\n '/Users/theomathieu/Documents/Stage/Code/data-multi-subject/sub-ucl04/anat/sub-ucl04_T2w.nii.gz',\n '/Users/theomathieu/Documents/Stage/Code/data-multi-subject/sub-nottwil05/anat/sub-nottwil05_T2w.nii.gz',\n '/Users/theomathieu/Documents/Stage/Code/data-multi-subject/sub-oxfordFmrib08/anat/sub-oxfordFmrib08_T2w.nii.gz',\n '/Users/theomathieu/Documents/Stage/Code/data-multi-subject/sub-nottwil02/anat/sub-nottwil02_T2w.nii.gz',\n '/Users/theomathieu/Documents/Stage/Code/data-multi-subject/sub-ucl03/anat/sub-ucl03_T2w.nii.gz',\n '/Users/theomathieu/Documents/Stage/Code/data-multi-subject/sub-nwu06/anat/sub-nwu06_T2w.nii.gz',\n '/Users/theomathieu/Documents/Stage/Code/data-multi-subject/sub-oxfordOhba04/anat/sub-oxfordOhba04_T2w.nii.gz',\n '/Users/theomathieu/Documents/Stage/Code/data-multi-subject/sub-nwu01/anat/sub-nwu01_T2w.nii.gz',\n '/Users/theomathieu/Documents/Stage/Code/data-multi-subject/sub-oxfordOhba03/anat/sub-oxfordOhba03_T2w.nii.gz',\n '/Users/theomathieu/Documents/Stage/Code/data-multi-subject/sub-fslAchieva03/anat/sub-fslAchieva03_T2w.nii.gz',\n '/Users/theomathieu/Documents/Stage/Code/data-multi-subject/sub-geneva02/anat/sub-geneva02_T2w.nii.gz',\n '/Users/theomathieu/Documents/Stage/Code/data-multi-subject/sub-fslAchieva04/anat/sub-fslAchieva04_T2w.nii.gz',\n '/Users/theomathieu/Documents/Stage/Code/data-multi-subject/sub-geneva05/anat/sub-geneva05_T2w.nii.gz',\n '/Users/theomathieu/Documents/Stage/Code/data-multi-subject/sub-ucdavis06/anat/sub-ucdavis06_T2w.nii.gz',\n '/Users/theomathieu/Documents/Stage/Code/data-multi-subject/sub-oxfordFmrib11/anat/sub-oxfordFmrib11_T2w.nii.gz',\n '/Users/theomathieu/Documents/Stage/Code/data-multi-subject/sub-cmrra02/anat/sub-cmrra02_T2w.nii.gz',\n '/Users/theomathieu/Documents/Stage/Code/data-multi-subject/sub-ucdavis01/anat/sub-ucdavis01_T2w.nii.gz',\n '/Users/theomathieu/Documents/Stage/Code/data-multi-subject/sub-cmrra05/anat/sub-cmrra05_T2w.nii.gz',\n '/Users/theomathieu/Documents/Stage/Code/data-multi-subject/sub-vuiisIngenia01/anat/sub-vuiisIngenia01_T2w.nii.gz',\n '/Users/theomathieu/Documents/Stage/Code/data-multi-subject/sub-pavia05/anat/sub-pavia05_T2w.nii.gz',\n '/Users/theomathieu/Documents/Stage/Code/data-multi-subject/sub-sherbrooke01/anat/sub-sherbrooke01_T2w.nii.gz',\n '/Users/theomathieu/Documents/Stage/Code/data-multi-subject/sub-vuiisIngenia06/anat/sub-vuiisIngenia06_T2w.nii.gz',\n '/Users/theomathieu/Documents/Stage/Code/data-multi-subject/sub-pavia02/anat/sub-pavia02_T2w.nii.gz',\n '/Users/theomathieu/Documents/Stage/Code/data-multi-subject/sub-sherbrooke06/anat/sub-sherbrooke06_T2w.nii.gz',\n '/Users/theomathieu/Documents/Stage/Code/data-multi-subject/sub-ubc05/anat/sub-ubc05_T2w.nii.gz',\n '/Users/theomathieu/Documents/Stage/Code/data-multi-subject/sub-mgh05/anat/sub-mgh05_T2w.nii.gz',\n '/Users/theomathieu/Documents/Stage/Code/data-multi-subject/sub-milan04/anat/sub-milan04_T2w.nii.gz',\n '/Users/theomathieu/Documents/Stage/Code/data-multi-subject/sub-mgh02/anat/sub-mgh02_T2w.nii.gz',\n '/Users/theomathieu/Documents/Stage/Code/data-multi-subject/sub-ubc02/anat/sub-ubc02_T2w.nii.gz',\n '/Users/theomathieu/Documents/Stage/Code/data-multi-subject/sub-milan03/anat/sub-milan03_T2w.nii.gz',\n '/Users/theomathieu/Documents/Stage/Code/data-multi-subject/sub-pavia03/anat/sub-pavia03_T2w.nii.gz',\n '/Users/theomathieu/Documents/Stage/Code/data-multi-subject/sub-sherbrooke07/anat/sub-sherbrooke07_T2w.nii.gz',\n '/Users/theomathieu/Documents/Stage/Code/data-multi-subject/sub-pavia04/anat/sub-pavia04_T2w.nii.gz',\n '/Users/theomathieu/Documents/Stage/Code/data-multi-subject/sub-cmrra04/anat/sub-cmrra04_T2w.nii.gz',\n '/Users/theomathieu/Documents/Stage/Code/data-multi-subject/sub-ucdavis07/anat/sub-ucdavis07_T2w.nii.gz',\n '/Users/theomathieu/Documents/Stage/Code/data-multi-subject/sub-oxfordFmrib10/anat/sub-oxfordFmrib10_T2w.nii.gz',\n '/Users/theomathieu/Documents/Stage/Code/data-multi-subject/sub-beijingPrisma01/anat/sub-beijingPrisma01_T2w.nii.gz',\n '/Users/theomathieu/Documents/Stage/Code/data-multi-subject/sub-cmrra03/anat/sub-cmrra03_T2w.nii.gz',\n '/Users/theomathieu/Documents/Stage/Code/data-multi-subject/sub-ubc03/anat/sub-ubc03_T2w.nii.gz',\n '/Users/theomathieu/Documents/Stage/Code/data-multi-subject/sub-mgh03/anat/sub-mgh03_T2w.nii.gz',\n '/Users/theomathieu/Documents/Stage/Code/data-multi-subject/sub-milan02/anat/sub-milan02_T2w.nii.gz',\n '/Users/theomathieu/Documents/Stage/Code/data-multi-subject/sub-mgh04/anat/sub-mgh04_T2w.nii.gz',\n '/Users/theomathieu/Documents/Stage/Code/data-multi-subject/sub-ubc04/anat/sub-ubc04_T2w.nii.gz',\n '/Users/theomathieu/Documents/Stage/Code/data-multi-subject/sub-milan05/anat/sub-milan05_T2w.nii.gz',\n '/Users/theomathieu/Documents/Stage/Code/data-multi-subject/sub-stanford01/anat/sub-stanford01_T2w.nii.gz',\n '/Users/theomathieu/Documents/Stage/Code/data-multi-subject/sub-mniS09/anat/sub-mniS09_T2w.nii.gz',\n '/Users/theomathieu/Documents/Stage/Code/data-multi-subject/sub-stanford06/anat/sub-stanford06_T2w.nii.gz',\n '/Users/theomathieu/Documents/Stage/Code/data-multi-subject/sub-cardiff04/anat/sub-cardiff04_T2w.nii.gz',\n '/Users/theomathieu/Documents/Stage/Code/data-multi-subject/sub-mpicbs01/anat/sub-mpicbs01_T2w.nii.gz',\n '/Users/theomathieu/Documents/Stage/Code/data-multi-subject/sub-cardiff03/anat/sub-cardiff03_T2w.nii.gz',\n '/Users/theomathieu/Documents/Stage/Code/data-multi-subject/sub-mpicbs06/anat/sub-mpicbs06_T2w.nii.gz',\n '/Users/theomathieu/Documents/Stage/Code/data-multi-subject/sub-mniS07/anat/sub-mniS07_T2w.nii.gz',\n '/Users/theomathieu/Documents/Stage/Code/data-multi-subject/sub-beijingGE02/anat/sub-beijingGE02_T2w.nii.gz',\n '/Users/theomathieu/Documents/Stage/Code/data-multi-subject/sub-strasbourg04/anat/sub-strasbourg04_T2w.nii.gz',\n '/Users/theomathieu/Documents/Stage/Code/data-multi-subject/sub-tokyo750w06/anat/sub-tokyo750w06_T2w.nii.gz',\n '/Users/theomathieu/Documents/Stage/Code/data-multi-subject/sub-strasbourg03/anat/sub-strasbourg03_T2w.nii.gz',\n '/Users/theomathieu/Documents/Stage/Code/data-multi-subject/sub-tokyo750w01/anat/sub-tokyo750w01_T2w.nii.gz',\n '/Users/theomathieu/Documents/Stage/Code/data-multi-subject/sub-cardiff02/anat/sub-cardiff02_T2w.nii.gz',\n '/Users/theomathieu/Documents/Stage/Code/data-multi-subject/sub-mniS06/anat/sub-mniS06_T2w.nii.gz',\n '/Users/theomathieu/Documents/Stage/Code/data-multi-subject/sub-mpicbs07/anat/sub-mpicbs07_T2w.nii.gz',\n '/Users/theomathieu/Documents/Stage/Code/data-multi-subject/sub-hamburg01/anat/sub-hamburg01_T2w.nii.gz',\n '/Users/theomathieu/Documents/Stage/Code/data-multi-subject/sub-cardiff05/anat/sub-cardiff05_T2w.nii.gz',\n '/Users/theomathieu/Documents/Stage/Code/data-multi-subject/sub-hamburg06/anat/sub-hamburg06_T2w.nii.gz',\n '/Users/theomathieu/Documents/Stage/Code/data-multi-subject/sub-mniS01/anat/sub-mniS01_T2w.nii.gz',\n '/Users/theomathieu/Documents/Stage/Code/data-multi-subject/sub-mniS08/anat/sub-mniS08_T2w.nii.gz',\n '/Users/theomathieu/Documents/Stage/Code/data-multi-subject/sub-tehranS01/anat/sub-tehranS01_T2w.nii.gz',\n '/Users/theomathieu/Documents/Stage/Code/data-multi-subject/sub-vuiisAchieva01/anat/sub-vuiisAchieva01_T2w.nii.gz',\n '/Users/theomathieu/Documents/Stage/Code/data-multi-subject/sub-tehranS06/anat/sub-tehranS06_T2w.nii.gz',\n '/Users/theomathieu/Documents/Stage/Code/data-multi-subject/sub-vuiisAchieva06/anat/sub-vuiisAchieva06_T2w.nii.gz',\n '/Users/theomathieu/Documents/Stage/Code/data-multi-subject/sub-strasbourg02/anat/sub-strasbourg02_T2w.nii.gz',\n '/Users/theomathieu/Documents/Stage/Code/data-multi-subject/sub-beijingGE04/anat/sub-beijingGE04_T2w.nii.gz',\n '/Users/theomathieu/Documents/Stage/Code/data-multi-subject/sub-strasbourg05/anat/sub-strasbourg05_T2w.nii.gz',\n '/Users/theomathieu/Documents/Stage/Code/data-multi-subject/sub-beijingGE03/anat/sub-beijingGE03_T2w.nii.gz',\n '/Users/theomathieu/Documents/Stage/Code/data-multi-subject/sub-tokyo750w07/anat/sub-tokyo750w07_T2w.nii.gz',\n '/Users/theomathieu/Documents/Stage/Code/data-multi-subject/sub-vallHebron03/anat/sub-vallHebron03_T2w.nii.gz',\n '/Users/theomathieu/Documents/Stage/Code/data-multi-subject/sub-vallHebron04/anat/sub-vallHebron04_T2w.nii.gz',\n '/Users/theomathieu/Documents/Stage/Code/data-multi-subject/sub-dresden01/anat/sub-dresden01_T2w.nii.gz',\n '/Users/theomathieu/Documents/Stage/Code/data-multi-subject/sub-unf03/anat/sub-unf03_T2w.nii.gz',\n '/Users/theomathieu/Documents/Stage/Code/data-multi-subject/sub-brnoUhb04/anat/sub-brnoUhb04_T2w.nii.gz',\n '/Users/theomathieu/Documents/Stage/Code/data-multi-subject/sub-perform04/anat/sub-perform04_T2w.nii.gz',\n '/Users/theomathieu/Documents/Stage/Code/data-multi-subject/sub-tokyoSkyra03/anat/sub-tokyoSkyra03_T2w.nii.gz',\n '/Users/theomathieu/Documents/Stage/Code/data-multi-subject/sub-unf04/anat/sub-unf04_T2w.nii.gz',\n '/Users/theomathieu/Documents/Stage/Code/data-multi-subject/sub-beijingVerio01/anat/sub-beijingVerio01_T2w.nii.gz',\n '/Users/theomathieu/Documents/Stage/Code/data-multi-subject/sub-perform03/anat/sub-perform03_T2w.nii.gz',\n '/Users/theomathieu/Documents/Stage/Code/data-multi-subject/sub-brnoUhb03/anat/sub-brnoUhb03_T2w.nii.gz',\n '/Users/theomathieu/Documents/Stage/Code/data-multi-subject/sub-tokyoSkyra04/anat/sub-tokyoSkyra04_T2w.nii.gz',\n '/Users/theomathieu/Documents/Stage/Code/data-multi-subject/sub-cmrrb02/anat/sub-cmrrb02_T2w.nii.gz',\n '/Users/theomathieu/Documents/Stage/Code/data-multi-subject/sub-barcelona01/anat/sub-barcelona01_T2w.nii.gz',\n '/Users/theomathieu/Documents/Stage/Code/data-multi-subject/sub-cmrrb05/anat/sub-cmrrb05_T2w.nii.gz',\n '/Users/theomathieu/Documents/Stage/Code/data-multi-subject/sub-barcelona06/anat/sub-barcelona06_T2w.nii.gz',\n '/Users/theomathieu/Documents/Stage/Code/data-multi-subject/sub-amu02/anat/sub-amu02_T2w.nii.gz',\n '/Users/theomathieu/Documents/Stage/Code/data-multi-subject/sub-amu05/anat/sub-amu05_T2w.nii.gz',\n '/Users/theomathieu/Documents/Stage/Code/data-multi-subject/sub-unf05/anat/sub-unf05_T2w.nii.gz',\n '/Users/theomathieu/Documents/Stage/Code/data-multi-subject/sub-balgrist01/anat/sub-balgrist01_T2w.nii.gz',\n '/Users/theomathieu/Documents/Stage/Code/data-multi-subject/sub-brnoUhb02/anat/sub-brnoUhb02_T2w.nii.gz',\n '/Users/theomathieu/Documents/Stage/Code/data-multi-subject/sub-perform02/anat/sub-perform02_T2w.nii.gz',\n '/Users/theomathieu/Documents/Stage/Code/data-multi-subject/sub-tokyoSkyra05/anat/sub-tokyoSkyra05_T2w.nii.gz',\n '/Users/theomathieu/Documents/Stage/Code/data-multi-subject/sub-balgrist06/anat/sub-balgrist06_T2w.nii.gz',\n '/Users/theomathieu/Documents/Stage/Code/data-multi-subject/sub-unf02/anat/sub-unf02_T2w.nii.gz',\n '/Users/theomathieu/Documents/Stage/Code/data-multi-subject/sub-perform05/anat/sub-perform05_T2w.nii.gz',\n '/Users/theomathieu/Documents/Stage/Code/data-multi-subject/sub-brnoUhb05/anat/sub-brnoUhb05_T2w.nii.gz',\n '/Users/theomathieu/Documents/Stage/Code/data-multi-subject/sub-tokyoSkyra02/anat/sub-tokyoSkyra02_T2w.nii.gz',\n '/Users/theomathieu/Documents/Stage/Code/data-multi-subject/sub-vallHebron05/anat/sub-vallHebron05_T2w.nii.gz',\n '/Users/theomathieu/Documents/Stage/Code/data-multi-subject/sub-vallHebron02/anat/sub-vallHebron02_T2w.nii.gz',\n '/Users/theomathieu/Documents/Stage/Code/data-multi-subject/sub-amu04/anat/sub-amu04_T2w.nii.gz',\n '/Users/theomathieu/Documents/Stage/Code/data-multi-subject/sub-amu03/anat/sub-amu03_T2w.nii.gz',\n '/Users/theomathieu/Documents/Stage/Code/data-multi-subject/sub-cmrrb04/anat/sub-cmrrb04_T2w.nii.gz',\n '/Users/theomathieu/Documents/Stage/Code/data-multi-subject/sub-cmrrb03/anat/sub-cmrrb03_T2w.nii.gz',\n '/Users/theomathieu/Documents/Stage/Code/data-multi-subject/sub-fslAchieva01/anat/sub-fslAchieva01_T2w.nii.gz',\n '/Users/theomathieu/Documents/Stage/Code/data-multi-subject/sub-fslAchieva06/anat/sub-fslAchieva06_T2w.nii.gz',\n '/Users/theomathieu/Documents/Stage/Code/data-multi-subject/sub-nwu04/anat/sub-nwu04_T2w.nii.gz',\n '/Users/theomathieu/Documents/Stage/Code/data-multi-subject/sub-nwu03/anat/sub-nwu03_T2w.nii.gz',\n '/Users/theomathieu/Documents/Stage/Code/data-multi-subject/sub-oxfordOhba01/anat/sub-oxfordOhba01_T2w.nii.gz',\n '/Users/theomathieu/Documents/Stage/Code/data-multi-subject/sub-juntendo750w02/anat/sub-juntendo750w02_T2w.nii.gz',\n '/Users/theomathieu/Documents/Stage/Code/data-multi-subject/sub-ucl06/anat/sub-ucl06_T2w.nii.gz',\n '/Users/theomathieu/Documents/Stage/Code/data-multi-subject/sub-ucl01/anat/sub-ucl01_T2w.nii.gz',\n '/Users/theomathieu/Documents/Stage/Code/data-multi-subject/sub-juntendo750w05/anat/sub-juntendo750w05_T2w.nii.gz',\n '/Users/theomathieu/Documents/Stage/Code/data-multi-subject/sub-tokyoIngenia03/anat/sub-tokyoIngenia03_T2w.nii.gz',\n '/Users/theomathieu/Documents/Stage/Code/data-multi-subject/sub-mountSinai01/anat/sub-mountSinai01_T2w.nii.gz',\n '/Users/theomathieu/Documents/Stage/Code/data-multi-subject/sub-oxfordFmrib03/anat/sub-oxfordFmrib03_T2w.nii.gz',\n '/Users/theomathieu/Documents/Stage/Code/data-multi-subject/sub-brnoCeitec03/anat/sub-brnoCeitec03_T2w.nii.gz',\n '/Users/theomathieu/Documents/Stage/Code/data-multi-subject/sub-mountSinai06/anat/sub-mountSinai06_T2w.nii.gz',\n '/Users/theomathieu/Documents/Stage/Code/data-multi-subject/sub-tokyoIngenia04/anat/sub-tokyoIngenia04_T2w.nii.gz',\n '/Users/theomathieu/Documents/Stage/Code/data-multi-subject/sub-brnoCeitec04/anat/sub-brnoCeitec04_T2w.nii.gz',\n '/Users/theomathieu/Documents/Stage/Code/data-multi-subject/sub-oxfordFmrib04/anat/sub-oxfordFmrib04_T2w.nii.gz',\n '/Users/theomathieu/Documents/Stage/Code/data-multi-subject/sub-nwu02/anat/sub-nwu02_T2w.nii.gz',\n '/Users/theomathieu/Documents/Stage/Code/data-multi-subject/sub-nwu05/anat/sub-nwu05_T2w.nii.gz',\n '/Users/theomathieu/Documents/Stage/Code/data-multi-subject/sub-geneva06/anat/sub-geneva06_T2w.nii.gz',\n '/Users/theomathieu/Documents/Stage/Code/data-multi-subject/sub-geneva01/anat/sub-geneva01_T2w.nii.gz',\n '/Users/theomathieu/Documents/Stage/Code/data-multi-subject/sub-fslPrisma01/anat/sub-fslPrisma01_T2w.nii.gz',\n '/Users/theomathieu/Documents/Stage/Code/data-multi-subject/sub-tokyoIngenia05/anat/sub-tokyoIngenia05_T2w.nii.gz',\n '/Users/theomathieu/Documents/Stage/Code/data-multi-subject/sub-oxfordFmrib05/anat/sub-oxfordFmrib05_T2w.nii.gz',\n '/Users/theomathieu/Documents/Stage/Code/data-multi-subject/sub-queensland06/anat/sub-queensland06_T2w.nii.gz',\n '/Users/theomathieu/Documents/Stage/Code/data-multi-subject/sub-brnoCeitec05/anat/sub-brnoCeitec05_T2w.nii.gz',\n '/Users/theomathieu/Documents/Stage/Code/data-multi-subject/sub-tokyoIngenia02/anat/sub-tokyoIngenia02_T2w.nii.gz',\n '/Users/theomathieu/Documents/Stage/Code/data-multi-subject/sub-fslPrisma06/anat/sub-fslPrisma06_T2w.nii.gz',\n '/Users/theomathieu/Documents/Stage/Code/data-multi-subject/sub-brnoCeitec02/anat/sub-brnoCeitec02_T2w.nii.gz',\n '/Users/theomathieu/Documents/Stage/Code/data-multi-subject/sub-queensland01/anat/sub-queensland01_T2w.nii.gz',\n '/Users/theomathieu/Documents/Stage/Code/data-multi-subject/sub-oxfordFmrib02/anat/sub-oxfordFmrib02_T2w.nii.gz',\n '/Users/theomathieu/Documents/Stage/Code/data-multi-subject/sub-nottwil01/anat/sub-nottwil01_T2w.nii.gz',\n '/Users/theomathieu/Documents/Stage/Code/data-multi-subject/sub-juntendo750w04/anat/sub-juntendo750w04_T2w.nii.gz',\n '/Users/theomathieu/Documents/Stage/Code/data-multi-subject/sub-juntendo750w03/anat/sub-juntendo750w03_T2w.nii.gz',\n '/Users/theomathieu/Documents/Stage/Code/data-multi-subject/sub-nottwil06/anat/sub-nottwil06_T2w.nii.gz']"
     },
     "execution_count": 71,
     "metadata": {},
     "output_type": "execute_result"
    }
   ],
   "source": [
    "sub_with_mri"
   ],
   "metadata": {
    "collapsed": false,
    "ExecuteTime": {
     "end_time": "2023-06-12T19:12:34.435232Z",
     "start_time": "2023-06-12T19:12:34.431537Z"
    }
   }
  },
  {
   "cell_type": "code",
   "execution_count": 72,
   "outputs": [],
   "source": [
    "f = open(f\"{PATH_IN}/file.txt\", \"w\")\n",
    "for path in sub_with_mri:\n",
    "    f.write(f\"{path} \")\n",
    "f.close()\n"
   ],
   "metadata": {
    "collapsed": false,
    "ExecuteTime": {
     "end_time": "2023-06-12T19:12:34.458185Z",
     "start_time": "2023-06-12T19:12:34.435799Z"
    }
   }
  },
  {
   "cell_type": "code",
   "execution_count": null,
   "outputs": [],
   "source": [],
   "metadata": {
    "collapsed": false
   }
  }
 ],
 "metadata": {
  "kernelspec": {
   "display_name": "Python 3",
   "language": "python",
   "name": "python3"
  },
  "language_info": {
   "codemirror_mode": {
    "name": "ipython",
    "version": 2
   },
   "file_extension": ".py",
   "mimetype": "text/x-python",
   "name": "python",
   "nbconvert_exporter": "python",
   "pygments_lexer": "ipython2",
   "version": "2.7.6"
  }
 },
 "nbformat": 4,
 "nbformat_minor": 0
}
