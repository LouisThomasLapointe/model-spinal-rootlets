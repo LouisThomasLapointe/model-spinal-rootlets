{
 "cells": [
  {
   "cell_type": "markdown",
   "source": [
    "# Get the image and the corresponding label. Compare them qform"
   ],
   "metadata": {
    "collapsed": false
   }
  },
  {
   "cell_type": "code",
   "execution_count": 120,
   "outputs": [],
   "source": [
    "import nrrd as nr\n",
    "import nibabel as nib\n",
    "import os\n",
    "import numpy as np"
   ],
   "metadata": {
    "collapsed": false,
    "ExecuteTime": {
     "end_time": "2023-05-17T21:09:55.128283Z",
     "start_time": "2023-05-17T21:09:55.122741Z"
    }
   }
  },
  {
   "cell_type": "code",
   "execution_count": 121,
   "outputs": [],
   "source": [
    "PATH_sct_large = \"../sct-testing-large/\"\n",
    "PATH_label = \"deleener_data/\"\n",
    "\n",
    "def get_sct_path(file):\n",
    "    return f\"{PATH_sct_large}{file}/anat/{file}_T2w.nii.gz\""
   ],
   "metadata": {
    "collapsed": false,
    "ExecuteTime": {
     "end_time": "2023-05-17T21:09:55.289268Z",
     "start_time": "2023-05-17T21:09:55.285835Z"
    }
   }
  },
  {
   "cell_type": "code",
   "execution_count": 122,
   "outputs": [],
   "source": [
    "#Correspondence between reference and label data based on `spinal_segments_prediction - data - phase 1.csv'.\n",
    "#unf\n",
    "Center1 = {\n",
    "    \"sct_004\": \"01\",\n",
    "    \"sct_005\": \"02\",\n",
    "    \"sct_006\": \"03\",\n",
    "    \"sct_007\": \"04\",\n",
    "    \"sct_008\": \"05\",\n",
    "    \"sct_009\": \"06\",\n",
    "    \"sct_011\": \"07\",\n",
    "    \"sct_012\": \"08\",\n",
    "    \"sct_013\": \"09\",\n",
    "    \"sct_014\": \"10\",\n",
    "    \"sct_015\": \"11\",\n",
    "    \"sct_016\": \"12\",\n",
    "    \"sct_017\": \"13\",\n",
    "    \"sct_018\": \"14\",\n",
    "    \"sct_019\": \"15\",\n",
    "    \"sct_022\": \"16\",\n",
    "    \"sct_024\": \"17\"}\n",
    "#paris\n",
    "Center2 = {\n",
    "    \"05\": \"01\",\n",
    "    \"15\": \"02\",\n",
    "    \"16\": \"03\",\n",
    "    \"39\": \"04\",\n",
    "    \"41\": \"05\",\n",
    "    \"42\": \"06\",\n",
    "    \"45\": \"07\",\n",
    "    \"47\": \"08\",\n",
    "    \"61\": \"09\",\n",
    "    \"62\": \"10\",\n",
    "    \"63\": \"11\",\n",
    "    \"66\": \"12\",\n",
    "    \"67\": \"13\",\n",
    "    \"68\": \"14\",\n",
    "    \"69\": \"15\",\n",
    "    \"80\": \"16\",\n",
    "    \"82\": \"17\",\n",
    "    \"83\": \"18\",\n",
    "    \"84\": \"19\",\n",
    "    \"87\": \"20\",\n",
    "    \"112\": \"21\",\n",
    "    \"115\": \"22\",\n",
    "    \"116\": \"23\",\n",
    "    \"117\": \"24\",\n",
    "}"
   ],
   "metadata": {
    "collapsed": false,
    "ExecuteTime": {
     "end_time": "2023-05-17T21:09:55.450358Z",
     "start_time": "2023-05-17T21:09:55.447514Z"
    }
   }
  },
  {
   "cell_type": "code",
   "execution_count": 123,
   "outputs": [],
   "source": [
    "def get_header(file):\n",
    "    \"\"\"\n",
    "    Return header and qform matrix the file\n",
    "    Accept .nii.gz and .nrrd extention\n",
    "    \"\"\"\n",
    "    ext = os.path.splitext(file)[1]\n",
    "    if ext == \".nrrd\":\n",
    "        header = nr.read_header(file)\n",
    "        matrix = header[\"space directions\"]\n",
    "    elif ext == \".gz\":\n",
    "        header = nib.load(file).header\n",
    "        x = header[\"srow_x\"]\n",
    "        y = header[\"srow_y\"]\n",
    "        z = header[\"srow_z\"]\n",
    "        matrix = np.vstack((x, y, z))\n",
    "    else:\n",
    "        raise Exception(f\"File extention of {file} not supported\")\n",
    "    return header, matrix\n"
   ],
   "metadata": {
    "collapsed": false,
    "ExecuteTime": {
     "end_time": "2023-05-17T21:09:55.613204Z",
     "start_time": "2023-05-17T21:09:55.609256Z"
    }
   }
  },
  {
   "cell_type": "code",
   "execution_count": 126,
   "outputs": [
    {
     "name": "stdout",
     "output_type": "stream",
     "text": [
      "Ref:sub-unfSCT004\n",
      "[[-6.0117296e-03 -2.5833905e-02  7.9956019e-01 -1.3209519e+01]\n",
      " [-7.7918077e-01  1.8132104e-01  0.0000000e+00  8.9816589e+01]\n",
      " [ 1.8122135e-01  7.7875239e-01  2.6524169e-02 -2.7307306e+02]]\n",
      "Label:01_t2-label.nrrd\n",
      "[[ 8.00000012e-01  3.63901229e-08  4.17830259e-09]\n",
      " [ 3.63901236e-08 -7.79180780e-01 -1.81321073e-01]\n",
      " [ 4.17830267e-09 -1.81321073e-01  7.79180780e-01]]\n",
      "######\n",
      "Ref:sub-unfSCT005\n",
      "[[-6.0117296e-03 -2.5833905e-02  7.9956019e-01 -1.3209519e+01]\n",
      " [-7.7918077e-01  1.8132104e-01  0.0000000e+00  8.1141891e+01]\n",
      " [ 1.8122135e-01  7.7875239e-01  2.6524169e-02 -1.8343454e+02]]\n",
      "Label:02_t2-label.nrrd\n",
      "[[ 7.99560218e-01 -1.10685630e-07 -2.65231477e-02]\n",
      " [-6.01161379e-03 -7.79180784e-01 -1.81221370e-01]\n",
      " [ 2.58328818e-02 -1.81321052e-01  7.78752436e-01]]\n",
      "######\n",
      "Ref:sub-unfSCT006\n",
      "[[ 0.0000000e+00  0.0000000e+00  8.0000001e-01 -2.2294432e+01]\n",
      " [-7.9842138e-01  5.0232418e-02  0.0000000e+00  1.3428831e+02]\n",
      " [ 5.0232418e-02  7.9842138e-01  0.0000000e+00 -2.7055518e+02]]\n",
      "Label:03_t2-label.nrrd\n",
      "[[ 7.99560218e-01 -1.10685630e-07 -2.65231477e-02]\n",
      " [-6.01161379e-03 -7.79180784e-01 -1.81221370e-01]\n",
      " [ 2.58328818e-02 -1.81321052e-01  7.78752436e-01]]\n",
      "######\n",
      "Ref:sub-unfSCT007\n",
      "[[ 8.0000114e-01  0.0000000e+00  0.0000000e+00 -2.1330645e+01]\n",
      " [ 0.0000000e+00  7.9842138e-01  5.0232418e-02 -1.2619125e+02]\n",
      " [ 0.0000000e+00 -5.0232418e-02  7.9842138e-01 -1.7260335e+02]]\n",
      "Label:04_t2-label.nrrd\n",
      "[[ 8.00000012e-01  4.24646629e-08  1.33450684e-09]\n",
      " [ 4.24646634e-08 -7.98421392e-01 -5.02324557e-02]\n",
      " [ 1.33450685e-09 -5.02324557e-02  7.98421392e-01]]\n",
      "######\n",
      "Ref:sub-unfSCT008\n",
      "[[ 7.98751712e-01 -2.18399992e-13  4.46571633e-02 -2.93695755e+01]\n",
      " [-2.69402270e-16  8.00000012e-01  3.91760019e-12 -1.14669876e+02]\n",
      " [-4.46571112e-02 -3.91119992e-12  7.98752606e-01 -1.46799774e+02]]\n",
      "Label:05_t2-label.nrrd\n",
      "[[ 8.00000012e-01  4.24646629e-08  1.33450684e-09]\n",
      " [ 4.24646634e-08 -7.98421392e-01 -5.02324557e-02]\n",
      " [ 1.33450685e-09 -5.02324557e-02  7.98421392e-01]]\n",
      "######\n",
      "Error on file No such file or no access: '../sct-testing-large/sub-unfSCT009/anat/sub-unfSCT009_T2w.nii.gz'\n",
      "######\n",
      "Ref:sub-unfSCT011\n",
      "[[ 7.9917693e-01 -1.7760000e-13  3.6290422e-02 -3.3835831e+01]\n",
      " [-1.1557602e-16  8.0000001e-01  3.9176002e-12 -1.1659758e+02]\n",
      " [-3.6290444e-02 -3.9135999e-12  7.9917645e-01 -1.7797409e+02]]\n",
      "Label:07_t2-label.nrrd\n",
      "[[ 7.99355584e-01  2.10272142e-08 -3.21040496e-02]\n",
      " [ 2.01996624e-08 -8.00000012e-01 -2.10272120e-08]\n",
      " [ 3.21040496e-02 -2.01996610e-08  7.99355584e-01]]\n",
      "######\n",
      "Ref:sub-unfSCT012\n",
      "[[ 7.99901962e-01 -6.15999968e-14  1.25658466e-02 -3.00864658e+01]\n",
      " [ 7.00124148e-17  8.00000012e-01  3.91760019e-12 -1.11778305e+02]\n",
      " [-1.25658568e-02 -3.91680004e-12  7.99901307e-01 -1.38354736e+02]]\n",
      "Label:08_t2-label.nrrd\n",
      "[[ 0.80000001  0.          0.        ]\n",
      " [ 0.         -0.80000001  0.        ]\n",
      " [ 0.          0.          0.80000001]]\n",
      "######\n",
      "Ref:sub-unfSCT013\n",
      "[[ 8.0000114e-01  0.0000000e+00  0.0000000e+00 -1.9416937e+01]\n",
      " [ 0.0000000e+00  8.0000001e-01  3.9176002e-12 -1.0310361e+02]\n",
      " [ 0.0000000e+00 -3.9176002e-12  8.0000001e-01 -1.4551324e+02]]\n",
      "Label:09_t2-label.nrrd\n",
      "[[ 7.99176525e-01  1.78922373e-08  3.62891373e-02]\n",
      " [ 1.87231262e-08 -8.00000012e-01 -1.78922370e-08]\n",
      " [-3.62891373e-02 -1.87231264e-08  7.99176525e-01]]\n",
      "######\n",
      "Ref:sub-unfSCT014\n",
      "[[ 7.99726307e-01  1.02400002e-13 -2.09415480e-02 -1.94520493e+01]\n",
      " [ 1.43971289e-16  8.00000012e-01  3.91760019e-12 -1.15151794e+02]\n",
      " [ 2.09415592e-02 -3.91600034e-12  7.99725890e-01 -1.22996811e+02]]\n",
      "Label:10_t2-label.nrrd\n",
      "[[ 7.99176525e-01  1.78922373e-08  3.62891373e-02]\n",
      " [ 1.87231262e-08 -8.00000012e-01 -1.78922370e-08]\n",
      " [-3.62891373e-02 -1.87231264e-08  7.99176525e-01]]\n",
      "######\n",
      "Ref:sub-unfSCT015\n",
      "[[ 0.0000000e+00  6.9812052e-03  7.9996955e-01 -2.9923510e+01]\n",
      " [-8.0000001e-01  0.0000000e+00  0.0000000e+00  1.4848193e+02]\n",
      " [ 0.0000000e+00  7.9996955e-01 -6.9812052e-03 -1.0528851e+02]]\n",
      "Label:11_t2-label.nrrd\n",
      "[[ 0.80000001  0.          0.        ]\n",
      " [ 0.         -0.80000001  0.        ]\n",
      " [ 0.          0.          0.80000001]]\n",
      "######\n",
      "Ref:sub-unfSCT016\n",
      "[[ 0.0000000e+00 -1.1169789e-02  7.9992205e-01 -2.6619478e+01]\n",
      " [-8.0000001e-01  0.0000000e+00  0.0000000e+00  1.3011185e+02]\n",
      " [ 0.0000000e+00  7.9992205e-01  1.1169789e-02 -1.1752914e+02]]\n",
      "Label:12_t2-label.nrrd\n",
      "[[ 7.99922002e-01  1.36249831e-08  1.11718077e-02]\n",
      " [ 1.38166003e-08 -8.00000012e-01 -1.36249829e-08]\n",
      " [-1.11718077e-02 -1.38166005e-08  7.99922002e-01]]\n",
      "######\n",
      "Ref:sub-unfSCT017\n",
      "[[   0.          0.          1.        -32.219284]\n",
      " [  -1.          0.          0.        211.7866  ]\n",
      " [   0.          1.         -0.       -139.32167 ]]\n",
      "Label:13_t2-label.nrrd\n",
      "[[ 0.80000001  0.          0.        ]\n",
      " [ 0.         -0.80000001  0.        ]\n",
      " [ 0.          0.          0.80000001]]\n",
      "######\n",
      "Error on file No such file or no access: '../sct-testing-large/sub-unfSCT018/anat/sub-unfSCT018_T2w.nii.gz'\n",
      "######\n",
      "Error on file No such file or no access: '../sct-testing-large/sub-unfSCT019/anat/sub-unfSCT019_T2w.nii.gz'\n",
      "######\n",
      "Error on file No such file or no access: '../sct-testing-large/sub-unfSCT022/anat/sub-unfSCT022_T2w.nii.gz'\n",
      "######\n",
      "Error on file No such file or no access: '../sct-testing-large/sub-unfSCT024/anat/sub-unfSCT024_T2w.nii.gz'\n",
      "######\n"
     ]
    }
   ],
   "source": [
    "## Center1 unf\n",
    "for sub in Center1:\n",
    "    reference = sub.split(\"_\")[1]\n",
    "    label = Center1[sub]\n",
    "    try:\n",
    "        nii_header, nii_matrix = get_header(get_sct_path(f\"sub-unfSCT{reference}\"), True)\n",
    "        nrrd_header, nrrd_matrix = get_header(f\"{PATH_label}center1_Cadotte/{label}_t2-label.nrrd\", True)\n",
    "        print(f\"Ref:sub-unfSCT{reference}\")\n",
    "        print(nii_matrix)\n",
    "        print(f\"Label:{label}_t2-label.nrrd\")\n",
    "        print(nrrd_matrix)\n",
    "    except FileNotFoundError as f:\n",
    "        print(f\"Error on file {f}\")\n",
    "    print(\"######\")"
   ],
   "metadata": {
    "collapsed": false,
    "ExecuteTime": {
     "end_time": "2023-05-17T21:21:11.250166Z",
     "start_time": "2023-05-17T21:21:10.848477Z"
    }
   }
  },
  {
   "cell_type": "code",
   "execution_count": null,
   "outputs": [],
   "source": [],
   "metadata": {
    "collapsed": false
   }
  }
 ],
 "metadata": {
  "kernelspec": {
   "display_name": "Python 3",
   "language": "python",
   "name": "python3"
  },
  "language_info": {
   "codemirror_mode": {
    "name": "ipython",
    "version": 2
   },
   "file_extension": ".py",
   "mimetype": "text/x-python",
   "name": "python",
   "nbconvert_exporter": "python",
   "pygments_lexer": "ipython2",
   "version": "2.7.6"
  }
 },
 "nbformat": 4,
 "nbformat_minor": 0
}
